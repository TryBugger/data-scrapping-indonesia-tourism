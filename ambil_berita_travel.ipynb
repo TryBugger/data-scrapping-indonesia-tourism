{
 "cells": [
  {
   "cell_type": "code",
   "execution_count": 20,
   "id": "d1e3d0ee-cc9f-4122-8d5f-a8cf2098745a",
   "metadata": {},
   "outputs": [],
   "source": [
    "from selenium.webdriver.common.by import By\n",
    "from selenium.webdriver.support.ui import WebDriverWait\n",
    "from selenium.webdriver.support import expected_conditions as EC\n",
    "from selenium.webdriver.common.keys import Keys\n",
    "from selenium.common.exceptions import NoSuchElementException, ElementNotInteractableException, TimeoutException, WebDriverException\n",
    "from selenium.common.exceptions import StaleElementReferenceException\n",
    "from selenium.webdriver.chrome.options import Options\n",
    "from selenium.webdriver.chrome.service import Service\n",
    "from selenium import webdriver\n",
    "from selenium.webdriver.chrome.service import Service as ChromeService\n",
    "from selenium.webdriver.common.action_chains import ActionChains\n",
    "\n",
    "from webdriver_manager.chrome import ChromeDriverManager\n",
    "from bs4 import BeautifulSoup as bs\n",
    "from requests_html import HTMLSession\n",
    "from csv import DictReader\n",
    "from seleniumwire import webdriver\n",
    "from user_agent import generate_user_agent, generate_navigator\n",
    "from selenium_stealth import stealth\n",
    "\n",
    "import requests\n",
    "from requests.packages.urllib3.exceptions import InsecureRequestWarning\n",
    "from requests.packages.urllib3 import disable_warnings\n",
    "\n",
    "from langdetect import detect, DetectorFactory\n",
    "from langdetect.lang_detect_exception import LangDetectException\n",
    "\n",
    "from IPython.display import clear_output, display\n",
    "from tqdm.auto import tqdm\n",
    "import datetime\n",
    "import traceback\n",
    "import gc\n",
    "import os\n",
    "import time\n",
    "import pandas as pd\n",
    "import json\n",
    "import dill\n",
    "import re"
   ]
  },
  {
   "cell_type": "code",
   "execution_count": 21,
   "id": "873e3355-c4f3-4433-ab13-7592dbca44a2",
   "metadata": {},
   "outputs": [],
   "source": [
    "def get_url_request(url):\n",
    "    disable_warnings(InsecureRequestWarning)\n",
    "    useragent_rotate = generate_user_agent()\n",
    "    headers = {\n",
    "        'User-Agent': useragent_rotate\n",
    "    }\n",
    "    \n",
    "    response  = requests.get(url, headers=headers, verify=False)\n",
    "    return response"
   ]
  },
  {
   "cell_type": "code",
   "execution_count": 2,
   "id": "18a48d91-82ba-4448-99ee-501f8bffcfcd",
   "metadata": {},
   "outputs": [],
   "source": [
    "def scrape_tempo_attraction_article(date_early=None, date_latest=None):\n",
    "    def get_url_request(url):\n",
    "        useragent_rotate = generate_user_agent()\n",
    "        headers = {\n",
    "            'User-Agent': useragent_rotate\n",
    "        }\n",
    "        \n",
    "        response  = requests.get(url, headers=headers)\n",
    "        return response\n",
    "\n",
    "    url = 'https://www.tempo.co/indeks/{}-{}-{}/travel'\n",
    "    article_information_dict = {}\n",
    "    \n",
    "    date_latest = datetime.date(2024, 1, 9)\n",
    "    date_early = datetime.date(2014, 2, 3)\n",
    "    dates = [date_latest - datetime.timedelta(days=x) for x in range((date_latest-date_early).days + 1)]\n",
    "\n",
    "    url_logger = display(display_id=True)\n",
    "    for date in tqdm(dates, desc='Looping Each Dates'):\n",
    "        day, month, year = date.strftime('%d'), date.strftime('%m'), date.strftime('%Y')\n",
    "        article_logger = display(display_id=True)\n",
    "        url_logger.update(url.format(year, month, day))\n",
    "    \n",
    "        response = get_url_request(url.format(year, month, day))\n",
    "        soup = bs(response.text)\n",
    "        soup_article_links = soup.select('body > main > div.container.small.left.padding-no > main > div.card-box.ft240.margin-bottom-sm > article > h2 > a')\n",
    "    \n",
    "        if soup_article_links:\n",
    "            article_information_dict.setdefault(year, {})\\\n",
    "                .setdefault(month, {})\\\n",
    "                .setdefault(day, {})\n",
    "            for index, link in enumerate(tqdm(soup_article_links, desc=f'Looping Each Links of Dates: {year}-{month}-{day}', leave=False)):\n",
    "                for i in range(15):\n",
    "                    article_response = get_url_request(link['href'])\n",
    "                    if article_response.status_code == 200:\n",
    "                        break\n",
    "                    elif article_response.status_code == 504:\n",
    "                        time.sleep(0.4 * (i+1))\n",
    "                article_soup = bs(article_response.text)\n",
    "    \n",
    "                article_title = article_soup.select_one('body > main > div.container.small.left.padding-no > main > article.detail-artikel > div.detail-title > h1').text\n",
    "                article_description = \"\"\n",
    "                for item in article_soup.select('#isi > div > div.detail-konten > p'):\n",
    "                    article_description += item.text + ' '\n",
    "    \n",
    "                article_information_dict[year][month][day][f'Article_{\"0\" * (3-len(str(index+1)))}{index+1}'] = {\n",
    "                    'Title': article_title,\n",
    "                    'Description': article_description,\n",
    "                    'Link': link['href'],\n",
    "                }\n",
    "    \n",
    "        time.sleep(0.5)\n",
    "        # break "
   ]
  },
  {
   "cell_type": "code",
   "execution_count": 3,
   "id": "a9b6ca08-1660-47e8-92d6-6203b4b6f8f6",
   "metadata": {},
   "outputs": [
    {
     "data": {
      "text/plain": [
       "'https://www.tempo.co/indeks/2024-01-09/travel'"
      ]
     },
     "metadata": {},
     "output_type": "display_data"
    },
    {
     "data": {
      "application/vnd.jupyter.widget-view+json": {
       "model_id": "36290b3996f8424aa93035fd54491fad",
       "version_major": 2,
       "version_minor": 0
      },
      "text/plain": [
       "Looping Each Dates:   0%|          | 0/3628 [00:00<?, ?it/s]"
      ]
     },
     "metadata": {},
     "output_type": "display_data"
    },
    {
     "data": {},
     "metadata": {},
     "output_type": "display_data"
    },
    {
     "data": {
      "application/vnd.jupyter.widget-view+json": {
       "model_id": "",
       "version_major": 2,
       "version_minor": 0
      },
      "text/plain": [
       "Looping Each Links of Dates: 2024-01-09:   0%|          | 0/10 [00:00<?, ?it/s]"
      ]
     },
     "metadata": {},
     "output_type": "display_data"
    },
    {
     "ename": "KeyboardInterrupt",
     "evalue": "",
     "output_type": "error",
     "traceback": [
      "\u001b[1;31m---------------------------------------------------------------------------\u001b[0m",
      "\u001b[1;31mKeyboardInterrupt\u001b[0m                         Traceback (most recent call last)",
      "Cell \u001b[1;32mIn[3], line 1\u001b[0m\n\u001b[1;32m----> 1\u001b[0m \u001b[43mscrape_tempo_attraction_article\u001b[49m\u001b[43m(\u001b[49m\u001b[43m)\u001b[49m\n",
      "Cell \u001b[1;32mIn[2], line 52\u001b[0m, in \u001b[0;36mscrape_tempo_attraction_article\u001b[1;34m(date_early, date_latest)\u001b[0m\n\u001b[0;32m     44\u001b[0m             article_description \u001b[38;5;241m+\u001b[39m\u001b[38;5;241m=\u001b[39m item\u001b[38;5;241m.\u001b[39mtext \u001b[38;5;241m+\u001b[39m \u001b[38;5;124m'\u001b[39m\u001b[38;5;124m \u001b[39m\u001b[38;5;124m'\u001b[39m\n\u001b[0;32m     46\u001b[0m         article_information_dict[year][month][day][\u001b[38;5;124mf\u001b[39m\u001b[38;5;124m'\u001b[39m\u001b[38;5;124mArticle_\u001b[39m\u001b[38;5;132;01m{\u001b[39;00m\u001b[38;5;124m\"\u001b[39m\u001b[38;5;124m0\u001b[39m\u001b[38;5;124m\"\u001b[39m\u001b[38;5;250m \u001b[39m\u001b[38;5;241m*\u001b[39m\u001b[38;5;250m \u001b[39m(\u001b[38;5;241m3\u001b[39m\u001b[38;5;241m-\u001b[39m\u001b[38;5;28mlen\u001b[39m(\u001b[38;5;28mstr\u001b[39m(index\u001b[38;5;241m+\u001b[39m\u001b[38;5;241m1\u001b[39m)))\u001b[38;5;132;01m}\u001b[39;00m\u001b[38;5;132;01m{\u001b[39;00mindex\u001b[38;5;241m+\u001b[39m\u001b[38;5;241m1\u001b[39m\u001b[38;5;132;01m}\u001b[39;00m\u001b[38;5;124m'\u001b[39m] \u001b[38;5;241m=\u001b[39m {\n\u001b[0;32m     47\u001b[0m             \u001b[38;5;124m'\u001b[39m\u001b[38;5;124mTitle\u001b[39m\u001b[38;5;124m'\u001b[39m: article_title,\n\u001b[0;32m     48\u001b[0m             \u001b[38;5;124m'\u001b[39m\u001b[38;5;124mDescription\u001b[39m\u001b[38;5;124m'\u001b[39m: article_description,\n\u001b[0;32m     49\u001b[0m             \u001b[38;5;124m'\u001b[39m\u001b[38;5;124mLink\u001b[39m\u001b[38;5;124m'\u001b[39m: link[\u001b[38;5;124m'\u001b[39m\u001b[38;5;124mhref\u001b[39m\u001b[38;5;124m'\u001b[39m],\n\u001b[0;32m     50\u001b[0m         }\n\u001b[1;32m---> 52\u001b[0m \u001b[43mtime\u001b[49m\u001b[38;5;241;43m.\u001b[39;49m\u001b[43msleep\u001b[49m\u001b[43m(\u001b[49m\u001b[38;5;241;43m0.5\u001b[39;49m\u001b[43m)\u001b[49m\n",
      "\u001b[1;31mKeyboardInterrupt\u001b[0m: "
     ]
    }
   ],
   "source": [
    "scrape_tempo_attraction_article()"
   ]
  },
  {
   "cell_type": "code",
   "execution_count": null,
   "id": "a6a14004-9191-442f-ba2c-8a86deb9074f",
   "metadata": {},
   "outputs": [],
   "source": []
  },
  {
   "cell_type": "code",
   "execution_count": null,
   "id": "3c3976bd-947b-4718-b3d2-2c71c42bf180",
   "metadata": {},
   "outputs": [],
   "source": []
  },
  {
   "cell_type": "code",
   "execution_count": null,
   "id": "62fba77c-f1d3-412c-94e3-66b029a5ceb5",
   "metadata": {},
   "outputs": [],
   "source": []
  },
  {
   "cell_type": "code",
   "execution_count": null,
   "id": "96fd3a90-437d-47ea-911c-5abae70009ea",
   "metadata": {},
   "outputs": [],
   "source": []
  },
  {
   "cell_type": "code",
   "execution_count": null,
   "id": "2338c455-0006-4869-b4ce-7d5bb2e5eb31",
   "metadata": {},
   "outputs": [],
   "source": []
  },
  {
   "cell_type": "code",
   "execution_count": null,
   "id": "3e17b4cf-6f9e-4e7a-a134-1fb5c4235073",
   "metadata": {},
   "outputs": [],
   "source": [
    "################################## EXPERIMENTAL STUFF for INEWS ##################################"
   ]
  },
  {
   "cell_type": "code",
   "execution_count": 18,
   "id": "dd3b19ab-7a5f-46c7-b1c7-0b59ae44871b",
   "metadata": {},
   "outputs": [],
   "source": [
    "def get_url_request(url):\n",
    "    disable_warnings(InsecureRequestWarning)\n",
    "    useragent_rotate = generate_user_agent()\n",
    "    headers = {\n",
    "        'User-Agent': useragent_rotate\n",
    "    }\n",
    "    \n",
    "    response  = requests.get(url, headers=headers, verify=False)\n",
    "    return response"
   ]
  },
  {
   "cell_type": "code",
   "execution_count": 43,
   "id": "bd1fd1e1-47cb-4ecf-8b94-11d36e821dc4",
   "metadata": {},
   "outputs": [],
   "source": [
    "url = 'https://www.inews.id/indeks/travel/{}-{}-{}'\n",
    "df_article_information = pd.DataFrame(columns=['Year', 'Month', 'Day', 'Type'])\n",
    "\n",
    "date_latest = datetime.date(2023, 2, 5)\n",
    "date_early = datetime.date(2017, 10, 18)\n",
    "dates = [date_latest - datetime.timedelta(days=x) for x in range((date_latest-date_early).days + 1)]"
   ]
  },
  {
   "cell_type": "code",
   "execution_count": 44,
   "id": "0a237229-7f61-49d9-a352-6e6243f42ba6",
   "metadata": {},
   "outputs": [
    {
     "data": {
      "text/plain": [
       "'https://www.inews.id/indeks/travel/2017-10-18'"
      ]
     },
     "metadata": {},
     "output_type": "display_data"
    },
    {
     "data": {},
     "metadata": {},
     "output_type": "display_data"
    },
    {
     "data": {
      "application/vnd.jupyter.widget-view+json": {
       "model_id": "af45dc1b378f4c3baef6a92d4a4cfe34",
       "version_major": 2,
       "version_minor": 0
      },
      "text/plain": [
       "Looping Each Dates:   0%|          | 0/1937 [00:00<?, ?it/s]"
      ]
     },
     "metadata": {},
     "output_type": "display_data"
    }
   ],
   "source": [
    "url_logger = display(display_id=True)\n",
    "article_logger = display(display_id=True)\n",
    "for date in tqdm(dates, desc='Looping Each Dates'):\n",
    "    day, month, year = date.strftime('%d'), date.strftime('%m'), date.strftime('%Y')\n",
    "    url_logger.update(url.format(year, month, day))\n",
    "\n",
    "    response = get_url_request(url.format(day, month, year))\n",
    "    soup = bs(response.text)\n",
    "    soup_article_type = soup.select('#news-list > li > a > div > div > div.float-left.width-400px.margin-130px-left > div.date.margin-10px-left > strong')\n",
    "    soup_article_links = soup.select('#news-list > li > a')\n",
    "\n",
    "    if soup_article_links:\n",
    "        for link, type in zip(soup_article_links, soup_article_type):\n",
    "            article_information_dict = {\n",
    "                'Year': year,\n",
    "                'Month': month,\n",
    "                'Day': day,\n",
    "                'Link': link['href'] + '/all',\n",
    "                'Type': type.text,\n",
    "            }\n",
    "            df_article_information = pd.concat([df_article_information, pd.DataFrame([article_information_dict.values()], columns=article_information_dict.keys())], ignore_index=True)\n",
    "\n",
    "    time.sleep(0.3)\n",
    "    # break"
   ]
  },
  {
   "cell_type": "code",
   "execution_count": 47,
   "id": "4683fa34-ca65-4e7a-9903-cee63f9a1fec",
   "metadata": {},
   "outputs": [],
   "source": [
    "df_article_information.to_csv('./dataset/inews_article_attraction_part2.csv', index=False)"
   ]
  },
  {
   "cell_type": "code",
   "execution_count": null,
   "id": "5933986e-4467-4b52-97b2-35bb1177262e",
   "metadata": {},
   "outputs": [],
   "source": []
  },
  {
   "cell_type": "code",
   "execution_count": null,
   "id": "0365740b-e9e3-4c07-b77d-331f931f7cd8",
   "metadata": {},
   "outputs": [],
   "source": []
  },
  {
   "cell_type": "code",
   "execution_count": 7,
   "id": "92b3846a-1925-4579-ac20-b57a74ac2564",
   "metadata": {},
   "outputs": [
    {
     "data": {
      "text/plain": [
       "'https://www.inews.id/indeks/travel/2013-02-05'"
      ]
     },
     "metadata": {},
     "output_type": "display_data"
    },
    {
     "data": {
      "text/plain": [
       "'https://www.inews.id/travel/belanja/3-tempat-wisata-belanja-di-jakarta-yang-kini-usianya-ratusan-tahun/all'"
      ]
     },
     "metadata": {},
     "output_type": "display_data"
    },
    {
     "data": {
      "application/vnd.jupyter.widget-view+json": {
       "model_id": "1d22da85b1d84e4aaa02652b26902caf",
       "version_major": 2,
       "version_minor": 0
      },
      "text/plain": [
       "Looping Each Dates:   0%|          | 0/1717 [00:00<?, ?it/s]"
      ]
     },
     "metadata": {},
     "output_type": "display_data"
    },
    {
     "data": {
      "application/vnd.jupyter.widget-view+json": {
       "model_id": "",
       "version_major": 2,
       "version_minor": 0
      },
      "text/plain": [
       "Looping Each Links of Dates: 2017-10-18:   0%|          | 0/1 [00:00<?, ?it/s]"
      ]
     },
     "metadata": {},
     "output_type": "display_data"
    }
   ],
   "source": [
    "url_logger = display(display_id=True)\n",
    "article_logger = display(display_id=True)\n",
    "for date in tqdm(dates, desc='Looping Each Dates'):\n",
    "    day, month, year = date.strftime('%d'), date.strftime('%m'), date.strftime('%Y')\n",
    "    url_logger.update(url.format(year, month, day))\n",
    "\n",
    "    response = get_url_request(url.format(day, month, year))\n",
    "    soup = bs(response.text)\n",
    "    soup_article_links = soup.select('#news-list > li > a')\n",
    "\n",
    "    if soup_article_links:\n",
    "        for index, link in enumerate(tqdm(soup_article_links, desc=f'Looping Each Links of Dates: {year}-{month}-{day}', leave=False)):\n",
    "            link = link['href'] + '/all'\n",
    "            article_logger.update(link)\n",
    "            for i in range(15):\n",
    "                article_response = get_url_request(link)\n",
    "                if article_response.status_code == 200:\n",
    "                    break\n",
    "                elif article_response.status_code == 504:\n",
    "                    time.sleep(0.3 * (i+1))\n",
    "            article_soup = bs(article_response.text)\n",
    "\n",
    "            if article_soup.select_one('#content > div > div.row > div.col-lg-9.col-md-8.col-sm-7.col-xs-9 > div > div.news-detail > div > div.col-lg-12.col-md-12.col-sm-12.col-xs-12 > h1'):\n",
    "                article_title = article_soup.select_one('#content > div > div.row > div.col-lg-9.col-md-8.col-sm-7.col-xs-9 > div > div.news-detail > div > div.col-lg-12.col-md-12.col-sm-12.col-xs-12 > h1').text\n",
    "            elif article_soup.select_one('#content > div > div.row > div.col-lg-9.col-md-8.col-sm-7.col-xs-9 > div > div.news-videos-detail > div > div.col-lg-12.col-md-12.col-sm-12.col-xs-12 > h1'):\n",
    "                article_title = article_soup.select_one('#content > div > div.row > div.col-lg-9.col-md-8.col-sm-7.col-xs-9 > div > div.news-videos-detail > div > div.col-lg-12.col-md-12.col-sm-12.col-xs-12 > h1').text\n",
    "            \n",
    "            article_description = \"\"\n",
    "            if article_soup.select('#content > div > div.row > div.col-lg-9.col-md-8.col-sm-7.col-xs-9 > div > div.news-detail > div > div.col-lg-10.col-md-10.col-sm-10.col-xs-10 > div.body-text-news > div.text-news.vidy-load > p'):\n",
    "                description_element = article_soup.select('#content > div > div.row > div.col-lg-9.col-md-8.col-sm-7.col-xs-9 > div > div.news-detail > div > div.col-lg-10.col-md-10.col-sm-10.col-xs-10 > div.body-text-news > div.text-news.vidy-load > p')\n",
    "            elif article_soup.select('#content > div > div.row > div.col-lg-9.col-md-8.col-sm-7.col-xs-9 > div > div.news-videos-detail > div > div.col-lg-10.col-md-10.col-sm-10.col-xs-10 > div.body-text-video.vidy-load > div.text-video > p'):\n",
    "                description_element = article_soup.select('#content > div > div.row > div.col-lg-9.col-md-8.col-sm-7.col-xs-9 > div > div.news-videos-detail > div > div.col-lg-10.col-md-10.col-sm-10.col-xs-10 > div.body-text-video.vidy-load > div.text-video > p')\n",
    "            for item in description_element:\n",
    "                if not item.has_attr('class'):\n",
    "                    article_description += item.text + ' '\n",
    "\n",
    "            article_information_dict = {\n",
    "                'Year': year,\n",
    "                'Month': month,\n",
    "                'Day': day,\n",
    "                'Title': article_title,\n",
    "                'Description': article_description,\n",
    "                'Link': link,\n",
    "            }\n",
    "            df_article_information = pd.concat([df_article_information, pd.DataFrame([article_information_dict.values()], columns=article_information_dict.keys())], ignore_index=True)\n",
    "\n",
    "    time.sleep(0.5)\n",
    "    # break"
   ]
  },
  {
   "cell_type": "code",
   "execution_count": null,
   "id": "ef25728d-17fe-4fc7-8407-accb782fbd09",
   "metadata": {},
   "outputs": [],
   "source": []
  },
  {
   "cell_type": "code",
   "execution_count": 93,
   "id": "9bfb99f1-e68f-444b-ae41-2414a2cd9424",
   "metadata": {},
   "outputs": [
    {
     "data": {
      "text/html": [
       "<div>\n",
       "<style scoped>\n",
       "    .dataframe tbody tr th:only-of-type {\n",
       "        vertical-align: middle;\n",
       "    }\n",
       "\n",
       "    .dataframe tbody tr th {\n",
       "        vertical-align: top;\n",
       "    }\n",
       "\n",
       "    .dataframe thead th {\n",
       "        text-align: right;\n",
       "    }\n",
       "</style>\n",
       "<table border=\"1\" class=\"dataframe\">\n",
       "  <thead>\n",
       "    <tr style=\"text-align: right;\">\n",
       "      <th></th>\n",
       "      <th>Year</th>\n",
       "      <th>Month</th>\n",
       "      <th>Day</th>\n",
       "      <th>Title</th>\n",
       "      <th>Description</th>\n",
       "      <th>Link</th>\n",
       "    </tr>\n",
       "  </thead>\n",
       "  <tbody>\n",
       "    <tr>\n",
       "      <th>0</th>\n",
       "      <td>2023</td>\n",
       "      <td>02</td>\n",
       "      <td>05</td>\n",
       "      <td>Menyantap Lontong Cap Go Meh Legendaris di Sol...</td>\n",
       "      <td>SOLO, iNews.id - Lontong cap go meh tidak bole...</td>\n",
       "      <td>https://www.inews.id/multimedia/video/menyanta...</td>\n",
       "    </tr>\n",
       "    <tr>\n",
       "      <th>1</th>\n",
       "      <td>2023</td>\n",
       "      <td>02</td>\n",
       "      <td>05</td>\n",
       "      <td>Keseruan Berkemah di Subang Sambil Berswafoto ...</td>\n",
       "      <td>SUBANG, iNews.id - Wisata mata air Cimincul in...</td>\n",
       "      <td>https://www.inews.id/multimedia/video/keseruan...</td>\n",
       "    </tr>\n",
       "    <tr>\n",
       "      <th>2</th>\n",
       "      <td>2023</td>\n",
       "      <td>02</td>\n",
       "      <td>05</td>\n",
       "      <td>\\n                Majukan Pariwisata ASEAN, Sa...</td>\n",
       "      <td>JAKARTA, iNews.id - Menteri Pariwisata dan Eko...</td>\n",
       "      <td>https://www.inews.id/travel/destinasi/majukan-...</td>\n",
       "    </tr>\n",
       "    <tr>\n",
       "      <th>3</th>\n",
       "      <td>2023</td>\n",
       "      <td>02</td>\n",
       "      <td>05</td>\n",
       "      <td>Mengunjungi Eks Tambang Emas Antam di Banten, ...</td>\n",
       "      <td>BANTEN, iNews.id - Eks tambang emas di Desa Ci...</td>\n",
       "      <td>https://www.inews.id/multimedia/video/mengunju...</td>\n",
       "    </tr>\n",
       "    <tr>\n",
       "      <th>4</th>\n",
       "      <td>2023</td>\n",
       "      <td>02</td>\n",
       "      <td>05</td>\n",
       "      <td>Uniknya Produksi Kopi Khas Pantura Tuban, Biji...</td>\n",
       "      <td>TUBAN, iNews.id - Rumah di Desa Sawir, Tuban i...</td>\n",
       "      <td>https://www.inews.id/multimedia/video/uniknya-...</td>\n",
       "    </tr>\n",
       "    <tr>\n",
       "      <th>...</th>\n",
       "      <td>...</td>\n",
       "      <td>...</td>\n",
       "      <td>...</td>\n",
       "      <td>...</td>\n",
       "      <td>...</td>\n",
       "      <td>...</td>\n",
       "    </tr>\n",
       "    <tr>\n",
       "      <th>16457</th>\n",
       "      <td>2017</td>\n",
       "      <td>10</td>\n",
       "      <td>19</td>\n",
       "      <td>\\n                Deretan Pulau Terindah di Du...</td>\n",
       "      <td>JAKARTA – Status Filipina sebagai negara denga...</td>\n",
       "      <td>https://www.inews.id/travel/destinasi/deretan-...</td>\n",
       "    </tr>\n",
       "    <tr>\n",
       "      <th>16458</th>\n",
       "      <td>2017</td>\n",
       "      <td>10</td>\n",
       "      <td>19</td>\n",
       "      <td>\\n                Cuaca Dingin Paling Asyik Sa...</td>\n",
       "      <td>CUACA dingin selalu membuat perut terasa lapar...</td>\n",
       "      <td>https://www.inews.id/travel/kuliner/cuaca-ding...</td>\n",
       "    </tr>\n",
       "    <tr>\n",
       "      <th>16459</th>\n",
       "      <td>2017</td>\n",
       "      <td>10</td>\n",
       "      <td>19</td>\n",
       "      <td>\\n                Menelusuri Habitat Gajah yan...</td>\n",
       "      <td>DUA tahun lalu, gajah bernama Yongki sempat me...</td>\n",
       "      <td>https://www.inews.id/travel/destinasi/menelusu...</td>\n",
       "    </tr>\n",
       "    <tr>\n",
       "      <th>16460</th>\n",
       "      <td>2017</td>\n",
       "      <td>10</td>\n",
       "      <td>19</td>\n",
       "      <td>\\n                Sajian Menyeramkan di Malam ...</td>\n",
       "      <td>TIDAK lama lagi pesta Halloween akan dimulai, ...</td>\n",
       "      <td>https://www.inews.id/travel/kuliner/sajian-men...</td>\n",
       "    </tr>\n",
       "    <tr>\n",
       "      <th>16461</th>\n",
       "      <td>2017</td>\n",
       "      <td>10</td>\n",
       "      <td>18</td>\n",
       "      <td>\\n                3 Tempat Wisata Belanja di J...</td>\n",
       "      <td>SIAPA tak kenal Jakarta, Ibu Kota Provinsi yan...</td>\n",
       "      <td>https://www.inews.id/travel/belanja/3-tempat-w...</td>\n",
       "    </tr>\n",
       "  </tbody>\n",
       "</table>\n",
       "<p>16462 rows × 6 columns</p>\n",
       "</div>"
      ],
      "text/plain": [
       "       Year Month Day                                              Title  \\\n",
       "0      2023    02  05  Menyantap Lontong Cap Go Meh Legendaris di Sol...   \n",
       "1      2023    02  05  Keseruan Berkemah di Subang Sambil Berswafoto ...   \n",
       "2      2023    02  05  \\n                Majukan Pariwisata ASEAN, Sa...   \n",
       "3      2023    02  05  Mengunjungi Eks Tambang Emas Antam di Banten, ...   \n",
       "4      2023    02  05  Uniknya Produksi Kopi Khas Pantura Tuban, Biji...   \n",
       "...     ...   ...  ..                                                ...   \n",
       "16457  2017    10  19  \\n                Deretan Pulau Terindah di Du...   \n",
       "16458  2017    10  19  \\n                Cuaca Dingin Paling Asyik Sa...   \n",
       "16459  2017    10  19  \\n                Menelusuri Habitat Gajah yan...   \n",
       "16460  2017    10  19  \\n                Sajian Menyeramkan di Malam ...   \n",
       "16461  2017    10  18  \\n                3 Tempat Wisata Belanja di J...   \n",
       "\n",
       "                                             Description  \\\n",
       "0      SOLO, iNews.id - Lontong cap go meh tidak bole...   \n",
       "1      SUBANG, iNews.id - Wisata mata air Cimincul in...   \n",
       "2      JAKARTA, iNews.id - Menteri Pariwisata dan Eko...   \n",
       "3      BANTEN, iNews.id - Eks tambang emas di Desa Ci...   \n",
       "4      TUBAN, iNews.id - Rumah di Desa Sawir, Tuban i...   \n",
       "...                                                  ...   \n",
       "16457  JAKARTA – Status Filipina sebagai negara denga...   \n",
       "16458  CUACA dingin selalu membuat perut terasa lapar...   \n",
       "16459  DUA tahun lalu, gajah bernama Yongki sempat me...   \n",
       "16460  TIDAK lama lagi pesta Halloween akan dimulai, ...   \n",
       "16461  SIAPA tak kenal Jakarta, Ibu Kota Provinsi yan...   \n",
       "\n",
       "                                                    Link  \n",
       "0      https://www.inews.id/multimedia/video/menyanta...  \n",
       "1      https://www.inews.id/multimedia/video/keseruan...  \n",
       "2      https://www.inews.id/travel/destinasi/majukan-...  \n",
       "3      https://www.inews.id/multimedia/video/mengunju...  \n",
       "4      https://www.inews.id/multimedia/video/uniknya-...  \n",
       "...                                                  ...  \n",
       "16457  https://www.inews.id/travel/destinasi/deretan-...  \n",
       "16458  https://www.inews.id/travel/kuliner/cuaca-ding...  \n",
       "16459  https://www.inews.id/travel/destinasi/menelusu...  \n",
       "16460  https://www.inews.id/travel/kuliner/sajian-men...  \n",
       "16461  https://www.inews.id/travel/belanja/3-tempat-w...  \n",
       "\n",
       "[16462 rows x 6 columns]"
      ]
     },
     "execution_count": 93,
     "metadata": {},
     "output_type": "execute_result"
    }
   ],
   "source": [
    "df_article_information"
   ]
  },
  {
   "cell_type": "code",
   "execution_count": null,
   "id": "9a4cad0e-1297-46e0-89ce-bd6b67971fa8",
   "metadata": {},
   "outputs": [],
   "source": [
    "df_article_information.to_csv('./dataset/inews_article_attraction_part2', index=False)"
   ]
  },
  {
   "cell_type": "code",
   "execution_count": null,
   "id": "966321a4-002f-4421-adc7-640c86d0d004",
   "metadata": {},
   "outputs": [],
   "source": []
  },
  {
   "cell_type": "code",
   "execution_count": null,
   "id": "b091fa19-ff40-4f74-bdbd-cc177a206ca0",
   "metadata": {},
   "outputs": [],
   "source": []
  },
  {
   "cell_type": "code",
   "execution_count": null,
   "id": "5a4f1b1e-fafb-47e0-a960-835c96e26373",
   "metadata": {},
   "outputs": [],
   "source": []
  },
  {
   "cell_type": "code",
   "execution_count": null,
   "id": "8c85c395-fd8f-4b69-9a87-dcf2d2f2787e",
   "metadata": {},
   "outputs": [],
   "source": [
    "################################## EXPERIMENTAL STUFF for TEMPO ##################################"
   ]
  },
  {
   "cell_type": "code",
   "execution_count": 142,
   "id": "c8c87d71-0cb0-44fe-a4e2-80a16024eb41",
   "metadata": {},
   "outputs": [],
   "source": [
    "with open('./dataset/tempo_article_attraction_part1.json', 'r') as json_path:\n",
    "    json_tempo1 = json.load(json_path)"
   ]
  },
  {
   "cell_type": "code",
   "execution_count": 143,
   "id": "4eda3d96-e8cd-43a9-b343-2a7cb79d69dc",
   "metadata": {},
   "outputs": [
    {
     "data": {
      "application/vnd.jupyter.widget-view+json": {
       "model_id": "",
       "version_major": 2,
       "version_minor": 0
      },
      "text/plain": [
       "Looping Each Years:   0%|          | 0/4 [00:00<?, ?it/s]"
      ]
     },
     "metadata": {},
     "output_type": "display_data"
    },
    {
     "data": {
      "application/vnd.jupyter.widget-view+json": {
       "model_id": "",
       "version_major": 2,
       "version_minor": 0
      },
      "text/plain": [
       "Looping Each Month:   0%|          | 0/1 [00:00<?, ?it/s]"
      ]
     },
     "metadata": {},
     "output_type": "display_data"
    },
    {
     "data": {
      "application/vnd.jupyter.widget-view+json": {
       "model_id": "",
       "version_major": 2,
       "version_minor": 0
      },
      "text/plain": [
       "Looping Each Days:   0%|          | 0/9 [00:00<?, ?it/s]"
      ]
     },
     "metadata": {},
     "output_type": "display_data"
    },
    {
     "data": {
      "application/vnd.jupyter.widget-view+json": {
       "model_id": "",
       "version_major": 2,
       "version_minor": 0
      },
      "text/plain": [
       "Looping Each Month:   0%|          | 0/12 [00:00<?, ?it/s]"
      ]
     },
     "metadata": {},
     "output_type": "display_data"
    },
    {
     "data": {
      "application/vnd.jupyter.widget-view+json": {
       "model_id": "",
       "version_major": 2,
       "version_minor": 0
      },
      "text/plain": [
       "Looping Each Days:   0%|          | 0/31 [00:00<?, ?it/s]"
      ]
     },
     "metadata": {},
     "output_type": "display_data"
    },
    {
     "data": {
      "application/vnd.jupyter.widget-view+json": {
       "model_id": "",
       "version_major": 2,
       "version_minor": 0
      },
      "text/plain": [
       "Looping Each Days:   0%|          | 0/30 [00:00<?, ?it/s]"
      ]
     },
     "metadata": {},
     "output_type": "display_data"
    },
    {
     "data": {
      "application/vnd.jupyter.widget-view+json": {
       "model_id": "",
       "version_major": 2,
       "version_minor": 0
      },
      "text/plain": [
       "Looping Each Days:   0%|          | 0/31 [00:00<?, ?it/s]"
      ]
     },
     "metadata": {},
     "output_type": "display_data"
    },
    {
     "data": {
      "application/vnd.jupyter.widget-view+json": {
       "model_id": "",
       "version_major": 2,
       "version_minor": 0
      },
      "text/plain": [
       "Looping Each Days:   0%|          | 0/30 [00:00<?, ?it/s]"
      ]
     },
     "metadata": {},
     "output_type": "display_data"
    },
    {
     "data": {
      "application/vnd.jupyter.widget-view+json": {
       "model_id": "",
       "version_major": 2,
       "version_minor": 0
      },
      "text/plain": [
       "Looping Each Days:   0%|          | 0/31 [00:00<?, ?it/s]"
      ]
     },
     "metadata": {},
     "output_type": "display_data"
    },
    {
     "data": {
      "application/vnd.jupyter.widget-view+json": {
       "model_id": "",
       "version_major": 2,
       "version_minor": 0
      },
      "text/plain": [
       "Looping Each Days:   0%|          | 0/31 [00:00<?, ?it/s]"
      ]
     },
     "metadata": {},
     "output_type": "display_data"
    },
    {
     "data": {
      "application/vnd.jupyter.widget-view+json": {
       "model_id": "",
       "version_major": 2,
       "version_minor": 0
      },
      "text/plain": [
       "Looping Each Days:   0%|          | 0/30 [00:00<?, ?it/s]"
      ]
     },
     "metadata": {},
     "output_type": "display_data"
    },
    {
     "data": {
      "application/vnd.jupyter.widget-view+json": {
       "model_id": "",
       "version_major": 2,
       "version_minor": 0
      },
      "text/plain": [
       "Looping Each Days:   0%|          | 0/31 [00:00<?, ?it/s]"
      ]
     },
     "metadata": {},
     "output_type": "display_data"
    },
    {
     "data": {
      "application/vnd.jupyter.widget-view+json": {
       "model_id": "",
       "version_major": 2,
       "version_minor": 0
      },
      "text/plain": [
       "Looping Each Days:   0%|          | 0/30 [00:00<?, ?it/s]"
      ]
     },
     "metadata": {},
     "output_type": "display_data"
    },
    {
     "data": {
      "application/vnd.jupyter.widget-view+json": {
       "model_id": "",
       "version_major": 2,
       "version_minor": 0
      },
      "text/plain": [
       "Looping Each Days:   0%|          | 0/31 [00:00<?, ?it/s]"
      ]
     },
     "metadata": {},
     "output_type": "display_data"
    },
    {
     "data": {
      "application/vnd.jupyter.widget-view+json": {
       "model_id": "",
       "version_major": 2,
       "version_minor": 0
      },
      "text/plain": [
       "Looping Each Days:   0%|          | 0/28 [00:00<?, ?it/s]"
      ]
     },
     "metadata": {},
     "output_type": "display_data"
    },
    {
     "data": {
      "application/vnd.jupyter.widget-view+json": {
       "model_id": "",
       "version_major": 2,
       "version_minor": 0
      },
      "text/plain": [
       "Looping Each Days:   0%|          | 0/31 [00:00<?, ?it/s]"
      ]
     },
     "metadata": {},
     "output_type": "display_data"
    },
    {
     "data": {
      "application/vnd.jupyter.widget-view+json": {
       "model_id": "",
       "version_major": 2,
       "version_minor": 0
      },
      "text/plain": [
       "Looping Each Month:   0%|          | 0/12 [00:00<?, ?it/s]"
      ]
     },
     "metadata": {},
     "output_type": "display_data"
    },
    {
     "data": {
      "application/vnd.jupyter.widget-view+json": {
       "model_id": "",
       "version_major": 2,
       "version_minor": 0
      },
      "text/plain": [
       "Looping Each Days:   0%|          | 0/31 [00:00<?, ?it/s]"
      ]
     },
     "metadata": {},
     "output_type": "display_data"
    },
    {
     "data": {
      "application/vnd.jupyter.widget-view+json": {
       "model_id": "",
       "version_major": 2,
       "version_minor": 0
      },
      "text/plain": [
       "Looping Each Days:   0%|          | 0/30 [00:00<?, ?it/s]"
      ]
     },
     "metadata": {},
     "output_type": "display_data"
    },
    {
     "data": {
      "application/vnd.jupyter.widget-view+json": {
       "model_id": "",
       "version_major": 2,
       "version_minor": 0
      },
      "text/plain": [
       "Looping Each Days:   0%|          | 0/31 [00:00<?, ?it/s]"
      ]
     },
     "metadata": {},
     "output_type": "display_data"
    },
    {
     "data": {
      "application/vnd.jupyter.widget-view+json": {
       "model_id": "",
       "version_major": 2,
       "version_minor": 0
      },
      "text/plain": [
       "Looping Each Days:   0%|          | 0/30 [00:00<?, ?it/s]"
      ]
     },
     "metadata": {},
     "output_type": "display_data"
    },
    {
     "data": {
      "application/vnd.jupyter.widget-view+json": {
       "model_id": "",
       "version_major": 2,
       "version_minor": 0
      },
      "text/plain": [
       "Looping Each Days:   0%|          | 0/31 [00:00<?, ?it/s]"
      ]
     },
     "metadata": {},
     "output_type": "display_data"
    },
    {
     "data": {
      "application/vnd.jupyter.widget-view+json": {
       "model_id": "",
       "version_major": 2,
       "version_minor": 0
      },
      "text/plain": [
       "Looping Each Days:   0%|          | 0/31 [00:00<?, ?it/s]"
      ]
     },
     "metadata": {},
     "output_type": "display_data"
    },
    {
     "data": {
      "application/vnd.jupyter.widget-view+json": {
       "model_id": "",
       "version_major": 2,
       "version_minor": 0
      },
      "text/plain": [
       "Looping Each Days:   0%|          | 0/30 [00:00<?, ?it/s]"
      ]
     },
     "metadata": {},
     "output_type": "display_data"
    },
    {
     "data": {
      "application/vnd.jupyter.widget-view+json": {
       "model_id": "",
       "version_major": 2,
       "version_minor": 0
      },
      "text/plain": [
       "Looping Each Days:   0%|          | 0/31 [00:00<?, ?it/s]"
      ]
     },
     "metadata": {},
     "output_type": "display_data"
    },
    {
     "data": {
      "application/vnd.jupyter.widget-view+json": {
       "model_id": "",
       "version_major": 2,
       "version_minor": 0
      },
      "text/plain": [
       "Looping Each Days:   0%|          | 0/30 [00:00<?, ?it/s]"
      ]
     },
     "metadata": {},
     "output_type": "display_data"
    },
    {
     "data": {
      "application/vnd.jupyter.widget-view+json": {
       "model_id": "",
       "version_major": 2,
       "version_minor": 0
      },
      "text/plain": [
       "Looping Each Days:   0%|          | 0/31 [00:00<?, ?it/s]"
      ]
     },
     "metadata": {},
     "output_type": "display_data"
    },
    {
     "data": {
      "application/vnd.jupyter.widget-view+json": {
       "model_id": "",
       "version_major": 2,
       "version_minor": 0
      },
      "text/plain": [
       "Looping Each Days:   0%|          | 0/28 [00:00<?, ?it/s]"
      ]
     },
     "metadata": {},
     "output_type": "display_data"
    },
    {
     "data": {
      "application/vnd.jupyter.widget-view+json": {
       "model_id": "",
       "version_major": 2,
       "version_minor": 0
      },
      "text/plain": [
       "Looping Each Days:   0%|          | 0/31 [00:00<?, ?it/s]"
      ]
     },
     "metadata": {},
     "output_type": "display_data"
    },
    {
     "data": {
      "application/vnd.jupyter.widget-view+json": {
       "model_id": "",
       "version_major": 2,
       "version_minor": 0
      },
      "text/plain": [
       "Looping Each Month:   0%|          | 0/2 [00:00<?, ?it/s]"
      ]
     },
     "metadata": {},
     "output_type": "display_data"
    },
    {
     "data": {
      "application/vnd.jupyter.widget-view+json": {
       "model_id": "",
       "version_major": 2,
       "version_minor": 0
      },
      "text/plain": [
       "Looping Each Days:   0%|          | 0/31 [00:00<?, ?it/s]"
      ]
     },
     "metadata": {},
     "output_type": "display_data"
    },
    {
     "data": {
      "application/vnd.jupyter.widget-view+json": {
       "model_id": "",
       "version_major": 2,
       "version_minor": 0
      },
      "text/plain": [
       "Looping Each Days:   0%|          | 0/21 [00:00<?, ?it/s]"
      ]
     },
     "metadata": {},
     "output_type": "display_data"
    }
   ],
   "source": [
    "df_tempo_article = pd.DataFrame(columns=['Year', 'Month', 'Day', 'Title', 'Description', 'Link'])\n",
    "\n",
    "for year in tqdm(json_tempo1, desc='Looping Each Years', leave=False):\n",
    "    # print(year)\n",
    "    for month in tqdm(json_tempo1[year], desc='Looping Each Month', leave=False):\n",
    "        # print(month)\n",
    "        for day in tqdm(json_tempo1[year][month], desc='Looping Each Days', leave=False):\n",
    "            # print(day)\n",
    "            df_temp = pd.concat([pd.json_normalize(json_tempo1[year][month][day][article]) for article in json_tempo1[year][month][day]], keys=json_tempo1[year][month][day].keys())\n",
    "            df_temp = df_temp.reset_index(drop=True)\n",
    "            df_temp[['Year', 'Month', 'Day']] = [year, month, day]\n",
    "\n",
    "            df_tempo_article = pd.concat([df_tempo_article, df_temp], axis=0, ignore_index=True)\n",
    "            del df_temp\n",
    "            \n",
    "            # break\n",
    "        # break\n",
    "    # break"
   ]
  },
  {
   "cell_type": "code",
   "execution_count": 154,
   "id": "93535772-a3c4-4ab0-9aea-373912e1804c",
   "metadata": {},
   "outputs": [
    {
     "data": {
      "text/html": [
       "<div>\n",
       "<style scoped>\n",
       "    .dataframe tbody tr th:only-of-type {\n",
       "        vertical-align: middle;\n",
       "    }\n",
       "\n",
       "    .dataframe tbody tr th {\n",
       "        vertical-align: top;\n",
       "    }\n",
       "\n",
       "    .dataframe thead th {\n",
       "        text-align: right;\n",
       "    }\n",
       "</style>\n",
       "<table border=\"1\" class=\"dataframe\">\n",
       "  <thead>\n",
       "    <tr style=\"text-align: right;\">\n",
       "      <th></th>\n",
       "      <th>Year</th>\n",
       "      <th>Month</th>\n",
       "      <th>Day</th>\n",
       "      <th>Title</th>\n",
       "      <th>Description</th>\n",
       "      <th>Link</th>\n",
       "    </tr>\n",
       "  </thead>\n",
       "  <tbody>\n",
       "    <tr>\n",
       "      <th>0</th>\n",
       "      <td>2021</td>\n",
       "      <td>11</td>\n",
       "      <td>29</td>\n",
       "      <td>Museum Taman Prasasti, Makam Istri Raffles hin...</td>\n",
       "      <td>TEMPO.CO, Jakarta - Museum Taman Prasasti meru...</td>\n",
       "      <td>https://travel.tempo.co/read/1533918/museum-ta...</td>\n",
       "    </tr>\n",
       "    <tr>\n",
       "      <th>1</th>\n",
       "      <td>2021</td>\n",
       "      <td>11</td>\n",
       "      <td>29</td>\n",
       "      <td>5 Istilah Tingkat Kematangan Steak, Jangan Tah...</td>\n",
       "      <td>TEMPO.CO, Jakarta -  Sebelum makan dan memesan...</td>\n",
       "      <td>https://travel.tempo.co/read/1533848/5-istilah...</td>\n",
       "    </tr>\n",
       "    <tr>\n",
       "      <th>2</th>\n",
       "      <td>2021</td>\n",
       "      <td>11</td>\n",
       "      <td>29</td>\n",
       "      <td>Rangkaian Destinasi Wisata Unggulan di Ternate...</td>\n",
       "      <td>TEMPO.CO, Jakarta - Objek wisata di Ternate ta...</td>\n",
       "      <td>https://travel.tempo.co/read/1533833/rangkaian...</td>\n",
       "    </tr>\n",
       "    <tr>\n",
       "      <th>3</th>\n",
       "      <td>2021</td>\n",
       "      <td>11</td>\n",
       "      <td>29</td>\n",
       "      <td>Korea Selatan Menjadikan Pantai Busan Sebagai ...</td>\n",
       "      <td>TEMPO.CO, Jakarta - Korea Selatan akan menjadi...</td>\n",
       "      <td>https://travel.tempo.co/read/1533819/korea-sel...</td>\n",
       "    </tr>\n",
       "    <tr>\n",
       "      <th>4</th>\n",
       "      <td>2021</td>\n",
       "      <td>11</td>\n",
       "      <td>29</td>\n",
       "      <td>Libur Natal dan Tahun Baru, Petugas Kesehatan ...</td>\n",
       "      <td>TEMPO.CO, Jakarta - Pemerintah menerapkan Pemb...</td>\n",
       "      <td>https://travel.tempo.co/read/1533787/libur-nat...</td>\n",
       "    </tr>\n",
       "    <tr>\n",
       "      <th>...</th>\n",
       "      <td>...</td>\n",
       "      <td>...</td>\n",
       "      <td>...</td>\n",
       "      <td>...</td>\n",
       "      <td>...</td>\n",
       "      <td>...</td>\n",
       "    </tr>\n",
       "    <tr>\n",
       "      <th>12971</th>\n",
       "      <td>2018</td>\n",
       "      <td>01</td>\n",
       "      <td>19</td>\n",
       "      <td>Pesona Gunung Api dan Gua Bawah Laut Terpanjan...</td>\n",
       "      <td>TEMPO.CO, Jakarta - Dunia ilmu pengetahuan bar...</td>\n",
       "      <td>https://travel.tempo.co/read/1052100/pesona-gu...</td>\n",
       "    </tr>\n",
       "    <tr>\n",
       "      <th>12972</th>\n",
       "      <td>2018</td>\n",
       "      <td>01</td>\n",
       "      <td>19</td>\n",
       "      <td>Kain Pantai dan Oleh-oleh Indonesia Mencuri Pe...</td>\n",
       "      <td>TEMPO.CO, Jakarta - Indonesia kembali berparti...</td>\n",
       "      <td>https://travel.tempo.co/read/1052055/kain-pant...</td>\n",
       "    </tr>\n",
       "    <tr>\n",
       "      <th>12973</th>\n",
       "      <td>2018</td>\n",
       "      <td>01</td>\n",
       "      <td>19</td>\n",
       "      <td>Beragam Menu Melayu di Restoran Open Kitchen P...</td>\n",
       "      <td>TEMPO.CO, Riau - Food Exchange All Day Dining ...</td>\n",
       "      <td>https://travel.tempo.co/read/1052064/beragam-m...</td>\n",
       "    </tr>\n",
       "    <tr>\n",
       "      <th>12974</th>\n",
       "      <td>2018</td>\n",
       "      <td>01</td>\n",
       "      <td>19</td>\n",
       "      <td>Malaysia Jadi Tujuan Wisata Pensiunan Terbaik ...</td>\n",
       "      <td>TEMPO.CO, Jakarta - Malaysia terpilih sebagai ...</td>\n",
       "      <td>https://travel.tempo.co/read/1051975/malaysia-...</td>\n",
       "    </tr>\n",
       "    <tr>\n",
       "      <th>12975</th>\n",
       "      <td>2017</td>\n",
       "      <td>11</td>\n",
       "      <td>17</td>\n",
       "      <td>Mencicipi Kopi Baru Disangrai di Nggone Mbahmu...</td>\n",
       "      <td>TEMPO.CO, Klaten  - Meski mendeklarasikan ruma...</td>\n",
       "      <td>https://travel.tempo.co/read/1034710/mencicipi...</td>\n",
       "    </tr>\n",
       "  </tbody>\n",
       "</table>\n",
       "<p>12976 rows × 6 columns</p>\n",
       "</div>"
      ],
      "text/plain": [
       "       Year Month Day                                              Title  \\\n",
       "0      2021    11  29  Museum Taman Prasasti, Makam Istri Raffles hin...   \n",
       "1      2021    11  29  5 Istilah Tingkat Kematangan Steak, Jangan Tah...   \n",
       "2      2021    11  29  Rangkaian Destinasi Wisata Unggulan di Ternate...   \n",
       "3      2021    11  29  Korea Selatan Menjadikan Pantai Busan Sebagai ...   \n",
       "4      2021    11  29  Libur Natal dan Tahun Baru, Petugas Kesehatan ...   \n",
       "...     ...   ...  ..                                                ...   \n",
       "12971  2018    01  19  Pesona Gunung Api dan Gua Bawah Laut Terpanjan...   \n",
       "12972  2018    01  19  Kain Pantai dan Oleh-oleh Indonesia Mencuri Pe...   \n",
       "12973  2018    01  19  Beragam Menu Melayu di Restoran Open Kitchen P...   \n",
       "12974  2018    01  19  Malaysia Jadi Tujuan Wisata Pensiunan Terbaik ...   \n",
       "12975  2017    11  17  Mencicipi Kopi Baru Disangrai di Nggone Mbahmu...   \n",
       "\n",
       "                                             Description  \\\n",
       "0      TEMPO.CO, Jakarta - Museum Taman Prasasti meru...   \n",
       "1      TEMPO.CO, Jakarta -  Sebelum makan dan memesan...   \n",
       "2      TEMPO.CO, Jakarta - Objek wisata di Ternate ta...   \n",
       "3      TEMPO.CO, Jakarta - Korea Selatan akan menjadi...   \n",
       "4      TEMPO.CO, Jakarta - Pemerintah menerapkan Pemb...   \n",
       "...                                                  ...   \n",
       "12971  TEMPO.CO, Jakarta - Dunia ilmu pengetahuan bar...   \n",
       "12972  TEMPO.CO, Jakarta - Indonesia kembali berparti...   \n",
       "12973  TEMPO.CO, Riau - Food Exchange All Day Dining ...   \n",
       "12974  TEMPO.CO, Jakarta - Malaysia terpilih sebagai ...   \n",
       "12975  TEMPO.CO, Klaten  - Meski mendeklarasikan ruma...   \n",
       "\n",
       "                                                    Link  \n",
       "0      https://travel.tempo.co/read/1533918/museum-ta...  \n",
       "1      https://travel.tempo.co/read/1533848/5-istilah...  \n",
       "2      https://travel.tempo.co/read/1533833/rangkaian...  \n",
       "3      https://travel.tempo.co/read/1533819/korea-sel...  \n",
       "4      https://travel.tempo.co/read/1533787/libur-nat...  \n",
       "...                                                  ...  \n",
       "12971  https://travel.tempo.co/read/1052100/pesona-gu...  \n",
       "12972  https://travel.tempo.co/read/1052055/kain-pant...  \n",
       "12973  https://travel.tempo.co/read/1052064/beragam-m...  \n",
       "12974  https://travel.tempo.co/read/1051975/malaysia-...  \n",
       "12975  https://travel.tempo.co/read/1034710/mencicipi...  \n",
       "\n",
       "[12976 rows x 6 columns]"
      ]
     },
     "execution_count": 154,
     "metadata": {},
     "output_type": "execute_result"
    }
   ],
   "source": [
    "# df_tempo_article3 = df_tempo_article.copy()\n",
    "df_tempo_article3"
   ]
  },
  {
   "cell_type": "code",
   "execution_count": 155,
   "id": "553f64da",
   "metadata": {},
   "outputs": [
    {
     "data": {
      "text/html": [
       "<div>\n",
       "<style scoped>\n",
       "    .dataframe tbody tr th:only-of-type {\n",
       "        vertical-align: middle;\n",
       "    }\n",
       "\n",
       "    .dataframe tbody tr th {\n",
       "        vertical-align: top;\n",
       "    }\n",
       "\n",
       "    .dataframe thead th {\n",
       "        text-align: right;\n",
       "    }\n",
       "</style>\n",
       "<table border=\"1\" class=\"dataframe\">\n",
       "  <thead>\n",
       "    <tr style=\"text-align: right;\">\n",
       "      <th></th>\n",
       "      <th>Year</th>\n",
       "      <th>Month</th>\n",
       "      <th>Day</th>\n",
       "      <th>Title</th>\n",
       "      <th>Description</th>\n",
       "      <th>Link</th>\n",
       "    </tr>\n",
       "  </thead>\n",
       "  <tbody>\n",
       "    <tr>\n",
       "      <th>0</th>\n",
       "      <td>2024</td>\n",
       "      <td>01</td>\n",
       "      <td>09</td>\n",
       "      <td>Dubai Destinasi Terpopuler di Dunia Menurut Tr...</td>\n",
       "      <td>TEMPO.CO, Jakarta - Dubai terpilih menjadi des...</td>\n",
       "      <td>https://travel.tempo.co/read/1819232/dubai-des...</td>\n",
       "    </tr>\n",
       "    <tr>\n",
       "      <th>1</th>\n",
       "      <td>2024</td>\n",
       "      <td>01</td>\n",
       "      <td>09</td>\n",
       "      <td>Tahun Ini Usia Cirebon Lebih Muda, Apa Sebabnya?</td>\n",
       "      <td>TEMPO.CO, Cirebon - Tahun ini Kota Cirebon ber...</td>\n",
       "      <td>https://travel.tempo.co/read/1819200/tahun-ini...</td>\n",
       "    </tr>\n",
       "    <tr>\n",
       "      <th>2</th>\n",
       "      <td>2024</td>\n",
       "      <td>01</td>\n",
       "      <td>09</td>\n",
       "      <td>10 Wisata Religi di Surabaya, Ada Ziarah Wali ...</td>\n",
       "      <td>TEMPO.CO, Jakarta - Wisata religi bisa menjadi...</td>\n",
       "      <td>https://travel.tempo.co/read/1819156/10-wisata...</td>\n",
       "    </tr>\n",
       "    <tr>\n",
       "      <th>3</th>\n",
       "      <td>2024</td>\n",
       "      <td>01</td>\n",
       "      <td>09</td>\n",
       "      <td>Mengenal Visa Digital Nomad, Keuntungan, dan C...</td>\n",
       "      <td>TEMPO.CO, Jakarta - Saat ini makin banyak oran...</td>\n",
       "      <td>https://travel.tempo.co/read/1819147/mengenal-...</td>\n",
       "    </tr>\n",
       "    <tr>\n",
       "      <th>4</th>\n",
       "      <td>2024</td>\n",
       "      <td>01</td>\n",
       "      <td>09</td>\n",
       "      <td>Brazil Menunda Persyaratan Visa untuk 3 Warga ...</td>\n",
       "      <td>TEMPO.CO, Jakarta - Brazil menunda pemberlakua...</td>\n",
       "      <td>https://travel.tempo.co/read/1819083/brazil-me...</td>\n",
       "    </tr>\n",
       "    <tr>\n",
       "      <th>...</th>\n",
       "      <td>...</td>\n",
       "      <td>...</td>\n",
       "      <td>...</td>\n",
       "      <td>...</td>\n",
       "      <td>...</td>\n",
       "      <td>...</td>\n",
       "    </tr>\n",
       "    <tr>\n",
       "      <th>8819</th>\n",
       "      <td>2021</td>\n",
       "      <td>11</td>\n",
       "      <td>10</td>\n",
       "      <td>Gulu Gulu Rilis Menu Cake &amp; Cookie Collection,...</td>\n",
       "      <td>TEMPO.CO, Jakarta - Minuman cheese tea Gulu Gu...</td>\n",
       "      <td>https://travel.tempo.co/read/1527166/gulu-gulu...</td>\n",
       "    </tr>\n",
       "    <tr>\n",
       "      <th>8820</th>\n",
       "      <td>2021</td>\n",
       "      <td>11</td>\n",
       "      <td>10</td>\n",
       "      <td>Sistem Listrik World Superbike Sama Seperti Is...</td>\n",
       "      <td>TEMPO.CO, Mataram - PT Perusahaan Listrik Nega...</td>\n",
       "      <td>https://travel.tempo.co/read/1527152/sistem-li...</td>\n",
       "    </tr>\n",
       "    <tr>\n",
       "      <th>8821</th>\n",
       "      <td>2021</td>\n",
       "      <td>11</td>\n",
       "      <td>10</td>\n",
       "      <td>12 Tarian Klasik Yogyakarta Tampil di Dubai Wo...</td>\n",
       "      <td>TEMPO.CO, Yogyakarta - Pemerintah Daerah Istim...</td>\n",
       "      <td>https://travel.tempo.co/read/1527092/12-tarian...</td>\n",
       "    </tr>\n",
       "    <tr>\n",
       "      <th>8822</th>\n",
       "      <td>2021</td>\n",
       "      <td>11</td>\n",
       "      <td>10</td>\n",
       "      <td>Melancong ke Shibuya Jepang, Tak Lengkap Jika ...</td>\n",
       "      <td>TEMPO.CO, Jakarta -Shibuya menjadi lokasi yang...</td>\n",
       "      <td>https://travel.tempo.co/read/1527054/melancong...</td>\n",
       "    </tr>\n",
       "    <tr>\n",
       "      <th>8823</th>\n",
       "      <td>2021</td>\n",
       "      <td>11</td>\n",
       "      <td>10</td>\n",
       "      <td>10 Hotel Ramah Lingkungan, Ada yang Terletak d...</td>\n",
       "      <td>TEMPO.CO, Jakarta - Menginap di hotel ramah li...</td>\n",
       "      <td>https://travel.tempo.co/read/1527055/10-hotel-...</td>\n",
       "    </tr>\n",
       "  </tbody>\n",
       "</table>\n",
       "<p>8824 rows × 6 columns</p>\n",
       "</div>"
      ],
      "text/plain": [
       "      Year Month Day                                              Title  \\\n",
       "0     2024    01  09  Dubai Destinasi Terpopuler di Dunia Menurut Tr...   \n",
       "1     2024    01  09  Tahun Ini Usia Cirebon Lebih Muda, Apa Sebabnya?    \n",
       "2     2024    01  09  10 Wisata Religi di Surabaya, Ada Ziarah Wali ...   \n",
       "3     2024    01  09  Mengenal Visa Digital Nomad, Keuntungan, dan C...   \n",
       "4     2024    01  09  Brazil Menunda Persyaratan Visa untuk 3 Warga ...   \n",
       "...    ...   ...  ..                                                ...   \n",
       "8819  2021    11  10  Gulu Gulu Rilis Menu Cake & Cookie Collection,...   \n",
       "8820  2021    11  10  Sistem Listrik World Superbike Sama Seperti Is...   \n",
       "8821  2021    11  10  12 Tarian Klasik Yogyakarta Tampil di Dubai Wo...   \n",
       "8822  2021    11  10  Melancong ke Shibuya Jepang, Tak Lengkap Jika ...   \n",
       "8823  2021    11  10  10 Hotel Ramah Lingkungan, Ada yang Terletak d...   \n",
       "\n",
       "                                            Description  \\\n",
       "0     TEMPO.CO, Jakarta - Dubai terpilih menjadi des...   \n",
       "1     TEMPO.CO, Cirebon - Tahun ini Kota Cirebon ber...   \n",
       "2     TEMPO.CO, Jakarta - Wisata religi bisa menjadi...   \n",
       "3     TEMPO.CO, Jakarta - Saat ini makin banyak oran...   \n",
       "4     TEMPO.CO, Jakarta - Brazil menunda pemberlakua...   \n",
       "...                                                 ...   \n",
       "8819  TEMPO.CO, Jakarta - Minuman cheese tea Gulu Gu...   \n",
       "8820  TEMPO.CO, Mataram - PT Perusahaan Listrik Nega...   \n",
       "8821  TEMPO.CO, Yogyakarta - Pemerintah Daerah Istim...   \n",
       "8822  TEMPO.CO, Jakarta -Shibuya menjadi lokasi yang...   \n",
       "8823  TEMPO.CO, Jakarta - Menginap di hotel ramah li...   \n",
       "\n",
       "                                                   Link  \n",
       "0     https://travel.tempo.co/read/1819232/dubai-des...  \n",
       "1     https://travel.tempo.co/read/1819200/tahun-ini...  \n",
       "2     https://travel.tempo.co/read/1819156/10-wisata...  \n",
       "3     https://travel.tempo.co/read/1819147/mengenal-...  \n",
       "4     https://travel.tempo.co/read/1819083/brazil-me...  \n",
       "...                                                 ...  \n",
       "8819  https://travel.tempo.co/read/1527166/gulu-gulu...  \n",
       "8820  https://travel.tempo.co/read/1527152/sistem-li...  \n",
       "8821  https://travel.tempo.co/read/1527092/12-tarian...  \n",
       "8822  https://travel.tempo.co/read/1527054/melancong...  \n",
       "8823  https://travel.tempo.co/read/1527055/10-hotel-...  \n",
       "\n",
       "[8824 rows x 6 columns]"
      ]
     },
     "execution_count": 155,
     "metadata": {},
     "output_type": "execute_result"
    }
   ],
   "source": [
    "# df_tempo_article1 = df_tempo_article.copy()\n",
    "df_tempo_article1"
   ]
  },
  {
   "cell_type": "code",
   "execution_count": 156,
   "id": "4def5424-f804-4ff2-8160-854a0ce02fce",
   "metadata": {},
   "outputs": [
    {
     "data": {
      "text/html": [
       "<div>\n",
       "<style scoped>\n",
       "    .dataframe tbody tr th:only-of-type {\n",
       "        vertical-align: middle;\n",
       "    }\n",
       "\n",
       "    .dataframe tbody tr th {\n",
       "        vertical-align: top;\n",
       "    }\n",
       "\n",
       "    .dataframe thead th {\n",
       "        text-align: right;\n",
       "    }\n",
       "</style>\n",
       "<table border=\"1\" class=\"dataframe\">\n",
       "  <thead>\n",
       "    <tr style=\"text-align: right;\">\n",
       "      <th></th>\n",
       "      <th>Year</th>\n",
       "      <th>Month</th>\n",
       "      <th>Day</th>\n",
       "      <th>Title</th>\n",
       "      <th>Description</th>\n",
       "      <th>Link</th>\n",
       "    </tr>\n",
       "  </thead>\n",
       "  <tbody>\n",
       "    <tr>\n",
       "      <th>0</th>\n",
       "      <td>2024</td>\n",
       "      <td>01</td>\n",
       "      <td>09</td>\n",
       "      <td>Dubai Destinasi Terpopuler di Dunia Menurut Tr...</td>\n",
       "      <td>TEMPO.CO, Jakarta - Dubai terpilih menjadi des...</td>\n",
       "      <td>https://travel.tempo.co/read/1819232/dubai-des...</td>\n",
       "    </tr>\n",
       "    <tr>\n",
       "      <th>1</th>\n",
       "      <td>2024</td>\n",
       "      <td>01</td>\n",
       "      <td>09</td>\n",
       "      <td>Tahun Ini Usia Cirebon Lebih Muda, Apa Sebabnya?</td>\n",
       "      <td>TEMPO.CO, Cirebon - Tahun ini Kota Cirebon ber...</td>\n",
       "      <td>https://travel.tempo.co/read/1819200/tahun-ini...</td>\n",
       "    </tr>\n",
       "    <tr>\n",
       "      <th>2</th>\n",
       "      <td>2024</td>\n",
       "      <td>01</td>\n",
       "      <td>09</td>\n",
       "      <td>10 Wisata Religi di Surabaya, Ada Ziarah Wali ...</td>\n",
       "      <td>TEMPO.CO, Jakarta - Wisata religi bisa menjadi...</td>\n",
       "      <td>https://travel.tempo.co/read/1819156/10-wisata...</td>\n",
       "    </tr>\n",
       "    <tr>\n",
       "      <th>3</th>\n",
       "      <td>2024</td>\n",
       "      <td>01</td>\n",
       "      <td>09</td>\n",
       "      <td>Mengenal Visa Digital Nomad, Keuntungan, dan C...</td>\n",
       "      <td>TEMPO.CO, Jakarta - Saat ini makin banyak oran...</td>\n",
       "      <td>https://travel.tempo.co/read/1819147/mengenal-...</td>\n",
       "    </tr>\n",
       "    <tr>\n",
       "      <th>4</th>\n",
       "      <td>2024</td>\n",
       "      <td>01</td>\n",
       "      <td>09</td>\n",
       "      <td>Brazil Menunda Persyaratan Visa untuk 3 Warga ...</td>\n",
       "      <td>TEMPO.CO, Jakarta - Brazil menunda pemberlakua...</td>\n",
       "      <td>https://travel.tempo.co/read/1819083/brazil-me...</td>\n",
       "    </tr>\n",
       "    <tr>\n",
       "      <th>...</th>\n",
       "      <td>...</td>\n",
       "      <td>...</td>\n",
       "      <td>...</td>\n",
       "      <td>...</td>\n",
       "      <td>...</td>\n",
       "      <td>...</td>\n",
       "    </tr>\n",
       "    <tr>\n",
       "      <th>12971</th>\n",
       "      <td>2018</td>\n",
       "      <td>01</td>\n",
       "      <td>19</td>\n",
       "      <td>Pesona Gunung Api dan Gua Bawah Laut Terpanjan...</td>\n",
       "      <td>TEMPO.CO, Jakarta - Dunia ilmu pengetahuan bar...</td>\n",
       "      <td>https://travel.tempo.co/read/1052100/pesona-gu...</td>\n",
       "    </tr>\n",
       "    <tr>\n",
       "      <th>12972</th>\n",
       "      <td>2018</td>\n",
       "      <td>01</td>\n",
       "      <td>19</td>\n",
       "      <td>Kain Pantai dan Oleh-oleh Indonesia Mencuri Pe...</td>\n",
       "      <td>TEMPO.CO, Jakarta - Indonesia kembali berparti...</td>\n",
       "      <td>https://travel.tempo.co/read/1052055/kain-pant...</td>\n",
       "    </tr>\n",
       "    <tr>\n",
       "      <th>12973</th>\n",
       "      <td>2018</td>\n",
       "      <td>01</td>\n",
       "      <td>19</td>\n",
       "      <td>Beragam Menu Melayu di Restoran Open Kitchen P...</td>\n",
       "      <td>TEMPO.CO, Riau - Food Exchange All Day Dining ...</td>\n",
       "      <td>https://travel.tempo.co/read/1052064/beragam-m...</td>\n",
       "    </tr>\n",
       "    <tr>\n",
       "      <th>12974</th>\n",
       "      <td>2018</td>\n",
       "      <td>01</td>\n",
       "      <td>19</td>\n",
       "      <td>Malaysia Jadi Tujuan Wisata Pensiunan Terbaik ...</td>\n",
       "      <td>TEMPO.CO, Jakarta - Malaysia terpilih sebagai ...</td>\n",
       "      <td>https://travel.tempo.co/read/1051975/malaysia-...</td>\n",
       "    </tr>\n",
       "    <tr>\n",
       "      <th>12975</th>\n",
       "      <td>2017</td>\n",
       "      <td>11</td>\n",
       "      <td>17</td>\n",
       "      <td>Mencicipi Kopi Baru Disangrai di Nggone Mbahmu...</td>\n",
       "      <td>TEMPO.CO, Klaten  - Meski mendeklarasikan ruma...</td>\n",
       "      <td>https://travel.tempo.co/read/1034710/mencicipi...</td>\n",
       "    </tr>\n",
       "  </tbody>\n",
       "</table>\n",
       "<p>21800 rows × 6 columns</p>\n",
       "</div>"
      ],
      "text/plain": [
       "       Year Month Day                                              Title  \\\n",
       "0      2024    01  09  Dubai Destinasi Terpopuler di Dunia Menurut Tr...   \n",
       "1      2024    01  09  Tahun Ini Usia Cirebon Lebih Muda, Apa Sebabnya?    \n",
       "2      2024    01  09  10 Wisata Religi di Surabaya, Ada Ziarah Wali ...   \n",
       "3      2024    01  09  Mengenal Visa Digital Nomad, Keuntungan, dan C...   \n",
       "4      2024    01  09  Brazil Menunda Persyaratan Visa untuk 3 Warga ...   \n",
       "...     ...   ...  ..                                                ...   \n",
       "12971  2018    01  19  Pesona Gunung Api dan Gua Bawah Laut Terpanjan...   \n",
       "12972  2018    01  19  Kain Pantai dan Oleh-oleh Indonesia Mencuri Pe...   \n",
       "12973  2018    01  19  Beragam Menu Melayu di Restoran Open Kitchen P...   \n",
       "12974  2018    01  19  Malaysia Jadi Tujuan Wisata Pensiunan Terbaik ...   \n",
       "12975  2017    11  17  Mencicipi Kopi Baru Disangrai di Nggone Mbahmu...   \n",
       "\n",
       "                                             Description  \\\n",
       "0      TEMPO.CO, Jakarta - Dubai terpilih menjadi des...   \n",
       "1      TEMPO.CO, Cirebon - Tahun ini Kota Cirebon ber...   \n",
       "2      TEMPO.CO, Jakarta - Wisata religi bisa menjadi...   \n",
       "3      TEMPO.CO, Jakarta - Saat ini makin banyak oran...   \n",
       "4      TEMPO.CO, Jakarta - Brazil menunda pemberlakua...   \n",
       "...                                                  ...   \n",
       "12971  TEMPO.CO, Jakarta - Dunia ilmu pengetahuan bar...   \n",
       "12972  TEMPO.CO, Jakarta - Indonesia kembali berparti...   \n",
       "12973  TEMPO.CO, Riau - Food Exchange All Day Dining ...   \n",
       "12974  TEMPO.CO, Jakarta - Malaysia terpilih sebagai ...   \n",
       "12975  TEMPO.CO, Klaten  - Meski mendeklarasikan ruma...   \n",
       "\n",
       "                                                    Link  \n",
       "0      https://travel.tempo.co/read/1819232/dubai-des...  \n",
       "1      https://travel.tempo.co/read/1819200/tahun-ini...  \n",
       "2      https://travel.tempo.co/read/1819156/10-wisata...  \n",
       "3      https://travel.tempo.co/read/1819147/mengenal-...  \n",
       "4      https://travel.tempo.co/read/1819083/brazil-me...  \n",
       "...                                                  ...  \n",
       "12971  https://travel.tempo.co/read/1052100/pesona-gu...  \n",
       "12972  https://travel.tempo.co/read/1052055/kain-pant...  \n",
       "12973  https://travel.tempo.co/read/1052064/beragam-m...  \n",
       "12974  https://travel.tempo.co/read/1051975/malaysia-...  \n",
       "12975  https://travel.tempo.co/read/1034710/mencicipi...  \n",
       "\n",
       "[21800 rows x 6 columns]"
      ]
     },
     "execution_count": 156,
     "metadata": {},
     "output_type": "execute_result"
    }
   ],
   "source": [
    "pd.concat([df_tempo_article1, df_tempo_article3], axis=0)"
   ]
  },
  {
   "cell_type": "code",
   "execution_count": 161,
   "id": "827d3b84",
   "metadata": {},
   "outputs": [],
   "source": [
    "df_tempo_full = pd.concat([df_tempo_article1, df_tempo_article3], axis=0).drop_duplicates('Link', keep='last').sort_values(['Year', 'Month', 'Day'], ascending=False).reset_index(drop=True)"
   ]
  },
  {
   "cell_type": "code",
   "execution_count": 162,
   "id": "de889d1f-8e3c-4134-9f11-6507b4de9013",
   "metadata": {},
   "outputs": [
    {
     "data": {
      "text/html": [
       "<div>\n",
       "<style scoped>\n",
       "    .dataframe tbody tr th:only-of-type {\n",
       "        vertical-align: middle;\n",
       "    }\n",
       "\n",
       "    .dataframe tbody tr th {\n",
       "        vertical-align: top;\n",
       "    }\n",
       "\n",
       "    .dataframe thead th {\n",
       "        text-align: right;\n",
       "    }\n",
       "</style>\n",
       "<table border=\"1\" class=\"dataframe\">\n",
       "  <thead>\n",
       "    <tr style=\"text-align: right;\">\n",
       "      <th></th>\n",
       "      <th>Year</th>\n",
       "      <th>Month</th>\n",
       "      <th>Day</th>\n",
       "      <th>Title</th>\n",
       "      <th>Description</th>\n",
       "      <th>Link</th>\n",
       "    </tr>\n",
       "  </thead>\n",
       "  <tbody>\n",
       "    <tr>\n",
       "      <th>0</th>\n",
       "      <td>2024</td>\n",
       "      <td>01</td>\n",
       "      <td>09</td>\n",
       "      <td>Dubai Destinasi Terpopuler di Dunia Menurut Tr...</td>\n",
       "      <td>TEMPO.CO, Jakarta - Dubai terpilih menjadi des...</td>\n",
       "      <td>https://travel.tempo.co/read/1819232/dubai-des...</td>\n",
       "    </tr>\n",
       "    <tr>\n",
       "      <th>1</th>\n",
       "      <td>2024</td>\n",
       "      <td>01</td>\n",
       "      <td>09</td>\n",
       "      <td>Tahun Ini Usia Cirebon Lebih Muda, Apa Sebabnya?</td>\n",
       "      <td>TEMPO.CO, Cirebon - Tahun ini Kota Cirebon ber...</td>\n",
       "      <td>https://travel.tempo.co/read/1819200/tahun-ini...</td>\n",
       "    </tr>\n",
       "    <tr>\n",
       "      <th>2</th>\n",
       "      <td>2024</td>\n",
       "      <td>01</td>\n",
       "      <td>09</td>\n",
       "      <td>10 Wisata Religi di Surabaya, Ada Ziarah Wali ...</td>\n",
       "      <td>TEMPO.CO, Jakarta - Wisata religi bisa menjadi...</td>\n",
       "      <td>https://travel.tempo.co/read/1819156/10-wisata...</td>\n",
       "    </tr>\n",
       "    <tr>\n",
       "      <th>3</th>\n",
       "      <td>2024</td>\n",
       "      <td>01</td>\n",
       "      <td>09</td>\n",
       "      <td>Mengenal Visa Digital Nomad, Keuntungan, dan C...</td>\n",
       "      <td>TEMPO.CO, Jakarta - Saat ini makin banyak oran...</td>\n",
       "      <td>https://travel.tempo.co/read/1819147/mengenal-...</td>\n",
       "    </tr>\n",
       "    <tr>\n",
       "      <th>4</th>\n",
       "      <td>2024</td>\n",
       "      <td>01</td>\n",
       "      <td>09</td>\n",
       "      <td>Brazil Menunda Persyaratan Visa untuk 3 Warga ...</td>\n",
       "      <td>TEMPO.CO, Jakarta - Brazil menunda pemberlakua...</td>\n",
       "      <td>https://travel.tempo.co/read/1819083/brazil-me...</td>\n",
       "    </tr>\n",
       "  </tbody>\n",
       "</table>\n",
       "</div>"
      ],
      "text/plain": [
       "   Year Month Day                                              Title  \\\n",
       "0  2024    01  09  Dubai Destinasi Terpopuler di Dunia Menurut Tr...   \n",
       "1  2024    01  09  Tahun Ini Usia Cirebon Lebih Muda, Apa Sebabnya?    \n",
       "2  2024    01  09  10 Wisata Religi di Surabaya, Ada Ziarah Wali ...   \n",
       "3  2024    01  09  Mengenal Visa Digital Nomad, Keuntungan, dan C...   \n",
       "4  2024    01  09  Brazil Menunda Persyaratan Visa untuk 3 Warga ...   \n",
       "\n",
       "                                         Description  \\\n",
       "0  TEMPO.CO, Jakarta - Dubai terpilih menjadi des...   \n",
       "1  TEMPO.CO, Cirebon - Tahun ini Kota Cirebon ber...   \n",
       "2  TEMPO.CO, Jakarta - Wisata religi bisa menjadi...   \n",
       "3  TEMPO.CO, Jakarta - Saat ini makin banyak oran...   \n",
       "4  TEMPO.CO, Jakarta - Brazil menunda pemberlakua...   \n",
       "\n",
       "                                                Link  \n",
       "0  https://travel.tempo.co/read/1819232/dubai-des...  \n",
       "1  https://travel.tempo.co/read/1819200/tahun-ini...  \n",
       "2  https://travel.tempo.co/read/1819156/10-wisata...  \n",
       "3  https://travel.tempo.co/read/1819147/mengenal-...  \n",
       "4  https://travel.tempo.co/read/1819083/brazil-me...  "
      ]
     },
     "execution_count": 162,
     "metadata": {},
     "output_type": "execute_result"
    }
   ],
   "source": [
    "df_tempo_full.head()"
   ]
  },
  {
   "cell_type": "code",
   "execution_count": 163,
   "id": "c696ac9d-d092-42d0-ae32-3b2d384d2801",
   "metadata": {},
   "outputs": [],
   "source": [
    "df_tempo_full.to_csv('./dataset/tempo_article_attraction.csv', index=False)"
   ]
  },
  {
   "cell_type": "code",
   "execution_count": null,
   "id": "9be8e8c3-1765-4d33-800e-8805688829f9",
   "metadata": {},
   "outputs": [],
   "source": []
  },
  {
   "cell_type": "code",
   "execution_count": null,
   "id": "151d6f3a-956d-4ad0-85c4-edd694156434",
   "metadata": {},
   "outputs": [],
   "source": []
  },
  {
   "cell_type": "code",
   "execution_count": null,
   "id": "7b9486c8-c1de-4009-96aa-b6f6eaa63619",
   "metadata": {},
   "outputs": [],
   "source": []
  },
  {
   "cell_type": "code",
   "execution_count": null,
   "id": "2f448fc3-c201-4d74-abde-a9580e73fc15",
   "metadata": {},
   "outputs": [],
   "source": []
  },
  {
   "cell_type": "code",
   "execution_count": null,
   "id": "2e833780-4a37-4517-ac21-18adce42e99c",
   "metadata": {},
   "outputs": [],
   "source": []
  },
  {
   "cell_type": "code",
   "execution_count": null,
   "id": "1c93fefd-c118-4c82-a595-3334ec92fa59",
   "metadata": {},
   "outputs": [],
   "source": []
  },
  {
   "cell_type": "code",
   "execution_count": null,
   "id": "a682d82a-5d9e-4a61-81fd-3922025012e6",
   "metadata": {},
   "outputs": [],
   "source": []
  },
  {
   "cell_type": "code",
   "execution_count": null,
   "id": "13900936-589c-4be0-a44e-c44244a6a0c3",
   "metadata": {},
   "outputs": [],
   "source": []
  },
  {
   "cell_type": "code",
   "execution_count": 2,
   "id": "a19e3214-8fcf-44d4-a930-d2f4095e082b",
   "metadata": {},
   "outputs": [],
   "source": [
    "def get_url_request(url):\n",
    "    useragent_rotate = generate_user_agent()\n",
    "    headers = {\n",
    "        'User-Agent': useragent_rotate\n",
    "    }\n",
    "    \n",
    "    response  = requests.get(url, headers=headers)\n",
    "    return response"
   ]
  },
  {
   "cell_type": "code",
   "execution_count": 3,
   "id": "289aeb10-57c4-4480-8959-db06fffd5554",
   "metadata": {},
   "outputs": [],
   "source": [
    "url = 'https://www.tempo.co/indeks/{}-{}-{}/travel'\n",
    "article_information_dict = {}\n",
    "\n",
    "date_latest = datetime.date(2021, 11, 29)\n",
    "date_early = datetime.date(2014, 1, 9)\n",
    "dates = [date_latest - datetime.timedelta(days=x) for x in range((date_latest-date_early).days + 1)]"
   ]
  },
  {
   "cell_type": "code",
   "execution_count": 4,
   "id": "a744d396-221b-4dcb-a93f-072fa7a245f3",
   "metadata": {
    "scrolled": true
   },
   "outputs": [
    {
     "data": {
      "text/plain": [
       "'https://www.tempo.co/indeks/2014-01-09/travel'"
      ]
     },
     "metadata": {},
     "output_type": "display_data"
    },
    {
     "data": {
      "application/vnd.jupyter.widget-view+json": {
       "model_id": "2fd99ee962e84461900186712ad6c2d4",
       "version_major": 2,
       "version_minor": 0
      },
      "text/plain": [
       "Looping Each Dates:   0%|          | 0/2882 [00:00<?, ?it/s]"
      ]
     },
     "metadata": {},
     "output_type": "display_data"
    },
    {
     "data": {},
     "metadata": {},
     "output_type": "display_data"
    },
    {
     "data": {
      "application/vnd.jupyter.widget-view+json": {
       "model_id": "",
       "version_major": 2,
       "version_minor": 0
      },
      "text/plain": [
       "Looping Each Links of Dates: 2021-11-29:   0%|          | 0/9 [00:00<?, ?it/s]"
      ]
     },
     "metadata": {},
     "output_type": "display_data"
    },
    {
     "data": {},
     "metadata": {},
     "output_type": "display_data"
    },
    {
     "data": {
      "application/vnd.jupyter.widget-view+json": {
       "model_id": "",
       "version_major": 2,
       "version_minor": 0
      },
      "text/plain": [
       "Looping Each Links of Dates: 2021-11-28:   0%|          | 0/13 [00:00<?, ?it/s]"
      ]
     },
     "metadata": {},
     "output_type": "display_data"
    },
    {
     "data": {},
     "metadata": {},
     "output_type": "display_data"
    },
    {
     "data": {
      "application/vnd.jupyter.widget-view+json": {
       "model_id": "",
       "version_major": 2,
       "version_minor": 0
      },
      "text/plain": [
       "Looping Each Links of Dates: 2021-11-27:   0%|          | 0/9 [00:00<?, ?it/s]"
      ]
     },
     "metadata": {},
     "output_type": "display_data"
    },
    {
     "data": {},
     "metadata": {},
     "output_type": "display_data"
    },
    {
     "data": {
      "application/vnd.jupyter.widget-view+json": {
       "model_id": "",
       "version_major": 2,
       "version_minor": 0
      },
      "text/plain": [
       "Looping Each Links of Dates: 2021-11-26:   0%|          | 0/10 [00:00<?, ?it/s]"
      ]
     },
     "metadata": {},
     "output_type": "display_data"
    },
    {
     "data": {},
     "metadata": {},
     "output_type": "display_data"
    },
    {
     "data": {
      "application/vnd.jupyter.widget-view+json": {
       "model_id": "",
       "version_major": 2,
       "version_minor": 0
      },
      "text/plain": [
       "Looping Each Links of Dates: 2021-11-25:   0%|          | 0/15 [00:00<?, ?it/s]"
      ]
     },
     "metadata": {},
     "output_type": "display_data"
    },
    {
     "data": {},
     "metadata": {},
     "output_type": "display_data"
    },
    {
     "data": {
      "application/vnd.jupyter.widget-view+json": {
       "model_id": "",
       "version_major": 2,
       "version_minor": 0
      },
      "text/plain": [
       "Looping Each Links of Dates: 2021-11-24:   0%|          | 0/10 [00:00<?, ?it/s]"
      ]
     },
     "metadata": {},
     "output_type": "display_data"
    },
    {
     "data": {},
     "metadata": {},
     "output_type": "display_data"
    },
    {
     "data": {
      "application/vnd.jupyter.widget-view+json": {
       "model_id": "",
       "version_major": 2,
       "version_minor": 0
      },
      "text/plain": [
       "Looping Each Links of Dates: 2021-11-23:   0%|          | 0/11 [00:00<?, ?it/s]"
      ]
     },
     "metadata": {},
     "output_type": "display_data"
    },
    {
     "data": {},
     "metadata": {},
     "output_type": "display_data"
    },
    {
     "data": {
      "application/vnd.jupyter.widget-view+json": {
       "model_id": "",
       "version_major": 2,
       "version_minor": 0
      },
      "text/plain": [
       "Looping Each Links of Dates: 2021-11-22:   0%|          | 0/8 [00:00<?, ?it/s]"
      ]
     },
     "metadata": {},
     "output_type": "display_data"
    },
    {
     "data": {},
     "metadata": {},
     "output_type": "display_data"
    },
    {
     "data": {
      "application/vnd.jupyter.widget-view+json": {
       "model_id": "",
       "version_major": 2,
       "version_minor": 0
      },
      "text/plain": [
       "Looping Each Links of Dates: 2021-11-21:   0%|          | 0/8 [00:00<?, ?it/s]"
      ]
     },
     "metadata": {},
     "output_type": "display_data"
    },
    {
     "data": {},
     "metadata": {},
     "output_type": "display_data"
    },
    {
     "data": {
      "application/vnd.jupyter.widget-view+json": {
       "model_id": "",
       "version_major": 2,
       "version_minor": 0
      },
      "text/plain": [
       "Looping Each Links of Dates: 2021-11-20:   0%|          | 0/10 [00:00<?, ?it/s]"
      ]
     },
     "metadata": {},
     "output_type": "display_data"
    },
    {
     "data": {},
     "metadata": {},
     "output_type": "display_data"
    },
    {
     "data": {
      "application/vnd.jupyter.widget-view+json": {
       "model_id": "",
       "version_major": 2,
       "version_minor": 0
      },
      "text/plain": [
       "Looping Each Links of Dates: 2021-11-19:   0%|          | 0/8 [00:00<?, ?it/s]"
      ]
     },
     "metadata": {},
     "output_type": "display_data"
    },
    {
     "data": {},
     "metadata": {},
     "output_type": "display_data"
    },
    {
     "data": {
      "application/vnd.jupyter.widget-view+json": {
       "model_id": "",
       "version_major": 2,
       "version_minor": 0
      },
      "text/plain": [
       "Looping Each Links of Dates: 2021-11-18:   0%|          | 0/9 [00:00<?, ?it/s]"
      ]
     },
     "metadata": {},
     "output_type": "display_data"
    },
    {
     "data": {},
     "metadata": {},
     "output_type": "display_data"
    },
    {
     "data": {
      "application/vnd.jupyter.widget-view+json": {
       "model_id": "",
       "version_major": 2,
       "version_minor": 0
      },
      "text/plain": [
       "Looping Each Links of Dates: 2021-11-17:   0%|          | 0/11 [00:00<?, ?it/s]"
      ]
     },
     "metadata": {},
     "output_type": "display_data"
    },
    {
     "data": {},
     "metadata": {},
     "output_type": "display_data"
    },
    {
     "data": {
      "application/vnd.jupyter.widget-view+json": {
       "model_id": "",
       "version_major": 2,
       "version_minor": 0
      },
      "text/plain": [
       "Looping Each Links of Dates: 2021-11-16:   0%|          | 0/14 [00:00<?, ?it/s]"
      ]
     },
     "metadata": {},
     "output_type": "display_data"
    },
    {
     "data": {},
     "metadata": {},
     "output_type": "display_data"
    },
    {
     "data": {
      "application/vnd.jupyter.widget-view+json": {
       "model_id": "",
       "version_major": 2,
       "version_minor": 0
      },
      "text/plain": [
       "Looping Each Links of Dates: 2021-11-15:   0%|          | 0/3 [00:00<?, ?it/s]"
      ]
     },
     "metadata": {},
     "output_type": "display_data"
    },
    {
     "data": {},
     "metadata": {},
     "output_type": "display_data"
    },
    {
     "data": {
      "application/vnd.jupyter.widget-view+json": {
       "model_id": "",
       "version_major": 2,
       "version_minor": 0
      },
      "text/plain": [
       "Looping Each Links of Dates: 2021-11-14:   0%|          | 0/12 [00:00<?, ?it/s]"
      ]
     },
     "metadata": {},
     "output_type": "display_data"
    },
    {
     "data": {},
     "metadata": {},
     "output_type": "display_data"
    },
    {
     "data": {
      "application/vnd.jupyter.widget-view+json": {
       "model_id": "",
       "version_major": 2,
       "version_minor": 0
      },
      "text/plain": [
       "Looping Each Links of Dates: 2021-11-13:   0%|          | 0/12 [00:00<?, ?it/s]"
      ]
     },
     "metadata": {},
     "output_type": "display_data"
    },
    {
     "data": {},
     "metadata": {},
     "output_type": "display_data"
    },
    {
     "data": {
      "application/vnd.jupyter.widget-view+json": {
       "model_id": "",
       "version_major": 2,
       "version_minor": 0
      },
      "text/plain": [
       "Looping Each Links of Dates: 2021-11-12:   0%|          | 0/11 [00:00<?, ?it/s]"
      ]
     },
     "metadata": {},
     "output_type": "display_data"
    },
    {
     "data": {},
     "metadata": {},
     "output_type": "display_data"
    },
    {
     "data": {
      "application/vnd.jupyter.widget-view+json": {
       "model_id": "",
       "version_major": 2,
       "version_minor": 0
      },
      "text/plain": [
       "Looping Each Links of Dates: 2021-11-11:   0%|          | 0/12 [00:00<?, ?it/s]"
      ]
     },
     "metadata": {},
     "output_type": "display_data"
    },
    {
     "data": {},
     "metadata": {},
     "output_type": "display_data"
    },
    {
     "data": {
      "application/vnd.jupyter.widget-view+json": {
       "model_id": "",
       "version_major": 2,
       "version_minor": 0
      },
      "text/plain": [
       "Looping Each Links of Dates: 2021-11-10:   0%|          | 0/14 [00:00<?, ?it/s]"
      ]
     },
     "metadata": {},
     "output_type": "display_data"
    },
    {
     "data": {},
     "metadata": {},
     "output_type": "display_data"
    },
    {
     "data": {
      "application/vnd.jupyter.widget-view+json": {
       "model_id": "",
       "version_major": 2,
       "version_minor": 0
      },
      "text/plain": [
       "Looping Each Links of Dates: 2021-11-09:   0%|          | 0/11 [00:00<?, ?it/s]"
      ]
     },
     "metadata": {},
     "output_type": "display_data"
    },
    {
     "data": {},
     "metadata": {},
     "output_type": "display_data"
    },
    {
     "data": {
      "application/vnd.jupyter.widget-view+json": {
       "model_id": "",
       "version_major": 2,
       "version_minor": 0
      },
      "text/plain": [
       "Looping Each Links of Dates: 2021-11-08:   0%|          | 0/12 [00:00<?, ?it/s]"
      ]
     },
     "metadata": {},
     "output_type": "display_data"
    },
    {
     "data": {},
     "metadata": {},
     "output_type": "display_data"
    },
    {
     "data": {
      "application/vnd.jupyter.widget-view+json": {
       "model_id": "",
       "version_major": 2,
       "version_minor": 0
      },
      "text/plain": [
       "Looping Each Links of Dates: 2021-11-07:   0%|          | 0/14 [00:00<?, ?it/s]"
      ]
     },
     "metadata": {},
     "output_type": "display_data"
    },
    {
     "data": {},
     "metadata": {},
     "output_type": "display_data"
    },
    {
     "data": {
      "application/vnd.jupyter.widget-view+json": {
       "model_id": "",
       "version_major": 2,
       "version_minor": 0
      },
      "text/plain": [
       "Looping Each Links of Dates: 2021-11-06:   0%|          | 0/9 [00:00<?, ?it/s]"
      ]
     },
     "metadata": {},
     "output_type": "display_data"
    },
    {
     "data": {},
     "metadata": {},
     "output_type": "display_data"
    },
    {
     "data": {
      "application/vnd.jupyter.widget-view+json": {
       "model_id": "e2f6c98b124f48579c21cf359d130a52",
       "version_major": 2,
       "version_minor": 0
      },
      "text/plain": [
       "Looping Each Links of Dates: 2021-11-05:   0%|          | 0/14 [00:00<?, ?it/s]"
      ]
     },
     "metadata": {},
     "output_type": "display_data"
    },
    {
     "data": {},
     "metadata": {},
     "output_type": "display_data"
    },
    {
     "data": {
      "application/vnd.jupyter.widget-view+json": {
       "model_id": "492eac384fe84c97a0f3cea2a589ea40",
       "version_major": 2,
       "version_minor": 0
      },
      "text/plain": [
       "Looping Each Links of Dates: 2021-11-04:   0%|          | 0/10 [00:00<?, ?it/s]"
      ]
     },
     "metadata": {},
     "output_type": "display_data"
    },
    {
     "data": {},
     "metadata": {},
     "output_type": "display_data"
    },
    {
     "data": {
      "application/vnd.jupyter.widget-view+json": {
       "model_id": "7e7eeaed2e1d4ba9ae5fc60349829f52",
       "version_major": 2,
       "version_minor": 0
      },
      "text/plain": [
       "Looping Each Links of Dates: 2021-11-03:   0%|          | 0/12 [00:00<?, ?it/s]"
      ]
     },
     "metadata": {},
     "output_type": "display_data"
    },
    {
     "data": {},
     "metadata": {},
     "output_type": "display_data"
    },
    {
     "data": {
      "application/vnd.jupyter.widget-view+json": {
       "model_id": "f36f4d882dfd4b2db44c19800e1e860f",
       "version_major": 2,
       "version_minor": 0
      },
      "text/plain": [
       "Looping Each Links of Dates: 2021-11-02:   0%|          | 0/12 [00:00<?, ?it/s]"
      ]
     },
     "metadata": {},
     "output_type": "display_data"
    },
    {
     "data": {},
     "metadata": {},
     "output_type": "display_data"
    },
    {
     "data": {
      "application/vnd.jupyter.widget-view+json": {
       "model_id": "6f893d491b01454ca3145933f278c9e2",
       "version_major": 2,
       "version_minor": 0
      },
      "text/plain": [
       "Looping Each Links of Dates: 2021-11-01:   0%|          | 0/11 [00:00<?, ?it/s]"
      ]
     },
     "metadata": {},
     "output_type": "display_data"
    },
    {
     "data": {},
     "metadata": {},
     "output_type": "display_data"
    },
    {
     "data": {
      "application/vnd.jupyter.widget-view+json": {
       "model_id": "f9d5897a49fe40319fafe77a34db3704",
       "version_major": 2,
       "version_minor": 0
      },
      "text/plain": [
       "Looping Each Links of Dates: 2021-10-31:   0%|          | 0/10 [00:00<?, ?it/s]"
      ]
     },
     "metadata": {},
     "output_type": "display_data"
    },
    {
     "data": {},
     "metadata": {},
     "output_type": "display_data"
    },
    {
     "data": {
      "application/vnd.jupyter.widget-view+json": {
       "model_id": "d7744a63f2bd4aff9aad11e7cdf39862",
       "version_major": 2,
       "version_minor": 0
      },
      "text/plain": [
       "Looping Each Links of Dates: 2021-10-30:   0%|          | 0/10 [00:00<?, ?it/s]"
      ]
     },
     "metadata": {},
     "output_type": "display_data"
    },
    {
     "data": {},
     "metadata": {},
     "output_type": "display_data"
    },
    {
     "data": {
      "application/vnd.jupyter.widget-view+json": {
       "model_id": "1ebd88cedf1449e5a1341f2308a560bf",
       "version_major": 2,
       "version_minor": 0
      },
      "text/plain": [
       "Looping Each Links of Dates: 2021-10-29:   0%|          | 0/13 [00:00<?, ?it/s]"
      ]
     },
     "metadata": {},
     "output_type": "display_data"
    },
    {
     "data": {},
     "metadata": {},
     "output_type": "display_data"
    },
    {
     "data": {
      "application/vnd.jupyter.widget-view+json": {
       "model_id": "9502f177dcb94f2cba9b0846cab8dd22",
       "version_major": 2,
       "version_minor": 0
      },
      "text/plain": [
       "Looping Each Links of Dates: 2021-10-28:   0%|          | 0/9 [00:00<?, ?it/s]"
      ]
     },
     "metadata": {},
     "output_type": "display_data"
    },
    {
     "data": {},
     "metadata": {},
     "output_type": "display_data"
    },
    {
     "data": {
      "application/vnd.jupyter.widget-view+json": {
       "model_id": "7bc19ae8740e4ebe8b678d73cb62e41b",
       "version_major": 2,
       "version_minor": 0
      },
      "text/plain": [
       "Looping Each Links of Dates: 2021-10-27:   0%|          | 0/10 [00:00<?, ?it/s]"
      ]
     },
     "metadata": {},
     "output_type": "display_data"
    },
    {
     "data": {},
     "metadata": {},
     "output_type": "display_data"
    },
    {
     "data": {
      "application/vnd.jupyter.widget-view+json": {
       "model_id": "e629a5ca606a40aeb68637c900e3ae6f",
       "version_major": 2,
       "version_minor": 0
      },
      "text/plain": [
       "Looping Each Links of Dates: 2021-10-26:   0%|          | 0/18 [00:00<?, ?it/s]"
      ]
     },
     "metadata": {},
     "output_type": "display_data"
    },
    {
     "data": {},
     "metadata": {},
     "output_type": "display_data"
    },
    {
     "data": {
      "application/vnd.jupyter.widget-view+json": {
       "model_id": "7bbbda6280c4470393b15f1bc17514e9",
       "version_major": 2,
       "version_minor": 0
      },
      "text/plain": [
       "Looping Each Links of Dates: 2021-10-25:   0%|          | 0/12 [00:00<?, ?it/s]"
      ]
     },
     "metadata": {},
     "output_type": "display_data"
    },
    {
     "data": {},
     "metadata": {},
     "output_type": "display_data"
    },
    {
     "data": {
      "application/vnd.jupyter.widget-view+json": {
       "model_id": "ce46bbebc37a4b8d8101b3e326f728f3",
       "version_major": 2,
       "version_minor": 0
      },
      "text/plain": [
       "Looping Each Links of Dates: 2021-10-24:   0%|          | 0/14 [00:00<?, ?it/s]"
      ]
     },
     "metadata": {},
     "output_type": "display_data"
    },
    {
     "data": {},
     "metadata": {},
     "output_type": "display_data"
    },
    {
     "data": {
      "application/vnd.jupyter.widget-view+json": {
       "model_id": "d051fdf887644d72b3cc34deb327d006",
       "version_major": 2,
       "version_minor": 0
      },
      "text/plain": [
       "Looping Each Links of Dates: 2021-10-23:   0%|          | 0/10 [00:00<?, ?it/s]"
      ]
     },
     "metadata": {},
     "output_type": "display_data"
    },
    {
     "data": {},
     "metadata": {},
     "output_type": "display_data"
    },
    {
     "data": {
      "application/vnd.jupyter.widget-view+json": {
       "model_id": "d460eb57a99e49fc94c02aa783c371a4",
       "version_major": 2,
       "version_minor": 0
      },
      "text/plain": [
       "Looping Each Links of Dates: 2021-10-22:   0%|          | 0/8 [00:00<?, ?it/s]"
      ]
     },
     "metadata": {},
     "output_type": "display_data"
    },
    {
     "data": {},
     "metadata": {},
     "output_type": "display_data"
    },
    {
     "data": {
      "application/vnd.jupyter.widget-view+json": {
       "model_id": "9c3bc8902c39428fa54f4d9e236b720f",
       "version_major": 2,
       "version_minor": 0
      },
      "text/plain": [
       "Looping Each Links of Dates: 2021-10-21:   0%|          | 0/13 [00:00<?, ?it/s]"
      ]
     },
     "metadata": {},
     "output_type": "display_data"
    },
    {
     "data": {},
     "metadata": {},
     "output_type": "display_data"
    },
    {
     "data": {
      "application/vnd.jupyter.widget-view+json": {
       "model_id": "03bf5dc0d7284cb29f5c826a202ac366",
       "version_major": 2,
       "version_minor": 0
      },
      "text/plain": [
       "Looping Each Links of Dates: 2021-10-20:   0%|          | 0/14 [00:00<?, ?it/s]"
      ]
     },
     "metadata": {},
     "output_type": "display_data"
    },
    {
     "data": {},
     "metadata": {},
     "output_type": "display_data"
    },
    {
     "data": {
      "application/vnd.jupyter.widget-view+json": {
       "model_id": "2dcd1fcf83f3453e9c27c7531233dabc",
       "version_major": 2,
       "version_minor": 0
      },
      "text/plain": [
       "Looping Each Links of Dates: 2021-10-19:   0%|          | 0/14 [00:00<?, ?it/s]"
      ]
     },
     "metadata": {},
     "output_type": "display_data"
    },
    {
     "data": {},
     "metadata": {},
     "output_type": "display_data"
    },
    {
     "data": {
      "application/vnd.jupyter.widget-view+json": {
       "model_id": "9a940649752e4918b3091b93b1f8bdd4",
       "version_major": 2,
       "version_minor": 0
      },
      "text/plain": [
       "Looping Each Links of Dates: 2021-10-18:   0%|          | 0/16 [00:00<?, ?it/s]"
      ]
     },
     "metadata": {},
     "output_type": "display_data"
    },
    {
     "data": {},
     "metadata": {},
     "output_type": "display_data"
    },
    {
     "data": {
      "application/vnd.jupyter.widget-view+json": {
       "model_id": "b75bae7f2eb341928b5e3cb8879e6b38",
       "version_major": 2,
       "version_minor": 0
      },
      "text/plain": [
       "Looping Each Links of Dates: 2021-10-17:   0%|          | 0/14 [00:00<?, ?it/s]"
      ]
     },
     "metadata": {},
     "output_type": "display_data"
    },
    {
     "data": {},
     "metadata": {},
     "output_type": "display_data"
    },
    {
     "data": {
      "application/vnd.jupyter.widget-view+json": {
       "model_id": "7aeb83f13a1b40b58a14bf4e5187349b",
       "version_major": 2,
       "version_minor": 0
      },
      "text/plain": [
       "Looping Each Links of Dates: 2021-10-16:   0%|          | 0/10 [00:00<?, ?it/s]"
      ]
     },
     "metadata": {},
     "output_type": "display_data"
    },
    {
     "data": {},
     "metadata": {},
     "output_type": "display_data"
    },
    {
     "data": {
      "application/vnd.jupyter.widget-view+json": {
       "model_id": "3c5d2bb24e5c4ef79a32fd1d31ebe1b7",
       "version_major": 2,
       "version_minor": 0
      },
      "text/plain": [
       "Looping Each Links of Dates: 2021-10-15:   0%|          | 0/10 [00:00<?, ?it/s]"
      ]
     },
     "metadata": {},
     "output_type": "display_data"
    },
    {
     "data": {},
     "metadata": {},
     "output_type": "display_data"
    },
    {
     "data": {
      "application/vnd.jupyter.widget-view+json": {
       "model_id": "c90f6264086d4004a3c621ad57b9868c",
       "version_major": 2,
       "version_minor": 0
      },
      "text/plain": [
       "Looping Each Links of Dates: 2021-10-14:   0%|          | 0/13 [00:00<?, ?it/s]"
      ]
     },
     "metadata": {},
     "output_type": "display_data"
    },
    {
     "data": {},
     "metadata": {},
     "output_type": "display_data"
    },
    {
     "data": {
      "application/vnd.jupyter.widget-view+json": {
       "model_id": "a2972885ecec4e10be62ce3fd5f0e3c5",
       "version_major": 2,
       "version_minor": 0
      },
      "text/plain": [
       "Looping Each Links of Dates: 2021-10-13:   0%|          | 0/12 [00:00<?, ?it/s]"
      ]
     },
     "metadata": {},
     "output_type": "display_data"
    },
    {
     "data": {},
     "metadata": {},
     "output_type": "display_data"
    },
    {
     "data": {
      "application/vnd.jupyter.widget-view+json": {
       "model_id": "7e647e1bcb224deebbf1b5549e520572",
       "version_major": 2,
       "version_minor": 0
      },
      "text/plain": [
       "Looping Each Links of Dates: 2021-10-12:   0%|          | 0/22 [00:00<?, ?it/s]"
      ]
     },
     "metadata": {},
     "output_type": "display_data"
    },
    {
     "data": {},
     "metadata": {},
     "output_type": "display_data"
    },
    {
     "data": {
      "application/vnd.jupyter.widget-view+json": {
       "model_id": "5ff0cb06eb544bb88f43735ea58e78af",
       "version_major": 2,
       "version_minor": 0
      },
      "text/plain": [
       "Looping Each Links of Dates: 2021-10-11:   0%|          | 0/11 [00:00<?, ?it/s]"
      ]
     },
     "metadata": {},
     "output_type": "display_data"
    },
    {
     "data": {},
     "metadata": {},
     "output_type": "display_data"
    },
    {
     "data": {
      "application/vnd.jupyter.widget-view+json": {
       "model_id": "a336c24852f74fcb97f1aae318fe0a67",
       "version_major": 2,
       "version_minor": 0
      },
      "text/plain": [
       "Looping Each Links of Dates: 2021-10-10:   0%|          | 0/10 [00:00<?, ?it/s]"
      ]
     },
     "metadata": {},
     "output_type": "display_data"
    },
    {
     "data": {},
     "metadata": {},
     "output_type": "display_data"
    },
    {
     "data": {
      "application/vnd.jupyter.widget-view+json": {
       "model_id": "c83ad39188754e29aaf0070ab3f78b56",
       "version_major": 2,
       "version_minor": 0
      },
      "text/plain": [
       "Looping Each Links of Dates: 2021-10-09:   0%|          | 0/14 [00:00<?, ?it/s]"
      ]
     },
     "metadata": {},
     "output_type": "display_data"
    },
    {
     "data": {},
     "metadata": {},
     "output_type": "display_data"
    },
    {
     "data": {
      "application/vnd.jupyter.widget-view+json": {
       "model_id": "042779fbb47f423e9cfff1cf86590023",
       "version_major": 2,
       "version_minor": 0
      },
      "text/plain": [
       "Looping Each Links of Dates: 2021-10-08:   0%|          | 0/10 [00:00<?, ?it/s]"
      ]
     },
     "metadata": {},
     "output_type": "display_data"
    },
    {
     "data": {},
     "metadata": {},
     "output_type": "display_data"
    },
    {
     "data": {
      "application/vnd.jupyter.widget-view+json": {
       "model_id": "76006a2cef8246d680241a8c04f05e61",
       "version_major": 2,
       "version_minor": 0
      },
      "text/plain": [
       "Looping Each Links of Dates: 2021-10-07:   0%|          | 0/9 [00:00<?, ?it/s]"
      ]
     },
     "metadata": {},
     "output_type": "display_data"
    },
    {
     "data": {},
     "metadata": {},
     "output_type": "display_data"
    },
    {
     "data": {
      "application/vnd.jupyter.widget-view+json": {
       "model_id": "6b322890d55444a5a2b5a5fbf7f3ad06",
       "version_major": 2,
       "version_minor": 0
      },
      "text/plain": [
       "Looping Each Links of Dates: 2021-10-06:   0%|          | 0/8 [00:00<?, ?it/s]"
      ]
     },
     "metadata": {},
     "output_type": "display_data"
    },
    {
     "data": {},
     "metadata": {},
     "output_type": "display_data"
    },
    {
     "data": {
      "application/vnd.jupyter.widget-view+json": {
       "model_id": "e1e6d44bdf074577947ba99c45b7d287",
       "version_major": 2,
       "version_minor": 0
      },
      "text/plain": [
       "Looping Each Links of Dates: 2021-10-05:   0%|          | 0/8 [00:00<?, ?it/s]"
      ]
     },
     "metadata": {},
     "output_type": "display_data"
    },
    {
     "data": {},
     "metadata": {},
     "output_type": "display_data"
    },
    {
     "data": {
      "application/vnd.jupyter.widget-view+json": {
       "model_id": "8a2bd302001e4c2786131f3ee1994c13",
       "version_major": 2,
       "version_minor": 0
      },
      "text/plain": [
       "Looping Each Links of Dates: 2021-10-04:   0%|          | 0/11 [00:00<?, ?it/s]"
      ]
     },
     "metadata": {},
     "output_type": "display_data"
    },
    {
     "data": {},
     "metadata": {},
     "output_type": "display_data"
    },
    {
     "data": {
      "application/vnd.jupyter.widget-view+json": {
       "model_id": "df179b63e7aa443190bfce02060f2d97",
       "version_major": 2,
       "version_minor": 0
      },
      "text/plain": [
       "Looping Each Links of Dates: 2021-10-03:   0%|          | 0/11 [00:00<?, ?it/s]"
      ]
     },
     "metadata": {},
     "output_type": "display_data"
    },
    {
     "data": {},
     "metadata": {},
     "output_type": "display_data"
    },
    {
     "data": {
      "application/vnd.jupyter.widget-view+json": {
       "model_id": "cadc798d90c14a55bca6021a90e14266",
       "version_major": 2,
       "version_minor": 0
      },
      "text/plain": [
       "Looping Each Links of Dates: 2021-10-02:   0%|          | 0/11 [00:00<?, ?it/s]"
      ]
     },
     "metadata": {},
     "output_type": "display_data"
    },
    {
     "data": {},
     "metadata": {},
     "output_type": "display_data"
    },
    {
     "data": {
      "application/vnd.jupyter.widget-view+json": {
       "model_id": "eb90b17872474f0e9c75a5bb8f9c9d9b",
       "version_major": 2,
       "version_minor": 0
      },
      "text/plain": [
       "Looping Each Links of Dates: 2021-10-01:   0%|          | 0/8 [00:00<?, ?it/s]"
      ]
     },
     "metadata": {},
     "output_type": "display_data"
    },
    {
     "data": {},
     "metadata": {},
     "output_type": "display_data"
    },
    {
     "data": {
      "application/vnd.jupyter.widget-view+json": {
       "model_id": "d49ec7e3db0345cc9b2ac66c92da005c",
       "version_major": 2,
       "version_minor": 0
      },
      "text/plain": [
       "Looping Each Links of Dates: 2021-09-30:   0%|          | 0/9 [00:00<?, ?it/s]"
      ]
     },
     "metadata": {},
     "output_type": "display_data"
    },
    {
     "data": {},
     "metadata": {},
     "output_type": "display_data"
    },
    {
     "data": {
      "application/vnd.jupyter.widget-view+json": {
       "model_id": "ff3bdcec442d432ebfdeb25bb50d0412",
       "version_major": 2,
       "version_minor": 0
      },
      "text/plain": [
       "Looping Each Links of Dates: 2021-09-29:   0%|          | 0/12 [00:00<?, ?it/s]"
      ]
     },
     "metadata": {},
     "output_type": "display_data"
    },
    {
     "data": {},
     "metadata": {},
     "output_type": "display_data"
    },
    {
     "data": {
      "application/vnd.jupyter.widget-view+json": {
       "model_id": "b87859a5c79245d38a6a9642653f6f60",
       "version_major": 2,
       "version_minor": 0
      },
      "text/plain": [
       "Looping Each Links of Dates: 2021-09-28:   0%|          | 0/17 [00:00<?, ?it/s]"
      ]
     },
     "metadata": {},
     "output_type": "display_data"
    },
    {
     "data": {},
     "metadata": {},
     "output_type": "display_data"
    },
    {
     "data": {
      "application/vnd.jupyter.widget-view+json": {
       "model_id": "3578e130519343b5ab851a4b8ca07566",
       "version_major": 2,
       "version_minor": 0
      },
      "text/plain": [
       "Looping Each Links of Dates: 2021-09-27:   0%|          | 0/10 [00:00<?, ?it/s]"
      ]
     },
     "metadata": {},
     "output_type": "display_data"
    },
    {
     "data": {},
     "metadata": {},
     "output_type": "display_data"
    },
    {
     "data": {
      "application/vnd.jupyter.widget-view+json": {
       "model_id": "48a8d11fdbd54f44b6a616c9c8b60e71",
       "version_major": 2,
       "version_minor": 0
      },
      "text/plain": [
       "Looping Each Links of Dates: 2021-09-26:   0%|          | 0/11 [00:00<?, ?it/s]"
      ]
     },
     "metadata": {},
     "output_type": "display_data"
    },
    {
     "data": {},
     "metadata": {},
     "output_type": "display_data"
    },
    {
     "data": {
      "application/vnd.jupyter.widget-view+json": {
       "model_id": "b6f5bfa368744fa49ccfeae1a37fd2c1",
       "version_major": 2,
       "version_minor": 0
      },
      "text/plain": [
       "Looping Each Links of Dates: 2021-09-25:   0%|          | 0/13 [00:00<?, ?it/s]"
      ]
     },
     "metadata": {},
     "output_type": "display_data"
    },
    {
     "data": {},
     "metadata": {},
     "output_type": "display_data"
    },
    {
     "data": {
      "application/vnd.jupyter.widget-view+json": {
       "model_id": "2e7e538191954f5ab9458b69e024cbc9",
       "version_major": 2,
       "version_minor": 0
      },
      "text/plain": [
       "Looping Each Links of Dates: 2021-09-24:   0%|          | 0/9 [00:00<?, ?it/s]"
      ]
     },
     "metadata": {},
     "output_type": "display_data"
    },
    {
     "data": {},
     "metadata": {},
     "output_type": "display_data"
    },
    {
     "data": {
      "application/vnd.jupyter.widget-view+json": {
       "model_id": "c87bdf4c5cc04fa9893fcf2606eeb73e",
       "version_major": 2,
       "version_minor": 0
      },
      "text/plain": [
       "Looping Each Links of Dates: 2021-09-23:   0%|          | 0/13 [00:00<?, ?it/s]"
      ]
     },
     "metadata": {},
     "output_type": "display_data"
    },
    {
     "data": {},
     "metadata": {},
     "output_type": "display_data"
    },
    {
     "data": {
      "application/vnd.jupyter.widget-view+json": {
       "model_id": "71e7b2aed1024b06875f19fca6ff85fd",
       "version_major": 2,
       "version_minor": 0
      },
      "text/plain": [
       "Looping Each Links of Dates: 2021-09-22:   0%|          | 0/11 [00:00<?, ?it/s]"
      ]
     },
     "metadata": {},
     "output_type": "display_data"
    },
    {
     "data": {},
     "metadata": {},
     "output_type": "display_data"
    },
    {
     "data": {
      "application/vnd.jupyter.widget-view+json": {
       "model_id": "33b1c69e4e2a4272aac2d60858323682",
       "version_major": 2,
       "version_minor": 0
      },
      "text/plain": [
       "Looping Each Links of Dates: 2021-09-21:   0%|          | 0/12 [00:00<?, ?it/s]"
      ]
     },
     "metadata": {},
     "output_type": "display_data"
    },
    {
     "data": {},
     "metadata": {},
     "output_type": "display_data"
    },
    {
     "data": {
      "application/vnd.jupyter.widget-view+json": {
       "model_id": "80365411ec8d4da7ae1fde7e6eee2cab",
       "version_major": 2,
       "version_minor": 0
      },
      "text/plain": [
       "Looping Each Links of Dates: 2021-09-20:   0%|          | 0/9 [00:00<?, ?it/s]"
      ]
     },
     "metadata": {},
     "output_type": "display_data"
    },
    {
     "data": {},
     "metadata": {},
     "output_type": "display_data"
    },
    {
     "data": {
      "application/vnd.jupyter.widget-view+json": {
       "model_id": "8991fead22fd4b94b5ffebbb96d5c05c",
       "version_major": 2,
       "version_minor": 0
      },
      "text/plain": [
       "Looping Each Links of Dates: 2021-09-19:   0%|          | 0/11 [00:00<?, ?it/s]"
      ]
     },
     "metadata": {},
     "output_type": "display_data"
    },
    {
     "data": {},
     "metadata": {},
     "output_type": "display_data"
    },
    {
     "data": {
      "application/vnd.jupyter.widget-view+json": {
       "model_id": "155b3a348595471bbdc952205134617d",
       "version_major": 2,
       "version_minor": 0
      },
      "text/plain": [
       "Looping Each Links of Dates: 2021-09-18:   0%|          | 0/8 [00:00<?, ?it/s]"
      ]
     },
     "metadata": {},
     "output_type": "display_data"
    },
    {
     "data": {},
     "metadata": {},
     "output_type": "display_data"
    },
    {
     "data": {
      "application/vnd.jupyter.widget-view+json": {
       "model_id": "a9ea19f4c4d24ae694773f87db3ef522",
       "version_major": 2,
       "version_minor": 0
      },
      "text/plain": [
       "Looping Each Links of Dates: 2021-09-17:   0%|          | 0/13 [00:00<?, ?it/s]"
      ]
     },
     "metadata": {},
     "output_type": "display_data"
    },
    {
     "data": {},
     "metadata": {},
     "output_type": "display_data"
    },
    {
     "data": {
      "application/vnd.jupyter.widget-view+json": {
       "model_id": "e01ed5968f7b472c8d33e136d83c9e92",
       "version_major": 2,
       "version_minor": 0
      },
      "text/plain": [
       "Looping Each Links of Dates: 2021-09-16:   0%|          | 0/9 [00:00<?, ?it/s]"
      ]
     },
     "metadata": {},
     "output_type": "display_data"
    },
    {
     "data": {},
     "metadata": {},
     "output_type": "display_data"
    },
    {
     "data": {
      "application/vnd.jupyter.widget-view+json": {
       "model_id": "5df1dcd33f37420c814561b9987f24bc",
       "version_major": 2,
       "version_minor": 0
      },
      "text/plain": [
       "Looping Each Links of Dates: 2021-09-15:   0%|          | 0/10 [00:00<?, ?it/s]"
      ]
     },
     "metadata": {},
     "output_type": "display_data"
    },
    {
     "data": {},
     "metadata": {},
     "output_type": "display_data"
    },
    {
     "data": {
      "application/vnd.jupyter.widget-view+json": {
       "model_id": "e7dcdd9aad69428db482bc0b6f434506",
       "version_major": 2,
       "version_minor": 0
      },
      "text/plain": [
       "Looping Each Links of Dates: 2021-09-14:   0%|          | 0/12 [00:00<?, ?it/s]"
      ]
     },
     "metadata": {},
     "output_type": "display_data"
    },
    {
     "data": {},
     "metadata": {},
     "output_type": "display_data"
    },
    {
     "data": {
      "application/vnd.jupyter.widget-view+json": {
       "model_id": "43bb0cc1c6034ce5a05b24e174c9da0d",
       "version_major": 2,
       "version_minor": 0
      },
      "text/plain": [
       "Looping Each Links of Dates: 2021-09-13:   0%|          | 0/11 [00:00<?, ?it/s]"
      ]
     },
     "metadata": {},
     "output_type": "display_data"
    },
    {
     "data": {},
     "metadata": {},
     "output_type": "display_data"
    },
    {
     "data": {
      "application/vnd.jupyter.widget-view+json": {
       "model_id": "7d91b6c52f4545e2af1e75b31e1f16c8",
       "version_major": 2,
       "version_minor": 0
      },
      "text/plain": [
       "Looping Each Links of Dates: 2021-09-12:   0%|          | 0/12 [00:00<?, ?it/s]"
      ]
     },
     "metadata": {},
     "output_type": "display_data"
    },
    {
     "data": {},
     "metadata": {},
     "output_type": "display_data"
    },
    {
     "data": {
      "application/vnd.jupyter.widget-view+json": {
       "model_id": "e5617e9ebb7340d988452eaf56f5777f",
       "version_major": 2,
       "version_minor": 0
      },
      "text/plain": [
       "Looping Each Links of Dates: 2021-09-11:   0%|          | 0/12 [00:00<?, ?it/s]"
      ]
     },
     "metadata": {},
     "output_type": "display_data"
    },
    {
     "data": {},
     "metadata": {},
     "output_type": "display_data"
    },
    {
     "data": {
      "application/vnd.jupyter.widget-view+json": {
       "model_id": "1a51e8e48a42486faa680a55ce1ad13f",
       "version_major": 2,
       "version_minor": 0
      },
      "text/plain": [
       "Looping Each Links of Dates: 2021-09-10:   0%|          | 0/9 [00:00<?, ?it/s]"
      ]
     },
     "metadata": {},
     "output_type": "display_data"
    },
    {
     "data": {},
     "metadata": {},
     "output_type": "display_data"
    },
    {
     "data": {
      "application/vnd.jupyter.widget-view+json": {
       "model_id": "0a83c4deacc64202bca5e96bad0b7ffa",
       "version_major": 2,
       "version_minor": 0
      },
      "text/plain": [
       "Looping Each Links of Dates: 2021-09-09:   0%|          | 0/10 [00:00<?, ?it/s]"
      ]
     },
     "metadata": {},
     "output_type": "display_data"
    },
    {
     "data": {},
     "metadata": {},
     "output_type": "display_data"
    },
    {
     "data": {
      "application/vnd.jupyter.widget-view+json": {
       "model_id": "855b8013e98d403ba21bb4901e747fd9",
       "version_major": 2,
       "version_minor": 0
      },
      "text/plain": [
       "Looping Each Links of Dates: 2021-09-08:   0%|          | 0/10 [00:00<?, ?it/s]"
      ]
     },
     "metadata": {},
     "output_type": "display_data"
    },
    {
     "data": {},
     "metadata": {},
     "output_type": "display_data"
    },
    {
     "data": {
      "application/vnd.jupyter.widget-view+json": {
       "model_id": "9281af94fe384c119f6dd618cc618196",
       "version_major": 2,
       "version_minor": 0
      },
      "text/plain": [
       "Looping Each Links of Dates: 2021-09-07:   0%|          | 0/12 [00:00<?, ?it/s]"
      ]
     },
     "metadata": {},
     "output_type": "display_data"
    },
    {
     "data": {},
     "metadata": {},
     "output_type": "display_data"
    },
    {
     "data": {
      "application/vnd.jupyter.widget-view+json": {
       "model_id": "0725e587138a4956ba97a1e831907f76",
       "version_major": 2,
       "version_minor": 0
      },
      "text/plain": [
       "Looping Each Links of Dates: 2021-09-06:   0%|          | 0/11 [00:00<?, ?it/s]"
      ]
     },
     "metadata": {},
     "output_type": "display_data"
    },
    {
     "data": {},
     "metadata": {},
     "output_type": "display_data"
    },
    {
     "data": {
      "application/vnd.jupyter.widget-view+json": {
       "model_id": "53e810323ac14d23ab36ef18065d281c",
       "version_major": 2,
       "version_minor": 0
      },
      "text/plain": [
       "Looping Each Links of Dates: 2021-09-05:   0%|          | 0/16 [00:00<?, ?it/s]"
      ]
     },
     "metadata": {},
     "output_type": "display_data"
    },
    {
     "data": {},
     "metadata": {},
     "output_type": "display_data"
    },
    {
     "data": {
      "application/vnd.jupyter.widget-view+json": {
       "model_id": "db638d20e8c6445fba99fceb1af12b8e",
       "version_major": 2,
       "version_minor": 0
      },
      "text/plain": [
       "Looping Each Links of Dates: 2021-09-04:   0%|          | 0/11 [00:00<?, ?it/s]"
      ]
     },
     "metadata": {},
     "output_type": "display_data"
    },
    {
     "data": {},
     "metadata": {},
     "output_type": "display_data"
    },
    {
     "data": {
      "application/vnd.jupyter.widget-view+json": {
       "model_id": "198cd3b6c506407d9c12194e27d4ea8e",
       "version_major": 2,
       "version_minor": 0
      },
      "text/plain": [
       "Looping Each Links of Dates: 2021-09-03:   0%|          | 0/10 [00:00<?, ?it/s]"
      ]
     },
     "metadata": {},
     "output_type": "display_data"
    },
    {
     "data": {},
     "metadata": {},
     "output_type": "display_data"
    },
    {
     "data": {
      "application/vnd.jupyter.widget-view+json": {
       "model_id": "3dd5132f4ba840f4b89d3628a77098e8",
       "version_major": 2,
       "version_minor": 0
      },
      "text/plain": [
       "Looping Each Links of Dates: 2021-09-02:   0%|          | 0/11 [00:00<?, ?it/s]"
      ]
     },
     "metadata": {},
     "output_type": "display_data"
    },
    {
     "data": {},
     "metadata": {},
     "output_type": "display_data"
    },
    {
     "data": {
      "application/vnd.jupyter.widget-view+json": {
       "model_id": "801fa6144cb8475ca5792c60462c4246",
       "version_major": 2,
       "version_minor": 0
      },
      "text/plain": [
       "Looping Each Links of Dates: 2021-09-01:   0%|          | 0/8 [00:00<?, ?it/s]"
      ]
     },
     "metadata": {},
     "output_type": "display_data"
    },
    {
     "data": {},
     "metadata": {},
     "output_type": "display_data"
    },
    {
     "data": {
      "application/vnd.jupyter.widget-view+json": {
       "model_id": "cba77a1aff964c81a3fdbd4ebb251b32",
       "version_major": 2,
       "version_minor": 0
      },
      "text/plain": [
       "Looping Each Links of Dates: 2021-08-31:   0%|          | 0/12 [00:00<?, ?it/s]"
      ]
     },
     "metadata": {},
     "output_type": "display_data"
    },
    {
     "data": {},
     "metadata": {},
     "output_type": "display_data"
    },
    {
     "data": {
      "application/vnd.jupyter.widget-view+json": {
       "model_id": "f1d6df469831442b9dfee5a1021eee80",
       "version_major": 2,
       "version_minor": 0
      },
      "text/plain": [
       "Looping Each Links of Dates: 2021-08-30:   0%|          | 0/13 [00:00<?, ?it/s]"
      ]
     },
     "metadata": {},
     "output_type": "display_data"
    },
    {
     "data": {},
     "metadata": {},
     "output_type": "display_data"
    },
    {
     "data": {
      "application/vnd.jupyter.widget-view+json": {
       "model_id": "395d482483d040fc9fe59d05cb93a0a2",
       "version_major": 2,
       "version_minor": 0
      },
      "text/plain": [
       "Looping Each Links of Dates: 2021-08-29:   0%|          | 0/9 [00:00<?, ?it/s]"
      ]
     },
     "metadata": {},
     "output_type": "display_data"
    },
    {
     "data": {},
     "metadata": {},
     "output_type": "display_data"
    },
    {
     "data": {
      "application/vnd.jupyter.widget-view+json": {
       "model_id": "ddb1be198b774ce788538de6ccd4217f",
       "version_major": 2,
       "version_minor": 0
      },
      "text/plain": [
       "Looping Each Links of Dates: 2021-08-28:   0%|          | 0/11 [00:00<?, ?it/s]"
      ]
     },
     "metadata": {},
     "output_type": "display_data"
    },
    {
     "data": {},
     "metadata": {},
     "output_type": "display_data"
    },
    {
     "data": {
      "application/vnd.jupyter.widget-view+json": {
       "model_id": "6520ab7f646d48c294469da9ab40f2fd",
       "version_major": 2,
       "version_minor": 0
      },
      "text/plain": [
       "Looping Each Links of Dates: 2021-08-27:   0%|          | 0/13 [00:00<?, ?it/s]"
      ]
     },
     "metadata": {},
     "output_type": "display_data"
    },
    {
     "data": {},
     "metadata": {},
     "output_type": "display_data"
    },
    {
     "data": {
      "application/vnd.jupyter.widget-view+json": {
       "model_id": "49986ba6016c431dbf0c912b1c37944e",
       "version_major": 2,
       "version_minor": 0
      },
      "text/plain": [
       "Looping Each Links of Dates: 2021-08-26:   0%|          | 0/9 [00:00<?, ?it/s]"
      ]
     },
     "metadata": {},
     "output_type": "display_data"
    },
    {
     "data": {},
     "metadata": {},
     "output_type": "display_data"
    },
    {
     "data": {
      "application/vnd.jupyter.widget-view+json": {
       "model_id": "94f07d4a09bd439c81eef08e7588e18b",
       "version_major": 2,
       "version_minor": 0
      },
      "text/plain": [
       "Looping Each Links of Dates: 2021-08-25:   0%|          | 0/9 [00:00<?, ?it/s]"
      ]
     },
     "metadata": {},
     "output_type": "display_data"
    },
    {
     "data": {},
     "metadata": {},
     "output_type": "display_data"
    },
    {
     "data": {
      "application/vnd.jupyter.widget-view+json": {
       "model_id": "0e031a0c4f31440099f1296640772825",
       "version_major": 2,
       "version_minor": 0
      },
      "text/plain": [
       "Looping Each Links of Dates: 2021-08-24:   0%|          | 0/10 [00:00<?, ?it/s]"
      ]
     },
     "metadata": {},
     "output_type": "display_data"
    },
    {
     "data": {},
     "metadata": {},
     "output_type": "display_data"
    },
    {
     "data": {
      "application/vnd.jupyter.widget-view+json": {
       "model_id": "3db4558bc84b435e8a276197172008f3",
       "version_major": 2,
       "version_minor": 0
      },
      "text/plain": [
       "Looping Each Links of Dates: 2021-08-23:   0%|          | 0/16 [00:00<?, ?it/s]"
      ]
     },
     "metadata": {},
     "output_type": "display_data"
    },
    {
     "data": {},
     "metadata": {},
     "output_type": "display_data"
    },
    {
     "data": {
      "application/vnd.jupyter.widget-view+json": {
       "model_id": "91a813675dae44699a7d8ff6daf11894",
       "version_major": 2,
       "version_minor": 0
      },
      "text/plain": [
       "Looping Each Links of Dates: 2021-08-22:   0%|          | 0/6 [00:00<?, ?it/s]"
      ]
     },
     "metadata": {},
     "output_type": "display_data"
    },
    {
     "data": {},
     "metadata": {},
     "output_type": "display_data"
    },
    {
     "data": {
      "application/vnd.jupyter.widget-view+json": {
       "model_id": "c199a44dac3442fabc0cbda7e25b8e35",
       "version_major": 2,
       "version_minor": 0
      },
      "text/plain": [
       "Looping Each Links of Dates: 2021-08-21:   0%|          | 0/8 [00:00<?, ?it/s]"
      ]
     },
     "metadata": {},
     "output_type": "display_data"
    },
    {
     "data": {},
     "metadata": {},
     "output_type": "display_data"
    },
    {
     "data": {
      "application/vnd.jupyter.widget-view+json": {
       "model_id": "d2651715a01346508efb2b28a8822191",
       "version_major": 2,
       "version_minor": 0
      },
      "text/plain": [
       "Looping Each Links of Dates: 2021-08-20:   0%|          | 0/10 [00:00<?, ?it/s]"
      ]
     },
     "metadata": {},
     "output_type": "display_data"
    },
    {
     "data": {},
     "metadata": {},
     "output_type": "display_data"
    },
    {
     "data": {
      "application/vnd.jupyter.widget-view+json": {
       "model_id": "62a008283bd048f09b263b686b2b42ee",
       "version_major": 2,
       "version_minor": 0
      },
      "text/plain": [
       "Looping Each Links of Dates: 2021-08-19:   0%|          | 0/11 [00:00<?, ?it/s]"
      ]
     },
     "metadata": {},
     "output_type": "display_data"
    },
    {
     "data": {},
     "metadata": {},
     "output_type": "display_data"
    },
    {
     "data": {
      "application/vnd.jupyter.widget-view+json": {
       "model_id": "dfaba5fcd00e4fc2a40732bc76e324fd",
       "version_major": 2,
       "version_minor": 0
      },
      "text/plain": [
       "Looping Each Links of Dates: 2021-08-18:   0%|          | 0/8 [00:00<?, ?it/s]"
      ]
     },
     "metadata": {},
     "output_type": "display_data"
    },
    {
     "data": {},
     "metadata": {},
     "output_type": "display_data"
    },
    {
     "data": {
      "application/vnd.jupyter.widget-view+json": {
       "model_id": "6fc6ea9ff5ff4d02a1687a06eff875dd",
       "version_major": 2,
       "version_minor": 0
      },
      "text/plain": [
       "Looping Each Links of Dates: 2021-08-17:   0%|          | 0/10 [00:00<?, ?it/s]"
      ]
     },
     "metadata": {},
     "output_type": "display_data"
    },
    {
     "data": {},
     "metadata": {},
     "output_type": "display_data"
    },
    {
     "data": {
      "application/vnd.jupyter.widget-view+json": {
       "model_id": "b2b8d4e34b704eac92fd58f528e03ebd",
       "version_major": 2,
       "version_minor": 0
      },
      "text/plain": [
       "Looping Each Links of Dates: 2021-08-16:   0%|          | 0/9 [00:00<?, ?it/s]"
      ]
     },
     "metadata": {},
     "output_type": "display_data"
    },
    {
     "data": {},
     "metadata": {},
     "output_type": "display_data"
    },
    {
     "data": {
      "application/vnd.jupyter.widget-view+json": {
       "model_id": "06faa866846745d1bc72e9cb1f8168cf",
       "version_major": 2,
       "version_minor": 0
      },
      "text/plain": [
       "Looping Each Links of Dates: 2021-08-15:   0%|          | 0/14 [00:00<?, ?it/s]"
      ]
     },
     "metadata": {},
     "output_type": "display_data"
    },
    {
     "data": {},
     "metadata": {},
     "output_type": "display_data"
    },
    {
     "data": {
      "application/vnd.jupyter.widget-view+json": {
       "model_id": "6614b95274da4aa6b3f1d909085ee03b",
       "version_major": 2,
       "version_minor": 0
      },
      "text/plain": [
       "Looping Each Links of Dates: 2021-08-14:   0%|          | 0/9 [00:00<?, ?it/s]"
      ]
     },
     "metadata": {},
     "output_type": "display_data"
    },
    {
     "data": {},
     "metadata": {},
     "output_type": "display_data"
    },
    {
     "data": {
      "application/vnd.jupyter.widget-view+json": {
       "model_id": "cd8ff06194424136ba727fb7c0769e7f",
       "version_major": 2,
       "version_minor": 0
      },
      "text/plain": [
       "Looping Each Links of Dates: 2021-08-13:   0%|          | 0/7 [00:00<?, ?it/s]"
      ]
     },
     "metadata": {},
     "output_type": "display_data"
    },
    {
     "data": {},
     "metadata": {},
     "output_type": "display_data"
    },
    {
     "data": {
      "application/vnd.jupyter.widget-view+json": {
       "model_id": "ec17c96faabb47679823e1324a7484f2",
       "version_major": 2,
       "version_minor": 0
      },
      "text/plain": [
       "Looping Each Links of Dates: 2021-08-12:   0%|          | 0/10 [00:00<?, ?it/s]"
      ]
     },
     "metadata": {},
     "output_type": "display_data"
    },
    {
     "data": {},
     "metadata": {},
     "output_type": "display_data"
    },
    {
     "data": {
      "application/vnd.jupyter.widget-view+json": {
       "model_id": "9bdf463aa9a64ee79f5b51f21b17daad",
       "version_major": 2,
       "version_minor": 0
      },
      "text/plain": [
       "Looping Each Links of Dates: 2021-08-11:   0%|          | 0/9 [00:00<?, ?it/s]"
      ]
     },
     "metadata": {},
     "output_type": "display_data"
    },
    {
     "data": {},
     "metadata": {},
     "output_type": "display_data"
    },
    {
     "data": {
      "application/vnd.jupyter.widget-view+json": {
       "model_id": "b03ab4da1d2c4deea355b890a76bcd60",
       "version_major": 2,
       "version_minor": 0
      },
      "text/plain": [
       "Looping Each Links of Dates: 2021-08-10:   0%|          | 0/11 [00:00<?, ?it/s]"
      ]
     },
     "metadata": {},
     "output_type": "display_data"
    },
    {
     "data": {},
     "metadata": {},
     "output_type": "display_data"
    },
    {
     "data": {
      "application/vnd.jupyter.widget-view+json": {
       "model_id": "e15856d513cf405c83bf88146873c842",
       "version_major": 2,
       "version_minor": 0
      },
      "text/plain": [
       "Looping Each Links of Dates: 2021-08-09:   0%|          | 0/12 [00:00<?, ?it/s]"
      ]
     },
     "metadata": {},
     "output_type": "display_data"
    },
    {
     "data": {},
     "metadata": {},
     "output_type": "display_data"
    },
    {
     "data": {
      "application/vnd.jupyter.widget-view+json": {
       "model_id": "ce52696e4f104b62a5126195f46d900d",
       "version_major": 2,
       "version_minor": 0
      },
      "text/plain": [
       "Looping Each Links of Dates: 2021-08-08:   0%|          | 0/8 [00:00<?, ?it/s]"
      ]
     },
     "metadata": {},
     "output_type": "display_data"
    },
    {
     "data": {},
     "metadata": {},
     "output_type": "display_data"
    },
    {
     "data": {
      "application/vnd.jupyter.widget-view+json": {
       "model_id": "3569c2dd2b0b4701846d4daa34afe1a1",
       "version_major": 2,
       "version_minor": 0
      },
      "text/plain": [
       "Looping Each Links of Dates: 2021-08-07:   0%|          | 0/11 [00:00<?, ?it/s]"
      ]
     },
     "metadata": {},
     "output_type": "display_data"
    },
    {
     "data": {},
     "metadata": {},
     "output_type": "display_data"
    },
    {
     "data": {
      "application/vnd.jupyter.widget-view+json": {
       "model_id": "e10178683ab4498081623d1f2a4aae51",
       "version_major": 2,
       "version_minor": 0
      },
      "text/plain": [
       "Looping Each Links of Dates: 2021-08-06:   0%|          | 0/12 [00:00<?, ?it/s]"
      ]
     },
     "metadata": {},
     "output_type": "display_data"
    },
    {
     "data": {},
     "metadata": {},
     "output_type": "display_data"
    },
    {
     "data": {
      "application/vnd.jupyter.widget-view+json": {
       "model_id": "ec5cd7e399a1461c909380bef0544d4a",
       "version_major": 2,
       "version_minor": 0
      },
      "text/plain": [
       "Looping Each Links of Dates: 2021-08-05:   0%|          | 0/11 [00:00<?, ?it/s]"
      ]
     },
     "metadata": {},
     "output_type": "display_data"
    },
    {
     "data": {},
     "metadata": {},
     "output_type": "display_data"
    },
    {
     "data": {
      "application/vnd.jupyter.widget-view+json": {
       "model_id": "c852f09998c246fea4604881e89953a9",
       "version_major": 2,
       "version_minor": 0
      },
      "text/plain": [
       "Looping Each Links of Dates: 2021-08-04:   0%|          | 0/11 [00:00<?, ?it/s]"
      ]
     },
     "metadata": {},
     "output_type": "display_data"
    },
    {
     "data": {},
     "metadata": {},
     "output_type": "display_data"
    },
    {
     "data": {
      "application/vnd.jupyter.widget-view+json": {
       "model_id": "fac877006ccd45e7a598f04edbc1ee56",
       "version_major": 2,
       "version_minor": 0
      },
      "text/plain": [
       "Looping Each Links of Dates: 2021-08-03:   0%|          | 0/7 [00:00<?, ?it/s]"
      ]
     },
     "metadata": {},
     "output_type": "display_data"
    },
    {
     "data": {},
     "metadata": {},
     "output_type": "display_data"
    },
    {
     "data": {
      "application/vnd.jupyter.widget-view+json": {
       "model_id": "9402716d09154b3ebe4b690b860af6e1",
       "version_major": 2,
       "version_minor": 0
      },
      "text/plain": [
       "Looping Each Links of Dates: 2021-08-02:   0%|          | 0/10 [00:00<?, ?it/s]"
      ]
     },
     "metadata": {},
     "output_type": "display_data"
    },
    {
     "data": {},
     "metadata": {},
     "output_type": "display_data"
    },
    {
     "data": {
      "application/vnd.jupyter.widget-view+json": {
       "model_id": "c1bad1200ebd4243a39a2782b3c9c46e",
       "version_major": 2,
       "version_minor": 0
      },
      "text/plain": [
       "Looping Each Links of Dates: 2021-08-01:   0%|          | 0/11 [00:00<?, ?it/s]"
      ]
     },
     "metadata": {},
     "output_type": "display_data"
    },
    {
     "data": {},
     "metadata": {},
     "output_type": "display_data"
    },
    {
     "data": {
      "application/vnd.jupyter.widget-view+json": {
       "model_id": "acc27c1ad2964217b378e96992322f6d",
       "version_major": 2,
       "version_minor": 0
      },
      "text/plain": [
       "Looping Each Links of Dates: 2021-07-31:   0%|          | 0/5 [00:00<?, ?it/s]"
      ]
     },
     "metadata": {},
     "output_type": "display_data"
    },
    {
     "data": {},
     "metadata": {},
     "output_type": "display_data"
    },
    {
     "data": {
      "application/vnd.jupyter.widget-view+json": {
       "model_id": "a5466d4434d84ff5acf4242ba921ea35",
       "version_major": 2,
       "version_minor": 0
      },
      "text/plain": [
       "Looping Each Links of Dates: 2021-07-30:   0%|          | 0/9 [00:00<?, ?it/s]"
      ]
     },
     "metadata": {},
     "output_type": "display_data"
    },
    {
     "data": {},
     "metadata": {},
     "output_type": "display_data"
    },
    {
     "data": {
      "application/vnd.jupyter.widget-view+json": {
       "model_id": "575495b15be441358966453a8c40ceb3",
       "version_major": 2,
       "version_minor": 0
      },
      "text/plain": [
       "Looping Each Links of Dates: 2021-07-29:   0%|          | 0/11 [00:00<?, ?it/s]"
      ]
     },
     "metadata": {},
     "output_type": "display_data"
    },
    {
     "data": {},
     "metadata": {},
     "output_type": "display_data"
    },
    {
     "data": {
      "application/vnd.jupyter.widget-view+json": {
       "model_id": "33ee7e09c8d64a3b9cd797f733370949",
       "version_major": 2,
       "version_minor": 0
      },
      "text/plain": [
       "Looping Each Links of Dates: 2021-07-28:   0%|          | 0/6 [00:00<?, ?it/s]"
      ]
     },
     "metadata": {},
     "output_type": "display_data"
    },
    {
     "data": {},
     "metadata": {},
     "output_type": "display_data"
    },
    {
     "data": {
      "application/vnd.jupyter.widget-view+json": {
       "model_id": "ad6951e82b3741b38e3a1639d848a7ab",
       "version_major": 2,
       "version_minor": 0
      },
      "text/plain": [
       "Looping Each Links of Dates: 2021-07-27:   0%|          | 0/10 [00:00<?, ?it/s]"
      ]
     },
     "metadata": {},
     "output_type": "display_data"
    },
    {
     "data": {},
     "metadata": {},
     "output_type": "display_data"
    },
    {
     "data": {
      "application/vnd.jupyter.widget-view+json": {
       "model_id": "25a96b5eb8c046dbadbea03f5a3c00bb",
       "version_major": 2,
       "version_minor": 0
      },
      "text/plain": [
       "Looping Each Links of Dates: 2021-07-26:   0%|          | 0/9 [00:00<?, ?it/s]"
      ]
     },
     "metadata": {},
     "output_type": "display_data"
    },
    {
     "data": {},
     "metadata": {},
     "output_type": "display_data"
    },
    {
     "data": {
      "application/vnd.jupyter.widget-view+json": {
       "model_id": "c39bcd0a665146b7bbbcecf52b9788fe",
       "version_major": 2,
       "version_minor": 0
      },
      "text/plain": [
       "Looping Each Links of Dates: 2021-07-25:   0%|          | 0/11 [00:00<?, ?it/s]"
      ]
     },
     "metadata": {},
     "output_type": "display_data"
    },
    {
     "data": {},
     "metadata": {},
     "output_type": "display_data"
    },
    {
     "data": {
      "application/vnd.jupyter.widget-view+json": {
       "model_id": "813a8a5910fb4743ad726ec73791a2e3",
       "version_major": 2,
       "version_minor": 0
      },
      "text/plain": [
       "Looping Each Links of Dates: 2021-07-24:   0%|          | 0/6 [00:00<?, ?it/s]"
      ]
     },
     "metadata": {},
     "output_type": "display_data"
    },
    {
     "data": {},
     "metadata": {},
     "output_type": "display_data"
    },
    {
     "data": {
      "application/vnd.jupyter.widget-view+json": {
       "model_id": "7ca70c3cb6384e78aa37335726682734",
       "version_major": 2,
       "version_minor": 0
      },
      "text/plain": [
       "Looping Each Links of Dates: 2021-07-23:   0%|          | 0/7 [00:00<?, ?it/s]"
      ]
     },
     "metadata": {},
     "output_type": "display_data"
    },
    {
     "data": {},
     "metadata": {},
     "output_type": "display_data"
    },
    {
     "data": {
      "application/vnd.jupyter.widget-view+json": {
       "model_id": "75b27fa584894fd99ba5f99b37644814",
       "version_major": 2,
       "version_minor": 0
      },
      "text/plain": [
       "Looping Each Links of Dates: 2021-07-22:   0%|          | 0/9 [00:00<?, ?it/s]"
      ]
     },
     "metadata": {},
     "output_type": "display_data"
    },
    {
     "data": {},
     "metadata": {},
     "output_type": "display_data"
    },
    {
     "data": {
      "application/vnd.jupyter.widget-view+json": {
       "model_id": "2850ce22bc924bc78eccf969fea17f62",
       "version_major": 2,
       "version_minor": 0
      },
      "text/plain": [
       "Looping Each Links of Dates: 2021-07-21:   0%|          | 0/12 [00:00<?, ?it/s]"
      ]
     },
     "metadata": {},
     "output_type": "display_data"
    },
    {
     "data": {},
     "metadata": {},
     "output_type": "display_data"
    },
    {
     "data": {
      "application/vnd.jupyter.widget-view+json": {
       "model_id": "d5f19e913c954e5ba1fbd95f4f216b58",
       "version_major": 2,
       "version_minor": 0
      },
      "text/plain": [
       "Looping Each Links of Dates: 2021-07-20:   0%|          | 0/10 [00:00<?, ?it/s]"
      ]
     },
     "metadata": {},
     "output_type": "display_data"
    },
    {
     "data": {},
     "metadata": {},
     "output_type": "display_data"
    },
    {
     "data": {
      "application/vnd.jupyter.widget-view+json": {
       "model_id": "e0d0faaefab742dd8485f91f2086c705",
       "version_major": 2,
       "version_minor": 0
      },
      "text/plain": [
       "Looping Each Links of Dates: 2021-07-19:   0%|          | 0/13 [00:00<?, ?it/s]"
      ]
     },
     "metadata": {},
     "output_type": "display_data"
    },
    {
     "data": {},
     "metadata": {},
     "output_type": "display_data"
    },
    {
     "data": {
      "application/vnd.jupyter.widget-view+json": {
       "model_id": "f6378341d8014a50b2c692bf0b9c4854",
       "version_major": 2,
       "version_minor": 0
      },
      "text/plain": [
       "Looping Each Links of Dates: 2021-07-18:   0%|          | 0/7 [00:00<?, ?it/s]"
      ]
     },
     "metadata": {},
     "output_type": "display_data"
    },
    {
     "data": {},
     "metadata": {},
     "output_type": "display_data"
    },
    {
     "data": {
      "application/vnd.jupyter.widget-view+json": {
       "model_id": "596bed9d88894e3397847b3d86b8a262",
       "version_major": 2,
       "version_minor": 0
      },
      "text/plain": [
       "Looping Each Links of Dates: 2021-07-17:   0%|          | 0/14 [00:00<?, ?it/s]"
      ]
     },
     "metadata": {},
     "output_type": "display_data"
    },
    {
     "data": {},
     "metadata": {},
     "output_type": "display_data"
    },
    {
     "data": {
      "application/vnd.jupyter.widget-view+json": {
       "model_id": "f1d578c31b91480bad74c74346d944ee",
       "version_major": 2,
       "version_minor": 0
      },
      "text/plain": [
       "Looping Each Links of Dates: 2021-07-16:   0%|          | 0/8 [00:00<?, ?it/s]"
      ]
     },
     "metadata": {},
     "output_type": "display_data"
    },
    {
     "data": {},
     "metadata": {},
     "output_type": "display_data"
    },
    {
     "data": {
      "application/vnd.jupyter.widget-view+json": {
       "model_id": "0e8b74a976a241c7b8ae8c4c67d808a3",
       "version_major": 2,
       "version_minor": 0
      },
      "text/plain": [
       "Looping Each Links of Dates: 2021-07-15:   0%|          | 0/7 [00:00<?, ?it/s]"
      ]
     },
     "metadata": {},
     "output_type": "display_data"
    },
    {
     "data": {},
     "metadata": {},
     "output_type": "display_data"
    },
    {
     "data": {
      "application/vnd.jupyter.widget-view+json": {
       "model_id": "1f539668c03a4730bf89e2bca4b763b6",
       "version_major": 2,
       "version_minor": 0
      },
      "text/plain": [
       "Looping Each Links of Dates: 2021-07-14:   0%|          | 0/9 [00:00<?, ?it/s]"
      ]
     },
     "metadata": {},
     "output_type": "display_data"
    },
    {
     "data": {},
     "metadata": {},
     "output_type": "display_data"
    },
    {
     "data": {
      "application/vnd.jupyter.widget-view+json": {
       "model_id": "b81baf72866d44e38e5a7457ebc23a93",
       "version_major": 2,
       "version_minor": 0
      },
      "text/plain": [
       "Looping Each Links of Dates: 2021-07-13:   0%|          | 0/12 [00:00<?, ?it/s]"
      ]
     },
     "metadata": {},
     "output_type": "display_data"
    },
    {
     "data": {},
     "metadata": {},
     "output_type": "display_data"
    },
    {
     "data": {
      "application/vnd.jupyter.widget-view+json": {
       "model_id": "fc680958adcf46eeb30a37c70cd0781a",
       "version_major": 2,
       "version_minor": 0
      },
      "text/plain": [
       "Looping Each Links of Dates: 2021-07-12:   0%|          | 0/9 [00:00<?, ?it/s]"
      ]
     },
     "metadata": {},
     "output_type": "display_data"
    },
    {
     "data": {},
     "metadata": {},
     "output_type": "display_data"
    },
    {
     "data": {
      "application/vnd.jupyter.widget-view+json": {
       "model_id": "7d0cb563751346c7b962d0dd8acb7ffa",
       "version_major": 2,
       "version_minor": 0
      },
      "text/plain": [
       "Looping Each Links of Dates: 2021-07-11:   0%|          | 0/9 [00:00<?, ?it/s]"
      ]
     },
     "metadata": {},
     "output_type": "display_data"
    },
    {
     "data": {},
     "metadata": {},
     "output_type": "display_data"
    },
    {
     "data": {
      "application/vnd.jupyter.widget-view+json": {
       "model_id": "46074f223b3f4cc7ba5ac7c7f52ebc17",
       "version_major": 2,
       "version_minor": 0
      },
      "text/plain": [
       "Looping Each Links of Dates: 2021-07-10:   0%|          | 0/7 [00:00<?, ?it/s]"
      ]
     },
     "metadata": {},
     "output_type": "display_data"
    },
    {
     "data": {},
     "metadata": {},
     "output_type": "display_data"
    },
    {
     "data": {
      "application/vnd.jupyter.widget-view+json": {
       "model_id": "62e1af639ca14878a3b7fabeab1db8b9",
       "version_major": 2,
       "version_minor": 0
      },
      "text/plain": [
       "Looping Each Links of Dates: 2021-07-09:   0%|          | 0/10 [00:00<?, ?it/s]"
      ]
     },
     "metadata": {},
     "output_type": "display_data"
    },
    {
     "data": {},
     "metadata": {},
     "output_type": "display_data"
    },
    {
     "data": {
      "application/vnd.jupyter.widget-view+json": {
       "model_id": "0cc8d41001dd4bc4815ddc85ca760059",
       "version_major": 2,
       "version_minor": 0
      },
      "text/plain": [
       "Looping Each Links of Dates: 2021-07-08:   0%|          | 0/8 [00:00<?, ?it/s]"
      ]
     },
     "metadata": {},
     "output_type": "display_data"
    },
    {
     "data": {},
     "metadata": {},
     "output_type": "display_data"
    },
    {
     "data": {
      "application/vnd.jupyter.widget-view+json": {
       "model_id": "ac80e735eaae43b38e319d73f9f87f1e",
       "version_major": 2,
       "version_minor": 0
      },
      "text/plain": [
       "Looping Each Links of Dates: 2021-07-07:   0%|          | 0/7 [00:00<?, ?it/s]"
      ]
     },
     "metadata": {},
     "output_type": "display_data"
    },
    {
     "data": {},
     "metadata": {},
     "output_type": "display_data"
    },
    {
     "data": {
      "application/vnd.jupyter.widget-view+json": {
       "model_id": "00700eeba1184b33848fb0fdf3d57993",
       "version_major": 2,
       "version_minor": 0
      },
      "text/plain": [
       "Looping Each Links of Dates: 2021-07-06:   0%|          | 0/7 [00:00<?, ?it/s]"
      ]
     },
     "metadata": {},
     "output_type": "display_data"
    },
    {
     "data": {},
     "metadata": {},
     "output_type": "display_data"
    },
    {
     "data": {
      "application/vnd.jupyter.widget-view+json": {
       "model_id": "6fde0adc0a3e4c70835feba8058a95e6",
       "version_major": 2,
       "version_minor": 0
      },
      "text/plain": [
       "Looping Each Links of Dates: 2021-07-05:   0%|          | 0/7 [00:00<?, ?it/s]"
      ]
     },
     "metadata": {},
     "output_type": "display_data"
    },
    {
     "data": {},
     "metadata": {},
     "output_type": "display_data"
    },
    {
     "data": {
      "application/vnd.jupyter.widget-view+json": {
       "model_id": "623ae8e859bd411e8c1139a1392d5b2d",
       "version_major": 2,
       "version_minor": 0
      },
      "text/plain": [
       "Looping Each Links of Dates: 2021-07-04:   0%|          | 0/8 [00:00<?, ?it/s]"
      ]
     },
     "metadata": {},
     "output_type": "display_data"
    },
    {
     "data": {},
     "metadata": {},
     "output_type": "display_data"
    },
    {
     "data": {
      "application/vnd.jupyter.widget-view+json": {
       "model_id": "4302f858f0d44588a5dc1eefdc123c4e",
       "version_major": 2,
       "version_minor": 0
      },
      "text/plain": [
       "Looping Each Links of Dates: 2021-07-03:   0%|          | 0/7 [00:00<?, ?it/s]"
      ]
     },
     "metadata": {},
     "output_type": "display_data"
    },
    {
     "data": {},
     "metadata": {},
     "output_type": "display_data"
    },
    {
     "data": {
      "application/vnd.jupyter.widget-view+json": {
       "model_id": "f8eb3f922157435b8d0e080b59a56e00",
       "version_major": 2,
       "version_minor": 0
      },
      "text/plain": [
       "Looping Each Links of Dates: 2021-07-02:   0%|          | 0/7 [00:00<?, ?it/s]"
      ]
     },
     "metadata": {},
     "output_type": "display_data"
    },
    {
     "data": {},
     "metadata": {},
     "output_type": "display_data"
    },
    {
     "data": {
      "application/vnd.jupyter.widget-view+json": {
       "model_id": "23daa88ce57a472f9e1e9094351f0b9d",
       "version_major": 2,
       "version_minor": 0
      },
      "text/plain": [
       "Looping Each Links of Dates: 2021-07-01:   0%|          | 0/11 [00:00<?, ?it/s]"
      ]
     },
     "metadata": {},
     "output_type": "display_data"
    },
    {
     "data": {},
     "metadata": {},
     "output_type": "display_data"
    },
    {
     "data": {
      "application/vnd.jupyter.widget-view+json": {
       "model_id": "2f0e450322234af7a750f136449f3161",
       "version_major": 2,
       "version_minor": 0
      },
      "text/plain": [
       "Looping Each Links of Dates: 2021-06-30:   0%|          | 0/9 [00:00<?, ?it/s]"
      ]
     },
     "metadata": {},
     "output_type": "display_data"
    },
    {
     "data": {},
     "metadata": {},
     "output_type": "display_data"
    },
    {
     "data": {
      "application/vnd.jupyter.widget-view+json": {
       "model_id": "853ef1d247434b6abfe232630f00473d",
       "version_major": 2,
       "version_minor": 0
      },
      "text/plain": [
       "Looping Each Links of Dates: 2021-06-29:   0%|          | 0/12 [00:00<?, ?it/s]"
      ]
     },
     "metadata": {},
     "output_type": "display_data"
    },
    {
     "data": {},
     "metadata": {},
     "output_type": "display_data"
    },
    {
     "data": {
      "application/vnd.jupyter.widget-view+json": {
       "model_id": "b2fe84a1ca704b07911aea477df3434f",
       "version_major": 2,
       "version_minor": 0
      },
      "text/plain": [
       "Looping Each Links of Dates: 2021-06-28:   0%|          | 0/4 [00:00<?, ?it/s]"
      ]
     },
     "metadata": {},
     "output_type": "display_data"
    },
    {
     "data": {},
     "metadata": {},
     "output_type": "display_data"
    },
    {
     "data": {
      "application/vnd.jupyter.widget-view+json": {
       "model_id": "fa93e7584e8641bc8c9ffe9a39a6de64",
       "version_major": 2,
       "version_minor": 0
      },
      "text/plain": [
       "Looping Each Links of Dates: 2021-06-27:   0%|          | 0/5 [00:00<?, ?it/s]"
      ]
     },
     "metadata": {},
     "output_type": "display_data"
    },
    {
     "data": {},
     "metadata": {},
     "output_type": "display_data"
    },
    {
     "data": {
      "application/vnd.jupyter.widget-view+json": {
       "model_id": "28c9909e6dc2480e9aa821ac3c074db2",
       "version_major": 2,
       "version_minor": 0
      },
      "text/plain": [
       "Looping Each Links of Dates: 2021-06-26:   0%|          | 0/10 [00:00<?, ?it/s]"
      ]
     },
     "metadata": {},
     "output_type": "display_data"
    },
    {
     "data": {},
     "metadata": {},
     "output_type": "display_data"
    },
    {
     "data": {
      "application/vnd.jupyter.widget-view+json": {
       "model_id": "2b7bbda765c44264b75825bd7f18d66c",
       "version_major": 2,
       "version_minor": 0
      },
      "text/plain": [
       "Looping Each Links of Dates: 2021-06-25:   0%|          | 0/8 [00:00<?, ?it/s]"
      ]
     },
     "metadata": {},
     "output_type": "display_data"
    },
    {
     "data": {},
     "metadata": {},
     "output_type": "display_data"
    },
    {
     "data": {
      "application/vnd.jupyter.widget-view+json": {
       "model_id": "46a1b8cc53ce4b51ae9b60ffd6e136f5",
       "version_major": 2,
       "version_minor": 0
      },
      "text/plain": [
       "Looping Each Links of Dates: 2021-06-24:   0%|          | 0/7 [00:00<?, ?it/s]"
      ]
     },
     "metadata": {},
     "output_type": "display_data"
    },
    {
     "data": {},
     "metadata": {},
     "output_type": "display_data"
    },
    {
     "data": {
      "application/vnd.jupyter.widget-view+json": {
       "model_id": "c00f3c9c4785478981cd49637ec55d75",
       "version_major": 2,
       "version_minor": 0
      },
      "text/plain": [
       "Looping Each Links of Dates: 2021-06-23:   0%|          | 0/12 [00:00<?, ?it/s]"
      ]
     },
     "metadata": {},
     "output_type": "display_data"
    },
    {
     "data": {},
     "metadata": {},
     "output_type": "display_data"
    },
    {
     "data": {
      "application/vnd.jupyter.widget-view+json": {
       "model_id": "c4ee952e32194f1a8c7ec767a9a58582",
       "version_major": 2,
       "version_minor": 0
      },
      "text/plain": [
       "Looping Each Links of Dates: 2021-06-22:   0%|          | 0/8 [00:00<?, ?it/s]"
      ]
     },
     "metadata": {},
     "output_type": "display_data"
    },
    {
     "data": {},
     "metadata": {},
     "output_type": "display_data"
    },
    {
     "data": {
      "application/vnd.jupyter.widget-view+json": {
       "model_id": "81b74e3272944e0686473f2f84f64ccf",
       "version_major": 2,
       "version_minor": 0
      },
      "text/plain": [
       "Looping Each Links of Dates: 2021-06-21:   0%|          | 0/5 [00:00<?, ?it/s]"
      ]
     },
     "metadata": {},
     "output_type": "display_data"
    },
    {
     "data": {},
     "metadata": {},
     "output_type": "display_data"
    },
    {
     "data": {
      "application/vnd.jupyter.widget-view+json": {
       "model_id": "f8f32de331bf4fcb8bbbd8bb40f77cb5",
       "version_major": 2,
       "version_minor": 0
      },
      "text/plain": [
       "Looping Each Links of Dates: 2021-06-20:   0%|          | 0/6 [00:00<?, ?it/s]"
      ]
     },
     "metadata": {},
     "output_type": "display_data"
    },
    {
     "data": {},
     "metadata": {},
     "output_type": "display_data"
    },
    {
     "data": {
      "application/vnd.jupyter.widget-view+json": {
       "model_id": "dc94b4a1d1034e669c1db7739025a33e",
       "version_major": 2,
       "version_minor": 0
      },
      "text/plain": [
       "Looping Each Links of Dates: 2021-06-19:   0%|          | 0/11 [00:00<?, ?it/s]"
      ]
     },
     "metadata": {},
     "output_type": "display_data"
    },
    {
     "data": {},
     "metadata": {},
     "output_type": "display_data"
    },
    {
     "data": {
      "application/vnd.jupyter.widget-view+json": {
       "model_id": "238dad4b378c4df7a31a3d9297b96a46",
       "version_major": 2,
       "version_minor": 0
      },
      "text/plain": [
       "Looping Each Links of Dates: 2021-06-18:   0%|          | 0/9 [00:00<?, ?it/s]"
      ]
     },
     "metadata": {},
     "output_type": "display_data"
    },
    {
     "data": {},
     "metadata": {},
     "output_type": "display_data"
    },
    {
     "data": {
      "application/vnd.jupyter.widget-view+json": {
       "model_id": "420ab65d44b44897998ff851194e0350",
       "version_major": 2,
       "version_minor": 0
      },
      "text/plain": [
       "Looping Each Links of Dates: 2021-06-17:   0%|          | 0/8 [00:00<?, ?it/s]"
      ]
     },
     "metadata": {},
     "output_type": "display_data"
    },
    {
     "data": {},
     "metadata": {},
     "output_type": "display_data"
    },
    {
     "data": {
      "application/vnd.jupyter.widget-view+json": {
       "model_id": "28a811f91cee438f93c72a0371216829",
       "version_major": 2,
       "version_minor": 0
      },
      "text/plain": [
       "Looping Each Links of Dates: 2021-06-16:   0%|          | 0/9 [00:00<?, ?it/s]"
      ]
     },
     "metadata": {},
     "output_type": "display_data"
    },
    {
     "data": {},
     "metadata": {},
     "output_type": "display_data"
    },
    {
     "data": {
      "application/vnd.jupyter.widget-view+json": {
       "model_id": "37c8b7022a1e4c9b8fa829cf3c5587a8",
       "version_major": 2,
       "version_minor": 0
      },
      "text/plain": [
       "Looping Each Links of Dates: 2021-06-15:   0%|          | 0/12 [00:00<?, ?it/s]"
      ]
     },
     "metadata": {},
     "output_type": "display_data"
    },
    {
     "data": {},
     "metadata": {},
     "output_type": "display_data"
    },
    {
     "data": {
      "application/vnd.jupyter.widget-view+json": {
       "model_id": "cc752f9d0c25448880953043886e9f7f",
       "version_major": 2,
       "version_minor": 0
      },
      "text/plain": [
       "Looping Each Links of Dates: 2021-06-14:   0%|          | 0/8 [00:00<?, ?it/s]"
      ]
     },
     "metadata": {},
     "output_type": "display_data"
    },
    {
     "data": {},
     "metadata": {},
     "output_type": "display_data"
    },
    {
     "data": {
      "application/vnd.jupyter.widget-view+json": {
       "model_id": "5bec9a3670d5416aa24e730e51671af4",
       "version_major": 2,
       "version_minor": 0
      },
      "text/plain": [
       "Looping Each Links of Dates: 2021-06-13:   0%|          | 0/9 [00:00<?, ?it/s]"
      ]
     },
     "metadata": {},
     "output_type": "display_data"
    },
    {
     "data": {},
     "metadata": {},
     "output_type": "display_data"
    },
    {
     "data": {
      "application/vnd.jupyter.widget-view+json": {
       "model_id": "f29bffeeb002445eab4867bfb2c5c9fe",
       "version_major": 2,
       "version_minor": 0
      },
      "text/plain": [
       "Looping Each Links of Dates: 2021-06-12:   0%|          | 0/8 [00:00<?, ?it/s]"
      ]
     },
     "metadata": {},
     "output_type": "display_data"
    },
    {
     "data": {},
     "metadata": {},
     "output_type": "display_data"
    },
    {
     "data": {
      "application/vnd.jupyter.widget-view+json": {
       "model_id": "600c2961b902493c9e3208738d277305",
       "version_major": 2,
       "version_minor": 0
      },
      "text/plain": [
       "Looping Each Links of Dates: 2021-06-11:   0%|          | 0/9 [00:00<?, ?it/s]"
      ]
     },
     "metadata": {},
     "output_type": "display_data"
    },
    {
     "data": {},
     "metadata": {},
     "output_type": "display_data"
    },
    {
     "data": {
      "application/vnd.jupyter.widget-view+json": {
       "model_id": "b0f1f289894344ca8f75b661d32efd77",
       "version_major": 2,
       "version_minor": 0
      },
      "text/plain": [
       "Looping Each Links of Dates: 2021-06-10:   0%|          | 0/13 [00:00<?, ?it/s]"
      ]
     },
     "metadata": {},
     "output_type": "display_data"
    },
    {
     "data": {},
     "metadata": {},
     "output_type": "display_data"
    },
    {
     "data": {
      "application/vnd.jupyter.widget-view+json": {
       "model_id": "9fcf6c47e1814bd7af7f41f65a7ced0e",
       "version_major": 2,
       "version_minor": 0
      },
      "text/plain": [
       "Looping Each Links of Dates: 2021-06-09:   0%|          | 0/11 [00:00<?, ?it/s]"
      ]
     },
     "metadata": {},
     "output_type": "display_data"
    },
    {
     "data": {},
     "metadata": {},
     "output_type": "display_data"
    },
    {
     "data": {
      "application/vnd.jupyter.widget-view+json": {
       "model_id": "3c95e9ebc93e42a3a3b7fe20002dcb60",
       "version_major": 2,
       "version_minor": 0
      },
      "text/plain": [
       "Looping Each Links of Dates: 2021-06-08:   0%|          | 0/9 [00:00<?, ?it/s]"
      ]
     },
     "metadata": {},
     "output_type": "display_data"
    },
    {
     "data": {},
     "metadata": {},
     "output_type": "display_data"
    },
    {
     "data": {
      "application/vnd.jupyter.widget-view+json": {
       "model_id": "0066c041b2a541f69d299e5cc8194937",
       "version_major": 2,
       "version_minor": 0
      },
      "text/plain": [
       "Looping Each Links of Dates: 2021-06-07:   0%|          | 0/7 [00:00<?, ?it/s]"
      ]
     },
     "metadata": {},
     "output_type": "display_data"
    },
    {
     "data": {},
     "metadata": {},
     "output_type": "display_data"
    },
    {
     "data": {
      "application/vnd.jupyter.widget-view+json": {
       "model_id": "b446c93f3f1c4f53a8aa7b01167c53eb",
       "version_major": 2,
       "version_minor": 0
      },
      "text/plain": [
       "Looping Each Links of Dates: 2021-06-06:   0%|          | 0/5 [00:00<?, ?it/s]"
      ]
     },
     "metadata": {},
     "output_type": "display_data"
    },
    {
     "data": {},
     "metadata": {},
     "output_type": "display_data"
    },
    {
     "data": {
      "application/vnd.jupyter.widget-view+json": {
       "model_id": "8ddc665b13be4ec6b56b3bc5d57c5760",
       "version_major": 2,
       "version_minor": 0
      },
      "text/plain": [
       "Looping Each Links of Dates: 2021-06-05:   0%|          | 0/8 [00:00<?, ?it/s]"
      ]
     },
     "metadata": {},
     "output_type": "display_data"
    },
    {
     "data": {},
     "metadata": {},
     "output_type": "display_data"
    },
    {
     "data": {
      "application/vnd.jupyter.widget-view+json": {
       "model_id": "82b1a6dabff3417387ffd9d2f33e5b00",
       "version_major": 2,
       "version_minor": 0
      },
      "text/plain": [
       "Looping Each Links of Dates: 2021-06-04:   0%|          | 0/8 [00:00<?, ?it/s]"
      ]
     },
     "metadata": {},
     "output_type": "display_data"
    },
    {
     "data": {},
     "metadata": {},
     "output_type": "display_data"
    },
    {
     "data": {
      "application/vnd.jupyter.widget-view+json": {
       "model_id": "cf84cbb19a9546199d30f37a7cf13098",
       "version_major": 2,
       "version_minor": 0
      },
      "text/plain": [
       "Looping Each Links of Dates: 2021-06-03:   0%|          | 0/9 [00:00<?, ?it/s]"
      ]
     },
     "metadata": {},
     "output_type": "display_data"
    },
    {
     "data": {},
     "metadata": {},
     "output_type": "display_data"
    },
    {
     "data": {
      "application/vnd.jupyter.widget-view+json": {
       "model_id": "0262a6e6f4494c96a511a388658f4862",
       "version_major": 2,
       "version_minor": 0
      },
      "text/plain": [
       "Looping Each Links of Dates: 2021-06-02:   0%|          | 0/9 [00:00<?, ?it/s]"
      ]
     },
     "metadata": {},
     "output_type": "display_data"
    },
    {
     "data": {},
     "metadata": {},
     "output_type": "display_data"
    },
    {
     "data": {
      "application/vnd.jupyter.widget-view+json": {
       "model_id": "c9be791945d74a66a5b15c1c6da3a248",
       "version_major": 2,
       "version_minor": 0
      },
      "text/plain": [
       "Looping Each Links of Dates: 2021-06-01:   0%|          | 0/12 [00:00<?, ?it/s]"
      ]
     },
     "metadata": {},
     "output_type": "display_data"
    },
    {
     "data": {},
     "metadata": {},
     "output_type": "display_data"
    },
    {
     "data": {
      "application/vnd.jupyter.widget-view+json": {
       "model_id": "5f1860d29a1c4e4cb3a37254dfeda1e5",
       "version_major": 2,
       "version_minor": 0
      },
      "text/plain": [
       "Looping Each Links of Dates: 2021-05-31:   0%|          | 0/8 [00:00<?, ?it/s]"
      ]
     },
     "metadata": {},
     "output_type": "display_data"
    },
    {
     "data": {},
     "metadata": {},
     "output_type": "display_data"
    },
    {
     "data": {
      "application/vnd.jupyter.widget-view+json": {
       "model_id": "cff1060039594844a3b5b07c62fdce08",
       "version_major": 2,
       "version_minor": 0
      },
      "text/plain": [
       "Looping Each Links of Dates: 2021-05-30:   0%|          | 0/6 [00:00<?, ?it/s]"
      ]
     },
     "metadata": {},
     "output_type": "display_data"
    },
    {
     "data": {},
     "metadata": {},
     "output_type": "display_data"
    },
    {
     "data": {
      "application/vnd.jupyter.widget-view+json": {
       "model_id": "dae65118ed97412b8b35c897fd55d318",
       "version_major": 2,
       "version_minor": 0
      },
      "text/plain": [
       "Looping Each Links of Dates: 2021-05-29:   0%|          | 0/8 [00:00<?, ?it/s]"
      ]
     },
     "metadata": {},
     "output_type": "display_data"
    },
    {
     "data": {},
     "metadata": {},
     "output_type": "display_data"
    },
    {
     "data": {
      "application/vnd.jupyter.widget-view+json": {
       "model_id": "7bb81f59e51d4bab9148ac677e7e726e",
       "version_major": 2,
       "version_minor": 0
      },
      "text/plain": [
       "Looping Each Links of Dates: 2021-05-28:   0%|          | 0/10 [00:00<?, ?it/s]"
      ]
     },
     "metadata": {},
     "output_type": "display_data"
    },
    {
     "data": {},
     "metadata": {},
     "output_type": "display_data"
    },
    {
     "data": {
      "application/vnd.jupyter.widget-view+json": {
       "model_id": "9bf39a765e0e4374b1a31ecdbe15bd37",
       "version_major": 2,
       "version_minor": 0
      },
      "text/plain": [
       "Looping Each Links of Dates: 2021-05-27:   0%|          | 0/4 [00:00<?, ?it/s]"
      ]
     },
     "metadata": {},
     "output_type": "display_data"
    },
    {
     "data": {},
     "metadata": {},
     "output_type": "display_data"
    },
    {
     "data": {
      "application/vnd.jupyter.widget-view+json": {
       "model_id": "0d445f6dbd194cfa84b829ef422de05f",
       "version_major": 2,
       "version_minor": 0
      },
      "text/plain": [
       "Looping Each Links of Dates: 2021-05-26:   0%|          | 0/7 [00:00<?, ?it/s]"
      ]
     },
     "metadata": {},
     "output_type": "display_data"
    },
    {
     "data": {},
     "metadata": {},
     "output_type": "display_data"
    },
    {
     "data": {
      "application/vnd.jupyter.widget-view+json": {
       "model_id": "be32757500264ad7995087bf415de5cc",
       "version_major": 2,
       "version_minor": 0
      },
      "text/plain": [
       "Looping Each Links of Dates: 2021-05-25:   0%|          | 0/7 [00:00<?, ?it/s]"
      ]
     },
     "metadata": {},
     "output_type": "display_data"
    },
    {
     "data": {},
     "metadata": {},
     "output_type": "display_data"
    },
    {
     "data": {
      "application/vnd.jupyter.widget-view+json": {
       "model_id": "9fdcba6b6cea4406b18e140c644fdd1f",
       "version_major": 2,
       "version_minor": 0
      },
      "text/plain": [
       "Looping Each Links of Dates: 2021-05-24:   0%|          | 0/8 [00:00<?, ?it/s]"
      ]
     },
     "metadata": {},
     "output_type": "display_data"
    },
    {
     "data": {},
     "metadata": {},
     "output_type": "display_data"
    },
    {
     "data": {
      "application/vnd.jupyter.widget-view+json": {
       "model_id": "9b9ccb23388f4de7b9d296699762ae5e",
       "version_major": 2,
       "version_minor": 0
      },
      "text/plain": [
       "Looping Each Links of Dates: 2021-05-23:   0%|          | 0/9 [00:00<?, ?it/s]"
      ]
     },
     "metadata": {},
     "output_type": "display_data"
    },
    {
     "data": {},
     "metadata": {},
     "output_type": "display_data"
    },
    {
     "data": {
      "application/vnd.jupyter.widget-view+json": {
       "model_id": "9a1a443209d8434881fac53aabd91859",
       "version_major": 2,
       "version_minor": 0
      },
      "text/plain": [
       "Looping Each Links of Dates: 2021-05-22:   0%|          | 0/8 [00:00<?, ?it/s]"
      ]
     },
     "metadata": {},
     "output_type": "display_data"
    },
    {
     "data": {},
     "metadata": {},
     "output_type": "display_data"
    },
    {
     "data": {
      "application/vnd.jupyter.widget-view+json": {
       "model_id": "3df946a72de14b6abcc6b2cf6adf9bc7",
       "version_major": 2,
       "version_minor": 0
      },
      "text/plain": [
       "Looping Each Links of Dates: 2021-05-21:   0%|          | 0/7 [00:00<?, ?it/s]"
      ]
     },
     "metadata": {},
     "output_type": "display_data"
    },
    {
     "data": {},
     "metadata": {},
     "output_type": "display_data"
    },
    {
     "data": {
      "application/vnd.jupyter.widget-view+json": {
       "model_id": "0c6e2b150f6a4e49be60ee70420183e0",
       "version_major": 2,
       "version_minor": 0
      },
      "text/plain": [
       "Looping Each Links of Dates: 2021-05-20:   0%|          | 0/11 [00:00<?, ?it/s]"
      ]
     },
     "metadata": {},
     "output_type": "display_data"
    },
    {
     "data": {},
     "metadata": {},
     "output_type": "display_data"
    },
    {
     "data": {
      "application/vnd.jupyter.widget-view+json": {
       "model_id": "4f2950dda9b740b0a4e178358e714ec2",
       "version_major": 2,
       "version_minor": 0
      },
      "text/plain": [
       "Looping Each Links of Dates: 2021-05-19:   0%|          | 0/7 [00:00<?, ?it/s]"
      ]
     },
     "metadata": {},
     "output_type": "display_data"
    },
    {
     "data": {},
     "metadata": {},
     "output_type": "display_data"
    },
    {
     "data": {
      "application/vnd.jupyter.widget-view+json": {
       "model_id": "f44176ffc34a4de0bbb9e9f97cc1076e",
       "version_major": 2,
       "version_minor": 0
      },
      "text/plain": [
       "Looping Each Links of Dates: 2021-05-18:   0%|          | 0/8 [00:00<?, ?it/s]"
      ]
     },
     "metadata": {},
     "output_type": "display_data"
    },
    {
     "data": {},
     "metadata": {},
     "output_type": "display_data"
    },
    {
     "data": {
      "application/vnd.jupyter.widget-view+json": {
       "model_id": "5e101f991e2a47ea870d5ab34c5a49a1",
       "version_major": 2,
       "version_minor": 0
      },
      "text/plain": [
       "Looping Each Links of Dates: 2021-05-17:   0%|          | 0/10 [00:00<?, ?it/s]"
      ]
     },
     "metadata": {},
     "output_type": "display_data"
    },
    {
     "data": {},
     "metadata": {},
     "output_type": "display_data"
    },
    {
     "data": {
      "application/vnd.jupyter.widget-view+json": {
       "model_id": "9d3b462c2b9d4455a550829f6a6d6c0c",
       "version_major": 2,
       "version_minor": 0
      },
      "text/plain": [
       "Looping Each Links of Dates: 2021-05-16:   0%|          | 0/12 [00:00<?, ?it/s]"
      ]
     },
     "metadata": {},
     "output_type": "display_data"
    },
    {
     "data": {},
     "metadata": {},
     "output_type": "display_data"
    },
    {
     "data": {
      "application/vnd.jupyter.widget-view+json": {
       "model_id": "0d2d55cb15424e5db2c4a03e21e32408",
       "version_major": 2,
       "version_minor": 0
      },
      "text/plain": [
       "Looping Each Links of Dates: 2021-05-15:   0%|          | 0/5 [00:00<?, ?it/s]"
      ]
     },
     "metadata": {},
     "output_type": "display_data"
    },
    {
     "data": {},
     "metadata": {},
     "output_type": "display_data"
    },
    {
     "data": {
      "application/vnd.jupyter.widget-view+json": {
       "model_id": "797d81e5a516434996d955ea103b8fa3",
       "version_major": 2,
       "version_minor": 0
      },
      "text/plain": [
       "Looping Each Links of Dates: 2021-05-14:   0%|          | 0/4 [00:00<?, ?it/s]"
      ]
     },
     "metadata": {},
     "output_type": "display_data"
    },
    {
     "data": {},
     "metadata": {},
     "output_type": "display_data"
    },
    {
     "data": {
      "application/vnd.jupyter.widget-view+json": {
       "model_id": "fd7a344c149d4a559e05cd7a21091257",
       "version_major": 2,
       "version_minor": 0
      },
      "text/plain": [
       "Looping Each Links of Dates: 2021-05-13:   0%|          | 0/7 [00:00<?, ?it/s]"
      ]
     },
     "metadata": {},
     "output_type": "display_data"
    },
    {
     "data": {},
     "metadata": {},
     "output_type": "display_data"
    },
    {
     "data": {
      "application/vnd.jupyter.widget-view+json": {
       "model_id": "07555b720e2d412eae2c214e47ab0bd7",
       "version_major": 2,
       "version_minor": 0
      },
      "text/plain": [
       "Looping Each Links of Dates: 2021-05-12:   0%|          | 0/10 [00:00<?, ?it/s]"
      ]
     },
     "metadata": {},
     "output_type": "display_data"
    },
    {
     "data": {},
     "metadata": {},
     "output_type": "display_data"
    },
    {
     "data": {
      "application/vnd.jupyter.widget-view+json": {
       "model_id": "8963ab7afdd145eb87bdfe42926d93d2",
       "version_major": 2,
       "version_minor": 0
      },
      "text/plain": [
       "Looping Each Links of Dates: 2021-05-11:   0%|          | 0/6 [00:00<?, ?it/s]"
      ]
     },
     "metadata": {},
     "output_type": "display_data"
    },
    {
     "data": {},
     "metadata": {},
     "output_type": "display_data"
    },
    {
     "data": {
      "application/vnd.jupyter.widget-view+json": {
       "model_id": "6620c22c1ef44dd091865fd0ce087168",
       "version_major": 2,
       "version_minor": 0
      },
      "text/plain": [
       "Looping Each Links of Dates: 2021-05-10:   0%|          | 0/10 [00:00<?, ?it/s]"
      ]
     },
     "metadata": {},
     "output_type": "display_data"
    },
    {
     "data": {},
     "metadata": {},
     "output_type": "display_data"
    },
    {
     "data": {
      "application/vnd.jupyter.widget-view+json": {
       "model_id": "7882dec5b48141c1a111e8c8213f0df9",
       "version_major": 2,
       "version_minor": 0
      },
      "text/plain": [
       "Looping Each Links of Dates: 2021-05-09:   0%|          | 0/12 [00:00<?, ?it/s]"
      ]
     },
     "metadata": {},
     "output_type": "display_data"
    },
    {
     "data": {},
     "metadata": {},
     "output_type": "display_data"
    },
    {
     "data": {
      "application/vnd.jupyter.widget-view+json": {
       "model_id": "958af708ebb54681aada58c992e6804b",
       "version_major": 2,
       "version_minor": 0
      },
      "text/plain": [
       "Looping Each Links of Dates: 2021-05-08:   0%|          | 0/6 [00:00<?, ?it/s]"
      ]
     },
     "metadata": {},
     "output_type": "display_data"
    },
    {
     "data": {},
     "metadata": {},
     "output_type": "display_data"
    },
    {
     "data": {
      "application/vnd.jupyter.widget-view+json": {
       "model_id": "03fd5026266549adb62fe01dcc4aeaeb",
       "version_major": 2,
       "version_minor": 0
      },
      "text/plain": [
       "Looping Each Links of Dates: 2021-05-07:   0%|          | 0/8 [00:00<?, ?it/s]"
      ]
     },
     "metadata": {},
     "output_type": "display_data"
    },
    {
     "data": {},
     "metadata": {},
     "output_type": "display_data"
    },
    {
     "data": {
      "application/vnd.jupyter.widget-view+json": {
       "model_id": "4db9e7a0312445d3b00bf2d476a1a3b2",
       "version_major": 2,
       "version_minor": 0
      },
      "text/plain": [
       "Looping Each Links of Dates: 2021-05-06:   0%|          | 0/7 [00:00<?, ?it/s]"
      ]
     },
     "metadata": {},
     "output_type": "display_data"
    },
    {
     "data": {},
     "metadata": {},
     "output_type": "display_data"
    },
    {
     "data": {
      "application/vnd.jupyter.widget-view+json": {
       "model_id": "588b57be648f4c0fb4a9a3e4e14798e3",
       "version_major": 2,
       "version_minor": 0
      },
      "text/plain": [
       "Looping Each Links of Dates: 2021-05-05:   0%|          | 0/8 [00:00<?, ?it/s]"
      ]
     },
     "metadata": {},
     "output_type": "display_data"
    },
    {
     "data": {},
     "metadata": {},
     "output_type": "display_data"
    },
    {
     "data": {
      "application/vnd.jupyter.widget-view+json": {
       "model_id": "eb09c37d55b64ee6abf7d6df92e84720",
       "version_major": 2,
       "version_minor": 0
      },
      "text/plain": [
       "Looping Each Links of Dates: 2021-05-04:   0%|          | 0/8 [00:00<?, ?it/s]"
      ]
     },
     "metadata": {},
     "output_type": "display_data"
    },
    {
     "data": {},
     "metadata": {},
     "output_type": "display_data"
    },
    {
     "data": {
      "application/vnd.jupyter.widget-view+json": {
       "model_id": "6879ca50499b48a3a126cd32983da09e",
       "version_major": 2,
       "version_minor": 0
      },
      "text/plain": [
       "Looping Each Links of Dates: 2021-05-03:   0%|          | 0/10 [00:00<?, ?it/s]"
      ]
     },
     "metadata": {},
     "output_type": "display_data"
    },
    {
     "data": {},
     "metadata": {},
     "output_type": "display_data"
    },
    {
     "data": {
      "application/vnd.jupyter.widget-view+json": {
       "model_id": "fcf0e91eb33e47fcb8c1a0361ff22826",
       "version_major": 2,
       "version_minor": 0
      },
      "text/plain": [
       "Looping Each Links of Dates: 2021-05-02:   0%|          | 0/9 [00:00<?, ?it/s]"
      ]
     },
     "metadata": {},
     "output_type": "display_data"
    },
    {
     "data": {},
     "metadata": {},
     "output_type": "display_data"
    },
    {
     "data": {
      "application/vnd.jupyter.widget-view+json": {
       "model_id": "12256edbe858401c969fdde5f28c023b",
       "version_major": 2,
       "version_minor": 0
      },
      "text/plain": [
       "Looping Each Links of Dates: 2021-05-01:   0%|          | 0/6 [00:00<?, ?it/s]"
      ]
     },
     "metadata": {},
     "output_type": "display_data"
    },
    {
     "data": {},
     "metadata": {},
     "output_type": "display_data"
    },
    {
     "data": {
      "application/vnd.jupyter.widget-view+json": {
       "model_id": "9bb42ab4afdf40849b03adad70254122",
       "version_major": 2,
       "version_minor": 0
      },
      "text/plain": [
       "Looping Each Links of Dates: 2021-04-30:   0%|          | 0/10 [00:00<?, ?it/s]"
      ]
     },
     "metadata": {},
     "output_type": "display_data"
    },
    {
     "data": {},
     "metadata": {},
     "output_type": "display_data"
    },
    {
     "data": {
      "application/vnd.jupyter.widget-view+json": {
       "model_id": "38e6bea4e390491ab522fde5f9ff23ee",
       "version_major": 2,
       "version_minor": 0
      },
      "text/plain": [
       "Looping Each Links of Dates: 2021-04-29:   0%|          | 0/10 [00:00<?, ?it/s]"
      ]
     },
     "metadata": {},
     "output_type": "display_data"
    },
    {
     "data": {},
     "metadata": {},
     "output_type": "display_data"
    },
    {
     "data": {
      "application/vnd.jupyter.widget-view+json": {
       "model_id": "d223c67449fe4a87b642be35ab700570",
       "version_major": 2,
       "version_minor": 0
      },
      "text/plain": [
       "Looping Each Links of Dates: 2021-04-28:   0%|          | 0/7 [00:00<?, ?it/s]"
      ]
     },
     "metadata": {},
     "output_type": "display_data"
    },
    {
     "data": {},
     "metadata": {},
     "output_type": "display_data"
    },
    {
     "data": {
      "application/vnd.jupyter.widget-view+json": {
       "model_id": "d00342494ac64b30989c4efbb069becf",
       "version_major": 2,
       "version_minor": 0
      },
      "text/plain": [
       "Looping Each Links of Dates: 2021-04-27:   0%|          | 0/6 [00:00<?, ?it/s]"
      ]
     },
     "metadata": {},
     "output_type": "display_data"
    },
    {
     "data": {},
     "metadata": {},
     "output_type": "display_data"
    },
    {
     "data": {
      "application/vnd.jupyter.widget-view+json": {
       "model_id": "115a4f3b9e9e44e8a2594256df85e006",
       "version_major": 2,
       "version_minor": 0
      },
      "text/plain": [
       "Looping Each Links of Dates: 2021-04-26:   0%|          | 0/6 [00:00<?, ?it/s]"
      ]
     },
     "metadata": {},
     "output_type": "display_data"
    },
    {
     "data": {},
     "metadata": {},
     "output_type": "display_data"
    },
    {
     "data": {
      "application/vnd.jupyter.widget-view+json": {
       "model_id": "cbf7565bb0c945d18ad1f74edaef4ded",
       "version_major": 2,
       "version_minor": 0
      },
      "text/plain": [
       "Looping Each Links of Dates: 2021-04-25:   0%|          | 0/5 [00:00<?, ?it/s]"
      ]
     },
     "metadata": {},
     "output_type": "display_data"
    },
    {
     "data": {},
     "metadata": {},
     "output_type": "display_data"
    },
    {
     "data": {
      "application/vnd.jupyter.widget-view+json": {
       "model_id": "0c305d39d7f24ef0845766fdeeee13c0",
       "version_major": 2,
       "version_minor": 0
      },
      "text/plain": [
       "Looping Each Links of Dates: 2021-04-24:   0%|          | 0/6 [00:00<?, ?it/s]"
      ]
     },
     "metadata": {},
     "output_type": "display_data"
    },
    {
     "data": {},
     "metadata": {},
     "output_type": "display_data"
    },
    {
     "data": {
      "application/vnd.jupyter.widget-view+json": {
       "model_id": "4d0d895e58494a61857ab9c63020777f",
       "version_major": 2,
       "version_minor": 0
      },
      "text/plain": [
       "Looping Each Links of Dates: 2021-04-23:   0%|          | 0/7 [00:00<?, ?it/s]"
      ]
     },
     "metadata": {},
     "output_type": "display_data"
    },
    {
     "data": {},
     "metadata": {},
     "output_type": "display_data"
    },
    {
     "data": {
      "application/vnd.jupyter.widget-view+json": {
       "model_id": "4dfb3dc283ee49c490096ce2c7664375",
       "version_major": 2,
       "version_minor": 0
      },
      "text/plain": [
       "Looping Each Links of Dates: 2021-04-22:   0%|          | 0/8 [00:00<?, ?it/s]"
      ]
     },
     "metadata": {},
     "output_type": "display_data"
    },
    {
     "data": {},
     "metadata": {},
     "output_type": "display_data"
    },
    {
     "data": {
      "application/vnd.jupyter.widget-view+json": {
       "model_id": "4afae712fd1c471b950d15122924ed87",
       "version_major": 2,
       "version_minor": 0
      },
      "text/plain": [
       "Looping Each Links of Dates: 2021-04-21:   0%|          | 0/7 [00:00<?, ?it/s]"
      ]
     },
     "metadata": {},
     "output_type": "display_data"
    },
    {
     "data": {},
     "metadata": {},
     "output_type": "display_data"
    },
    {
     "data": {
      "application/vnd.jupyter.widget-view+json": {
       "model_id": "997ea8d73d6f43afbe2dde9b1e6e859d",
       "version_major": 2,
       "version_minor": 0
      },
      "text/plain": [
       "Looping Each Links of Dates: 2021-04-20:   0%|          | 0/11 [00:00<?, ?it/s]"
      ]
     },
     "metadata": {},
     "output_type": "display_data"
    },
    {
     "data": {},
     "metadata": {},
     "output_type": "display_data"
    },
    {
     "data": {
      "application/vnd.jupyter.widget-view+json": {
       "model_id": "9adb73dde91f487cab4f92d2f887add5",
       "version_major": 2,
       "version_minor": 0
      },
      "text/plain": [
       "Looping Each Links of Dates: 2021-04-19:   0%|          | 0/10 [00:00<?, ?it/s]"
      ]
     },
     "metadata": {},
     "output_type": "display_data"
    },
    {
     "data": {},
     "metadata": {},
     "output_type": "display_data"
    },
    {
     "data": {
      "application/vnd.jupyter.widget-view+json": {
       "model_id": "0b74b906df6c4f8891e09ee896756e18",
       "version_major": 2,
       "version_minor": 0
      },
      "text/plain": [
       "Looping Each Links of Dates: 2021-04-18:   0%|          | 0/9 [00:00<?, ?it/s]"
      ]
     },
     "metadata": {},
     "output_type": "display_data"
    },
    {
     "data": {},
     "metadata": {},
     "output_type": "display_data"
    },
    {
     "data": {
      "application/vnd.jupyter.widget-view+json": {
       "model_id": "7ce7ac34583b44c791f8998f6baa3ada",
       "version_major": 2,
       "version_minor": 0
      },
      "text/plain": [
       "Looping Each Links of Dates: 2021-04-17:   0%|          | 0/10 [00:00<?, ?it/s]"
      ]
     },
     "metadata": {},
     "output_type": "display_data"
    },
    {
     "data": {},
     "metadata": {},
     "output_type": "display_data"
    },
    {
     "data": {
      "application/vnd.jupyter.widget-view+json": {
       "model_id": "f834830bb2af47bbb982873f7d35503c",
       "version_major": 2,
       "version_minor": 0
      },
      "text/plain": [
       "Looping Each Links of Dates: 2021-04-16:   0%|          | 0/6 [00:00<?, ?it/s]"
      ]
     },
     "metadata": {},
     "output_type": "display_data"
    },
    {
     "data": {},
     "metadata": {},
     "output_type": "display_data"
    },
    {
     "data": {
      "application/vnd.jupyter.widget-view+json": {
       "model_id": "694e8f462c4b4524876a26120fe02a20",
       "version_major": 2,
       "version_minor": 0
      },
      "text/plain": [
       "Looping Each Links of Dates: 2021-04-15:   0%|          | 0/6 [00:00<?, ?it/s]"
      ]
     },
     "metadata": {},
     "output_type": "display_data"
    },
    {
     "data": {},
     "metadata": {},
     "output_type": "display_data"
    },
    {
     "data": {
      "application/vnd.jupyter.widget-view+json": {
       "model_id": "818e9f3b193c45fda76c966d06074d69",
       "version_major": 2,
       "version_minor": 0
      },
      "text/plain": [
       "Looping Each Links of Dates: 2021-04-14:   0%|          | 0/7 [00:00<?, ?it/s]"
      ]
     },
     "metadata": {},
     "output_type": "display_data"
    },
    {
     "data": {},
     "metadata": {},
     "output_type": "display_data"
    },
    {
     "data": {
      "application/vnd.jupyter.widget-view+json": {
       "model_id": "cbf2b945c212496486ccf2072f8d04a4",
       "version_major": 2,
       "version_minor": 0
      },
      "text/plain": [
       "Looping Each Links of Dates: 2021-04-13:   0%|          | 0/9 [00:00<?, ?it/s]"
      ]
     },
     "metadata": {},
     "output_type": "display_data"
    },
    {
     "data": {},
     "metadata": {},
     "output_type": "display_data"
    },
    {
     "data": {
      "application/vnd.jupyter.widget-view+json": {
       "model_id": "0bdb6b09e20d49aa8151922656f3db89",
       "version_major": 2,
       "version_minor": 0
      },
      "text/plain": [
       "Looping Each Links of Dates: 2021-04-12:   0%|          | 0/5 [00:00<?, ?it/s]"
      ]
     },
     "metadata": {},
     "output_type": "display_data"
    },
    {
     "data": {},
     "metadata": {},
     "output_type": "display_data"
    },
    {
     "data": {
      "application/vnd.jupyter.widget-view+json": {
       "model_id": "228a7868b43c414794d0d287e0c7e35b",
       "version_major": 2,
       "version_minor": 0
      },
      "text/plain": [
       "Looping Each Links of Dates: 2021-04-11:   0%|          | 0/8 [00:00<?, ?it/s]"
      ]
     },
     "metadata": {},
     "output_type": "display_data"
    },
    {
     "data": {},
     "metadata": {},
     "output_type": "display_data"
    },
    {
     "data": {
      "application/vnd.jupyter.widget-view+json": {
       "model_id": "0fa762eb66d449adbd32c08d89022af6",
       "version_major": 2,
       "version_minor": 0
      },
      "text/plain": [
       "Looping Each Links of Dates: 2021-04-10:   0%|          | 0/10 [00:00<?, ?it/s]"
      ]
     },
     "metadata": {},
     "output_type": "display_data"
    },
    {
     "data": {},
     "metadata": {},
     "output_type": "display_data"
    },
    {
     "data": {
      "application/vnd.jupyter.widget-view+json": {
       "model_id": "e4a6fb82eaff421c920406e822878445",
       "version_major": 2,
       "version_minor": 0
      },
      "text/plain": [
       "Looping Each Links of Dates: 2021-04-09:   0%|          | 0/8 [00:00<?, ?it/s]"
      ]
     },
     "metadata": {},
     "output_type": "display_data"
    },
    {
     "data": {},
     "metadata": {},
     "output_type": "display_data"
    },
    {
     "data": {
      "application/vnd.jupyter.widget-view+json": {
       "model_id": "4fee7a66417f4b93848ac73570a1ccdf",
       "version_major": 2,
       "version_minor": 0
      },
      "text/plain": [
       "Looping Each Links of Dates: 2021-04-08:   0%|          | 0/8 [00:00<?, ?it/s]"
      ]
     },
     "metadata": {},
     "output_type": "display_data"
    },
    {
     "data": {},
     "metadata": {},
     "output_type": "display_data"
    },
    {
     "data": {
      "application/vnd.jupyter.widget-view+json": {
       "model_id": "90932e06f42f44dc9b1f8b7fd3bba908",
       "version_major": 2,
       "version_minor": 0
      },
      "text/plain": [
       "Looping Each Links of Dates: 2021-04-07:   0%|          | 0/8 [00:00<?, ?it/s]"
      ]
     },
     "metadata": {},
     "output_type": "display_data"
    },
    {
     "data": {},
     "metadata": {},
     "output_type": "display_data"
    },
    {
     "data": {
      "application/vnd.jupyter.widget-view+json": {
       "model_id": "c193112f003a404e89a81f828e7ac266",
       "version_major": 2,
       "version_minor": 0
      },
      "text/plain": [
       "Looping Each Links of Dates: 2021-04-06:   0%|          | 0/10 [00:00<?, ?it/s]"
      ]
     },
     "metadata": {},
     "output_type": "display_data"
    },
    {
     "data": {},
     "metadata": {},
     "output_type": "display_data"
    },
    {
     "data": {
      "application/vnd.jupyter.widget-view+json": {
       "model_id": "1e2400d663074d518a44864999578d5a",
       "version_major": 2,
       "version_minor": 0
      },
      "text/plain": [
       "Looping Each Links of Dates: 2021-04-05:   0%|          | 0/12 [00:00<?, ?it/s]"
      ]
     },
     "metadata": {},
     "output_type": "display_data"
    },
    {
     "data": {},
     "metadata": {},
     "output_type": "display_data"
    },
    {
     "data": {
      "application/vnd.jupyter.widget-view+json": {
       "model_id": "5d20d30c8c0646daa64eb6c04934f03b",
       "version_major": 2,
       "version_minor": 0
      },
      "text/plain": [
       "Looping Each Links of Dates: 2021-04-04:   0%|          | 0/8 [00:00<?, ?it/s]"
      ]
     },
     "metadata": {},
     "output_type": "display_data"
    },
    {
     "data": {},
     "metadata": {},
     "output_type": "display_data"
    },
    {
     "data": {
      "application/vnd.jupyter.widget-view+json": {
       "model_id": "511e5c66b64f434fbd281f5efcc69d96",
       "version_major": 2,
       "version_minor": 0
      },
      "text/plain": [
       "Looping Each Links of Dates: 2021-04-03:   0%|          | 0/8 [00:00<?, ?it/s]"
      ]
     },
     "metadata": {},
     "output_type": "display_data"
    },
    {
     "data": {},
     "metadata": {},
     "output_type": "display_data"
    },
    {
     "data": {
      "application/vnd.jupyter.widget-view+json": {
       "model_id": "e612525eb2ae49f09040d234d10ca4ae",
       "version_major": 2,
       "version_minor": 0
      },
      "text/plain": [
       "Looping Each Links of Dates: 2021-04-02:   0%|          | 0/9 [00:00<?, ?it/s]"
      ]
     },
     "metadata": {},
     "output_type": "display_data"
    },
    {
     "data": {},
     "metadata": {},
     "output_type": "display_data"
    },
    {
     "data": {
      "application/vnd.jupyter.widget-view+json": {
       "model_id": "d990b4cb85ae4834ad2f5b3b9744644d",
       "version_major": 2,
       "version_minor": 0
      },
      "text/plain": [
       "Looping Each Links of Dates: 2021-04-01:   0%|          | 0/10 [00:00<?, ?it/s]"
      ]
     },
     "metadata": {},
     "output_type": "display_data"
    },
    {
     "data": {},
     "metadata": {},
     "output_type": "display_data"
    },
    {
     "data": {
      "application/vnd.jupyter.widget-view+json": {
       "model_id": "39aada6329b94c739db031c71ab73e9f",
       "version_major": 2,
       "version_minor": 0
      },
      "text/plain": [
       "Looping Each Links of Dates: 2021-03-31:   0%|          | 0/8 [00:00<?, ?it/s]"
      ]
     },
     "metadata": {},
     "output_type": "display_data"
    },
    {
     "data": {},
     "metadata": {},
     "output_type": "display_data"
    },
    {
     "data": {
      "application/vnd.jupyter.widget-view+json": {
       "model_id": "de9564ef9b2c48feac39d8b9bf4178bb",
       "version_major": 2,
       "version_minor": 0
      },
      "text/plain": [
       "Looping Each Links of Dates: 2021-03-30:   0%|          | 0/9 [00:00<?, ?it/s]"
      ]
     },
     "metadata": {},
     "output_type": "display_data"
    },
    {
     "data": {},
     "metadata": {},
     "output_type": "display_data"
    },
    {
     "data": {
      "application/vnd.jupyter.widget-view+json": {
       "model_id": "00bb90418d4442998515c14b379c984f",
       "version_major": 2,
       "version_minor": 0
      },
      "text/plain": [
       "Looping Each Links of Dates: 2021-03-29:   0%|          | 0/8 [00:00<?, ?it/s]"
      ]
     },
     "metadata": {},
     "output_type": "display_data"
    },
    {
     "data": {},
     "metadata": {},
     "output_type": "display_data"
    },
    {
     "data": {
      "application/vnd.jupyter.widget-view+json": {
       "model_id": "c2992946c9f94ab2b923b488ff631baf",
       "version_major": 2,
       "version_minor": 0
      },
      "text/plain": [
       "Looping Each Links of Dates: 2021-03-28:   0%|          | 0/4 [00:00<?, ?it/s]"
      ]
     },
     "metadata": {},
     "output_type": "display_data"
    },
    {
     "data": {},
     "metadata": {},
     "output_type": "display_data"
    },
    {
     "data": {
      "application/vnd.jupyter.widget-view+json": {
       "model_id": "e488bf7f096d426c8b52330fbefda8f1",
       "version_major": 2,
       "version_minor": 0
      },
      "text/plain": [
       "Looping Each Links of Dates: 2021-03-27:   0%|          | 0/7 [00:00<?, ?it/s]"
      ]
     },
     "metadata": {},
     "output_type": "display_data"
    },
    {
     "data": {},
     "metadata": {},
     "output_type": "display_data"
    },
    {
     "data": {
      "application/vnd.jupyter.widget-view+json": {
       "model_id": "914d269e96b64fc7b41f8e6e07002201",
       "version_major": 2,
       "version_minor": 0
      },
      "text/plain": [
       "Looping Each Links of Dates: 2021-03-26:   0%|          | 0/10 [00:00<?, ?it/s]"
      ]
     },
     "metadata": {},
     "output_type": "display_data"
    },
    {
     "data": {},
     "metadata": {},
     "output_type": "display_data"
    },
    {
     "data": {
      "application/vnd.jupyter.widget-view+json": {
       "model_id": "f4ade52fe6324920a83dde0afb070ccd",
       "version_major": 2,
       "version_minor": 0
      },
      "text/plain": [
       "Looping Each Links of Dates: 2021-03-25:   0%|          | 0/7 [00:00<?, ?it/s]"
      ]
     },
     "metadata": {},
     "output_type": "display_data"
    },
    {
     "data": {},
     "metadata": {},
     "output_type": "display_data"
    },
    {
     "data": {
      "application/vnd.jupyter.widget-view+json": {
       "model_id": "270448cd50874d1fb03d20c89441dc2e",
       "version_major": 2,
       "version_minor": 0
      },
      "text/plain": [
       "Looping Each Links of Dates: 2021-03-24:   0%|          | 0/11 [00:00<?, ?it/s]"
      ]
     },
     "metadata": {},
     "output_type": "display_data"
    },
    {
     "data": {},
     "metadata": {},
     "output_type": "display_data"
    },
    {
     "data": {
      "application/vnd.jupyter.widget-view+json": {
       "model_id": "85794cf9fa874409a75bca4305a4396c",
       "version_major": 2,
       "version_minor": 0
      },
      "text/plain": [
       "Looping Each Links of Dates: 2021-03-23:   0%|          | 0/11 [00:00<?, ?it/s]"
      ]
     },
     "metadata": {},
     "output_type": "display_data"
    },
    {
     "data": {},
     "metadata": {},
     "output_type": "display_data"
    },
    {
     "data": {
      "application/vnd.jupyter.widget-view+json": {
       "model_id": "6b8cc91b8f2e4898a6102614656eff29",
       "version_major": 2,
       "version_minor": 0
      },
      "text/plain": [
       "Looping Each Links of Dates: 2021-03-22:   0%|          | 0/9 [00:00<?, ?it/s]"
      ]
     },
     "metadata": {},
     "output_type": "display_data"
    },
    {
     "data": {},
     "metadata": {},
     "output_type": "display_data"
    },
    {
     "data": {
      "application/vnd.jupyter.widget-view+json": {
       "model_id": "b8cdaccf0b62452087246634824e1548",
       "version_major": 2,
       "version_minor": 0
      },
      "text/plain": [
       "Looping Each Links of Dates: 2021-03-21:   0%|          | 0/9 [00:00<?, ?it/s]"
      ]
     },
     "metadata": {},
     "output_type": "display_data"
    },
    {
     "data": {},
     "metadata": {},
     "output_type": "display_data"
    },
    {
     "data": {
      "application/vnd.jupyter.widget-view+json": {
       "model_id": "7c2ee7ee11ab445b9410bc7ac3665ad6",
       "version_major": 2,
       "version_minor": 0
      },
      "text/plain": [
       "Looping Each Links of Dates: 2021-03-20:   0%|          | 0/8 [00:00<?, ?it/s]"
      ]
     },
     "metadata": {},
     "output_type": "display_data"
    },
    {
     "data": {},
     "metadata": {},
     "output_type": "display_data"
    },
    {
     "data": {
      "application/vnd.jupyter.widget-view+json": {
       "model_id": "68cc4235d9054057bcba3b28380de832",
       "version_major": 2,
       "version_minor": 0
      },
      "text/plain": [
       "Looping Each Links of Dates: 2021-03-19:   0%|          | 0/7 [00:00<?, ?it/s]"
      ]
     },
     "metadata": {},
     "output_type": "display_data"
    },
    {
     "data": {},
     "metadata": {},
     "output_type": "display_data"
    },
    {
     "data": {
      "application/vnd.jupyter.widget-view+json": {
       "model_id": "fb48de18fbbe4f70a642a268f2ec2aec",
       "version_major": 2,
       "version_minor": 0
      },
      "text/plain": [
       "Looping Each Links of Dates: 2021-03-18:   0%|          | 0/12 [00:00<?, ?it/s]"
      ]
     },
     "metadata": {},
     "output_type": "display_data"
    },
    {
     "data": {},
     "metadata": {},
     "output_type": "display_data"
    },
    {
     "data": {
      "application/vnd.jupyter.widget-view+json": {
       "model_id": "ec65de1d3a344b368c90cc67bb9e487e",
       "version_major": 2,
       "version_minor": 0
      },
      "text/plain": [
       "Looping Each Links of Dates: 2021-03-17:   0%|          | 0/5 [00:00<?, ?it/s]"
      ]
     },
     "metadata": {},
     "output_type": "display_data"
    },
    {
     "data": {},
     "metadata": {},
     "output_type": "display_data"
    },
    {
     "data": {
      "application/vnd.jupyter.widget-view+json": {
       "model_id": "fcea9d1140484510aeede9f45a1d5db7",
       "version_major": 2,
       "version_minor": 0
      },
      "text/plain": [
       "Looping Each Links of Dates: 2021-03-16:   0%|          | 0/9 [00:00<?, ?it/s]"
      ]
     },
     "metadata": {},
     "output_type": "display_data"
    },
    {
     "data": {},
     "metadata": {},
     "output_type": "display_data"
    },
    {
     "data": {
      "application/vnd.jupyter.widget-view+json": {
       "model_id": "7ea54e35d3184779959595388932e556",
       "version_major": 2,
       "version_minor": 0
      },
      "text/plain": [
       "Looping Each Links of Dates: 2021-03-15:   0%|          | 0/8 [00:00<?, ?it/s]"
      ]
     },
     "metadata": {},
     "output_type": "display_data"
    },
    {
     "data": {},
     "metadata": {},
     "output_type": "display_data"
    },
    {
     "data": {
      "application/vnd.jupyter.widget-view+json": {
       "model_id": "50ba2b2070214907a02d20dfba2f632b",
       "version_major": 2,
       "version_minor": 0
      },
      "text/plain": [
       "Looping Each Links of Dates: 2021-03-14:   0%|          | 0/14 [00:00<?, ?it/s]"
      ]
     },
     "metadata": {},
     "output_type": "display_data"
    },
    {
     "data": {},
     "metadata": {},
     "output_type": "display_data"
    },
    {
     "data": {
      "application/vnd.jupyter.widget-view+json": {
       "model_id": "f719ff6c5b6e465599ca6390251aac21",
       "version_major": 2,
       "version_minor": 0
      },
      "text/plain": [
       "Looping Each Links of Dates: 2021-03-13:   0%|          | 0/10 [00:00<?, ?it/s]"
      ]
     },
     "metadata": {},
     "output_type": "display_data"
    },
    {
     "data": {},
     "metadata": {},
     "output_type": "display_data"
    },
    {
     "data": {
      "application/vnd.jupyter.widget-view+json": {
       "model_id": "2a457cc839194816a5da594a4fd63696",
       "version_major": 2,
       "version_minor": 0
      },
      "text/plain": [
       "Looping Each Links of Dates: 2021-03-12:   0%|          | 0/6 [00:00<?, ?it/s]"
      ]
     },
     "metadata": {},
     "output_type": "display_data"
    },
    {
     "data": {},
     "metadata": {},
     "output_type": "display_data"
    },
    {
     "data": {
      "application/vnd.jupyter.widget-view+json": {
       "model_id": "2b6ad9a0f5844c4eaa0f7c2c02ea4f1b",
       "version_major": 2,
       "version_minor": 0
      },
      "text/plain": [
       "Looping Each Links of Dates: 2021-03-11:   0%|          | 0/8 [00:00<?, ?it/s]"
      ]
     },
     "metadata": {},
     "output_type": "display_data"
    },
    {
     "data": {},
     "metadata": {},
     "output_type": "display_data"
    },
    {
     "data": {
      "application/vnd.jupyter.widget-view+json": {
       "model_id": "6f830675fcae47a2937d724a7f43ab65",
       "version_major": 2,
       "version_minor": 0
      },
      "text/plain": [
       "Looping Each Links of Dates: 2021-03-10:   0%|          | 0/10 [00:00<?, ?it/s]"
      ]
     },
     "metadata": {},
     "output_type": "display_data"
    },
    {
     "data": {},
     "metadata": {},
     "output_type": "display_data"
    },
    {
     "data": {
      "application/vnd.jupyter.widget-view+json": {
       "model_id": "81f0ba30fbba48b593cbecc3ead8c32b",
       "version_major": 2,
       "version_minor": 0
      },
      "text/plain": [
       "Looping Each Links of Dates: 2021-03-09:   0%|          | 0/10 [00:00<?, ?it/s]"
      ]
     },
     "metadata": {},
     "output_type": "display_data"
    },
    {
     "data": {},
     "metadata": {},
     "output_type": "display_data"
    },
    {
     "data": {
      "application/vnd.jupyter.widget-view+json": {
       "model_id": "e4eae2b0c4274867b1ce822067fd58ae",
       "version_major": 2,
       "version_minor": 0
      },
      "text/plain": [
       "Looping Each Links of Dates: 2021-03-08:   0%|          | 0/10 [00:00<?, ?it/s]"
      ]
     },
     "metadata": {},
     "output_type": "display_data"
    },
    {
     "data": {},
     "metadata": {},
     "output_type": "display_data"
    },
    {
     "data": {
      "application/vnd.jupyter.widget-view+json": {
       "model_id": "3d7d8b8e08a6408a9a7b88cd59752603",
       "version_major": 2,
       "version_minor": 0
      },
      "text/plain": [
       "Looping Each Links of Dates: 2021-03-07:   0%|          | 0/12 [00:00<?, ?it/s]"
      ]
     },
     "metadata": {},
     "output_type": "display_data"
    },
    {
     "data": {},
     "metadata": {},
     "output_type": "display_data"
    },
    {
     "data": {
      "application/vnd.jupyter.widget-view+json": {
       "model_id": "49dfccd3913a444d9562014175929588",
       "version_major": 2,
       "version_minor": 0
      },
      "text/plain": [
       "Looping Each Links of Dates: 2021-03-06:   0%|          | 0/8 [00:00<?, ?it/s]"
      ]
     },
     "metadata": {},
     "output_type": "display_data"
    },
    {
     "data": {},
     "metadata": {},
     "output_type": "display_data"
    },
    {
     "data": {
      "application/vnd.jupyter.widget-view+json": {
       "model_id": "d27021bc07df4d62ba4cc1d09d414ac0",
       "version_major": 2,
       "version_minor": 0
      },
      "text/plain": [
       "Looping Each Links of Dates: 2021-03-05:   0%|          | 0/7 [00:00<?, ?it/s]"
      ]
     },
     "metadata": {},
     "output_type": "display_data"
    },
    {
     "data": {},
     "metadata": {},
     "output_type": "display_data"
    },
    {
     "data": {
      "application/vnd.jupyter.widget-view+json": {
       "model_id": "b268b3e1768f45c9a481f67688617154",
       "version_major": 2,
       "version_minor": 0
      },
      "text/plain": [
       "Looping Each Links of Dates: 2021-03-04:   0%|          | 0/8 [00:00<?, ?it/s]"
      ]
     },
     "metadata": {},
     "output_type": "display_data"
    },
    {
     "data": {},
     "metadata": {},
     "output_type": "display_data"
    },
    {
     "data": {
      "application/vnd.jupyter.widget-view+json": {
       "model_id": "f92afe3b91874917b46659e217a59ea5",
       "version_major": 2,
       "version_minor": 0
      },
      "text/plain": [
       "Looping Each Links of Dates: 2021-03-03:   0%|          | 0/9 [00:00<?, ?it/s]"
      ]
     },
     "metadata": {},
     "output_type": "display_data"
    },
    {
     "data": {},
     "metadata": {},
     "output_type": "display_data"
    },
    {
     "data": {
      "application/vnd.jupyter.widget-view+json": {
       "model_id": "e26bd4785df44d8e9838fff3fa807a0b",
       "version_major": 2,
       "version_minor": 0
      },
      "text/plain": [
       "Looping Each Links of Dates: 2021-03-02:   0%|          | 0/9 [00:00<?, ?it/s]"
      ]
     },
     "metadata": {},
     "output_type": "display_data"
    },
    {
     "data": {},
     "metadata": {},
     "output_type": "display_data"
    },
    {
     "data": {
      "application/vnd.jupyter.widget-view+json": {
       "model_id": "8e9f3656b50e4ad59bceabbfcd917a82",
       "version_major": 2,
       "version_minor": 0
      },
      "text/plain": [
       "Looping Each Links of Dates: 2021-03-01:   0%|          | 0/9 [00:00<?, ?it/s]"
      ]
     },
     "metadata": {},
     "output_type": "display_data"
    },
    {
     "data": {},
     "metadata": {},
     "output_type": "display_data"
    },
    {
     "data": {
      "application/vnd.jupyter.widget-view+json": {
       "model_id": "9fd08c67d00346929bd55e78fafb5670",
       "version_major": 2,
       "version_minor": 0
      },
      "text/plain": [
       "Looping Each Links of Dates: 2021-02-28:   0%|          | 0/11 [00:00<?, ?it/s]"
      ]
     },
     "metadata": {},
     "output_type": "display_data"
    },
    {
     "data": {},
     "metadata": {},
     "output_type": "display_data"
    },
    {
     "data": {
      "application/vnd.jupyter.widget-view+json": {
       "model_id": "58cf101270f54fa0b5f133976eedf124",
       "version_major": 2,
       "version_minor": 0
      },
      "text/plain": [
       "Looping Each Links of Dates: 2021-02-27:   0%|          | 0/9 [00:00<?, ?it/s]"
      ]
     },
     "metadata": {},
     "output_type": "display_data"
    },
    {
     "data": {},
     "metadata": {},
     "output_type": "display_data"
    },
    {
     "data": {
      "application/vnd.jupyter.widget-view+json": {
       "model_id": "6c284c60cc9140adba952f19f695d663",
       "version_major": 2,
       "version_minor": 0
      },
      "text/plain": [
       "Looping Each Links of Dates: 2021-02-26:   0%|          | 0/9 [00:00<?, ?it/s]"
      ]
     },
     "metadata": {},
     "output_type": "display_data"
    },
    {
     "data": {},
     "metadata": {},
     "output_type": "display_data"
    },
    {
     "data": {
      "application/vnd.jupyter.widget-view+json": {
       "model_id": "29c654786093427c832eed98c1eaea80",
       "version_major": 2,
       "version_minor": 0
      },
      "text/plain": [
       "Looping Each Links of Dates: 2021-02-25:   0%|          | 0/10 [00:00<?, ?it/s]"
      ]
     },
     "metadata": {},
     "output_type": "display_data"
    },
    {
     "data": {},
     "metadata": {},
     "output_type": "display_data"
    },
    {
     "data": {
      "application/vnd.jupyter.widget-view+json": {
       "model_id": "48b651b2211042248e5b16d9d24b2ff8",
       "version_major": 2,
       "version_minor": 0
      },
      "text/plain": [
       "Looping Each Links of Dates: 2021-02-24:   0%|          | 0/11 [00:00<?, ?it/s]"
      ]
     },
     "metadata": {},
     "output_type": "display_data"
    },
    {
     "data": {},
     "metadata": {},
     "output_type": "display_data"
    },
    {
     "data": {
      "application/vnd.jupyter.widget-view+json": {
       "model_id": "e6141986682a4964bd1ed4e8828db1d4",
       "version_major": 2,
       "version_minor": 0
      },
      "text/plain": [
       "Looping Each Links of Dates: 2021-02-23:   0%|          | 0/9 [00:00<?, ?it/s]"
      ]
     },
     "metadata": {},
     "output_type": "display_data"
    },
    {
     "data": {},
     "metadata": {},
     "output_type": "display_data"
    },
    {
     "data": {
      "application/vnd.jupyter.widget-view+json": {
       "model_id": "21865af12e7940258d70f61a2814c055",
       "version_major": 2,
       "version_minor": 0
      },
      "text/plain": [
       "Looping Each Links of Dates: 2021-02-22:   0%|          | 0/8 [00:00<?, ?it/s]"
      ]
     },
     "metadata": {},
     "output_type": "display_data"
    },
    {
     "data": {},
     "metadata": {},
     "output_type": "display_data"
    },
    {
     "data": {
      "application/vnd.jupyter.widget-view+json": {
       "model_id": "9bc997b3d91e489a8c9513f986023eca",
       "version_major": 2,
       "version_minor": 0
      },
      "text/plain": [
       "Looping Each Links of Dates: 2021-02-21:   0%|          | 0/10 [00:00<?, ?it/s]"
      ]
     },
     "metadata": {},
     "output_type": "display_data"
    },
    {
     "data": {},
     "metadata": {},
     "output_type": "display_data"
    },
    {
     "data": {
      "application/vnd.jupyter.widget-view+json": {
       "model_id": "690da209bc1043efb73248e2657bd39a",
       "version_major": 2,
       "version_minor": 0
      },
      "text/plain": [
       "Looping Each Links of Dates: 2021-02-20:   0%|          | 0/8 [00:00<?, ?it/s]"
      ]
     },
     "metadata": {},
     "output_type": "display_data"
    },
    {
     "data": {},
     "metadata": {},
     "output_type": "display_data"
    },
    {
     "data": {
      "application/vnd.jupyter.widget-view+json": {
       "model_id": "e2c4ce36fd074ba18f1374d01fead362",
       "version_major": 2,
       "version_minor": 0
      },
      "text/plain": [
       "Looping Each Links of Dates: 2021-02-19:   0%|          | 0/4 [00:00<?, ?it/s]"
      ]
     },
     "metadata": {},
     "output_type": "display_data"
    },
    {
     "data": {},
     "metadata": {},
     "output_type": "display_data"
    },
    {
     "data": {
      "application/vnd.jupyter.widget-view+json": {
       "model_id": "5c1b2399d4194e0db580221b612b5708",
       "version_major": 2,
       "version_minor": 0
      },
      "text/plain": [
       "Looping Each Links of Dates: 2021-02-18:   0%|          | 0/7 [00:00<?, ?it/s]"
      ]
     },
     "metadata": {},
     "output_type": "display_data"
    },
    {
     "data": {},
     "metadata": {},
     "output_type": "display_data"
    },
    {
     "data": {
      "application/vnd.jupyter.widget-view+json": {
       "model_id": "33e6ff34d6f24a2190c18f97f73730c5",
       "version_major": 2,
       "version_minor": 0
      },
      "text/plain": [
       "Looping Each Links of Dates: 2021-02-17:   0%|          | 0/7 [00:00<?, ?it/s]"
      ]
     },
     "metadata": {},
     "output_type": "display_data"
    },
    {
     "data": {},
     "metadata": {},
     "output_type": "display_data"
    },
    {
     "data": {
      "application/vnd.jupyter.widget-view+json": {
       "model_id": "15f614c02e7b4fd0bc3f717153a948f0",
       "version_major": 2,
       "version_minor": 0
      },
      "text/plain": [
       "Looping Each Links of Dates: 2021-02-16:   0%|          | 0/7 [00:00<?, ?it/s]"
      ]
     },
     "metadata": {},
     "output_type": "display_data"
    },
    {
     "data": {},
     "metadata": {},
     "output_type": "display_data"
    },
    {
     "data": {
      "application/vnd.jupyter.widget-view+json": {
       "model_id": "8b4e628fe0a7443293cfa0a8ff87a240",
       "version_major": 2,
       "version_minor": 0
      },
      "text/plain": [
       "Looping Each Links of Dates: 2021-02-15:   0%|          | 0/8 [00:00<?, ?it/s]"
      ]
     },
     "metadata": {},
     "output_type": "display_data"
    },
    {
     "data": {},
     "metadata": {},
     "output_type": "display_data"
    },
    {
     "data": {
      "application/vnd.jupyter.widget-view+json": {
       "model_id": "86a4c466259d4416968f23c33b6bf7bd",
       "version_major": 2,
       "version_minor": 0
      },
      "text/plain": [
       "Looping Each Links of Dates: 2021-02-14:   0%|          | 0/7 [00:00<?, ?it/s]"
      ]
     },
     "metadata": {},
     "output_type": "display_data"
    },
    {
     "data": {},
     "metadata": {},
     "output_type": "display_data"
    },
    {
     "data": {
      "application/vnd.jupyter.widget-view+json": {
       "model_id": "154bfacc4c964b42a8de437c86c300dc",
       "version_major": 2,
       "version_minor": 0
      },
      "text/plain": [
       "Looping Each Links of Dates: 2021-02-13:   0%|          | 0/13 [00:00<?, ?it/s]"
      ]
     },
     "metadata": {},
     "output_type": "display_data"
    },
    {
     "data": {},
     "metadata": {},
     "output_type": "display_data"
    },
    {
     "data": {
      "application/vnd.jupyter.widget-view+json": {
       "model_id": "6a272480cf8144cd87a987ac742dbfe5",
       "version_major": 2,
       "version_minor": 0
      },
      "text/plain": [
       "Looping Each Links of Dates: 2021-02-12:   0%|          | 0/10 [00:00<?, ?it/s]"
      ]
     },
     "metadata": {},
     "output_type": "display_data"
    },
    {
     "data": {},
     "metadata": {},
     "output_type": "display_data"
    },
    {
     "data": {
      "application/vnd.jupyter.widget-view+json": {
       "model_id": "d222dc070a4f458b86638b7ea0eeaf9c",
       "version_major": 2,
       "version_minor": 0
      },
      "text/plain": [
       "Looping Each Links of Dates: 2021-02-11:   0%|          | 0/9 [00:00<?, ?it/s]"
      ]
     },
     "metadata": {},
     "output_type": "display_data"
    },
    {
     "data": {},
     "metadata": {},
     "output_type": "display_data"
    },
    {
     "data": {
      "application/vnd.jupyter.widget-view+json": {
       "model_id": "1abf30824b8c47af8f5009d2b549cc18",
       "version_major": 2,
       "version_minor": 0
      },
      "text/plain": [
       "Looping Each Links of Dates: 2021-02-10:   0%|          | 0/8 [00:00<?, ?it/s]"
      ]
     },
     "metadata": {},
     "output_type": "display_data"
    },
    {
     "data": {},
     "metadata": {},
     "output_type": "display_data"
    },
    {
     "data": {
      "application/vnd.jupyter.widget-view+json": {
       "model_id": "6030c7f5d3c64de99446b313ae898c22",
       "version_major": 2,
       "version_minor": 0
      },
      "text/plain": [
       "Looping Each Links of Dates: 2021-02-09:   0%|          | 0/8 [00:00<?, ?it/s]"
      ]
     },
     "metadata": {},
     "output_type": "display_data"
    },
    {
     "data": {},
     "metadata": {},
     "output_type": "display_data"
    },
    {
     "data": {
      "application/vnd.jupyter.widget-view+json": {
       "model_id": "1f60f66c68a6483d8b5e3153141b7aac",
       "version_major": 2,
       "version_minor": 0
      },
      "text/plain": [
       "Looping Each Links of Dates: 2021-02-08:   0%|          | 0/5 [00:00<?, ?it/s]"
      ]
     },
     "metadata": {},
     "output_type": "display_data"
    },
    {
     "data": {},
     "metadata": {},
     "output_type": "display_data"
    },
    {
     "data": {
      "application/vnd.jupyter.widget-view+json": {
       "model_id": "83a8f3a8bc1540a680e150848ffcb1a8",
       "version_major": 2,
       "version_minor": 0
      },
      "text/plain": [
       "Looping Each Links of Dates: 2021-02-07:   0%|          | 0/9 [00:00<?, ?it/s]"
      ]
     },
     "metadata": {},
     "output_type": "display_data"
    },
    {
     "data": {},
     "metadata": {},
     "output_type": "display_data"
    },
    {
     "data": {
      "application/vnd.jupyter.widget-view+json": {
       "model_id": "7662afac26584be081aae2bc9cf9e63a",
       "version_major": 2,
       "version_minor": 0
      },
      "text/plain": [
       "Looping Each Links of Dates: 2021-02-06:   0%|          | 0/7 [00:00<?, ?it/s]"
      ]
     },
     "metadata": {},
     "output_type": "display_data"
    },
    {
     "data": {},
     "metadata": {},
     "output_type": "display_data"
    },
    {
     "data": {
      "application/vnd.jupyter.widget-view+json": {
       "model_id": "763b8be93815475fa8ee66d00475b5d7",
       "version_major": 2,
       "version_minor": 0
      },
      "text/plain": [
       "Looping Each Links of Dates: 2021-02-05:   0%|          | 0/7 [00:00<?, ?it/s]"
      ]
     },
     "metadata": {},
     "output_type": "display_data"
    },
    {
     "data": {},
     "metadata": {},
     "output_type": "display_data"
    },
    {
     "data": {
      "application/vnd.jupyter.widget-view+json": {
       "model_id": "6c9af53ec7d443c5a6408db1bd72057b",
       "version_major": 2,
       "version_minor": 0
      },
      "text/plain": [
       "Looping Each Links of Dates: 2021-02-04:   0%|          | 0/8 [00:00<?, ?it/s]"
      ]
     },
     "metadata": {},
     "output_type": "display_data"
    },
    {
     "data": {},
     "metadata": {},
     "output_type": "display_data"
    },
    {
     "data": {
      "application/vnd.jupyter.widget-view+json": {
       "model_id": "b48f3bd27265414091192ec0946ee99f",
       "version_major": 2,
       "version_minor": 0
      },
      "text/plain": [
       "Looping Each Links of Dates: 2021-02-03:   0%|          | 0/5 [00:00<?, ?it/s]"
      ]
     },
     "metadata": {},
     "output_type": "display_data"
    },
    {
     "data": {},
     "metadata": {},
     "output_type": "display_data"
    },
    {
     "data": {
      "application/vnd.jupyter.widget-view+json": {
       "model_id": "051660e92e6e415babe54975ee2fcf6e",
       "version_major": 2,
       "version_minor": 0
      },
      "text/plain": [
       "Looping Each Links of Dates: 2021-02-02:   0%|          | 0/7 [00:00<?, ?it/s]"
      ]
     },
     "metadata": {},
     "output_type": "display_data"
    },
    {
     "data": {},
     "metadata": {},
     "output_type": "display_data"
    },
    {
     "data": {
      "application/vnd.jupyter.widget-view+json": {
       "model_id": "245b1d8b42f94c5bb791867ec7da6293",
       "version_major": 2,
       "version_minor": 0
      },
      "text/plain": [
       "Looping Each Links of Dates: 2021-02-01:   0%|          | 0/6 [00:00<?, ?it/s]"
      ]
     },
     "metadata": {},
     "output_type": "display_data"
    },
    {
     "data": {},
     "metadata": {},
     "output_type": "display_data"
    },
    {
     "data": {
      "application/vnd.jupyter.widget-view+json": {
       "model_id": "5485fc81bc724b5b9d12b2b5d4232998",
       "version_major": 2,
       "version_minor": 0
      },
      "text/plain": [
       "Looping Each Links of Dates: 2021-01-31:   0%|          | 0/8 [00:00<?, ?it/s]"
      ]
     },
     "metadata": {},
     "output_type": "display_data"
    },
    {
     "data": {},
     "metadata": {},
     "output_type": "display_data"
    },
    {
     "data": {
      "application/vnd.jupyter.widget-view+json": {
       "model_id": "f774d4bf9faf43e6a0c1c5a0b0a02c45",
       "version_major": 2,
       "version_minor": 0
      },
      "text/plain": [
       "Looping Each Links of Dates: 2021-01-30:   0%|          | 0/15 [00:00<?, ?it/s]"
      ]
     },
     "metadata": {},
     "output_type": "display_data"
    },
    {
     "data": {},
     "metadata": {},
     "output_type": "display_data"
    },
    {
     "data": {
      "application/vnd.jupyter.widget-view+json": {
       "model_id": "bf16d977d87449ad9bb2e117d4e867da",
       "version_major": 2,
       "version_minor": 0
      },
      "text/plain": [
       "Looping Each Links of Dates: 2021-01-29:   0%|          | 0/7 [00:00<?, ?it/s]"
      ]
     },
     "metadata": {},
     "output_type": "display_data"
    },
    {
     "data": {},
     "metadata": {},
     "output_type": "display_data"
    },
    {
     "data": {
      "application/vnd.jupyter.widget-view+json": {
       "model_id": "5c05a80d97f24006a9100c6e73c6b9d3",
       "version_major": 2,
       "version_minor": 0
      },
      "text/plain": [
       "Looping Each Links of Dates: 2021-01-28:   0%|          | 0/7 [00:00<?, ?it/s]"
      ]
     },
     "metadata": {},
     "output_type": "display_data"
    },
    {
     "data": {},
     "metadata": {},
     "output_type": "display_data"
    },
    {
     "data": {
      "application/vnd.jupyter.widget-view+json": {
       "model_id": "b0a5f7cc42ee40c0ad56b1865d05332b",
       "version_major": 2,
       "version_minor": 0
      },
      "text/plain": [
       "Looping Each Links of Dates: 2021-01-27:   0%|          | 0/6 [00:00<?, ?it/s]"
      ]
     },
     "metadata": {},
     "output_type": "display_data"
    },
    {
     "data": {},
     "metadata": {},
     "output_type": "display_data"
    },
    {
     "data": {
      "application/vnd.jupyter.widget-view+json": {
       "model_id": "cb4cdcfcce46491eae3c4e529de6833c",
       "version_major": 2,
       "version_minor": 0
      },
      "text/plain": [
       "Looping Each Links of Dates: 2021-01-26:   0%|          | 0/7 [00:00<?, ?it/s]"
      ]
     },
     "metadata": {},
     "output_type": "display_data"
    },
    {
     "data": {},
     "metadata": {},
     "output_type": "display_data"
    },
    {
     "data": {
      "application/vnd.jupyter.widget-view+json": {
       "model_id": "4ba0b54560e94451a11acf0ad6ba0dc8",
       "version_major": 2,
       "version_minor": 0
      },
      "text/plain": [
       "Looping Each Links of Dates: 2021-01-25:   0%|          | 0/4 [00:00<?, ?it/s]"
      ]
     },
     "metadata": {},
     "output_type": "display_data"
    },
    {
     "data": {},
     "metadata": {},
     "output_type": "display_data"
    },
    {
     "data": {
      "application/vnd.jupyter.widget-view+json": {
       "model_id": "91bd7652ef1749df9b76426b907e570b",
       "version_major": 2,
       "version_minor": 0
      },
      "text/plain": [
       "Looping Each Links of Dates: 2021-01-24:   0%|          | 0/8 [00:00<?, ?it/s]"
      ]
     },
     "metadata": {},
     "output_type": "display_data"
    },
    {
     "data": {},
     "metadata": {},
     "output_type": "display_data"
    },
    {
     "data": {
      "application/vnd.jupyter.widget-view+json": {
       "model_id": "c22f64c668694b64b2aaa3d62b85213a",
       "version_major": 2,
       "version_minor": 0
      },
      "text/plain": [
       "Looping Each Links of Dates: 2021-01-23:   0%|          | 0/10 [00:00<?, ?it/s]"
      ]
     },
     "metadata": {},
     "output_type": "display_data"
    },
    {
     "data": {},
     "metadata": {},
     "output_type": "display_data"
    },
    {
     "data": {
      "application/vnd.jupyter.widget-view+json": {
       "model_id": "fd55dd2a459c44c688ce39887902a205",
       "version_major": 2,
       "version_minor": 0
      },
      "text/plain": [
       "Looping Each Links of Dates: 2021-01-22:   0%|          | 0/5 [00:00<?, ?it/s]"
      ]
     },
     "metadata": {},
     "output_type": "display_data"
    },
    {
     "data": {},
     "metadata": {},
     "output_type": "display_data"
    },
    {
     "data": {
      "application/vnd.jupyter.widget-view+json": {
       "model_id": "379eed1dc6db45fb9c5100a20acf6d2d",
       "version_major": 2,
       "version_minor": 0
      },
      "text/plain": [
       "Looping Each Links of Dates: 2021-01-21:   0%|          | 0/7 [00:00<?, ?it/s]"
      ]
     },
     "metadata": {},
     "output_type": "display_data"
    },
    {
     "data": {},
     "metadata": {},
     "output_type": "display_data"
    },
    {
     "data": {
      "application/vnd.jupyter.widget-view+json": {
       "model_id": "ac395d61f62b419d858c7d7182bb992d",
       "version_major": 2,
       "version_minor": 0
      },
      "text/plain": [
       "Looping Each Links of Dates: 2021-01-20:   0%|          | 0/7 [00:00<?, ?it/s]"
      ]
     },
     "metadata": {},
     "output_type": "display_data"
    },
    {
     "data": {},
     "metadata": {},
     "output_type": "display_data"
    },
    {
     "data": {
      "application/vnd.jupyter.widget-view+json": {
       "model_id": "03e62a83056c42ff9b0a04cd86a535fa",
       "version_major": 2,
       "version_minor": 0
      },
      "text/plain": [
       "Looping Each Links of Dates: 2021-01-19:   0%|          | 0/9 [00:00<?, ?it/s]"
      ]
     },
     "metadata": {},
     "output_type": "display_data"
    },
    {
     "data": {},
     "metadata": {},
     "output_type": "display_data"
    },
    {
     "data": {
      "application/vnd.jupyter.widget-view+json": {
       "model_id": "686031b44ef648d9848ec686683d4ec9",
       "version_major": 2,
       "version_minor": 0
      },
      "text/plain": [
       "Looping Each Links of Dates: 2021-01-18:   0%|          | 0/8 [00:00<?, ?it/s]"
      ]
     },
     "metadata": {},
     "output_type": "display_data"
    },
    {
     "data": {},
     "metadata": {},
     "output_type": "display_data"
    },
    {
     "data": {
      "application/vnd.jupyter.widget-view+json": {
       "model_id": "1503d9c3b28b44b78dba5a12ddcdafba",
       "version_major": 2,
       "version_minor": 0
      },
      "text/plain": [
       "Looping Each Links of Dates: 2021-01-17:   0%|          | 0/7 [00:00<?, ?it/s]"
      ]
     },
     "metadata": {},
     "output_type": "display_data"
    },
    {
     "data": {},
     "metadata": {},
     "output_type": "display_data"
    },
    {
     "data": {
      "application/vnd.jupyter.widget-view+json": {
       "model_id": "9e74022e85d542efbce463cb6c4798fd",
       "version_major": 2,
       "version_minor": 0
      },
      "text/plain": [
       "Looping Each Links of Dates: 2021-01-16:   0%|          | 0/11 [00:00<?, ?it/s]"
      ]
     },
     "metadata": {},
     "output_type": "display_data"
    },
    {
     "data": {},
     "metadata": {},
     "output_type": "display_data"
    },
    {
     "data": {
      "application/vnd.jupyter.widget-view+json": {
       "model_id": "00cf7d4c3f7f4a7abc2ed13a774b7346",
       "version_major": 2,
       "version_minor": 0
      },
      "text/plain": [
       "Looping Each Links of Dates: 2021-01-15:   0%|          | 0/7 [00:00<?, ?it/s]"
      ]
     },
     "metadata": {},
     "output_type": "display_data"
    },
    {
     "data": {},
     "metadata": {},
     "output_type": "display_data"
    },
    {
     "data": {
      "application/vnd.jupyter.widget-view+json": {
       "model_id": "02855e03befe4834a800b27444cecf88",
       "version_major": 2,
       "version_minor": 0
      },
      "text/plain": [
       "Looping Each Links of Dates: 2021-01-14:   0%|          | 0/6 [00:00<?, ?it/s]"
      ]
     },
     "metadata": {},
     "output_type": "display_data"
    },
    {
     "data": {},
     "metadata": {},
     "output_type": "display_data"
    },
    {
     "data": {
      "application/vnd.jupyter.widget-view+json": {
       "model_id": "0a7dc9300be74cac8f31fa3962f5d5ed",
       "version_major": 2,
       "version_minor": 0
      },
      "text/plain": [
       "Looping Each Links of Dates: 2021-01-13:   0%|          | 0/10 [00:00<?, ?it/s]"
      ]
     },
     "metadata": {},
     "output_type": "display_data"
    },
    {
     "data": {},
     "metadata": {},
     "output_type": "display_data"
    },
    {
     "data": {
      "application/vnd.jupyter.widget-view+json": {
       "model_id": "bf76d3bda52247a5a20d21001ea0a047",
       "version_major": 2,
       "version_minor": 0
      },
      "text/plain": [
       "Looping Each Links of Dates: 2021-01-12:   0%|          | 0/8 [00:00<?, ?it/s]"
      ]
     },
     "metadata": {},
     "output_type": "display_data"
    },
    {
     "data": {},
     "metadata": {},
     "output_type": "display_data"
    },
    {
     "data": {
      "application/vnd.jupyter.widget-view+json": {
       "model_id": "07a8c6488f874ee78f2534e699f20406",
       "version_major": 2,
       "version_minor": 0
      },
      "text/plain": [
       "Looping Each Links of Dates: 2021-01-11:   0%|          | 0/6 [00:00<?, ?it/s]"
      ]
     },
     "metadata": {},
     "output_type": "display_data"
    },
    {
     "data": {},
     "metadata": {},
     "output_type": "display_data"
    },
    {
     "data": {
      "application/vnd.jupyter.widget-view+json": {
       "model_id": "e378a4774e814f36b6f2812f0a14c989",
       "version_major": 2,
       "version_minor": 0
      },
      "text/plain": [
       "Looping Each Links of Dates: 2021-01-10:   0%|          | 0/6 [00:00<?, ?it/s]"
      ]
     },
     "metadata": {},
     "output_type": "display_data"
    },
    {
     "data": {},
     "metadata": {},
     "output_type": "display_data"
    },
    {
     "data": {
      "application/vnd.jupyter.widget-view+json": {
       "model_id": "3b311281bed946ffb3e136b5056cd239",
       "version_major": 2,
       "version_minor": 0
      },
      "text/plain": [
       "Looping Each Links of Dates: 2021-01-09:   0%|          | 0/10 [00:00<?, ?it/s]"
      ]
     },
     "metadata": {},
     "output_type": "display_data"
    },
    {
     "data": {},
     "metadata": {},
     "output_type": "display_data"
    },
    {
     "data": {
      "application/vnd.jupyter.widget-view+json": {
       "model_id": "875f8279e75c456fbd12edc836c03f92",
       "version_major": 2,
       "version_minor": 0
      },
      "text/plain": [
       "Looping Each Links of Dates: 2021-01-08:   0%|          | 0/6 [00:00<?, ?it/s]"
      ]
     },
     "metadata": {},
     "output_type": "display_data"
    },
    {
     "data": {},
     "metadata": {},
     "output_type": "display_data"
    },
    {
     "data": {
      "application/vnd.jupyter.widget-view+json": {
       "model_id": "025df43f21c24a16bcbb124b4c13c501",
       "version_major": 2,
       "version_minor": 0
      },
      "text/plain": [
       "Looping Each Links of Dates: 2021-01-07:   0%|          | 0/4 [00:00<?, ?it/s]"
      ]
     },
     "metadata": {},
     "output_type": "display_data"
    },
    {
     "data": {},
     "metadata": {},
     "output_type": "display_data"
    },
    {
     "data": {
      "application/vnd.jupyter.widget-view+json": {
       "model_id": "f79c717e83824af097216939147caa04",
       "version_major": 2,
       "version_minor": 0
      },
      "text/plain": [
       "Looping Each Links of Dates: 2021-01-06:   0%|          | 0/6 [00:00<?, ?it/s]"
      ]
     },
     "metadata": {},
     "output_type": "display_data"
    },
    {
     "data": {},
     "metadata": {},
     "output_type": "display_data"
    },
    {
     "data": {
      "application/vnd.jupyter.widget-view+json": {
       "model_id": "e456fbd6f0da423e809d6e3c3e53c33a",
       "version_major": 2,
       "version_minor": 0
      },
      "text/plain": [
       "Looping Each Links of Dates: 2021-01-05:   0%|          | 0/11 [00:00<?, ?it/s]"
      ]
     },
     "metadata": {},
     "output_type": "display_data"
    },
    {
     "data": {},
     "metadata": {},
     "output_type": "display_data"
    },
    {
     "data": {
      "application/vnd.jupyter.widget-view+json": {
       "model_id": "7edfab768ee4461fb0a0f31f4fe2c174",
       "version_major": 2,
       "version_minor": 0
      },
      "text/plain": [
       "Looping Each Links of Dates: 2021-01-04:   0%|          | 0/8 [00:00<?, ?it/s]"
      ]
     },
     "metadata": {},
     "output_type": "display_data"
    },
    {
     "data": {},
     "metadata": {},
     "output_type": "display_data"
    },
    {
     "data": {
      "application/vnd.jupyter.widget-view+json": {
       "model_id": "118be991bc6f4a0c8dd835a75aa0618d",
       "version_major": 2,
       "version_minor": 0
      },
      "text/plain": [
       "Looping Each Links of Dates: 2021-01-03:   0%|          | 0/11 [00:00<?, ?it/s]"
      ]
     },
     "metadata": {},
     "output_type": "display_data"
    },
    {
     "data": {},
     "metadata": {},
     "output_type": "display_data"
    },
    {
     "data": {
      "application/vnd.jupyter.widget-view+json": {
       "model_id": "ebe91e4c6c7148c39cc202a7a48ed6b8",
       "version_major": 2,
       "version_minor": 0
      },
      "text/plain": [
       "Looping Each Links of Dates: 2021-01-02:   0%|          | 0/3 [00:00<?, ?it/s]"
      ]
     },
     "metadata": {},
     "output_type": "display_data"
    },
    {
     "data": {},
     "metadata": {},
     "output_type": "display_data"
    },
    {
     "data": {
      "application/vnd.jupyter.widget-view+json": {
       "model_id": "ab7b5aa761844cee8f8bc5cb4f27e600",
       "version_major": 2,
       "version_minor": 0
      },
      "text/plain": [
       "Looping Each Links of Dates: 2021-01-01:   0%|          | 0/7 [00:00<?, ?it/s]"
      ]
     },
     "metadata": {},
     "output_type": "display_data"
    },
    {
     "data": {},
     "metadata": {},
     "output_type": "display_data"
    },
    {
     "data": {
      "application/vnd.jupyter.widget-view+json": {
       "model_id": "d94b2eb786e94278be41012eb852500d",
       "version_major": 2,
       "version_minor": 0
      },
      "text/plain": [
       "Looping Each Links of Dates: 2020-12-31:   0%|          | 0/5 [00:00<?, ?it/s]"
      ]
     },
     "metadata": {},
     "output_type": "display_data"
    },
    {
     "data": {},
     "metadata": {},
     "output_type": "display_data"
    },
    {
     "data": {
      "application/vnd.jupyter.widget-view+json": {
       "model_id": "445dd38bac1143a285c1dcf0858fa887",
       "version_major": 2,
       "version_minor": 0
      },
      "text/plain": [
       "Looping Each Links of Dates: 2020-12-30:   0%|          | 0/4 [00:00<?, ?it/s]"
      ]
     },
     "metadata": {},
     "output_type": "display_data"
    },
    {
     "data": {},
     "metadata": {},
     "output_type": "display_data"
    },
    {
     "data": {
      "application/vnd.jupyter.widget-view+json": {
       "model_id": "47ce1603d6fd447c861c7f57b28cdb2c",
       "version_major": 2,
       "version_minor": 0
      },
      "text/plain": [
       "Looping Each Links of Dates: 2020-12-29:   0%|          | 0/5 [00:00<?, ?it/s]"
      ]
     },
     "metadata": {},
     "output_type": "display_data"
    },
    {
     "data": {},
     "metadata": {},
     "output_type": "display_data"
    },
    {
     "data": {
      "application/vnd.jupyter.widget-view+json": {
       "model_id": "83551fb6cb0b4252b76a7f8b9a915e1b",
       "version_major": 2,
       "version_minor": 0
      },
      "text/plain": [
       "Looping Each Links of Dates: 2020-12-28:   0%|          | 0/4 [00:00<?, ?it/s]"
      ]
     },
     "metadata": {},
     "output_type": "display_data"
    },
    {
     "data": {},
     "metadata": {},
     "output_type": "display_data"
    },
    {
     "data": {
      "application/vnd.jupyter.widget-view+json": {
       "model_id": "3c5af155eda547a2babe73bdeafafee2",
       "version_major": 2,
       "version_minor": 0
      },
      "text/plain": [
       "Looping Each Links of Dates: 2020-12-27:   0%|          | 0/6 [00:00<?, ?it/s]"
      ]
     },
     "metadata": {},
     "output_type": "display_data"
    },
    {
     "data": {},
     "metadata": {},
     "output_type": "display_data"
    },
    {
     "data": {
      "application/vnd.jupyter.widget-view+json": {
       "model_id": "6c911492cf44493aac8b69c93df69555",
       "version_major": 2,
       "version_minor": 0
      },
      "text/plain": [
       "Looping Each Links of Dates: 2020-12-26:   0%|          | 0/7 [00:00<?, ?it/s]"
      ]
     },
     "metadata": {},
     "output_type": "display_data"
    },
    {
     "data": {},
     "metadata": {},
     "output_type": "display_data"
    },
    {
     "data": {
      "application/vnd.jupyter.widget-view+json": {
       "model_id": "edb5d0bc52fc4382a81d81fa858d0b0d",
       "version_major": 2,
       "version_minor": 0
      },
      "text/plain": [
       "Looping Each Links of Dates: 2020-12-25:   0%|          | 0/7 [00:00<?, ?it/s]"
      ]
     },
     "metadata": {},
     "output_type": "display_data"
    },
    {
     "data": {},
     "metadata": {},
     "output_type": "display_data"
    },
    {
     "data": {
      "application/vnd.jupyter.widget-view+json": {
       "model_id": "ebca69fce68e4de6b352eb8fc697a698",
       "version_major": 2,
       "version_minor": 0
      },
      "text/plain": [
       "Looping Each Links of Dates: 2020-12-24:   0%|          | 0/3 [00:00<?, ?it/s]"
      ]
     },
     "metadata": {},
     "output_type": "display_data"
    },
    {
     "data": {},
     "metadata": {},
     "output_type": "display_data"
    },
    {
     "data": {
      "application/vnd.jupyter.widget-view+json": {
       "model_id": "86b240f1dc9243cb9161e0881e3991ed",
       "version_major": 2,
       "version_minor": 0
      },
      "text/plain": [
       "Looping Each Links of Dates: 2020-12-23:   0%|          | 0/5 [00:00<?, ?it/s]"
      ]
     },
     "metadata": {},
     "output_type": "display_data"
    },
    {
     "data": {},
     "metadata": {},
     "output_type": "display_data"
    },
    {
     "data": {
      "application/vnd.jupyter.widget-view+json": {
       "model_id": "bf68980b285e4a93aac14db6120a5dce",
       "version_major": 2,
       "version_minor": 0
      },
      "text/plain": [
       "Looping Each Links of Dates: 2020-12-22:   0%|          | 0/4 [00:00<?, ?it/s]"
      ]
     },
     "metadata": {},
     "output_type": "display_data"
    },
    {
     "data": {},
     "metadata": {},
     "output_type": "display_data"
    },
    {
     "data": {
      "application/vnd.jupyter.widget-view+json": {
       "model_id": "d16de99af4e74c29a35d77dfb1248546",
       "version_major": 2,
       "version_minor": 0
      },
      "text/plain": [
       "Looping Each Links of Dates: 2020-12-21:   0%|          | 0/7 [00:00<?, ?it/s]"
      ]
     },
     "metadata": {},
     "output_type": "display_data"
    },
    {
     "data": {},
     "metadata": {},
     "output_type": "display_data"
    },
    {
     "data": {
      "application/vnd.jupyter.widget-view+json": {
       "model_id": "6b7137cf5c984d50a0f7308046cebb40",
       "version_major": 2,
       "version_minor": 0
      },
      "text/plain": [
       "Looping Each Links of Dates: 2020-12-20:   0%|          | 0/8 [00:00<?, ?it/s]"
      ]
     },
     "metadata": {},
     "output_type": "display_data"
    },
    {
     "data": {},
     "metadata": {},
     "output_type": "display_data"
    },
    {
     "data": {
      "application/vnd.jupyter.widget-view+json": {
       "model_id": "87259cf16446430da4577e69c18651ea",
       "version_major": 2,
       "version_minor": 0
      },
      "text/plain": [
       "Looping Each Links of Dates: 2020-12-19:   0%|          | 0/6 [00:00<?, ?it/s]"
      ]
     },
     "metadata": {},
     "output_type": "display_data"
    },
    {
     "data": {},
     "metadata": {},
     "output_type": "display_data"
    },
    {
     "data": {
      "application/vnd.jupyter.widget-view+json": {
       "model_id": "2396b8c4ea14421082e44c357fe0d158",
       "version_major": 2,
       "version_minor": 0
      },
      "text/plain": [
       "Looping Each Links of Dates: 2020-12-18:   0%|          | 0/7 [00:00<?, ?it/s]"
      ]
     },
     "metadata": {},
     "output_type": "display_data"
    },
    {
     "data": {},
     "metadata": {},
     "output_type": "display_data"
    },
    {
     "data": {
      "application/vnd.jupyter.widget-view+json": {
       "model_id": "3a73d22794e84c94a38a230a463173e3",
       "version_major": 2,
       "version_minor": 0
      },
      "text/plain": [
       "Looping Each Links of Dates: 2020-12-17:   0%|          | 0/9 [00:00<?, ?it/s]"
      ]
     },
     "metadata": {},
     "output_type": "display_data"
    },
    {
     "data": {},
     "metadata": {},
     "output_type": "display_data"
    },
    {
     "data": {
      "application/vnd.jupyter.widget-view+json": {
       "model_id": "470ee396b6aa403884849f4bdb12d7d5",
       "version_major": 2,
       "version_minor": 0
      },
      "text/plain": [
       "Looping Each Links of Dates: 2020-12-16:   0%|          | 0/8 [00:00<?, ?it/s]"
      ]
     },
     "metadata": {},
     "output_type": "display_data"
    },
    {
     "data": {},
     "metadata": {},
     "output_type": "display_data"
    },
    {
     "data": {
      "application/vnd.jupyter.widget-view+json": {
       "model_id": "ea177f84b39940109104a9caeacd23c8",
       "version_major": 2,
       "version_minor": 0
      },
      "text/plain": [
       "Looping Each Links of Dates: 2020-12-15:   0%|          | 0/5 [00:00<?, ?it/s]"
      ]
     },
     "metadata": {},
     "output_type": "display_data"
    },
    {
     "data": {},
     "metadata": {},
     "output_type": "display_data"
    },
    {
     "data": {
      "application/vnd.jupyter.widget-view+json": {
       "model_id": "ba7cb41364af4e3d971773c78cd876ca",
       "version_major": 2,
       "version_minor": 0
      },
      "text/plain": [
       "Looping Each Links of Dates: 2020-12-14:   0%|          | 0/10 [00:00<?, ?it/s]"
      ]
     },
     "metadata": {},
     "output_type": "display_data"
    },
    {
     "data": {},
     "metadata": {},
     "output_type": "display_data"
    },
    {
     "data": {
      "application/vnd.jupyter.widget-view+json": {
       "model_id": "355512c51b33437184b40602f373a91a",
       "version_major": 2,
       "version_minor": 0
      },
      "text/plain": [
       "Looping Each Links of Dates: 2020-12-13:   0%|          | 0/10 [00:00<?, ?it/s]"
      ]
     },
     "metadata": {},
     "output_type": "display_data"
    },
    {
     "data": {},
     "metadata": {},
     "output_type": "display_data"
    },
    {
     "data": {
      "application/vnd.jupyter.widget-view+json": {
       "model_id": "b7ec76d2a82d4853b0a2ec7ea1a7bc29",
       "version_major": 2,
       "version_minor": 0
      },
      "text/plain": [
       "Looping Each Links of Dates: 2020-12-12:   0%|          | 0/6 [00:00<?, ?it/s]"
      ]
     },
     "metadata": {},
     "output_type": "display_data"
    },
    {
     "data": {},
     "metadata": {},
     "output_type": "display_data"
    },
    {
     "data": {
      "application/vnd.jupyter.widget-view+json": {
       "model_id": "5d02e163746a4e32a84f47065df92bfe",
       "version_major": 2,
       "version_minor": 0
      },
      "text/plain": [
       "Looping Each Links of Dates: 2020-12-11:   0%|          | 0/5 [00:00<?, ?it/s]"
      ]
     },
     "metadata": {},
     "output_type": "display_data"
    },
    {
     "data": {},
     "metadata": {},
     "output_type": "display_data"
    },
    {
     "data": {
      "application/vnd.jupyter.widget-view+json": {
       "model_id": "0ae4eb15b4bb4d709befb6d5fa4e074c",
       "version_major": 2,
       "version_minor": 0
      },
      "text/plain": [
       "Looping Each Links of Dates: 2020-12-10:   0%|          | 0/11 [00:00<?, ?it/s]"
      ]
     },
     "metadata": {},
     "output_type": "display_data"
    },
    {
     "data": {},
     "metadata": {},
     "output_type": "display_data"
    },
    {
     "data": {
      "application/vnd.jupyter.widget-view+json": {
       "model_id": "fb1e1292ca3a4608bf5dd99bbfb7b6f9",
       "version_major": 2,
       "version_minor": 0
      },
      "text/plain": [
       "Looping Each Links of Dates: 2020-12-09:   0%|          | 0/12 [00:00<?, ?it/s]"
      ]
     },
     "metadata": {},
     "output_type": "display_data"
    },
    {
     "data": {},
     "metadata": {},
     "output_type": "display_data"
    },
    {
     "data": {
      "application/vnd.jupyter.widget-view+json": {
       "model_id": "6c89de8fa5cd47d8b185437434d53e67",
       "version_major": 2,
       "version_minor": 0
      },
      "text/plain": [
       "Looping Each Links of Dates: 2020-12-08:   0%|          | 0/10 [00:00<?, ?it/s]"
      ]
     },
     "metadata": {},
     "output_type": "display_data"
    },
    {
     "data": {},
     "metadata": {},
     "output_type": "display_data"
    },
    {
     "data": {
      "application/vnd.jupyter.widget-view+json": {
       "model_id": "b8c4ede8ac0d49729d0b9260c0c00008",
       "version_major": 2,
       "version_minor": 0
      },
      "text/plain": [
       "Looping Each Links of Dates: 2020-12-07:   0%|          | 0/5 [00:00<?, ?it/s]"
      ]
     },
     "metadata": {},
     "output_type": "display_data"
    },
    {
     "data": {},
     "metadata": {},
     "output_type": "display_data"
    },
    {
     "data": {
      "application/vnd.jupyter.widget-view+json": {
       "model_id": "3f47ea04c920420d8bdf8b1962ecd005",
       "version_major": 2,
       "version_minor": 0
      },
      "text/plain": [
       "Looping Each Links of Dates: 2020-12-06:   0%|          | 0/6 [00:00<?, ?it/s]"
      ]
     },
     "metadata": {},
     "output_type": "display_data"
    },
    {
     "data": {},
     "metadata": {},
     "output_type": "display_data"
    },
    {
     "data": {
      "application/vnd.jupyter.widget-view+json": {
       "model_id": "788642616ebc4afda35327a50b914b6d",
       "version_major": 2,
       "version_minor": 0
      },
      "text/plain": [
       "Looping Each Links of Dates: 2020-12-05:   0%|          | 0/8 [00:00<?, ?it/s]"
      ]
     },
     "metadata": {},
     "output_type": "display_data"
    },
    {
     "data": {},
     "metadata": {},
     "output_type": "display_data"
    },
    {
     "data": {
      "application/vnd.jupyter.widget-view+json": {
       "model_id": "45f2d520562f4c29a86375fd53ec522f",
       "version_major": 2,
       "version_minor": 0
      },
      "text/plain": [
       "Looping Each Links of Dates: 2020-12-04:   0%|          | 0/13 [00:00<?, ?it/s]"
      ]
     },
     "metadata": {},
     "output_type": "display_data"
    },
    {
     "data": {},
     "metadata": {},
     "output_type": "display_data"
    },
    {
     "data": {
      "application/vnd.jupyter.widget-view+json": {
       "model_id": "40b88fc33bb94eaeb25a6d2d9e2fbde3",
       "version_major": 2,
       "version_minor": 0
      },
      "text/plain": [
       "Looping Each Links of Dates: 2020-12-03:   0%|          | 0/6 [00:00<?, ?it/s]"
      ]
     },
     "metadata": {},
     "output_type": "display_data"
    },
    {
     "data": {},
     "metadata": {},
     "output_type": "display_data"
    },
    {
     "data": {
      "application/vnd.jupyter.widget-view+json": {
       "model_id": "a29eff835aa54a728f3460bc756500e0",
       "version_major": 2,
       "version_minor": 0
      },
      "text/plain": [
       "Looping Each Links of Dates: 2020-12-02:   0%|          | 0/11 [00:00<?, ?it/s]"
      ]
     },
     "metadata": {},
     "output_type": "display_data"
    },
    {
     "data": {},
     "metadata": {},
     "output_type": "display_data"
    },
    {
     "data": {
      "application/vnd.jupyter.widget-view+json": {
       "model_id": "0a245388141146ac85393fc3c00d65da",
       "version_major": 2,
       "version_minor": 0
      },
      "text/plain": [
       "Looping Each Links of Dates: 2020-12-01:   0%|          | 0/10 [00:00<?, ?it/s]"
      ]
     },
     "metadata": {},
     "output_type": "display_data"
    },
    {
     "data": {},
     "metadata": {},
     "output_type": "display_data"
    },
    {
     "data": {
      "application/vnd.jupyter.widget-view+json": {
       "model_id": "f6008aefdd684aba803a5b073726148e",
       "version_major": 2,
       "version_minor": 0
      },
      "text/plain": [
       "Looping Each Links of Dates: 2020-11-30:   0%|          | 0/11 [00:00<?, ?it/s]"
      ]
     },
     "metadata": {},
     "output_type": "display_data"
    },
    {
     "data": {},
     "metadata": {},
     "output_type": "display_data"
    },
    {
     "data": {
      "application/vnd.jupyter.widget-view+json": {
       "model_id": "642ca180a8fc40cd846d595abffed967",
       "version_major": 2,
       "version_minor": 0
      },
      "text/plain": [
       "Looping Each Links of Dates: 2020-11-29:   0%|          | 0/8 [00:00<?, ?it/s]"
      ]
     },
     "metadata": {},
     "output_type": "display_data"
    },
    {
     "data": {},
     "metadata": {},
     "output_type": "display_data"
    },
    {
     "data": {
      "application/vnd.jupyter.widget-view+json": {
       "model_id": "450cf7850afd4a0c9cd5615fee6052c8",
       "version_major": 2,
       "version_minor": 0
      },
      "text/plain": [
       "Looping Each Links of Dates: 2020-11-28:   0%|          | 0/8 [00:00<?, ?it/s]"
      ]
     },
     "metadata": {},
     "output_type": "display_data"
    },
    {
     "data": {},
     "metadata": {},
     "output_type": "display_data"
    },
    {
     "data": {
      "application/vnd.jupyter.widget-view+json": {
       "model_id": "051ec4cc6a2744258e64cd1a5a23232b",
       "version_major": 2,
       "version_minor": 0
      },
      "text/plain": [
       "Looping Each Links of Dates: 2020-11-27:   0%|          | 0/12 [00:00<?, ?it/s]"
      ]
     },
     "metadata": {},
     "output_type": "display_data"
    },
    {
     "data": {},
     "metadata": {},
     "output_type": "display_data"
    },
    {
     "data": {
      "application/vnd.jupyter.widget-view+json": {
       "model_id": "4ad96a8e5dab4003873f1de49807fb7d",
       "version_major": 2,
       "version_minor": 0
      },
      "text/plain": [
       "Looping Each Links of Dates: 2020-11-26:   0%|          | 0/10 [00:00<?, ?it/s]"
      ]
     },
     "metadata": {},
     "output_type": "display_data"
    },
    {
     "data": {},
     "metadata": {},
     "output_type": "display_data"
    },
    {
     "data": {
      "application/vnd.jupyter.widget-view+json": {
       "model_id": "3c67b2a8ee5b4ab3b1fe5693d108242b",
       "version_major": 2,
       "version_minor": 0
      },
      "text/plain": [
       "Looping Each Links of Dates: 2020-11-25:   0%|          | 0/6 [00:00<?, ?it/s]"
      ]
     },
     "metadata": {},
     "output_type": "display_data"
    },
    {
     "data": {},
     "metadata": {},
     "output_type": "display_data"
    },
    {
     "data": {
      "application/vnd.jupyter.widget-view+json": {
       "model_id": "9bb55c6df2b041fb9aa8c749fab16094",
       "version_major": 2,
       "version_minor": 0
      },
      "text/plain": [
       "Looping Each Links of Dates: 2020-11-24:   0%|          | 0/10 [00:00<?, ?it/s]"
      ]
     },
     "metadata": {},
     "output_type": "display_data"
    },
    {
     "data": {},
     "metadata": {},
     "output_type": "display_data"
    },
    {
     "data": {
      "application/vnd.jupyter.widget-view+json": {
       "model_id": "079555e13a5b428cbcc307ea2dd4e2bc",
       "version_major": 2,
       "version_minor": 0
      },
      "text/plain": [
       "Looping Each Links of Dates: 2020-11-23:   0%|          | 0/10 [00:00<?, ?it/s]"
      ]
     },
     "metadata": {},
     "output_type": "display_data"
    },
    {
     "data": {},
     "metadata": {},
     "output_type": "display_data"
    },
    {
     "data": {
      "application/vnd.jupyter.widget-view+json": {
       "model_id": "e41e3979557e4814a9f8680e8e5cb0c9",
       "version_major": 2,
       "version_minor": 0
      },
      "text/plain": [
       "Looping Each Links of Dates: 2020-11-22:   0%|          | 0/9 [00:00<?, ?it/s]"
      ]
     },
     "metadata": {},
     "output_type": "display_data"
    },
    {
     "data": {},
     "metadata": {},
     "output_type": "display_data"
    },
    {
     "data": {
      "application/vnd.jupyter.widget-view+json": {
       "model_id": "b6859b181818416a9b53ea412a27c59f",
       "version_major": 2,
       "version_minor": 0
      },
      "text/plain": [
       "Looping Each Links of Dates: 2020-11-21:   0%|          | 0/7 [00:00<?, ?it/s]"
      ]
     },
     "metadata": {},
     "output_type": "display_data"
    },
    {
     "data": {},
     "metadata": {},
     "output_type": "display_data"
    },
    {
     "data": {
      "application/vnd.jupyter.widget-view+json": {
       "model_id": "7e41ad0e91d2469085a526fb102833e2",
       "version_major": 2,
       "version_minor": 0
      },
      "text/plain": [
       "Looping Each Links of Dates: 2020-11-20:   0%|          | 0/7 [00:00<?, ?it/s]"
      ]
     },
     "metadata": {},
     "output_type": "display_data"
    },
    {
     "data": {},
     "metadata": {},
     "output_type": "display_data"
    },
    {
     "data": {
      "application/vnd.jupyter.widget-view+json": {
       "model_id": "d1b222122c214e24a9fad641d82a17d9",
       "version_major": 2,
       "version_minor": 0
      },
      "text/plain": [
       "Looping Each Links of Dates: 2020-11-19:   0%|          | 0/12 [00:00<?, ?it/s]"
      ]
     },
     "metadata": {},
     "output_type": "display_data"
    },
    {
     "data": {},
     "metadata": {},
     "output_type": "display_data"
    },
    {
     "data": {
      "application/vnd.jupyter.widget-view+json": {
       "model_id": "59b04a6e0db54ff99e5f346b52bf4b75",
       "version_major": 2,
       "version_minor": 0
      },
      "text/plain": [
       "Looping Each Links of Dates: 2020-11-18:   0%|          | 0/10 [00:00<?, ?it/s]"
      ]
     },
     "metadata": {},
     "output_type": "display_data"
    },
    {
     "data": {},
     "metadata": {},
     "output_type": "display_data"
    },
    {
     "data": {
      "application/vnd.jupyter.widget-view+json": {
       "model_id": "ed462e44a3d6444a8742bb31a10bbede",
       "version_major": 2,
       "version_minor": 0
      },
      "text/plain": [
       "Looping Each Links of Dates: 2020-11-17:   0%|          | 0/11 [00:00<?, ?it/s]"
      ]
     },
     "metadata": {},
     "output_type": "display_data"
    },
    {
     "data": {},
     "metadata": {},
     "output_type": "display_data"
    },
    {
     "data": {
      "application/vnd.jupyter.widget-view+json": {
       "model_id": "68e0c0d9778c4cbcb3942efaad8c784d",
       "version_major": 2,
       "version_minor": 0
      },
      "text/plain": [
       "Looping Each Links of Dates: 2020-11-16:   0%|          | 0/11 [00:00<?, ?it/s]"
      ]
     },
     "metadata": {},
     "output_type": "display_data"
    },
    {
     "data": {},
     "metadata": {},
     "output_type": "display_data"
    },
    {
     "data": {
      "application/vnd.jupyter.widget-view+json": {
       "model_id": "68514ec1631247a5a4eca19e3ad2a43a",
       "version_major": 2,
       "version_minor": 0
      },
      "text/plain": [
       "Looping Each Links of Dates: 2020-11-15:   0%|          | 0/11 [00:00<?, ?it/s]"
      ]
     },
     "metadata": {},
     "output_type": "display_data"
    },
    {
     "data": {},
     "metadata": {},
     "output_type": "display_data"
    },
    {
     "data": {
      "application/vnd.jupyter.widget-view+json": {
       "model_id": "12a762fb7b4248928a466545e2d77062",
       "version_major": 2,
       "version_minor": 0
      },
      "text/plain": [
       "Looping Each Links of Dates: 2020-11-14:   0%|          | 0/9 [00:00<?, ?it/s]"
      ]
     },
     "metadata": {},
     "output_type": "display_data"
    },
    {
     "data": {},
     "metadata": {},
     "output_type": "display_data"
    },
    {
     "data": {
      "application/vnd.jupyter.widget-view+json": {
       "model_id": "ac20e6f79caa4537af3fa507a8caa4e5",
       "version_major": 2,
       "version_minor": 0
      },
      "text/plain": [
       "Looping Each Links of Dates: 2020-11-13:   0%|          | 0/10 [00:00<?, ?it/s]"
      ]
     },
     "metadata": {},
     "output_type": "display_data"
    },
    {
     "data": {},
     "metadata": {},
     "output_type": "display_data"
    },
    {
     "data": {
      "application/vnd.jupyter.widget-view+json": {
       "model_id": "53ffd81b87674f70885bb8e636a93877",
       "version_major": 2,
       "version_minor": 0
      },
      "text/plain": [
       "Looping Each Links of Dates: 2020-11-12:   0%|          | 0/13 [00:00<?, ?it/s]"
      ]
     },
     "metadata": {},
     "output_type": "display_data"
    },
    {
     "data": {},
     "metadata": {},
     "output_type": "display_data"
    },
    {
     "data": {
      "application/vnd.jupyter.widget-view+json": {
       "model_id": "2bf19302368d44208927892d76086eb5",
       "version_major": 2,
       "version_minor": 0
      },
      "text/plain": [
       "Looping Each Links of Dates: 2020-11-11:   0%|          | 0/10 [00:00<?, ?it/s]"
      ]
     },
     "metadata": {},
     "output_type": "display_data"
    },
    {
     "data": {},
     "metadata": {},
     "output_type": "display_data"
    },
    {
     "data": {
      "application/vnd.jupyter.widget-view+json": {
       "model_id": "c7eb61e1aef7433c92f8d209889e81ca",
       "version_major": 2,
       "version_minor": 0
      },
      "text/plain": [
       "Looping Each Links of Dates: 2020-11-10:   0%|          | 0/15 [00:00<?, ?it/s]"
      ]
     },
     "metadata": {},
     "output_type": "display_data"
    },
    {
     "data": {},
     "metadata": {},
     "output_type": "display_data"
    },
    {
     "data": {
      "application/vnd.jupyter.widget-view+json": {
       "model_id": "4ef05f6c9c9e4942924c0fa09b7dfa51",
       "version_major": 2,
       "version_minor": 0
      },
      "text/plain": [
       "Looping Each Links of Dates: 2020-11-09:   0%|          | 0/9 [00:00<?, ?it/s]"
      ]
     },
     "metadata": {},
     "output_type": "display_data"
    },
    {
     "data": {},
     "metadata": {},
     "output_type": "display_data"
    },
    {
     "data": {
      "application/vnd.jupyter.widget-view+json": {
       "model_id": "69988173ba9a46188cd2038eb36f2be4",
       "version_major": 2,
       "version_minor": 0
      },
      "text/plain": [
       "Looping Each Links of Dates: 2020-11-08:   0%|          | 0/11 [00:00<?, ?it/s]"
      ]
     },
     "metadata": {},
     "output_type": "display_data"
    },
    {
     "data": {},
     "metadata": {},
     "output_type": "display_data"
    },
    {
     "data": {
      "application/vnd.jupyter.widget-view+json": {
       "model_id": "a80bdaeb523444fbb7134ddd55c05e0b",
       "version_major": 2,
       "version_minor": 0
      },
      "text/plain": [
       "Looping Each Links of Dates: 2020-11-07:   0%|          | 0/8 [00:00<?, ?it/s]"
      ]
     },
     "metadata": {},
     "output_type": "display_data"
    },
    {
     "data": {},
     "metadata": {},
     "output_type": "display_data"
    },
    {
     "data": {
      "application/vnd.jupyter.widget-view+json": {
       "model_id": "af5ff445d72c46c581090de687d60159",
       "version_major": 2,
       "version_minor": 0
      },
      "text/plain": [
       "Looping Each Links of Dates: 2020-11-06:   0%|          | 0/9 [00:00<?, ?it/s]"
      ]
     },
     "metadata": {},
     "output_type": "display_data"
    },
    {
     "data": {},
     "metadata": {},
     "output_type": "display_data"
    },
    {
     "data": {
      "application/vnd.jupyter.widget-view+json": {
       "model_id": "075f8447d8f842a8b4881bab5bb12973",
       "version_major": 2,
       "version_minor": 0
      },
      "text/plain": [
       "Looping Each Links of Dates: 2020-11-05:   0%|          | 0/11 [00:00<?, ?it/s]"
      ]
     },
     "metadata": {},
     "output_type": "display_data"
    },
    {
     "data": {},
     "metadata": {},
     "output_type": "display_data"
    },
    {
     "data": {
      "application/vnd.jupyter.widget-view+json": {
       "model_id": "6f9d7c03553c43458492cffb6119f414",
       "version_major": 2,
       "version_minor": 0
      },
      "text/plain": [
       "Looping Each Links of Dates: 2020-11-04:   0%|          | 0/11 [00:00<?, ?it/s]"
      ]
     },
     "metadata": {},
     "output_type": "display_data"
    },
    {
     "data": {},
     "metadata": {},
     "output_type": "display_data"
    },
    {
     "data": {
      "application/vnd.jupyter.widget-view+json": {
       "model_id": "b7f8ca8727b64fbbb45d3164bce267da",
       "version_major": 2,
       "version_minor": 0
      },
      "text/plain": [
       "Looping Each Links of Dates: 2020-11-03:   0%|          | 0/14 [00:00<?, ?it/s]"
      ]
     },
     "metadata": {},
     "output_type": "display_data"
    },
    {
     "data": {},
     "metadata": {},
     "output_type": "display_data"
    },
    {
     "data": {
      "application/vnd.jupyter.widget-view+json": {
       "model_id": "7d5d04a3d1a6454b9a0782d1eb49dac8",
       "version_major": 2,
       "version_minor": 0
      },
      "text/plain": [
       "Looping Each Links of Dates: 2020-11-02:   0%|          | 0/11 [00:00<?, ?it/s]"
      ]
     },
     "metadata": {},
     "output_type": "display_data"
    },
    {
     "data": {},
     "metadata": {},
     "output_type": "display_data"
    },
    {
     "data": {
      "application/vnd.jupyter.widget-view+json": {
       "model_id": "63d0aab539a1409c8c08cb7a50b31ae2",
       "version_major": 2,
       "version_minor": 0
      },
      "text/plain": [
       "Looping Each Links of Dates: 2020-11-01:   0%|          | 0/6 [00:00<?, ?it/s]"
      ]
     },
     "metadata": {},
     "output_type": "display_data"
    },
    {
     "data": {},
     "metadata": {},
     "output_type": "display_data"
    },
    {
     "data": {
      "application/vnd.jupyter.widget-view+json": {
       "model_id": "c1501968546f4d78ade1269e51c2de78",
       "version_major": 2,
       "version_minor": 0
      },
      "text/plain": [
       "Looping Each Links of Dates: 2020-10-31:   0%|          | 0/8 [00:00<?, ?it/s]"
      ]
     },
     "metadata": {},
     "output_type": "display_data"
    },
    {
     "data": {},
     "metadata": {},
     "output_type": "display_data"
    },
    {
     "data": {
      "application/vnd.jupyter.widget-view+json": {
       "model_id": "81a2b8be643f4aac9c010fa7d6594bc3",
       "version_major": 2,
       "version_minor": 0
      },
      "text/plain": [
       "Looping Each Links of Dates: 2020-10-30:   0%|          | 0/13 [00:00<?, ?it/s]"
      ]
     },
     "metadata": {},
     "output_type": "display_data"
    },
    {
     "data": {},
     "metadata": {},
     "output_type": "display_data"
    },
    {
     "data": {
      "application/vnd.jupyter.widget-view+json": {
       "model_id": "f0060d6d9f364efa827f7a782118fe12",
       "version_major": 2,
       "version_minor": 0
      },
      "text/plain": [
       "Looping Each Links of Dates: 2020-10-29:   0%|          | 0/12 [00:00<?, ?it/s]"
      ]
     },
     "metadata": {},
     "output_type": "display_data"
    },
    {
     "data": {},
     "metadata": {},
     "output_type": "display_data"
    },
    {
     "data": {
      "application/vnd.jupyter.widget-view+json": {
       "model_id": "e0a98eee3dff491a8c4b5256d5ac2655",
       "version_major": 2,
       "version_minor": 0
      },
      "text/plain": [
       "Looping Each Links of Dates: 2020-10-28:   0%|          | 0/12 [00:00<?, ?it/s]"
      ]
     },
     "metadata": {},
     "output_type": "display_data"
    },
    {
     "data": {},
     "metadata": {},
     "output_type": "display_data"
    },
    {
     "data": {
      "application/vnd.jupyter.widget-view+json": {
       "model_id": "2ecc9deb5ba24e5ebc3ec060ecf1ee97",
       "version_major": 2,
       "version_minor": 0
      },
      "text/plain": [
       "Looping Each Links of Dates: 2020-10-27:   0%|          | 0/12 [00:00<?, ?it/s]"
      ]
     },
     "metadata": {},
     "output_type": "display_data"
    },
    {
     "data": {},
     "metadata": {},
     "output_type": "display_data"
    },
    {
     "data": {
      "application/vnd.jupyter.widget-view+json": {
       "model_id": "92984f87f3a3451bb4d99a13456cfb96",
       "version_major": 2,
       "version_minor": 0
      },
      "text/plain": [
       "Looping Each Links of Dates: 2020-10-26:   0%|          | 0/10 [00:00<?, ?it/s]"
      ]
     },
     "metadata": {},
     "output_type": "display_data"
    },
    {
     "data": {},
     "metadata": {},
     "output_type": "display_data"
    },
    {
     "data": {
      "application/vnd.jupyter.widget-view+json": {
       "model_id": "870eae2ea3a245539bb671b63bebc120",
       "version_major": 2,
       "version_minor": 0
      },
      "text/plain": [
       "Looping Each Links of Dates: 2020-10-25:   0%|          | 0/9 [00:00<?, ?it/s]"
      ]
     },
     "metadata": {},
     "output_type": "display_data"
    },
    {
     "data": {},
     "metadata": {},
     "output_type": "display_data"
    },
    {
     "data": {
      "application/vnd.jupyter.widget-view+json": {
       "model_id": "3fd5e6e9e5684b6ab04e2ea9f38d0ee6",
       "version_major": 2,
       "version_minor": 0
      },
      "text/plain": [
       "Looping Each Links of Dates: 2020-10-24:   0%|          | 0/6 [00:00<?, ?it/s]"
      ]
     },
     "metadata": {},
     "output_type": "display_data"
    },
    {
     "data": {},
     "metadata": {},
     "output_type": "display_data"
    },
    {
     "data": {
      "application/vnd.jupyter.widget-view+json": {
       "model_id": "51ed83c6f0d641dbaafccae5f58ebb4b",
       "version_major": 2,
       "version_minor": 0
      },
      "text/plain": [
       "Looping Each Links of Dates: 2020-10-23:   0%|          | 0/11 [00:00<?, ?it/s]"
      ]
     },
     "metadata": {},
     "output_type": "display_data"
    },
    {
     "data": {},
     "metadata": {},
     "output_type": "display_data"
    },
    {
     "data": {
      "application/vnd.jupyter.widget-view+json": {
       "model_id": "467981b41b5b4965ad574f95505735b8",
       "version_major": 2,
       "version_minor": 0
      },
      "text/plain": [
       "Looping Each Links of Dates: 2020-10-22:   0%|          | 0/12 [00:00<?, ?it/s]"
      ]
     },
     "metadata": {},
     "output_type": "display_data"
    },
    {
     "data": {},
     "metadata": {},
     "output_type": "display_data"
    },
    {
     "data": {
      "application/vnd.jupyter.widget-view+json": {
       "model_id": "7c76a19e4852483a960e4959eb45fdf4",
       "version_major": 2,
       "version_minor": 0
      },
      "text/plain": [
       "Looping Each Links of Dates: 2020-10-21:   0%|          | 0/9 [00:00<?, ?it/s]"
      ]
     },
     "metadata": {},
     "output_type": "display_data"
    },
    {
     "data": {},
     "metadata": {},
     "output_type": "display_data"
    },
    {
     "data": {
      "application/vnd.jupyter.widget-view+json": {
       "model_id": "ad8b2394ab104f57a6761b25f47fed5c",
       "version_major": 2,
       "version_minor": 0
      },
      "text/plain": [
       "Looping Each Links of Dates: 2020-10-20:   0%|          | 0/11 [00:00<?, ?it/s]"
      ]
     },
     "metadata": {},
     "output_type": "display_data"
    },
    {
     "data": {},
     "metadata": {},
     "output_type": "display_data"
    },
    {
     "data": {
      "application/vnd.jupyter.widget-view+json": {
       "model_id": "c68c7c3c5cbe4eb4ab87a3e5490daf1e",
       "version_major": 2,
       "version_minor": 0
      },
      "text/plain": [
       "Looping Each Links of Dates: 2020-10-19:   0%|          | 0/9 [00:00<?, ?it/s]"
      ]
     },
     "metadata": {},
     "output_type": "display_data"
    },
    {
     "data": {},
     "metadata": {},
     "output_type": "display_data"
    },
    {
     "data": {
      "application/vnd.jupyter.widget-view+json": {
       "model_id": "05e691e22eab4d9e814e5b22f2d8c770",
       "version_major": 2,
       "version_minor": 0
      },
      "text/plain": [
       "Looping Each Links of Dates: 2020-10-18:   0%|          | 0/9 [00:00<?, ?it/s]"
      ]
     },
     "metadata": {},
     "output_type": "display_data"
    },
    {
     "data": {},
     "metadata": {},
     "output_type": "display_data"
    },
    {
     "data": {
      "application/vnd.jupyter.widget-view+json": {
       "model_id": "ac38dd09a5c445d6b75e39d1c48aef08",
       "version_major": 2,
       "version_minor": 0
      },
      "text/plain": [
       "Looping Each Links of Dates: 2020-10-17:   0%|          | 0/7 [00:00<?, ?it/s]"
      ]
     },
     "metadata": {},
     "output_type": "display_data"
    },
    {
     "data": {},
     "metadata": {},
     "output_type": "display_data"
    },
    {
     "data": {
      "application/vnd.jupyter.widget-view+json": {
       "model_id": "88e22f542c22400f82b218332b79760d",
       "version_major": 2,
       "version_minor": 0
      },
      "text/plain": [
       "Looping Each Links of Dates: 2020-10-16:   0%|          | 0/10 [00:00<?, ?it/s]"
      ]
     },
     "metadata": {},
     "output_type": "display_data"
    },
    {
     "data": {},
     "metadata": {},
     "output_type": "display_data"
    },
    {
     "data": {
      "application/vnd.jupyter.widget-view+json": {
       "model_id": "3b08444716be4c35b52c29283b9d5c10",
       "version_major": 2,
       "version_minor": 0
      },
      "text/plain": [
       "Looping Each Links of Dates: 2020-10-15:   0%|          | 0/9 [00:00<?, ?it/s]"
      ]
     },
     "metadata": {},
     "output_type": "display_data"
    },
    {
     "data": {},
     "metadata": {},
     "output_type": "display_data"
    },
    {
     "data": {
      "application/vnd.jupyter.widget-view+json": {
       "model_id": "47e579618b2a45f4b5245a025f4d211c",
       "version_major": 2,
       "version_minor": 0
      },
      "text/plain": [
       "Looping Each Links of Dates: 2020-10-14:   0%|          | 0/11 [00:00<?, ?it/s]"
      ]
     },
     "metadata": {},
     "output_type": "display_data"
    },
    {
     "data": {},
     "metadata": {},
     "output_type": "display_data"
    },
    {
     "data": {
      "application/vnd.jupyter.widget-view+json": {
       "model_id": "38584b80fb574913a78e52c1cbcc871b",
       "version_major": 2,
       "version_minor": 0
      },
      "text/plain": [
       "Looping Each Links of Dates: 2020-10-13:   0%|          | 0/7 [00:00<?, ?it/s]"
      ]
     },
     "metadata": {},
     "output_type": "display_data"
    },
    {
     "data": {},
     "metadata": {},
     "output_type": "display_data"
    },
    {
     "data": {
      "application/vnd.jupyter.widget-view+json": {
       "model_id": "247b532f7ba24818b3d685725a7062de",
       "version_major": 2,
       "version_minor": 0
      },
      "text/plain": [
       "Looping Each Links of Dates: 2020-10-12:   0%|          | 0/9 [00:00<?, ?it/s]"
      ]
     },
     "metadata": {},
     "output_type": "display_data"
    },
    {
     "data": {},
     "metadata": {},
     "output_type": "display_data"
    },
    {
     "data": {
      "application/vnd.jupyter.widget-view+json": {
       "model_id": "e3d13226a71a4835bd82f3ac163faaf9",
       "version_major": 2,
       "version_minor": 0
      },
      "text/plain": [
       "Looping Each Links of Dates: 2020-10-11:   0%|          | 0/8 [00:00<?, ?it/s]"
      ]
     },
     "metadata": {},
     "output_type": "display_data"
    },
    {
     "data": {},
     "metadata": {},
     "output_type": "display_data"
    },
    {
     "data": {
      "application/vnd.jupyter.widget-view+json": {
       "model_id": "6b34240eb13a471dbae1296b7c5bc9b8",
       "version_major": 2,
       "version_minor": 0
      },
      "text/plain": [
       "Looping Each Links of Dates: 2020-10-10:   0%|          | 0/9 [00:00<?, ?it/s]"
      ]
     },
     "metadata": {},
     "output_type": "display_data"
    },
    {
     "data": {},
     "metadata": {},
     "output_type": "display_data"
    },
    {
     "data": {
      "application/vnd.jupyter.widget-view+json": {
       "model_id": "e67e01b07bf246bcb83712d5d8c72400",
       "version_major": 2,
       "version_minor": 0
      },
      "text/plain": [
       "Looping Each Links of Dates: 2020-10-09:   0%|          | 0/9 [00:00<?, ?it/s]"
      ]
     },
     "metadata": {},
     "output_type": "display_data"
    },
    {
     "data": {},
     "metadata": {},
     "output_type": "display_data"
    },
    {
     "data": {
      "application/vnd.jupyter.widget-view+json": {
       "model_id": "625fb838a023495caca48342a3df3878",
       "version_major": 2,
       "version_minor": 0
      },
      "text/plain": [
       "Looping Each Links of Dates: 2020-10-08:   0%|          | 0/11 [00:00<?, ?it/s]"
      ]
     },
     "metadata": {},
     "output_type": "display_data"
    },
    {
     "data": {},
     "metadata": {},
     "output_type": "display_data"
    },
    {
     "data": {
      "application/vnd.jupyter.widget-view+json": {
       "model_id": "0413a1c77bdc432fa89d586b7f69b447",
       "version_major": 2,
       "version_minor": 0
      },
      "text/plain": [
       "Looping Each Links of Dates: 2020-10-07:   0%|          | 0/5 [00:00<?, ?it/s]"
      ]
     },
     "metadata": {},
     "output_type": "display_data"
    },
    {
     "data": {},
     "metadata": {},
     "output_type": "display_data"
    },
    {
     "data": {
      "application/vnd.jupyter.widget-view+json": {
       "model_id": "f37ca2bcfc64445e80947e1f09be350d",
       "version_major": 2,
       "version_minor": 0
      },
      "text/plain": [
       "Looping Each Links of Dates: 2020-10-06:   0%|          | 0/4 [00:00<?, ?it/s]"
      ]
     },
     "metadata": {},
     "output_type": "display_data"
    },
    {
     "data": {},
     "metadata": {},
     "output_type": "display_data"
    },
    {
     "data": {
      "application/vnd.jupyter.widget-view+json": {
       "model_id": "539c12e7342e4686b1e547949ddcf7cb",
       "version_major": 2,
       "version_minor": 0
      },
      "text/plain": [
       "Looping Each Links of Dates: 2020-10-05:   0%|          | 0/5 [00:00<?, ?it/s]"
      ]
     },
     "metadata": {},
     "output_type": "display_data"
    },
    {
     "data": {},
     "metadata": {},
     "output_type": "display_data"
    },
    {
     "data": {
      "application/vnd.jupyter.widget-view+json": {
       "model_id": "2f736e025815471dbdeec7506d7f1da1",
       "version_major": 2,
       "version_minor": 0
      },
      "text/plain": [
       "Looping Each Links of Dates: 2020-10-04:   0%|          | 0/5 [00:00<?, ?it/s]"
      ]
     },
     "metadata": {},
     "output_type": "display_data"
    },
    {
     "data": {},
     "metadata": {},
     "output_type": "display_data"
    },
    {
     "data": {
      "application/vnd.jupyter.widget-view+json": {
       "model_id": "116bd37521064f41892a69995f2888cc",
       "version_major": 2,
       "version_minor": 0
      },
      "text/plain": [
       "Looping Each Links of Dates: 2020-10-03:   0%|          | 0/10 [00:00<?, ?it/s]"
      ]
     },
     "metadata": {},
     "output_type": "display_data"
    },
    {
     "data": {},
     "metadata": {},
     "output_type": "display_data"
    },
    {
     "data": {
      "application/vnd.jupyter.widget-view+json": {
       "model_id": "5f219346bd0a4a3ca9386dac82f1c43a",
       "version_major": 2,
       "version_minor": 0
      },
      "text/plain": [
       "Looping Each Links of Dates: 2020-10-02:   0%|          | 0/11 [00:00<?, ?it/s]"
      ]
     },
     "metadata": {},
     "output_type": "display_data"
    },
    {
     "data": {},
     "metadata": {},
     "output_type": "display_data"
    },
    {
     "data": {
      "application/vnd.jupyter.widget-view+json": {
       "model_id": "44728d018b164e059e27f0541c800c36",
       "version_major": 2,
       "version_minor": 0
      },
      "text/plain": [
       "Looping Each Links of Dates: 2020-10-01:   0%|          | 0/9 [00:00<?, ?it/s]"
      ]
     },
     "metadata": {},
     "output_type": "display_data"
    },
    {
     "data": {},
     "metadata": {},
     "output_type": "display_data"
    },
    {
     "data": {
      "application/vnd.jupyter.widget-view+json": {
       "model_id": "80bdb4f6086049e3bf7634a03aead511",
       "version_major": 2,
       "version_minor": 0
      },
      "text/plain": [
       "Looping Each Links of Dates: 2020-09-30:   0%|          | 0/6 [00:00<?, ?it/s]"
      ]
     },
     "metadata": {},
     "output_type": "display_data"
    },
    {
     "data": {},
     "metadata": {},
     "output_type": "display_data"
    },
    {
     "data": {
      "application/vnd.jupyter.widget-view+json": {
       "model_id": "87cb5ed598c74655a065eac20613ebb6",
       "version_major": 2,
       "version_minor": 0
      },
      "text/plain": [
       "Looping Each Links of Dates: 2020-09-29:   0%|          | 0/5 [00:00<?, ?it/s]"
      ]
     },
     "metadata": {},
     "output_type": "display_data"
    },
    {
     "data": {},
     "metadata": {},
     "output_type": "display_data"
    },
    {
     "data": {
      "application/vnd.jupyter.widget-view+json": {
       "model_id": "7d3d9dd4e94c4b1b9f0c5ce662d080ea",
       "version_major": 2,
       "version_minor": 0
      },
      "text/plain": [
       "Looping Each Links of Dates: 2020-09-28:   0%|          | 0/6 [00:00<?, ?it/s]"
      ]
     },
     "metadata": {},
     "output_type": "display_data"
    },
    {
     "data": {},
     "metadata": {},
     "output_type": "display_data"
    },
    {
     "data": {
      "application/vnd.jupyter.widget-view+json": {
       "model_id": "2b6fd15b585e4388995226d7b288a51f",
       "version_major": 2,
       "version_minor": 0
      },
      "text/plain": [
       "Looping Each Links of Dates: 2020-09-27:   0%|          | 0/4 [00:00<?, ?it/s]"
      ]
     },
     "metadata": {},
     "output_type": "display_data"
    },
    {
     "data": {},
     "metadata": {},
     "output_type": "display_data"
    },
    {
     "data": {
      "application/vnd.jupyter.widget-view+json": {
       "model_id": "5c9f398c7e6e4d07b18a356d78da4898",
       "version_major": 2,
       "version_minor": 0
      },
      "text/plain": [
       "Looping Each Links of Dates: 2020-09-26:   0%|          | 0/8 [00:00<?, ?it/s]"
      ]
     },
     "metadata": {},
     "output_type": "display_data"
    },
    {
     "data": {},
     "metadata": {},
     "output_type": "display_data"
    },
    {
     "data": {
      "application/vnd.jupyter.widget-view+json": {
       "model_id": "1860b3fa42164f3e9ceaf184f7583ce2",
       "version_major": 2,
       "version_minor": 0
      },
      "text/plain": [
       "Looping Each Links of Dates: 2020-09-25:   0%|          | 0/7 [00:00<?, ?it/s]"
      ]
     },
     "metadata": {},
     "output_type": "display_data"
    },
    {
     "data": {},
     "metadata": {},
     "output_type": "display_data"
    },
    {
     "data": {
      "application/vnd.jupyter.widget-view+json": {
       "model_id": "86dfe7d0cd414d649f0122aa8e33999e",
       "version_major": 2,
       "version_minor": 0
      },
      "text/plain": [
       "Looping Each Links of Dates: 2020-09-24:   0%|          | 0/5 [00:00<?, ?it/s]"
      ]
     },
     "metadata": {},
     "output_type": "display_data"
    },
    {
     "data": {},
     "metadata": {},
     "output_type": "display_data"
    },
    {
     "data": {
      "application/vnd.jupyter.widget-view+json": {
       "model_id": "af3fc69767504a6f907bd0c86842b06a",
       "version_major": 2,
       "version_minor": 0
      },
      "text/plain": [
       "Looping Each Links of Dates: 2020-09-23:   0%|          | 0/6 [00:00<?, ?it/s]"
      ]
     },
     "metadata": {},
     "output_type": "display_data"
    },
    {
     "data": {},
     "metadata": {},
     "output_type": "display_data"
    },
    {
     "data": {
      "application/vnd.jupyter.widget-view+json": {
       "model_id": "3cd1a1242f044152b3031e39dc909de0",
       "version_major": 2,
       "version_minor": 0
      },
      "text/plain": [
       "Looping Each Links of Dates: 2020-09-22:   0%|          | 0/6 [00:00<?, ?it/s]"
      ]
     },
     "metadata": {},
     "output_type": "display_data"
    },
    {
     "data": {},
     "metadata": {},
     "output_type": "display_data"
    },
    {
     "data": {
      "application/vnd.jupyter.widget-view+json": {
       "model_id": "a5aa2cd190074d12a914be1f9bcea09a",
       "version_major": 2,
       "version_minor": 0
      },
      "text/plain": [
       "Looping Each Links of Dates: 2020-09-21:   0%|          | 0/7 [00:00<?, ?it/s]"
      ]
     },
     "metadata": {},
     "output_type": "display_data"
    },
    {
     "data": {},
     "metadata": {},
     "output_type": "display_data"
    },
    {
     "data": {
      "application/vnd.jupyter.widget-view+json": {
       "model_id": "97cd0576f8be481fb62eb389df7b6722",
       "version_major": 2,
       "version_minor": 0
      },
      "text/plain": [
       "Looping Each Links of Dates: 2020-09-20:   0%|          | 0/8 [00:00<?, ?it/s]"
      ]
     },
     "metadata": {},
     "output_type": "display_data"
    },
    {
     "data": {},
     "metadata": {},
     "output_type": "display_data"
    },
    {
     "data": {
      "application/vnd.jupyter.widget-view+json": {
       "model_id": "dbf0286f3cbe4e58bcbfa00de86834e7",
       "version_major": 2,
       "version_minor": 0
      },
      "text/plain": [
       "Looping Each Links of Dates: 2020-09-19:   0%|          | 0/6 [00:00<?, ?it/s]"
      ]
     },
     "metadata": {},
     "output_type": "display_data"
    },
    {
     "data": {},
     "metadata": {},
     "output_type": "display_data"
    },
    {
     "data": {
      "application/vnd.jupyter.widget-view+json": {
       "model_id": "7759f7d8077148128e55e63763620283",
       "version_major": 2,
       "version_minor": 0
      },
      "text/plain": [
       "Looping Each Links of Dates: 2020-09-18:   0%|          | 0/7 [00:00<?, ?it/s]"
      ]
     },
     "metadata": {},
     "output_type": "display_data"
    },
    {
     "data": {},
     "metadata": {},
     "output_type": "display_data"
    },
    {
     "data": {
      "application/vnd.jupyter.widget-view+json": {
       "model_id": "171f657fb69a40a88dd1ee8a04a4ecc7",
       "version_major": 2,
       "version_minor": 0
      },
      "text/plain": [
       "Looping Each Links of Dates: 2020-09-17:   0%|          | 0/7 [00:00<?, ?it/s]"
      ]
     },
     "metadata": {},
     "output_type": "display_data"
    },
    {
     "data": {},
     "metadata": {},
     "output_type": "display_data"
    },
    {
     "data": {
      "application/vnd.jupyter.widget-view+json": {
       "model_id": "8164eee8fdb243a1874a176e24e2a556",
       "version_major": 2,
       "version_minor": 0
      },
      "text/plain": [
       "Looping Each Links of Dates: 2020-09-16:   0%|          | 0/5 [00:00<?, ?it/s]"
      ]
     },
     "metadata": {},
     "output_type": "display_data"
    },
    {
     "data": {},
     "metadata": {},
     "output_type": "display_data"
    },
    {
     "data": {
      "application/vnd.jupyter.widget-view+json": {
       "model_id": "d1457cc64e3b411bbdb7d37787cd81cf",
       "version_major": 2,
       "version_minor": 0
      },
      "text/plain": [
       "Looping Each Links of Dates: 2020-09-15:   0%|          | 0/6 [00:00<?, ?it/s]"
      ]
     },
     "metadata": {},
     "output_type": "display_data"
    },
    {
     "data": {},
     "metadata": {},
     "output_type": "display_data"
    },
    {
     "data": {
      "application/vnd.jupyter.widget-view+json": {
       "model_id": "8387dcfc9b524973babae093faf39b13",
       "version_major": 2,
       "version_minor": 0
      },
      "text/plain": [
       "Looping Each Links of Dates: 2020-09-14:   0%|          | 0/10 [00:00<?, ?it/s]"
      ]
     },
     "metadata": {},
     "output_type": "display_data"
    },
    {
     "data": {},
     "metadata": {},
     "output_type": "display_data"
    },
    {
     "data": {
      "application/vnd.jupyter.widget-view+json": {
       "model_id": "785fe22f31f847a581cf2efc58cd7c53",
       "version_major": 2,
       "version_minor": 0
      },
      "text/plain": [
       "Looping Each Links of Dates: 2020-09-13:   0%|          | 0/7 [00:00<?, ?it/s]"
      ]
     },
     "metadata": {},
     "output_type": "display_data"
    },
    {
     "data": {},
     "metadata": {},
     "output_type": "display_data"
    },
    {
     "data": {
      "application/vnd.jupyter.widget-view+json": {
       "model_id": "3bb39a3c6426425b9c8ac611e010aab1",
       "version_major": 2,
       "version_minor": 0
      },
      "text/plain": [
       "Looping Each Links of Dates: 2020-09-12:   0%|          | 0/9 [00:00<?, ?it/s]"
      ]
     },
     "metadata": {},
     "output_type": "display_data"
    },
    {
     "data": {},
     "metadata": {},
     "output_type": "display_data"
    },
    {
     "data": {
      "application/vnd.jupyter.widget-view+json": {
       "model_id": "7d161cba5abc4c7a81e4ae7709e79d55",
       "version_major": 2,
       "version_minor": 0
      },
      "text/plain": [
       "Looping Each Links of Dates: 2020-09-11:   0%|          | 0/9 [00:00<?, ?it/s]"
      ]
     },
     "metadata": {},
     "output_type": "display_data"
    },
    {
     "data": {},
     "metadata": {},
     "output_type": "display_data"
    },
    {
     "data": {
      "application/vnd.jupyter.widget-view+json": {
       "model_id": "c0567a0f0bb64131a8b6709039e1a218",
       "version_major": 2,
       "version_minor": 0
      },
      "text/plain": [
       "Looping Each Links of Dates: 2020-09-10:   0%|          | 0/9 [00:00<?, ?it/s]"
      ]
     },
     "metadata": {},
     "output_type": "display_data"
    },
    {
     "data": {},
     "metadata": {},
     "output_type": "display_data"
    },
    {
     "data": {
      "application/vnd.jupyter.widget-view+json": {
       "model_id": "acf0d43a2f854266ad9a2b645c0e7d90",
       "version_major": 2,
       "version_minor": 0
      },
      "text/plain": [
       "Looping Each Links of Dates: 2020-09-09:   0%|          | 0/9 [00:00<?, ?it/s]"
      ]
     },
     "metadata": {},
     "output_type": "display_data"
    },
    {
     "data": {},
     "metadata": {},
     "output_type": "display_data"
    },
    {
     "data": {
      "application/vnd.jupyter.widget-view+json": {
       "model_id": "500dc146dc4f4439b721062692b7d6d5",
       "version_major": 2,
       "version_minor": 0
      },
      "text/plain": [
       "Looping Each Links of Dates: 2020-09-08:   0%|          | 0/10 [00:00<?, ?it/s]"
      ]
     },
     "metadata": {},
     "output_type": "display_data"
    },
    {
     "data": {},
     "metadata": {},
     "output_type": "display_data"
    },
    {
     "data": {
      "application/vnd.jupyter.widget-view+json": {
       "model_id": "adb3acf364d943299762d89fff921e3c",
       "version_major": 2,
       "version_minor": 0
      },
      "text/plain": [
       "Looping Each Links of Dates: 2020-09-07:   0%|          | 0/12 [00:00<?, ?it/s]"
      ]
     },
     "metadata": {},
     "output_type": "display_data"
    },
    {
     "data": {},
     "metadata": {},
     "output_type": "display_data"
    },
    {
     "data": {
      "application/vnd.jupyter.widget-view+json": {
       "model_id": "cd7b157c312546e18635646427442209",
       "version_major": 2,
       "version_minor": 0
      },
      "text/plain": [
       "Looping Each Links of Dates: 2020-09-06:   0%|          | 0/9 [00:00<?, ?it/s]"
      ]
     },
     "metadata": {},
     "output_type": "display_data"
    },
    {
     "data": {},
     "metadata": {},
     "output_type": "display_data"
    },
    {
     "data": {
      "application/vnd.jupyter.widget-view+json": {
       "model_id": "b314028fa5884752ba725fdb09cb8796",
       "version_major": 2,
       "version_minor": 0
      },
      "text/plain": [
       "Looping Each Links of Dates: 2020-09-05:   0%|          | 0/8 [00:00<?, ?it/s]"
      ]
     },
     "metadata": {},
     "output_type": "display_data"
    },
    {
     "data": {},
     "metadata": {},
     "output_type": "display_data"
    },
    {
     "data": {
      "application/vnd.jupyter.widget-view+json": {
       "model_id": "31b38ac122a7481a8fae61824130bc4a",
       "version_major": 2,
       "version_minor": 0
      },
      "text/plain": [
       "Looping Each Links of Dates: 2020-09-04:   0%|          | 0/7 [00:00<?, ?it/s]"
      ]
     },
     "metadata": {},
     "output_type": "display_data"
    },
    {
     "data": {},
     "metadata": {},
     "output_type": "display_data"
    },
    {
     "data": {
      "application/vnd.jupyter.widget-view+json": {
       "model_id": "cfbded454abc4a8095365d2612e9d95d",
       "version_major": 2,
       "version_minor": 0
      },
      "text/plain": [
       "Looping Each Links of Dates: 2020-09-03:   0%|          | 0/10 [00:00<?, ?it/s]"
      ]
     },
     "metadata": {},
     "output_type": "display_data"
    },
    {
     "data": {},
     "metadata": {},
     "output_type": "display_data"
    },
    {
     "data": {
      "application/vnd.jupyter.widget-view+json": {
       "model_id": "180ab4a46dda4bb5be945313ae2a3895",
       "version_major": 2,
       "version_minor": 0
      },
      "text/plain": [
       "Looping Each Links of Dates: 2020-09-02:   0%|          | 0/6 [00:00<?, ?it/s]"
      ]
     },
     "metadata": {},
     "output_type": "display_data"
    },
    {
     "data": {},
     "metadata": {},
     "output_type": "display_data"
    },
    {
     "data": {
      "application/vnd.jupyter.widget-view+json": {
       "model_id": "2c57d96f75194bebb2c237d47a52a3d1",
       "version_major": 2,
       "version_minor": 0
      },
      "text/plain": [
       "Looping Each Links of Dates: 2020-09-01:   0%|          | 0/9 [00:00<?, ?it/s]"
      ]
     },
     "metadata": {},
     "output_type": "display_data"
    },
    {
     "data": {},
     "metadata": {},
     "output_type": "display_data"
    },
    {
     "data": {
      "application/vnd.jupyter.widget-view+json": {
       "model_id": "812b8e6d5bed44938d2434e379c46007",
       "version_major": 2,
       "version_minor": 0
      },
      "text/plain": [
       "Looping Each Links of Dates: 2020-08-31:   0%|          | 0/7 [00:00<?, ?it/s]"
      ]
     },
     "metadata": {},
     "output_type": "display_data"
    },
    {
     "data": {},
     "metadata": {},
     "output_type": "display_data"
    },
    {
     "data": {
      "application/vnd.jupyter.widget-view+json": {
       "model_id": "dec1f66dacb6400c99e791dda8038045",
       "version_major": 2,
       "version_minor": 0
      },
      "text/plain": [
       "Looping Each Links of Dates: 2020-08-30:   0%|          | 0/8 [00:00<?, ?it/s]"
      ]
     },
     "metadata": {},
     "output_type": "display_data"
    },
    {
     "data": {},
     "metadata": {},
     "output_type": "display_data"
    },
    {
     "data": {
      "application/vnd.jupyter.widget-view+json": {
       "model_id": "c4535e84353b4439828d15839e6cee1b",
       "version_major": 2,
       "version_minor": 0
      },
      "text/plain": [
       "Looping Each Links of Dates: 2020-08-29:   0%|          | 0/11 [00:00<?, ?it/s]"
      ]
     },
     "metadata": {},
     "output_type": "display_data"
    },
    {
     "data": {},
     "metadata": {},
     "output_type": "display_data"
    },
    {
     "data": {
      "application/vnd.jupyter.widget-view+json": {
       "model_id": "c09deea589d6498caebaf50dd374605c",
       "version_major": 2,
       "version_minor": 0
      },
      "text/plain": [
       "Looping Each Links of Dates: 2020-08-28:   0%|          | 0/10 [00:00<?, ?it/s]"
      ]
     },
     "metadata": {},
     "output_type": "display_data"
    },
    {
     "data": {},
     "metadata": {},
     "output_type": "display_data"
    },
    {
     "data": {
      "application/vnd.jupyter.widget-view+json": {
       "model_id": "693af392663f4f098876a466da6ff476",
       "version_major": 2,
       "version_minor": 0
      },
      "text/plain": [
       "Looping Each Links of Dates: 2020-08-27:   0%|          | 0/6 [00:00<?, ?it/s]"
      ]
     },
     "metadata": {},
     "output_type": "display_data"
    },
    {
     "data": {},
     "metadata": {},
     "output_type": "display_data"
    },
    {
     "data": {
      "application/vnd.jupyter.widget-view+json": {
       "model_id": "130d63182a204f618f7f6d11f625a0a3",
       "version_major": 2,
       "version_minor": 0
      },
      "text/plain": [
       "Looping Each Links of Dates: 2020-08-26:   0%|          | 0/9 [00:00<?, ?it/s]"
      ]
     },
     "metadata": {},
     "output_type": "display_data"
    },
    {
     "data": {},
     "metadata": {},
     "output_type": "display_data"
    },
    {
     "data": {
      "application/vnd.jupyter.widget-view+json": {
       "model_id": "c2e1cc7d09f449319b4cd782232510d7",
       "version_major": 2,
       "version_minor": 0
      },
      "text/plain": [
       "Looping Each Links of Dates: 2020-08-25:   0%|          | 0/9 [00:00<?, ?it/s]"
      ]
     },
     "metadata": {},
     "output_type": "display_data"
    },
    {
     "data": {},
     "metadata": {},
     "output_type": "display_data"
    },
    {
     "data": {
      "application/vnd.jupyter.widget-view+json": {
       "model_id": "15d631fec84f4c0fa21ffd1130d63980",
       "version_major": 2,
       "version_minor": 0
      },
      "text/plain": [
       "Looping Each Links of Dates: 2020-08-24:   0%|          | 0/7 [00:00<?, ?it/s]"
      ]
     },
     "metadata": {},
     "output_type": "display_data"
    },
    {
     "data": {},
     "metadata": {},
     "output_type": "display_data"
    },
    {
     "data": {
      "application/vnd.jupyter.widget-view+json": {
       "model_id": "dc0ad54ec37740aa8d1b5e30dd9b549c",
       "version_major": 2,
       "version_minor": 0
      },
      "text/plain": [
       "Looping Each Links of Dates: 2020-08-23:   0%|          | 0/7 [00:00<?, ?it/s]"
      ]
     },
     "metadata": {},
     "output_type": "display_data"
    },
    {
     "data": {},
     "metadata": {},
     "output_type": "display_data"
    },
    {
     "data": {
      "application/vnd.jupyter.widget-view+json": {
       "model_id": "1e622715517145eda6e18e191e7135c4",
       "version_major": 2,
       "version_minor": 0
      },
      "text/plain": [
       "Looping Each Links of Dates: 2020-08-22:   0%|          | 0/4 [00:00<?, ?it/s]"
      ]
     },
     "metadata": {},
     "output_type": "display_data"
    },
    {
     "data": {},
     "metadata": {},
     "output_type": "display_data"
    },
    {
     "data": {
      "application/vnd.jupyter.widget-view+json": {
       "model_id": "13203388f625431cbf42651e7f498759",
       "version_major": 2,
       "version_minor": 0
      },
      "text/plain": [
       "Looping Each Links of Dates: 2020-08-21:   0%|          | 0/10 [00:00<?, ?it/s]"
      ]
     },
     "metadata": {},
     "output_type": "display_data"
    },
    {
     "data": {},
     "metadata": {},
     "output_type": "display_data"
    },
    {
     "data": {
      "application/vnd.jupyter.widget-view+json": {
       "model_id": "b6a4f68256bb4ab7a16fe24b2e5bd77c",
       "version_major": 2,
       "version_minor": 0
      },
      "text/plain": [
       "Looping Each Links of Dates: 2020-08-20:   0%|          | 0/8 [00:00<?, ?it/s]"
      ]
     },
     "metadata": {},
     "output_type": "display_data"
    },
    {
     "data": {},
     "metadata": {},
     "output_type": "display_data"
    },
    {
     "data": {
      "application/vnd.jupyter.widget-view+json": {
       "model_id": "8c9570a8d90d468089c764504c73bb14",
       "version_major": 2,
       "version_minor": 0
      },
      "text/plain": [
       "Looping Each Links of Dates: 2020-08-19:   0%|          | 0/8 [00:00<?, ?it/s]"
      ]
     },
     "metadata": {},
     "output_type": "display_data"
    },
    {
     "data": {},
     "metadata": {},
     "output_type": "display_data"
    },
    {
     "data": {
      "application/vnd.jupyter.widget-view+json": {
       "model_id": "1ad08ec06e6d4e29b58c15ee6b9cf508",
       "version_major": 2,
       "version_minor": 0
      },
      "text/plain": [
       "Looping Each Links of Dates: 2020-08-18:   0%|          | 0/9 [00:00<?, ?it/s]"
      ]
     },
     "metadata": {},
     "output_type": "display_data"
    },
    {
     "data": {},
     "metadata": {},
     "output_type": "display_data"
    },
    {
     "data": {
      "application/vnd.jupyter.widget-view+json": {
       "model_id": "d942a7f5c64040ea94d82689f1404f1e",
       "version_major": 2,
       "version_minor": 0
      },
      "text/plain": [
       "Looping Each Links of Dates: 2020-08-17:   0%|          | 0/10 [00:00<?, ?it/s]"
      ]
     },
     "metadata": {},
     "output_type": "display_data"
    },
    {
     "data": {},
     "metadata": {},
     "output_type": "display_data"
    },
    {
     "data": {
      "application/vnd.jupyter.widget-view+json": {
       "model_id": "3e42040a886e4a3a95ec4596e1a0091c",
       "version_major": 2,
       "version_minor": 0
      },
      "text/plain": [
       "Looping Each Links of Dates: 2020-08-16:   0%|          | 0/10 [00:00<?, ?it/s]"
      ]
     },
     "metadata": {},
     "output_type": "display_data"
    },
    {
     "data": {},
     "metadata": {},
     "output_type": "display_data"
    },
    {
     "data": {
      "application/vnd.jupyter.widget-view+json": {
       "model_id": "7a04113a2e9b427187bbed8b7a8bdb79",
       "version_major": 2,
       "version_minor": 0
      },
      "text/plain": [
       "Looping Each Links of Dates: 2020-08-15:   0%|          | 0/7 [00:00<?, ?it/s]"
      ]
     },
     "metadata": {},
     "output_type": "display_data"
    },
    {
     "data": {},
     "metadata": {},
     "output_type": "display_data"
    },
    {
     "data": {
      "application/vnd.jupyter.widget-view+json": {
       "model_id": "f141855189dd409a9c9a53a9ee488711",
       "version_major": 2,
       "version_minor": 0
      },
      "text/plain": [
       "Looping Each Links of Dates: 2020-08-14:   0%|          | 0/4 [00:00<?, ?it/s]"
      ]
     },
     "metadata": {},
     "output_type": "display_data"
    },
    {
     "data": {},
     "metadata": {},
     "output_type": "display_data"
    },
    {
     "data": {
      "application/vnd.jupyter.widget-view+json": {
       "model_id": "e6a2ba341c244dcf9457e1dac0fd100b",
       "version_major": 2,
       "version_minor": 0
      },
      "text/plain": [
       "Looping Each Links of Dates: 2020-08-13:   0%|          | 0/10 [00:00<?, ?it/s]"
      ]
     },
     "metadata": {},
     "output_type": "display_data"
    },
    {
     "data": {},
     "metadata": {},
     "output_type": "display_data"
    },
    {
     "data": {
      "application/vnd.jupyter.widget-view+json": {
       "model_id": "f29cbf5ae039421c8cb7dbbfffbd5067",
       "version_major": 2,
       "version_minor": 0
      },
      "text/plain": [
       "Looping Each Links of Dates: 2020-08-12:   0%|          | 0/9 [00:00<?, ?it/s]"
      ]
     },
     "metadata": {},
     "output_type": "display_data"
    },
    {
     "data": {},
     "metadata": {},
     "output_type": "display_data"
    },
    {
     "data": {
      "application/vnd.jupyter.widget-view+json": {
       "model_id": "869dd4657bcf411cb326a69d9c27ff74",
       "version_major": 2,
       "version_minor": 0
      },
      "text/plain": [
       "Looping Each Links of Dates: 2020-08-11:   0%|          | 0/6 [00:00<?, ?it/s]"
      ]
     },
     "metadata": {},
     "output_type": "display_data"
    },
    {
     "data": {},
     "metadata": {},
     "output_type": "display_data"
    },
    {
     "data": {
      "application/vnd.jupyter.widget-view+json": {
       "model_id": "ec1169210bdf45919ee95733797e6320",
       "version_major": 2,
       "version_minor": 0
      },
      "text/plain": [
       "Looping Each Links of Dates: 2020-08-10:   0%|          | 0/9 [00:00<?, ?it/s]"
      ]
     },
     "metadata": {},
     "output_type": "display_data"
    },
    {
     "data": {},
     "metadata": {},
     "output_type": "display_data"
    },
    {
     "data": {
      "application/vnd.jupyter.widget-view+json": {
       "model_id": "06b6878890494383b2d4fa689caf78ef",
       "version_major": 2,
       "version_minor": 0
      },
      "text/plain": [
       "Looping Each Links of Dates: 2020-08-09:   0%|          | 0/6 [00:00<?, ?it/s]"
      ]
     },
     "metadata": {},
     "output_type": "display_data"
    },
    {
     "data": {},
     "metadata": {},
     "output_type": "display_data"
    },
    {
     "data": {
      "application/vnd.jupyter.widget-view+json": {
       "model_id": "a208c4f877b64b18a3d8671d2968ae6f",
       "version_major": 2,
       "version_minor": 0
      },
      "text/plain": [
       "Looping Each Links of Dates: 2020-08-08:   0%|          | 0/6 [00:00<?, ?it/s]"
      ]
     },
     "metadata": {},
     "output_type": "display_data"
    },
    {
     "data": {},
     "metadata": {},
     "output_type": "display_data"
    },
    {
     "data": {
      "application/vnd.jupyter.widget-view+json": {
       "model_id": "a733cd886e73433b8ec7155134b1e9f8",
       "version_major": 2,
       "version_minor": 0
      },
      "text/plain": [
       "Looping Each Links of Dates: 2020-08-07:   0%|          | 0/3 [00:00<?, ?it/s]"
      ]
     },
     "metadata": {},
     "output_type": "display_data"
    },
    {
     "data": {},
     "metadata": {},
     "output_type": "display_data"
    },
    {
     "data": {
      "application/vnd.jupyter.widget-view+json": {
       "model_id": "89743301db6445a0a41ca7e9b12bafd9",
       "version_major": 2,
       "version_minor": 0
      },
      "text/plain": [
       "Looping Each Links of Dates: 2020-08-06:   0%|          | 0/9 [00:00<?, ?it/s]"
      ]
     },
     "metadata": {},
     "output_type": "display_data"
    },
    {
     "data": {},
     "metadata": {},
     "output_type": "display_data"
    },
    {
     "data": {
      "application/vnd.jupyter.widget-view+json": {
       "model_id": "3eda165a529342798f57d2eb7b250e27",
       "version_major": 2,
       "version_minor": 0
      },
      "text/plain": [
       "Looping Each Links of Dates: 2020-08-05:   0%|          | 0/9 [00:00<?, ?it/s]"
      ]
     },
     "metadata": {},
     "output_type": "display_data"
    },
    {
     "data": {},
     "metadata": {},
     "output_type": "display_data"
    },
    {
     "data": {
      "application/vnd.jupyter.widget-view+json": {
       "model_id": "a8866008238b48d1ad7f7556ccb4eb2f",
       "version_major": 2,
       "version_minor": 0
      },
      "text/plain": [
       "Looping Each Links of Dates: 2020-08-04:   0%|          | 0/8 [00:00<?, ?it/s]"
      ]
     },
     "metadata": {},
     "output_type": "display_data"
    },
    {
     "data": {},
     "metadata": {},
     "output_type": "display_data"
    },
    {
     "data": {
      "application/vnd.jupyter.widget-view+json": {
       "model_id": "a33dfba7d5b9441abbffb8ca32d24f4c",
       "version_major": 2,
       "version_minor": 0
      },
      "text/plain": [
       "Looping Each Links of Dates: 2020-08-03:   0%|          | 0/10 [00:00<?, ?it/s]"
      ]
     },
     "metadata": {},
     "output_type": "display_data"
    },
    {
     "data": {},
     "metadata": {},
     "output_type": "display_data"
    },
    {
     "data": {
      "application/vnd.jupyter.widget-view+json": {
       "model_id": "2ae1723c30364483b8a0b1d75a3378b0",
       "version_major": 2,
       "version_minor": 0
      },
      "text/plain": [
       "Looping Each Links of Dates: 2020-08-02:   0%|          | 0/10 [00:00<?, ?it/s]"
      ]
     },
     "metadata": {},
     "output_type": "display_data"
    },
    {
     "data": {},
     "metadata": {},
     "output_type": "display_data"
    },
    {
     "data": {
      "application/vnd.jupyter.widget-view+json": {
       "model_id": "8baa598e63d24da0afc60078058e8109",
       "version_major": 2,
       "version_minor": 0
      },
      "text/plain": [
       "Looping Each Links of Dates: 2020-08-01:   0%|          | 0/3 [00:00<?, ?it/s]"
      ]
     },
     "metadata": {},
     "output_type": "display_data"
    },
    {
     "data": {},
     "metadata": {},
     "output_type": "display_data"
    },
    {
     "data": {
      "application/vnd.jupyter.widget-view+json": {
       "model_id": "27c9ccc493d84829a09eb8c3e51a58d4",
       "version_major": 2,
       "version_minor": 0
      },
      "text/plain": [
       "Looping Each Links of Dates: 2020-07-31:   0%|          | 0/10 [00:00<?, ?it/s]"
      ]
     },
     "metadata": {},
     "output_type": "display_data"
    },
    {
     "data": {},
     "metadata": {},
     "output_type": "display_data"
    },
    {
     "data": {
      "application/vnd.jupyter.widget-view+json": {
       "model_id": "d43e24a57cf64ac6be451e5dc33dc2e7",
       "version_major": 2,
       "version_minor": 0
      },
      "text/plain": [
       "Looping Each Links of Dates: 2020-07-30:   0%|          | 0/2 [00:00<?, ?it/s]"
      ]
     },
     "metadata": {},
     "output_type": "display_data"
    },
    {
     "data": {},
     "metadata": {},
     "output_type": "display_data"
    },
    {
     "data": {
      "application/vnd.jupyter.widget-view+json": {
       "model_id": "06b06dc87e3e4c1086aa043ce490e0cc",
       "version_major": 2,
       "version_minor": 0
      },
      "text/plain": [
       "Looping Each Links of Dates: 2020-07-29:   0%|          | 0/8 [00:00<?, ?it/s]"
      ]
     },
     "metadata": {},
     "output_type": "display_data"
    },
    {
     "data": {},
     "metadata": {},
     "output_type": "display_data"
    },
    {
     "data": {
      "application/vnd.jupyter.widget-view+json": {
       "model_id": "78392d0380c94485a8b33a35e3233906",
       "version_major": 2,
       "version_minor": 0
      },
      "text/plain": [
       "Looping Each Links of Dates: 2020-07-28:   0%|          | 0/4 [00:00<?, ?it/s]"
      ]
     },
     "metadata": {},
     "output_type": "display_data"
    },
    {
     "data": {},
     "metadata": {},
     "output_type": "display_data"
    },
    {
     "data": {
      "application/vnd.jupyter.widget-view+json": {
       "model_id": "c710e68df2424ee89bf09b08aa6a103b",
       "version_major": 2,
       "version_minor": 0
      },
      "text/plain": [
       "Looping Each Links of Dates: 2020-07-27:   0%|          | 0/5 [00:00<?, ?it/s]"
      ]
     },
     "metadata": {},
     "output_type": "display_data"
    },
    {
     "data": {},
     "metadata": {},
     "output_type": "display_data"
    },
    {
     "data": {
      "application/vnd.jupyter.widget-view+json": {
       "model_id": "9b4c5b0ffcd74c7eb24b1c8be67ad47a",
       "version_major": 2,
       "version_minor": 0
      },
      "text/plain": [
       "Looping Each Links of Dates: 2020-07-26:   0%|          | 0/5 [00:00<?, ?it/s]"
      ]
     },
     "metadata": {},
     "output_type": "display_data"
    },
    {
     "data": {},
     "metadata": {},
     "output_type": "display_data"
    },
    {
     "data": {
      "application/vnd.jupyter.widget-view+json": {
       "model_id": "7a66e39a90ef421daced7d2c76330c28",
       "version_major": 2,
       "version_minor": 0
      },
      "text/plain": [
       "Looping Each Links of Dates: 2020-07-25:   0%|          | 0/10 [00:00<?, ?it/s]"
      ]
     },
     "metadata": {},
     "output_type": "display_data"
    },
    {
     "data": {},
     "metadata": {},
     "output_type": "display_data"
    },
    {
     "data": {
      "application/vnd.jupyter.widget-view+json": {
       "model_id": "ebd61d4604fc4726a805e9118b22e78c",
       "version_major": 2,
       "version_minor": 0
      },
      "text/plain": [
       "Looping Each Links of Dates: 2020-07-24:   0%|          | 0/9 [00:00<?, ?it/s]"
      ]
     },
     "metadata": {},
     "output_type": "display_data"
    },
    {
     "data": {},
     "metadata": {},
     "output_type": "display_data"
    },
    {
     "data": {
      "application/vnd.jupyter.widget-view+json": {
       "model_id": "58f9ac4137c64fbba2505b9e3bbb5a52",
       "version_major": 2,
       "version_minor": 0
      },
      "text/plain": [
       "Looping Each Links of Dates: 2020-07-23:   0%|          | 0/10 [00:00<?, ?it/s]"
      ]
     },
     "metadata": {},
     "output_type": "display_data"
    },
    {
     "data": {},
     "metadata": {},
     "output_type": "display_data"
    },
    {
     "data": {
      "application/vnd.jupyter.widget-view+json": {
       "model_id": "25fd5bbe850b4360945d2e5d8c57fcc5",
       "version_major": 2,
       "version_minor": 0
      },
      "text/plain": [
       "Looping Each Links of Dates: 2020-07-22:   0%|          | 0/7 [00:00<?, ?it/s]"
      ]
     },
     "metadata": {},
     "output_type": "display_data"
    },
    {
     "data": {},
     "metadata": {},
     "output_type": "display_data"
    },
    {
     "data": {
      "application/vnd.jupyter.widget-view+json": {
       "model_id": "24e25f46b39645d6bde8033d05275833",
       "version_major": 2,
       "version_minor": 0
      },
      "text/plain": [
       "Looping Each Links of Dates: 2020-07-21:   0%|          | 0/7 [00:00<?, ?it/s]"
      ]
     },
     "metadata": {},
     "output_type": "display_data"
    },
    {
     "data": {},
     "metadata": {},
     "output_type": "display_data"
    },
    {
     "data": {
      "application/vnd.jupyter.widget-view+json": {
       "model_id": "1782c140f6a14cdfa62e056a7f7ebf87",
       "version_major": 2,
       "version_minor": 0
      },
      "text/plain": [
       "Looping Each Links of Dates: 2020-07-20:   0%|          | 0/4 [00:00<?, ?it/s]"
      ]
     },
     "metadata": {},
     "output_type": "display_data"
    },
    {
     "data": {},
     "metadata": {},
     "output_type": "display_data"
    },
    {
     "data": {
      "application/vnd.jupyter.widget-view+json": {
       "model_id": "91b97fbc45d2487788feda5015d3e07a",
       "version_major": 2,
       "version_minor": 0
      },
      "text/plain": [
       "Looping Each Links of Dates: 2020-07-19:   0%|          | 0/10 [00:00<?, ?it/s]"
      ]
     },
     "metadata": {},
     "output_type": "display_data"
    },
    {
     "data": {},
     "metadata": {},
     "output_type": "display_data"
    },
    {
     "data": {
      "application/vnd.jupyter.widget-view+json": {
       "model_id": "22400fa85f6d4853a07e929eb21d8d94",
       "version_major": 2,
       "version_minor": 0
      },
      "text/plain": [
       "Looping Each Links of Dates: 2020-07-18:   0%|          | 0/5 [00:00<?, ?it/s]"
      ]
     },
     "metadata": {},
     "output_type": "display_data"
    },
    {
     "data": {},
     "metadata": {},
     "output_type": "display_data"
    },
    {
     "data": {
      "application/vnd.jupyter.widget-view+json": {
       "model_id": "c9ee5ebdb937485e8e4faf53ce8bd6b4",
       "version_major": 2,
       "version_minor": 0
      },
      "text/plain": [
       "Looping Each Links of Dates: 2020-07-17:   0%|          | 0/9 [00:00<?, ?it/s]"
      ]
     },
     "metadata": {},
     "output_type": "display_data"
    },
    {
     "data": {},
     "metadata": {},
     "output_type": "display_data"
    },
    {
     "data": {
      "application/vnd.jupyter.widget-view+json": {
       "model_id": "7cde75504ec14652ae54346b3872e458",
       "version_major": 2,
       "version_minor": 0
      },
      "text/plain": [
       "Looping Each Links of Dates: 2020-07-16:   0%|          | 0/11 [00:00<?, ?it/s]"
      ]
     },
     "metadata": {},
     "output_type": "display_data"
    },
    {
     "data": {},
     "metadata": {},
     "output_type": "display_data"
    },
    {
     "data": {
      "application/vnd.jupyter.widget-view+json": {
       "model_id": "55d24c63392b46118882c80cfd89850b",
       "version_major": 2,
       "version_minor": 0
      },
      "text/plain": [
       "Looping Each Links of Dates: 2020-07-15:   0%|          | 0/5 [00:00<?, ?it/s]"
      ]
     },
     "metadata": {},
     "output_type": "display_data"
    },
    {
     "data": {},
     "metadata": {},
     "output_type": "display_data"
    },
    {
     "data": {
      "application/vnd.jupyter.widget-view+json": {
       "model_id": "a3e08cbb799e4d77b91c2ff19c144757",
       "version_major": 2,
       "version_minor": 0
      },
      "text/plain": [
       "Looping Each Links of Dates: 2020-07-14:   0%|          | 0/10 [00:00<?, ?it/s]"
      ]
     },
     "metadata": {},
     "output_type": "display_data"
    },
    {
     "data": {},
     "metadata": {},
     "output_type": "display_data"
    },
    {
     "data": {
      "application/vnd.jupyter.widget-view+json": {
       "model_id": "f2729e299070403ba96376b849ec1686",
       "version_major": 2,
       "version_minor": 0
      },
      "text/plain": [
       "Looping Each Links of Dates: 2020-07-13:   0%|          | 0/12 [00:00<?, ?it/s]"
      ]
     },
     "metadata": {},
     "output_type": "display_data"
    },
    {
     "data": {},
     "metadata": {},
     "output_type": "display_data"
    },
    {
     "data": {
      "application/vnd.jupyter.widget-view+json": {
       "model_id": "dfbf55e4c32e474d8047538359b6d4b5",
       "version_major": 2,
       "version_minor": 0
      },
      "text/plain": [
       "Looping Each Links of Dates: 2020-07-12:   0%|          | 0/10 [00:00<?, ?it/s]"
      ]
     },
     "metadata": {},
     "output_type": "display_data"
    },
    {
     "data": {},
     "metadata": {},
     "output_type": "display_data"
    },
    {
     "data": {
      "application/vnd.jupyter.widget-view+json": {
       "model_id": "53e834c059784a3ca1dc9fe021283694",
       "version_major": 2,
       "version_minor": 0
      },
      "text/plain": [
       "Looping Each Links of Dates: 2020-07-11:   0%|          | 0/13 [00:00<?, ?it/s]"
      ]
     },
     "metadata": {},
     "output_type": "display_data"
    },
    {
     "data": {},
     "metadata": {},
     "output_type": "display_data"
    },
    {
     "data": {
      "application/vnd.jupyter.widget-view+json": {
       "model_id": "a194921648ca46b082e486d53dca9f7d",
       "version_major": 2,
       "version_minor": 0
      },
      "text/plain": [
       "Looping Each Links of Dates: 2020-07-10:   0%|          | 0/7 [00:00<?, ?it/s]"
      ]
     },
     "metadata": {},
     "output_type": "display_data"
    },
    {
     "data": {},
     "metadata": {},
     "output_type": "display_data"
    },
    {
     "data": {
      "application/vnd.jupyter.widget-view+json": {
       "model_id": "c4052568f54e44fd9b6525f77d96101b",
       "version_major": 2,
       "version_minor": 0
      },
      "text/plain": [
       "Looping Each Links of Dates: 2020-07-09:   0%|          | 0/11 [00:00<?, ?it/s]"
      ]
     },
     "metadata": {},
     "output_type": "display_data"
    },
    {
     "data": {},
     "metadata": {},
     "output_type": "display_data"
    },
    {
     "data": {
      "application/vnd.jupyter.widget-view+json": {
       "model_id": "76ddfa7c176d411eb0bd721c64b20ef6",
       "version_major": 2,
       "version_minor": 0
      },
      "text/plain": [
       "Looping Each Links of Dates: 2020-07-08:   0%|          | 0/11 [00:00<?, ?it/s]"
      ]
     },
     "metadata": {},
     "output_type": "display_data"
    },
    {
     "data": {},
     "metadata": {},
     "output_type": "display_data"
    },
    {
     "data": {
      "application/vnd.jupyter.widget-view+json": {
       "model_id": "10fc6e1d1218448cafb0e678597abc21",
       "version_major": 2,
       "version_minor": 0
      },
      "text/plain": [
       "Looping Each Links of Dates: 2020-07-07:   0%|          | 0/12 [00:00<?, ?it/s]"
      ]
     },
     "metadata": {},
     "output_type": "display_data"
    },
    {
     "data": {},
     "metadata": {},
     "output_type": "display_data"
    },
    {
     "data": {
      "application/vnd.jupyter.widget-view+json": {
       "model_id": "53299368d6b74550a2a976dc8f0eb1a0",
       "version_major": 2,
       "version_minor": 0
      },
      "text/plain": [
       "Looping Each Links of Dates: 2020-07-06:   0%|          | 0/13 [00:00<?, ?it/s]"
      ]
     },
     "metadata": {},
     "output_type": "display_data"
    },
    {
     "data": {},
     "metadata": {},
     "output_type": "display_data"
    },
    {
     "data": {
      "application/vnd.jupyter.widget-view+json": {
       "model_id": "583d05d2384e43de81e722c767997997",
       "version_major": 2,
       "version_minor": 0
      },
      "text/plain": [
       "Looping Each Links of Dates: 2020-07-05:   0%|          | 0/10 [00:00<?, ?it/s]"
      ]
     },
     "metadata": {},
     "output_type": "display_data"
    },
    {
     "data": {},
     "metadata": {},
     "output_type": "display_data"
    },
    {
     "data": {
      "application/vnd.jupyter.widget-view+json": {
       "model_id": "7794a76c1d4c46d89cbc936813375dc6",
       "version_major": 2,
       "version_minor": 0
      },
      "text/plain": [
       "Looping Each Links of Dates: 2020-07-04:   0%|          | 0/11 [00:00<?, ?it/s]"
      ]
     },
     "metadata": {},
     "output_type": "display_data"
    },
    {
     "data": {},
     "metadata": {},
     "output_type": "display_data"
    },
    {
     "data": {
      "application/vnd.jupyter.widget-view+json": {
       "model_id": "cee8a4fa4605484291bf3d562413f839",
       "version_major": 2,
       "version_minor": 0
      },
      "text/plain": [
       "Looping Each Links of Dates: 2020-07-03:   0%|          | 0/11 [00:00<?, ?it/s]"
      ]
     },
     "metadata": {},
     "output_type": "display_data"
    },
    {
     "data": {},
     "metadata": {},
     "output_type": "display_data"
    },
    {
     "data": {
      "application/vnd.jupyter.widget-view+json": {
       "model_id": "9dbce57d5d8748cca67849d5fdfaa9a2",
       "version_major": 2,
       "version_minor": 0
      },
      "text/plain": [
       "Looping Each Links of Dates: 2020-07-02:   0%|          | 0/12 [00:00<?, ?it/s]"
      ]
     },
     "metadata": {},
     "output_type": "display_data"
    },
    {
     "data": {},
     "metadata": {},
     "output_type": "display_data"
    },
    {
     "data": {
      "application/vnd.jupyter.widget-view+json": {
       "model_id": "5d58c0643d174eecba947bbadf11811c",
       "version_major": 2,
       "version_minor": 0
      },
      "text/plain": [
       "Looping Each Links of Dates: 2020-07-01:   0%|          | 0/10 [00:00<?, ?it/s]"
      ]
     },
     "metadata": {},
     "output_type": "display_data"
    },
    {
     "data": {},
     "metadata": {},
     "output_type": "display_data"
    },
    {
     "data": {
      "application/vnd.jupyter.widget-view+json": {
       "model_id": "da28d3e9c36d4a9bb22c6d46530f09e5",
       "version_major": 2,
       "version_minor": 0
      },
      "text/plain": [
       "Looping Each Links of Dates: 2020-06-30:   0%|          | 0/11 [00:00<?, ?it/s]"
      ]
     },
     "metadata": {},
     "output_type": "display_data"
    },
    {
     "data": {},
     "metadata": {},
     "output_type": "display_data"
    },
    {
     "data": {
      "application/vnd.jupyter.widget-view+json": {
       "model_id": "6b5d9bfd06984b878dd48c908cffce26",
       "version_major": 2,
       "version_minor": 0
      },
      "text/plain": [
       "Looping Each Links of Dates: 2020-06-29:   0%|          | 0/13 [00:00<?, ?it/s]"
      ]
     },
     "metadata": {},
     "output_type": "display_data"
    },
    {
     "data": {},
     "metadata": {},
     "output_type": "display_data"
    },
    {
     "data": {
      "application/vnd.jupyter.widget-view+json": {
       "model_id": "6a546e80977849d5b6583446a1bd4c33",
       "version_major": 2,
       "version_minor": 0
      },
      "text/plain": [
       "Looping Each Links of Dates: 2020-06-28:   0%|          | 0/11 [00:00<?, ?it/s]"
      ]
     },
     "metadata": {},
     "output_type": "display_data"
    },
    {
     "data": {},
     "metadata": {},
     "output_type": "display_data"
    },
    {
     "data": {
      "application/vnd.jupyter.widget-view+json": {
       "model_id": "650852ae2bd34e98941c092d53db4676",
       "version_major": 2,
       "version_minor": 0
      },
      "text/plain": [
       "Looping Each Links of Dates: 2020-06-27:   0%|          | 0/11 [00:00<?, ?it/s]"
      ]
     },
     "metadata": {},
     "output_type": "display_data"
    },
    {
     "data": {},
     "metadata": {},
     "output_type": "display_data"
    },
    {
     "data": {
      "application/vnd.jupyter.widget-view+json": {
       "model_id": "7fb60d6a3e9146a79ff58d61ac1f596b",
       "version_major": 2,
       "version_minor": 0
      },
      "text/plain": [
       "Looping Each Links of Dates: 2020-06-26:   0%|          | 0/10 [00:00<?, ?it/s]"
      ]
     },
     "metadata": {},
     "output_type": "display_data"
    },
    {
     "data": {},
     "metadata": {},
     "output_type": "display_data"
    },
    {
     "data": {
      "application/vnd.jupyter.widget-view+json": {
       "model_id": "5cd4038a15c04dc59bb1cc606f9005e9",
       "version_major": 2,
       "version_minor": 0
      },
      "text/plain": [
       "Looping Each Links of Dates: 2020-06-25:   0%|          | 0/9 [00:00<?, ?it/s]"
      ]
     },
     "metadata": {},
     "output_type": "display_data"
    },
    {
     "data": {},
     "metadata": {},
     "output_type": "display_data"
    },
    {
     "data": {
      "application/vnd.jupyter.widget-view+json": {
       "model_id": "66d834fb54994158aeab72a0095b2cc1",
       "version_major": 2,
       "version_minor": 0
      },
      "text/plain": [
       "Looping Each Links of Dates: 2020-06-24:   0%|          | 0/11 [00:00<?, ?it/s]"
      ]
     },
     "metadata": {},
     "output_type": "display_data"
    },
    {
     "data": {},
     "metadata": {},
     "output_type": "display_data"
    },
    {
     "data": {
      "application/vnd.jupyter.widget-view+json": {
       "model_id": "97a1590f4f104d31ba9c983fc16e3268",
       "version_major": 2,
       "version_minor": 0
      },
      "text/plain": [
       "Looping Each Links of Dates: 2020-06-23:   0%|          | 0/11 [00:00<?, ?it/s]"
      ]
     },
     "metadata": {},
     "output_type": "display_data"
    },
    {
     "data": {},
     "metadata": {},
     "output_type": "display_data"
    },
    {
     "data": {
      "application/vnd.jupyter.widget-view+json": {
       "model_id": "73e921b333884090a8f1980e2395dde0",
       "version_major": 2,
       "version_minor": 0
      },
      "text/plain": [
       "Looping Each Links of Dates: 2020-06-22:   0%|          | 0/12 [00:00<?, ?it/s]"
      ]
     },
     "metadata": {},
     "output_type": "display_data"
    },
    {
     "data": {},
     "metadata": {},
     "output_type": "display_data"
    },
    {
     "data": {
      "application/vnd.jupyter.widget-view+json": {
       "model_id": "182fc6bcdc8142d59ec0cc0b585d0303",
       "version_major": 2,
       "version_minor": 0
      },
      "text/plain": [
       "Looping Each Links of Dates: 2020-06-21:   0%|          | 0/11 [00:00<?, ?it/s]"
      ]
     },
     "metadata": {},
     "output_type": "display_data"
    },
    {
     "data": {},
     "metadata": {},
     "output_type": "display_data"
    },
    {
     "data": {
      "application/vnd.jupyter.widget-view+json": {
       "model_id": "21257bd8e54c41b2970024233b54454c",
       "version_major": 2,
       "version_minor": 0
      },
      "text/plain": [
       "Looping Each Links of Dates: 2020-06-20:   0%|          | 0/12 [00:00<?, ?it/s]"
      ]
     },
     "metadata": {},
     "output_type": "display_data"
    },
    {
     "data": {},
     "metadata": {},
     "output_type": "display_data"
    },
    {
     "data": {
      "application/vnd.jupyter.widget-view+json": {
       "model_id": "4dbdf4d4c4984707b7caf96c2d253578",
       "version_major": 2,
       "version_minor": 0
      },
      "text/plain": [
       "Looping Each Links of Dates: 2020-06-19:   0%|          | 0/12 [00:00<?, ?it/s]"
      ]
     },
     "metadata": {},
     "output_type": "display_data"
    },
    {
     "data": {},
     "metadata": {},
     "output_type": "display_data"
    },
    {
     "data": {
      "application/vnd.jupyter.widget-view+json": {
       "model_id": "809b1d28296e4c5a94af5205ce65d304",
       "version_major": 2,
       "version_minor": 0
      },
      "text/plain": [
       "Looping Each Links of Dates: 2020-06-18:   0%|          | 0/4 [00:00<?, ?it/s]"
      ]
     },
     "metadata": {},
     "output_type": "display_data"
    },
    {
     "data": {},
     "metadata": {},
     "output_type": "display_data"
    },
    {
     "data": {
      "application/vnd.jupyter.widget-view+json": {
       "model_id": "e55ecdea21da4f77bc113bc73b4caba3",
       "version_major": 2,
       "version_minor": 0
      },
      "text/plain": [
       "Looping Each Links of Dates: 2020-06-17:   0%|          | 0/12 [00:00<?, ?it/s]"
      ]
     },
     "metadata": {},
     "output_type": "display_data"
    },
    {
     "data": {},
     "metadata": {},
     "output_type": "display_data"
    },
    {
     "data": {
      "application/vnd.jupyter.widget-view+json": {
       "model_id": "24663b48dc154f6e83f63c2d22476958",
       "version_major": 2,
       "version_minor": 0
      },
      "text/plain": [
       "Looping Each Links of Dates: 2020-06-16:   0%|          | 0/12 [00:00<?, ?it/s]"
      ]
     },
     "metadata": {},
     "output_type": "display_data"
    },
    {
     "data": {},
     "metadata": {},
     "output_type": "display_data"
    },
    {
     "data": {
      "application/vnd.jupyter.widget-view+json": {
       "model_id": "2ce960ab141a41b8b1534e384c7f0403",
       "version_major": 2,
       "version_minor": 0
      },
      "text/plain": [
       "Looping Each Links of Dates: 2020-06-15:   0%|          | 0/13 [00:00<?, ?it/s]"
      ]
     },
     "metadata": {},
     "output_type": "display_data"
    },
    {
     "data": {},
     "metadata": {},
     "output_type": "display_data"
    },
    {
     "data": {
      "application/vnd.jupyter.widget-view+json": {
       "model_id": "0d9e4892d309438797c05543a3f6184a",
       "version_major": 2,
       "version_minor": 0
      },
      "text/plain": [
       "Looping Each Links of Dates: 2020-06-14:   0%|          | 0/13 [00:00<?, ?it/s]"
      ]
     },
     "metadata": {},
     "output_type": "display_data"
    },
    {
     "data": {},
     "metadata": {},
     "output_type": "display_data"
    },
    {
     "data": {
      "application/vnd.jupyter.widget-view+json": {
       "model_id": "c7ac6961e87a4cf5842e81775ef395d4",
       "version_major": 2,
       "version_minor": 0
      },
      "text/plain": [
       "Looping Each Links of Dates: 2020-06-13:   0%|          | 0/7 [00:00<?, ?it/s]"
      ]
     },
     "metadata": {},
     "output_type": "display_data"
    },
    {
     "data": {},
     "metadata": {},
     "output_type": "display_data"
    },
    {
     "data": {
      "application/vnd.jupyter.widget-view+json": {
       "model_id": "a591b09782d040a2a3cb0e815f127568",
       "version_major": 2,
       "version_minor": 0
      },
      "text/plain": [
       "Looping Each Links of Dates: 2020-06-12:   0%|          | 0/12 [00:00<?, ?it/s]"
      ]
     },
     "metadata": {},
     "output_type": "display_data"
    },
    {
     "data": {},
     "metadata": {},
     "output_type": "display_data"
    },
    {
     "data": {
      "application/vnd.jupyter.widget-view+json": {
       "model_id": "b5f11d33c7a248eb8e4483da080a682c",
       "version_major": 2,
       "version_minor": 0
      },
      "text/plain": [
       "Looping Each Links of Dates: 2020-06-11:   0%|          | 0/12 [00:00<?, ?it/s]"
      ]
     },
     "metadata": {},
     "output_type": "display_data"
    },
    {
     "data": {},
     "metadata": {},
     "output_type": "display_data"
    },
    {
     "data": {
      "application/vnd.jupyter.widget-view+json": {
       "model_id": "dbecf280d05647ceb04be025b467e673",
       "version_major": 2,
       "version_minor": 0
      },
      "text/plain": [
       "Looping Each Links of Dates: 2020-06-10:   0%|          | 0/10 [00:00<?, ?it/s]"
      ]
     },
     "metadata": {},
     "output_type": "display_data"
    },
    {
     "data": {},
     "metadata": {},
     "output_type": "display_data"
    },
    {
     "data": {
      "application/vnd.jupyter.widget-view+json": {
       "model_id": "8fc8a647a0eb431094fedf8145bc3182",
       "version_major": 2,
       "version_minor": 0
      },
      "text/plain": [
       "Looping Each Links of Dates: 2020-06-09:   0%|          | 0/11 [00:00<?, ?it/s]"
      ]
     },
     "metadata": {},
     "output_type": "display_data"
    },
    {
     "data": {},
     "metadata": {},
     "output_type": "display_data"
    },
    {
     "data": {
      "application/vnd.jupyter.widget-view+json": {
       "model_id": "f1e77f09633f444cad75e153aab3a365",
       "version_major": 2,
       "version_minor": 0
      },
      "text/plain": [
       "Looping Each Links of Dates: 2020-06-08:   0%|          | 0/11 [00:00<?, ?it/s]"
      ]
     },
     "metadata": {},
     "output_type": "display_data"
    },
    {
     "data": {},
     "metadata": {},
     "output_type": "display_data"
    },
    {
     "data": {
      "application/vnd.jupyter.widget-view+json": {
       "model_id": "fe0c6b99b95e4c5ba6e6ce9e5c7b6ffd",
       "version_major": 2,
       "version_minor": 0
      },
      "text/plain": [
       "Looping Each Links of Dates: 2020-06-07:   0%|          | 0/10 [00:00<?, ?it/s]"
      ]
     },
     "metadata": {},
     "output_type": "display_data"
    },
    {
     "data": {},
     "metadata": {},
     "output_type": "display_data"
    },
    {
     "data": {
      "application/vnd.jupyter.widget-view+json": {
       "model_id": "bc9d5d065fea48cc98cbe7ca49e928a0",
       "version_major": 2,
       "version_minor": 0
      },
      "text/plain": [
       "Looping Each Links of Dates: 2020-06-06:   0%|          | 0/10 [00:00<?, ?it/s]"
      ]
     },
     "metadata": {},
     "output_type": "display_data"
    },
    {
     "data": {},
     "metadata": {},
     "output_type": "display_data"
    },
    {
     "data": {
      "application/vnd.jupyter.widget-view+json": {
       "model_id": "0ba78a2e11ad4a71a299143c1f7cfefd",
       "version_major": 2,
       "version_minor": 0
      },
      "text/plain": [
       "Looping Each Links of Dates: 2020-06-05:   0%|          | 0/9 [00:00<?, ?it/s]"
      ]
     },
     "metadata": {},
     "output_type": "display_data"
    },
    {
     "data": {},
     "metadata": {},
     "output_type": "display_data"
    },
    {
     "data": {
      "application/vnd.jupyter.widget-view+json": {
       "model_id": "bdb1bca26e2d491882f9600b810055be",
       "version_major": 2,
       "version_minor": 0
      },
      "text/plain": [
       "Looping Each Links of Dates: 2020-06-04:   0%|          | 0/12 [00:00<?, ?it/s]"
      ]
     },
     "metadata": {},
     "output_type": "display_data"
    },
    {
     "data": {},
     "metadata": {},
     "output_type": "display_data"
    },
    {
     "data": {
      "application/vnd.jupyter.widget-view+json": {
       "model_id": "be66fb5ffb5e4d77a2949d72d1533ffd",
       "version_major": 2,
       "version_minor": 0
      },
      "text/plain": [
       "Looping Each Links of Dates: 2020-06-03:   0%|          | 0/10 [00:00<?, ?it/s]"
      ]
     },
     "metadata": {},
     "output_type": "display_data"
    },
    {
     "data": {},
     "metadata": {},
     "output_type": "display_data"
    },
    {
     "data": {
      "application/vnd.jupyter.widget-view+json": {
       "model_id": "d6dcd7cf8186471588a9e14caf110a08",
       "version_major": 2,
       "version_minor": 0
      },
      "text/plain": [
       "Looping Each Links of Dates: 2020-06-02:   0%|          | 0/12 [00:00<?, ?it/s]"
      ]
     },
     "metadata": {},
     "output_type": "display_data"
    },
    {
     "data": {},
     "metadata": {},
     "output_type": "display_data"
    },
    {
     "data": {
      "application/vnd.jupyter.widget-view+json": {
       "model_id": "457b9c8f9cad48ba9b468cd0d9fa9818",
       "version_major": 2,
       "version_minor": 0
      },
      "text/plain": [
       "Looping Each Links of Dates: 2020-06-01:   0%|          | 0/10 [00:00<?, ?it/s]"
      ]
     },
     "metadata": {},
     "output_type": "display_data"
    },
    {
     "data": {},
     "metadata": {},
     "output_type": "display_data"
    },
    {
     "data": {
      "application/vnd.jupyter.widget-view+json": {
       "model_id": "2435a13c91994766b3a18c2b01981ee8",
       "version_major": 2,
       "version_minor": 0
      },
      "text/plain": [
       "Looping Each Links of Dates: 2020-05-31:   0%|          | 0/12 [00:00<?, ?it/s]"
      ]
     },
     "metadata": {},
     "output_type": "display_data"
    },
    {
     "data": {},
     "metadata": {},
     "output_type": "display_data"
    },
    {
     "data": {
      "application/vnd.jupyter.widget-view+json": {
       "model_id": "d029a116a1cb47d1b6bfe52319275627",
       "version_major": 2,
       "version_minor": 0
      },
      "text/plain": [
       "Looping Each Links of Dates: 2020-05-30:   0%|          | 0/11 [00:00<?, ?it/s]"
      ]
     },
     "metadata": {},
     "output_type": "display_data"
    },
    {
     "data": {},
     "metadata": {},
     "output_type": "display_data"
    },
    {
     "data": {
      "application/vnd.jupyter.widget-view+json": {
       "model_id": "7ae211821d404dfab981b3a84c2bc2b1",
       "version_major": 2,
       "version_minor": 0
      },
      "text/plain": [
       "Looping Each Links of Dates: 2020-05-29:   0%|          | 0/12 [00:00<?, ?it/s]"
      ]
     },
     "metadata": {},
     "output_type": "display_data"
    },
    {
     "data": {},
     "metadata": {},
     "output_type": "display_data"
    },
    {
     "data": {
      "application/vnd.jupyter.widget-view+json": {
       "model_id": "f9f69d70142a4f85affa25fb5cfc5b7b",
       "version_major": 2,
       "version_minor": 0
      },
      "text/plain": [
       "Looping Each Links of Dates: 2020-05-28:   0%|          | 0/13 [00:00<?, ?it/s]"
      ]
     },
     "metadata": {},
     "output_type": "display_data"
    },
    {
     "data": {},
     "metadata": {},
     "output_type": "display_data"
    },
    {
     "data": {
      "application/vnd.jupyter.widget-view+json": {
       "model_id": "5e3f5e3b40f7476ba954c7cd270c37f4",
       "version_major": 2,
       "version_minor": 0
      },
      "text/plain": [
       "Looping Each Links of Dates: 2020-05-27:   0%|          | 0/11 [00:00<?, ?it/s]"
      ]
     },
     "metadata": {},
     "output_type": "display_data"
    },
    {
     "data": {},
     "metadata": {},
     "output_type": "display_data"
    },
    {
     "data": {
      "application/vnd.jupyter.widget-view+json": {
       "model_id": "22ddfea0005e4775940351c0ed175dc0",
       "version_major": 2,
       "version_minor": 0
      },
      "text/plain": [
       "Looping Each Links of Dates: 2020-05-26:   0%|          | 0/13 [00:00<?, ?it/s]"
      ]
     },
     "metadata": {},
     "output_type": "display_data"
    },
    {
     "data": {},
     "metadata": {},
     "output_type": "display_data"
    },
    {
     "data": {
      "application/vnd.jupyter.widget-view+json": {
       "model_id": "4508a747d0c047a08cee030dae3c4a4c",
       "version_major": 2,
       "version_minor": 0
      },
      "text/plain": [
       "Looping Each Links of Dates: 2020-05-25:   0%|          | 0/6 [00:00<?, ?it/s]"
      ]
     },
     "metadata": {},
     "output_type": "display_data"
    },
    {
     "data": {},
     "metadata": {},
     "output_type": "display_data"
    },
    {
     "data": {
      "application/vnd.jupyter.widget-view+json": {
       "model_id": "72c3bf1ee68641629616ffa08fad246c",
       "version_major": 2,
       "version_minor": 0
      },
      "text/plain": [
       "Looping Each Links of Dates: 2020-05-24:   0%|          | 0/10 [00:00<?, ?it/s]"
      ]
     },
     "metadata": {},
     "output_type": "display_data"
    },
    {
     "data": {},
     "metadata": {},
     "output_type": "display_data"
    },
    {
     "data": {
      "application/vnd.jupyter.widget-view+json": {
       "model_id": "04cabe745d2c434580f499c36fa41b56",
       "version_major": 2,
       "version_minor": 0
      },
      "text/plain": [
       "Looping Each Links of Dates: 2020-05-23:   0%|          | 0/9 [00:00<?, ?it/s]"
      ]
     },
     "metadata": {},
     "output_type": "display_data"
    },
    {
     "data": {},
     "metadata": {},
     "output_type": "display_data"
    },
    {
     "data": {
      "application/vnd.jupyter.widget-view+json": {
       "model_id": "b4c5c34b99504da6b2dd07f0af3bbc59",
       "version_major": 2,
       "version_minor": 0
      },
      "text/plain": [
       "Looping Each Links of Dates: 2020-05-22:   0%|          | 0/12 [00:00<?, ?it/s]"
      ]
     },
     "metadata": {},
     "output_type": "display_data"
    },
    {
     "data": {},
     "metadata": {},
     "output_type": "display_data"
    },
    {
     "data": {
      "application/vnd.jupyter.widget-view+json": {
       "model_id": "0132b87be2ea4e2dbcfddd2b7761ceb2",
       "version_major": 2,
       "version_minor": 0
      },
      "text/plain": [
       "Looping Each Links of Dates: 2020-05-21:   0%|          | 0/12 [00:00<?, ?it/s]"
      ]
     },
     "metadata": {},
     "output_type": "display_data"
    },
    {
     "data": {},
     "metadata": {},
     "output_type": "display_data"
    },
    {
     "data": {
      "application/vnd.jupyter.widget-view+json": {
       "model_id": "5472abe0160041668ae86387e895bcab",
       "version_major": 2,
       "version_minor": 0
      },
      "text/plain": [
       "Looping Each Links of Dates: 2020-05-20:   0%|          | 0/12 [00:00<?, ?it/s]"
      ]
     },
     "metadata": {},
     "output_type": "display_data"
    },
    {
     "data": {},
     "metadata": {},
     "output_type": "display_data"
    },
    {
     "data": {
      "application/vnd.jupyter.widget-view+json": {
       "model_id": "916d61be82794e229f85a6908355ef47",
       "version_major": 2,
       "version_minor": 0
      },
      "text/plain": [
       "Looping Each Links of Dates: 2020-05-19:   0%|          | 0/10 [00:00<?, ?it/s]"
      ]
     },
     "metadata": {},
     "output_type": "display_data"
    },
    {
     "data": {},
     "metadata": {},
     "output_type": "display_data"
    },
    {
     "data": {
      "application/vnd.jupyter.widget-view+json": {
       "model_id": "78780fd4b07541648546c3c049f0e279",
       "version_major": 2,
       "version_minor": 0
      },
      "text/plain": [
       "Looping Each Links of Dates: 2020-05-18:   0%|          | 0/10 [00:00<?, ?it/s]"
      ]
     },
     "metadata": {},
     "output_type": "display_data"
    },
    {
     "data": {},
     "metadata": {},
     "output_type": "display_data"
    },
    {
     "data": {
      "application/vnd.jupyter.widget-view+json": {
       "model_id": "c2388e9579744f7cbad6ce3df284cf26",
       "version_major": 2,
       "version_minor": 0
      },
      "text/plain": [
       "Looping Each Links of Dates: 2020-05-17:   0%|          | 0/8 [00:00<?, ?it/s]"
      ]
     },
     "metadata": {},
     "output_type": "display_data"
    },
    {
     "data": {},
     "metadata": {},
     "output_type": "display_data"
    },
    {
     "data": {
      "application/vnd.jupyter.widget-view+json": {
       "model_id": "aed1c84bd4294388b1be35f68770b813",
       "version_major": 2,
       "version_minor": 0
      },
      "text/plain": [
       "Looping Each Links of Dates: 2020-05-16:   0%|          | 0/12 [00:00<?, ?it/s]"
      ]
     },
     "metadata": {},
     "output_type": "display_data"
    },
    {
     "data": {},
     "metadata": {},
     "output_type": "display_data"
    },
    {
     "data": {
      "application/vnd.jupyter.widget-view+json": {
       "model_id": "a9d8a386c8994a44936f1cf6f060e65d",
       "version_major": 2,
       "version_minor": 0
      },
      "text/plain": [
       "Looping Each Links of Dates: 2020-05-15:   0%|          | 0/12 [00:00<?, ?it/s]"
      ]
     },
     "metadata": {},
     "output_type": "display_data"
    },
    {
     "data": {},
     "metadata": {},
     "output_type": "display_data"
    },
    {
     "data": {
      "application/vnd.jupyter.widget-view+json": {
       "model_id": "971787d53697475bb43d4351c0f7d703",
       "version_major": 2,
       "version_minor": 0
      },
      "text/plain": [
       "Looping Each Links of Dates: 2020-05-14:   0%|          | 0/12 [00:00<?, ?it/s]"
      ]
     },
     "metadata": {},
     "output_type": "display_data"
    },
    {
     "data": {},
     "metadata": {},
     "output_type": "display_data"
    },
    {
     "data": {
      "application/vnd.jupyter.widget-view+json": {
       "model_id": "bdd855e92ba14a0eb70d859f7149cfe6",
       "version_major": 2,
       "version_minor": 0
      },
      "text/plain": [
       "Looping Each Links of Dates: 2020-05-13:   0%|          | 0/11 [00:00<?, ?it/s]"
      ]
     },
     "metadata": {},
     "output_type": "display_data"
    },
    {
     "data": {},
     "metadata": {},
     "output_type": "display_data"
    },
    {
     "data": {
      "application/vnd.jupyter.widget-view+json": {
       "model_id": "c07031ebedd34f7cb11fe5284dac61eb",
       "version_major": 2,
       "version_minor": 0
      },
      "text/plain": [
       "Looping Each Links of Dates: 2020-05-12:   0%|          | 0/14 [00:00<?, ?it/s]"
      ]
     },
     "metadata": {},
     "output_type": "display_data"
    },
    {
     "data": {},
     "metadata": {},
     "output_type": "display_data"
    },
    {
     "data": {
      "application/vnd.jupyter.widget-view+json": {
       "model_id": "0dff8e1581b44d61ae6004e1be4e8c63",
       "version_major": 2,
       "version_minor": 0
      },
      "text/plain": [
       "Looping Each Links of Dates: 2020-05-11:   0%|          | 0/12 [00:00<?, ?it/s]"
      ]
     },
     "metadata": {},
     "output_type": "display_data"
    },
    {
     "data": {},
     "metadata": {},
     "output_type": "display_data"
    },
    {
     "data": {
      "application/vnd.jupyter.widget-view+json": {
       "model_id": "f4d62da98b3c47608290f0b08dfeb10e",
       "version_major": 2,
       "version_minor": 0
      },
      "text/plain": [
       "Looping Each Links of Dates: 2020-05-10:   0%|          | 0/12 [00:00<?, ?it/s]"
      ]
     },
     "metadata": {},
     "output_type": "display_data"
    },
    {
     "data": {},
     "metadata": {},
     "output_type": "display_data"
    },
    {
     "data": {
      "application/vnd.jupyter.widget-view+json": {
       "model_id": "aa7fb394168c470eb0215005dab93f2b",
       "version_major": 2,
       "version_minor": 0
      },
      "text/plain": [
       "Looping Each Links of Dates: 2020-05-09:   0%|          | 0/9 [00:00<?, ?it/s]"
      ]
     },
     "metadata": {},
     "output_type": "display_data"
    },
    {
     "data": {},
     "metadata": {},
     "output_type": "display_data"
    },
    {
     "data": {
      "application/vnd.jupyter.widget-view+json": {
       "model_id": "1fc13aafaa0a4e6cb3ad3a7fbf51ebb2",
       "version_major": 2,
       "version_minor": 0
      },
      "text/plain": [
       "Looping Each Links of Dates: 2020-05-08:   0%|          | 0/12 [00:00<?, ?it/s]"
      ]
     },
     "metadata": {},
     "output_type": "display_data"
    },
    {
     "data": {},
     "metadata": {},
     "output_type": "display_data"
    },
    {
     "data": {
      "application/vnd.jupyter.widget-view+json": {
       "model_id": "e2fc0d5380f2409893159e73837245d3",
       "version_major": 2,
       "version_minor": 0
      },
      "text/plain": [
       "Looping Each Links of Dates: 2020-05-07:   0%|          | 0/12 [00:00<?, ?it/s]"
      ]
     },
     "metadata": {},
     "output_type": "display_data"
    },
    {
     "data": {},
     "metadata": {},
     "output_type": "display_data"
    },
    {
     "data": {
      "application/vnd.jupyter.widget-view+json": {
       "model_id": "68be15c7fdc2498c98a0b0eb0f7f64ee",
       "version_major": 2,
       "version_minor": 0
      },
      "text/plain": [
       "Looping Each Links of Dates: 2020-05-06:   0%|          | 0/11 [00:00<?, ?it/s]"
      ]
     },
     "metadata": {},
     "output_type": "display_data"
    },
    {
     "data": {},
     "metadata": {},
     "output_type": "display_data"
    },
    {
     "data": {
      "application/vnd.jupyter.widget-view+json": {
       "model_id": "b0547df3af3a428dacb78b7973769c85",
       "version_major": 2,
       "version_minor": 0
      },
      "text/plain": [
       "Looping Each Links of Dates: 2020-05-05:   0%|          | 0/10 [00:00<?, ?it/s]"
      ]
     },
     "metadata": {},
     "output_type": "display_data"
    },
    {
     "data": {},
     "metadata": {},
     "output_type": "display_data"
    },
    {
     "data": {
      "application/vnd.jupyter.widget-view+json": {
       "model_id": "a44a6998be9c4a869a714f2036cedbee",
       "version_major": 2,
       "version_minor": 0
      },
      "text/plain": [
       "Looping Each Links of Dates: 2020-05-04:   0%|          | 0/8 [00:00<?, ?it/s]"
      ]
     },
     "metadata": {},
     "output_type": "display_data"
    },
    {
     "data": {},
     "metadata": {},
     "output_type": "display_data"
    },
    {
     "data": {
      "application/vnd.jupyter.widget-view+json": {
       "model_id": "23975c1df379410a84cd9003197ff419",
       "version_major": 2,
       "version_minor": 0
      },
      "text/plain": [
       "Looping Each Links of Dates: 2020-05-03:   0%|          | 0/11 [00:00<?, ?it/s]"
      ]
     },
     "metadata": {},
     "output_type": "display_data"
    },
    {
     "data": {},
     "metadata": {},
     "output_type": "display_data"
    },
    {
     "data": {
      "application/vnd.jupyter.widget-view+json": {
       "model_id": "053ebbee1dab443190256b28a6d664e2",
       "version_major": 2,
       "version_minor": 0
      },
      "text/plain": [
       "Looping Each Links of Dates: 2020-05-02:   0%|          | 0/9 [00:00<?, ?it/s]"
      ]
     },
     "metadata": {},
     "output_type": "display_data"
    },
    {
     "data": {},
     "metadata": {},
     "output_type": "display_data"
    },
    {
     "data": {
      "application/vnd.jupyter.widget-view+json": {
       "model_id": "bd25fdc1d53a4cddb14030725bdb1824",
       "version_major": 2,
       "version_minor": 0
      },
      "text/plain": [
       "Looping Each Links of Dates: 2020-05-01:   0%|          | 0/10 [00:00<?, ?it/s]"
      ]
     },
     "metadata": {},
     "output_type": "display_data"
    },
    {
     "data": {},
     "metadata": {},
     "output_type": "display_data"
    },
    {
     "data": {
      "application/vnd.jupyter.widget-view+json": {
       "model_id": "cae7ffaa31df46ed80812054a89d3b32",
       "version_major": 2,
       "version_minor": 0
      },
      "text/plain": [
       "Looping Each Links of Dates: 2020-04-30:   0%|          | 0/10 [00:00<?, ?it/s]"
      ]
     },
     "metadata": {},
     "output_type": "display_data"
    },
    {
     "data": {},
     "metadata": {},
     "output_type": "display_data"
    },
    {
     "data": {
      "application/vnd.jupyter.widget-view+json": {
       "model_id": "ad6c0b962815426d97bf7c1f92ba9d4d",
       "version_major": 2,
       "version_minor": 0
      },
      "text/plain": [
       "Looping Each Links of Dates: 2020-04-29:   0%|          | 0/10 [00:00<?, ?it/s]"
      ]
     },
     "metadata": {},
     "output_type": "display_data"
    },
    {
     "data": {},
     "metadata": {},
     "output_type": "display_data"
    },
    {
     "data": {
      "application/vnd.jupyter.widget-view+json": {
       "model_id": "051f3abfe60249d78ce53432146126bd",
       "version_major": 2,
       "version_minor": 0
      },
      "text/plain": [
       "Looping Each Links of Dates: 2020-04-28:   0%|          | 0/11 [00:00<?, ?it/s]"
      ]
     },
     "metadata": {},
     "output_type": "display_data"
    },
    {
     "data": {},
     "metadata": {},
     "output_type": "display_data"
    },
    {
     "data": {
      "application/vnd.jupyter.widget-view+json": {
       "model_id": "76667d879a2d4a59aa2f79162b639aa8",
       "version_major": 2,
       "version_minor": 0
      },
      "text/plain": [
       "Looping Each Links of Dates: 2020-04-27:   0%|          | 0/9 [00:00<?, ?it/s]"
      ]
     },
     "metadata": {},
     "output_type": "display_data"
    },
    {
     "data": {},
     "metadata": {},
     "output_type": "display_data"
    },
    {
     "data": {
      "application/vnd.jupyter.widget-view+json": {
       "model_id": "16a85ac3dc904682b1c2b95b74ad53c5",
       "version_major": 2,
       "version_minor": 0
      },
      "text/plain": [
       "Looping Each Links of Dates: 2020-04-26:   0%|          | 0/12 [00:00<?, ?it/s]"
      ]
     },
     "metadata": {},
     "output_type": "display_data"
    },
    {
     "data": {},
     "metadata": {},
     "output_type": "display_data"
    },
    {
     "data": {
      "application/vnd.jupyter.widget-view+json": {
       "model_id": "fa1f6d0813c74ca489c1ad5c28882270",
       "version_major": 2,
       "version_minor": 0
      },
      "text/plain": [
       "Looping Each Links of Dates: 2020-04-25:   0%|          | 0/5 [00:00<?, ?it/s]"
      ]
     },
     "metadata": {},
     "output_type": "display_data"
    },
    {
     "data": {},
     "metadata": {},
     "output_type": "display_data"
    },
    {
     "data": {
      "application/vnd.jupyter.widget-view+json": {
       "model_id": "443affabe2d14782acb336c4f47992b7",
       "version_major": 2,
       "version_minor": 0
      },
      "text/plain": [
       "Looping Each Links of Dates: 2020-04-24:   0%|          | 0/10 [00:00<?, ?it/s]"
      ]
     },
     "metadata": {},
     "output_type": "display_data"
    },
    {
     "data": {},
     "metadata": {},
     "output_type": "display_data"
    },
    {
     "data": {
      "application/vnd.jupyter.widget-view+json": {
       "model_id": "f60e7a9241a14307a6f0d2a76f97c049",
       "version_major": 2,
       "version_minor": 0
      },
      "text/plain": [
       "Looping Each Links of Dates: 2020-04-23:   0%|          | 0/12 [00:00<?, ?it/s]"
      ]
     },
     "metadata": {},
     "output_type": "display_data"
    },
    {
     "data": {},
     "metadata": {},
     "output_type": "display_data"
    },
    {
     "data": {
      "application/vnd.jupyter.widget-view+json": {
       "model_id": "ee5908a692014941995cdd776f434b5c",
       "version_major": 2,
       "version_minor": 0
      },
      "text/plain": [
       "Looping Each Links of Dates: 2020-04-22:   0%|          | 0/8 [00:00<?, ?it/s]"
      ]
     },
     "metadata": {},
     "output_type": "display_data"
    },
    {
     "data": {},
     "metadata": {},
     "output_type": "display_data"
    },
    {
     "data": {
      "application/vnd.jupyter.widget-view+json": {
       "model_id": "e2e17ba7bec94027bac39f47ff345d34",
       "version_major": 2,
       "version_minor": 0
      },
      "text/plain": [
       "Looping Each Links of Dates: 2020-04-21:   0%|          | 0/12 [00:00<?, ?it/s]"
      ]
     },
     "metadata": {},
     "output_type": "display_data"
    },
    {
     "data": {},
     "metadata": {},
     "output_type": "display_data"
    },
    {
     "data": {
      "application/vnd.jupyter.widget-view+json": {
       "model_id": "51285b76a40e44ac9d57b170ae4b163c",
       "version_major": 2,
       "version_minor": 0
      },
      "text/plain": [
       "Looping Each Links of Dates: 2020-04-20:   0%|          | 0/11 [00:00<?, ?it/s]"
      ]
     },
     "metadata": {},
     "output_type": "display_data"
    },
    {
     "data": {},
     "metadata": {},
     "output_type": "display_data"
    },
    {
     "data": {
      "application/vnd.jupyter.widget-view+json": {
       "model_id": "fa69e381e424414399f7b0baf98c60df",
       "version_major": 2,
       "version_minor": 0
      },
      "text/plain": [
       "Looping Each Links of Dates: 2020-04-19:   0%|          | 0/10 [00:00<?, ?it/s]"
      ]
     },
     "metadata": {},
     "output_type": "display_data"
    },
    {
     "data": {},
     "metadata": {},
     "output_type": "display_data"
    },
    {
     "data": {
      "application/vnd.jupyter.widget-view+json": {
       "model_id": "3cf3b5eeea9f4cfba8cc8d8d587326ee",
       "version_major": 2,
       "version_minor": 0
      },
      "text/plain": [
       "Looping Each Links of Dates: 2020-04-18:   0%|          | 0/12 [00:00<?, ?it/s]"
      ]
     },
     "metadata": {},
     "output_type": "display_data"
    },
    {
     "data": {},
     "metadata": {},
     "output_type": "display_data"
    },
    {
     "data": {
      "application/vnd.jupyter.widget-view+json": {
       "model_id": "5f70e9c71c5549d88e42f81641525d1c",
       "version_major": 2,
       "version_minor": 0
      },
      "text/plain": [
       "Looping Each Links of Dates: 2020-04-17:   0%|          | 0/10 [00:00<?, ?it/s]"
      ]
     },
     "metadata": {},
     "output_type": "display_data"
    },
    {
     "data": {},
     "metadata": {},
     "output_type": "display_data"
    },
    {
     "data": {
      "application/vnd.jupyter.widget-view+json": {
       "model_id": "b9596a033ddf4120a1ba71b91f09c263",
       "version_major": 2,
       "version_minor": 0
      },
      "text/plain": [
       "Looping Each Links of Dates: 2020-04-16:   0%|          | 0/12 [00:00<?, ?it/s]"
      ]
     },
     "metadata": {},
     "output_type": "display_data"
    },
    {
     "data": {},
     "metadata": {},
     "output_type": "display_data"
    },
    {
     "data": {
      "application/vnd.jupyter.widget-view+json": {
       "model_id": "ffee9a9e957b4c07a5e834c91012244e",
       "version_major": 2,
       "version_minor": 0
      },
      "text/plain": [
       "Looping Each Links of Dates: 2020-04-15:   0%|          | 0/12 [00:00<?, ?it/s]"
      ]
     },
     "metadata": {},
     "output_type": "display_data"
    },
    {
     "data": {},
     "metadata": {},
     "output_type": "display_data"
    },
    {
     "data": {
      "application/vnd.jupyter.widget-view+json": {
       "model_id": "bf5af1e2759c456d9f4fc6af056d12b9",
       "version_major": 2,
       "version_minor": 0
      },
      "text/plain": [
       "Looping Each Links of Dates: 2020-04-14:   0%|          | 0/12 [00:00<?, ?it/s]"
      ]
     },
     "metadata": {},
     "output_type": "display_data"
    },
    {
     "data": {},
     "metadata": {},
     "output_type": "display_data"
    },
    {
     "data": {
      "application/vnd.jupyter.widget-view+json": {
       "model_id": "91a56d0fa21b4ce09641b2128ed81f47",
       "version_major": 2,
       "version_minor": 0
      },
      "text/plain": [
       "Looping Each Links of Dates: 2020-04-13:   0%|          | 0/12 [00:00<?, ?it/s]"
      ]
     },
     "metadata": {},
     "output_type": "display_data"
    },
    {
     "data": {},
     "metadata": {},
     "output_type": "display_data"
    },
    {
     "data": {
      "application/vnd.jupyter.widget-view+json": {
       "model_id": "5ae0fe2c244f42e4bbe13c8b6ed4d2c8",
       "version_major": 2,
       "version_minor": 0
      },
      "text/plain": [
       "Looping Each Links of Dates: 2020-04-12:   0%|          | 0/12 [00:00<?, ?it/s]"
      ]
     },
     "metadata": {},
     "output_type": "display_data"
    },
    {
     "data": {},
     "metadata": {},
     "output_type": "display_data"
    },
    {
     "data": {
      "application/vnd.jupyter.widget-view+json": {
       "model_id": "55715d271da64af8bc423ac16dcf9643",
       "version_major": 2,
       "version_minor": 0
      },
      "text/plain": [
       "Looping Each Links of Dates: 2020-04-11:   0%|          | 0/10 [00:00<?, ?it/s]"
      ]
     },
     "metadata": {},
     "output_type": "display_data"
    },
    {
     "data": {},
     "metadata": {},
     "output_type": "display_data"
    },
    {
     "data": {
      "application/vnd.jupyter.widget-view+json": {
       "model_id": "fade5f7f6b714792b7304dbec0bebb9f",
       "version_major": 2,
       "version_minor": 0
      },
      "text/plain": [
       "Looping Each Links of Dates: 2020-04-10:   0%|          | 0/10 [00:00<?, ?it/s]"
      ]
     },
     "metadata": {},
     "output_type": "display_data"
    },
    {
     "data": {},
     "metadata": {},
     "output_type": "display_data"
    },
    {
     "data": {
      "application/vnd.jupyter.widget-view+json": {
       "model_id": "18093547acb946ccbc0efb407acc938b",
       "version_major": 2,
       "version_minor": 0
      },
      "text/plain": [
       "Looping Each Links of Dates: 2020-04-09:   0%|          | 0/10 [00:00<?, ?it/s]"
      ]
     },
     "metadata": {},
     "output_type": "display_data"
    },
    {
     "data": {},
     "metadata": {},
     "output_type": "display_data"
    },
    {
     "data": {
      "application/vnd.jupyter.widget-view+json": {
       "model_id": "4473e8938ca84bc4bfd625a6fc954183",
       "version_major": 2,
       "version_minor": 0
      },
      "text/plain": [
       "Looping Each Links of Dates: 2020-04-08:   0%|          | 0/12 [00:00<?, ?it/s]"
      ]
     },
     "metadata": {},
     "output_type": "display_data"
    },
    {
     "data": {},
     "metadata": {},
     "output_type": "display_data"
    },
    {
     "data": {
      "application/vnd.jupyter.widget-view+json": {
       "model_id": "66eb27779cdd4019a4dbb301180cbe24",
       "version_major": 2,
       "version_minor": 0
      },
      "text/plain": [
       "Looping Each Links of Dates: 2020-04-07:   0%|          | 0/14 [00:00<?, ?it/s]"
      ]
     },
     "metadata": {},
     "output_type": "display_data"
    },
    {
     "data": {},
     "metadata": {},
     "output_type": "display_data"
    },
    {
     "data": {
      "application/vnd.jupyter.widget-view+json": {
       "model_id": "17f87c25c8be4f7e8df6a1cf00d28ae3",
       "version_major": 2,
       "version_minor": 0
      },
      "text/plain": [
       "Looping Each Links of Dates: 2020-04-06:   0%|          | 0/15 [00:00<?, ?it/s]"
      ]
     },
     "metadata": {},
     "output_type": "display_data"
    },
    {
     "data": {},
     "metadata": {},
     "output_type": "display_data"
    },
    {
     "data": {
      "application/vnd.jupyter.widget-view+json": {
       "model_id": "0f318657740f480c8811f6c496b54494",
       "version_major": 2,
       "version_minor": 0
      },
      "text/plain": [
       "Looping Each Links of Dates: 2020-04-05:   0%|          | 0/15 [00:00<?, ?it/s]"
      ]
     },
     "metadata": {},
     "output_type": "display_data"
    },
    {
     "data": {},
     "metadata": {},
     "output_type": "display_data"
    },
    {
     "data": {
      "application/vnd.jupyter.widget-view+json": {
       "model_id": "f5cd82501dcb4145a49a0ae5059a6eb2",
       "version_major": 2,
       "version_minor": 0
      },
      "text/plain": [
       "Looping Each Links of Dates: 2020-04-04:   0%|          | 0/10 [00:00<?, ?it/s]"
      ]
     },
     "metadata": {},
     "output_type": "display_data"
    },
    {
     "data": {},
     "metadata": {},
     "output_type": "display_data"
    },
    {
     "data": {
      "application/vnd.jupyter.widget-view+json": {
       "model_id": "e381c604b166413a854268de46a9c1a1",
       "version_major": 2,
       "version_minor": 0
      },
      "text/plain": [
       "Looping Each Links of Dates: 2020-04-03:   0%|          | 0/13 [00:00<?, ?it/s]"
      ]
     },
     "metadata": {},
     "output_type": "display_data"
    },
    {
     "data": {},
     "metadata": {},
     "output_type": "display_data"
    },
    {
     "data": {
      "application/vnd.jupyter.widget-view+json": {
       "model_id": "9c9dd6b4f2d140dc8979c673f2aa5517",
       "version_major": 2,
       "version_minor": 0
      },
      "text/plain": [
       "Looping Each Links of Dates: 2020-04-02:   0%|          | 0/15 [00:00<?, ?it/s]"
      ]
     },
     "metadata": {},
     "output_type": "display_data"
    },
    {
     "data": {},
     "metadata": {},
     "output_type": "display_data"
    },
    {
     "data": {
      "application/vnd.jupyter.widget-view+json": {
       "model_id": "c4c7074fff5e46da93a8bfe776612af6",
       "version_major": 2,
       "version_minor": 0
      },
      "text/plain": [
       "Looping Each Links of Dates: 2020-04-01:   0%|          | 0/15 [00:00<?, ?it/s]"
      ]
     },
     "metadata": {},
     "output_type": "display_data"
    },
    {
     "data": {},
     "metadata": {},
     "output_type": "display_data"
    },
    {
     "data": {
      "application/vnd.jupyter.widget-view+json": {
       "model_id": "9f1b0b0ebd444f59a52830e3c797edd6",
       "version_major": 2,
       "version_minor": 0
      },
      "text/plain": [
       "Looping Each Links of Dates: 2020-03-31:   0%|          | 0/15 [00:00<?, ?it/s]"
      ]
     },
     "metadata": {},
     "output_type": "display_data"
    },
    {
     "data": {},
     "metadata": {},
     "output_type": "display_data"
    },
    {
     "data": {
      "application/vnd.jupyter.widget-view+json": {
       "model_id": "799bf0d7e8df48b7833bb86df2b0eb4f",
       "version_major": 2,
       "version_minor": 0
      },
      "text/plain": [
       "Looping Each Links of Dates: 2020-03-30:   0%|          | 0/15 [00:00<?, ?it/s]"
      ]
     },
     "metadata": {},
     "output_type": "display_data"
    },
    {
     "data": {},
     "metadata": {},
     "output_type": "display_data"
    },
    {
     "data": {
      "application/vnd.jupyter.widget-view+json": {
       "model_id": "995eeca688b54868924d046d456af7db",
       "version_major": 2,
       "version_minor": 0
      },
      "text/plain": [
       "Looping Each Links of Dates: 2020-03-29:   0%|          | 0/17 [00:00<?, ?it/s]"
      ]
     },
     "metadata": {},
     "output_type": "display_data"
    },
    {
     "data": {},
     "metadata": {},
     "output_type": "display_data"
    },
    {
     "data": {
      "application/vnd.jupyter.widget-view+json": {
       "model_id": "dc31130ab2bb4030b148c5d82668fb26",
       "version_major": 2,
       "version_minor": 0
      },
      "text/plain": [
       "Looping Each Links of Dates: 2020-03-28:   0%|          | 0/11 [00:00<?, ?it/s]"
      ]
     },
     "metadata": {},
     "output_type": "display_data"
    },
    {
     "data": {},
     "metadata": {},
     "output_type": "display_data"
    },
    {
     "data": {
      "application/vnd.jupyter.widget-view+json": {
       "model_id": "7e37b084aeb94e539d6814f54a775d50",
       "version_major": 2,
       "version_minor": 0
      },
      "text/plain": [
       "Looping Each Links of Dates: 2020-03-27:   0%|          | 0/11 [00:00<?, ?it/s]"
      ]
     },
     "metadata": {},
     "output_type": "display_data"
    },
    {
     "data": {},
     "metadata": {},
     "output_type": "display_data"
    },
    {
     "data": {
      "application/vnd.jupyter.widget-view+json": {
       "model_id": "5a832c55c931497da54d962cedc423ec",
       "version_major": 2,
       "version_minor": 0
      },
      "text/plain": [
       "Looping Each Links of Dates: 2020-03-26:   0%|          | 0/6 [00:00<?, ?it/s]"
      ]
     },
     "metadata": {},
     "output_type": "display_data"
    },
    {
     "data": {},
     "metadata": {},
     "output_type": "display_data"
    },
    {
     "data": {
      "application/vnd.jupyter.widget-view+json": {
       "model_id": "4715b18582e54a5e89f149bba14154f8",
       "version_major": 2,
       "version_minor": 0
      },
      "text/plain": [
       "Looping Each Links of Dates: 2020-03-25:   0%|          | 0/15 [00:00<?, ?it/s]"
      ]
     },
     "metadata": {},
     "output_type": "display_data"
    },
    {
     "data": {},
     "metadata": {},
     "output_type": "display_data"
    },
    {
     "data": {
      "application/vnd.jupyter.widget-view+json": {
       "model_id": "8887ac626b174d5aae28388e6ebdd767",
       "version_major": 2,
       "version_minor": 0
      },
      "text/plain": [
       "Looping Each Links of Dates: 2020-03-24:   0%|          | 0/15 [00:00<?, ?it/s]"
      ]
     },
     "metadata": {},
     "output_type": "display_data"
    },
    {
     "data": {},
     "metadata": {},
     "output_type": "display_data"
    },
    {
     "data": {
      "application/vnd.jupyter.widget-view+json": {
       "model_id": "0744ea0dd6e74410a7323ea198350b84",
       "version_major": 2,
       "version_minor": 0
      },
      "text/plain": [
       "Looping Each Links of Dates: 2020-03-23:   0%|          | 0/17 [00:00<?, ?it/s]"
      ]
     },
     "metadata": {},
     "output_type": "display_data"
    },
    {
     "data": {},
     "metadata": {},
     "output_type": "display_data"
    },
    {
     "data": {
      "application/vnd.jupyter.widget-view+json": {
       "model_id": "9faa2818453a43b0b3ed263efe13d653",
       "version_major": 2,
       "version_minor": 0
      },
      "text/plain": [
       "Looping Each Links of Dates: 2020-03-22:   0%|          | 0/13 [00:00<?, ?it/s]"
      ]
     },
     "metadata": {},
     "output_type": "display_data"
    },
    {
     "data": {},
     "metadata": {},
     "output_type": "display_data"
    },
    {
     "data": {
      "application/vnd.jupyter.widget-view+json": {
       "model_id": "ebda042fa27249dfa0741f1685deef7b",
       "version_major": 2,
       "version_minor": 0
      },
      "text/plain": [
       "Looping Each Links of Dates: 2020-03-21:   0%|          | 0/4 [00:00<?, ?it/s]"
      ]
     },
     "metadata": {},
     "output_type": "display_data"
    },
    {
     "data": {},
     "metadata": {},
     "output_type": "display_data"
    },
    {
     "data": {
      "application/vnd.jupyter.widget-view+json": {
       "model_id": "528bf36fc2c64e89a19780895763477a",
       "version_major": 2,
       "version_minor": 0
      },
      "text/plain": [
       "Looping Each Links of Dates: 2020-03-20:   0%|          | 0/8 [00:00<?, ?it/s]"
      ]
     },
     "metadata": {},
     "output_type": "display_data"
    },
    {
     "data": {},
     "metadata": {},
     "output_type": "display_data"
    },
    {
     "data": {
      "application/vnd.jupyter.widget-view+json": {
       "model_id": "a7c4a0f9205d484daebb03c8a784dc16",
       "version_major": 2,
       "version_minor": 0
      },
      "text/plain": [
       "Looping Each Links of Dates: 2020-03-19:   0%|          | 0/15 [00:00<?, ?it/s]"
      ]
     },
     "metadata": {},
     "output_type": "display_data"
    },
    {
     "data": {},
     "metadata": {},
     "output_type": "display_data"
    },
    {
     "data": {
      "application/vnd.jupyter.widget-view+json": {
       "model_id": "6e7f8aee88dc4c3285f0d31b0b8c7048",
       "version_major": 2,
       "version_minor": 0
      },
      "text/plain": [
       "Looping Each Links of Dates: 2020-03-18:   0%|          | 0/13 [00:00<?, ?it/s]"
      ]
     },
     "metadata": {},
     "output_type": "display_data"
    },
    {
     "data": {},
     "metadata": {},
     "output_type": "display_data"
    },
    {
     "data": {
      "application/vnd.jupyter.widget-view+json": {
       "model_id": "f504b51ea5c24682b0b0ddaa88521eaf",
       "version_major": 2,
       "version_minor": 0
      },
      "text/plain": [
       "Looping Each Links of Dates: 2020-03-17:   0%|          | 0/10 [00:00<?, ?it/s]"
      ]
     },
     "metadata": {},
     "output_type": "display_data"
    },
    {
     "data": {},
     "metadata": {},
     "output_type": "display_data"
    },
    {
     "data": {
      "application/vnd.jupyter.widget-view+json": {
       "model_id": "bd74240714d6475486041146cffd952e",
       "version_major": 2,
       "version_minor": 0
      },
      "text/plain": [
       "Looping Each Links of Dates: 2020-03-16:   0%|          | 0/13 [00:00<?, ?it/s]"
      ]
     },
     "metadata": {},
     "output_type": "display_data"
    },
    {
     "data": {},
     "metadata": {},
     "output_type": "display_data"
    },
    {
     "data": {
      "application/vnd.jupyter.widget-view+json": {
       "model_id": "c0fd1882d56441ab84097685ff66ebc0",
       "version_major": 2,
       "version_minor": 0
      },
      "text/plain": [
       "Looping Each Links of Dates: 2020-03-15:   0%|          | 0/15 [00:00<?, ?it/s]"
      ]
     },
     "metadata": {},
     "output_type": "display_data"
    },
    {
     "data": {},
     "metadata": {},
     "output_type": "display_data"
    },
    {
     "data": {
      "application/vnd.jupyter.widget-view+json": {
       "model_id": "91aca66ed0e7487f87c49768469d0bda",
       "version_major": 2,
       "version_minor": 0
      },
      "text/plain": [
       "Looping Each Links of Dates: 2020-03-14:   0%|          | 0/12 [00:00<?, ?it/s]"
      ]
     },
     "metadata": {},
     "output_type": "display_data"
    },
    {
     "data": {},
     "metadata": {},
     "output_type": "display_data"
    },
    {
     "data": {
      "application/vnd.jupyter.widget-view+json": {
       "model_id": "417ff46973d948ca8656b66f86196c09",
       "version_major": 2,
       "version_minor": 0
      },
      "text/plain": [
       "Looping Each Links of Dates: 2020-03-13:   0%|          | 0/6 [00:00<?, ?it/s]"
      ]
     },
     "metadata": {},
     "output_type": "display_data"
    },
    {
     "data": {},
     "metadata": {},
     "output_type": "display_data"
    },
    {
     "data": {
      "application/vnd.jupyter.widget-view+json": {
       "model_id": "8ae8be72986a4a3c92e893ec2e799ccd",
       "version_major": 2,
       "version_minor": 0
      },
      "text/plain": [
       "Looping Each Links of Dates: 2020-03-12:   0%|          | 0/15 [00:00<?, ?it/s]"
      ]
     },
     "metadata": {},
     "output_type": "display_data"
    },
    {
     "data": {},
     "metadata": {},
     "output_type": "display_data"
    },
    {
     "data": {
      "application/vnd.jupyter.widget-view+json": {
       "model_id": "4f6fba8dd8114c3ab05b8bed706b2148",
       "version_major": 2,
       "version_minor": 0
      },
      "text/plain": [
       "Looping Each Links of Dates: 2020-03-11:   0%|          | 0/15 [00:00<?, ?it/s]"
      ]
     },
     "metadata": {},
     "output_type": "display_data"
    },
    {
     "data": {},
     "metadata": {},
     "output_type": "display_data"
    },
    {
     "data": {
      "application/vnd.jupyter.widget-view+json": {
       "model_id": "2241150235a448c29453e32ab2dbb391",
       "version_major": 2,
       "version_minor": 0
      },
      "text/plain": [
       "Looping Each Links of Dates: 2020-03-10:   0%|          | 0/15 [00:00<?, ?it/s]"
      ]
     },
     "metadata": {},
     "output_type": "display_data"
    },
    {
     "data": {},
     "metadata": {},
     "output_type": "display_data"
    },
    {
     "data": {
      "application/vnd.jupyter.widget-view+json": {
       "model_id": "5173705632b145cdbf6f5b548213b85c",
       "version_major": 2,
       "version_minor": 0
      },
      "text/plain": [
       "Looping Each Links of Dates: 2020-03-09:   0%|          | 0/14 [00:00<?, ?it/s]"
      ]
     },
     "metadata": {},
     "output_type": "display_data"
    },
    {
     "data": {},
     "metadata": {},
     "output_type": "display_data"
    },
    {
     "data": {
      "application/vnd.jupyter.widget-view+json": {
       "model_id": "2d86ce8f617d417c996d03155cd54fec",
       "version_major": 2,
       "version_minor": 0
      },
      "text/plain": [
       "Looping Each Links of Dates: 2020-03-08:   0%|          | 0/15 [00:00<?, ?it/s]"
      ]
     },
     "metadata": {},
     "output_type": "display_data"
    },
    {
     "data": {},
     "metadata": {},
     "output_type": "display_data"
    },
    {
     "data": {
      "application/vnd.jupyter.widget-view+json": {
       "model_id": "ead488b99f52484eaba7465bc79b7874",
       "version_major": 2,
       "version_minor": 0
      },
      "text/plain": [
       "Looping Each Links of Dates: 2020-03-07:   0%|          | 0/7 [00:00<?, ?it/s]"
      ]
     },
     "metadata": {},
     "output_type": "display_data"
    },
    {
     "data": {},
     "metadata": {},
     "output_type": "display_data"
    },
    {
     "data": {
      "application/vnd.jupyter.widget-view+json": {
       "model_id": "c0dee630f723496c807bfc2c40650cad",
       "version_major": 2,
       "version_minor": 0
      },
      "text/plain": [
       "Looping Each Links of Dates: 2020-03-06:   0%|          | 0/11 [00:00<?, ?it/s]"
      ]
     },
     "metadata": {},
     "output_type": "display_data"
    },
    {
     "data": {},
     "metadata": {},
     "output_type": "display_data"
    },
    {
     "data": {
      "application/vnd.jupyter.widget-view+json": {
       "model_id": "c7ce0298d1194d76bb2d80a88a5a67d7",
       "version_major": 2,
       "version_minor": 0
      },
      "text/plain": [
       "Looping Each Links of Dates: 2020-03-05:   0%|          | 0/10 [00:00<?, ?it/s]"
      ]
     },
     "metadata": {},
     "output_type": "display_data"
    },
    {
     "data": {},
     "metadata": {},
     "output_type": "display_data"
    },
    {
     "data": {
      "application/vnd.jupyter.widget-view+json": {
       "model_id": "a7f58a648e6747bbaeaa80a4f3a9dab2",
       "version_major": 2,
       "version_minor": 0
      },
      "text/plain": [
       "Looping Each Links of Dates: 2020-03-04:   0%|          | 0/16 [00:00<?, ?it/s]"
      ]
     },
     "metadata": {},
     "output_type": "display_data"
    },
    {
     "data": {},
     "metadata": {},
     "output_type": "display_data"
    },
    {
     "data": {
      "application/vnd.jupyter.widget-view+json": {
       "model_id": "58dd34110f9c400090c1a9bf665afbcd",
       "version_major": 2,
       "version_minor": 0
      },
      "text/plain": [
       "Looping Each Links of Dates: 2020-03-03:   0%|          | 0/16 [00:00<?, ?it/s]"
      ]
     },
     "metadata": {},
     "output_type": "display_data"
    },
    {
     "data": {},
     "metadata": {},
     "output_type": "display_data"
    },
    {
     "data": {
      "application/vnd.jupyter.widget-view+json": {
       "model_id": "f7ac0d487c4a41f988ede09221d489ef",
       "version_major": 2,
       "version_minor": 0
      },
      "text/plain": [
       "Looping Each Links of Dates: 2020-03-02:   0%|          | 0/16 [00:00<?, ?it/s]"
      ]
     },
     "metadata": {},
     "output_type": "display_data"
    },
    {
     "data": {},
     "metadata": {},
     "output_type": "display_data"
    },
    {
     "data": {
      "application/vnd.jupyter.widget-view+json": {
       "model_id": "3e1c46da15da4b34aa8e1a58f2cdcdf1",
       "version_major": 2,
       "version_minor": 0
      },
      "text/plain": [
       "Looping Each Links of Dates: 2020-03-01:   0%|          | 0/8 [00:00<?, ?it/s]"
      ]
     },
     "metadata": {},
     "output_type": "display_data"
    },
    {
     "data": {},
     "metadata": {},
     "output_type": "display_data"
    },
    {
     "data": {
      "application/vnd.jupyter.widget-view+json": {
       "model_id": "9c927a570f034431aff6a19d32e1fa31",
       "version_major": 2,
       "version_minor": 0
      },
      "text/plain": [
       "Looping Each Links of Dates: 2020-02-29:   0%|          | 0/16 [00:00<?, ?it/s]"
      ]
     },
     "metadata": {},
     "output_type": "display_data"
    },
    {
     "data": {},
     "metadata": {},
     "output_type": "display_data"
    },
    {
     "data": {
      "application/vnd.jupyter.widget-view+json": {
       "model_id": "dd1a92f75a7e47f1b834753910635ed0",
       "version_major": 2,
       "version_minor": 0
      },
      "text/plain": [
       "Looping Each Links of Dates: 2020-02-28:   0%|          | 0/15 [00:00<?, ?it/s]"
      ]
     },
     "metadata": {},
     "output_type": "display_data"
    },
    {
     "data": {},
     "metadata": {},
     "output_type": "display_data"
    },
    {
     "data": {
      "application/vnd.jupyter.widget-view+json": {
       "model_id": "40d8d40a175a4138b6b046e969c389b4",
       "version_major": 2,
       "version_minor": 0
      },
      "text/plain": [
       "Looping Each Links of Dates: 2020-02-27:   0%|          | 0/10 [00:00<?, ?it/s]"
      ]
     },
     "metadata": {},
     "output_type": "display_data"
    },
    {
     "data": {},
     "metadata": {},
     "output_type": "display_data"
    },
    {
     "data": {
      "application/vnd.jupyter.widget-view+json": {
       "model_id": "e89f01fc19654cee8b4a488e5213d51a",
       "version_major": 2,
       "version_minor": 0
      },
      "text/plain": [
       "Looping Each Links of Dates: 2020-02-26:   0%|          | 0/11 [00:00<?, ?it/s]"
      ]
     },
     "metadata": {},
     "output_type": "display_data"
    },
    {
     "data": {},
     "metadata": {},
     "output_type": "display_data"
    },
    {
     "data": {
      "application/vnd.jupyter.widget-view+json": {
       "model_id": "0b19e3c80e8d43f7902809fb635bcb6c",
       "version_major": 2,
       "version_minor": 0
      },
      "text/plain": [
       "Looping Each Links of Dates: 2020-02-25:   0%|          | 0/16 [00:00<?, ?it/s]"
      ]
     },
     "metadata": {},
     "output_type": "display_data"
    },
    {
     "data": {},
     "metadata": {},
     "output_type": "display_data"
    },
    {
     "data": {
      "application/vnd.jupyter.widget-view+json": {
       "model_id": "ec6b360712bb4d3986d9b909107a3cb6",
       "version_major": 2,
       "version_minor": 0
      },
      "text/plain": [
       "Looping Each Links of Dates: 2020-02-24:   0%|          | 0/13 [00:00<?, ?it/s]"
      ]
     },
     "metadata": {},
     "output_type": "display_data"
    },
    {
     "data": {},
     "metadata": {},
     "output_type": "display_data"
    },
    {
     "data": {
      "application/vnd.jupyter.widget-view+json": {
       "model_id": "d05320c7aabf4162a399758f16e633fe",
       "version_major": 2,
       "version_minor": 0
      },
      "text/plain": [
       "Looping Each Links of Dates: 2020-02-23:   0%|          | 0/5 [00:00<?, ?it/s]"
      ]
     },
     "metadata": {},
     "output_type": "display_data"
    },
    {
     "data": {},
     "metadata": {},
     "output_type": "display_data"
    },
    {
     "data": {
      "application/vnd.jupyter.widget-view+json": {
       "model_id": "32a803829c9b4d88a03c8a48b2e19faf",
       "version_major": 2,
       "version_minor": 0
      },
      "text/plain": [
       "Looping Each Links of Dates: 2020-02-22:   0%|          | 0/10 [00:00<?, ?it/s]"
      ]
     },
     "metadata": {},
     "output_type": "display_data"
    },
    {
     "data": {},
     "metadata": {},
     "output_type": "display_data"
    },
    {
     "data": {
      "application/vnd.jupyter.widget-view+json": {
       "model_id": "9ec561e917ca44d4b7064edb05b9cfb7",
       "version_major": 2,
       "version_minor": 0
      },
      "text/plain": [
       "Looping Each Links of Dates: 2020-02-21:   0%|          | 0/12 [00:00<?, ?it/s]"
      ]
     },
     "metadata": {},
     "output_type": "display_data"
    },
    {
     "data": {},
     "metadata": {},
     "output_type": "display_data"
    },
    {
     "data": {
      "application/vnd.jupyter.widget-view+json": {
       "model_id": "2e4031ce786c4833961904bc9c0d4cbe",
       "version_major": 2,
       "version_minor": 0
      },
      "text/plain": [
       "Looping Each Links of Dates: 2020-02-20:   0%|          | 0/9 [00:00<?, ?it/s]"
      ]
     },
     "metadata": {},
     "output_type": "display_data"
    },
    {
     "data": {},
     "metadata": {},
     "output_type": "display_data"
    },
    {
     "data": {
      "application/vnd.jupyter.widget-view+json": {
       "model_id": "8d244adf68254d0987a981e775bb8cba",
       "version_major": 2,
       "version_minor": 0
      },
      "text/plain": [
       "Looping Each Links of Dates: 2020-02-19:   0%|          | 0/8 [00:00<?, ?it/s]"
      ]
     },
     "metadata": {},
     "output_type": "display_data"
    },
    {
     "data": {},
     "metadata": {},
     "output_type": "display_data"
    },
    {
     "data": {
      "application/vnd.jupyter.widget-view+json": {
       "model_id": "086bd908af4e46c0badde4b15827f9d3",
       "version_major": 2,
       "version_minor": 0
      },
      "text/plain": [
       "Looping Each Links of Dates: 2020-02-18:   0%|          | 0/12 [00:00<?, ?it/s]"
      ]
     },
     "metadata": {},
     "output_type": "display_data"
    },
    {
     "data": {},
     "metadata": {},
     "output_type": "display_data"
    },
    {
     "data": {
      "application/vnd.jupyter.widget-view+json": {
       "model_id": "ef409d528837420ba8e2c907758ceb93",
       "version_major": 2,
       "version_minor": 0
      },
      "text/plain": [
       "Looping Each Links of Dates: 2020-02-17:   0%|          | 0/11 [00:00<?, ?it/s]"
      ]
     },
     "metadata": {},
     "output_type": "display_data"
    },
    {
     "data": {},
     "metadata": {},
     "output_type": "display_data"
    },
    {
     "data": {
      "application/vnd.jupyter.widget-view+json": {
       "model_id": "da59e33894a7468ea3a66f958aa460c7",
       "version_major": 2,
       "version_minor": 0
      },
      "text/plain": [
       "Looping Each Links of Dates: 2020-02-16:   0%|          | 0/15 [00:00<?, ?it/s]"
      ]
     },
     "metadata": {},
     "output_type": "display_data"
    },
    {
     "data": {},
     "metadata": {},
     "output_type": "display_data"
    },
    {
     "data": {
      "application/vnd.jupyter.widget-view+json": {
       "model_id": "5e7d2ae51fb64e7c83cc95040b22b7e7",
       "version_major": 2,
       "version_minor": 0
      },
      "text/plain": [
       "Looping Each Links of Dates: 2020-02-15:   0%|          | 0/8 [00:00<?, ?it/s]"
      ]
     },
     "metadata": {},
     "output_type": "display_data"
    },
    {
     "data": {},
     "metadata": {},
     "output_type": "display_data"
    },
    {
     "data": {
      "application/vnd.jupyter.widget-view+json": {
       "model_id": "0db0ab24c6ce45ef95aa933049c41ec6",
       "version_major": 2,
       "version_minor": 0
      },
      "text/plain": [
       "Looping Each Links of Dates: 2020-02-14:   0%|          | 0/6 [00:00<?, ?it/s]"
      ]
     },
     "metadata": {},
     "output_type": "display_data"
    },
    {
     "data": {},
     "metadata": {},
     "output_type": "display_data"
    },
    {
     "data": {
      "application/vnd.jupyter.widget-view+json": {
       "model_id": "18bbe3c642a24dfcb9661d8b14e63245",
       "version_major": 2,
       "version_minor": 0
      },
      "text/plain": [
       "Looping Each Links of Dates: 2020-02-13:   0%|          | 0/13 [00:00<?, ?it/s]"
      ]
     },
     "metadata": {},
     "output_type": "display_data"
    },
    {
     "data": {},
     "metadata": {},
     "output_type": "display_data"
    },
    {
     "data": {
      "application/vnd.jupyter.widget-view+json": {
       "model_id": "c994b12776cf4587b1383ad71329f77d",
       "version_major": 2,
       "version_minor": 0
      },
      "text/plain": [
       "Looping Each Links of Dates: 2020-02-12:   0%|          | 0/11 [00:00<?, ?it/s]"
      ]
     },
     "metadata": {},
     "output_type": "display_data"
    },
    {
     "data": {},
     "metadata": {},
     "output_type": "display_data"
    },
    {
     "data": {
      "application/vnd.jupyter.widget-view+json": {
       "model_id": "3baf085d008548c2872dff36fa981e72",
       "version_major": 2,
       "version_minor": 0
      },
      "text/plain": [
       "Looping Each Links of Dates: 2020-02-11:   0%|          | 0/10 [00:00<?, ?it/s]"
      ]
     },
     "metadata": {},
     "output_type": "display_data"
    },
    {
     "data": {},
     "metadata": {},
     "output_type": "display_data"
    },
    {
     "data": {
      "application/vnd.jupyter.widget-view+json": {
       "model_id": "d2b7d17e7df84a20865dc7b0f10cbdd5",
       "version_major": 2,
       "version_minor": 0
      },
      "text/plain": [
       "Looping Each Links of Dates: 2020-02-10:   0%|          | 0/11 [00:00<?, ?it/s]"
      ]
     },
     "metadata": {},
     "output_type": "display_data"
    },
    {
     "data": {},
     "metadata": {},
     "output_type": "display_data"
    },
    {
     "data": {
      "application/vnd.jupyter.widget-view+json": {
       "model_id": "68f637d7300f4cba9f158c3d42db311d",
       "version_major": 2,
       "version_minor": 0
      },
      "text/plain": [
       "Looping Each Links of Dates: 2020-02-09:   0%|          | 0/10 [00:00<?, ?it/s]"
      ]
     },
     "metadata": {},
     "output_type": "display_data"
    },
    {
     "data": {},
     "metadata": {},
     "output_type": "display_data"
    },
    {
     "data": {
      "application/vnd.jupyter.widget-view+json": {
       "model_id": "22b8edb40aae48cf9806fbb61d756f44",
       "version_major": 2,
       "version_minor": 0
      },
      "text/plain": [
       "Looping Each Links of Dates: 2020-02-08:   0%|          | 0/10 [00:00<?, ?it/s]"
      ]
     },
     "metadata": {},
     "output_type": "display_data"
    },
    {
     "data": {},
     "metadata": {},
     "output_type": "display_data"
    },
    {
     "data": {
      "application/vnd.jupyter.widget-view+json": {
       "model_id": "423f1caa76da4821bb3d5ffe5ad038f4",
       "version_major": 2,
       "version_minor": 0
      },
      "text/plain": [
       "Looping Each Links of Dates: 2020-02-07:   0%|          | 0/11 [00:00<?, ?it/s]"
      ]
     },
     "metadata": {},
     "output_type": "display_data"
    },
    {
     "data": {},
     "metadata": {},
     "output_type": "display_data"
    },
    {
     "data": {
      "application/vnd.jupyter.widget-view+json": {
       "model_id": "bce9d0e135eb426ead34f9f552864b1e",
       "version_major": 2,
       "version_minor": 0
      },
      "text/plain": [
       "Looping Each Links of Dates: 2020-02-06:   0%|          | 0/14 [00:00<?, ?it/s]"
      ]
     },
     "metadata": {},
     "output_type": "display_data"
    },
    {
     "data": {},
     "metadata": {},
     "output_type": "display_data"
    },
    {
     "data": {
      "application/vnd.jupyter.widget-view+json": {
       "model_id": "24e85e91f71d476c87eb1f7307f440ae",
       "version_major": 2,
       "version_minor": 0
      },
      "text/plain": [
       "Looping Each Links of Dates: 2020-02-05:   0%|          | 0/13 [00:00<?, ?it/s]"
      ]
     },
     "metadata": {},
     "output_type": "display_data"
    },
    {
     "data": {},
     "metadata": {},
     "output_type": "display_data"
    },
    {
     "data": {
      "application/vnd.jupyter.widget-view+json": {
       "model_id": "86b5bb1d5a344d0188e6cb980a2ed884",
       "version_major": 2,
       "version_minor": 0
      },
      "text/plain": [
       "Looping Each Links of Dates: 2020-02-04:   0%|          | 0/12 [00:00<?, ?it/s]"
      ]
     },
     "metadata": {},
     "output_type": "display_data"
    },
    {
     "data": {},
     "metadata": {},
     "output_type": "display_data"
    },
    {
     "data": {
      "application/vnd.jupyter.widget-view+json": {
       "model_id": "ed60733e4f304a4bbd32745f6118dac0",
       "version_major": 2,
       "version_minor": 0
      },
      "text/plain": [
       "Looping Each Links of Dates: 2020-02-03:   0%|          | 0/12 [00:00<?, ?it/s]"
      ]
     },
     "metadata": {},
     "output_type": "display_data"
    },
    {
     "data": {},
     "metadata": {},
     "output_type": "display_data"
    },
    {
     "data": {
      "application/vnd.jupyter.widget-view+json": {
       "model_id": "01494b83bc0e4b18a64dc594c07fb5cf",
       "version_major": 2,
       "version_minor": 0
      },
      "text/plain": [
       "Looping Each Links of Dates: 2020-02-02:   0%|          | 0/6 [00:00<?, ?it/s]"
      ]
     },
     "metadata": {},
     "output_type": "display_data"
    },
    {
     "data": {},
     "metadata": {},
     "output_type": "display_data"
    },
    {
     "data": {
      "application/vnd.jupyter.widget-view+json": {
       "model_id": "b18ddb36bd5748af83f00865e26f20f2",
       "version_major": 2,
       "version_minor": 0
      },
      "text/plain": [
       "Looping Each Links of Dates: 2020-02-01:   0%|          | 0/12 [00:00<?, ?it/s]"
      ]
     },
     "metadata": {},
     "output_type": "display_data"
    },
    {
     "data": {},
     "metadata": {},
     "output_type": "display_data"
    },
    {
     "data": {
      "application/vnd.jupyter.widget-view+json": {
       "model_id": "568fac637656406aaee7e6a2c25713e3",
       "version_major": 2,
       "version_minor": 0
      },
      "text/plain": [
       "Looping Each Links of Dates: 2020-01-31:   0%|          | 0/11 [00:00<?, ?it/s]"
      ]
     },
     "metadata": {},
     "output_type": "display_data"
    },
    {
     "data": {},
     "metadata": {},
     "output_type": "display_data"
    },
    {
     "data": {
      "application/vnd.jupyter.widget-view+json": {
       "model_id": "ac1390bbe79945b5b4015a385ca9c24a",
       "version_major": 2,
       "version_minor": 0
      },
      "text/plain": [
       "Looping Each Links of Dates: 2020-01-30:   0%|          | 0/10 [00:00<?, ?it/s]"
      ]
     },
     "metadata": {},
     "output_type": "display_data"
    },
    {
     "data": {},
     "metadata": {},
     "output_type": "display_data"
    },
    {
     "data": {
      "application/vnd.jupyter.widget-view+json": {
       "model_id": "7691e9cc84ab47e0b9ea62ebbf5a604c",
       "version_major": 2,
       "version_minor": 0
      },
      "text/plain": [
       "Looping Each Links of Dates: 2020-01-29:   0%|          | 0/15 [00:00<?, ?it/s]"
      ]
     },
     "metadata": {},
     "output_type": "display_data"
    },
    {
     "data": {},
     "metadata": {},
     "output_type": "display_data"
    },
    {
     "data": {
      "application/vnd.jupyter.widget-view+json": {
       "model_id": "5e7e3803d9b84f798aa5126ba24ca1cd",
       "version_major": 2,
       "version_minor": 0
      },
      "text/plain": [
       "Looping Each Links of Dates: 2020-01-28:   0%|          | 0/7 [00:00<?, ?it/s]"
      ]
     },
     "metadata": {},
     "output_type": "display_data"
    },
    {
     "data": {},
     "metadata": {},
     "output_type": "display_data"
    },
    {
     "data": {
      "application/vnd.jupyter.widget-view+json": {
       "model_id": "10af4e2fecce4bed904a6e146c05b7f8",
       "version_major": 2,
       "version_minor": 0
      },
      "text/plain": [
       "Looping Each Links of Dates: 2020-01-27:   0%|          | 0/9 [00:00<?, ?it/s]"
      ]
     },
     "metadata": {},
     "output_type": "display_data"
    },
    {
     "data": {},
     "metadata": {},
     "output_type": "display_data"
    },
    {
     "data": {
      "application/vnd.jupyter.widget-view+json": {
       "model_id": "b017bee9a57145b483fa78ea2abd11a5",
       "version_major": 2,
       "version_minor": 0
      },
      "text/plain": [
       "Looping Each Links of Dates: 2020-01-26:   0%|          | 0/9 [00:00<?, ?it/s]"
      ]
     },
     "metadata": {},
     "output_type": "display_data"
    },
    {
     "data": {},
     "metadata": {},
     "output_type": "display_data"
    },
    {
     "data": {
      "application/vnd.jupyter.widget-view+json": {
       "model_id": "cc960fbc694c4fd6b85f82305dde5b2c",
       "version_major": 2,
       "version_minor": 0
      },
      "text/plain": [
       "Looping Each Links of Dates: 2020-01-25:   0%|          | 0/14 [00:00<?, ?it/s]"
      ]
     },
     "metadata": {},
     "output_type": "display_data"
    },
    {
     "data": {},
     "metadata": {},
     "output_type": "display_data"
    },
    {
     "data": {
      "application/vnd.jupyter.widget-view+json": {
       "model_id": "407c23e6d2cd4035a5a6a51e3c45f018",
       "version_major": 2,
       "version_minor": 0
      },
      "text/plain": [
       "Looping Each Links of Dates: 2020-01-24:   0%|          | 0/10 [00:00<?, ?it/s]"
      ]
     },
     "metadata": {},
     "output_type": "display_data"
    },
    {
     "data": {},
     "metadata": {},
     "output_type": "display_data"
    },
    {
     "data": {
      "application/vnd.jupyter.widget-view+json": {
       "model_id": "b39ffd2070984ff4b1bd5aa7ad1f7a47",
       "version_major": 2,
       "version_minor": 0
      },
      "text/plain": [
       "Looping Each Links of Dates: 2020-01-23:   0%|          | 0/11 [00:00<?, ?it/s]"
      ]
     },
     "metadata": {},
     "output_type": "display_data"
    },
    {
     "data": {},
     "metadata": {},
     "output_type": "display_data"
    },
    {
     "data": {
      "application/vnd.jupyter.widget-view+json": {
       "model_id": "849ffafafb754d89ab23b40e5af0d852",
       "version_major": 2,
       "version_minor": 0
      },
      "text/plain": [
       "Looping Each Links of Dates: 2020-01-22:   0%|          | 0/12 [00:00<?, ?it/s]"
      ]
     },
     "metadata": {},
     "output_type": "display_data"
    },
    {
     "data": {},
     "metadata": {},
     "output_type": "display_data"
    },
    {
     "data": {
      "application/vnd.jupyter.widget-view+json": {
       "model_id": "22f6177ea65046b8bdf1fa0d973898f7",
       "version_major": 2,
       "version_minor": 0
      },
      "text/plain": [
       "Looping Each Links of Dates: 2020-01-21:   0%|          | 0/10 [00:00<?, ?it/s]"
      ]
     },
     "metadata": {},
     "output_type": "display_data"
    },
    {
     "data": {},
     "metadata": {},
     "output_type": "display_data"
    },
    {
     "data": {
      "application/vnd.jupyter.widget-view+json": {
       "model_id": "f87c6392fdba41458255cd196381c1c4",
       "version_major": 2,
       "version_minor": 0
      },
      "text/plain": [
       "Looping Each Links of Dates: 2020-01-20:   0%|          | 0/13 [00:00<?, ?it/s]"
      ]
     },
     "metadata": {},
     "output_type": "display_data"
    },
    {
     "data": {},
     "metadata": {},
     "output_type": "display_data"
    },
    {
     "data": {
      "application/vnd.jupyter.widget-view+json": {
       "model_id": "048d03a6fb634680ac7e054271b818af",
       "version_major": 2,
       "version_minor": 0
      },
      "text/plain": [
       "Looping Each Links of Dates: 2020-01-19:   0%|          | 0/9 [00:00<?, ?it/s]"
      ]
     },
     "metadata": {},
     "output_type": "display_data"
    },
    {
     "data": {},
     "metadata": {},
     "output_type": "display_data"
    },
    {
     "data": {
      "application/vnd.jupyter.widget-view+json": {
       "model_id": "20bbedeff1764a21979b816af9b5da0c",
       "version_major": 2,
       "version_minor": 0
      },
      "text/plain": [
       "Looping Each Links of Dates: 2020-01-18:   0%|          | 0/7 [00:00<?, ?it/s]"
      ]
     },
     "metadata": {},
     "output_type": "display_data"
    },
    {
     "data": {},
     "metadata": {},
     "output_type": "display_data"
    },
    {
     "data": {
      "application/vnd.jupyter.widget-view+json": {
       "model_id": "07d19200537b499cbe65079ad367b4fb",
       "version_major": 2,
       "version_minor": 0
      },
      "text/plain": [
       "Looping Each Links of Dates: 2020-01-17:   0%|          | 0/7 [00:00<?, ?it/s]"
      ]
     },
     "metadata": {},
     "output_type": "display_data"
    },
    {
     "data": {},
     "metadata": {},
     "output_type": "display_data"
    },
    {
     "data": {
      "application/vnd.jupyter.widget-view+json": {
       "model_id": "11949b6af7634ba9aad4f33b21c3d3cd",
       "version_major": 2,
       "version_minor": 0
      },
      "text/plain": [
       "Looping Each Links of Dates: 2020-01-16:   0%|          | 0/15 [00:00<?, ?it/s]"
      ]
     },
     "metadata": {},
     "output_type": "display_data"
    },
    {
     "data": {},
     "metadata": {},
     "output_type": "display_data"
    },
    {
     "data": {
      "application/vnd.jupyter.widget-view+json": {
       "model_id": "b948c7d59cd540ad9e9a2bf93c813bb2",
       "version_major": 2,
       "version_minor": 0
      },
      "text/plain": [
       "Looping Each Links of Dates: 2020-01-15:   0%|          | 0/9 [00:00<?, ?it/s]"
      ]
     },
     "metadata": {},
     "output_type": "display_data"
    },
    {
     "data": {},
     "metadata": {},
     "output_type": "display_data"
    },
    {
     "data": {
      "application/vnd.jupyter.widget-view+json": {
       "model_id": "61dd9672860a40128352d05a6eff47d6",
       "version_major": 2,
       "version_minor": 0
      },
      "text/plain": [
       "Looping Each Links of Dates: 2020-01-14:   0%|          | 0/15 [00:00<?, ?it/s]"
      ]
     },
     "metadata": {},
     "output_type": "display_data"
    },
    {
     "data": {},
     "metadata": {},
     "output_type": "display_data"
    },
    {
     "data": {
      "application/vnd.jupyter.widget-view+json": {
       "model_id": "c827f57a55bd47078af3d526f97afc12",
       "version_major": 2,
       "version_minor": 0
      },
      "text/plain": [
       "Looping Each Links of Dates: 2020-01-13:   0%|          | 0/12 [00:00<?, ?it/s]"
      ]
     },
     "metadata": {},
     "output_type": "display_data"
    },
    {
     "data": {},
     "metadata": {},
     "output_type": "display_data"
    },
    {
     "data": {
      "application/vnd.jupyter.widget-view+json": {
       "model_id": "db026153fb80417182ef122e2406ca5d",
       "version_major": 2,
       "version_minor": 0
      },
      "text/plain": [
       "Looping Each Links of Dates: 2020-01-12:   0%|          | 0/13 [00:00<?, ?it/s]"
      ]
     },
     "metadata": {},
     "output_type": "display_data"
    },
    {
     "data": {},
     "metadata": {},
     "output_type": "display_data"
    },
    {
     "data": {
      "application/vnd.jupyter.widget-view+json": {
       "model_id": "52573ddd7b754e9c95838166e8295982",
       "version_major": 2,
       "version_minor": 0
      },
      "text/plain": [
       "Looping Each Links of Dates: 2020-01-11:   0%|          | 0/12 [00:00<?, ?it/s]"
      ]
     },
     "metadata": {},
     "output_type": "display_data"
    },
    {
     "data": {},
     "metadata": {},
     "output_type": "display_data"
    },
    {
     "data": {
      "application/vnd.jupyter.widget-view+json": {
       "model_id": "52aadbf12f584b14bfe220ac5f87480f",
       "version_major": 2,
       "version_minor": 0
      },
      "text/plain": [
       "Looping Each Links of Dates: 2020-01-10:   0%|          | 0/11 [00:00<?, ?it/s]"
      ]
     },
     "metadata": {},
     "output_type": "display_data"
    },
    {
     "data": {},
     "metadata": {},
     "output_type": "display_data"
    },
    {
     "data": {
      "application/vnd.jupyter.widget-view+json": {
       "model_id": "44d311cf16d94ac290e446f0f14c3269",
       "version_major": 2,
       "version_minor": 0
      },
      "text/plain": [
       "Looping Each Links of Dates: 2020-01-09:   0%|          | 0/17 [00:00<?, ?it/s]"
      ]
     },
     "metadata": {},
     "output_type": "display_data"
    },
    {
     "data": {},
     "metadata": {},
     "output_type": "display_data"
    },
    {
     "data": {
      "application/vnd.jupyter.widget-view+json": {
       "model_id": "eed297ba60b4466c92b3e244c555b91b",
       "version_major": 2,
       "version_minor": 0
      },
      "text/plain": [
       "Looping Each Links of Dates: 2020-01-08:   0%|          | 0/10 [00:00<?, ?it/s]"
      ]
     },
     "metadata": {},
     "output_type": "display_data"
    },
    {
     "data": {},
     "metadata": {},
     "output_type": "display_data"
    },
    {
     "data": {
      "application/vnd.jupyter.widget-view+json": {
       "model_id": "6edf35b40956489980ca9749734a7f76",
       "version_major": 2,
       "version_minor": 0
      },
      "text/plain": [
       "Looping Each Links of Dates: 2020-01-07:   0%|          | 0/16 [00:00<?, ?it/s]"
      ]
     },
     "metadata": {},
     "output_type": "display_data"
    },
    {
     "data": {},
     "metadata": {},
     "output_type": "display_data"
    },
    {
     "data": {
      "application/vnd.jupyter.widget-view+json": {
       "model_id": "d204ab3c6bd14d19ab5b160fb726249f",
       "version_major": 2,
       "version_minor": 0
      },
      "text/plain": [
       "Looping Each Links of Dates: 2020-01-06:   0%|          | 0/9 [00:00<?, ?it/s]"
      ]
     },
     "metadata": {},
     "output_type": "display_data"
    },
    {
     "data": {},
     "metadata": {},
     "output_type": "display_data"
    },
    {
     "data": {
      "application/vnd.jupyter.widget-view+json": {
       "model_id": "006481e731b04a6fa708266f365f2523",
       "version_major": 2,
       "version_minor": 0
      },
      "text/plain": [
       "Looping Each Links of Dates: 2020-01-05:   0%|          | 0/13 [00:00<?, ?it/s]"
      ]
     },
     "metadata": {},
     "output_type": "display_data"
    },
    {
     "data": {},
     "metadata": {},
     "output_type": "display_data"
    },
    {
     "data": {
      "application/vnd.jupyter.widget-view+json": {
       "model_id": "9fac11718d1e45299499f5355dc0179a",
       "version_major": 2,
       "version_minor": 0
      },
      "text/plain": [
       "Looping Each Links of Dates: 2020-01-04:   0%|          | 0/11 [00:00<?, ?it/s]"
      ]
     },
     "metadata": {},
     "output_type": "display_data"
    },
    {
     "data": {},
     "metadata": {},
     "output_type": "display_data"
    },
    {
     "data": {
      "application/vnd.jupyter.widget-view+json": {
       "model_id": "c78e274bbc8c4d018729fa059535e916",
       "version_major": 2,
       "version_minor": 0
      },
      "text/plain": [
       "Looping Each Links of Dates: 2020-01-03:   0%|          | 0/11 [00:00<?, ?it/s]"
      ]
     },
     "metadata": {},
     "output_type": "display_data"
    },
    {
     "data": {},
     "metadata": {},
     "output_type": "display_data"
    },
    {
     "data": {
      "application/vnd.jupyter.widget-view+json": {
       "model_id": "cec2fb8c7442481ebfad24fee5c91660",
       "version_major": 2,
       "version_minor": 0
      },
      "text/plain": [
       "Looping Each Links of Dates: 2020-01-02:   0%|          | 0/12 [00:00<?, ?it/s]"
      ]
     },
     "metadata": {},
     "output_type": "display_data"
    },
    {
     "data": {},
     "metadata": {},
     "output_type": "display_data"
    },
    {
     "data": {
      "application/vnd.jupyter.widget-view+json": {
       "model_id": "048f53dff4164c649af8eda4b0d1a236",
       "version_major": 2,
       "version_minor": 0
      },
      "text/plain": [
       "Looping Each Links of Dates: 2020-01-01:   0%|          | 0/10 [00:00<?, ?it/s]"
      ]
     },
     "metadata": {},
     "output_type": "display_data"
    },
    {
     "data": {},
     "metadata": {},
     "output_type": "display_data"
    },
    {
     "data": {
      "application/vnd.jupyter.widget-view+json": {
       "model_id": "a07402bce0954e9b86124154ba8a37d4",
       "version_major": 2,
       "version_minor": 0
      },
      "text/plain": [
       "Looping Each Links of Dates: 2019-12-31:   0%|          | 0/13 [00:00<?, ?it/s]"
      ]
     },
     "metadata": {},
     "output_type": "display_data"
    },
    {
     "data": {},
     "metadata": {},
     "output_type": "display_data"
    },
    {
     "data": {
      "application/vnd.jupyter.widget-view+json": {
       "model_id": "01237320718c4502b93d3d5d4cf01b4f",
       "version_major": 2,
       "version_minor": 0
      },
      "text/plain": [
       "Looping Each Links of Dates: 2019-12-30:   0%|          | 0/15 [00:00<?, ?it/s]"
      ]
     },
     "metadata": {},
     "output_type": "display_data"
    },
    {
     "data": {},
     "metadata": {},
     "output_type": "display_data"
    },
    {
     "data": {
      "application/vnd.jupyter.widget-view+json": {
       "model_id": "246cbb932ac64049a4582d47494c6fb1",
       "version_major": 2,
       "version_minor": 0
      },
      "text/plain": [
       "Looping Each Links of Dates: 2019-12-29:   0%|          | 0/15 [00:00<?, ?it/s]"
      ]
     },
     "metadata": {},
     "output_type": "display_data"
    },
    {
     "data": {},
     "metadata": {},
     "output_type": "display_data"
    },
    {
     "data": {
      "application/vnd.jupyter.widget-view+json": {
       "model_id": "e80ff4ef23bf4989ab842a6f85b11ad0",
       "version_major": 2,
       "version_minor": 0
      },
      "text/plain": [
       "Looping Each Links of Dates: 2019-12-28:   0%|          | 0/11 [00:00<?, ?it/s]"
      ]
     },
     "metadata": {},
     "output_type": "display_data"
    },
    {
     "data": {},
     "metadata": {},
     "output_type": "display_data"
    },
    {
     "data": {
      "application/vnd.jupyter.widget-view+json": {
       "model_id": "60e75f72617b4a9c99923ecf59d1d82c",
       "version_major": 2,
       "version_minor": 0
      },
      "text/plain": [
       "Looping Each Links of Dates: 2019-12-27:   0%|          | 0/9 [00:00<?, ?it/s]"
      ]
     },
     "metadata": {},
     "output_type": "display_data"
    },
    {
     "data": {},
     "metadata": {},
     "output_type": "display_data"
    },
    {
     "data": {
      "application/vnd.jupyter.widget-view+json": {
       "model_id": "1d704cfad5674328a3dbbd92bf0f4ab0",
       "version_major": 2,
       "version_minor": 0
      },
      "text/plain": [
       "Looping Each Links of Dates: 2019-12-26:   0%|          | 0/14 [00:00<?, ?it/s]"
      ]
     },
     "metadata": {},
     "output_type": "display_data"
    },
    {
     "data": {},
     "metadata": {},
     "output_type": "display_data"
    },
    {
     "data": {
      "application/vnd.jupyter.widget-view+json": {
       "model_id": "57ab330ec07f45d2b10caf72234ad7bc",
       "version_major": 2,
       "version_minor": 0
      },
      "text/plain": [
       "Looping Each Links of Dates: 2019-12-25:   0%|          | 0/16 [00:00<?, ?it/s]"
      ]
     },
     "metadata": {},
     "output_type": "display_data"
    },
    {
     "data": {},
     "metadata": {},
     "output_type": "display_data"
    },
    {
     "data": {
      "application/vnd.jupyter.widget-view+json": {
       "model_id": "6b64fbc0d68f46e6b24b9c6491b43cc2",
       "version_major": 2,
       "version_minor": 0
      },
      "text/plain": [
       "Looping Each Links of Dates: 2019-12-24:   0%|          | 0/12 [00:00<?, ?it/s]"
      ]
     },
     "metadata": {},
     "output_type": "display_data"
    },
    {
     "data": {},
     "metadata": {},
     "output_type": "display_data"
    },
    {
     "data": {
      "application/vnd.jupyter.widget-view+json": {
       "model_id": "8f74aa836e644e4b8f7114a83e5482a2",
       "version_major": 2,
       "version_minor": 0
      },
      "text/plain": [
       "Looping Each Links of Dates: 2019-12-23:   0%|          | 0/13 [00:00<?, ?it/s]"
      ]
     },
     "metadata": {},
     "output_type": "display_data"
    },
    {
     "data": {},
     "metadata": {},
     "output_type": "display_data"
    },
    {
     "data": {
      "application/vnd.jupyter.widget-view+json": {
       "model_id": "cb5a2b9e51244106a4df99ada1755416",
       "version_major": 2,
       "version_minor": 0
      },
      "text/plain": [
       "Looping Each Links of Dates: 2019-12-22:   0%|          | 0/15 [00:00<?, ?it/s]"
      ]
     },
     "metadata": {},
     "output_type": "display_data"
    },
    {
     "data": {},
     "metadata": {},
     "output_type": "display_data"
    },
    {
     "data": {
      "application/vnd.jupyter.widget-view+json": {
       "model_id": "a9c5f72639744170964cbb17e15c2501",
       "version_major": 2,
       "version_minor": 0
      },
      "text/plain": [
       "Looping Each Links of Dates: 2019-12-21:   0%|          | 0/7 [00:00<?, ?it/s]"
      ]
     },
     "metadata": {},
     "output_type": "display_data"
    },
    {
     "data": {},
     "metadata": {},
     "output_type": "display_data"
    },
    {
     "data": {
      "application/vnd.jupyter.widget-view+json": {
       "model_id": "c0c86e2c155d420fa133202143c578ea",
       "version_major": 2,
       "version_minor": 0
      },
      "text/plain": [
       "Looping Each Links of Dates: 2019-12-20:   0%|          | 0/9 [00:00<?, ?it/s]"
      ]
     },
     "metadata": {},
     "output_type": "display_data"
    },
    {
     "data": {},
     "metadata": {},
     "output_type": "display_data"
    },
    {
     "data": {
      "application/vnd.jupyter.widget-view+json": {
       "model_id": "70a4e007cc784c058f85576c44f863e6",
       "version_major": 2,
       "version_minor": 0
      },
      "text/plain": [
       "Looping Each Links of Dates: 2019-12-19:   0%|          | 0/15 [00:00<?, ?it/s]"
      ]
     },
     "metadata": {},
     "output_type": "display_data"
    },
    {
     "data": {},
     "metadata": {},
     "output_type": "display_data"
    },
    {
     "data": {
      "application/vnd.jupyter.widget-view+json": {
       "model_id": "3a2378a3759e4f3ca143d16da395188d",
       "version_major": 2,
       "version_minor": 0
      },
      "text/plain": [
       "Looping Each Links of Dates: 2019-12-18:   0%|          | 0/13 [00:00<?, ?it/s]"
      ]
     },
     "metadata": {},
     "output_type": "display_data"
    },
    {
     "data": {},
     "metadata": {},
     "output_type": "display_data"
    },
    {
     "data": {
      "application/vnd.jupyter.widget-view+json": {
       "model_id": "8ab9e0f6493742f5825377dae6d11049",
       "version_major": 2,
       "version_minor": 0
      },
      "text/plain": [
       "Looping Each Links of Dates: 2019-12-17:   0%|          | 0/9 [00:00<?, ?it/s]"
      ]
     },
     "metadata": {},
     "output_type": "display_data"
    },
    {
     "data": {},
     "metadata": {},
     "output_type": "display_data"
    },
    {
     "data": {
      "application/vnd.jupyter.widget-view+json": {
       "model_id": "d1b8124d329d46848f6632a10466f7a7",
       "version_major": 2,
       "version_minor": 0
      },
      "text/plain": [
       "Looping Each Links of Dates: 2019-12-16:   0%|          | 0/10 [00:00<?, ?it/s]"
      ]
     },
     "metadata": {},
     "output_type": "display_data"
    },
    {
     "data": {},
     "metadata": {},
     "output_type": "display_data"
    },
    {
     "data": {
      "application/vnd.jupyter.widget-view+json": {
       "model_id": "d2e7f81abce5459f8c940d1a6359afea",
       "version_major": 2,
       "version_minor": 0
      },
      "text/plain": [
       "Looping Each Links of Dates: 2019-12-15:   0%|          | 0/8 [00:00<?, ?it/s]"
      ]
     },
     "metadata": {},
     "output_type": "display_data"
    },
    {
     "data": {},
     "metadata": {},
     "output_type": "display_data"
    },
    {
     "data": {
      "application/vnd.jupyter.widget-view+json": {
       "model_id": "d48ed147d6d946b582039443b0e3585f",
       "version_major": 2,
       "version_minor": 0
      },
      "text/plain": [
       "Looping Each Links of Dates: 2019-12-14:   0%|          | 0/10 [00:00<?, ?it/s]"
      ]
     },
     "metadata": {},
     "output_type": "display_data"
    },
    {
     "data": {},
     "metadata": {},
     "output_type": "display_data"
    },
    {
     "data": {
      "application/vnd.jupyter.widget-view+json": {
       "model_id": "161d4ead3e5e48abafe68ab13cf2adad",
       "version_major": 2,
       "version_minor": 0
      },
      "text/plain": [
       "Looping Each Links of Dates: 2019-12-13:   0%|          | 0/8 [00:00<?, ?it/s]"
      ]
     },
     "metadata": {},
     "output_type": "display_data"
    },
    {
     "data": {},
     "metadata": {},
     "output_type": "display_data"
    },
    {
     "data": {
      "application/vnd.jupyter.widget-view+json": {
       "model_id": "21972159afdf4964b8d77de74a19e9de",
       "version_major": 2,
       "version_minor": 0
      },
      "text/plain": [
       "Looping Each Links of Dates: 2019-12-12:   0%|          | 0/10 [00:00<?, ?it/s]"
      ]
     },
     "metadata": {},
     "output_type": "display_data"
    },
    {
     "data": {},
     "metadata": {},
     "output_type": "display_data"
    },
    {
     "data": {
      "application/vnd.jupyter.widget-view+json": {
       "model_id": "08c52d9d75ca4d3f97ebc3d7772c4ca8",
       "version_major": 2,
       "version_minor": 0
      },
      "text/plain": [
       "Looping Each Links of Dates: 2019-12-11:   0%|          | 0/15 [00:00<?, ?it/s]"
      ]
     },
     "metadata": {},
     "output_type": "display_data"
    },
    {
     "data": {},
     "metadata": {},
     "output_type": "display_data"
    },
    {
     "data": {
      "application/vnd.jupyter.widget-view+json": {
       "model_id": "9b6db5915bb2466abef231d9b679a74c",
       "version_major": 2,
       "version_minor": 0
      },
      "text/plain": [
       "Looping Each Links of Dates: 2019-12-10:   0%|          | 0/16 [00:00<?, ?it/s]"
      ]
     },
     "metadata": {},
     "output_type": "display_data"
    },
    {
     "data": {},
     "metadata": {},
     "output_type": "display_data"
    },
    {
     "data": {
      "application/vnd.jupyter.widget-view+json": {
       "model_id": "894a1f86666d4bebb1919877db8f8730",
       "version_major": 2,
       "version_minor": 0
      },
      "text/plain": [
       "Looping Each Links of Dates: 2019-12-09:   0%|          | 0/13 [00:00<?, ?it/s]"
      ]
     },
     "metadata": {},
     "output_type": "display_data"
    },
    {
     "data": {},
     "metadata": {},
     "output_type": "display_data"
    },
    {
     "data": {
      "application/vnd.jupyter.widget-view+json": {
       "model_id": "06dd0f7e8da84159aac56687d1ebbd91",
       "version_major": 2,
       "version_minor": 0
      },
      "text/plain": [
       "Looping Each Links of Dates: 2019-12-08:   0%|          | 0/7 [00:00<?, ?it/s]"
      ]
     },
     "metadata": {},
     "output_type": "display_data"
    },
    {
     "data": {},
     "metadata": {},
     "output_type": "display_data"
    },
    {
     "data": {
      "application/vnd.jupyter.widget-view+json": {
       "model_id": "093589d27b3c43aab0690c36294ee08b",
       "version_major": 2,
       "version_minor": 0
      },
      "text/plain": [
       "Looping Each Links of Dates: 2019-12-07:   0%|          | 0/8 [00:00<?, ?it/s]"
      ]
     },
     "metadata": {},
     "output_type": "display_data"
    },
    {
     "data": {},
     "metadata": {},
     "output_type": "display_data"
    },
    {
     "data": {
      "application/vnd.jupyter.widget-view+json": {
       "model_id": "14312c74495343efb131fc2439819b75",
       "version_major": 2,
       "version_minor": 0
      },
      "text/plain": [
       "Looping Each Links of Dates: 2019-12-06:   0%|          | 0/10 [00:00<?, ?it/s]"
      ]
     },
     "metadata": {},
     "output_type": "display_data"
    },
    {
     "data": {},
     "metadata": {},
     "output_type": "display_data"
    },
    {
     "data": {
      "application/vnd.jupyter.widget-view+json": {
       "model_id": "c1c7bf1344174e36ba432d3187623593",
       "version_major": 2,
       "version_minor": 0
      },
      "text/plain": [
       "Looping Each Links of Dates: 2019-12-05:   0%|          | 0/13 [00:00<?, ?it/s]"
      ]
     },
     "metadata": {},
     "output_type": "display_data"
    },
    {
     "data": {},
     "metadata": {},
     "output_type": "display_data"
    },
    {
     "data": {
      "application/vnd.jupyter.widget-view+json": {
       "model_id": "85e0c5ddc9114b9f8b0b5400fd64a61d",
       "version_major": 2,
       "version_minor": 0
      },
      "text/plain": [
       "Looping Each Links of Dates: 2019-12-04:   0%|          | 0/14 [00:00<?, ?it/s]"
      ]
     },
     "metadata": {},
     "output_type": "display_data"
    },
    {
     "data": {},
     "metadata": {},
     "output_type": "display_data"
    },
    {
     "data": {
      "application/vnd.jupyter.widget-view+json": {
       "model_id": "8225b3ad3d5c49baaf61f32f05d88f3c",
       "version_major": 2,
       "version_minor": 0
      },
      "text/plain": [
       "Looping Each Links of Dates: 2019-12-03:   0%|          | 0/7 [00:00<?, ?it/s]"
      ]
     },
     "metadata": {},
     "output_type": "display_data"
    },
    {
     "data": {},
     "metadata": {},
     "output_type": "display_data"
    },
    {
     "data": {
      "application/vnd.jupyter.widget-view+json": {
       "model_id": "2cf61ac8804e4124a75ae1b38d168dbe",
       "version_major": 2,
       "version_minor": 0
      },
      "text/plain": [
       "Looping Each Links of Dates: 2019-12-02:   0%|          | 0/13 [00:00<?, ?it/s]"
      ]
     },
     "metadata": {},
     "output_type": "display_data"
    },
    {
     "data": {},
     "metadata": {},
     "output_type": "display_data"
    },
    {
     "data": {
      "application/vnd.jupyter.widget-view+json": {
       "model_id": "a0f5f17051da4f6392e7191b31b64f78",
       "version_major": 2,
       "version_minor": 0
      },
      "text/plain": [
       "Looping Each Links of Dates: 2019-12-01:   0%|          | 0/3 [00:00<?, ?it/s]"
      ]
     },
     "metadata": {},
     "output_type": "display_data"
    },
    {
     "data": {},
     "metadata": {},
     "output_type": "display_data"
    },
    {
     "data": {
      "application/vnd.jupyter.widget-view+json": {
       "model_id": "ac01db170d0947ad8f3da04cb473f906",
       "version_major": 2,
       "version_minor": 0
      },
      "text/plain": [
       "Looping Each Links of Dates: 2019-11-30:   0%|          | 0/7 [00:00<?, ?it/s]"
      ]
     },
     "metadata": {},
     "output_type": "display_data"
    },
    {
     "data": {},
     "metadata": {},
     "output_type": "display_data"
    },
    {
     "data": {
      "application/vnd.jupyter.widget-view+json": {
       "model_id": "a53a6aea4b8d4248835e7ce895d31724",
       "version_major": 2,
       "version_minor": 0
      },
      "text/plain": [
       "Looping Each Links of Dates: 2019-11-29:   0%|          | 0/14 [00:00<?, ?it/s]"
      ]
     },
     "metadata": {},
     "output_type": "display_data"
    },
    {
     "data": {},
     "metadata": {},
     "output_type": "display_data"
    },
    {
     "data": {
      "application/vnd.jupyter.widget-view+json": {
       "model_id": "aa796f88ac494c04b31aab23e75ce64d",
       "version_major": 2,
       "version_minor": 0
      },
      "text/plain": [
       "Looping Each Links of Dates: 2019-11-28:   0%|          | 0/14 [00:00<?, ?it/s]"
      ]
     },
     "metadata": {},
     "output_type": "display_data"
    },
    {
     "data": {},
     "metadata": {},
     "output_type": "display_data"
    },
    {
     "data": {
      "application/vnd.jupyter.widget-view+json": {
       "model_id": "d7fa1d1902164c30a71ac8a23675ae68",
       "version_major": 2,
       "version_minor": 0
      },
      "text/plain": [
       "Looping Each Links of Dates: 2019-11-27:   0%|          | 0/8 [00:00<?, ?it/s]"
      ]
     },
     "metadata": {},
     "output_type": "display_data"
    },
    {
     "data": {},
     "metadata": {},
     "output_type": "display_data"
    },
    {
     "data": {
      "application/vnd.jupyter.widget-view+json": {
       "model_id": "662ea03f85f7450cadcd11162b3ce88d",
       "version_major": 2,
       "version_minor": 0
      },
      "text/plain": [
       "Looping Each Links of Dates: 2019-11-26:   0%|          | 0/12 [00:00<?, ?it/s]"
      ]
     },
     "metadata": {},
     "output_type": "display_data"
    },
    {
     "data": {},
     "metadata": {},
     "output_type": "display_data"
    },
    {
     "data": {
      "application/vnd.jupyter.widget-view+json": {
       "model_id": "b4aabea42fff4f23a87bc6c02c668073",
       "version_major": 2,
       "version_minor": 0
      },
      "text/plain": [
       "Looping Each Links of Dates: 2019-11-25:   0%|          | 0/8 [00:00<?, ?it/s]"
      ]
     },
     "metadata": {},
     "output_type": "display_data"
    },
    {
     "data": {},
     "metadata": {},
     "output_type": "display_data"
    },
    {
     "data": {
      "application/vnd.jupyter.widget-view+json": {
       "model_id": "17463fe158ae4c269bd00feff28dae14",
       "version_major": 2,
       "version_minor": 0
      },
      "text/plain": [
       "Looping Each Links of Dates: 2019-11-24:   0%|          | 0/11 [00:00<?, ?it/s]"
      ]
     },
     "metadata": {},
     "output_type": "display_data"
    },
    {
     "data": {},
     "metadata": {},
     "output_type": "display_data"
    },
    {
     "data": {
      "application/vnd.jupyter.widget-view+json": {
       "model_id": "ec1bb639236846ba8c7f272e3c4885fa",
       "version_major": 2,
       "version_minor": 0
      },
      "text/plain": [
       "Looping Each Links of Dates: 2019-11-23:   0%|          | 0/13 [00:00<?, ?it/s]"
      ]
     },
     "metadata": {},
     "output_type": "display_data"
    },
    {
     "data": {},
     "metadata": {},
     "output_type": "display_data"
    },
    {
     "data": {
      "application/vnd.jupyter.widget-view+json": {
       "model_id": "2341c42744134629ab11be27b82ff57e",
       "version_major": 2,
       "version_minor": 0
      },
      "text/plain": [
       "Looping Each Links of Dates: 2019-11-22:   0%|          | 0/10 [00:00<?, ?it/s]"
      ]
     },
     "metadata": {},
     "output_type": "display_data"
    },
    {
     "data": {},
     "metadata": {},
     "output_type": "display_data"
    },
    {
     "data": {
      "application/vnd.jupyter.widget-view+json": {
       "model_id": "ca2f8e61b6d746b293c18a4379d2111a",
       "version_major": 2,
       "version_minor": 0
      },
      "text/plain": [
       "Looping Each Links of Dates: 2019-11-21:   0%|          | 0/11 [00:00<?, ?it/s]"
      ]
     },
     "metadata": {},
     "output_type": "display_data"
    },
    {
     "data": {},
     "metadata": {},
     "output_type": "display_data"
    },
    {
     "data": {
      "application/vnd.jupyter.widget-view+json": {
       "model_id": "8aa355a9bf574a32801ef44b3d01fde9",
       "version_major": 2,
       "version_minor": 0
      },
      "text/plain": [
       "Looping Each Links of Dates: 2019-11-20:   0%|          | 0/11 [00:00<?, ?it/s]"
      ]
     },
     "metadata": {},
     "output_type": "display_data"
    },
    {
     "data": {},
     "metadata": {},
     "output_type": "display_data"
    },
    {
     "data": {
      "application/vnd.jupyter.widget-view+json": {
       "model_id": "9c9a5562a3b3497894d0f851822ef9e6",
       "version_major": 2,
       "version_minor": 0
      },
      "text/plain": [
       "Looping Each Links of Dates: 2019-11-19:   0%|          | 0/14 [00:00<?, ?it/s]"
      ]
     },
     "metadata": {},
     "output_type": "display_data"
    },
    {
     "data": {},
     "metadata": {},
     "output_type": "display_data"
    },
    {
     "data": {
      "application/vnd.jupyter.widget-view+json": {
       "model_id": "64cbf0acfca1428da278ee5081fcfc0d",
       "version_major": 2,
       "version_minor": 0
      },
      "text/plain": [
       "Looping Each Links of Dates: 2019-11-18:   0%|          | 0/10 [00:00<?, ?it/s]"
      ]
     },
     "metadata": {},
     "output_type": "display_data"
    },
    {
     "data": {},
     "metadata": {},
     "output_type": "display_data"
    },
    {
     "data": {
      "application/vnd.jupyter.widget-view+json": {
       "model_id": "1bdea99372cf4a5ab136297bb8cb2913",
       "version_major": 2,
       "version_minor": 0
      },
      "text/plain": [
       "Looping Each Links of Dates: 2019-11-17:   0%|          | 0/11 [00:00<?, ?it/s]"
      ]
     },
     "metadata": {},
     "output_type": "display_data"
    },
    {
     "data": {},
     "metadata": {},
     "output_type": "display_data"
    },
    {
     "data": {
      "application/vnd.jupyter.widget-view+json": {
       "model_id": "3c91053279914195b0618e8feee5196b",
       "version_major": 2,
       "version_minor": 0
      },
      "text/plain": [
       "Looping Each Links of Dates: 2019-11-16:   0%|          | 0/10 [00:00<?, ?it/s]"
      ]
     },
     "metadata": {},
     "output_type": "display_data"
    },
    {
     "data": {},
     "metadata": {},
     "output_type": "display_data"
    },
    {
     "data": {
      "application/vnd.jupyter.widget-view+json": {
       "model_id": "8e3b7213499b4b418c66b77af4d755de",
       "version_major": 2,
       "version_minor": 0
      },
      "text/plain": [
       "Looping Each Links of Dates: 2019-11-15:   0%|          | 0/10 [00:00<?, ?it/s]"
      ]
     },
     "metadata": {},
     "output_type": "display_data"
    },
    {
     "data": {},
     "metadata": {},
     "output_type": "display_data"
    },
    {
     "data": {
      "application/vnd.jupyter.widget-view+json": {
       "model_id": "7949806f4e0f4355b1f6a12d68b4f589",
       "version_major": 2,
       "version_minor": 0
      },
      "text/plain": [
       "Looping Each Links of Dates: 2019-11-14:   0%|          | 0/9 [00:00<?, ?it/s]"
      ]
     },
     "metadata": {},
     "output_type": "display_data"
    },
    {
     "data": {},
     "metadata": {},
     "output_type": "display_data"
    },
    {
     "data": {
      "application/vnd.jupyter.widget-view+json": {
       "model_id": "17fd562b85be42428db98856f252142b",
       "version_major": 2,
       "version_minor": 0
      },
      "text/plain": [
       "Looping Each Links of Dates: 2019-11-13:   0%|          | 0/12 [00:00<?, ?it/s]"
      ]
     },
     "metadata": {},
     "output_type": "display_data"
    },
    {
     "data": {},
     "metadata": {},
     "output_type": "display_data"
    },
    {
     "data": {
      "application/vnd.jupyter.widget-view+json": {
       "model_id": "90f0f688986f449fa92ff8bb4bff80da",
       "version_major": 2,
       "version_minor": 0
      },
      "text/plain": [
       "Looping Each Links of Dates: 2019-11-12:   0%|          | 0/10 [00:00<?, ?it/s]"
      ]
     },
     "metadata": {},
     "output_type": "display_data"
    },
    {
     "data": {},
     "metadata": {},
     "output_type": "display_data"
    },
    {
     "data": {
      "application/vnd.jupyter.widget-view+json": {
       "model_id": "96ad36131eb44e00a74a113089fe9790",
       "version_major": 2,
       "version_minor": 0
      },
      "text/plain": [
       "Looping Each Links of Dates: 2019-11-11:   0%|          | 0/7 [00:00<?, ?it/s]"
      ]
     },
     "metadata": {},
     "output_type": "display_data"
    },
    {
     "data": {},
     "metadata": {},
     "output_type": "display_data"
    },
    {
     "data": {
      "application/vnd.jupyter.widget-view+json": {
       "model_id": "3c9e0467a01a4564a10b68441e636078",
       "version_major": 2,
       "version_minor": 0
      },
      "text/plain": [
       "Looping Each Links of Dates: 2019-11-10:   0%|          | 0/6 [00:00<?, ?it/s]"
      ]
     },
     "metadata": {},
     "output_type": "display_data"
    },
    {
     "data": {},
     "metadata": {},
     "output_type": "display_data"
    },
    {
     "data": {
      "application/vnd.jupyter.widget-view+json": {
       "model_id": "e5565aa6616a4b38896dc986a65582e7",
       "version_major": 2,
       "version_minor": 0
      },
      "text/plain": [
       "Looping Each Links of Dates: 2019-11-09:   0%|          | 0/12 [00:00<?, ?it/s]"
      ]
     },
     "metadata": {},
     "output_type": "display_data"
    },
    {
     "data": {},
     "metadata": {},
     "output_type": "display_data"
    },
    {
     "data": {
      "application/vnd.jupyter.widget-view+json": {
       "model_id": "c7306c1b87ec42ea819f806b1f6d5567",
       "version_major": 2,
       "version_minor": 0
      },
      "text/plain": [
       "Looping Each Links of Dates: 2019-11-08:   0%|          | 0/8 [00:00<?, ?it/s]"
      ]
     },
     "metadata": {},
     "output_type": "display_data"
    },
    {
     "data": {},
     "metadata": {},
     "output_type": "display_data"
    },
    {
     "data": {
      "application/vnd.jupyter.widget-view+json": {
       "model_id": "2d4907f2ed984dbca62b95a08986ebdb",
       "version_major": 2,
       "version_minor": 0
      },
      "text/plain": [
       "Looping Each Links of Dates: 2019-11-07:   0%|          | 0/15 [00:00<?, ?it/s]"
      ]
     },
     "metadata": {},
     "output_type": "display_data"
    },
    {
     "data": {},
     "metadata": {},
     "output_type": "display_data"
    },
    {
     "data": {
      "application/vnd.jupyter.widget-view+json": {
       "model_id": "3051a609a6e24787bf951562f1bb89f0",
       "version_major": 2,
       "version_minor": 0
      },
      "text/plain": [
       "Looping Each Links of Dates: 2019-11-06:   0%|          | 0/11 [00:00<?, ?it/s]"
      ]
     },
     "metadata": {},
     "output_type": "display_data"
    },
    {
     "data": {},
     "metadata": {},
     "output_type": "display_data"
    },
    {
     "data": {
      "application/vnd.jupyter.widget-view+json": {
       "model_id": "5ec0b93b007545398f80a4097e308d97",
       "version_major": 2,
       "version_minor": 0
      },
      "text/plain": [
       "Looping Each Links of Dates: 2019-11-05:   0%|          | 0/11 [00:00<?, ?it/s]"
      ]
     },
     "metadata": {},
     "output_type": "display_data"
    },
    {
     "data": {},
     "metadata": {},
     "output_type": "display_data"
    },
    {
     "data": {
      "application/vnd.jupyter.widget-view+json": {
       "model_id": "a0e438a0caef4a2eb0e2e169e602bbe4",
       "version_major": 2,
       "version_minor": 0
      },
      "text/plain": [
       "Looping Each Links of Dates: 2019-11-04:   0%|          | 0/10 [00:00<?, ?it/s]"
      ]
     },
     "metadata": {},
     "output_type": "display_data"
    },
    {
     "data": {},
     "metadata": {},
     "output_type": "display_data"
    },
    {
     "data": {
      "application/vnd.jupyter.widget-view+json": {
       "model_id": "03275898c6f84fe4a5ed104e55bd0860",
       "version_major": 2,
       "version_minor": 0
      },
      "text/plain": [
       "Looping Each Links of Dates: 2019-11-03:   0%|          | 0/10 [00:00<?, ?it/s]"
      ]
     },
     "metadata": {},
     "output_type": "display_data"
    },
    {
     "data": {},
     "metadata": {},
     "output_type": "display_data"
    },
    {
     "data": {
      "application/vnd.jupyter.widget-view+json": {
       "model_id": "e8209ddda39a450a88d9e3d3f7229203",
       "version_major": 2,
       "version_minor": 0
      },
      "text/plain": [
       "Looping Each Links of Dates: 2019-11-02:   0%|          | 0/13 [00:00<?, ?it/s]"
      ]
     },
     "metadata": {},
     "output_type": "display_data"
    },
    {
     "data": {},
     "metadata": {},
     "output_type": "display_data"
    },
    {
     "data": {
      "application/vnd.jupyter.widget-view+json": {
       "model_id": "826969bca9034ac589661a0de2bd6586",
       "version_major": 2,
       "version_minor": 0
      },
      "text/plain": [
       "Looping Each Links of Dates: 2019-11-01:   0%|          | 0/11 [00:00<?, ?it/s]"
      ]
     },
     "metadata": {},
     "output_type": "display_data"
    },
    {
     "data": {},
     "metadata": {},
     "output_type": "display_data"
    },
    {
     "data": {
      "application/vnd.jupyter.widget-view+json": {
       "model_id": "1a8c4ec9c2a54b4d83fe13f370b5106c",
       "version_major": 2,
       "version_minor": 0
      },
      "text/plain": [
       "Looping Each Links of Dates: 2019-10-31:   0%|          | 0/10 [00:00<?, ?it/s]"
      ]
     },
     "metadata": {},
     "output_type": "display_data"
    },
    {
     "data": {},
     "metadata": {},
     "output_type": "display_data"
    },
    {
     "data": {
      "application/vnd.jupyter.widget-view+json": {
       "model_id": "ae1381964eb041918759f03a1cd43fb0",
       "version_major": 2,
       "version_minor": 0
      },
      "text/plain": [
       "Looping Each Links of Dates: 2019-10-30:   0%|          | 0/10 [00:00<?, ?it/s]"
      ]
     },
     "metadata": {},
     "output_type": "display_data"
    },
    {
     "data": {},
     "metadata": {},
     "output_type": "display_data"
    },
    {
     "data": {
      "application/vnd.jupyter.widget-view+json": {
       "model_id": "44432f3db5f04c6ba099c0609b95a143",
       "version_major": 2,
       "version_minor": 0
      },
      "text/plain": [
       "Looping Each Links of Dates: 2019-10-29:   0%|          | 0/7 [00:00<?, ?it/s]"
      ]
     },
     "metadata": {},
     "output_type": "display_data"
    },
    {
     "data": {},
     "metadata": {},
     "output_type": "display_data"
    },
    {
     "data": {
      "application/vnd.jupyter.widget-view+json": {
       "model_id": "470d14008ffc4f5f8e9213737b94df67",
       "version_major": 2,
       "version_minor": 0
      },
      "text/plain": [
       "Looping Each Links of Dates: 2019-10-28:   0%|          | 0/8 [00:00<?, ?it/s]"
      ]
     },
     "metadata": {},
     "output_type": "display_data"
    },
    {
     "data": {},
     "metadata": {},
     "output_type": "display_data"
    },
    {
     "data": {
      "application/vnd.jupyter.widget-view+json": {
       "model_id": "404461b187e1437c83be18dbfd9ed5b7",
       "version_major": 2,
       "version_minor": 0
      },
      "text/plain": [
       "Looping Each Links of Dates: 2019-10-27:   0%|          | 0/9 [00:00<?, ?it/s]"
      ]
     },
     "metadata": {},
     "output_type": "display_data"
    },
    {
     "data": {},
     "metadata": {},
     "output_type": "display_data"
    },
    {
     "data": {
      "application/vnd.jupyter.widget-view+json": {
       "model_id": "0ad5f03e075d4d4d833b6b1bdb3e0916",
       "version_major": 2,
       "version_minor": 0
      },
      "text/plain": [
       "Looping Each Links of Dates: 2019-10-26:   0%|          | 0/9 [00:00<?, ?it/s]"
      ]
     },
     "metadata": {},
     "output_type": "display_data"
    },
    {
     "data": {},
     "metadata": {},
     "output_type": "display_data"
    },
    {
     "data": {
      "application/vnd.jupyter.widget-view+json": {
       "model_id": "0952b85f45084daf9a4fda956c312d4b",
       "version_major": 2,
       "version_minor": 0
      },
      "text/plain": [
       "Looping Each Links of Dates: 2019-10-25:   0%|          | 0/10 [00:00<?, ?it/s]"
      ]
     },
     "metadata": {},
     "output_type": "display_data"
    },
    {
     "data": {},
     "metadata": {},
     "output_type": "display_data"
    },
    {
     "data": {
      "application/vnd.jupyter.widget-view+json": {
       "model_id": "7a4971f81e3a450682f2b0d674ef5341",
       "version_major": 2,
       "version_minor": 0
      },
      "text/plain": [
       "Looping Each Links of Dates: 2019-10-24:   0%|          | 0/11 [00:00<?, ?it/s]"
      ]
     },
     "metadata": {},
     "output_type": "display_data"
    },
    {
     "data": {},
     "metadata": {},
     "output_type": "display_data"
    },
    {
     "data": {
      "application/vnd.jupyter.widget-view+json": {
       "model_id": "a3fb4656a5384e0396d405b9ba1817c0",
       "version_major": 2,
       "version_minor": 0
      },
      "text/plain": [
       "Looping Each Links of Dates: 2019-10-23:   0%|          | 0/10 [00:00<?, ?it/s]"
      ]
     },
     "metadata": {},
     "output_type": "display_data"
    },
    {
     "data": {},
     "metadata": {},
     "output_type": "display_data"
    },
    {
     "data": {
      "application/vnd.jupyter.widget-view+json": {
       "model_id": "75201a6d88a249daa3ab82926b29a3a5",
       "version_major": 2,
       "version_minor": 0
      },
      "text/plain": [
       "Looping Each Links of Dates: 2019-10-22:   0%|          | 0/8 [00:00<?, ?it/s]"
      ]
     },
     "metadata": {},
     "output_type": "display_data"
    },
    {
     "data": {},
     "metadata": {},
     "output_type": "display_data"
    },
    {
     "data": {
      "application/vnd.jupyter.widget-view+json": {
       "model_id": "3d2fd86016804374993a6a5da0ecb01b",
       "version_major": 2,
       "version_minor": 0
      },
      "text/plain": [
       "Looping Each Links of Dates: 2019-10-21:   0%|          | 0/6 [00:00<?, ?it/s]"
      ]
     },
     "metadata": {},
     "output_type": "display_data"
    },
    {
     "data": {},
     "metadata": {},
     "output_type": "display_data"
    },
    {
     "data": {
      "application/vnd.jupyter.widget-view+json": {
       "model_id": "c89039ed2dbe4522bea6acf933d70f16",
       "version_major": 2,
       "version_minor": 0
      },
      "text/plain": [
       "Looping Each Links of Dates: 2019-10-20:   0%|          | 0/11 [00:00<?, ?it/s]"
      ]
     },
     "metadata": {},
     "output_type": "display_data"
    },
    {
     "data": {},
     "metadata": {},
     "output_type": "display_data"
    },
    {
     "data": {
      "application/vnd.jupyter.widget-view+json": {
       "model_id": "8bdb7826309d44d890c52c213087ca3b",
       "version_major": 2,
       "version_minor": 0
      },
      "text/plain": [
       "Looping Each Links of Dates: 2019-10-19:   0%|          | 0/8 [00:00<?, ?it/s]"
      ]
     },
     "metadata": {},
     "output_type": "display_data"
    },
    {
     "data": {},
     "metadata": {},
     "output_type": "display_data"
    },
    {
     "data": {
      "application/vnd.jupyter.widget-view+json": {
       "model_id": "a9c52e8a35f743209a615286273a3052",
       "version_major": 2,
       "version_minor": 0
      },
      "text/plain": [
       "Looping Each Links of Dates: 2019-10-18:   0%|          | 0/13 [00:00<?, ?it/s]"
      ]
     },
     "metadata": {},
     "output_type": "display_data"
    },
    {
     "data": {},
     "metadata": {},
     "output_type": "display_data"
    },
    {
     "data": {
      "application/vnd.jupyter.widget-view+json": {
       "model_id": "eaad762c251d4cec99b030e1d3a0aa60",
       "version_major": 2,
       "version_minor": 0
      },
      "text/plain": [
       "Looping Each Links of Dates: 2019-10-17:   0%|          | 0/9 [00:00<?, ?it/s]"
      ]
     },
     "metadata": {},
     "output_type": "display_data"
    },
    {
     "data": {},
     "metadata": {},
     "output_type": "display_data"
    },
    {
     "data": {
      "application/vnd.jupyter.widget-view+json": {
       "model_id": "c1968aca92aa446c8779a0f6a6d3353e",
       "version_major": 2,
       "version_minor": 0
      },
      "text/plain": [
       "Looping Each Links of Dates: 2019-10-16:   0%|          | 0/10 [00:00<?, ?it/s]"
      ]
     },
     "metadata": {},
     "output_type": "display_data"
    },
    {
     "data": {},
     "metadata": {},
     "output_type": "display_data"
    },
    {
     "data": {
      "application/vnd.jupyter.widget-view+json": {
       "model_id": "5b18cf088bb44910a29b5c80ced1d397",
       "version_major": 2,
       "version_minor": 0
      },
      "text/plain": [
       "Looping Each Links of Dates: 2019-10-15:   0%|          | 0/10 [00:00<?, ?it/s]"
      ]
     },
     "metadata": {},
     "output_type": "display_data"
    },
    {
     "data": {},
     "metadata": {},
     "output_type": "display_data"
    },
    {
     "data": {
      "application/vnd.jupyter.widget-view+json": {
       "model_id": "e9df7795fa9648fa80f84f5319806a1c",
       "version_major": 2,
       "version_minor": 0
      },
      "text/plain": [
       "Looping Each Links of Dates: 2019-10-14:   0%|          | 0/12 [00:00<?, ?it/s]"
      ]
     },
     "metadata": {},
     "output_type": "display_data"
    },
    {
     "data": {},
     "metadata": {},
     "output_type": "display_data"
    },
    {
     "data": {
      "application/vnd.jupyter.widget-view+json": {
       "model_id": "5eaa9a0c5e384441b40f7b636b0b5ffc",
       "version_major": 2,
       "version_minor": 0
      },
      "text/plain": [
       "Looping Each Links of Dates: 2019-10-13:   0%|          | 0/10 [00:00<?, ?it/s]"
      ]
     },
     "metadata": {},
     "output_type": "display_data"
    },
    {
     "data": {},
     "metadata": {},
     "output_type": "display_data"
    },
    {
     "data": {
      "application/vnd.jupyter.widget-view+json": {
       "model_id": "6b2c0c46bef24a919eb3623f18b77447",
       "version_major": 2,
       "version_minor": 0
      },
      "text/plain": [
       "Looping Each Links of Dates: 2019-10-12:   0%|          | 0/7 [00:00<?, ?it/s]"
      ]
     },
     "metadata": {},
     "output_type": "display_data"
    },
    {
     "data": {},
     "metadata": {},
     "output_type": "display_data"
    },
    {
     "data": {
      "application/vnd.jupyter.widget-view+json": {
       "model_id": "d41742dfcbf44ff4ad857ce7b90025ce",
       "version_major": 2,
       "version_minor": 0
      },
      "text/plain": [
       "Looping Each Links of Dates: 2019-10-11:   0%|          | 0/12 [00:00<?, ?it/s]"
      ]
     },
     "metadata": {},
     "output_type": "display_data"
    },
    {
     "data": {},
     "metadata": {},
     "output_type": "display_data"
    },
    {
     "data": {
      "application/vnd.jupyter.widget-view+json": {
       "model_id": "627477bb95404758a953eabd4a01b9e7",
       "version_major": 2,
       "version_minor": 0
      },
      "text/plain": [
       "Looping Each Links of Dates: 2019-10-10:   0%|          | 0/15 [00:00<?, ?it/s]"
      ]
     },
     "metadata": {},
     "output_type": "display_data"
    },
    {
     "data": {},
     "metadata": {},
     "output_type": "display_data"
    },
    {
     "data": {
      "application/vnd.jupyter.widget-view+json": {
       "model_id": "99ac5a260b3645a5b558a1a2e2399e3b",
       "version_major": 2,
       "version_minor": 0
      },
      "text/plain": [
       "Looping Each Links of Dates: 2019-10-09:   0%|          | 0/8 [00:00<?, ?it/s]"
      ]
     },
     "metadata": {},
     "output_type": "display_data"
    },
    {
     "data": {},
     "metadata": {},
     "output_type": "display_data"
    },
    {
     "data": {
      "application/vnd.jupyter.widget-view+json": {
       "model_id": "fd45deae4c874288b9581481787e16da",
       "version_major": 2,
       "version_minor": 0
      },
      "text/plain": [
       "Looping Each Links of Dates: 2019-10-08:   0%|          | 0/9 [00:00<?, ?it/s]"
      ]
     },
     "metadata": {},
     "output_type": "display_data"
    },
    {
     "data": {},
     "metadata": {},
     "output_type": "display_data"
    },
    {
     "data": {
      "application/vnd.jupyter.widget-view+json": {
       "model_id": "90960fa9669d4904bf243d00814b0e7c",
       "version_major": 2,
       "version_minor": 0
      },
      "text/plain": [
       "Looping Each Links of Dates: 2019-10-07:   0%|          | 0/11 [00:00<?, ?it/s]"
      ]
     },
     "metadata": {},
     "output_type": "display_data"
    },
    {
     "data": {},
     "metadata": {},
     "output_type": "display_data"
    },
    {
     "data": {
      "application/vnd.jupyter.widget-view+json": {
       "model_id": "84aac35fa4f0480bace389c1d8787225",
       "version_major": 2,
       "version_minor": 0
      },
      "text/plain": [
       "Looping Each Links of Dates: 2019-10-06:   0%|          | 0/9 [00:00<?, ?it/s]"
      ]
     },
     "metadata": {},
     "output_type": "display_data"
    },
    {
     "data": {},
     "metadata": {},
     "output_type": "display_data"
    },
    {
     "data": {
      "application/vnd.jupyter.widget-view+json": {
       "model_id": "4759891779134e73a175fad3b35f860b",
       "version_major": 2,
       "version_minor": 0
      },
      "text/plain": [
       "Looping Each Links of Dates: 2019-10-05:   0%|          | 0/11 [00:00<?, ?it/s]"
      ]
     },
     "metadata": {},
     "output_type": "display_data"
    },
    {
     "data": {},
     "metadata": {},
     "output_type": "display_data"
    },
    {
     "data": {
      "application/vnd.jupyter.widget-view+json": {
       "model_id": "c741f7bbecad4852ba394910fd75557d",
       "version_major": 2,
       "version_minor": 0
      },
      "text/plain": [
       "Looping Each Links of Dates: 2019-10-04:   0%|          | 0/10 [00:00<?, ?it/s]"
      ]
     },
     "metadata": {},
     "output_type": "display_data"
    },
    {
     "data": {},
     "metadata": {},
     "output_type": "display_data"
    },
    {
     "data": {
      "application/vnd.jupyter.widget-view+json": {
       "model_id": "8e493813a2234c70872badde6757df1a",
       "version_major": 2,
       "version_minor": 0
      },
      "text/plain": [
       "Looping Each Links of Dates: 2019-10-03:   0%|          | 0/12 [00:00<?, ?it/s]"
      ]
     },
     "metadata": {},
     "output_type": "display_data"
    },
    {
     "data": {},
     "metadata": {},
     "output_type": "display_data"
    },
    {
     "data": {
      "application/vnd.jupyter.widget-view+json": {
       "model_id": "fe65f87e249f452dafb68b33a2faf042",
       "version_major": 2,
       "version_minor": 0
      },
      "text/plain": [
       "Looping Each Links of Dates: 2019-10-02:   0%|          | 0/9 [00:00<?, ?it/s]"
      ]
     },
     "metadata": {},
     "output_type": "display_data"
    },
    {
     "data": {},
     "metadata": {},
     "output_type": "display_data"
    },
    {
     "data": {
      "application/vnd.jupyter.widget-view+json": {
       "model_id": "d9b2c833c5d743e886a4c71a12a5fb0d",
       "version_major": 2,
       "version_minor": 0
      },
      "text/plain": [
       "Looping Each Links of Dates: 2019-10-01:   0%|          | 0/13 [00:00<?, ?it/s]"
      ]
     },
     "metadata": {},
     "output_type": "display_data"
    },
    {
     "data": {},
     "metadata": {},
     "output_type": "display_data"
    },
    {
     "data": {
      "application/vnd.jupyter.widget-view+json": {
       "model_id": "e87f24ffeb454ae9996216e13eb54225",
       "version_major": 2,
       "version_minor": 0
      },
      "text/plain": [
       "Looping Each Links of Dates: 2019-09-30:   0%|          | 0/8 [00:00<?, ?it/s]"
      ]
     },
     "metadata": {},
     "output_type": "display_data"
    },
    {
     "data": {},
     "metadata": {},
     "output_type": "display_data"
    },
    {
     "data": {
      "application/vnd.jupyter.widget-view+json": {
       "model_id": "5bb96026c3aa418dba061295b75521da",
       "version_major": 2,
       "version_minor": 0
      },
      "text/plain": [
       "Looping Each Links of Dates: 2019-09-29:   0%|          | 0/9 [00:00<?, ?it/s]"
      ]
     },
     "metadata": {},
     "output_type": "display_data"
    },
    {
     "data": {},
     "metadata": {},
     "output_type": "display_data"
    },
    {
     "data": {
      "application/vnd.jupyter.widget-view+json": {
       "model_id": "60d26abbf111416faaf532754c2cb3ca",
       "version_major": 2,
       "version_minor": 0
      },
      "text/plain": [
       "Looping Each Links of Dates: 2019-09-28:   0%|          | 0/11 [00:00<?, ?it/s]"
      ]
     },
     "metadata": {},
     "output_type": "display_data"
    },
    {
     "data": {},
     "metadata": {},
     "output_type": "display_data"
    },
    {
     "data": {
      "application/vnd.jupyter.widget-view+json": {
       "model_id": "42ae231661274c58aac5f52ec112ea4b",
       "version_major": 2,
       "version_minor": 0
      },
      "text/plain": [
       "Looping Each Links of Dates: 2019-09-27:   0%|          | 0/9 [00:00<?, ?it/s]"
      ]
     },
     "metadata": {},
     "output_type": "display_data"
    },
    {
     "data": {},
     "metadata": {},
     "output_type": "display_data"
    },
    {
     "data": {
      "application/vnd.jupyter.widget-view+json": {
       "model_id": "194885c54d03428480087d80da77c337",
       "version_major": 2,
       "version_minor": 0
      },
      "text/plain": [
       "Looping Each Links of Dates: 2019-09-26:   0%|          | 0/13 [00:00<?, ?it/s]"
      ]
     },
     "metadata": {},
     "output_type": "display_data"
    },
    {
     "data": {},
     "metadata": {},
     "output_type": "display_data"
    },
    {
     "data": {
      "application/vnd.jupyter.widget-view+json": {
       "model_id": "6b2f48ea050b425daec029e9702101a9",
       "version_major": 2,
       "version_minor": 0
      },
      "text/plain": [
       "Looping Each Links of Dates: 2019-09-25:   0%|          | 0/11 [00:00<?, ?it/s]"
      ]
     },
     "metadata": {},
     "output_type": "display_data"
    },
    {
     "data": {},
     "metadata": {},
     "output_type": "display_data"
    },
    {
     "data": {
      "application/vnd.jupyter.widget-view+json": {
       "model_id": "6c855ed91b1b4ae5b16ff3a7804e2862",
       "version_major": 2,
       "version_minor": 0
      },
      "text/plain": [
       "Looping Each Links of Dates: 2019-09-24:   0%|          | 0/10 [00:00<?, ?it/s]"
      ]
     },
     "metadata": {},
     "output_type": "display_data"
    },
    {
     "data": {},
     "metadata": {},
     "output_type": "display_data"
    },
    {
     "data": {
      "application/vnd.jupyter.widget-view+json": {
       "model_id": "a76e3381ea414302a5d7ff6921f32e6a",
       "version_major": 2,
       "version_minor": 0
      },
      "text/plain": [
       "Looping Each Links of Dates: 2019-09-23:   0%|          | 0/10 [00:00<?, ?it/s]"
      ]
     },
     "metadata": {},
     "output_type": "display_data"
    },
    {
     "data": {},
     "metadata": {},
     "output_type": "display_data"
    },
    {
     "data": {
      "application/vnd.jupyter.widget-view+json": {
       "model_id": "5dc2f1ba67f743da86f4210eb03864f5",
       "version_major": 2,
       "version_minor": 0
      },
      "text/plain": [
       "Looping Each Links of Dates: 2019-09-22:   0%|          | 0/2 [00:00<?, ?it/s]"
      ]
     },
     "metadata": {},
     "output_type": "display_data"
    },
    {
     "data": {},
     "metadata": {},
     "output_type": "display_data"
    },
    {
     "data": {
      "application/vnd.jupyter.widget-view+json": {
       "model_id": "7ba2c4e062bd4d9397cb7eb0ee0aee5f",
       "version_major": 2,
       "version_minor": 0
      },
      "text/plain": [
       "Looping Each Links of Dates: 2019-09-21:   0%|          | 0/13 [00:00<?, ?it/s]"
      ]
     },
     "metadata": {},
     "output_type": "display_data"
    },
    {
     "data": {},
     "metadata": {},
     "output_type": "display_data"
    },
    {
     "data": {
      "application/vnd.jupyter.widget-view+json": {
       "model_id": "98b1c2b950be490eb210e51b22545689",
       "version_major": 2,
       "version_minor": 0
      },
      "text/plain": [
       "Looping Each Links of Dates: 2019-09-20:   0%|          | 0/12 [00:00<?, ?it/s]"
      ]
     },
     "metadata": {},
     "output_type": "display_data"
    },
    {
     "data": {},
     "metadata": {},
     "output_type": "display_data"
    },
    {
     "data": {
      "application/vnd.jupyter.widget-view+json": {
       "model_id": "62d61447d71f417e9f23a6098999e185",
       "version_major": 2,
       "version_minor": 0
      },
      "text/plain": [
       "Looping Each Links of Dates: 2019-09-19:   0%|          | 0/14 [00:00<?, ?it/s]"
      ]
     },
     "metadata": {},
     "output_type": "display_data"
    },
    {
     "data": {},
     "metadata": {},
     "output_type": "display_data"
    },
    {
     "data": {
      "application/vnd.jupyter.widget-view+json": {
       "model_id": "52cd8804c2b744699fd0881cc1c67445",
       "version_major": 2,
       "version_minor": 0
      },
      "text/plain": [
       "Looping Each Links of Dates: 2019-09-18:   0%|          | 0/14 [00:00<?, ?it/s]"
      ]
     },
     "metadata": {},
     "output_type": "display_data"
    },
    {
     "data": {},
     "metadata": {},
     "output_type": "display_data"
    },
    {
     "data": {
      "application/vnd.jupyter.widget-view+json": {
       "model_id": "81872e10d1cf4599b28ce78ed81a10df",
       "version_major": 2,
       "version_minor": 0
      },
      "text/plain": [
       "Looping Each Links of Dates: 2019-09-17:   0%|          | 0/11 [00:00<?, ?it/s]"
      ]
     },
     "metadata": {},
     "output_type": "display_data"
    },
    {
     "data": {},
     "metadata": {},
     "output_type": "display_data"
    },
    {
     "data": {
      "application/vnd.jupyter.widget-view+json": {
       "model_id": "eb68e72bc72044538fbbe67a52d701e6",
       "version_major": 2,
       "version_minor": 0
      },
      "text/plain": [
       "Looping Each Links of Dates: 2019-09-16:   0%|          | 0/12 [00:00<?, ?it/s]"
      ]
     },
     "metadata": {},
     "output_type": "display_data"
    },
    {
     "data": {},
     "metadata": {},
     "output_type": "display_data"
    },
    {
     "data": {
      "application/vnd.jupyter.widget-view+json": {
       "model_id": "f4ddfdff65044acca27213608ec02dbd",
       "version_major": 2,
       "version_minor": 0
      },
      "text/plain": [
       "Looping Each Links of Dates: 2019-09-15:   0%|          | 0/13 [00:00<?, ?it/s]"
      ]
     },
     "metadata": {},
     "output_type": "display_data"
    },
    {
     "data": {},
     "metadata": {},
     "output_type": "display_data"
    },
    {
     "data": {
      "application/vnd.jupyter.widget-view+json": {
       "model_id": "e5ae3881358a49cd9f5f266576bf9fde",
       "version_major": 2,
       "version_minor": 0
      },
      "text/plain": [
       "Looping Each Links of Dates: 2019-09-14:   0%|          | 0/9 [00:00<?, ?it/s]"
      ]
     },
     "metadata": {},
     "output_type": "display_data"
    },
    {
     "data": {},
     "metadata": {},
     "output_type": "display_data"
    },
    {
     "data": {
      "application/vnd.jupyter.widget-view+json": {
       "model_id": "7189593abca84b07a7117cce92de50a1",
       "version_major": 2,
       "version_minor": 0
      },
      "text/plain": [
       "Looping Each Links of Dates: 2019-09-13:   0%|          | 0/10 [00:00<?, ?it/s]"
      ]
     },
     "metadata": {},
     "output_type": "display_data"
    },
    {
     "data": {},
     "metadata": {},
     "output_type": "display_data"
    },
    {
     "data": {
      "application/vnd.jupyter.widget-view+json": {
       "model_id": "b9a30747852c47c19d808ed3a5aaabdb",
       "version_major": 2,
       "version_minor": 0
      },
      "text/plain": [
       "Looping Each Links of Dates: 2019-09-12:   0%|          | 0/15 [00:00<?, ?it/s]"
      ]
     },
     "metadata": {},
     "output_type": "display_data"
    },
    {
     "data": {},
     "metadata": {},
     "output_type": "display_data"
    },
    {
     "data": {
      "application/vnd.jupyter.widget-view+json": {
       "model_id": "b4dafefaf3a94f88804f7b90fcc23ec2",
       "version_major": 2,
       "version_minor": 0
      },
      "text/plain": [
       "Looping Each Links of Dates: 2019-09-11:   0%|          | 0/7 [00:00<?, ?it/s]"
      ]
     },
     "metadata": {},
     "output_type": "display_data"
    },
    {
     "data": {},
     "metadata": {},
     "output_type": "display_data"
    },
    {
     "data": {
      "application/vnd.jupyter.widget-view+json": {
       "model_id": "819e6b37629c4b3d8992d5ba11671cde",
       "version_major": 2,
       "version_minor": 0
      },
      "text/plain": [
       "Looping Each Links of Dates: 2019-09-10:   0%|          | 0/11 [00:00<?, ?it/s]"
      ]
     },
     "metadata": {},
     "output_type": "display_data"
    },
    {
     "data": {},
     "metadata": {},
     "output_type": "display_data"
    },
    {
     "data": {
      "application/vnd.jupyter.widget-view+json": {
       "model_id": "95956bc11256479fb710d2626ca76ecf",
       "version_major": 2,
       "version_minor": 0
      },
      "text/plain": [
       "Looping Each Links of Dates: 2019-09-09:   0%|          | 0/10 [00:00<?, ?it/s]"
      ]
     },
     "metadata": {},
     "output_type": "display_data"
    },
    {
     "data": {},
     "metadata": {},
     "output_type": "display_data"
    },
    {
     "data": {
      "application/vnd.jupyter.widget-view+json": {
       "model_id": "dae2f7226ca242a9bcb6996e30049fa6",
       "version_major": 2,
       "version_minor": 0
      },
      "text/plain": [
       "Looping Each Links of Dates: 2019-09-08:   0%|          | 0/10 [00:00<?, ?it/s]"
      ]
     },
     "metadata": {},
     "output_type": "display_data"
    },
    {
     "data": {},
     "metadata": {},
     "output_type": "display_data"
    },
    {
     "data": {
      "application/vnd.jupyter.widget-view+json": {
       "model_id": "3c935c4e7585454c8c206b9ac0583080",
       "version_major": 2,
       "version_minor": 0
      },
      "text/plain": [
       "Looping Each Links of Dates: 2019-09-07:   0%|          | 0/8 [00:00<?, ?it/s]"
      ]
     },
     "metadata": {},
     "output_type": "display_data"
    },
    {
     "data": {},
     "metadata": {},
     "output_type": "display_data"
    },
    {
     "data": {
      "application/vnd.jupyter.widget-view+json": {
       "model_id": "5115e795247644e7b061c0dff94c927f",
       "version_major": 2,
       "version_minor": 0
      },
      "text/plain": [
       "Looping Each Links of Dates: 2019-09-06:   0%|          | 0/10 [00:00<?, ?it/s]"
      ]
     },
     "metadata": {},
     "output_type": "display_data"
    },
    {
     "data": {},
     "metadata": {},
     "output_type": "display_data"
    },
    {
     "data": {
      "application/vnd.jupyter.widget-view+json": {
       "model_id": "650007cccd0e4eaabfa0eebb38191f8a",
       "version_major": 2,
       "version_minor": 0
      },
      "text/plain": [
       "Looping Each Links of Dates: 2019-09-05:   0%|          | 0/10 [00:00<?, ?it/s]"
      ]
     },
     "metadata": {},
     "output_type": "display_data"
    },
    {
     "data": {},
     "metadata": {},
     "output_type": "display_data"
    },
    {
     "data": {
      "application/vnd.jupyter.widget-view+json": {
       "model_id": "0c97f4bba2df4217b575bd498bfd9b9a",
       "version_major": 2,
       "version_minor": 0
      },
      "text/plain": [
       "Looping Each Links of Dates: 2019-09-04:   0%|          | 0/10 [00:00<?, ?it/s]"
      ]
     },
     "metadata": {},
     "output_type": "display_data"
    },
    {
     "data": {},
     "metadata": {},
     "output_type": "display_data"
    },
    {
     "data": {
      "application/vnd.jupyter.widget-view+json": {
       "model_id": "6ce8c26998884b73bb18bd3a0ab574ce",
       "version_major": 2,
       "version_minor": 0
      },
      "text/plain": [
       "Looping Each Links of Dates: 2019-09-03:   0%|          | 0/10 [00:00<?, ?it/s]"
      ]
     },
     "metadata": {},
     "output_type": "display_data"
    },
    {
     "data": {},
     "metadata": {},
     "output_type": "display_data"
    },
    {
     "data": {
      "application/vnd.jupyter.widget-view+json": {
       "model_id": "043e0233136f4a718fb2d0118d41a72e",
       "version_major": 2,
       "version_minor": 0
      },
      "text/plain": [
       "Looping Each Links of Dates: 2019-09-02:   0%|          | 0/10 [00:00<?, ?it/s]"
      ]
     },
     "metadata": {},
     "output_type": "display_data"
    },
    {
     "data": {},
     "metadata": {},
     "output_type": "display_data"
    },
    {
     "data": {
      "application/vnd.jupyter.widget-view+json": {
       "model_id": "ad98577342a740e3a676702985e39227",
       "version_major": 2,
       "version_minor": 0
      },
      "text/plain": [
       "Looping Each Links of Dates: 2019-09-01:   0%|          | 0/11 [00:00<?, ?it/s]"
      ]
     },
     "metadata": {},
     "output_type": "display_data"
    },
    {
     "data": {},
     "metadata": {},
     "output_type": "display_data"
    },
    {
     "data": {
      "application/vnd.jupyter.widget-view+json": {
       "model_id": "cf0ae328b53e48f5a9d95ae28c63d98c",
       "version_major": 2,
       "version_minor": 0
      },
      "text/plain": [
       "Looping Each Links of Dates: 2019-08-31:   0%|          | 0/10 [00:00<?, ?it/s]"
      ]
     },
     "metadata": {},
     "output_type": "display_data"
    },
    {
     "data": {},
     "metadata": {},
     "output_type": "display_data"
    },
    {
     "data": {
      "application/vnd.jupyter.widget-view+json": {
       "model_id": "b1328575993e47dbae38791a508b69e5",
       "version_major": 2,
       "version_minor": 0
      },
      "text/plain": [
       "Looping Each Links of Dates: 2019-08-30:   0%|          | 0/15 [00:00<?, ?it/s]"
      ]
     },
     "metadata": {},
     "output_type": "display_data"
    },
    {
     "data": {},
     "metadata": {},
     "output_type": "display_data"
    },
    {
     "data": {
      "application/vnd.jupyter.widget-view+json": {
       "model_id": "c88d8aa9558d4504aa618e60e5eb0098",
       "version_major": 2,
       "version_minor": 0
      },
      "text/plain": [
       "Looping Each Links of Dates: 2019-08-29:   0%|          | 0/11 [00:00<?, ?it/s]"
      ]
     },
     "metadata": {},
     "output_type": "display_data"
    },
    {
     "data": {},
     "metadata": {},
     "output_type": "display_data"
    },
    {
     "data": {
      "application/vnd.jupyter.widget-view+json": {
       "model_id": "2c897b2cac054144a8943d7c440d13fe",
       "version_major": 2,
       "version_minor": 0
      },
      "text/plain": [
       "Looping Each Links of Dates: 2019-08-28:   0%|          | 0/9 [00:00<?, ?it/s]"
      ]
     },
     "metadata": {},
     "output_type": "display_data"
    },
    {
     "data": {},
     "metadata": {},
     "output_type": "display_data"
    },
    {
     "data": {
      "application/vnd.jupyter.widget-view+json": {
       "model_id": "2811d546920048909ffbe5b24a707960",
       "version_major": 2,
       "version_minor": 0
      },
      "text/plain": [
       "Looping Each Links of Dates: 2019-08-27:   0%|          | 0/11 [00:00<?, ?it/s]"
      ]
     },
     "metadata": {},
     "output_type": "display_data"
    },
    {
     "data": {},
     "metadata": {},
     "output_type": "display_data"
    },
    {
     "data": {
      "application/vnd.jupyter.widget-view+json": {
       "model_id": "38d04fb73c3444cdb57dad269f67bf3d",
       "version_major": 2,
       "version_minor": 0
      },
      "text/plain": [
       "Looping Each Links of Dates: 2019-08-26:   0%|          | 0/9 [00:00<?, ?it/s]"
      ]
     },
     "metadata": {},
     "output_type": "display_data"
    },
    {
     "data": {},
     "metadata": {},
     "output_type": "display_data"
    },
    {
     "data": {
      "application/vnd.jupyter.widget-view+json": {
       "model_id": "24e2c6af5f5f4c67a435a37dfe92102f",
       "version_major": 2,
       "version_minor": 0
      },
      "text/plain": [
       "Looping Each Links of Dates: 2019-08-25:   0%|          | 0/7 [00:00<?, ?it/s]"
      ]
     },
     "metadata": {},
     "output_type": "display_data"
    },
    {
     "data": {},
     "metadata": {},
     "output_type": "display_data"
    },
    {
     "data": {
      "application/vnd.jupyter.widget-view+json": {
       "model_id": "b34fb2813275435abdf08d949a59bb9d",
       "version_major": 2,
       "version_minor": 0
      },
      "text/plain": [
       "Looping Each Links of Dates: 2019-08-24:   0%|          | 0/9 [00:00<?, ?it/s]"
      ]
     },
     "metadata": {},
     "output_type": "display_data"
    },
    {
     "data": {},
     "metadata": {},
     "output_type": "display_data"
    },
    {
     "data": {
      "application/vnd.jupyter.widget-view+json": {
       "model_id": "6d29446133d44f458847104238837e29",
       "version_major": 2,
       "version_minor": 0
      },
      "text/plain": [
       "Looping Each Links of Dates: 2019-08-23:   0%|          | 0/10 [00:00<?, ?it/s]"
      ]
     },
     "metadata": {},
     "output_type": "display_data"
    },
    {
     "data": {},
     "metadata": {},
     "output_type": "display_data"
    },
    {
     "data": {
      "application/vnd.jupyter.widget-view+json": {
       "model_id": "649b3bd543334933a62bdc71561b93a3",
       "version_major": 2,
       "version_minor": 0
      },
      "text/plain": [
       "Looping Each Links of Dates: 2019-08-22:   0%|          | 0/11 [00:00<?, ?it/s]"
      ]
     },
     "metadata": {},
     "output_type": "display_data"
    },
    {
     "data": {},
     "metadata": {},
     "output_type": "display_data"
    },
    {
     "data": {
      "application/vnd.jupyter.widget-view+json": {
       "model_id": "f9de6567afc74fdba60b452be519b2c2",
       "version_major": 2,
       "version_minor": 0
      },
      "text/plain": [
       "Looping Each Links of Dates: 2019-08-21:   0%|          | 0/10 [00:00<?, ?it/s]"
      ]
     },
     "metadata": {},
     "output_type": "display_data"
    },
    {
     "data": {},
     "metadata": {},
     "output_type": "display_data"
    },
    {
     "data": {
      "application/vnd.jupyter.widget-view+json": {
       "model_id": "08a73e895bf341f7af77219224172c78",
       "version_major": 2,
       "version_minor": 0
      },
      "text/plain": [
       "Looping Each Links of Dates: 2019-08-20:   0%|          | 0/16 [00:00<?, ?it/s]"
      ]
     },
     "metadata": {},
     "output_type": "display_data"
    },
    {
     "data": {},
     "metadata": {},
     "output_type": "display_data"
    },
    {
     "data": {
      "application/vnd.jupyter.widget-view+json": {
       "model_id": "154f8a8eceb642e1b76ebdebd82275fe",
       "version_major": 2,
       "version_minor": 0
      },
      "text/plain": [
       "Looping Each Links of Dates: 2019-08-19:   0%|          | 0/7 [00:00<?, ?it/s]"
      ]
     },
     "metadata": {},
     "output_type": "display_data"
    },
    {
     "data": {},
     "metadata": {},
     "output_type": "display_data"
    },
    {
     "data": {
      "application/vnd.jupyter.widget-view+json": {
       "model_id": "5bb687fc3fc148c2a337ec0178021265",
       "version_major": 2,
       "version_minor": 0
      },
      "text/plain": [
       "Looping Each Links of Dates: 2019-08-18:   0%|          | 0/7 [00:00<?, ?it/s]"
      ]
     },
     "metadata": {},
     "output_type": "display_data"
    },
    {
     "data": {},
     "metadata": {},
     "output_type": "display_data"
    },
    {
     "data": {
      "application/vnd.jupyter.widget-view+json": {
       "model_id": "5207258c55644258be45c5508e9cdd1f",
       "version_major": 2,
       "version_minor": 0
      },
      "text/plain": [
       "Looping Each Links of Dates: 2019-08-17:   0%|          | 0/13 [00:00<?, ?it/s]"
      ]
     },
     "metadata": {},
     "output_type": "display_data"
    },
    {
     "data": {},
     "metadata": {},
     "output_type": "display_data"
    },
    {
     "data": {
      "application/vnd.jupyter.widget-view+json": {
       "model_id": "ce55e563468b4a5991e6aaeac8377a3b",
       "version_major": 2,
       "version_minor": 0
      },
      "text/plain": [
       "Looping Each Links of Dates: 2019-08-16:   0%|          | 0/10 [00:00<?, ?it/s]"
      ]
     },
     "metadata": {},
     "output_type": "display_data"
    },
    {
     "data": {},
     "metadata": {},
     "output_type": "display_data"
    },
    {
     "data": {
      "application/vnd.jupyter.widget-view+json": {
       "model_id": "b258729cc2344f3b83672ee022640826",
       "version_major": 2,
       "version_minor": 0
      },
      "text/plain": [
       "Looping Each Links of Dates: 2019-08-15:   0%|          | 0/16 [00:00<?, ?it/s]"
      ]
     },
     "metadata": {},
     "output_type": "display_data"
    },
    {
     "data": {},
     "metadata": {},
     "output_type": "display_data"
    },
    {
     "data": {
      "application/vnd.jupyter.widget-view+json": {
       "model_id": "77869f0122c846c3848e72e3337e1a5b",
       "version_major": 2,
       "version_minor": 0
      },
      "text/plain": [
       "Looping Each Links of Dates: 2019-08-14:   0%|          | 0/15 [00:00<?, ?it/s]"
      ]
     },
     "metadata": {},
     "output_type": "display_data"
    },
    {
     "data": {},
     "metadata": {},
     "output_type": "display_data"
    },
    {
     "data": {
      "application/vnd.jupyter.widget-view+json": {
       "model_id": "b707c7b9571c42469fa986691b2a5669",
       "version_major": 2,
       "version_minor": 0
      },
      "text/plain": [
       "Looping Each Links of Dates: 2019-08-13:   0%|          | 0/9 [00:00<?, ?it/s]"
      ]
     },
     "metadata": {},
     "output_type": "display_data"
    },
    {
     "data": {},
     "metadata": {},
     "output_type": "display_data"
    },
    {
     "data": {
      "application/vnd.jupyter.widget-view+json": {
       "model_id": "5fac7ec09e1c4ea5bf6704a998dbbf4a",
       "version_major": 2,
       "version_minor": 0
      },
      "text/plain": [
       "Looping Each Links of Dates: 2019-08-12:   0%|          | 0/12 [00:00<?, ?it/s]"
      ]
     },
     "metadata": {},
     "output_type": "display_data"
    },
    {
     "data": {},
     "metadata": {},
     "output_type": "display_data"
    },
    {
     "data": {
      "application/vnd.jupyter.widget-view+json": {
       "model_id": "43534b674bee4c459404f0f61c17f630",
       "version_major": 2,
       "version_minor": 0
      },
      "text/plain": [
       "Looping Each Links of Dates: 2019-08-11:   0%|          | 0/6 [00:00<?, ?it/s]"
      ]
     },
     "metadata": {},
     "output_type": "display_data"
    },
    {
     "data": {},
     "metadata": {},
     "output_type": "display_data"
    },
    {
     "data": {
      "application/vnd.jupyter.widget-view+json": {
       "model_id": "f70eac50824942c887c474482c805087",
       "version_major": 2,
       "version_minor": 0
      },
      "text/plain": [
       "Looping Each Links of Dates: 2019-08-10:   0%|          | 0/13 [00:00<?, ?it/s]"
      ]
     },
     "metadata": {},
     "output_type": "display_data"
    },
    {
     "data": {},
     "metadata": {},
     "output_type": "display_data"
    },
    {
     "data": {
      "application/vnd.jupyter.widget-view+json": {
       "model_id": "17b1c8a5bd524c4899c87bb345a3e7f0",
       "version_major": 2,
       "version_minor": 0
      },
      "text/plain": [
       "Looping Each Links of Dates: 2019-08-09:   0%|          | 0/16 [00:00<?, ?it/s]"
      ]
     },
     "metadata": {},
     "output_type": "display_data"
    },
    {
     "data": {},
     "metadata": {},
     "output_type": "display_data"
    },
    {
     "data": {
      "application/vnd.jupyter.widget-view+json": {
       "model_id": "9b1802a367894c2582e5c019b0df6707",
       "version_major": 2,
       "version_minor": 0
      },
      "text/plain": [
       "Looping Each Links of Dates: 2019-08-08:   0%|          | 0/12 [00:00<?, ?it/s]"
      ]
     },
     "metadata": {},
     "output_type": "display_data"
    },
    {
     "data": {},
     "metadata": {},
     "output_type": "display_data"
    },
    {
     "data": {
      "application/vnd.jupyter.widget-view+json": {
       "model_id": "37909ddc0c2b4b858929c29e2911f153",
       "version_major": 2,
       "version_minor": 0
      },
      "text/plain": [
       "Looping Each Links of Dates: 2019-08-07:   0%|          | 0/15 [00:00<?, ?it/s]"
      ]
     },
     "metadata": {},
     "output_type": "display_data"
    },
    {
     "data": {},
     "metadata": {},
     "output_type": "display_data"
    },
    {
     "data": {
      "application/vnd.jupyter.widget-view+json": {
       "model_id": "01e755a6953e4a1bb2d680657468d251",
       "version_major": 2,
       "version_minor": 0
      },
      "text/plain": [
       "Looping Each Links of Dates: 2019-08-06:   0%|          | 0/7 [00:00<?, ?it/s]"
      ]
     },
     "metadata": {},
     "output_type": "display_data"
    },
    {
     "data": {},
     "metadata": {},
     "output_type": "display_data"
    },
    {
     "data": {
      "application/vnd.jupyter.widget-view+json": {
       "model_id": "a869a7eff7f8458e9ef3953962cfbad9",
       "version_major": 2,
       "version_minor": 0
      },
      "text/plain": [
       "Looping Each Links of Dates: 2019-08-05:   0%|          | 0/11 [00:00<?, ?it/s]"
      ]
     },
     "metadata": {},
     "output_type": "display_data"
    },
    {
     "data": {},
     "metadata": {},
     "output_type": "display_data"
    },
    {
     "data": {
      "application/vnd.jupyter.widget-view+json": {
       "model_id": "62318261f32c46d89e75a788c77eb51b",
       "version_major": 2,
       "version_minor": 0
      },
      "text/plain": [
       "Looping Each Links of Dates: 2019-08-04:   0%|          | 0/1 [00:00<?, ?it/s]"
      ]
     },
     "metadata": {},
     "output_type": "display_data"
    },
    {
     "data": {},
     "metadata": {},
     "output_type": "display_data"
    },
    {
     "data": {
      "application/vnd.jupyter.widget-view+json": {
       "model_id": "d56d3e70243248aa91efa942ca530a06",
       "version_major": 2,
       "version_minor": 0
      },
      "text/plain": [
       "Looping Each Links of Dates: 2019-08-03:   0%|          | 0/9 [00:00<?, ?it/s]"
      ]
     },
     "metadata": {},
     "output_type": "display_data"
    },
    {
     "data": {},
     "metadata": {},
     "output_type": "display_data"
    },
    {
     "data": {
      "application/vnd.jupyter.widget-view+json": {
       "model_id": "021ee498e0074eb89e5b6212842cdf92",
       "version_major": 2,
       "version_minor": 0
      },
      "text/plain": [
       "Looping Each Links of Dates: 2019-08-02:   0%|          | 0/7 [00:00<?, ?it/s]"
      ]
     },
     "metadata": {},
     "output_type": "display_data"
    },
    {
     "data": {},
     "metadata": {},
     "output_type": "display_data"
    },
    {
     "data": {
      "application/vnd.jupyter.widget-view+json": {
       "model_id": "d9f981ed4b354b6c927c7ecad8a4627f",
       "version_major": 2,
       "version_minor": 0
      },
      "text/plain": [
       "Looping Each Links of Dates: 2019-08-01:   0%|          | 0/12 [00:00<?, ?it/s]"
      ]
     },
     "metadata": {},
     "output_type": "display_data"
    },
    {
     "data": {},
     "metadata": {},
     "output_type": "display_data"
    },
    {
     "data": {
      "application/vnd.jupyter.widget-view+json": {
       "model_id": "f8d2b10df28b4ecb88188446524fb763",
       "version_major": 2,
       "version_minor": 0
      },
      "text/plain": [
       "Looping Each Links of Dates: 2019-07-31:   0%|          | 0/15 [00:00<?, ?it/s]"
      ]
     },
     "metadata": {},
     "output_type": "display_data"
    },
    {
     "data": {},
     "metadata": {},
     "output_type": "display_data"
    },
    {
     "data": {
      "application/vnd.jupyter.widget-view+json": {
       "model_id": "8efeec3fb49f443f812f752235004651",
       "version_major": 2,
       "version_minor": 0
      },
      "text/plain": [
       "Looping Each Links of Dates: 2019-07-30:   0%|          | 0/12 [00:00<?, ?it/s]"
      ]
     },
     "metadata": {},
     "output_type": "display_data"
    },
    {
     "data": {},
     "metadata": {},
     "output_type": "display_data"
    },
    {
     "data": {
      "application/vnd.jupyter.widget-view+json": {
       "model_id": "05adfaa79f8e4d7ba91afd3d7730adce",
       "version_major": 2,
       "version_minor": 0
      },
      "text/plain": [
       "Looping Each Links of Dates: 2019-07-29:   0%|          | 0/13 [00:00<?, ?it/s]"
      ]
     },
     "metadata": {},
     "output_type": "display_data"
    },
    {
     "data": {},
     "metadata": {},
     "output_type": "display_data"
    },
    {
     "data": {
      "application/vnd.jupyter.widget-view+json": {
       "model_id": "483a7f89f16c49e68d17dee81e86bf6b",
       "version_major": 2,
       "version_minor": 0
      },
      "text/plain": [
       "Looping Each Links of Dates: 2019-07-28:   0%|          | 0/10 [00:00<?, ?it/s]"
      ]
     },
     "metadata": {},
     "output_type": "display_data"
    },
    {
     "data": {},
     "metadata": {},
     "output_type": "display_data"
    },
    {
     "data": {
      "application/vnd.jupyter.widget-view+json": {
       "model_id": "9565ee01751d4052be2a93bc9a03c83c",
       "version_major": 2,
       "version_minor": 0
      },
      "text/plain": [
       "Looping Each Links of Dates: 2019-07-27:   0%|          | 0/13 [00:00<?, ?it/s]"
      ]
     },
     "metadata": {},
     "output_type": "display_data"
    },
    {
     "data": {},
     "metadata": {},
     "output_type": "display_data"
    },
    {
     "data": {
      "application/vnd.jupyter.widget-view+json": {
       "model_id": "6a79540d5ba84074ae9c9c8b7d2ac4dc",
       "version_major": 2,
       "version_minor": 0
      },
      "text/plain": [
       "Looping Each Links of Dates: 2019-07-26:   0%|          | 0/10 [00:00<?, ?it/s]"
      ]
     },
     "metadata": {},
     "output_type": "display_data"
    },
    {
     "data": {},
     "metadata": {},
     "output_type": "display_data"
    },
    {
     "data": {
      "application/vnd.jupyter.widget-view+json": {
       "model_id": "4ab65b30f63545b5a6ab0b7a4f511d3e",
       "version_major": 2,
       "version_minor": 0
      },
      "text/plain": [
       "Looping Each Links of Dates: 2019-07-25:   0%|          | 0/11 [00:00<?, ?it/s]"
      ]
     },
     "metadata": {},
     "output_type": "display_data"
    },
    {
     "data": {},
     "metadata": {},
     "output_type": "display_data"
    },
    {
     "data": {
      "application/vnd.jupyter.widget-view+json": {
       "model_id": "d2d5e6cf70c44becb3f5b2359c98646c",
       "version_major": 2,
       "version_minor": 0
      },
      "text/plain": [
       "Looping Each Links of Dates: 2019-07-24:   0%|          | 0/10 [00:00<?, ?it/s]"
      ]
     },
     "metadata": {},
     "output_type": "display_data"
    },
    {
     "data": {},
     "metadata": {},
     "output_type": "display_data"
    },
    {
     "data": {
      "application/vnd.jupyter.widget-view+json": {
       "model_id": "b68ce266016748aaaade0af68dfde9a3",
       "version_major": 2,
       "version_minor": 0
      },
      "text/plain": [
       "Looping Each Links of Dates: 2019-07-23:   0%|          | 0/12 [00:00<?, ?it/s]"
      ]
     },
     "metadata": {},
     "output_type": "display_data"
    },
    {
     "data": {},
     "metadata": {},
     "output_type": "display_data"
    },
    {
     "data": {
      "application/vnd.jupyter.widget-view+json": {
       "model_id": "b1361e553cf14db2b2837051bf1bf14f",
       "version_major": 2,
       "version_minor": 0
      },
      "text/plain": [
       "Looping Each Links of Dates: 2019-07-22:   0%|          | 0/13 [00:00<?, ?it/s]"
      ]
     },
     "metadata": {},
     "output_type": "display_data"
    },
    {
     "data": {},
     "metadata": {},
     "output_type": "display_data"
    },
    {
     "data": {
      "application/vnd.jupyter.widget-view+json": {
       "model_id": "9d24ecb338e84ca3a3f0fbd3a4db3814",
       "version_major": 2,
       "version_minor": 0
      },
      "text/plain": [
       "Looping Each Links of Dates: 2019-07-21:   0%|          | 0/6 [00:00<?, ?it/s]"
      ]
     },
     "metadata": {},
     "output_type": "display_data"
    },
    {
     "data": {},
     "metadata": {},
     "output_type": "display_data"
    },
    {
     "data": {
      "application/vnd.jupyter.widget-view+json": {
       "model_id": "f0664c63b1d543fcaacc478b360f7ff6",
       "version_major": 2,
       "version_minor": 0
      },
      "text/plain": [
       "Looping Each Links of Dates: 2019-07-20:   0%|          | 0/15 [00:00<?, ?it/s]"
      ]
     },
     "metadata": {},
     "output_type": "display_data"
    },
    {
     "data": {},
     "metadata": {},
     "output_type": "display_data"
    },
    {
     "data": {
      "application/vnd.jupyter.widget-view+json": {
       "model_id": "de6baead3ec34f589a1faeba0d854ba3",
       "version_major": 2,
       "version_minor": 0
      },
      "text/plain": [
       "Looping Each Links of Dates: 2019-07-19:   0%|          | 0/8 [00:00<?, ?it/s]"
      ]
     },
     "metadata": {},
     "output_type": "display_data"
    },
    {
     "data": {},
     "metadata": {},
     "output_type": "display_data"
    },
    {
     "data": {
      "application/vnd.jupyter.widget-view+json": {
       "model_id": "4e07cf335f3a466bb8a2ef7e5a1e4899",
       "version_major": 2,
       "version_minor": 0
      },
      "text/plain": [
       "Looping Each Links of Dates: 2019-07-18:   0%|          | 0/11 [00:00<?, ?it/s]"
      ]
     },
     "metadata": {},
     "output_type": "display_data"
    },
    {
     "data": {},
     "metadata": {},
     "output_type": "display_data"
    },
    {
     "data": {
      "application/vnd.jupyter.widget-view+json": {
       "model_id": "2830dfedb6bd406c85953395d89463db",
       "version_major": 2,
       "version_minor": 0
      },
      "text/plain": [
       "Looping Each Links of Dates: 2019-07-17:   0%|          | 0/13 [00:00<?, ?it/s]"
      ]
     },
     "metadata": {},
     "output_type": "display_data"
    },
    {
     "data": {},
     "metadata": {},
     "output_type": "display_data"
    },
    {
     "data": {
      "application/vnd.jupyter.widget-view+json": {
       "model_id": "ccf6893773774bbeb9f8d50dd678b4ae",
       "version_major": 2,
       "version_minor": 0
      },
      "text/plain": [
       "Looping Each Links of Dates: 2019-07-16:   0%|          | 0/9 [00:00<?, ?it/s]"
      ]
     },
     "metadata": {},
     "output_type": "display_data"
    },
    {
     "data": {},
     "metadata": {},
     "output_type": "display_data"
    },
    {
     "data": {
      "application/vnd.jupyter.widget-view+json": {
       "model_id": "021665e2b9d84a7f8e815851810cff2b",
       "version_major": 2,
       "version_minor": 0
      },
      "text/plain": [
       "Looping Each Links of Dates: 2019-07-15:   0%|          | 0/9 [00:00<?, ?it/s]"
      ]
     },
     "metadata": {},
     "output_type": "display_data"
    },
    {
     "data": {},
     "metadata": {},
     "output_type": "display_data"
    },
    {
     "data": {
      "application/vnd.jupyter.widget-view+json": {
       "model_id": "48f7d0aa2d6243fa89c03989b22aeacb",
       "version_major": 2,
       "version_minor": 0
      },
      "text/plain": [
       "Looping Each Links of Dates: 2019-07-14:   0%|          | 0/3 [00:00<?, ?it/s]"
      ]
     },
     "metadata": {},
     "output_type": "display_data"
    },
    {
     "data": {},
     "metadata": {},
     "output_type": "display_data"
    },
    {
     "data": {
      "application/vnd.jupyter.widget-view+json": {
       "model_id": "1fd957bf57364363acd153b66bfa2ed0",
       "version_major": 2,
       "version_minor": 0
      },
      "text/plain": [
       "Looping Each Links of Dates: 2019-07-13:   0%|          | 0/5 [00:00<?, ?it/s]"
      ]
     },
     "metadata": {},
     "output_type": "display_data"
    },
    {
     "data": {},
     "metadata": {},
     "output_type": "display_data"
    },
    {
     "data": {
      "application/vnd.jupyter.widget-view+json": {
       "model_id": "536b6180b3ef48e0a465b31323a47b84",
       "version_major": 2,
       "version_minor": 0
      },
      "text/plain": [
       "Looping Each Links of Dates: 2019-07-12:   0%|          | 0/5 [00:00<?, ?it/s]"
      ]
     },
     "metadata": {},
     "output_type": "display_data"
    },
    {
     "data": {},
     "metadata": {},
     "output_type": "display_data"
    },
    {
     "data": {
      "application/vnd.jupyter.widget-view+json": {
       "model_id": "60f53a61a23a46b4b8356ffbe29caa39",
       "version_major": 2,
       "version_minor": 0
      },
      "text/plain": [
       "Looping Each Links of Dates: 2019-07-11:   0%|          | 0/7 [00:00<?, ?it/s]"
      ]
     },
     "metadata": {},
     "output_type": "display_data"
    },
    {
     "data": {},
     "metadata": {},
     "output_type": "display_data"
    },
    {
     "data": {
      "application/vnd.jupyter.widget-view+json": {
       "model_id": "38bb3c5c81ea4962a49034f815d8f623",
       "version_major": 2,
       "version_minor": 0
      },
      "text/plain": [
       "Looping Each Links of Dates: 2019-07-10:   0%|          | 0/8 [00:00<?, ?it/s]"
      ]
     },
     "metadata": {},
     "output_type": "display_data"
    },
    {
     "data": {},
     "metadata": {},
     "output_type": "display_data"
    },
    {
     "data": {
      "application/vnd.jupyter.widget-view+json": {
       "model_id": "c6316a8153064621a3e050e13fad5688",
       "version_major": 2,
       "version_minor": 0
      },
      "text/plain": [
       "Looping Each Links of Dates: 2019-07-09:   0%|          | 0/6 [00:00<?, ?it/s]"
      ]
     },
     "metadata": {},
     "output_type": "display_data"
    },
    {
     "data": {},
     "metadata": {},
     "output_type": "display_data"
    },
    {
     "data": {
      "application/vnd.jupyter.widget-view+json": {
       "model_id": "e6a1b5fe96654a07ae663eed3b78a240",
       "version_major": 2,
       "version_minor": 0
      },
      "text/plain": [
       "Looping Each Links of Dates: 2019-07-08:   0%|          | 0/7 [00:00<?, ?it/s]"
      ]
     },
     "metadata": {},
     "output_type": "display_data"
    },
    {
     "data": {},
     "metadata": {},
     "output_type": "display_data"
    },
    {
     "data": {
      "application/vnd.jupyter.widget-view+json": {
       "model_id": "d58e897efbb4457aba44907b41dab6ef",
       "version_major": 2,
       "version_minor": 0
      },
      "text/plain": [
       "Looping Each Links of Dates: 2019-07-07:   0%|          | 0/3 [00:00<?, ?it/s]"
      ]
     },
     "metadata": {},
     "output_type": "display_data"
    },
    {
     "data": {},
     "metadata": {},
     "output_type": "display_data"
    },
    {
     "data": {
      "application/vnd.jupyter.widget-view+json": {
       "model_id": "f3ad011aa9bc49d782024a3ff51d1b20",
       "version_major": 2,
       "version_minor": 0
      },
      "text/plain": [
       "Looping Each Links of Dates: 2019-07-06:   0%|          | 0/2 [00:00<?, ?it/s]"
      ]
     },
     "metadata": {},
     "output_type": "display_data"
    },
    {
     "data": {},
     "metadata": {},
     "output_type": "display_data"
    },
    {
     "data": {
      "application/vnd.jupyter.widget-view+json": {
       "model_id": "3e483f9c3cff4b3d838173329e386736",
       "version_major": 2,
       "version_minor": 0
      },
      "text/plain": [
       "Looping Each Links of Dates: 2019-07-05:   0%|          | 0/5 [00:00<?, ?it/s]"
      ]
     },
     "metadata": {},
     "output_type": "display_data"
    },
    {
     "data": {},
     "metadata": {},
     "output_type": "display_data"
    },
    {
     "data": {
      "application/vnd.jupyter.widget-view+json": {
       "model_id": "e40090440c8a4ab28cbdb8dc9332ebbc",
       "version_major": 2,
       "version_minor": 0
      },
      "text/plain": [
       "Looping Each Links of Dates: 2019-07-04:   0%|          | 0/4 [00:00<?, ?it/s]"
      ]
     },
     "metadata": {},
     "output_type": "display_data"
    },
    {
     "data": {},
     "metadata": {},
     "output_type": "display_data"
    },
    {
     "data": {
      "application/vnd.jupyter.widget-view+json": {
       "model_id": "56bece41d2c849a594cde4ef2c9e2b07",
       "version_major": 2,
       "version_minor": 0
      },
      "text/plain": [
       "Looping Each Links of Dates: 2019-07-03:   0%|          | 0/5 [00:00<?, ?it/s]"
      ]
     },
     "metadata": {},
     "output_type": "display_data"
    },
    {
     "data": {},
     "metadata": {},
     "output_type": "display_data"
    },
    {
     "data": {
      "application/vnd.jupyter.widget-view+json": {
       "model_id": "9bb7aadd82684f59ac9f64ace1dd5317",
       "version_major": 2,
       "version_minor": 0
      },
      "text/plain": [
       "Looping Each Links of Dates: 2019-07-02:   0%|          | 0/5 [00:00<?, ?it/s]"
      ]
     },
     "metadata": {},
     "output_type": "display_data"
    },
    {
     "data": {},
     "metadata": {},
     "output_type": "display_data"
    },
    {
     "data": {
      "application/vnd.jupyter.widget-view+json": {
       "model_id": "66e584c061fc461fa74d068ca4d4810e",
       "version_major": 2,
       "version_minor": 0
      },
      "text/plain": [
       "Looping Each Links of Dates: 2019-07-01:   0%|          | 0/9 [00:00<?, ?it/s]"
      ]
     },
     "metadata": {},
     "output_type": "display_data"
    },
    {
     "data": {},
     "metadata": {},
     "output_type": "display_data"
    },
    {
     "data": {
      "application/vnd.jupyter.widget-view+json": {
       "model_id": "f4e32923e1b44b6a9820d2335abce5d3",
       "version_major": 2,
       "version_minor": 0
      },
      "text/plain": [
       "Looping Each Links of Dates: 2019-06-30:   0%|          | 0/6 [00:00<?, ?it/s]"
      ]
     },
     "metadata": {},
     "output_type": "display_data"
    },
    {
     "data": {},
     "metadata": {},
     "output_type": "display_data"
    },
    {
     "data": {
      "application/vnd.jupyter.widget-view+json": {
       "model_id": "553b4009bbd24692953ea56357bad831",
       "version_major": 2,
       "version_minor": 0
      },
      "text/plain": [
       "Looping Each Links of Dates: 2019-06-29:   0%|          | 0/9 [00:00<?, ?it/s]"
      ]
     },
     "metadata": {},
     "output_type": "display_data"
    },
    {
     "data": {},
     "metadata": {},
     "output_type": "display_data"
    },
    {
     "data": {
      "application/vnd.jupyter.widget-view+json": {
       "model_id": "4089c13c3b444f15ba965b158cdee1ba",
       "version_major": 2,
       "version_minor": 0
      },
      "text/plain": [
       "Looping Each Links of Dates: 2019-06-28:   0%|          | 0/8 [00:00<?, ?it/s]"
      ]
     },
     "metadata": {},
     "output_type": "display_data"
    },
    {
     "data": {},
     "metadata": {},
     "output_type": "display_data"
    },
    {
     "data": {
      "application/vnd.jupyter.widget-view+json": {
       "model_id": "4d6d9208bbdb4f24854950c207eb5762",
       "version_major": 2,
       "version_minor": 0
      },
      "text/plain": [
       "Looping Each Links of Dates: 2019-06-27:   0%|          | 0/9 [00:00<?, ?it/s]"
      ]
     },
     "metadata": {},
     "output_type": "display_data"
    },
    {
     "data": {},
     "metadata": {},
     "output_type": "display_data"
    },
    {
     "data": {
      "application/vnd.jupyter.widget-view+json": {
       "model_id": "5d385226afe64a789a51b3ef5720c3fa",
       "version_major": 2,
       "version_minor": 0
      },
      "text/plain": [
       "Looping Each Links of Dates: 2019-06-26:   0%|          | 0/11 [00:00<?, ?it/s]"
      ]
     },
     "metadata": {},
     "output_type": "display_data"
    },
    {
     "data": {},
     "metadata": {},
     "output_type": "display_data"
    },
    {
     "data": {
      "application/vnd.jupyter.widget-view+json": {
       "model_id": "e861859690e74b488ce33c580305f092",
       "version_major": 2,
       "version_minor": 0
      },
      "text/plain": [
       "Looping Each Links of Dates: 2019-06-25:   0%|          | 0/8 [00:00<?, ?it/s]"
      ]
     },
     "metadata": {},
     "output_type": "display_data"
    },
    {
     "data": {},
     "metadata": {},
     "output_type": "display_data"
    },
    {
     "data": {
      "application/vnd.jupyter.widget-view+json": {
       "model_id": "c5b49020c61f48d4b6e53089293c612c",
       "version_major": 2,
       "version_minor": 0
      },
      "text/plain": [
       "Looping Each Links of Dates: 2019-06-24:   0%|          | 0/4 [00:00<?, ?it/s]"
      ]
     },
     "metadata": {},
     "output_type": "display_data"
    },
    {
     "data": {},
     "metadata": {},
     "output_type": "display_data"
    },
    {
     "data": {
      "application/vnd.jupyter.widget-view+json": {
       "model_id": "eebf236176844a7692f4c946edfabcf6",
       "version_major": 2,
       "version_minor": 0
      },
      "text/plain": [
       "Looping Each Links of Dates: 2019-06-23:   0%|          | 0/4 [00:00<?, ?it/s]"
      ]
     },
     "metadata": {},
     "output_type": "display_data"
    },
    {
     "data": {},
     "metadata": {},
     "output_type": "display_data"
    },
    {
     "data": {
      "application/vnd.jupyter.widget-view+json": {
       "model_id": "978aeb5408bf4d779a26f16d50f33697",
       "version_major": 2,
       "version_minor": 0
      },
      "text/plain": [
       "Looping Each Links of Dates: 2019-06-22:   0%|          | 0/6 [00:00<?, ?it/s]"
      ]
     },
     "metadata": {},
     "output_type": "display_data"
    },
    {
     "data": {},
     "metadata": {},
     "output_type": "display_data"
    },
    {
     "data": {
      "application/vnd.jupyter.widget-view+json": {
       "model_id": "ffeeb5dbd7d045fda64f77d236e826aa",
       "version_major": 2,
       "version_minor": 0
      },
      "text/plain": [
       "Looping Each Links of Dates: 2019-06-21:   0%|          | 0/5 [00:00<?, ?it/s]"
      ]
     },
     "metadata": {},
     "output_type": "display_data"
    },
    {
     "data": {},
     "metadata": {},
     "output_type": "display_data"
    },
    {
     "data": {
      "application/vnd.jupyter.widget-view+json": {
       "model_id": "dfcd9155bad047a684112ad5d8c7a3ed",
       "version_major": 2,
       "version_minor": 0
      },
      "text/plain": [
       "Looping Each Links of Dates: 2019-06-20:   0%|          | 0/5 [00:00<?, ?it/s]"
      ]
     },
     "metadata": {},
     "output_type": "display_data"
    },
    {
     "data": {},
     "metadata": {},
     "output_type": "display_data"
    },
    {
     "data": {
      "application/vnd.jupyter.widget-view+json": {
       "model_id": "7832b604334141aca0c79a63b59f3036",
       "version_major": 2,
       "version_minor": 0
      },
      "text/plain": [
       "Looping Each Links of Dates: 2019-06-19:   0%|          | 0/7 [00:00<?, ?it/s]"
      ]
     },
     "metadata": {},
     "output_type": "display_data"
    },
    {
     "data": {},
     "metadata": {},
     "output_type": "display_data"
    },
    {
     "data": {
      "application/vnd.jupyter.widget-view+json": {
       "model_id": "aef7b702674247fe87a3e8e37639199d",
       "version_major": 2,
       "version_minor": 0
      },
      "text/plain": [
       "Looping Each Links of Dates: 2019-06-18:   0%|          | 0/9 [00:00<?, ?it/s]"
      ]
     },
     "metadata": {},
     "output_type": "display_data"
    },
    {
     "data": {},
     "metadata": {},
     "output_type": "display_data"
    },
    {
     "data": {
      "application/vnd.jupyter.widget-view+json": {
       "model_id": "37e4ec92d65f4cce833edee219ddf932",
       "version_major": 2,
       "version_minor": 0
      },
      "text/plain": [
       "Looping Each Links of Dates: 2019-06-17:   0%|          | 0/4 [00:00<?, ?it/s]"
      ]
     },
     "metadata": {},
     "output_type": "display_data"
    },
    {
     "data": {},
     "metadata": {},
     "output_type": "display_data"
    },
    {
     "data": {
      "application/vnd.jupyter.widget-view+json": {
       "model_id": "85823fa6d1554515945a87318014a9eb",
       "version_major": 2,
       "version_minor": 0
      },
      "text/plain": [
       "Looping Each Links of Dates: 2019-06-16:   0%|          | 0/5 [00:00<?, ?it/s]"
      ]
     },
     "metadata": {},
     "output_type": "display_data"
    },
    {
     "data": {},
     "metadata": {},
     "output_type": "display_data"
    },
    {
     "data": {
      "application/vnd.jupyter.widget-view+json": {
       "model_id": "28f1d83eaf63461ca21ec586116d5d93",
       "version_major": 2,
       "version_minor": 0
      },
      "text/plain": [
       "Looping Each Links of Dates: 2019-06-15:   0%|          | 0/5 [00:00<?, ?it/s]"
      ]
     },
     "metadata": {},
     "output_type": "display_data"
    },
    {
     "data": {},
     "metadata": {},
     "output_type": "display_data"
    },
    {
     "data": {
      "application/vnd.jupyter.widget-view+json": {
       "model_id": "662f9bb5d367400a9246fae7d010ae45",
       "version_major": 2,
       "version_minor": 0
      },
      "text/plain": [
       "Looping Each Links of Dates: 2019-06-14:   0%|          | 0/5 [00:00<?, ?it/s]"
      ]
     },
     "metadata": {},
     "output_type": "display_data"
    },
    {
     "data": {},
     "metadata": {},
     "output_type": "display_data"
    },
    {
     "data": {
      "application/vnd.jupyter.widget-view+json": {
       "model_id": "7db9b6854fbb4fe09c7c8f364828c141",
       "version_major": 2,
       "version_minor": 0
      },
      "text/plain": [
       "Looping Each Links of Dates: 2019-06-13:   0%|          | 0/8 [00:00<?, ?it/s]"
      ]
     },
     "metadata": {},
     "output_type": "display_data"
    },
    {
     "data": {},
     "metadata": {},
     "output_type": "display_data"
    },
    {
     "data": {
      "application/vnd.jupyter.widget-view+json": {
       "model_id": "d8320714f721422c815ef0b352284370",
       "version_major": 2,
       "version_minor": 0
      },
      "text/plain": [
       "Looping Each Links of Dates: 2019-06-12:   0%|          | 0/7 [00:00<?, ?it/s]"
      ]
     },
     "metadata": {},
     "output_type": "display_data"
    },
    {
     "data": {},
     "metadata": {},
     "output_type": "display_data"
    },
    {
     "data": {
      "application/vnd.jupyter.widget-view+json": {
       "model_id": "bde45c4e367b403f9d0d7e2fb360341a",
       "version_major": 2,
       "version_minor": 0
      },
      "text/plain": [
       "Looping Each Links of Dates: 2019-06-11:   0%|          | 0/8 [00:00<?, ?it/s]"
      ]
     },
     "metadata": {},
     "output_type": "display_data"
    },
    {
     "data": {},
     "metadata": {},
     "output_type": "display_data"
    },
    {
     "data": {
      "application/vnd.jupyter.widget-view+json": {
       "model_id": "46a1cb9a22454a38a30e867f86970541",
       "version_major": 2,
       "version_minor": 0
      },
      "text/plain": [
       "Looping Each Links of Dates: 2019-06-10:   0%|          | 0/5 [00:00<?, ?it/s]"
      ]
     },
     "metadata": {},
     "output_type": "display_data"
    },
    {
     "data": {},
     "metadata": {},
     "output_type": "display_data"
    },
    {
     "data": {
      "application/vnd.jupyter.widget-view+json": {
       "model_id": "8f139259e89d4eedbe6f93fc45e7bfbc",
       "version_major": 2,
       "version_minor": 0
      },
      "text/plain": [
       "Looping Each Links of Dates: 2019-06-09:   0%|          | 0/8 [00:00<?, ?it/s]"
      ]
     },
     "metadata": {},
     "output_type": "display_data"
    },
    {
     "data": {},
     "metadata": {},
     "output_type": "display_data"
    },
    {
     "data": {
      "application/vnd.jupyter.widget-view+json": {
       "model_id": "0e2dc84b30444da8bab63ade733e0c14",
       "version_major": 2,
       "version_minor": 0
      },
      "text/plain": [
       "Looping Each Links of Dates: 2019-06-08:   0%|          | 0/4 [00:00<?, ?it/s]"
      ]
     },
     "metadata": {},
     "output_type": "display_data"
    },
    {
     "data": {},
     "metadata": {},
     "output_type": "display_data"
    },
    {
     "data": {
      "application/vnd.jupyter.widget-view+json": {
       "model_id": "d5a502a5646c44a1a9e0a3fc95f713c1",
       "version_major": 2,
       "version_minor": 0
      },
      "text/plain": [
       "Looping Each Links of Dates: 2019-06-07:   0%|          | 0/9 [00:00<?, ?it/s]"
      ]
     },
     "metadata": {},
     "output_type": "display_data"
    },
    {
     "data": {},
     "metadata": {},
     "output_type": "display_data"
    },
    {
     "data": {
      "application/vnd.jupyter.widget-view+json": {
       "model_id": "1895fe1a24ce4d5eb25ff78a6219a151",
       "version_major": 2,
       "version_minor": 0
      },
      "text/plain": [
       "Looping Each Links of Dates: 2019-06-06:   0%|          | 0/6 [00:00<?, ?it/s]"
      ]
     },
     "metadata": {},
     "output_type": "display_data"
    },
    {
     "data": {},
     "metadata": {},
     "output_type": "display_data"
    },
    {
     "data": {
      "application/vnd.jupyter.widget-view+json": {
       "model_id": "577de3c3d00b4997b9e08c68e7eb55df",
       "version_major": 2,
       "version_minor": 0
      },
      "text/plain": [
       "Looping Each Links of Dates: 2019-06-05:   0%|          | 0/10 [00:00<?, ?it/s]"
      ]
     },
     "metadata": {},
     "output_type": "display_data"
    },
    {
     "data": {},
     "metadata": {},
     "output_type": "display_data"
    },
    {
     "data": {
      "application/vnd.jupyter.widget-view+json": {
       "model_id": "6f2ffbe99b884932a31af78a045baf16",
       "version_major": 2,
       "version_minor": 0
      },
      "text/plain": [
       "Looping Each Links of Dates: 2019-06-04:   0%|          | 0/7 [00:00<?, ?it/s]"
      ]
     },
     "metadata": {},
     "output_type": "display_data"
    },
    {
     "data": {},
     "metadata": {},
     "output_type": "display_data"
    },
    {
     "data": {
      "application/vnd.jupyter.widget-view+json": {
       "model_id": "6f4d770a6b3c4fc6a83445621683a97e",
       "version_major": 2,
       "version_minor": 0
      },
      "text/plain": [
       "Looping Each Links of Dates: 2019-06-03:   0%|          | 0/7 [00:00<?, ?it/s]"
      ]
     },
     "metadata": {},
     "output_type": "display_data"
    },
    {
     "data": {},
     "metadata": {},
     "output_type": "display_data"
    },
    {
     "data": {
      "application/vnd.jupyter.widget-view+json": {
       "model_id": "43639142bbd24618bd9d0d2b158d7af0",
       "version_major": 2,
       "version_minor": 0
      },
      "text/plain": [
       "Looping Each Links of Dates: 2019-06-02:   0%|          | 0/3 [00:00<?, ?it/s]"
      ]
     },
     "metadata": {},
     "output_type": "display_data"
    },
    {
     "data": {},
     "metadata": {},
     "output_type": "display_data"
    },
    {
     "data": {
      "application/vnd.jupyter.widget-view+json": {
       "model_id": "ca03dedc17f94f8b9086068c1e9bbddb",
       "version_major": 2,
       "version_minor": 0
      },
      "text/plain": [
       "Looping Each Links of Dates: 2019-06-01:   0%|          | 0/6 [00:00<?, ?it/s]"
      ]
     },
     "metadata": {},
     "output_type": "display_data"
    },
    {
     "data": {},
     "metadata": {},
     "output_type": "display_data"
    },
    {
     "data": {
      "application/vnd.jupyter.widget-view+json": {
       "model_id": "7be83f06bed245fa99dd2f1ff4a066a2",
       "version_major": 2,
       "version_minor": 0
      },
      "text/plain": [
       "Looping Each Links of Dates: 2019-05-31:   0%|          | 0/5 [00:00<?, ?it/s]"
      ]
     },
     "metadata": {},
     "output_type": "display_data"
    },
    {
     "data": {},
     "metadata": {},
     "output_type": "display_data"
    },
    {
     "data": {
      "application/vnd.jupyter.widget-view+json": {
       "model_id": "e8c7b4611a994fada43a048ce293030f",
       "version_major": 2,
       "version_minor": 0
      },
      "text/plain": [
       "Looping Each Links of Dates: 2019-05-30:   0%|          | 0/10 [00:00<?, ?it/s]"
      ]
     },
     "metadata": {},
     "output_type": "display_data"
    },
    {
     "data": {},
     "metadata": {},
     "output_type": "display_data"
    },
    {
     "data": {
      "application/vnd.jupyter.widget-view+json": {
       "model_id": "8a1ec82ac92f4c698699a4b9aef6ae4f",
       "version_major": 2,
       "version_minor": 0
      },
      "text/plain": [
       "Looping Each Links of Dates: 2019-05-29:   0%|          | 0/9 [00:00<?, ?it/s]"
      ]
     },
     "metadata": {},
     "output_type": "display_data"
    },
    {
     "data": {},
     "metadata": {},
     "output_type": "display_data"
    },
    {
     "data": {
      "application/vnd.jupyter.widget-view+json": {
       "model_id": "b2d35826bc9f4692a6b93e0a2e9549b0",
       "version_major": 2,
       "version_minor": 0
      },
      "text/plain": [
       "Looping Each Links of Dates: 2019-05-28:   0%|          | 0/5 [00:00<?, ?it/s]"
      ]
     },
     "metadata": {},
     "output_type": "display_data"
    },
    {
     "data": {},
     "metadata": {},
     "output_type": "display_data"
    },
    {
     "data": {
      "application/vnd.jupyter.widget-view+json": {
       "model_id": "ecbbaaac21d44a04a8a857fc4f8b3a71",
       "version_major": 2,
       "version_minor": 0
      },
      "text/plain": [
       "Looping Each Links of Dates: 2019-05-27:   0%|          | 0/6 [00:00<?, ?it/s]"
      ]
     },
     "metadata": {},
     "output_type": "display_data"
    },
    {
     "data": {},
     "metadata": {},
     "output_type": "display_data"
    },
    {
     "data": {
      "application/vnd.jupyter.widget-view+json": {
       "model_id": "02f9f74bc05240ce87109f0d316c2acc",
       "version_major": 2,
       "version_minor": 0
      },
      "text/plain": [
       "Looping Each Links of Dates: 2019-05-26:   0%|          | 0/8 [00:00<?, ?it/s]"
      ]
     },
     "metadata": {},
     "output_type": "display_data"
    },
    {
     "data": {},
     "metadata": {},
     "output_type": "display_data"
    },
    {
     "data": {
      "application/vnd.jupyter.widget-view+json": {
       "model_id": "11a0249306aa492ab4f66d2a75d128b3",
       "version_major": 2,
       "version_minor": 0
      },
      "text/plain": [
       "Looping Each Links of Dates: 2019-05-25:   0%|          | 0/7 [00:00<?, ?it/s]"
      ]
     },
     "metadata": {},
     "output_type": "display_data"
    },
    {
     "data": {},
     "metadata": {},
     "output_type": "display_data"
    },
    {
     "data": {
      "application/vnd.jupyter.widget-view+json": {
       "model_id": "9fac460630134b70abec8379cafac1b4",
       "version_major": 2,
       "version_minor": 0
      },
      "text/plain": [
       "Looping Each Links of Dates: 2019-05-24:   0%|          | 0/11 [00:00<?, ?it/s]"
      ]
     },
     "metadata": {},
     "output_type": "display_data"
    },
    {
     "data": {},
     "metadata": {},
     "output_type": "display_data"
    },
    {
     "data": {
      "application/vnd.jupyter.widget-view+json": {
       "model_id": "13376d7e5bb841139bbb3afa6568d4d8",
       "version_major": 2,
       "version_minor": 0
      },
      "text/plain": [
       "Looping Each Links of Dates: 2019-05-23:   0%|          | 0/10 [00:00<?, ?it/s]"
      ]
     },
     "metadata": {},
     "output_type": "display_data"
    },
    {
     "data": {},
     "metadata": {},
     "output_type": "display_data"
    },
    {
     "data": {
      "application/vnd.jupyter.widget-view+json": {
       "model_id": "a6c7b926a06e4da2b7cbb825a80ec3c1",
       "version_major": 2,
       "version_minor": 0
      },
      "text/plain": [
       "Looping Each Links of Dates: 2019-05-22:   0%|          | 0/11 [00:00<?, ?it/s]"
      ]
     },
     "metadata": {},
     "output_type": "display_data"
    },
    {
     "data": {},
     "metadata": {},
     "output_type": "display_data"
    },
    {
     "data": {
      "application/vnd.jupyter.widget-view+json": {
       "model_id": "0ab794c47ce04a62857975aebba07bfb",
       "version_major": 2,
       "version_minor": 0
      },
      "text/plain": [
       "Looping Each Links of Dates: 2019-05-21:   0%|          | 0/9 [00:00<?, ?it/s]"
      ]
     },
     "metadata": {},
     "output_type": "display_data"
    },
    {
     "data": {},
     "metadata": {},
     "output_type": "display_data"
    },
    {
     "data": {
      "application/vnd.jupyter.widget-view+json": {
       "model_id": "0873e2665f8542859d0aa0c5e5e32789",
       "version_major": 2,
       "version_minor": 0
      },
      "text/plain": [
       "Looping Each Links of Dates: 2019-05-20:   0%|          | 0/10 [00:00<?, ?it/s]"
      ]
     },
     "metadata": {},
     "output_type": "display_data"
    },
    {
     "data": {},
     "metadata": {},
     "output_type": "display_data"
    },
    {
     "data": {
      "application/vnd.jupyter.widget-view+json": {
       "model_id": "44db6b4a89f04145a0de8128e96a682d",
       "version_major": 2,
       "version_minor": 0
      },
      "text/plain": [
       "Looping Each Links of Dates: 2019-05-19:   0%|          | 0/5 [00:00<?, ?it/s]"
      ]
     },
     "metadata": {},
     "output_type": "display_data"
    },
    {
     "data": {},
     "metadata": {},
     "output_type": "display_data"
    },
    {
     "data": {
      "application/vnd.jupyter.widget-view+json": {
       "model_id": "d10df7365a924255b43ee793988558da",
       "version_major": 2,
       "version_minor": 0
      },
      "text/plain": [
       "Looping Each Links of Dates: 2019-05-18:   0%|          | 0/7 [00:00<?, ?it/s]"
      ]
     },
     "metadata": {},
     "output_type": "display_data"
    },
    {
     "data": {},
     "metadata": {},
     "output_type": "display_data"
    },
    {
     "data": {
      "application/vnd.jupyter.widget-view+json": {
       "model_id": "5dc829da66c54f7b8a75f69bb00bbffc",
       "version_major": 2,
       "version_minor": 0
      },
      "text/plain": [
       "Looping Each Links of Dates: 2019-05-17:   0%|          | 0/8 [00:00<?, ?it/s]"
      ]
     },
     "metadata": {},
     "output_type": "display_data"
    },
    {
     "data": {},
     "metadata": {},
     "output_type": "display_data"
    },
    {
     "data": {
      "application/vnd.jupyter.widget-view+json": {
       "model_id": "d0650280f0dd45cdaa8a3b24249b13b9",
       "version_major": 2,
       "version_minor": 0
      },
      "text/plain": [
       "Looping Each Links of Dates: 2019-05-16:   0%|          | 0/8 [00:00<?, ?it/s]"
      ]
     },
     "metadata": {},
     "output_type": "display_data"
    },
    {
     "data": {},
     "metadata": {},
     "output_type": "display_data"
    },
    {
     "data": {
      "application/vnd.jupyter.widget-view+json": {
       "model_id": "5128ac641514433ab282e1d0b74bf8c1",
       "version_major": 2,
       "version_minor": 0
      },
      "text/plain": [
       "Looping Each Links of Dates: 2019-05-15:   0%|          | 0/7 [00:00<?, ?it/s]"
      ]
     },
     "metadata": {},
     "output_type": "display_data"
    },
    {
     "data": {},
     "metadata": {},
     "output_type": "display_data"
    },
    {
     "data": {
      "application/vnd.jupyter.widget-view+json": {
       "model_id": "4c18654c0c714514ac4f2905b224f848",
       "version_major": 2,
       "version_minor": 0
      },
      "text/plain": [
       "Looping Each Links of Dates: 2019-05-14:   0%|          | 0/10 [00:00<?, ?it/s]"
      ]
     },
     "metadata": {},
     "output_type": "display_data"
    },
    {
     "data": {},
     "metadata": {},
     "output_type": "display_data"
    },
    {
     "data": {
      "application/vnd.jupyter.widget-view+json": {
       "model_id": "beb1627df91241349bcf5d015aea6065",
       "version_major": 2,
       "version_minor": 0
      },
      "text/plain": [
       "Looping Each Links of Dates: 2019-05-13:   0%|          | 0/10 [00:00<?, ?it/s]"
      ]
     },
     "metadata": {},
     "output_type": "display_data"
    },
    {
     "data": {},
     "metadata": {},
     "output_type": "display_data"
    },
    {
     "data": {
      "application/vnd.jupyter.widget-view+json": {
       "model_id": "21d25c9f9c78430fb15271bb7f496fef",
       "version_major": 2,
       "version_minor": 0
      },
      "text/plain": [
       "Looping Each Links of Dates: 2019-05-12:   0%|          | 0/8 [00:00<?, ?it/s]"
      ]
     },
     "metadata": {},
     "output_type": "display_data"
    },
    {
     "data": {},
     "metadata": {},
     "output_type": "display_data"
    },
    {
     "data": {
      "application/vnd.jupyter.widget-view+json": {
       "model_id": "2c5e4a0f9f89452ca0c4057cbb3ce53f",
       "version_major": 2,
       "version_minor": 0
      },
      "text/plain": [
       "Looping Each Links of Dates: 2019-05-11:   0%|          | 0/5 [00:00<?, ?it/s]"
      ]
     },
     "metadata": {},
     "output_type": "display_data"
    },
    {
     "data": {},
     "metadata": {},
     "output_type": "display_data"
    },
    {
     "data": {
      "application/vnd.jupyter.widget-view+json": {
       "model_id": "4e445381e09644ce8f08f325143a202f",
       "version_major": 2,
       "version_minor": 0
      },
      "text/plain": [
       "Looping Each Links of Dates: 2019-05-10:   0%|          | 0/5 [00:00<?, ?it/s]"
      ]
     },
     "metadata": {},
     "output_type": "display_data"
    },
    {
     "data": {},
     "metadata": {},
     "output_type": "display_data"
    },
    {
     "data": {
      "application/vnd.jupyter.widget-view+json": {
       "model_id": "1f618b48cf984550981a676daf321596",
       "version_major": 2,
       "version_minor": 0
      },
      "text/plain": [
       "Looping Each Links of Dates: 2019-05-09:   0%|          | 0/11 [00:00<?, ?it/s]"
      ]
     },
     "metadata": {},
     "output_type": "display_data"
    },
    {
     "data": {},
     "metadata": {},
     "output_type": "display_data"
    },
    {
     "data": {
      "application/vnd.jupyter.widget-view+json": {
       "model_id": "7b11cc35b3464beab8e31605d5b70297",
       "version_major": 2,
       "version_minor": 0
      },
      "text/plain": [
       "Looping Each Links of Dates: 2019-05-08:   0%|          | 0/7 [00:00<?, ?it/s]"
      ]
     },
     "metadata": {},
     "output_type": "display_data"
    },
    {
     "data": {},
     "metadata": {},
     "output_type": "display_data"
    },
    {
     "data": {
      "application/vnd.jupyter.widget-view+json": {
       "model_id": "f0ffa40d9f2d41869db6a1ef2d50dff0",
       "version_major": 2,
       "version_minor": 0
      },
      "text/plain": [
       "Looping Each Links of Dates: 2019-05-07:   0%|          | 0/9 [00:00<?, ?it/s]"
      ]
     },
     "metadata": {},
     "output_type": "display_data"
    },
    {
     "data": {},
     "metadata": {},
     "output_type": "display_data"
    },
    {
     "data": {
      "application/vnd.jupyter.widget-view+json": {
       "model_id": "45411d79f47a4ec1928157d48abfd3e4",
       "version_major": 2,
       "version_minor": 0
      },
      "text/plain": [
       "Looping Each Links of Dates: 2019-05-06:   0%|          | 0/7 [00:00<?, ?it/s]"
      ]
     },
     "metadata": {},
     "output_type": "display_data"
    },
    {
     "data": {},
     "metadata": {},
     "output_type": "display_data"
    },
    {
     "data": {
      "application/vnd.jupyter.widget-view+json": {
       "model_id": "392525a6ac0d4effbcd3e2f9715a75df",
       "version_major": 2,
       "version_minor": 0
      },
      "text/plain": [
       "Looping Each Links of Dates: 2019-05-05:   0%|          | 0/7 [00:00<?, ?it/s]"
      ]
     },
     "metadata": {},
     "output_type": "display_data"
    },
    {
     "data": {},
     "metadata": {},
     "output_type": "display_data"
    },
    {
     "data": {
      "application/vnd.jupyter.widget-view+json": {
       "model_id": "9e237a90da2944a195793f93f4570fd1",
       "version_major": 2,
       "version_minor": 0
      },
      "text/plain": [
       "Looping Each Links of Dates: 2019-05-04:   0%|          | 0/8 [00:00<?, ?it/s]"
      ]
     },
     "metadata": {},
     "output_type": "display_data"
    },
    {
     "data": {},
     "metadata": {},
     "output_type": "display_data"
    },
    {
     "data": {
      "application/vnd.jupyter.widget-view+json": {
       "model_id": "244be620bcb24847a7815ab489eef3f1",
       "version_major": 2,
       "version_minor": 0
      },
      "text/plain": [
       "Looping Each Links of Dates: 2019-05-03:   0%|          | 0/6 [00:00<?, ?it/s]"
      ]
     },
     "metadata": {},
     "output_type": "display_data"
    },
    {
     "data": {},
     "metadata": {},
     "output_type": "display_data"
    },
    {
     "data": {
      "application/vnd.jupyter.widget-view+json": {
       "model_id": "52cb5bddc3f04e9da76d2a2272d1a450",
       "version_major": 2,
       "version_minor": 0
      },
      "text/plain": [
       "Looping Each Links of Dates: 2019-05-02:   0%|          | 0/7 [00:00<?, ?it/s]"
      ]
     },
     "metadata": {},
     "output_type": "display_data"
    },
    {
     "data": {},
     "metadata": {},
     "output_type": "display_data"
    },
    {
     "data": {
      "application/vnd.jupyter.widget-view+json": {
       "model_id": "7f3086ae668d49c98ae0ffac602acc90",
       "version_major": 2,
       "version_minor": 0
      },
      "text/plain": [
       "Looping Each Links of Dates: 2019-05-01:   0%|          | 0/7 [00:00<?, ?it/s]"
      ]
     },
     "metadata": {},
     "output_type": "display_data"
    },
    {
     "data": {},
     "metadata": {},
     "output_type": "display_data"
    },
    {
     "data": {
      "application/vnd.jupyter.widget-view+json": {
       "model_id": "e8443fc0552b4b2c8508f0891f12e14e",
       "version_major": 2,
       "version_minor": 0
      },
      "text/plain": [
       "Looping Each Links of Dates: 2019-04-30:   0%|          | 0/7 [00:00<?, ?it/s]"
      ]
     },
     "metadata": {},
     "output_type": "display_data"
    },
    {
     "data": {},
     "metadata": {},
     "output_type": "display_data"
    },
    {
     "data": {
      "application/vnd.jupyter.widget-view+json": {
       "model_id": "fe9e999f934349d1b91ee6ef879d44e6",
       "version_major": 2,
       "version_minor": 0
      },
      "text/plain": [
       "Looping Each Links of Dates: 2019-04-29:   0%|          | 0/4 [00:00<?, ?it/s]"
      ]
     },
     "metadata": {},
     "output_type": "display_data"
    },
    {
     "data": {},
     "metadata": {},
     "output_type": "display_data"
    },
    {
     "data": {
      "application/vnd.jupyter.widget-view+json": {
       "model_id": "1be79e5123a745129efe36c50bf7cbf7",
       "version_major": 2,
       "version_minor": 0
      },
      "text/plain": [
       "Looping Each Links of Dates: 2019-04-28:   0%|          | 0/6 [00:00<?, ?it/s]"
      ]
     },
     "metadata": {},
     "output_type": "display_data"
    },
    {
     "data": {},
     "metadata": {},
     "output_type": "display_data"
    },
    {
     "data": {
      "application/vnd.jupyter.widget-view+json": {
       "model_id": "9c0e200b4dc9441e837ba92fe3e57b5f",
       "version_major": 2,
       "version_minor": 0
      },
      "text/plain": [
       "Looping Each Links of Dates: 2019-04-27:   0%|          | 0/5 [00:00<?, ?it/s]"
      ]
     },
     "metadata": {},
     "output_type": "display_data"
    },
    {
     "data": {},
     "metadata": {},
     "output_type": "display_data"
    },
    {
     "data": {
      "application/vnd.jupyter.widget-view+json": {
       "model_id": "a05a99be35a94efeae4733e6bfe69f5b",
       "version_major": 2,
       "version_minor": 0
      },
      "text/plain": [
       "Looping Each Links of Dates: 2019-04-26:   0%|          | 0/8 [00:00<?, ?it/s]"
      ]
     },
     "metadata": {},
     "output_type": "display_data"
    },
    {
     "data": {},
     "metadata": {},
     "output_type": "display_data"
    },
    {
     "data": {
      "application/vnd.jupyter.widget-view+json": {
       "model_id": "c58269eaa2b7444f874acc0a9997a67a",
       "version_major": 2,
       "version_minor": 0
      },
      "text/plain": [
       "Looping Each Links of Dates: 2019-04-25:   0%|          | 0/5 [00:00<?, ?it/s]"
      ]
     },
     "metadata": {},
     "output_type": "display_data"
    },
    {
     "data": {},
     "metadata": {},
     "output_type": "display_data"
    },
    {
     "data": {
      "application/vnd.jupyter.widget-view+json": {
       "model_id": "4ddecfcecbf944b5b86cd07c404651bc",
       "version_major": 2,
       "version_minor": 0
      },
      "text/plain": [
       "Looping Each Links of Dates: 2019-04-24:   0%|          | 0/4 [00:00<?, ?it/s]"
      ]
     },
     "metadata": {},
     "output_type": "display_data"
    },
    {
     "data": {},
     "metadata": {},
     "output_type": "display_data"
    },
    {
     "data": {
      "application/vnd.jupyter.widget-view+json": {
       "model_id": "5d2ef3c4d0e94804967c77e395f2cbf8",
       "version_major": 2,
       "version_minor": 0
      },
      "text/plain": [
       "Looping Each Links of Dates: 2019-04-23:   0%|          | 0/11 [00:00<?, ?it/s]"
      ]
     },
     "metadata": {},
     "output_type": "display_data"
    },
    {
     "data": {},
     "metadata": {},
     "output_type": "display_data"
    },
    {
     "data": {
      "application/vnd.jupyter.widget-view+json": {
       "model_id": "7cbd62deaee4437a880143ac7d1220d5",
       "version_major": 2,
       "version_minor": 0
      },
      "text/plain": [
       "Looping Each Links of Dates: 2019-04-22:   0%|          | 0/9 [00:00<?, ?it/s]"
      ]
     },
     "metadata": {},
     "output_type": "display_data"
    },
    {
     "data": {},
     "metadata": {},
     "output_type": "display_data"
    },
    {
     "data": {
      "application/vnd.jupyter.widget-view+json": {
       "model_id": "0d208c5151e3437eab438caed87dcf57",
       "version_major": 2,
       "version_minor": 0
      },
      "text/plain": [
       "Looping Each Links of Dates: 2019-04-21:   0%|          | 0/6 [00:00<?, ?it/s]"
      ]
     },
     "metadata": {},
     "output_type": "display_data"
    },
    {
     "data": {},
     "metadata": {},
     "output_type": "display_data"
    },
    {
     "data": {
      "application/vnd.jupyter.widget-view+json": {
       "model_id": "59b0c7a1d159460a902eff550c773913",
       "version_major": 2,
       "version_minor": 0
      },
      "text/plain": [
       "Looping Each Links of Dates: 2019-04-20:   0%|          | 0/5 [00:00<?, ?it/s]"
      ]
     },
     "metadata": {},
     "output_type": "display_data"
    },
    {
     "data": {},
     "metadata": {},
     "output_type": "display_data"
    },
    {
     "data": {
      "application/vnd.jupyter.widget-view+json": {
       "model_id": "a274f834efc648849d0c9cb3860e5d2d",
       "version_major": 2,
       "version_minor": 0
      },
      "text/plain": [
       "Looping Each Links of Dates: 2019-04-19:   0%|          | 0/8 [00:00<?, ?it/s]"
      ]
     },
     "metadata": {},
     "output_type": "display_data"
    },
    {
     "data": {},
     "metadata": {},
     "output_type": "display_data"
    },
    {
     "data": {
      "application/vnd.jupyter.widget-view+json": {
       "model_id": "a0bfecdfbb64470a8a0002f338cfd7ca",
       "version_major": 2,
       "version_minor": 0
      },
      "text/plain": [
       "Looping Each Links of Dates: 2019-04-18:   0%|          | 0/6 [00:00<?, ?it/s]"
      ]
     },
     "metadata": {},
     "output_type": "display_data"
    },
    {
     "data": {},
     "metadata": {},
     "output_type": "display_data"
    },
    {
     "data": {
      "application/vnd.jupyter.widget-view+json": {
       "model_id": "6c81c91d9f9d4894a54c4062a889c8f2",
       "version_major": 2,
       "version_minor": 0
      },
      "text/plain": [
       "Looping Each Links of Dates: 2019-04-17:   0%|          | 0/3 [00:00<?, ?it/s]"
      ]
     },
     "metadata": {},
     "output_type": "display_data"
    },
    {
     "data": {},
     "metadata": {},
     "output_type": "display_data"
    },
    {
     "data": {
      "application/vnd.jupyter.widget-view+json": {
       "model_id": "5d4d7cece567459c8a8402439afc9bf2",
       "version_major": 2,
       "version_minor": 0
      },
      "text/plain": [
       "Looping Each Links of Dates: 2019-04-16:   0%|          | 0/6 [00:00<?, ?it/s]"
      ]
     },
     "metadata": {},
     "output_type": "display_data"
    },
    {
     "data": {},
     "metadata": {},
     "output_type": "display_data"
    },
    {
     "data": {
      "application/vnd.jupyter.widget-view+json": {
       "model_id": "48356160cf514970acd377a2f321d387",
       "version_major": 2,
       "version_minor": 0
      },
      "text/plain": [
       "Looping Each Links of Dates: 2019-04-15:   0%|          | 0/8 [00:00<?, ?it/s]"
      ]
     },
     "metadata": {},
     "output_type": "display_data"
    },
    {
     "data": {},
     "metadata": {},
     "output_type": "display_data"
    },
    {
     "data": {
      "application/vnd.jupyter.widget-view+json": {
       "model_id": "52986ee7af59444f892a109d000b8b6c",
       "version_major": 2,
       "version_minor": 0
      },
      "text/plain": [
       "Looping Each Links of Dates: 2019-04-14:   0%|          | 0/5 [00:00<?, ?it/s]"
      ]
     },
     "metadata": {},
     "output_type": "display_data"
    },
    {
     "data": {},
     "metadata": {},
     "output_type": "display_data"
    },
    {
     "data": {
      "application/vnd.jupyter.widget-view+json": {
       "model_id": "2dd267e311fd4ecf9e828143b4ac6f69",
       "version_major": 2,
       "version_minor": 0
      },
      "text/plain": [
       "Looping Each Links of Dates: 2019-04-13:   0%|          | 0/5 [00:00<?, ?it/s]"
      ]
     },
     "metadata": {},
     "output_type": "display_data"
    },
    {
     "data": {},
     "metadata": {},
     "output_type": "display_data"
    },
    {
     "data": {
      "application/vnd.jupyter.widget-view+json": {
       "model_id": "596f6810e75b426794810b66aae39eab",
       "version_major": 2,
       "version_minor": 0
      },
      "text/plain": [
       "Looping Each Links of Dates: 2019-04-12:   0%|          | 0/8 [00:00<?, ?it/s]"
      ]
     },
     "metadata": {},
     "output_type": "display_data"
    },
    {
     "data": {},
     "metadata": {},
     "output_type": "display_data"
    },
    {
     "data": {
      "application/vnd.jupyter.widget-view+json": {
       "model_id": "b51d98b5cb204c54a9d2f83da7c254fd",
       "version_major": 2,
       "version_minor": 0
      },
      "text/plain": [
       "Looping Each Links of Dates: 2019-04-11:   0%|          | 0/8 [00:00<?, ?it/s]"
      ]
     },
     "metadata": {},
     "output_type": "display_data"
    },
    {
     "data": {},
     "metadata": {},
     "output_type": "display_data"
    },
    {
     "data": {
      "application/vnd.jupyter.widget-view+json": {
       "model_id": "8cad56299eba46a7819c862b71411c59",
       "version_major": 2,
       "version_minor": 0
      },
      "text/plain": [
       "Looping Each Links of Dates: 2019-04-10:   0%|          | 0/12 [00:00<?, ?it/s]"
      ]
     },
     "metadata": {},
     "output_type": "display_data"
    },
    {
     "data": {},
     "metadata": {},
     "output_type": "display_data"
    },
    {
     "data": {
      "application/vnd.jupyter.widget-view+json": {
       "model_id": "2273b6135ea74df68393dfcd3d65e7ef",
       "version_major": 2,
       "version_minor": 0
      },
      "text/plain": [
       "Looping Each Links of Dates: 2019-04-09:   0%|          | 0/12 [00:00<?, ?it/s]"
      ]
     },
     "metadata": {},
     "output_type": "display_data"
    },
    {
     "data": {},
     "metadata": {},
     "output_type": "display_data"
    },
    {
     "data": {
      "application/vnd.jupyter.widget-view+json": {
       "model_id": "df737f4ea42241e69462b4e96b8b58ee",
       "version_major": 2,
       "version_minor": 0
      },
      "text/plain": [
       "Looping Each Links of Dates: 2019-04-08:   0%|          | 0/14 [00:00<?, ?it/s]"
      ]
     },
     "metadata": {},
     "output_type": "display_data"
    },
    {
     "data": {},
     "metadata": {},
     "output_type": "display_data"
    },
    {
     "data": {
      "application/vnd.jupyter.widget-view+json": {
       "model_id": "de174aada406476db20e030371c7d31c",
       "version_major": 2,
       "version_minor": 0
      },
      "text/plain": [
       "Looping Each Links of Dates: 2019-04-07:   0%|          | 0/7 [00:00<?, ?it/s]"
      ]
     },
     "metadata": {},
     "output_type": "display_data"
    },
    {
     "data": {},
     "metadata": {},
     "output_type": "display_data"
    },
    {
     "data": {
      "application/vnd.jupyter.widget-view+json": {
       "model_id": "64438506322e4e5db90a922c820bfc2f",
       "version_major": 2,
       "version_minor": 0
      },
      "text/plain": [
       "Looping Each Links of Dates: 2019-04-06:   0%|          | 0/6 [00:00<?, ?it/s]"
      ]
     },
     "metadata": {},
     "output_type": "display_data"
    },
    {
     "data": {},
     "metadata": {},
     "output_type": "display_data"
    },
    {
     "data": {
      "application/vnd.jupyter.widget-view+json": {
       "model_id": "6ec50be8aa144de6994755af365bf279",
       "version_major": 2,
       "version_minor": 0
      },
      "text/plain": [
       "Looping Each Links of Dates: 2019-04-05:   0%|          | 0/11 [00:00<?, ?it/s]"
      ]
     },
     "metadata": {},
     "output_type": "display_data"
    },
    {
     "data": {},
     "metadata": {},
     "output_type": "display_data"
    },
    {
     "data": {
      "application/vnd.jupyter.widget-view+json": {
       "model_id": "6e66578ca44a41afa08a1b1b526228bb",
       "version_major": 2,
       "version_minor": 0
      },
      "text/plain": [
       "Looping Each Links of Dates: 2019-04-04:   0%|          | 0/10 [00:00<?, ?it/s]"
      ]
     },
     "metadata": {},
     "output_type": "display_data"
    },
    {
     "data": {},
     "metadata": {},
     "output_type": "display_data"
    },
    {
     "data": {
      "application/vnd.jupyter.widget-view+json": {
       "model_id": "fa30823fa9c0441f91eaa59bff1cfc3c",
       "version_major": 2,
       "version_minor": 0
      },
      "text/plain": [
       "Looping Each Links of Dates: 2019-04-03:   0%|          | 0/5 [00:00<?, ?it/s]"
      ]
     },
     "metadata": {},
     "output_type": "display_data"
    },
    {
     "data": {},
     "metadata": {},
     "output_type": "display_data"
    },
    {
     "data": {
      "application/vnd.jupyter.widget-view+json": {
       "model_id": "edcf364106a9490494e3cc1eb4d4dbcf",
       "version_major": 2,
       "version_minor": 0
      },
      "text/plain": [
       "Looping Each Links of Dates: 2019-04-02:   0%|          | 0/12 [00:00<?, ?it/s]"
      ]
     },
     "metadata": {},
     "output_type": "display_data"
    },
    {
     "data": {},
     "metadata": {},
     "output_type": "display_data"
    },
    {
     "data": {
      "application/vnd.jupyter.widget-view+json": {
       "model_id": "7477bfa0d9554d379221a7feca825f2d",
       "version_major": 2,
       "version_minor": 0
      },
      "text/plain": [
       "Looping Each Links of Dates: 2019-04-01:   0%|          | 0/11 [00:00<?, ?it/s]"
      ]
     },
     "metadata": {},
     "output_type": "display_data"
    },
    {
     "data": {},
     "metadata": {},
     "output_type": "display_data"
    },
    {
     "data": {
      "application/vnd.jupyter.widget-view+json": {
       "model_id": "42b8f5a2da3141f59114452029cfbab2",
       "version_major": 2,
       "version_minor": 0
      },
      "text/plain": [
       "Looping Each Links of Dates: 2019-03-31:   0%|          | 0/4 [00:00<?, ?it/s]"
      ]
     },
     "metadata": {},
     "output_type": "display_data"
    },
    {
     "data": {},
     "metadata": {},
     "output_type": "display_data"
    },
    {
     "data": {
      "application/vnd.jupyter.widget-view+json": {
       "model_id": "bc5ae94cbb0d41999f2f7e2a6ed3f8bb",
       "version_major": 2,
       "version_minor": 0
      },
      "text/plain": [
       "Looping Each Links of Dates: 2019-03-30:   0%|          | 0/7 [00:00<?, ?it/s]"
      ]
     },
     "metadata": {},
     "output_type": "display_data"
    },
    {
     "data": {},
     "metadata": {},
     "output_type": "display_data"
    },
    {
     "data": {
      "application/vnd.jupyter.widget-view+json": {
       "model_id": "a0c99c1c7e814c6ea8b7774fc6a2073d",
       "version_major": 2,
       "version_minor": 0
      },
      "text/plain": [
       "Looping Each Links of Dates: 2019-03-29:   0%|          | 0/5 [00:00<?, ?it/s]"
      ]
     },
     "metadata": {},
     "output_type": "display_data"
    },
    {
     "data": {},
     "metadata": {},
     "output_type": "display_data"
    },
    {
     "data": {
      "application/vnd.jupyter.widget-view+json": {
       "model_id": "a98ab1a0b91c476d994da759214c94c3",
       "version_major": 2,
       "version_minor": 0
      },
      "text/plain": [
       "Looping Each Links of Dates: 2019-03-28:   0%|          | 0/5 [00:00<?, ?it/s]"
      ]
     },
     "metadata": {},
     "output_type": "display_data"
    },
    {
     "data": {},
     "metadata": {},
     "output_type": "display_data"
    },
    {
     "data": {
      "application/vnd.jupyter.widget-view+json": {
       "model_id": "1b92396336784807a0516adb77fb3911",
       "version_major": 2,
       "version_minor": 0
      },
      "text/plain": [
       "Looping Each Links of Dates: 2019-03-27:   0%|          | 0/7 [00:00<?, ?it/s]"
      ]
     },
     "metadata": {},
     "output_type": "display_data"
    },
    {
     "data": {},
     "metadata": {},
     "output_type": "display_data"
    },
    {
     "data": {
      "application/vnd.jupyter.widget-view+json": {
       "model_id": "00111e503af64a61902570d525c97e46",
       "version_major": 2,
       "version_minor": 0
      },
      "text/plain": [
       "Looping Each Links of Dates: 2019-03-26:   0%|          | 0/8 [00:00<?, ?it/s]"
      ]
     },
     "metadata": {},
     "output_type": "display_data"
    },
    {
     "data": {},
     "metadata": {},
     "output_type": "display_data"
    },
    {
     "data": {
      "application/vnd.jupyter.widget-view+json": {
       "model_id": "d0cef86c915e4599b342e2af946e7b78",
       "version_major": 2,
       "version_minor": 0
      },
      "text/plain": [
       "Looping Each Links of Dates: 2019-03-25:   0%|          | 0/4 [00:00<?, ?it/s]"
      ]
     },
     "metadata": {},
     "output_type": "display_data"
    },
    {
     "data": {},
     "metadata": {},
     "output_type": "display_data"
    },
    {
     "data": {
      "application/vnd.jupyter.widget-view+json": {
       "model_id": "fb58879573bb44f39c40b270705ba5a4",
       "version_major": 2,
       "version_minor": 0
      },
      "text/plain": [
       "Looping Each Links of Dates: 2019-03-24:   0%|          | 0/3 [00:00<?, ?it/s]"
      ]
     },
     "metadata": {},
     "output_type": "display_data"
    },
    {
     "data": {},
     "metadata": {},
     "output_type": "display_data"
    },
    {
     "data": {
      "application/vnd.jupyter.widget-view+json": {
       "model_id": "62b1797313fa4191b6083804ee382c9b",
       "version_major": 2,
       "version_minor": 0
      },
      "text/plain": [
       "Looping Each Links of Dates: 2019-03-23:   0%|          | 0/5 [00:00<?, ?it/s]"
      ]
     },
     "metadata": {},
     "output_type": "display_data"
    },
    {
     "data": {},
     "metadata": {},
     "output_type": "display_data"
    },
    {
     "data": {
      "application/vnd.jupyter.widget-view+json": {
       "model_id": "b0da531303f74b27b4f4c0a23b3356fe",
       "version_major": 2,
       "version_minor": 0
      },
      "text/plain": [
       "Looping Each Links of Dates: 2019-03-22:   0%|          | 0/4 [00:00<?, ?it/s]"
      ]
     },
     "metadata": {},
     "output_type": "display_data"
    },
    {
     "data": {},
     "metadata": {},
     "output_type": "display_data"
    },
    {
     "data": {
      "application/vnd.jupyter.widget-view+json": {
       "model_id": "1ae7be0f773046d6b9fd8ff4bfe4c4d2",
       "version_major": 2,
       "version_minor": 0
      },
      "text/plain": [
       "Looping Each Links of Dates: 2019-03-21:   0%|          | 0/2 [00:00<?, ?it/s]"
      ]
     },
     "metadata": {},
     "output_type": "display_data"
    },
    {
     "data": {},
     "metadata": {},
     "output_type": "display_data"
    },
    {
     "data": {
      "application/vnd.jupyter.widget-view+json": {
       "model_id": "8e20f1969e164f34836a19271561c19f",
       "version_major": 2,
       "version_minor": 0
      },
      "text/plain": [
       "Looping Each Links of Dates: 2019-03-20:   0%|          | 0/8 [00:00<?, ?it/s]"
      ]
     },
     "metadata": {},
     "output_type": "display_data"
    },
    {
     "data": {},
     "metadata": {},
     "output_type": "display_data"
    },
    {
     "data": {
      "application/vnd.jupyter.widget-view+json": {
       "model_id": "49fc8e9f04614e1ba011b885728e419e",
       "version_major": 2,
       "version_minor": 0
      },
      "text/plain": [
       "Looping Each Links of Dates: 2019-03-19:   0%|          | 0/7 [00:00<?, ?it/s]"
      ]
     },
     "metadata": {},
     "output_type": "display_data"
    },
    {
     "data": {},
     "metadata": {},
     "output_type": "display_data"
    },
    {
     "data": {
      "application/vnd.jupyter.widget-view+json": {
       "model_id": "2159e7dc147940efa0c195b1cc2ff200",
       "version_major": 2,
       "version_minor": 0
      },
      "text/plain": [
       "Looping Each Links of Dates: 2019-03-18:   0%|          | 0/8 [00:00<?, ?it/s]"
      ]
     },
     "metadata": {},
     "output_type": "display_data"
    },
    {
     "data": {},
     "metadata": {},
     "output_type": "display_data"
    },
    {
     "data": {
      "application/vnd.jupyter.widget-view+json": {
       "model_id": "ef5e80db5b3a44e5864637ea6d9e7f79",
       "version_major": 2,
       "version_minor": 0
      },
      "text/plain": [
       "Looping Each Links of Dates: 2019-03-17:   0%|          | 0/9 [00:00<?, ?it/s]"
      ]
     },
     "metadata": {},
     "output_type": "display_data"
    },
    {
     "data": {},
     "metadata": {},
     "output_type": "display_data"
    },
    {
     "data": {
      "application/vnd.jupyter.widget-view+json": {
       "model_id": "6fd472b68f5a4d31882edf07a2ba7b85",
       "version_major": 2,
       "version_minor": 0
      },
      "text/plain": [
       "Looping Each Links of Dates: 2019-03-16:   0%|          | 0/13 [00:00<?, ?it/s]"
      ]
     },
     "metadata": {},
     "output_type": "display_data"
    },
    {
     "data": {},
     "metadata": {},
     "output_type": "display_data"
    },
    {
     "data": {
      "application/vnd.jupyter.widget-view+json": {
       "model_id": "407bb5805a414923bf08f363cc8af58f",
       "version_major": 2,
       "version_minor": 0
      },
      "text/plain": [
       "Looping Each Links of Dates: 2019-03-15:   0%|          | 0/12 [00:00<?, ?it/s]"
      ]
     },
     "metadata": {},
     "output_type": "display_data"
    },
    {
     "data": {},
     "metadata": {},
     "output_type": "display_data"
    },
    {
     "data": {
      "application/vnd.jupyter.widget-view+json": {
       "model_id": "74472fb751a04c98b71938ffefb437e2",
       "version_major": 2,
       "version_minor": 0
      },
      "text/plain": [
       "Looping Each Links of Dates: 2019-03-14:   0%|          | 0/5 [00:00<?, ?it/s]"
      ]
     },
     "metadata": {},
     "output_type": "display_data"
    },
    {
     "data": {},
     "metadata": {},
     "output_type": "display_data"
    },
    {
     "data": {
      "application/vnd.jupyter.widget-view+json": {
       "model_id": "9f62ca0635d0481e9e25cf88e7178dc7",
       "version_major": 2,
       "version_minor": 0
      },
      "text/plain": [
       "Looping Each Links of Dates: 2019-03-13:   0%|          | 0/12 [00:00<?, ?it/s]"
      ]
     },
     "metadata": {},
     "output_type": "display_data"
    },
    {
     "data": {},
     "metadata": {},
     "output_type": "display_data"
    },
    {
     "data": {
      "application/vnd.jupyter.widget-view+json": {
       "model_id": "2853347ec27449db9e0df55637f1ce6b",
       "version_major": 2,
       "version_minor": 0
      },
      "text/plain": [
       "Looping Each Links of Dates: 2019-03-12:   0%|          | 0/11 [00:00<?, ?it/s]"
      ]
     },
     "metadata": {},
     "output_type": "display_data"
    },
    {
     "data": {},
     "metadata": {},
     "output_type": "display_data"
    },
    {
     "data": {
      "application/vnd.jupyter.widget-view+json": {
       "model_id": "c5cebed4f4e445f4a8cb8e31f329c2f4",
       "version_major": 2,
       "version_minor": 0
      },
      "text/plain": [
       "Looping Each Links of Dates: 2019-03-11:   0%|          | 0/11 [00:00<?, ?it/s]"
      ]
     },
     "metadata": {},
     "output_type": "display_data"
    },
    {
     "data": {},
     "metadata": {},
     "output_type": "display_data"
    },
    {
     "data": {
      "application/vnd.jupyter.widget-view+json": {
       "model_id": "cdd3d4cc2023457bb5ca5d804c07eb77",
       "version_major": 2,
       "version_minor": 0
      },
      "text/plain": [
       "Looping Each Links of Dates: 2019-03-10:   0%|          | 0/12 [00:00<?, ?it/s]"
      ]
     },
     "metadata": {},
     "output_type": "display_data"
    },
    {
     "data": {},
     "metadata": {},
     "output_type": "display_data"
    },
    {
     "data": {
      "application/vnd.jupyter.widget-view+json": {
       "model_id": "3ce9490a9791435c8e065afed4c6148a",
       "version_major": 2,
       "version_minor": 0
      },
      "text/plain": [
       "Looping Each Links of Dates: 2019-03-09:   0%|          | 0/8 [00:00<?, ?it/s]"
      ]
     },
     "metadata": {},
     "output_type": "display_data"
    },
    {
     "data": {},
     "metadata": {},
     "output_type": "display_data"
    },
    {
     "data": {
      "application/vnd.jupyter.widget-view+json": {
       "model_id": "af307b7080db44f4a0bb030ba6c741c3",
       "version_major": 2,
       "version_minor": 0
      },
      "text/plain": [
       "Looping Each Links of Dates: 2019-03-08:   0%|          | 0/8 [00:00<?, ?it/s]"
      ]
     },
     "metadata": {},
     "output_type": "display_data"
    },
    {
     "data": {},
     "metadata": {},
     "output_type": "display_data"
    },
    {
     "data": {
      "application/vnd.jupyter.widget-view+json": {
       "model_id": "948c9652229e49f58c15229a25f51f60",
       "version_major": 2,
       "version_minor": 0
      },
      "text/plain": [
       "Looping Each Links of Dates: 2019-03-07:   0%|          | 0/13 [00:00<?, ?it/s]"
      ]
     },
     "metadata": {},
     "output_type": "display_data"
    },
    {
     "data": {},
     "metadata": {},
     "output_type": "display_data"
    },
    {
     "data": {
      "application/vnd.jupyter.widget-view+json": {
       "model_id": "37a1a14d226d47da94a8b28c3aaa8696",
       "version_major": 2,
       "version_minor": 0
      },
      "text/plain": [
       "Looping Each Links of Dates: 2019-03-06:   0%|          | 0/15 [00:00<?, ?it/s]"
      ]
     },
     "metadata": {},
     "output_type": "display_data"
    },
    {
     "data": {},
     "metadata": {},
     "output_type": "display_data"
    },
    {
     "data": {
      "application/vnd.jupyter.widget-view+json": {
       "model_id": "fe8b9f3c6a054279a36a7ab5c648f948",
       "version_major": 2,
       "version_minor": 0
      },
      "text/plain": [
       "Looping Each Links of Dates: 2019-03-05:   0%|          | 0/7 [00:00<?, ?it/s]"
      ]
     },
     "metadata": {},
     "output_type": "display_data"
    },
    {
     "data": {},
     "metadata": {},
     "output_type": "display_data"
    },
    {
     "data": {
      "application/vnd.jupyter.widget-view+json": {
       "model_id": "10c72a1eb2be4bd58165a3f7ea0ca757",
       "version_major": 2,
       "version_minor": 0
      },
      "text/plain": [
       "Looping Each Links of Dates: 2019-03-04:   0%|          | 0/4 [00:00<?, ?it/s]"
      ]
     },
     "metadata": {},
     "output_type": "display_data"
    },
    {
     "data": {},
     "metadata": {},
     "output_type": "display_data"
    },
    {
     "data": {
      "application/vnd.jupyter.widget-view+json": {
       "model_id": "deac477195d8475b83d35f5ecb6b4a2b",
       "version_major": 2,
       "version_minor": 0
      },
      "text/plain": [
       "Looping Each Links of Dates: 2019-03-03:   0%|          | 0/5 [00:00<?, ?it/s]"
      ]
     },
     "metadata": {},
     "output_type": "display_data"
    },
    {
     "data": {},
     "metadata": {},
     "output_type": "display_data"
    },
    {
     "data": {
      "application/vnd.jupyter.widget-view+json": {
       "model_id": "eb72e871a45d48c8a9862e5dd485d8ac",
       "version_major": 2,
       "version_minor": 0
      },
      "text/plain": [
       "Looping Each Links of Dates: 2019-03-02:   0%|          | 0/7 [00:00<?, ?it/s]"
      ]
     },
     "metadata": {},
     "output_type": "display_data"
    },
    {
     "data": {},
     "metadata": {},
     "output_type": "display_data"
    },
    {
     "data": {
      "application/vnd.jupyter.widget-view+json": {
       "model_id": "02f2b5db67e845cea7d7cbfd9eb0202f",
       "version_major": 2,
       "version_minor": 0
      },
      "text/plain": [
       "Looping Each Links of Dates: 2019-03-01:   0%|          | 0/7 [00:00<?, ?it/s]"
      ]
     },
     "metadata": {},
     "output_type": "display_data"
    },
    {
     "data": {},
     "metadata": {},
     "output_type": "display_data"
    },
    {
     "data": {
      "application/vnd.jupyter.widget-view+json": {
       "model_id": "62122e38b5154a198ab694dfb0d84c2b",
       "version_major": 2,
       "version_minor": 0
      },
      "text/plain": [
       "Looping Each Links of Dates: 2019-02-28:   0%|          | 0/7 [00:00<?, ?it/s]"
      ]
     },
     "metadata": {},
     "output_type": "display_data"
    },
    {
     "data": {},
     "metadata": {},
     "output_type": "display_data"
    },
    {
     "data": {
      "application/vnd.jupyter.widget-view+json": {
       "model_id": "8f49983168bb49b6a9f913041a918655",
       "version_major": 2,
       "version_minor": 0
      },
      "text/plain": [
       "Looping Each Links of Dates: 2019-02-27:   0%|          | 0/11 [00:00<?, ?it/s]"
      ]
     },
     "metadata": {},
     "output_type": "display_data"
    },
    {
     "data": {},
     "metadata": {},
     "output_type": "display_data"
    },
    {
     "data": {
      "application/vnd.jupyter.widget-view+json": {
       "model_id": "eafd395a59c741aeb7a7211e56485cae",
       "version_major": 2,
       "version_minor": 0
      },
      "text/plain": [
       "Looping Each Links of Dates: 2019-02-26:   0%|          | 0/14 [00:00<?, ?it/s]"
      ]
     },
     "metadata": {},
     "output_type": "display_data"
    },
    {
     "data": {},
     "metadata": {},
     "output_type": "display_data"
    },
    {
     "data": {
      "application/vnd.jupyter.widget-view+json": {
       "model_id": "3e502b7c7bd840e0a51806d268467669",
       "version_major": 2,
       "version_minor": 0
      },
      "text/plain": [
       "Looping Each Links of Dates: 2019-02-25:   0%|          | 0/9 [00:00<?, ?it/s]"
      ]
     },
     "metadata": {},
     "output_type": "display_data"
    },
    {
     "data": {},
     "metadata": {},
     "output_type": "display_data"
    },
    {
     "data": {
      "application/vnd.jupyter.widget-view+json": {
       "model_id": "38723110412640668fee6bcdb011e818",
       "version_major": 2,
       "version_minor": 0
      },
      "text/plain": [
       "Looping Each Links of Dates: 2019-02-24:   0%|          | 0/12 [00:00<?, ?it/s]"
      ]
     },
     "metadata": {},
     "output_type": "display_data"
    },
    {
     "data": {},
     "metadata": {},
     "output_type": "display_data"
    },
    {
     "data": {
      "application/vnd.jupyter.widget-view+json": {
       "model_id": "0ba86a5a0f534220aa9b410b1785ed51",
       "version_major": 2,
       "version_minor": 0
      },
      "text/plain": [
       "Looping Each Links of Dates: 2019-02-23:   0%|          | 0/10 [00:00<?, ?it/s]"
      ]
     },
     "metadata": {},
     "output_type": "display_data"
    },
    {
     "data": {},
     "metadata": {},
     "output_type": "display_data"
    },
    {
     "data": {
      "application/vnd.jupyter.widget-view+json": {
       "model_id": "27377b7fd8b44a14934d3a5702244b43",
       "version_major": 2,
       "version_minor": 0
      },
      "text/plain": [
       "Looping Each Links of Dates: 2019-02-22:   0%|          | 0/12 [00:00<?, ?it/s]"
      ]
     },
     "metadata": {},
     "output_type": "display_data"
    },
    {
     "data": {},
     "metadata": {},
     "output_type": "display_data"
    },
    {
     "data": {
      "application/vnd.jupyter.widget-view+json": {
       "model_id": "fa34dafd2788461fb790e9a5e56bebe7",
       "version_major": 2,
       "version_minor": 0
      },
      "text/plain": [
       "Looping Each Links of Dates: 2019-02-21:   0%|          | 0/9 [00:00<?, ?it/s]"
      ]
     },
     "metadata": {},
     "output_type": "display_data"
    },
    {
     "data": {},
     "metadata": {},
     "output_type": "display_data"
    },
    {
     "data": {
      "application/vnd.jupyter.widget-view+json": {
       "model_id": "707b0690db3d45f6aabd632d56c1c733",
       "version_major": 2,
       "version_minor": 0
      },
      "text/plain": [
       "Looping Each Links of Dates: 2019-02-20:   0%|          | 0/12 [00:00<?, ?it/s]"
      ]
     },
     "metadata": {},
     "output_type": "display_data"
    },
    {
     "data": {},
     "metadata": {},
     "output_type": "display_data"
    },
    {
     "data": {
      "application/vnd.jupyter.widget-view+json": {
       "model_id": "c0260b22200d4f258796d2c944b30c85",
       "version_major": 2,
       "version_minor": 0
      },
      "text/plain": [
       "Looping Each Links of Dates: 2019-02-19:   0%|          | 0/10 [00:00<?, ?it/s]"
      ]
     },
     "metadata": {},
     "output_type": "display_data"
    },
    {
     "data": {},
     "metadata": {},
     "output_type": "display_data"
    },
    {
     "data": {
      "application/vnd.jupyter.widget-view+json": {
       "model_id": "3ba9859acd174d01babfefa340cf1b2a",
       "version_major": 2,
       "version_minor": 0
      },
      "text/plain": [
       "Looping Each Links of Dates: 2019-02-18:   0%|          | 0/12 [00:00<?, ?it/s]"
      ]
     },
     "metadata": {},
     "output_type": "display_data"
    },
    {
     "data": {},
     "metadata": {},
     "output_type": "display_data"
    },
    {
     "data": {
      "application/vnd.jupyter.widget-view+json": {
       "model_id": "1b58c5c22f91442aa7054ecac92809fa",
       "version_major": 2,
       "version_minor": 0
      },
      "text/plain": [
       "Looping Each Links of Dates: 2019-02-17:   0%|          | 0/9 [00:00<?, ?it/s]"
      ]
     },
     "metadata": {},
     "output_type": "display_data"
    },
    {
     "data": {},
     "metadata": {},
     "output_type": "display_data"
    },
    {
     "data": {
      "application/vnd.jupyter.widget-view+json": {
       "model_id": "27eca141426447b28159f609a3371016",
       "version_major": 2,
       "version_minor": 0
      },
      "text/plain": [
       "Looping Each Links of Dates: 2019-02-16:   0%|          | 0/6 [00:00<?, ?it/s]"
      ]
     },
     "metadata": {},
     "output_type": "display_data"
    },
    {
     "data": {},
     "metadata": {},
     "output_type": "display_data"
    },
    {
     "data": {
      "application/vnd.jupyter.widget-view+json": {
       "model_id": "bd2747fa10bc4806b72d839891c32dad",
       "version_major": 2,
       "version_minor": 0
      },
      "text/plain": [
       "Looping Each Links of Dates: 2019-02-15:   0%|          | 0/13 [00:00<?, ?it/s]"
      ]
     },
     "metadata": {},
     "output_type": "display_data"
    },
    {
     "data": {},
     "metadata": {},
     "output_type": "display_data"
    },
    {
     "data": {
      "application/vnd.jupyter.widget-view+json": {
       "model_id": "c41a89903bbd46cbb277cbb996da954e",
       "version_major": 2,
       "version_minor": 0
      },
      "text/plain": [
       "Looping Each Links of Dates: 2019-02-14:   0%|          | 0/5 [00:00<?, ?it/s]"
      ]
     },
     "metadata": {},
     "output_type": "display_data"
    },
    {
     "data": {},
     "metadata": {},
     "output_type": "display_data"
    },
    {
     "data": {
      "application/vnd.jupyter.widget-view+json": {
       "model_id": "ce829cccf60b4b42af6f3435f1541f56",
       "version_major": 2,
       "version_minor": 0
      },
      "text/plain": [
       "Looping Each Links of Dates: 2019-02-13:   0%|          | 0/12 [00:00<?, ?it/s]"
      ]
     },
     "metadata": {},
     "output_type": "display_data"
    },
    {
     "data": {},
     "metadata": {},
     "output_type": "display_data"
    },
    {
     "data": {
      "application/vnd.jupyter.widget-view+json": {
       "model_id": "233074db32104ecd8e474496a9ef206a",
       "version_major": 2,
       "version_minor": 0
      },
      "text/plain": [
       "Looping Each Links of Dates: 2019-02-12:   0%|          | 0/13 [00:00<?, ?it/s]"
      ]
     },
     "metadata": {},
     "output_type": "display_data"
    },
    {
     "data": {},
     "metadata": {},
     "output_type": "display_data"
    },
    {
     "data": {
      "application/vnd.jupyter.widget-view+json": {
       "model_id": "ccddabdf678e41eb80329dad614bbdc3",
       "version_major": 2,
       "version_minor": 0
      },
      "text/plain": [
       "Looping Each Links of Dates: 2019-02-11:   0%|          | 0/10 [00:00<?, ?it/s]"
      ]
     },
     "metadata": {},
     "output_type": "display_data"
    },
    {
     "data": {},
     "metadata": {},
     "output_type": "display_data"
    },
    {
     "data": {
      "application/vnd.jupyter.widget-view+json": {
       "model_id": "db079f8420d54c4583b033231b312d23",
       "version_major": 2,
       "version_minor": 0
      },
      "text/plain": [
       "Looping Each Links of Dates: 2019-02-10:   0%|          | 0/6 [00:00<?, ?it/s]"
      ]
     },
     "metadata": {},
     "output_type": "display_data"
    },
    {
     "data": {},
     "metadata": {},
     "output_type": "display_data"
    },
    {
     "data": {
      "application/vnd.jupyter.widget-view+json": {
       "model_id": "fdb4d31e0a4e4ea29fb699e4187d61dc",
       "version_major": 2,
       "version_minor": 0
      },
      "text/plain": [
       "Looping Each Links of Dates: 2019-02-09:   0%|          | 0/12 [00:00<?, ?it/s]"
      ]
     },
     "metadata": {},
     "output_type": "display_data"
    },
    {
     "data": {},
     "metadata": {},
     "output_type": "display_data"
    },
    {
     "data": {
      "application/vnd.jupyter.widget-view+json": {
       "model_id": "3b9c13f9ffd74335965abb66c22a92e2",
       "version_major": 2,
       "version_minor": 0
      },
      "text/plain": [
       "Looping Each Links of Dates: 2019-02-08:   0%|          | 0/12 [00:00<?, ?it/s]"
      ]
     },
     "metadata": {},
     "output_type": "display_data"
    },
    {
     "data": {},
     "metadata": {},
     "output_type": "display_data"
    },
    {
     "data": {
      "application/vnd.jupyter.widget-view+json": {
       "model_id": "c8af3ae5bfa249b39a9c0c3e0813ef26",
       "version_major": 2,
       "version_minor": 0
      },
      "text/plain": [
       "Looping Each Links of Dates: 2019-02-07:   0%|          | 0/7 [00:00<?, ?it/s]"
      ]
     },
     "metadata": {},
     "output_type": "display_data"
    },
    {
     "data": {},
     "metadata": {},
     "output_type": "display_data"
    },
    {
     "data": {
      "application/vnd.jupyter.widget-view+json": {
       "model_id": "b7b4e23a39d0426cb75a43cb43c9f973",
       "version_major": 2,
       "version_minor": 0
      },
      "text/plain": [
       "Looping Each Links of Dates: 2019-02-06:   0%|          | 0/13 [00:00<?, ?it/s]"
      ]
     },
     "metadata": {},
     "output_type": "display_data"
    },
    {
     "data": {},
     "metadata": {},
     "output_type": "display_data"
    },
    {
     "data": {
      "application/vnd.jupyter.widget-view+json": {
       "model_id": "6434e81f2523470c99abf7c851b05243",
       "version_major": 2,
       "version_minor": 0
      },
      "text/plain": [
       "Looping Each Links of Dates: 2019-02-05:   0%|          | 0/7 [00:00<?, ?it/s]"
      ]
     },
     "metadata": {},
     "output_type": "display_data"
    },
    {
     "data": {},
     "metadata": {},
     "output_type": "display_data"
    },
    {
     "data": {
      "application/vnd.jupyter.widget-view+json": {
       "model_id": "620dae0c9938437fa2f5ff9114980d17",
       "version_major": 2,
       "version_minor": 0
      },
      "text/plain": [
       "Looping Each Links of Dates: 2019-02-04:   0%|          | 0/11 [00:00<?, ?it/s]"
      ]
     },
     "metadata": {},
     "output_type": "display_data"
    },
    {
     "data": {},
     "metadata": {},
     "output_type": "display_data"
    },
    {
     "data": {
      "application/vnd.jupyter.widget-view+json": {
       "model_id": "e66ef914aff341d28e02479f8fb80b0d",
       "version_major": 2,
       "version_minor": 0
      },
      "text/plain": [
       "Looping Each Links of Dates: 2019-02-03:   0%|          | 0/8 [00:00<?, ?it/s]"
      ]
     },
     "metadata": {},
     "output_type": "display_data"
    },
    {
     "data": {},
     "metadata": {},
     "output_type": "display_data"
    },
    {
     "data": {
      "application/vnd.jupyter.widget-view+json": {
       "model_id": "86ad5b6ee8844aadaada3be750233c88",
       "version_major": 2,
       "version_minor": 0
      },
      "text/plain": [
       "Looping Each Links of Dates: 2019-02-02:   0%|          | 0/6 [00:00<?, ?it/s]"
      ]
     },
     "metadata": {},
     "output_type": "display_data"
    },
    {
     "data": {},
     "metadata": {},
     "output_type": "display_data"
    },
    {
     "data": {
      "application/vnd.jupyter.widget-view+json": {
       "model_id": "9ad6139a33524bfe943c6a04390c5bca",
       "version_major": 2,
       "version_minor": 0
      },
      "text/plain": [
       "Looping Each Links of Dates: 2019-02-01:   0%|          | 0/6 [00:00<?, ?it/s]"
      ]
     },
     "metadata": {},
     "output_type": "display_data"
    },
    {
     "data": {},
     "metadata": {},
     "output_type": "display_data"
    },
    {
     "data": {
      "application/vnd.jupyter.widget-view+json": {
       "model_id": "5773e2b4bb074bad9db4cf1db0737f9b",
       "version_major": 2,
       "version_minor": 0
      },
      "text/plain": [
       "Looping Each Links of Dates: 2019-01-31:   0%|          | 0/12 [00:00<?, ?it/s]"
      ]
     },
     "metadata": {},
     "output_type": "display_data"
    },
    {
     "data": {},
     "metadata": {},
     "output_type": "display_data"
    },
    {
     "data": {
      "application/vnd.jupyter.widget-view+json": {
       "model_id": "cf58977d891748ea96ac20198427c549",
       "version_major": 2,
       "version_minor": 0
      },
      "text/plain": [
       "Looping Each Links of Dates: 2019-01-30:   0%|          | 0/9 [00:00<?, ?it/s]"
      ]
     },
     "metadata": {},
     "output_type": "display_data"
    },
    {
     "data": {},
     "metadata": {},
     "output_type": "display_data"
    },
    {
     "data": {
      "application/vnd.jupyter.widget-view+json": {
       "model_id": "a5b00256698640e594aa239bf00485a0",
       "version_major": 2,
       "version_minor": 0
      },
      "text/plain": [
       "Looping Each Links of Dates: 2019-01-29:   0%|          | 0/12 [00:00<?, ?it/s]"
      ]
     },
     "metadata": {},
     "output_type": "display_data"
    },
    {
     "data": {},
     "metadata": {},
     "output_type": "display_data"
    },
    {
     "data": {
      "application/vnd.jupyter.widget-view+json": {
       "model_id": "9b15447fffc844d788fd43f2a14c00ed",
       "version_major": 2,
       "version_minor": 0
      },
      "text/plain": [
       "Looping Each Links of Dates: 2019-01-28:   0%|          | 0/8 [00:00<?, ?it/s]"
      ]
     },
     "metadata": {},
     "output_type": "display_data"
    },
    {
     "data": {},
     "metadata": {},
     "output_type": "display_data"
    },
    {
     "data": {
      "application/vnd.jupyter.widget-view+json": {
       "model_id": "98d2eec21b254341959e49ffac89d536",
       "version_major": 2,
       "version_minor": 0
      },
      "text/plain": [
       "Looping Each Links of Dates: 2019-01-27:   0%|          | 0/10 [00:00<?, ?it/s]"
      ]
     },
     "metadata": {},
     "output_type": "display_data"
    },
    {
     "data": {},
     "metadata": {},
     "output_type": "display_data"
    },
    {
     "data": {
      "application/vnd.jupyter.widget-view+json": {
       "model_id": "2d37ce68f373413280b7f5f1992475c5",
       "version_major": 2,
       "version_minor": 0
      },
      "text/plain": [
       "Looping Each Links of Dates: 2019-01-26:   0%|          | 0/12 [00:00<?, ?it/s]"
      ]
     },
     "metadata": {},
     "output_type": "display_data"
    },
    {
     "data": {},
     "metadata": {},
     "output_type": "display_data"
    },
    {
     "data": {
      "application/vnd.jupyter.widget-view+json": {
       "model_id": "2cefd4f0ef5f44629dfd9d33473828a7",
       "version_major": 2,
       "version_minor": 0
      },
      "text/plain": [
       "Looping Each Links of Dates: 2019-01-25:   0%|          | 0/12 [00:00<?, ?it/s]"
      ]
     },
     "metadata": {},
     "output_type": "display_data"
    },
    {
     "data": {},
     "metadata": {},
     "output_type": "display_data"
    },
    {
     "data": {
      "application/vnd.jupyter.widget-view+json": {
       "model_id": "5bdd9340b5844825bb954b83cb90971a",
       "version_major": 2,
       "version_minor": 0
      },
      "text/plain": [
       "Looping Each Links of Dates: 2019-01-24:   0%|          | 0/8 [00:00<?, ?it/s]"
      ]
     },
     "metadata": {},
     "output_type": "display_data"
    },
    {
     "data": {},
     "metadata": {},
     "output_type": "display_data"
    },
    {
     "data": {
      "application/vnd.jupyter.widget-view+json": {
       "model_id": "d66b5e0a42f74a21b3089e4f32d63651",
       "version_major": 2,
       "version_minor": 0
      },
      "text/plain": [
       "Looping Each Links of Dates: 2019-01-23:   0%|          | 0/12 [00:00<?, ?it/s]"
      ]
     },
     "metadata": {},
     "output_type": "display_data"
    },
    {
     "data": {},
     "metadata": {},
     "output_type": "display_data"
    },
    {
     "data": {
      "application/vnd.jupyter.widget-view+json": {
       "model_id": "8649d6e658cb45ceb3d90b66cd9712a8",
       "version_major": 2,
       "version_minor": 0
      },
      "text/plain": [
       "Looping Each Links of Dates: 2019-01-22:   0%|          | 0/11 [00:00<?, ?it/s]"
      ]
     },
     "metadata": {},
     "output_type": "display_data"
    },
    {
     "data": {},
     "metadata": {},
     "output_type": "display_data"
    },
    {
     "data": {
      "application/vnd.jupyter.widget-view+json": {
       "model_id": "1105096efd1e4cddbf53a0ab20da18d7",
       "version_major": 2,
       "version_minor": 0
      },
      "text/plain": [
       "Looping Each Links of Dates: 2019-01-21:   0%|          | 0/12 [00:00<?, ?it/s]"
      ]
     },
     "metadata": {},
     "output_type": "display_data"
    },
    {
     "data": {},
     "metadata": {},
     "output_type": "display_data"
    },
    {
     "data": {
      "application/vnd.jupyter.widget-view+json": {
       "model_id": "aea84cc045f04266a49845a883b937f3",
       "version_major": 2,
       "version_minor": 0
      },
      "text/plain": [
       "Looping Each Links of Dates: 2019-01-20:   0%|          | 0/6 [00:00<?, ?it/s]"
      ]
     },
     "metadata": {},
     "output_type": "display_data"
    },
    {
     "data": {},
     "metadata": {},
     "output_type": "display_data"
    },
    {
     "data": {
      "application/vnd.jupyter.widget-view+json": {
       "model_id": "e7297c60df3d41f0986b3032061f73e8",
       "version_major": 2,
       "version_minor": 0
      },
      "text/plain": [
       "Looping Each Links of Dates: 2019-01-19:   0%|          | 0/12 [00:00<?, ?it/s]"
      ]
     },
     "metadata": {},
     "output_type": "display_data"
    },
    {
     "data": {},
     "metadata": {},
     "output_type": "display_data"
    },
    {
     "data": {
      "application/vnd.jupyter.widget-view+json": {
       "model_id": "072a32415eb04cb2a849732d8b74f53c",
       "version_major": 2,
       "version_minor": 0
      },
      "text/plain": [
       "Looping Each Links of Dates: 2019-01-18:   0%|          | 0/14 [00:00<?, ?it/s]"
      ]
     },
     "metadata": {},
     "output_type": "display_data"
    },
    {
     "data": {},
     "metadata": {},
     "output_type": "display_data"
    },
    {
     "data": {
      "application/vnd.jupyter.widget-view+json": {
       "model_id": "19cc8c2d3e924f27acc7c82516e22d2b",
       "version_major": 2,
       "version_minor": 0
      },
      "text/plain": [
       "Looping Each Links of Dates: 2019-01-17:   0%|          | 0/5 [00:00<?, ?it/s]"
      ]
     },
     "metadata": {},
     "output_type": "display_data"
    },
    {
     "data": {},
     "metadata": {},
     "output_type": "display_data"
    },
    {
     "data": {
      "application/vnd.jupyter.widget-view+json": {
       "model_id": "78a8a9b7038b442e957b71c98c68debd",
       "version_major": 2,
       "version_minor": 0
      },
      "text/plain": [
       "Looping Each Links of Dates: 2019-01-16:   0%|          | 0/15 [00:00<?, ?it/s]"
      ]
     },
     "metadata": {},
     "output_type": "display_data"
    },
    {
     "data": {},
     "metadata": {},
     "output_type": "display_data"
    },
    {
     "data": {
      "application/vnd.jupyter.widget-view+json": {
       "model_id": "175ec36ef0704778a067c10abea1e433",
       "version_major": 2,
       "version_minor": 0
      },
      "text/plain": [
       "Looping Each Links of Dates: 2019-01-15:   0%|          | 0/12 [00:00<?, ?it/s]"
      ]
     },
     "metadata": {},
     "output_type": "display_data"
    },
    {
     "data": {},
     "metadata": {},
     "output_type": "display_data"
    },
    {
     "data": {
      "application/vnd.jupyter.widget-view+json": {
       "model_id": "dfb5298eb26c43ff950a8729974ab1c8",
       "version_major": 2,
       "version_minor": 0
      },
      "text/plain": [
       "Looping Each Links of Dates: 2019-01-14:   0%|          | 0/12 [00:00<?, ?it/s]"
      ]
     },
     "metadata": {},
     "output_type": "display_data"
    },
    {
     "data": {},
     "metadata": {},
     "output_type": "display_data"
    },
    {
     "data": {
      "application/vnd.jupyter.widget-view+json": {
       "model_id": "c64bffc4412a4f53a9c9636d815db827",
       "version_major": 2,
       "version_minor": 0
      },
      "text/plain": [
       "Looping Each Links of Dates: 2019-01-13:   0%|          | 0/4 [00:00<?, ?it/s]"
      ]
     },
     "metadata": {},
     "output_type": "display_data"
    },
    {
     "data": {},
     "metadata": {},
     "output_type": "display_data"
    },
    {
     "data": {
      "application/vnd.jupyter.widget-view+json": {
       "model_id": "a66a2089296a4fa18feebb5fb6414503",
       "version_major": 2,
       "version_minor": 0
      },
      "text/plain": [
       "Looping Each Links of Dates: 2019-01-12:   0%|          | 0/6 [00:00<?, ?it/s]"
      ]
     },
     "metadata": {},
     "output_type": "display_data"
    },
    {
     "data": {},
     "metadata": {},
     "output_type": "display_data"
    },
    {
     "data": {
      "application/vnd.jupyter.widget-view+json": {
       "model_id": "a3c38ec5db5441db9497f0d455e745f0",
       "version_major": 2,
       "version_minor": 0
      },
      "text/plain": [
       "Looping Each Links of Dates: 2019-01-11:   0%|          | 0/12 [00:00<?, ?it/s]"
      ]
     },
     "metadata": {},
     "output_type": "display_data"
    },
    {
     "data": {},
     "metadata": {},
     "output_type": "display_data"
    },
    {
     "data": {
      "application/vnd.jupyter.widget-view+json": {
       "model_id": "e335fb56825c4650a5e36ed07edf7a81",
       "version_major": 2,
       "version_minor": 0
      },
      "text/plain": [
       "Looping Each Links of Dates: 2019-01-10:   0%|          | 0/9 [00:00<?, ?it/s]"
      ]
     },
     "metadata": {},
     "output_type": "display_data"
    },
    {
     "data": {},
     "metadata": {},
     "output_type": "display_data"
    },
    {
     "data": {
      "application/vnd.jupyter.widget-view+json": {
       "model_id": "0a8725bf7a064ad1b523a136b30c5c9c",
       "version_major": 2,
       "version_minor": 0
      },
      "text/plain": [
       "Looping Each Links of Dates: 2019-01-09:   0%|          | 0/12 [00:00<?, ?it/s]"
      ]
     },
     "metadata": {},
     "output_type": "display_data"
    },
    {
     "data": {},
     "metadata": {},
     "output_type": "display_data"
    },
    {
     "data": {
      "application/vnd.jupyter.widget-view+json": {
       "model_id": "05a19a476fad44ec84ab1bb31d1c4383",
       "version_major": 2,
       "version_minor": 0
      },
      "text/plain": [
       "Looping Each Links of Dates: 2019-01-08:   0%|          | 0/13 [00:00<?, ?it/s]"
      ]
     },
     "metadata": {},
     "output_type": "display_data"
    },
    {
     "data": {},
     "metadata": {},
     "output_type": "display_data"
    },
    {
     "data": {
      "application/vnd.jupyter.widget-view+json": {
       "model_id": "4077f3393be3461fba4bd2ff5a5a3a2d",
       "version_major": 2,
       "version_minor": 0
      },
      "text/plain": [
       "Looping Each Links of Dates: 2019-01-07:   0%|          | 0/12 [00:00<?, ?it/s]"
      ]
     },
     "metadata": {},
     "output_type": "display_data"
    },
    {
     "data": {},
     "metadata": {},
     "output_type": "display_data"
    },
    {
     "data": {
      "application/vnd.jupyter.widget-view+json": {
       "model_id": "774758c05d95404c9e2ce18be737540e",
       "version_major": 2,
       "version_minor": 0
      },
      "text/plain": [
       "Looping Each Links of Dates: 2019-01-06:   0%|          | 0/12 [00:00<?, ?it/s]"
      ]
     },
     "metadata": {},
     "output_type": "display_data"
    },
    {
     "data": {},
     "metadata": {},
     "output_type": "display_data"
    },
    {
     "data": {
      "application/vnd.jupyter.widget-view+json": {
       "model_id": "0bba94a9609c466ca018cca63c9eff7b",
       "version_major": 2,
       "version_minor": 0
      },
      "text/plain": [
       "Looping Each Links of Dates: 2019-01-05:   0%|          | 0/11 [00:00<?, ?it/s]"
      ]
     },
     "metadata": {},
     "output_type": "display_data"
    },
    {
     "data": {},
     "metadata": {},
     "output_type": "display_data"
    },
    {
     "data": {
      "application/vnd.jupyter.widget-view+json": {
       "model_id": "7c0fa513e8f1406e98012b6ee6b15579",
       "version_major": 2,
       "version_minor": 0
      },
      "text/plain": [
       "Looping Each Links of Dates: 2019-01-04:   0%|          | 0/12 [00:00<?, ?it/s]"
      ]
     },
     "metadata": {},
     "output_type": "display_data"
    },
    {
     "data": {},
     "metadata": {},
     "output_type": "display_data"
    },
    {
     "data": {
      "application/vnd.jupyter.widget-view+json": {
       "model_id": "8a2912548ab94773a0f0009ddeac4cac",
       "version_major": 2,
       "version_minor": 0
      },
      "text/plain": [
       "Looping Each Links of Dates: 2019-01-03:   0%|          | 0/9 [00:00<?, ?it/s]"
      ]
     },
     "metadata": {},
     "output_type": "display_data"
    },
    {
     "data": {},
     "metadata": {},
     "output_type": "display_data"
    },
    {
     "data": {
      "application/vnd.jupyter.widget-view+json": {
       "model_id": "8b09bf68f06346ee8def4941f70fe130",
       "version_major": 2,
       "version_minor": 0
      },
      "text/plain": [
       "Looping Each Links of Dates: 2019-01-02:   0%|          | 0/10 [00:00<?, ?it/s]"
      ]
     },
     "metadata": {},
     "output_type": "display_data"
    },
    {
     "data": {},
     "metadata": {},
     "output_type": "display_data"
    },
    {
     "data": {
      "application/vnd.jupyter.widget-view+json": {
       "model_id": "5670acc55a8c4006b2ef3cb0a6a586b1",
       "version_major": 2,
       "version_minor": 0
      },
      "text/plain": [
       "Looping Each Links of Dates: 2019-01-01:   0%|          | 0/9 [00:00<?, ?it/s]"
      ]
     },
     "metadata": {},
     "output_type": "display_data"
    },
    {
     "data": {},
     "metadata": {},
     "output_type": "display_data"
    },
    {
     "data": {
      "application/vnd.jupyter.widget-view+json": {
       "model_id": "bf68848ea7d744738a9574d4bd07a875",
       "version_major": 2,
       "version_minor": 0
      },
      "text/plain": [
       "Looping Each Links of Dates: 2018-12-31:   0%|          | 0/10 [00:00<?, ?it/s]"
      ]
     },
     "metadata": {},
     "output_type": "display_data"
    },
    {
     "data": {},
     "metadata": {},
     "output_type": "display_data"
    },
    {
     "data": {
      "application/vnd.jupyter.widget-view+json": {
       "model_id": "fbfac2b27b7f4b608d316065cbd0857b",
       "version_major": 2,
       "version_minor": 0
      },
      "text/plain": [
       "Looping Each Links of Dates: 2018-12-30:   0%|          | 0/4 [00:00<?, ?it/s]"
      ]
     },
     "metadata": {},
     "output_type": "display_data"
    },
    {
     "data": {},
     "metadata": {},
     "output_type": "display_data"
    },
    {
     "data": {
      "application/vnd.jupyter.widget-view+json": {
       "model_id": "0bdf56ca43f446978dc3fd1f34e162d9",
       "version_major": 2,
       "version_minor": 0
      },
      "text/plain": [
       "Looping Each Links of Dates: 2018-12-29:   0%|          | 0/6 [00:00<?, ?it/s]"
      ]
     },
     "metadata": {},
     "output_type": "display_data"
    },
    {
     "data": {},
     "metadata": {},
     "output_type": "display_data"
    },
    {
     "data": {
      "application/vnd.jupyter.widget-view+json": {
       "model_id": "1f0720b60b444863a45be2bef1af8f73",
       "version_major": 2,
       "version_minor": 0
      },
      "text/plain": [
       "Looping Each Links of Dates: 2018-12-28:   0%|          | 0/7 [00:00<?, ?it/s]"
      ]
     },
     "metadata": {},
     "output_type": "display_data"
    },
    {
     "data": {},
     "metadata": {},
     "output_type": "display_data"
    },
    {
     "data": {
      "application/vnd.jupyter.widget-view+json": {
       "model_id": "88ce2a62bacb4094a774a792f1b8f7b4",
       "version_major": 2,
       "version_minor": 0
      },
      "text/plain": [
       "Looping Each Links of Dates: 2018-12-27:   0%|          | 0/8 [00:00<?, ?it/s]"
      ]
     },
     "metadata": {},
     "output_type": "display_data"
    },
    {
     "data": {},
     "metadata": {},
     "output_type": "display_data"
    },
    {
     "data": {
      "application/vnd.jupyter.widget-view+json": {
       "model_id": "5b30f217057d4ca3b7ec2622fd32ba1d",
       "version_major": 2,
       "version_minor": 0
      },
      "text/plain": [
       "Looping Each Links of Dates: 2018-12-26:   0%|          | 0/8 [00:00<?, ?it/s]"
      ]
     },
     "metadata": {},
     "output_type": "display_data"
    },
    {
     "data": {},
     "metadata": {},
     "output_type": "display_data"
    },
    {
     "data": {
      "application/vnd.jupyter.widget-view+json": {
       "model_id": "31613b0fa1af4e60bdfd335c657f6bb7",
       "version_major": 2,
       "version_minor": 0
      },
      "text/plain": [
       "Looping Each Links of Dates: 2018-12-25:   0%|          | 0/6 [00:00<?, ?it/s]"
      ]
     },
     "metadata": {},
     "output_type": "display_data"
    },
    {
     "data": {},
     "metadata": {},
     "output_type": "display_data"
    },
    {
     "data": {
      "application/vnd.jupyter.widget-view+json": {
       "model_id": "aad8a8364c17453b9190f8bc7f76bb9b",
       "version_major": 2,
       "version_minor": 0
      },
      "text/plain": [
       "Looping Each Links of Dates: 2018-12-24:   0%|          | 0/7 [00:00<?, ?it/s]"
      ]
     },
     "metadata": {},
     "output_type": "display_data"
    },
    {
     "data": {},
     "metadata": {},
     "output_type": "display_data"
    },
    {
     "data": {
      "application/vnd.jupyter.widget-view+json": {
       "model_id": "faa43a93db294638b5f8e54d4efc090e",
       "version_major": 2,
       "version_minor": 0
      },
      "text/plain": [
       "Looping Each Links of Dates: 2018-12-23:   0%|          | 0/8 [00:00<?, ?it/s]"
      ]
     },
     "metadata": {},
     "output_type": "display_data"
    },
    {
     "data": {},
     "metadata": {},
     "output_type": "display_data"
    },
    {
     "data": {
      "application/vnd.jupyter.widget-view+json": {
       "model_id": "925b8ba3561b404a9cf0d04ce810775b",
       "version_major": 2,
       "version_minor": 0
      },
      "text/plain": [
       "Looping Each Links of Dates: 2018-12-22:   0%|          | 0/8 [00:00<?, ?it/s]"
      ]
     },
     "metadata": {},
     "output_type": "display_data"
    },
    {
     "data": {},
     "metadata": {},
     "output_type": "display_data"
    },
    {
     "data": {
      "application/vnd.jupyter.widget-view+json": {
       "model_id": "3d427c8d6005420581f88ba8c45c6644",
       "version_major": 2,
       "version_minor": 0
      },
      "text/plain": [
       "Looping Each Links of Dates: 2018-12-21:   0%|          | 0/7 [00:00<?, ?it/s]"
      ]
     },
     "metadata": {},
     "output_type": "display_data"
    },
    {
     "data": {},
     "metadata": {},
     "output_type": "display_data"
    },
    {
     "data": {
      "application/vnd.jupyter.widget-view+json": {
       "model_id": "43d258a4dd704481b34cd039b3a0a1f6",
       "version_major": 2,
       "version_minor": 0
      },
      "text/plain": [
       "Looping Each Links of Dates: 2018-12-20:   0%|          | 0/7 [00:00<?, ?it/s]"
      ]
     },
     "metadata": {},
     "output_type": "display_data"
    },
    {
     "data": {},
     "metadata": {},
     "output_type": "display_data"
    },
    {
     "data": {
      "application/vnd.jupyter.widget-view+json": {
       "model_id": "272c6cff926d4d44a32576c77f849ada",
       "version_major": 2,
       "version_minor": 0
      },
      "text/plain": [
       "Looping Each Links of Dates: 2018-12-19:   0%|          | 0/9 [00:00<?, ?it/s]"
      ]
     },
     "metadata": {},
     "output_type": "display_data"
    },
    {
     "data": {},
     "metadata": {},
     "output_type": "display_data"
    },
    {
     "data": {
      "application/vnd.jupyter.widget-view+json": {
       "model_id": "dbc6dca231364c228e21d1e773ca4d03",
       "version_major": 2,
       "version_minor": 0
      },
      "text/plain": [
       "Looping Each Links of Dates: 2018-12-18:   0%|          | 0/7 [00:00<?, ?it/s]"
      ]
     },
     "metadata": {},
     "output_type": "display_data"
    },
    {
     "data": {},
     "metadata": {},
     "output_type": "display_data"
    },
    {
     "data": {
      "application/vnd.jupyter.widget-view+json": {
       "model_id": "6c50dbc19b4841dea6863e7c3c22b2b6",
       "version_major": 2,
       "version_minor": 0
      },
      "text/plain": [
       "Looping Each Links of Dates: 2018-12-17:   0%|          | 0/8 [00:00<?, ?it/s]"
      ]
     },
     "metadata": {},
     "output_type": "display_data"
    },
    {
     "data": {},
     "metadata": {},
     "output_type": "display_data"
    },
    {
     "data": {
      "application/vnd.jupyter.widget-view+json": {
       "model_id": "71a85a84262c460ba233ca89b41bd552",
       "version_major": 2,
       "version_minor": 0
      },
      "text/plain": [
       "Looping Each Links of Dates: 2018-12-16:   0%|          | 0/9 [00:00<?, ?it/s]"
      ]
     },
     "metadata": {},
     "output_type": "display_data"
    },
    {
     "data": {},
     "metadata": {},
     "output_type": "display_data"
    },
    {
     "data": {
      "application/vnd.jupyter.widget-view+json": {
       "model_id": "a30fa40452764db29cee5172dea5b89a",
       "version_major": 2,
       "version_minor": 0
      },
      "text/plain": [
       "Looping Each Links of Dates: 2018-12-15:   0%|          | 0/6 [00:00<?, ?it/s]"
      ]
     },
     "metadata": {},
     "output_type": "display_data"
    },
    {
     "data": {},
     "metadata": {},
     "output_type": "display_data"
    },
    {
     "data": {
      "application/vnd.jupyter.widget-view+json": {
       "model_id": "e63c9a9c050243518e308e1c074bb83a",
       "version_major": 2,
       "version_minor": 0
      },
      "text/plain": [
       "Looping Each Links of Dates: 2018-12-14:   0%|          | 0/7 [00:00<?, ?it/s]"
      ]
     },
     "metadata": {},
     "output_type": "display_data"
    },
    {
     "data": {},
     "metadata": {},
     "output_type": "display_data"
    },
    {
     "data": {
      "application/vnd.jupyter.widget-view+json": {
       "model_id": "097ff128d4ad44c2b9fc8a6d18c5e29f",
       "version_major": 2,
       "version_minor": 0
      },
      "text/plain": [
       "Looping Each Links of Dates: 2018-12-13:   0%|          | 0/7 [00:00<?, ?it/s]"
      ]
     },
     "metadata": {},
     "output_type": "display_data"
    },
    {
     "data": {},
     "metadata": {},
     "output_type": "display_data"
    },
    {
     "data": {
      "application/vnd.jupyter.widget-view+json": {
       "model_id": "7d4bcfc7d63a42d786b2c4ccb65d19bb",
       "version_major": 2,
       "version_minor": 0
      },
      "text/plain": [
       "Looping Each Links of Dates: 2018-12-12:   0%|          | 0/7 [00:00<?, ?it/s]"
      ]
     },
     "metadata": {},
     "output_type": "display_data"
    },
    {
     "data": {},
     "metadata": {},
     "output_type": "display_data"
    },
    {
     "data": {
      "application/vnd.jupyter.widget-view+json": {
       "model_id": "504958b2ab8e4af0ad5717c5bc507b56",
       "version_major": 2,
       "version_minor": 0
      },
      "text/plain": [
       "Looping Each Links of Dates: 2018-12-11:   0%|          | 0/6 [00:00<?, ?it/s]"
      ]
     },
     "metadata": {},
     "output_type": "display_data"
    },
    {
     "data": {},
     "metadata": {},
     "output_type": "display_data"
    },
    {
     "data": {
      "application/vnd.jupyter.widget-view+json": {
       "model_id": "dff6532291c34f9b989ff570efe95a90",
       "version_major": 2,
       "version_minor": 0
      },
      "text/plain": [
       "Looping Each Links of Dates: 2018-12-10:   0%|          | 0/8 [00:00<?, ?it/s]"
      ]
     },
     "metadata": {},
     "output_type": "display_data"
    },
    {
     "data": {},
     "metadata": {},
     "output_type": "display_data"
    },
    {
     "data": {
      "application/vnd.jupyter.widget-view+json": {
       "model_id": "80fd5aa0f5f44f7ab81c274a69cf2dfd",
       "version_major": 2,
       "version_minor": 0
      },
      "text/plain": [
       "Looping Each Links of Dates: 2018-12-09:   0%|          | 0/7 [00:00<?, ?it/s]"
      ]
     },
     "metadata": {},
     "output_type": "display_data"
    },
    {
     "data": {},
     "metadata": {},
     "output_type": "display_data"
    },
    {
     "data": {
      "application/vnd.jupyter.widget-view+json": {
       "model_id": "85e7f11a478440f388beb473d9bc0027",
       "version_major": 2,
       "version_minor": 0
      },
      "text/plain": [
       "Looping Each Links of Dates: 2018-12-08:   0%|          | 0/7 [00:00<?, ?it/s]"
      ]
     },
     "metadata": {},
     "output_type": "display_data"
    },
    {
     "data": {},
     "metadata": {},
     "output_type": "display_data"
    },
    {
     "data": {
      "application/vnd.jupyter.widget-view+json": {
       "model_id": "fe747888d5f241e9b4ccd1bd86008f63",
       "version_major": 2,
       "version_minor": 0
      },
      "text/plain": [
       "Looping Each Links of Dates: 2018-12-07:   0%|          | 0/8 [00:00<?, ?it/s]"
      ]
     },
     "metadata": {},
     "output_type": "display_data"
    },
    {
     "data": {},
     "metadata": {},
     "output_type": "display_data"
    },
    {
     "data": {
      "application/vnd.jupyter.widget-view+json": {
       "model_id": "2f14db6f36e647ed9054dedd88f10c4b",
       "version_major": 2,
       "version_minor": 0
      },
      "text/plain": [
       "Looping Each Links of Dates: 2018-12-06:   0%|          | 0/8 [00:00<?, ?it/s]"
      ]
     },
     "metadata": {},
     "output_type": "display_data"
    },
    {
     "data": {},
     "metadata": {},
     "output_type": "display_data"
    },
    {
     "data": {
      "application/vnd.jupyter.widget-view+json": {
       "model_id": "1f52cad844f24ef687f1fabfd8423dde",
       "version_major": 2,
       "version_minor": 0
      },
      "text/plain": [
       "Looping Each Links of Dates: 2018-12-05:   0%|          | 0/10 [00:00<?, ?it/s]"
      ]
     },
     "metadata": {},
     "output_type": "display_data"
    },
    {
     "data": {},
     "metadata": {},
     "output_type": "display_data"
    },
    {
     "data": {
      "application/vnd.jupyter.widget-view+json": {
       "model_id": "57513257d52e49969fd022561172c94b",
       "version_major": 2,
       "version_minor": 0
      },
      "text/plain": [
       "Looping Each Links of Dates: 2018-12-04:   0%|          | 0/9 [00:00<?, ?it/s]"
      ]
     },
     "metadata": {},
     "output_type": "display_data"
    },
    {
     "data": {},
     "metadata": {},
     "output_type": "display_data"
    },
    {
     "data": {
      "application/vnd.jupyter.widget-view+json": {
       "model_id": "387ad29e59124e55ac72536d286384e8",
       "version_major": 2,
       "version_minor": 0
      },
      "text/plain": [
       "Looping Each Links of Dates: 2018-12-03:   0%|          | 0/7 [00:00<?, ?it/s]"
      ]
     },
     "metadata": {},
     "output_type": "display_data"
    },
    {
     "data": {},
     "metadata": {},
     "output_type": "display_data"
    },
    {
     "data": {
      "application/vnd.jupyter.widget-view+json": {
       "model_id": "01ba9e1a68ba46d6a52f468efc305823",
       "version_major": 2,
       "version_minor": 0
      },
      "text/plain": [
       "Looping Each Links of Dates: 2018-12-02:   0%|          | 0/6 [00:00<?, ?it/s]"
      ]
     },
     "metadata": {},
     "output_type": "display_data"
    },
    {
     "data": {},
     "metadata": {},
     "output_type": "display_data"
    },
    {
     "data": {
      "application/vnd.jupyter.widget-view+json": {
       "model_id": "7ac6a958ac75492c9fe8fc4a60fac075",
       "version_major": 2,
       "version_minor": 0
      },
      "text/plain": [
       "Looping Each Links of Dates: 2018-12-01:   0%|          | 0/6 [00:00<?, ?it/s]"
      ]
     },
     "metadata": {},
     "output_type": "display_data"
    },
    {
     "data": {},
     "metadata": {},
     "output_type": "display_data"
    },
    {
     "data": {
      "application/vnd.jupyter.widget-view+json": {
       "model_id": "558eaad316f549978d62d84c32a6355a",
       "version_major": 2,
       "version_minor": 0
      },
      "text/plain": [
       "Looping Each Links of Dates: 2018-11-30:   0%|          | 0/10 [00:00<?, ?it/s]"
      ]
     },
     "metadata": {},
     "output_type": "display_data"
    },
    {
     "data": {},
     "metadata": {},
     "output_type": "display_data"
    },
    {
     "data": {
      "application/vnd.jupyter.widget-view+json": {
       "model_id": "362ed8c1bcd64cb38420b1a2d6b429d5",
       "version_major": 2,
       "version_minor": 0
      },
      "text/plain": [
       "Looping Each Links of Dates: 2018-11-29:   0%|          | 0/6 [00:00<?, ?it/s]"
      ]
     },
     "metadata": {},
     "output_type": "display_data"
    },
    {
     "data": {},
     "metadata": {},
     "output_type": "display_data"
    },
    {
     "data": {
      "application/vnd.jupyter.widget-view+json": {
       "model_id": "a149cc62d7ff4925b2aee1eec8fb9e06",
       "version_major": 2,
       "version_minor": 0
      },
      "text/plain": [
       "Looping Each Links of Dates: 2018-11-28:   0%|          | 0/9 [00:00<?, ?it/s]"
      ]
     },
     "metadata": {},
     "output_type": "display_data"
    },
    {
     "data": {},
     "metadata": {},
     "output_type": "display_data"
    },
    {
     "data": {
      "application/vnd.jupyter.widget-view+json": {
       "model_id": "e1faa1c77333439f93ead9868c2825ec",
       "version_major": 2,
       "version_minor": 0
      },
      "text/plain": [
       "Looping Each Links of Dates: 2018-11-27:   0%|          | 0/10 [00:00<?, ?it/s]"
      ]
     },
     "metadata": {},
     "output_type": "display_data"
    },
    {
     "data": {},
     "metadata": {},
     "output_type": "display_data"
    },
    {
     "data": {
      "application/vnd.jupyter.widget-view+json": {
       "model_id": "260d7b1fd8c942f89790980e95344885",
       "version_major": 2,
       "version_minor": 0
      },
      "text/plain": [
       "Looping Each Links of Dates: 2018-11-26:   0%|          | 0/6 [00:00<?, ?it/s]"
      ]
     },
     "metadata": {},
     "output_type": "display_data"
    },
    {
     "data": {},
     "metadata": {},
     "output_type": "display_data"
    },
    {
     "data": {
      "application/vnd.jupyter.widget-view+json": {
       "model_id": "f9c4faf978a54cebafa6dd6c614ce4b8",
       "version_major": 2,
       "version_minor": 0
      },
      "text/plain": [
       "Looping Each Links of Dates: 2018-11-25:   0%|          | 0/7 [00:00<?, ?it/s]"
      ]
     },
     "metadata": {},
     "output_type": "display_data"
    },
    {
     "data": {},
     "metadata": {},
     "output_type": "display_data"
    },
    {
     "data": {
      "application/vnd.jupyter.widget-view+json": {
       "model_id": "c4c2225c4e5946e4b0f81784fa225c3d",
       "version_major": 2,
       "version_minor": 0
      },
      "text/plain": [
       "Looping Each Links of Dates: 2018-11-24:   0%|          | 0/7 [00:00<?, ?it/s]"
      ]
     },
     "metadata": {},
     "output_type": "display_data"
    },
    {
     "data": {},
     "metadata": {},
     "output_type": "display_data"
    },
    {
     "data": {
      "application/vnd.jupyter.widget-view+json": {
       "model_id": "addbda189fa545e2b5c67ac458416564",
       "version_major": 2,
       "version_minor": 0
      },
      "text/plain": [
       "Looping Each Links of Dates: 2018-11-23:   0%|          | 0/8 [00:00<?, ?it/s]"
      ]
     },
     "metadata": {},
     "output_type": "display_data"
    },
    {
     "data": {},
     "metadata": {},
     "output_type": "display_data"
    },
    {
     "data": {
      "application/vnd.jupyter.widget-view+json": {
       "model_id": "5520be856fbb4f2686335be6be7628e1",
       "version_major": 2,
       "version_minor": 0
      },
      "text/plain": [
       "Looping Each Links of Dates: 2018-11-22:   0%|          | 0/8 [00:00<?, ?it/s]"
      ]
     },
     "metadata": {},
     "output_type": "display_data"
    },
    {
     "data": {},
     "metadata": {},
     "output_type": "display_data"
    },
    {
     "data": {
      "application/vnd.jupyter.widget-view+json": {
       "model_id": "52ee6e1596f242f6b5faa5be0c58136b",
       "version_major": 2,
       "version_minor": 0
      },
      "text/plain": [
       "Looping Each Links of Dates: 2018-11-21:   0%|          | 0/10 [00:00<?, ?it/s]"
      ]
     },
     "metadata": {},
     "output_type": "display_data"
    },
    {
     "data": {},
     "metadata": {},
     "output_type": "display_data"
    },
    {
     "data": {
      "application/vnd.jupyter.widget-view+json": {
       "model_id": "ef6d99375efc488ab0723c1df10f48fe",
       "version_major": 2,
       "version_minor": 0
      },
      "text/plain": [
       "Looping Each Links of Dates: 2018-11-20:   0%|          | 0/8 [00:00<?, ?it/s]"
      ]
     },
     "metadata": {},
     "output_type": "display_data"
    },
    {
     "data": {},
     "metadata": {},
     "output_type": "display_data"
    },
    {
     "data": {
      "application/vnd.jupyter.widget-view+json": {
       "model_id": "3490c46871b84da6af0dfb829ed434f5",
       "version_major": 2,
       "version_minor": 0
      },
      "text/plain": [
       "Looping Each Links of Dates: 2018-11-19:   0%|          | 0/10 [00:00<?, ?it/s]"
      ]
     },
     "metadata": {},
     "output_type": "display_data"
    },
    {
     "data": {},
     "metadata": {},
     "output_type": "display_data"
    },
    {
     "data": {
      "application/vnd.jupyter.widget-view+json": {
       "model_id": "e4106b10d0c642d8ad9802ff1d8e1ef0",
       "version_major": 2,
       "version_minor": 0
      },
      "text/plain": [
       "Looping Each Links of Dates: 2018-11-18:   0%|          | 0/5 [00:00<?, ?it/s]"
      ]
     },
     "metadata": {},
     "output_type": "display_data"
    },
    {
     "data": {},
     "metadata": {},
     "output_type": "display_data"
    },
    {
     "data": {
      "application/vnd.jupyter.widget-view+json": {
       "model_id": "324fb7b47e4e4b1abb9fd9525903fea5",
       "version_major": 2,
       "version_minor": 0
      },
      "text/plain": [
       "Looping Each Links of Dates: 2018-11-17:   0%|          | 0/7 [00:00<?, ?it/s]"
      ]
     },
     "metadata": {},
     "output_type": "display_data"
    },
    {
     "data": {},
     "metadata": {},
     "output_type": "display_data"
    },
    {
     "data": {
      "application/vnd.jupyter.widget-view+json": {
       "model_id": "a9e8872d2b684d3685604c6164633d1b",
       "version_major": 2,
       "version_minor": 0
      },
      "text/plain": [
       "Looping Each Links of Dates: 2018-11-16:   0%|          | 0/9 [00:00<?, ?it/s]"
      ]
     },
     "metadata": {},
     "output_type": "display_data"
    },
    {
     "data": {},
     "metadata": {},
     "output_type": "display_data"
    },
    {
     "data": {
      "application/vnd.jupyter.widget-view+json": {
       "model_id": "95028401b30d4e599e7c438abcc6f070",
       "version_major": 2,
       "version_minor": 0
      },
      "text/plain": [
       "Looping Each Links of Dates: 2018-11-15:   0%|          | 0/7 [00:00<?, ?it/s]"
      ]
     },
     "metadata": {},
     "output_type": "display_data"
    },
    {
     "data": {},
     "metadata": {},
     "output_type": "display_data"
    },
    {
     "data": {
      "application/vnd.jupyter.widget-view+json": {
       "model_id": "79a30f6690514be0a6b576a2b63a4921",
       "version_major": 2,
       "version_minor": 0
      },
      "text/plain": [
       "Looping Each Links of Dates: 2018-11-14:   0%|          | 0/10 [00:00<?, ?it/s]"
      ]
     },
     "metadata": {},
     "output_type": "display_data"
    },
    {
     "data": {},
     "metadata": {},
     "output_type": "display_data"
    },
    {
     "data": {
      "application/vnd.jupyter.widget-view+json": {
       "model_id": "179970a9d24142e3a78803275fb66bde",
       "version_major": 2,
       "version_minor": 0
      },
      "text/plain": [
       "Looping Each Links of Dates: 2018-11-13:   0%|          | 0/10 [00:00<?, ?it/s]"
      ]
     },
     "metadata": {},
     "output_type": "display_data"
    },
    {
     "data": {},
     "metadata": {},
     "output_type": "display_data"
    },
    {
     "data": {
      "application/vnd.jupyter.widget-view+json": {
       "model_id": "cd64bdefd0b441f08b1bfe68f17047a6",
       "version_major": 2,
       "version_minor": 0
      },
      "text/plain": [
       "Looping Each Links of Dates: 2018-11-12:   0%|          | 0/6 [00:00<?, ?it/s]"
      ]
     },
     "metadata": {},
     "output_type": "display_data"
    },
    {
     "data": {},
     "metadata": {},
     "output_type": "display_data"
    },
    {
     "data": {
      "application/vnd.jupyter.widget-view+json": {
       "model_id": "bd00c1ca3ff34520b802853823027a8e",
       "version_major": 2,
       "version_minor": 0
      },
      "text/plain": [
       "Looping Each Links of Dates: 2018-11-11:   0%|          | 0/8 [00:00<?, ?it/s]"
      ]
     },
     "metadata": {},
     "output_type": "display_data"
    },
    {
     "data": {},
     "metadata": {},
     "output_type": "display_data"
    },
    {
     "data": {
      "application/vnd.jupyter.widget-view+json": {
       "model_id": "f69c89463a9241e09daf0a0ec2b9e9ac",
       "version_major": 2,
       "version_minor": 0
      },
      "text/plain": [
       "Looping Each Links of Dates: 2018-11-10:   0%|          | 0/10 [00:00<?, ?it/s]"
      ]
     },
     "metadata": {},
     "output_type": "display_data"
    },
    {
     "data": {},
     "metadata": {},
     "output_type": "display_data"
    },
    {
     "data": {
      "application/vnd.jupyter.widget-view+json": {
       "model_id": "d0345e503769474bb39f87e11a8bcdb8",
       "version_major": 2,
       "version_minor": 0
      },
      "text/plain": [
       "Looping Each Links of Dates: 2018-11-09:   0%|          | 0/9 [00:00<?, ?it/s]"
      ]
     },
     "metadata": {},
     "output_type": "display_data"
    },
    {
     "data": {},
     "metadata": {},
     "output_type": "display_data"
    },
    {
     "data": {
      "application/vnd.jupyter.widget-view+json": {
       "model_id": "894586b7147b41329e94784883fc25a6",
       "version_major": 2,
       "version_minor": 0
      },
      "text/plain": [
       "Looping Each Links of Dates: 2018-11-08:   0%|          | 0/9 [00:00<?, ?it/s]"
      ]
     },
     "metadata": {},
     "output_type": "display_data"
    },
    {
     "data": {},
     "metadata": {},
     "output_type": "display_data"
    },
    {
     "data": {
      "application/vnd.jupyter.widget-view+json": {
       "model_id": "c7cf1724118946be9caac82ef8dae7d1",
       "version_major": 2,
       "version_minor": 0
      },
      "text/plain": [
       "Looping Each Links of Dates: 2018-11-07:   0%|          | 0/6 [00:00<?, ?it/s]"
      ]
     },
     "metadata": {},
     "output_type": "display_data"
    },
    {
     "data": {},
     "metadata": {},
     "output_type": "display_data"
    },
    {
     "data": {
      "application/vnd.jupyter.widget-view+json": {
       "model_id": "40f1ca827c5d4c0ea8ac34778d9d1e19",
       "version_major": 2,
       "version_minor": 0
      },
      "text/plain": [
       "Looping Each Links of Dates: 2018-11-06:   0%|          | 0/9 [00:00<?, ?it/s]"
      ]
     },
     "metadata": {},
     "output_type": "display_data"
    },
    {
     "data": {},
     "metadata": {},
     "output_type": "display_data"
    },
    {
     "data": {
      "application/vnd.jupyter.widget-view+json": {
       "model_id": "dff84570fe7a450381965a4083662f8a",
       "version_major": 2,
       "version_minor": 0
      },
      "text/plain": [
       "Looping Each Links of Dates: 2018-11-05:   0%|          | 0/10 [00:00<?, ?it/s]"
      ]
     },
     "metadata": {},
     "output_type": "display_data"
    },
    {
     "data": {},
     "metadata": {},
     "output_type": "display_data"
    },
    {
     "data": {
      "application/vnd.jupyter.widget-view+json": {
       "model_id": "1558a2e142b54d0699476ead33913b1f",
       "version_major": 2,
       "version_minor": 0
      },
      "text/plain": [
       "Looping Each Links of Dates: 2018-11-04:   0%|          | 0/7 [00:00<?, ?it/s]"
      ]
     },
     "metadata": {},
     "output_type": "display_data"
    },
    {
     "data": {},
     "metadata": {},
     "output_type": "display_data"
    },
    {
     "data": {
      "application/vnd.jupyter.widget-view+json": {
       "model_id": "a8b2394349d94f939dcf6b4c4d01df24",
       "version_major": 2,
       "version_minor": 0
      },
      "text/plain": [
       "Looping Each Links of Dates: 2018-11-03:   0%|          | 0/7 [00:00<?, ?it/s]"
      ]
     },
     "metadata": {},
     "output_type": "display_data"
    },
    {
     "data": {},
     "metadata": {},
     "output_type": "display_data"
    },
    {
     "data": {
      "application/vnd.jupyter.widget-view+json": {
       "model_id": "92f69f6c05e34c9986dfc0583395f91d",
       "version_major": 2,
       "version_minor": 0
      },
      "text/plain": [
       "Looping Each Links of Dates: 2018-11-02:   0%|          | 0/10 [00:00<?, ?it/s]"
      ]
     },
     "metadata": {},
     "output_type": "display_data"
    },
    {
     "data": {},
     "metadata": {},
     "output_type": "display_data"
    },
    {
     "data": {
      "application/vnd.jupyter.widget-view+json": {
       "model_id": "bd92353b3c1242399567701353baa661",
       "version_major": 2,
       "version_minor": 0
      },
      "text/plain": [
       "Looping Each Links of Dates: 2018-11-01:   0%|          | 0/10 [00:00<?, ?it/s]"
      ]
     },
     "metadata": {},
     "output_type": "display_data"
    },
    {
     "data": {},
     "metadata": {},
     "output_type": "display_data"
    },
    {
     "data": {
      "application/vnd.jupyter.widget-view+json": {
       "model_id": "9a5e2c2000db4d00badb3c01e761996d",
       "version_major": 2,
       "version_minor": 0
      },
      "text/plain": [
       "Looping Each Links of Dates: 2018-10-31:   0%|          | 0/7 [00:00<?, ?it/s]"
      ]
     },
     "metadata": {},
     "output_type": "display_data"
    },
    {
     "data": {},
     "metadata": {},
     "output_type": "display_data"
    },
    {
     "data": {
      "application/vnd.jupyter.widget-view+json": {
       "model_id": "",
       "version_major": 2,
       "version_minor": 0
      },
      "text/plain": [
       "Looping Each Links of Dates: 2018-10-30:   0%|          | 0/10 [00:00<?, ?it/s]"
      ]
     },
     "metadata": {},
     "output_type": "display_data"
    },
    {
     "data": {},
     "metadata": {},
     "output_type": "display_data"
    },
    {
     "data": {
      "application/vnd.jupyter.widget-view+json": {
       "model_id": "",
       "version_major": 2,
       "version_minor": 0
      },
      "text/plain": [
       "Looping Each Links of Dates: 2018-10-29:   0%|          | 0/10 [00:00<?, ?it/s]"
      ]
     },
     "metadata": {},
     "output_type": "display_data"
    },
    {
     "data": {},
     "metadata": {},
     "output_type": "display_data"
    },
    {
     "data": {
      "application/vnd.jupyter.widget-view+json": {
       "model_id": "",
       "version_major": 2,
       "version_minor": 0
      },
      "text/plain": [
       "Looping Each Links of Dates: 2018-10-28:   0%|          | 0/7 [00:00<?, ?it/s]"
      ]
     },
     "metadata": {},
     "output_type": "display_data"
    },
    {
     "data": {},
     "metadata": {},
     "output_type": "display_data"
    },
    {
     "data": {
      "application/vnd.jupyter.widget-view+json": {
       "model_id": "",
       "version_major": 2,
       "version_minor": 0
      },
      "text/plain": [
       "Looping Each Links of Dates: 2018-10-27:   0%|          | 0/7 [00:00<?, ?it/s]"
      ]
     },
     "metadata": {},
     "output_type": "display_data"
    },
    {
     "data": {},
     "metadata": {},
     "output_type": "display_data"
    },
    {
     "data": {
      "application/vnd.jupyter.widget-view+json": {
       "model_id": "",
       "version_major": 2,
       "version_minor": 0
      },
      "text/plain": [
       "Looping Each Links of Dates: 2018-10-26:   0%|          | 0/11 [00:00<?, ?it/s]"
      ]
     },
     "metadata": {},
     "output_type": "display_data"
    },
    {
     "data": {},
     "metadata": {},
     "output_type": "display_data"
    },
    {
     "data": {
      "application/vnd.jupyter.widget-view+json": {
       "model_id": "",
       "version_major": 2,
       "version_minor": 0
      },
      "text/plain": [
       "Looping Each Links of Dates: 2018-10-25:   0%|          | 0/8 [00:00<?, ?it/s]"
      ]
     },
     "metadata": {},
     "output_type": "display_data"
    },
    {
     "data": {},
     "metadata": {},
     "output_type": "display_data"
    },
    {
     "data": {
      "application/vnd.jupyter.widget-view+json": {
       "model_id": "",
       "version_major": 2,
       "version_minor": 0
      },
      "text/plain": [
       "Looping Each Links of Dates: 2018-10-24:   0%|          | 0/9 [00:00<?, ?it/s]"
      ]
     },
     "metadata": {},
     "output_type": "display_data"
    },
    {
     "data": {},
     "metadata": {},
     "output_type": "display_data"
    },
    {
     "data": {
      "application/vnd.jupyter.widget-view+json": {
       "model_id": "",
       "version_major": 2,
       "version_minor": 0
      },
      "text/plain": [
       "Looping Each Links of Dates: 2018-10-23:   0%|          | 0/10 [00:00<?, ?it/s]"
      ]
     },
     "metadata": {},
     "output_type": "display_data"
    },
    {
     "data": {},
     "metadata": {},
     "output_type": "display_data"
    },
    {
     "data": {
      "application/vnd.jupyter.widget-view+json": {
       "model_id": "",
       "version_major": 2,
       "version_minor": 0
      },
      "text/plain": [
       "Looping Each Links of Dates: 2018-10-22:   0%|          | 0/8 [00:00<?, ?it/s]"
      ]
     },
     "metadata": {},
     "output_type": "display_data"
    },
    {
     "data": {},
     "metadata": {},
     "output_type": "display_data"
    },
    {
     "data": {
      "application/vnd.jupyter.widget-view+json": {
       "model_id": "",
       "version_major": 2,
       "version_minor": 0
      },
      "text/plain": [
       "Looping Each Links of Dates: 2018-10-21:   0%|          | 0/9 [00:00<?, ?it/s]"
      ]
     },
     "metadata": {},
     "output_type": "display_data"
    },
    {
     "data": {},
     "metadata": {},
     "output_type": "display_data"
    },
    {
     "data": {
      "application/vnd.jupyter.widget-view+json": {
       "model_id": "",
       "version_major": 2,
       "version_minor": 0
      },
      "text/plain": [
       "Looping Each Links of Dates: 2018-10-20:   0%|          | 0/8 [00:00<?, ?it/s]"
      ]
     },
     "metadata": {},
     "output_type": "display_data"
    },
    {
     "data": {},
     "metadata": {},
     "output_type": "display_data"
    },
    {
     "data": {
      "application/vnd.jupyter.widget-view+json": {
       "model_id": "",
       "version_major": 2,
       "version_minor": 0
      },
      "text/plain": [
       "Looping Each Links of Dates: 2018-10-19:   0%|          | 0/8 [00:00<?, ?it/s]"
      ]
     },
     "metadata": {},
     "output_type": "display_data"
    },
    {
     "data": {},
     "metadata": {},
     "output_type": "display_data"
    },
    {
     "data": {
      "application/vnd.jupyter.widget-view+json": {
       "model_id": "",
       "version_major": 2,
       "version_minor": 0
      },
      "text/plain": [
       "Looping Each Links of Dates: 2018-10-18:   0%|          | 0/8 [00:00<?, ?it/s]"
      ]
     },
     "metadata": {},
     "output_type": "display_data"
    },
    {
     "data": {},
     "metadata": {},
     "output_type": "display_data"
    },
    {
     "data": {
      "application/vnd.jupyter.widget-view+json": {
       "model_id": "",
       "version_major": 2,
       "version_minor": 0
      },
      "text/plain": [
       "Looping Each Links of Dates: 2018-10-17:   0%|          | 0/6 [00:00<?, ?it/s]"
      ]
     },
     "metadata": {},
     "output_type": "display_data"
    },
    {
     "data": {},
     "metadata": {},
     "output_type": "display_data"
    },
    {
     "data": {
      "application/vnd.jupyter.widget-view+json": {
       "model_id": "",
       "version_major": 2,
       "version_minor": 0
      },
      "text/plain": [
       "Looping Each Links of Dates: 2018-10-16:   0%|          | 0/9 [00:00<?, ?it/s]"
      ]
     },
     "metadata": {},
     "output_type": "display_data"
    },
    {
     "data": {},
     "metadata": {},
     "output_type": "display_data"
    },
    {
     "data": {
      "application/vnd.jupyter.widget-view+json": {
       "model_id": "",
       "version_major": 2,
       "version_minor": 0
      },
      "text/plain": [
       "Looping Each Links of Dates: 2018-10-15:   0%|          | 0/9 [00:00<?, ?it/s]"
      ]
     },
     "metadata": {},
     "output_type": "display_data"
    },
    {
     "data": {},
     "metadata": {},
     "output_type": "display_data"
    },
    {
     "data": {
      "application/vnd.jupyter.widget-view+json": {
       "model_id": "",
       "version_major": 2,
       "version_minor": 0
      },
      "text/plain": [
       "Looping Each Links of Dates: 2018-10-14:   0%|          | 0/7 [00:00<?, ?it/s]"
      ]
     },
     "metadata": {},
     "output_type": "display_data"
    },
    {
     "data": {},
     "metadata": {},
     "output_type": "display_data"
    },
    {
     "data": {
      "application/vnd.jupyter.widget-view+json": {
       "model_id": "",
       "version_major": 2,
       "version_minor": 0
      },
      "text/plain": [
       "Looping Each Links of Dates: 2018-10-13:   0%|          | 0/6 [00:00<?, ?it/s]"
      ]
     },
     "metadata": {},
     "output_type": "display_data"
    },
    {
     "data": {},
     "metadata": {},
     "output_type": "display_data"
    },
    {
     "data": {
      "application/vnd.jupyter.widget-view+json": {
       "model_id": "",
       "version_major": 2,
       "version_minor": 0
      },
      "text/plain": [
       "Looping Each Links of Dates: 2018-10-12:   0%|          | 0/7 [00:00<?, ?it/s]"
      ]
     },
     "metadata": {},
     "output_type": "display_data"
    },
    {
     "data": {},
     "metadata": {},
     "output_type": "display_data"
    },
    {
     "data": {
      "application/vnd.jupyter.widget-view+json": {
       "model_id": "",
       "version_major": 2,
       "version_minor": 0
      },
      "text/plain": [
       "Looping Each Links of Dates: 2018-10-11:   0%|          | 0/10 [00:00<?, ?it/s]"
      ]
     },
     "metadata": {},
     "output_type": "display_data"
    },
    {
     "data": {},
     "metadata": {},
     "output_type": "display_data"
    },
    {
     "data": {
      "application/vnd.jupyter.widget-view+json": {
       "model_id": "",
       "version_major": 2,
       "version_minor": 0
      },
      "text/plain": [
       "Looping Each Links of Dates: 2018-10-10:   0%|          | 0/7 [00:00<?, ?it/s]"
      ]
     },
     "metadata": {},
     "output_type": "display_data"
    },
    {
     "data": {},
     "metadata": {},
     "output_type": "display_data"
    },
    {
     "data": {
      "application/vnd.jupyter.widget-view+json": {
       "model_id": "",
       "version_major": 2,
       "version_minor": 0
      },
      "text/plain": [
       "Looping Each Links of Dates: 2018-10-09:   0%|          | 0/7 [00:00<?, ?it/s]"
      ]
     },
     "metadata": {},
     "output_type": "display_data"
    },
    {
     "data": {},
     "metadata": {},
     "output_type": "display_data"
    },
    {
     "data": {
      "application/vnd.jupyter.widget-view+json": {
       "model_id": "",
       "version_major": 2,
       "version_minor": 0
      },
      "text/plain": [
       "Looping Each Links of Dates: 2018-10-08:   0%|          | 0/10 [00:00<?, ?it/s]"
      ]
     },
     "metadata": {},
     "output_type": "display_data"
    },
    {
     "data": {},
     "metadata": {},
     "output_type": "display_data"
    },
    {
     "data": {
      "application/vnd.jupyter.widget-view+json": {
       "model_id": "",
       "version_major": 2,
       "version_minor": 0
      },
      "text/plain": [
       "Looping Each Links of Dates: 2018-10-07:   0%|          | 0/8 [00:00<?, ?it/s]"
      ]
     },
     "metadata": {},
     "output_type": "display_data"
    },
    {
     "data": {},
     "metadata": {},
     "output_type": "display_data"
    },
    {
     "data": {
      "application/vnd.jupyter.widget-view+json": {
       "model_id": "",
       "version_major": 2,
       "version_minor": 0
      },
      "text/plain": [
       "Looping Each Links of Dates: 2018-10-06:   0%|          | 0/8 [00:00<?, ?it/s]"
      ]
     },
     "metadata": {},
     "output_type": "display_data"
    },
    {
     "data": {},
     "metadata": {},
     "output_type": "display_data"
    },
    {
     "data": {
      "application/vnd.jupyter.widget-view+json": {
       "model_id": "",
       "version_major": 2,
       "version_minor": 0
      },
      "text/plain": [
       "Looping Each Links of Dates: 2018-10-05:   0%|          | 0/9 [00:00<?, ?it/s]"
      ]
     },
     "metadata": {},
     "output_type": "display_data"
    },
    {
     "data": {},
     "metadata": {},
     "output_type": "display_data"
    },
    {
     "data": {
      "application/vnd.jupyter.widget-view+json": {
       "model_id": "",
       "version_major": 2,
       "version_minor": 0
      },
      "text/plain": [
       "Looping Each Links of Dates: 2018-10-04:   0%|          | 0/9 [00:00<?, ?it/s]"
      ]
     },
     "metadata": {},
     "output_type": "display_data"
    },
    {
     "data": {},
     "metadata": {},
     "output_type": "display_data"
    },
    {
     "data": {
      "application/vnd.jupyter.widget-view+json": {
       "model_id": "",
       "version_major": 2,
       "version_minor": 0
      },
      "text/plain": [
       "Looping Each Links of Dates: 2018-10-03:   0%|          | 0/7 [00:00<?, ?it/s]"
      ]
     },
     "metadata": {},
     "output_type": "display_data"
    },
    {
     "data": {},
     "metadata": {},
     "output_type": "display_data"
    },
    {
     "data": {
      "application/vnd.jupyter.widget-view+json": {
       "model_id": "",
       "version_major": 2,
       "version_minor": 0
      },
      "text/plain": [
       "Looping Each Links of Dates: 2018-10-02:   0%|          | 0/7 [00:00<?, ?it/s]"
      ]
     },
     "metadata": {},
     "output_type": "display_data"
    },
    {
     "data": {},
     "metadata": {},
     "output_type": "display_data"
    },
    {
     "data": {
      "application/vnd.jupyter.widget-view+json": {
       "model_id": "",
       "version_major": 2,
       "version_minor": 0
      },
      "text/plain": [
       "Looping Each Links of Dates: 2018-10-01:   0%|          | 0/7 [00:00<?, ?it/s]"
      ]
     },
     "metadata": {},
     "output_type": "display_data"
    },
    {
     "data": {},
     "metadata": {},
     "output_type": "display_data"
    },
    {
     "data": {
      "application/vnd.jupyter.widget-view+json": {
       "model_id": "",
       "version_major": 2,
       "version_minor": 0
      },
      "text/plain": [
       "Looping Each Links of Dates: 2018-09-30:   0%|          | 0/8 [00:00<?, ?it/s]"
      ]
     },
     "metadata": {},
     "output_type": "display_data"
    },
    {
     "data": {},
     "metadata": {},
     "output_type": "display_data"
    },
    {
     "data": {
      "application/vnd.jupyter.widget-view+json": {
       "model_id": "",
       "version_major": 2,
       "version_minor": 0
      },
      "text/plain": [
       "Looping Each Links of Dates: 2018-09-29:   0%|          | 0/7 [00:00<?, ?it/s]"
      ]
     },
     "metadata": {},
     "output_type": "display_data"
    },
    {
     "data": {},
     "metadata": {},
     "output_type": "display_data"
    },
    {
     "data": {
      "application/vnd.jupyter.widget-view+json": {
       "model_id": "",
       "version_major": 2,
       "version_minor": 0
      },
      "text/plain": [
       "Looping Each Links of Dates: 2018-09-28:   0%|          | 0/8 [00:00<?, ?it/s]"
      ]
     },
     "metadata": {},
     "output_type": "display_data"
    },
    {
     "data": {},
     "metadata": {},
     "output_type": "display_data"
    },
    {
     "data": {
      "application/vnd.jupyter.widget-view+json": {
       "model_id": "",
       "version_major": 2,
       "version_minor": 0
      },
      "text/plain": [
       "Looping Each Links of Dates: 2018-09-27:   0%|          | 0/8 [00:00<?, ?it/s]"
      ]
     },
     "metadata": {},
     "output_type": "display_data"
    },
    {
     "data": {},
     "metadata": {},
     "output_type": "display_data"
    },
    {
     "data": {
      "application/vnd.jupyter.widget-view+json": {
       "model_id": "",
       "version_major": 2,
       "version_minor": 0
      },
      "text/plain": [
       "Looping Each Links of Dates: 2018-09-26:   0%|          | 0/8 [00:00<?, ?it/s]"
      ]
     },
     "metadata": {},
     "output_type": "display_data"
    },
    {
     "data": {},
     "metadata": {},
     "output_type": "display_data"
    },
    {
     "data": {
      "application/vnd.jupyter.widget-view+json": {
       "model_id": "",
       "version_major": 2,
       "version_minor": 0
      },
      "text/plain": [
       "Looping Each Links of Dates: 2018-09-25:   0%|          | 0/8 [00:00<?, ?it/s]"
      ]
     },
     "metadata": {},
     "output_type": "display_data"
    },
    {
     "data": {},
     "metadata": {},
     "output_type": "display_data"
    },
    {
     "data": {
      "application/vnd.jupyter.widget-view+json": {
       "model_id": "",
       "version_major": 2,
       "version_minor": 0
      },
      "text/plain": [
       "Looping Each Links of Dates: 2018-09-24:   0%|          | 0/9 [00:00<?, ?it/s]"
      ]
     },
     "metadata": {},
     "output_type": "display_data"
    },
    {
     "data": {},
     "metadata": {},
     "output_type": "display_data"
    },
    {
     "data": {
      "application/vnd.jupyter.widget-view+json": {
       "model_id": "",
       "version_major": 2,
       "version_minor": 0
      },
      "text/plain": [
       "Looping Each Links of Dates: 2018-09-23:   0%|          | 0/10 [00:00<?, ?it/s]"
      ]
     },
     "metadata": {},
     "output_type": "display_data"
    },
    {
     "data": {},
     "metadata": {},
     "output_type": "display_data"
    },
    {
     "data": {
      "application/vnd.jupyter.widget-view+json": {
       "model_id": "",
       "version_major": 2,
       "version_minor": 0
      },
      "text/plain": [
       "Looping Each Links of Dates: 2018-09-22:   0%|          | 0/8 [00:00<?, ?it/s]"
      ]
     },
     "metadata": {},
     "output_type": "display_data"
    },
    {
     "data": {},
     "metadata": {},
     "output_type": "display_data"
    },
    {
     "data": {
      "application/vnd.jupyter.widget-view+json": {
       "model_id": "",
       "version_major": 2,
       "version_minor": 0
      },
      "text/plain": [
       "Looping Each Links of Dates: 2018-09-21:   0%|          | 0/7 [00:00<?, ?it/s]"
      ]
     },
     "metadata": {},
     "output_type": "display_data"
    },
    {
     "data": {},
     "metadata": {},
     "output_type": "display_data"
    },
    {
     "data": {
      "application/vnd.jupyter.widget-view+json": {
       "model_id": "",
       "version_major": 2,
       "version_minor": 0
      },
      "text/plain": [
       "Looping Each Links of Dates: 2018-09-20:   0%|          | 0/10 [00:00<?, ?it/s]"
      ]
     },
     "metadata": {},
     "output_type": "display_data"
    },
    {
     "data": {},
     "metadata": {},
     "output_type": "display_data"
    },
    {
     "data": {
      "application/vnd.jupyter.widget-view+json": {
       "model_id": "",
       "version_major": 2,
       "version_minor": 0
      },
      "text/plain": [
       "Looping Each Links of Dates: 2018-09-19:   0%|          | 0/8 [00:00<?, ?it/s]"
      ]
     },
     "metadata": {},
     "output_type": "display_data"
    },
    {
     "data": {},
     "metadata": {},
     "output_type": "display_data"
    },
    {
     "data": {
      "application/vnd.jupyter.widget-view+json": {
       "model_id": "",
       "version_major": 2,
       "version_minor": 0
      },
      "text/plain": [
       "Looping Each Links of Dates: 2018-09-18:   0%|          | 0/7 [00:00<?, ?it/s]"
      ]
     },
     "metadata": {},
     "output_type": "display_data"
    },
    {
     "data": {},
     "metadata": {},
     "output_type": "display_data"
    },
    {
     "data": {
      "application/vnd.jupyter.widget-view+json": {
       "model_id": "",
       "version_major": 2,
       "version_minor": 0
      },
      "text/plain": [
       "Looping Each Links of Dates: 2018-09-17:   0%|          | 0/9 [00:00<?, ?it/s]"
      ]
     },
     "metadata": {},
     "output_type": "display_data"
    },
    {
     "data": {},
     "metadata": {},
     "output_type": "display_data"
    },
    {
     "data": {
      "application/vnd.jupyter.widget-view+json": {
       "model_id": "",
       "version_major": 2,
       "version_minor": 0
      },
      "text/plain": [
       "Looping Each Links of Dates: 2018-09-16:   0%|          | 0/7 [00:00<?, ?it/s]"
      ]
     },
     "metadata": {},
     "output_type": "display_data"
    },
    {
     "data": {},
     "metadata": {},
     "output_type": "display_data"
    },
    {
     "data": {
      "application/vnd.jupyter.widget-view+json": {
       "model_id": "",
       "version_major": 2,
       "version_minor": 0
      },
      "text/plain": [
       "Looping Each Links of Dates: 2018-09-15:   0%|          | 0/9 [00:00<?, ?it/s]"
      ]
     },
     "metadata": {},
     "output_type": "display_data"
    },
    {
     "data": {},
     "metadata": {},
     "output_type": "display_data"
    },
    {
     "data": {
      "application/vnd.jupyter.widget-view+json": {
       "model_id": "",
       "version_major": 2,
       "version_minor": 0
      },
      "text/plain": [
       "Looping Each Links of Dates: 2018-09-14:   0%|          | 0/6 [00:00<?, ?it/s]"
      ]
     },
     "metadata": {},
     "output_type": "display_data"
    },
    {
     "data": {},
     "metadata": {},
     "output_type": "display_data"
    },
    {
     "data": {
      "application/vnd.jupyter.widget-view+json": {
       "model_id": "",
       "version_major": 2,
       "version_minor": 0
      },
      "text/plain": [
       "Looping Each Links of Dates: 2018-09-13:   0%|          | 0/8 [00:00<?, ?it/s]"
      ]
     },
     "metadata": {},
     "output_type": "display_data"
    },
    {
     "data": {},
     "metadata": {},
     "output_type": "display_data"
    },
    {
     "data": {
      "application/vnd.jupyter.widget-view+json": {
       "model_id": "",
       "version_major": 2,
       "version_minor": 0
      },
      "text/plain": [
       "Looping Each Links of Dates: 2018-09-12:   0%|          | 0/10 [00:00<?, ?it/s]"
      ]
     },
     "metadata": {},
     "output_type": "display_data"
    },
    {
     "data": {},
     "metadata": {},
     "output_type": "display_data"
    },
    {
     "data": {
      "application/vnd.jupyter.widget-view+json": {
       "model_id": "",
       "version_major": 2,
       "version_minor": 0
      },
      "text/plain": [
       "Looping Each Links of Dates: 2018-09-11:   0%|          | 0/5 [00:00<?, ?it/s]"
      ]
     },
     "metadata": {},
     "output_type": "display_data"
    },
    {
     "data": {},
     "metadata": {},
     "output_type": "display_data"
    },
    {
     "data": {
      "application/vnd.jupyter.widget-view+json": {
       "model_id": "",
       "version_major": 2,
       "version_minor": 0
      },
      "text/plain": [
       "Looping Each Links of Dates: 2018-09-10:   0%|          | 0/10 [00:00<?, ?it/s]"
      ]
     },
     "metadata": {},
     "output_type": "display_data"
    },
    {
     "data": {},
     "metadata": {},
     "output_type": "display_data"
    },
    {
     "data": {
      "application/vnd.jupyter.widget-view+json": {
       "model_id": "",
       "version_major": 2,
       "version_minor": 0
      },
      "text/plain": [
       "Looping Each Links of Dates: 2018-09-09:   0%|          | 0/6 [00:00<?, ?it/s]"
      ]
     },
     "metadata": {},
     "output_type": "display_data"
    },
    {
     "data": {},
     "metadata": {},
     "output_type": "display_data"
    },
    {
     "data": {
      "application/vnd.jupyter.widget-view+json": {
       "model_id": "",
       "version_major": 2,
       "version_minor": 0
      },
      "text/plain": [
       "Looping Each Links of Dates: 2018-09-08:   0%|          | 0/7 [00:00<?, ?it/s]"
      ]
     },
     "metadata": {},
     "output_type": "display_data"
    },
    {
     "data": {},
     "metadata": {},
     "output_type": "display_data"
    },
    {
     "data": {
      "application/vnd.jupyter.widget-view+json": {
       "model_id": "",
       "version_major": 2,
       "version_minor": 0
      },
      "text/plain": [
       "Looping Each Links of Dates: 2018-09-07:   0%|          | 0/8 [00:00<?, ?it/s]"
      ]
     },
     "metadata": {},
     "output_type": "display_data"
    },
    {
     "data": {},
     "metadata": {},
     "output_type": "display_data"
    },
    {
     "data": {
      "application/vnd.jupyter.widget-view+json": {
       "model_id": "",
       "version_major": 2,
       "version_minor": 0
      },
      "text/plain": [
       "Looping Each Links of Dates: 2018-09-06:   0%|          | 0/10 [00:00<?, ?it/s]"
      ]
     },
     "metadata": {},
     "output_type": "display_data"
    },
    {
     "data": {},
     "metadata": {},
     "output_type": "display_data"
    },
    {
     "data": {
      "application/vnd.jupyter.widget-view+json": {
       "model_id": "",
       "version_major": 2,
       "version_minor": 0
      },
      "text/plain": [
       "Looping Each Links of Dates: 2018-09-05:   0%|          | 0/9 [00:00<?, ?it/s]"
      ]
     },
     "metadata": {},
     "output_type": "display_data"
    },
    {
     "data": {},
     "metadata": {},
     "output_type": "display_data"
    },
    {
     "data": {
      "application/vnd.jupyter.widget-view+json": {
       "model_id": "",
       "version_major": 2,
       "version_minor": 0
      },
      "text/plain": [
       "Looping Each Links of Dates: 2018-09-04:   0%|          | 0/10 [00:00<?, ?it/s]"
      ]
     },
     "metadata": {},
     "output_type": "display_data"
    },
    {
     "data": {},
     "metadata": {},
     "output_type": "display_data"
    },
    {
     "data": {
      "application/vnd.jupyter.widget-view+json": {
       "model_id": "",
       "version_major": 2,
       "version_minor": 0
      },
      "text/plain": [
       "Looping Each Links of Dates: 2018-09-03:   0%|          | 0/10 [00:00<?, ?it/s]"
      ]
     },
     "metadata": {},
     "output_type": "display_data"
    },
    {
     "data": {},
     "metadata": {},
     "output_type": "display_data"
    },
    {
     "data": {
      "application/vnd.jupyter.widget-view+json": {
       "model_id": "",
       "version_major": 2,
       "version_minor": 0
      },
      "text/plain": [
       "Looping Each Links of Dates: 2018-09-02:   0%|          | 0/8 [00:00<?, ?it/s]"
      ]
     },
     "metadata": {},
     "output_type": "display_data"
    },
    {
     "data": {},
     "metadata": {},
     "output_type": "display_data"
    },
    {
     "data": {
      "application/vnd.jupyter.widget-view+json": {
       "model_id": "",
       "version_major": 2,
       "version_minor": 0
      },
      "text/plain": [
       "Looping Each Links of Dates: 2018-09-01:   0%|          | 0/6 [00:00<?, ?it/s]"
      ]
     },
     "metadata": {},
     "output_type": "display_data"
    },
    {
     "data": {},
     "metadata": {},
     "output_type": "display_data"
    },
    {
     "data": {
      "application/vnd.jupyter.widget-view+json": {
       "model_id": "",
       "version_major": 2,
       "version_minor": 0
      },
      "text/plain": [
       "Looping Each Links of Dates: 2018-08-31:   0%|          | 0/10 [00:00<?, ?it/s]"
      ]
     },
     "metadata": {},
     "output_type": "display_data"
    },
    {
     "data": {},
     "metadata": {},
     "output_type": "display_data"
    },
    {
     "data": {
      "application/vnd.jupyter.widget-view+json": {
       "model_id": "",
       "version_major": 2,
       "version_minor": 0
      },
      "text/plain": [
       "Looping Each Links of Dates: 2018-08-30:   0%|          | 0/9 [00:00<?, ?it/s]"
      ]
     },
     "metadata": {},
     "output_type": "display_data"
    },
    {
     "data": {},
     "metadata": {},
     "output_type": "display_data"
    },
    {
     "data": {
      "application/vnd.jupyter.widget-view+json": {
       "model_id": "",
       "version_major": 2,
       "version_minor": 0
      },
      "text/plain": [
       "Looping Each Links of Dates: 2018-08-29:   0%|          | 0/8 [00:00<?, ?it/s]"
      ]
     },
     "metadata": {},
     "output_type": "display_data"
    },
    {
     "data": {},
     "metadata": {},
     "output_type": "display_data"
    },
    {
     "data": {
      "application/vnd.jupyter.widget-view+json": {
       "model_id": "",
       "version_major": 2,
       "version_minor": 0
      },
      "text/plain": [
       "Looping Each Links of Dates: 2018-08-28:   0%|          | 0/11 [00:00<?, ?it/s]"
      ]
     },
     "metadata": {},
     "output_type": "display_data"
    },
    {
     "data": {},
     "metadata": {},
     "output_type": "display_data"
    },
    {
     "data": {
      "application/vnd.jupyter.widget-view+json": {
       "model_id": "",
       "version_major": 2,
       "version_minor": 0
      },
      "text/plain": [
       "Looping Each Links of Dates: 2018-08-27:   0%|          | 0/9 [00:00<?, ?it/s]"
      ]
     },
     "metadata": {},
     "output_type": "display_data"
    },
    {
     "data": {},
     "metadata": {},
     "output_type": "display_data"
    },
    {
     "data": {
      "application/vnd.jupyter.widget-view+json": {
       "model_id": "",
       "version_major": 2,
       "version_minor": 0
      },
      "text/plain": [
       "Looping Each Links of Dates: 2018-08-26:   0%|          | 0/8 [00:00<?, ?it/s]"
      ]
     },
     "metadata": {},
     "output_type": "display_data"
    },
    {
     "data": {},
     "metadata": {},
     "output_type": "display_data"
    },
    {
     "data": {
      "application/vnd.jupyter.widget-view+json": {
       "model_id": "",
       "version_major": 2,
       "version_minor": 0
      },
      "text/plain": [
       "Looping Each Links of Dates: 2018-08-25:   0%|          | 0/6 [00:00<?, ?it/s]"
      ]
     },
     "metadata": {},
     "output_type": "display_data"
    },
    {
     "data": {},
     "metadata": {},
     "output_type": "display_data"
    },
    {
     "data": {
      "application/vnd.jupyter.widget-view+json": {
       "model_id": "",
       "version_major": 2,
       "version_minor": 0
      },
      "text/plain": [
       "Looping Each Links of Dates: 2018-08-24:   0%|          | 0/8 [00:00<?, ?it/s]"
      ]
     },
     "metadata": {},
     "output_type": "display_data"
    },
    {
     "data": {},
     "metadata": {},
     "output_type": "display_data"
    },
    {
     "data": {
      "application/vnd.jupyter.widget-view+json": {
       "model_id": "",
       "version_major": 2,
       "version_minor": 0
      },
      "text/plain": [
       "Looping Each Links of Dates: 2018-08-23:   0%|          | 0/9 [00:00<?, ?it/s]"
      ]
     },
     "metadata": {},
     "output_type": "display_data"
    },
    {
     "data": {},
     "metadata": {},
     "output_type": "display_data"
    },
    {
     "data": {
      "application/vnd.jupyter.widget-view+json": {
       "model_id": "",
       "version_major": 2,
       "version_minor": 0
      },
      "text/plain": [
       "Looping Each Links of Dates: 2018-08-22:   0%|          | 0/5 [00:00<?, ?it/s]"
      ]
     },
     "metadata": {},
     "output_type": "display_data"
    },
    {
     "data": {},
     "metadata": {},
     "output_type": "display_data"
    },
    {
     "data": {
      "application/vnd.jupyter.widget-view+json": {
       "model_id": "",
       "version_major": 2,
       "version_minor": 0
      },
      "text/plain": [
       "Looping Each Links of Dates: 2018-08-21:   0%|          | 0/10 [00:00<?, ?it/s]"
      ]
     },
     "metadata": {},
     "output_type": "display_data"
    },
    {
     "data": {},
     "metadata": {},
     "output_type": "display_data"
    },
    {
     "data": {
      "application/vnd.jupyter.widget-view+json": {
       "model_id": "",
       "version_major": 2,
       "version_minor": 0
      },
      "text/plain": [
       "Looping Each Links of Dates: 2018-08-20:   0%|          | 0/10 [00:00<?, ?it/s]"
      ]
     },
     "metadata": {},
     "output_type": "display_data"
    },
    {
     "data": {},
     "metadata": {},
     "output_type": "display_data"
    },
    {
     "data": {
      "application/vnd.jupyter.widget-view+json": {
       "model_id": "",
       "version_major": 2,
       "version_minor": 0
      },
      "text/plain": [
       "Looping Each Links of Dates: 2018-08-19:   0%|          | 0/8 [00:00<?, ?it/s]"
      ]
     },
     "metadata": {},
     "output_type": "display_data"
    },
    {
     "data": {},
     "metadata": {},
     "output_type": "display_data"
    },
    {
     "data": {
      "application/vnd.jupyter.widget-view+json": {
       "model_id": "",
       "version_major": 2,
       "version_minor": 0
      },
      "text/plain": [
       "Looping Each Links of Dates: 2018-08-18:   0%|          | 0/5 [00:00<?, ?it/s]"
      ]
     },
     "metadata": {},
     "output_type": "display_data"
    },
    {
     "data": {},
     "metadata": {},
     "output_type": "display_data"
    },
    {
     "data": {
      "application/vnd.jupyter.widget-view+json": {
       "model_id": "",
       "version_major": 2,
       "version_minor": 0
      },
      "text/plain": [
       "Looping Each Links of Dates: 2018-08-17:   0%|          | 0/4 [00:00<?, ?it/s]"
      ]
     },
     "metadata": {},
     "output_type": "display_data"
    },
    {
     "data": {},
     "metadata": {},
     "output_type": "display_data"
    },
    {
     "data": {
      "application/vnd.jupyter.widget-view+json": {
       "model_id": "",
       "version_major": 2,
       "version_minor": 0
      },
      "text/plain": [
       "Looping Each Links of Dates: 2018-08-16:   0%|          | 0/10 [00:00<?, ?it/s]"
      ]
     },
     "metadata": {},
     "output_type": "display_data"
    },
    {
     "data": {},
     "metadata": {},
     "output_type": "display_data"
    },
    {
     "data": {
      "application/vnd.jupyter.widget-view+json": {
       "model_id": "",
       "version_major": 2,
       "version_minor": 0
      },
      "text/plain": [
       "Looping Each Links of Dates: 2018-08-15:   0%|          | 0/9 [00:00<?, ?it/s]"
      ]
     },
     "metadata": {},
     "output_type": "display_data"
    },
    {
     "data": {},
     "metadata": {},
     "output_type": "display_data"
    },
    {
     "data": {
      "application/vnd.jupyter.widget-view+json": {
       "model_id": "",
       "version_major": 2,
       "version_minor": 0
      },
      "text/plain": [
       "Looping Each Links of Dates: 2018-08-14:   0%|          | 0/4 [00:00<?, ?it/s]"
      ]
     },
     "metadata": {},
     "output_type": "display_data"
    },
    {
     "data": {},
     "metadata": {},
     "output_type": "display_data"
    },
    {
     "data": {
      "application/vnd.jupyter.widget-view+json": {
       "model_id": "",
       "version_major": 2,
       "version_minor": 0
      },
      "text/plain": [
       "Looping Each Links of Dates: 2018-08-13:   0%|          | 0/9 [00:00<?, ?it/s]"
      ]
     },
     "metadata": {},
     "output_type": "display_data"
    },
    {
     "data": {},
     "metadata": {},
     "output_type": "display_data"
    },
    {
     "data": {
      "application/vnd.jupyter.widget-view+json": {
       "model_id": "",
       "version_major": 2,
       "version_minor": 0
      },
      "text/plain": [
       "Looping Each Links of Dates: 2018-08-12:   0%|          | 0/5 [00:00<?, ?it/s]"
      ]
     },
     "metadata": {},
     "output_type": "display_data"
    },
    {
     "data": {},
     "metadata": {},
     "output_type": "display_data"
    },
    {
     "data": {
      "application/vnd.jupyter.widget-view+json": {
       "model_id": "",
       "version_major": 2,
       "version_minor": 0
      },
      "text/plain": [
       "Looping Each Links of Dates: 2018-08-11:   0%|          | 0/6 [00:00<?, ?it/s]"
      ]
     },
     "metadata": {},
     "output_type": "display_data"
    },
    {
     "data": {},
     "metadata": {},
     "output_type": "display_data"
    },
    {
     "data": {
      "application/vnd.jupyter.widget-view+json": {
       "model_id": "",
       "version_major": 2,
       "version_minor": 0
      },
      "text/plain": [
       "Looping Each Links of Dates: 2018-08-10:   0%|          | 0/10 [00:00<?, ?it/s]"
      ]
     },
     "metadata": {},
     "output_type": "display_data"
    },
    {
     "data": {},
     "metadata": {},
     "output_type": "display_data"
    },
    {
     "data": {
      "application/vnd.jupyter.widget-view+json": {
       "model_id": "",
       "version_major": 2,
       "version_minor": 0
      },
      "text/plain": [
       "Looping Each Links of Dates: 2018-08-09:   0%|          | 0/14 [00:00<?, ?it/s]"
      ]
     },
     "metadata": {},
     "output_type": "display_data"
    },
    {
     "data": {},
     "metadata": {},
     "output_type": "display_data"
    },
    {
     "data": {
      "application/vnd.jupyter.widget-view+json": {
       "model_id": "",
       "version_major": 2,
       "version_minor": 0
      },
      "text/plain": [
       "Looping Each Links of Dates: 2018-08-08:   0%|          | 0/14 [00:00<?, ?it/s]"
      ]
     },
     "metadata": {},
     "output_type": "display_data"
    },
    {
     "data": {},
     "metadata": {},
     "output_type": "display_data"
    },
    {
     "data": {
      "application/vnd.jupyter.widget-view+json": {
       "model_id": "",
       "version_major": 2,
       "version_minor": 0
      },
      "text/plain": [
       "Looping Each Links of Dates: 2018-08-07:   0%|          | 0/9 [00:00<?, ?it/s]"
      ]
     },
     "metadata": {},
     "output_type": "display_data"
    },
    {
     "data": {},
     "metadata": {},
     "output_type": "display_data"
    },
    {
     "data": {
      "application/vnd.jupyter.widget-view+json": {
       "model_id": "",
       "version_major": 2,
       "version_minor": 0
      },
      "text/plain": [
       "Looping Each Links of Dates: 2018-08-06:   0%|          | 0/6 [00:00<?, ?it/s]"
      ]
     },
     "metadata": {},
     "output_type": "display_data"
    },
    {
     "data": {},
     "metadata": {},
     "output_type": "display_data"
    },
    {
     "data": {
      "application/vnd.jupyter.widget-view+json": {
       "model_id": "",
       "version_major": 2,
       "version_minor": 0
      },
      "text/plain": [
       "Looping Each Links of Dates: 2018-08-05:   0%|          | 0/7 [00:00<?, ?it/s]"
      ]
     },
     "metadata": {},
     "output_type": "display_data"
    },
    {
     "data": {},
     "metadata": {},
     "output_type": "display_data"
    },
    {
     "data": {
      "application/vnd.jupyter.widget-view+json": {
       "model_id": "",
       "version_major": 2,
       "version_minor": 0
      },
      "text/plain": [
       "Looping Each Links of Dates: 2018-08-04:   0%|          | 0/6 [00:00<?, ?it/s]"
      ]
     },
     "metadata": {},
     "output_type": "display_data"
    },
    {
     "data": {},
     "metadata": {},
     "output_type": "display_data"
    },
    {
     "data": {
      "application/vnd.jupyter.widget-view+json": {
       "model_id": "",
       "version_major": 2,
       "version_minor": 0
      },
      "text/plain": [
       "Looping Each Links of Dates: 2018-08-03:   0%|          | 0/9 [00:00<?, ?it/s]"
      ]
     },
     "metadata": {},
     "output_type": "display_data"
    },
    {
     "data": {},
     "metadata": {},
     "output_type": "display_data"
    },
    {
     "data": {
      "application/vnd.jupyter.widget-view+json": {
       "model_id": "",
       "version_major": 2,
       "version_minor": 0
      },
      "text/plain": [
       "Looping Each Links of Dates: 2018-08-02:   0%|          | 0/8 [00:00<?, ?it/s]"
      ]
     },
     "metadata": {},
     "output_type": "display_data"
    },
    {
     "data": {},
     "metadata": {},
     "output_type": "display_data"
    },
    {
     "data": {
      "application/vnd.jupyter.widget-view+json": {
       "model_id": "",
       "version_major": 2,
       "version_minor": 0
      },
      "text/plain": [
       "Looping Each Links of Dates: 2018-08-01:   0%|          | 0/8 [00:00<?, ?it/s]"
      ]
     },
     "metadata": {},
     "output_type": "display_data"
    },
    {
     "data": {},
     "metadata": {},
     "output_type": "display_data"
    },
    {
     "data": {
      "application/vnd.jupyter.widget-view+json": {
       "model_id": "",
       "version_major": 2,
       "version_minor": 0
      },
      "text/plain": [
       "Looping Each Links of Dates: 2018-07-31:   0%|          | 0/8 [00:00<?, ?it/s]"
      ]
     },
     "metadata": {},
     "output_type": "display_data"
    },
    {
     "data": {},
     "metadata": {},
     "output_type": "display_data"
    },
    {
     "data": {
      "application/vnd.jupyter.widget-view+json": {
       "model_id": "",
       "version_major": 2,
       "version_minor": 0
      },
      "text/plain": [
       "Looping Each Links of Dates: 2018-07-30:   0%|          | 0/11 [00:00<?, ?it/s]"
      ]
     },
     "metadata": {},
     "output_type": "display_data"
    },
    {
     "data": {},
     "metadata": {},
     "output_type": "display_data"
    },
    {
     "data": {
      "application/vnd.jupyter.widget-view+json": {
       "model_id": "",
       "version_major": 2,
       "version_minor": 0
      },
      "text/plain": [
       "Looping Each Links of Dates: 2018-07-29:   0%|          | 0/13 [00:00<?, ?it/s]"
      ]
     },
     "metadata": {},
     "output_type": "display_data"
    },
    {
     "data": {},
     "metadata": {},
     "output_type": "display_data"
    },
    {
     "data": {
      "application/vnd.jupyter.widget-view+json": {
       "model_id": "",
       "version_major": 2,
       "version_minor": 0
      },
      "text/plain": [
       "Looping Each Links of Dates: 2018-07-28:   0%|          | 0/5 [00:00<?, ?it/s]"
      ]
     },
     "metadata": {},
     "output_type": "display_data"
    },
    {
     "data": {},
     "metadata": {},
     "output_type": "display_data"
    },
    {
     "data": {
      "application/vnd.jupyter.widget-view+json": {
       "model_id": "",
       "version_major": 2,
       "version_minor": 0
      },
      "text/plain": [
       "Looping Each Links of Dates: 2018-07-27:   0%|          | 0/6 [00:00<?, ?it/s]"
      ]
     },
     "metadata": {},
     "output_type": "display_data"
    },
    {
     "data": {},
     "metadata": {},
     "output_type": "display_data"
    },
    {
     "data": {
      "application/vnd.jupyter.widget-view+json": {
       "model_id": "",
       "version_major": 2,
       "version_minor": 0
      },
      "text/plain": [
       "Looping Each Links of Dates: 2018-07-26:   0%|          | 0/12 [00:00<?, ?it/s]"
      ]
     },
     "metadata": {},
     "output_type": "display_data"
    },
    {
     "data": {},
     "metadata": {},
     "output_type": "display_data"
    },
    {
     "data": {
      "application/vnd.jupyter.widget-view+json": {
       "model_id": "",
       "version_major": 2,
       "version_minor": 0
      },
      "text/plain": [
       "Looping Each Links of Dates: 2018-07-25:   0%|          | 0/12 [00:00<?, ?it/s]"
      ]
     },
     "metadata": {},
     "output_type": "display_data"
    },
    {
     "data": {},
     "metadata": {},
     "output_type": "display_data"
    },
    {
     "data": {
      "application/vnd.jupyter.widget-view+json": {
       "model_id": "",
       "version_major": 2,
       "version_minor": 0
      },
      "text/plain": [
       "Looping Each Links of Dates: 2018-07-24:   0%|          | 0/9 [00:00<?, ?it/s]"
      ]
     },
     "metadata": {},
     "output_type": "display_data"
    },
    {
     "data": {},
     "metadata": {},
     "output_type": "display_data"
    },
    {
     "data": {
      "application/vnd.jupyter.widget-view+json": {
       "model_id": "",
       "version_major": 2,
       "version_minor": 0
      },
      "text/plain": [
       "Looping Each Links of Dates: 2018-07-23:   0%|          | 0/10 [00:00<?, ?it/s]"
      ]
     },
     "metadata": {},
     "output_type": "display_data"
    },
    {
     "data": {},
     "metadata": {},
     "output_type": "display_data"
    },
    {
     "data": {
      "application/vnd.jupyter.widget-view+json": {
       "model_id": "",
       "version_major": 2,
       "version_minor": 0
      },
      "text/plain": [
       "Looping Each Links of Dates: 2018-07-22:   0%|          | 0/7 [00:00<?, ?it/s]"
      ]
     },
     "metadata": {},
     "output_type": "display_data"
    },
    {
     "data": {},
     "metadata": {},
     "output_type": "display_data"
    },
    {
     "data": {
      "application/vnd.jupyter.widget-view+json": {
       "model_id": "",
       "version_major": 2,
       "version_minor": 0
      },
      "text/plain": [
       "Looping Each Links of Dates: 2018-07-21:   0%|          | 0/10 [00:00<?, ?it/s]"
      ]
     },
     "metadata": {},
     "output_type": "display_data"
    },
    {
     "data": {},
     "metadata": {},
     "output_type": "display_data"
    },
    {
     "data": {
      "application/vnd.jupyter.widget-view+json": {
       "model_id": "",
       "version_major": 2,
       "version_minor": 0
      },
      "text/plain": [
       "Looping Each Links of Dates: 2018-07-20:   0%|          | 0/5 [00:00<?, ?it/s]"
      ]
     },
     "metadata": {},
     "output_type": "display_data"
    },
    {
     "data": {},
     "metadata": {},
     "output_type": "display_data"
    },
    {
     "data": {
      "application/vnd.jupyter.widget-view+json": {
       "model_id": "",
       "version_major": 2,
       "version_minor": 0
      },
      "text/plain": [
       "Looping Each Links of Dates: 2018-07-19:   0%|          | 0/8 [00:00<?, ?it/s]"
      ]
     },
     "metadata": {},
     "output_type": "display_data"
    },
    {
     "data": {},
     "metadata": {},
     "output_type": "display_data"
    },
    {
     "data": {
      "application/vnd.jupyter.widget-view+json": {
       "model_id": "",
       "version_major": 2,
       "version_minor": 0
      },
      "text/plain": [
       "Looping Each Links of Dates: 2018-07-18:   0%|          | 0/7 [00:00<?, ?it/s]"
      ]
     },
     "metadata": {},
     "output_type": "display_data"
    },
    {
     "data": {},
     "metadata": {},
     "output_type": "display_data"
    },
    {
     "data": {
      "application/vnd.jupyter.widget-view+json": {
       "model_id": "",
       "version_major": 2,
       "version_minor": 0
      },
      "text/plain": [
       "Looping Each Links of Dates: 2018-07-17:   0%|          | 0/8 [00:00<?, ?it/s]"
      ]
     },
     "metadata": {},
     "output_type": "display_data"
    },
    {
     "data": {},
     "metadata": {},
     "output_type": "display_data"
    },
    {
     "data": {
      "application/vnd.jupyter.widget-view+json": {
       "model_id": "",
       "version_major": 2,
       "version_minor": 0
      },
      "text/plain": [
       "Looping Each Links of Dates: 2018-07-16:   0%|          | 0/5 [00:00<?, ?it/s]"
      ]
     },
     "metadata": {},
     "output_type": "display_data"
    },
    {
     "data": {},
     "metadata": {},
     "output_type": "display_data"
    },
    {
     "data": {
      "application/vnd.jupyter.widget-view+json": {
       "model_id": "",
       "version_major": 2,
       "version_minor": 0
      },
      "text/plain": [
       "Looping Each Links of Dates: 2018-07-15:   0%|          | 0/10 [00:00<?, ?it/s]"
      ]
     },
     "metadata": {},
     "output_type": "display_data"
    },
    {
     "data": {},
     "metadata": {},
     "output_type": "display_data"
    },
    {
     "data": {
      "application/vnd.jupyter.widget-view+json": {
       "model_id": "",
       "version_major": 2,
       "version_minor": 0
      },
      "text/plain": [
       "Looping Each Links of Dates: 2018-07-14:   0%|          | 0/10 [00:00<?, ?it/s]"
      ]
     },
     "metadata": {},
     "output_type": "display_data"
    },
    {
     "data": {},
     "metadata": {},
     "output_type": "display_data"
    },
    {
     "data": {
      "application/vnd.jupyter.widget-view+json": {
       "model_id": "",
       "version_major": 2,
       "version_minor": 0
      },
      "text/plain": [
       "Looping Each Links of Dates: 2018-07-13:   0%|          | 0/14 [00:00<?, ?it/s]"
      ]
     },
     "metadata": {},
     "output_type": "display_data"
    },
    {
     "data": {},
     "metadata": {},
     "output_type": "display_data"
    },
    {
     "data": {
      "application/vnd.jupyter.widget-view+json": {
       "model_id": "",
       "version_major": 2,
       "version_minor": 0
      },
      "text/plain": [
       "Looping Each Links of Dates: 2018-07-12:   0%|          | 0/7 [00:00<?, ?it/s]"
      ]
     },
     "metadata": {},
     "output_type": "display_data"
    },
    {
     "data": {},
     "metadata": {},
     "output_type": "display_data"
    },
    {
     "data": {
      "application/vnd.jupyter.widget-view+json": {
       "model_id": "",
       "version_major": 2,
       "version_minor": 0
      },
      "text/plain": [
       "Looping Each Links of Dates: 2018-07-11:   0%|          | 0/12 [00:00<?, ?it/s]"
      ]
     },
     "metadata": {},
     "output_type": "display_data"
    },
    {
     "data": {},
     "metadata": {},
     "output_type": "display_data"
    },
    {
     "data": {
      "application/vnd.jupyter.widget-view+json": {
       "model_id": "",
       "version_major": 2,
       "version_minor": 0
      },
      "text/plain": [
       "Looping Each Links of Dates: 2018-07-10:   0%|          | 0/5 [00:00<?, ?it/s]"
      ]
     },
     "metadata": {},
     "output_type": "display_data"
    },
    {
     "data": {},
     "metadata": {},
     "output_type": "display_data"
    },
    {
     "data": {
      "application/vnd.jupyter.widget-view+json": {
       "model_id": "",
       "version_major": 2,
       "version_minor": 0
      },
      "text/plain": [
       "Looping Each Links of Dates: 2018-07-09:   0%|          | 0/12 [00:00<?, ?it/s]"
      ]
     },
     "metadata": {},
     "output_type": "display_data"
    },
    {
     "data": {},
     "metadata": {},
     "output_type": "display_data"
    },
    {
     "data": {
      "application/vnd.jupyter.widget-view+json": {
       "model_id": "",
       "version_major": 2,
       "version_minor": 0
      },
      "text/plain": [
       "Looping Each Links of Dates: 2018-07-08:   0%|          | 0/10 [00:00<?, ?it/s]"
      ]
     },
     "metadata": {},
     "output_type": "display_data"
    },
    {
     "data": {},
     "metadata": {},
     "output_type": "display_data"
    },
    {
     "data": {
      "application/vnd.jupyter.widget-view+json": {
       "model_id": "",
       "version_major": 2,
       "version_minor": 0
      },
      "text/plain": [
       "Looping Each Links of Dates: 2018-07-07:   0%|          | 0/7 [00:00<?, ?it/s]"
      ]
     },
     "metadata": {},
     "output_type": "display_data"
    },
    {
     "data": {},
     "metadata": {},
     "output_type": "display_data"
    },
    {
     "data": {
      "application/vnd.jupyter.widget-view+json": {
       "model_id": "",
       "version_major": 2,
       "version_minor": 0
      },
      "text/plain": [
       "Looping Each Links of Dates: 2018-07-06:   0%|          | 0/10 [00:00<?, ?it/s]"
      ]
     },
     "metadata": {},
     "output_type": "display_data"
    },
    {
     "data": {},
     "metadata": {},
     "output_type": "display_data"
    },
    {
     "data": {
      "application/vnd.jupyter.widget-view+json": {
       "model_id": "",
       "version_major": 2,
       "version_minor": 0
      },
      "text/plain": [
       "Looping Each Links of Dates: 2018-07-05:   0%|          | 0/10 [00:00<?, ?it/s]"
      ]
     },
     "metadata": {},
     "output_type": "display_data"
    },
    {
     "data": {},
     "metadata": {},
     "output_type": "display_data"
    },
    {
     "data": {
      "application/vnd.jupyter.widget-view+json": {
       "model_id": "",
       "version_major": 2,
       "version_minor": 0
      },
      "text/plain": [
       "Looping Each Links of Dates: 2018-07-04:   0%|          | 0/11 [00:00<?, ?it/s]"
      ]
     },
     "metadata": {},
     "output_type": "display_data"
    },
    {
     "data": {},
     "metadata": {},
     "output_type": "display_data"
    },
    {
     "data": {
      "application/vnd.jupyter.widget-view+json": {
       "model_id": "",
       "version_major": 2,
       "version_minor": 0
      },
      "text/plain": [
       "Looping Each Links of Dates: 2018-07-03:   0%|          | 0/9 [00:00<?, ?it/s]"
      ]
     },
     "metadata": {},
     "output_type": "display_data"
    },
    {
     "data": {},
     "metadata": {},
     "output_type": "display_data"
    },
    {
     "data": {
      "application/vnd.jupyter.widget-view+json": {
       "model_id": "",
       "version_major": 2,
       "version_minor": 0
      },
      "text/plain": [
       "Looping Each Links of Dates: 2018-07-02:   0%|          | 0/9 [00:00<?, ?it/s]"
      ]
     },
     "metadata": {},
     "output_type": "display_data"
    },
    {
     "data": {},
     "metadata": {},
     "output_type": "display_data"
    },
    {
     "data": {
      "application/vnd.jupyter.widget-view+json": {
       "model_id": "",
       "version_major": 2,
       "version_minor": 0
      },
      "text/plain": [
       "Looping Each Links of Dates: 2018-07-01:   0%|          | 0/3 [00:00<?, ?it/s]"
      ]
     },
     "metadata": {},
     "output_type": "display_data"
    },
    {
     "data": {},
     "metadata": {},
     "output_type": "display_data"
    },
    {
     "data": {
      "application/vnd.jupyter.widget-view+json": {
       "model_id": "",
       "version_major": 2,
       "version_minor": 0
      },
      "text/plain": [
       "Looping Each Links of Dates: 2018-06-30:   0%|          | 0/10 [00:00<?, ?it/s]"
      ]
     },
     "metadata": {},
     "output_type": "display_data"
    },
    {
     "data": {},
     "metadata": {},
     "output_type": "display_data"
    },
    {
     "data": {
      "application/vnd.jupyter.widget-view+json": {
       "model_id": "",
       "version_major": 2,
       "version_minor": 0
      },
      "text/plain": [
       "Looping Each Links of Dates: 2018-06-29:   0%|          | 0/11 [00:00<?, ?it/s]"
      ]
     },
     "metadata": {},
     "output_type": "display_data"
    },
    {
     "data": {},
     "metadata": {},
     "output_type": "display_data"
    },
    {
     "data": {
      "application/vnd.jupyter.widget-view+json": {
       "model_id": "",
       "version_major": 2,
       "version_minor": 0
      },
      "text/plain": [
       "Looping Each Links of Dates: 2018-06-28:   0%|          | 0/5 [00:00<?, ?it/s]"
      ]
     },
     "metadata": {},
     "output_type": "display_data"
    },
    {
     "data": {},
     "metadata": {},
     "output_type": "display_data"
    },
    {
     "data": {
      "application/vnd.jupyter.widget-view+json": {
       "model_id": "",
       "version_major": 2,
       "version_minor": 0
      },
      "text/plain": [
       "Looping Each Links of Dates: 2018-06-27:   0%|          | 0/8 [00:00<?, ?it/s]"
      ]
     },
     "metadata": {},
     "output_type": "display_data"
    },
    {
     "data": {},
     "metadata": {},
     "output_type": "display_data"
    },
    {
     "data": {
      "application/vnd.jupyter.widget-view+json": {
       "model_id": "",
       "version_major": 2,
       "version_minor": 0
      },
      "text/plain": [
       "Looping Each Links of Dates: 2018-06-26:   0%|          | 0/9 [00:00<?, ?it/s]"
      ]
     },
     "metadata": {},
     "output_type": "display_data"
    },
    {
     "data": {},
     "metadata": {},
     "output_type": "display_data"
    },
    {
     "data": {
      "application/vnd.jupyter.widget-view+json": {
       "model_id": "",
       "version_major": 2,
       "version_minor": 0
      },
      "text/plain": [
       "Looping Each Links of Dates: 2018-06-25:   0%|          | 0/7 [00:00<?, ?it/s]"
      ]
     },
     "metadata": {},
     "output_type": "display_data"
    },
    {
     "data": {},
     "metadata": {},
     "output_type": "display_data"
    },
    {
     "data": {
      "application/vnd.jupyter.widget-view+json": {
       "model_id": "",
       "version_major": 2,
       "version_minor": 0
      },
      "text/plain": [
       "Looping Each Links of Dates: 2018-06-24:   0%|          | 0/5 [00:00<?, ?it/s]"
      ]
     },
     "metadata": {},
     "output_type": "display_data"
    },
    {
     "data": {},
     "metadata": {},
     "output_type": "display_data"
    },
    {
     "data": {
      "application/vnd.jupyter.widget-view+json": {
       "model_id": "",
       "version_major": 2,
       "version_minor": 0
      },
      "text/plain": [
       "Looping Each Links of Dates: 2018-06-23:   0%|          | 0/8 [00:00<?, ?it/s]"
      ]
     },
     "metadata": {},
     "output_type": "display_data"
    },
    {
     "data": {},
     "metadata": {},
     "output_type": "display_data"
    },
    {
     "data": {
      "application/vnd.jupyter.widget-view+json": {
       "model_id": "",
       "version_major": 2,
       "version_minor": 0
      },
      "text/plain": [
       "Looping Each Links of Dates: 2018-06-22:   0%|          | 0/8 [00:00<?, ?it/s]"
      ]
     },
     "metadata": {},
     "output_type": "display_data"
    },
    {
     "data": {},
     "metadata": {},
     "output_type": "display_data"
    },
    {
     "data": {
      "application/vnd.jupyter.widget-view+json": {
       "model_id": "",
       "version_major": 2,
       "version_minor": 0
      },
      "text/plain": [
       "Looping Each Links of Dates: 2018-06-21:   0%|          | 0/7 [00:00<?, ?it/s]"
      ]
     },
     "metadata": {},
     "output_type": "display_data"
    },
    {
     "data": {},
     "metadata": {},
     "output_type": "display_data"
    },
    {
     "data": {
      "application/vnd.jupyter.widget-view+json": {
       "model_id": "",
       "version_major": 2,
       "version_minor": 0
      },
      "text/plain": [
       "Looping Each Links of Dates: 2018-06-20:   0%|          | 0/9 [00:00<?, ?it/s]"
      ]
     },
     "metadata": {},
     "output_type": "display_data"
    },
    {
     "data": {},
     "metadata": {},
     "output_type": "display_data"
    },
    {
     "data": {
      "application/vnd.jupyter.widget-view+json": {
       "model_id": "",
       "version_major": 2,
       "version_minor": 0
      },
      "text/plain": [
       "Looping Each Links of Dates: 2018-06-19:   0%|          | 0/8 [00:00<?, ?it/s]"
      ]
     },
     "metadata": {},
     "output_type": "display_data"
    },
    {
     "data": {},
     "metadata": {},
     "output_type": "display_data"
    },
    {
     "data": {
      "application/vnd.jupyter.widget-view+json": {
       "model_id": "",
       "version_major": 2,
       "version_minor": 0
      },
      "text/plain": [
       "Looping Each Links of Dates: 2018-06-18:   0%|          | 0/4 [00:00<?, ?it/s]"
      ]
     },
     "metadata": {},
     "output_type": "display_data"
    },
    {
     "data": {},
     "metadata": {},
     "output_type": "display_data"
    },
    {
     "data": {
      "application/vnd.jupyter.widget-view+json": {
       "model_id": "",
       "version_major": 2,
       "version_minor": 0
      },
      "text/plain": [
       "Looping Each Links of Dates: 2018-06-17:   0%|          | 0/6 [00:00<?, ?it/s]"
      ]
     },
     "metadata": {},
     "output_type": "display_data"
    },
    {
     "data": {},
     "metadata": {},
     "output_type": "display_data"
    },
    {
     "data": {
      "application/vnd.jupyter.widget-view+json": {
       "model_id": "",
       "version_major": 2,
       "version_minor": 0
      },
      "text/plain": [
       "Looping Each Links of Dates: 2018-06-16:   0%|          | 0/7 [00:00<?, ?it/s]"
      ]
     },
     "metadata": {},
     "output_type": "display_data"
    },
    {
     "data": {},
     "metadata": {},
     "output_type": "display_data"
    },
    {
     "data": {
      "application/vnd.jupyter.widget-view+json": {
       "model_id": "",
       "version_major": 2,
       "version_minor": 0
      },
      "text/plain": [
       "Looping Each Links of Dates: 2018-06-15:   0%|          | 0/8 [00:00<?, ?it/s]"
      ]
     },
     "metadata": {},
     "output_type": "display_data"
    },
    {
     "data": {},
     "metadata": {},
     "output_type": "display_data"
    },
    {
     "data": {
      "application/vnd.jupyter.widget-view+json": {
       "model_id": "",
       "version_major": 2,
       "version_minor": 0
      },
      "text/plain": [
       "Looping Each Links of Dates: 2018-06-14:   0%|          | 0/8 [00:00<?, ?it/s]"
      ]
     },
     "metadata": {},
     "output_type": "display_data"
    },
    {
     "data": {},
     "metadata": {},
     "output_type": "display_data"
    },
    {
     "data": {
      "application/vnd.jupyter.widget-view+json": {
       "model_id": "",
       "version_major": 2,
       "version_minor": 0
      },
      "text/plain": [
       "Looping Each Links of Dates: 2018-06-13:   0%|          | 0/10 [00:00<?, ?it/s]"
      ]
     },
     "metadata": {},
     "output_type": "display_data"
    },
    {
     "data": {},
     "metadata": {},
     "output_type": "display_data"
    },
    {
     "data": {
      "application/vnd.jupyter.widget-view+json": {
       "model_id": "",
       "version_major": 2,
       "version_minor": 0
      },
      "text/plain": [
       "Looping Each Links of Dates: 2018-06-12:   0%|          | 0/6 [00:00<?, ?it/s]"
      ]
     },
     "metadata": {},
     "output_type": "display_data"
    },
    {
     "data": {},
     "metadata": {},
     "output_type": "display_data"
    },
    {
     "data": {
      "application/vnd.jupyter.widget-view+json": {
       "model_id": "",
       "version_major": 2,
       "version_minor": 0
      },
      "text/plain": [
       "Looping Each Links of Dates: 2018-06-11:   0%|          | 0/4 [00:00<?, ?it/s]"
      ]
     },
     "metadata": {},
     "output_type": "display_data"
    },
    {
     "data": {},
     "metadata": {},
     "output_type": "display_data"
    },
    {
     "data": {
      "application/vnd.jupyter.widget-view+json": {
       "model_id": "",
       "version_major": 2,
       "version_minor": 0
      },
      "text/plain": [
       "Looping Each Links of Dates: 2018-06-10:   0%|          | 0/6 [00:00<?, ?it/s]"
      ]
     },
     "metadata": {},
     "output_type": "display_data"
    },
    {
     "data": {},
     "metadata": {},
     "output_type": "display_data"
    },
    {
     "data": {
      "application/vnd.jupyter.widget-view+json": {
       "model_id": "",
       "version_major": 2,
       "version_minor": 0
      },
      "text/plain": [
       "Looping Each Links of Dates: 2018-06-09:   0%|          | 0/6 [00:00<?, ?it/s]"
      ]
     },
     "metadata": {},
     "output_type": "display_data"
    },
    {
     "data": {},
     "metadata": {},
     "output_type": "display_data"
    },
    {
     "data": {
      "application/vnd.jupyter.widget-view+json": {
       "model_id": "",
       "version_major": 2,
       "version_minor": 0
      },
      "text/plain": [
       "Looping Each Links of Dates: 2018-06-08:   0%|          | 0/7 [00:00<?, ?it/s]"
      ]
     },
     "metadata": {},
     "output_type": "display_data"
    },
    {
     "data": {},
     "metadata": {},
     "output_type": "display_data"
    },
    {
     "data": {
      "application/vnd.jupyter.widget-view+json": {
       "model_id": "",
       "version_major": 2,
       "version_minor": 0
      },
      "text/plain": [
       "Looping Each Links of Dates: 2018-06-07:   0%|          | 0/9 [00:00<?, ?it/s]"
      ]
     },
     "metadata": {},
     "output_type": "display_data"
    },
    {
     "data": {},
     "metadata": {},
     "output_type": "display_data"
    },
    {
     "data": {
      "application/vnd.jupyter.widget-view+json": {
       "model_id": "",
       "version_major": 2,
       "version_minor": 0
      },
      "text/plain": [
       "Looping Each Links of Dates: 2018-06-06:   0%|          | 0/7 [00:00<?, ?it/s]"
      ]
     },
     "metadata": {},
     "output_type": "display_data"
    },
    {
     "data": {},
     "metadata": {},
     "output_type": "display_data"
    },
    {
     "data": {
      "application/vnd.jupyter.widget-view+json": {
       "model_id": "",
       "version_major": 2,
       "version_minor": 0
      },
      "text/plain": [
       "Looping Each Links of Dates: 2018-06-05:   0%|          | 0/7 [00:00<?, ?it/s]"
      ]
     },
     "metadata": {},
     "output_type": "display_data"
    },
    {
     "data": {},
     "metadata": {},
     "output_type": "display_data"
    },
    {
     "data": {
      "application/vnd.jupyter.widget-view+json": {
       "model_id": "",
       "version_major": 2,
       "version_minor": 0
      },
      "text/plain": [
       "Looping Each Links of Dates: 2018-06-04:   0%|          | 0/6 [00:00<?, ?it/s]"
      ]
     },
     "metadata": {},
     "output_type": "display_data"
    },
    {
     "data": {},
     "metadata": {},
     "output_type": "display_data"
    },
    {
     "data": {
      "application/vnd.jupyter.widget-view+json": {
       "model_id": "",
       "version_major": 2,
       "version_minor": 0
      },
      "text/plain": [
       "Looping Each Links of Dates: 2018-06-03:   0%|          | 0/8 [00:00<?, ?it/s]"
      ]
     },
     "metadata": {},
     "output_type": "display_data"
    },
    {
     "data": {},
     "metadata": {},
     "output_type": "display_data"
    },
    {
     "data": {
      "application/vnd.jupyter.widget-view+json": {
       "model_id": "",
       "version_major": 2,
       "version_minor": 0
      },
      "text/plain": [
       "Looping Each Links of Dates: 2018-06-02:   0%|          | 0/6 [00:00<?, ?it/s]"
      ]
     },
     "metadata": {},
     "output_type": "display_data"
    },
    {
     "data": {},
     "metadata": {},
     "output_type": "display_data"
    },
    {
     "data": {
      "application/vnd.jupyter.widget-view+json": {
       "model_id": "",
       "version_major": 2,
       "version_minor": 0
      },
      "text/plain": [
       "Looping Each Links of Dates: 2018-06-01:   0%|          | 0/5 [00:00<?, ?it/s]"
      ]
     },
     "metadata": {},
     "output_type": "display_data"
    },
    {
     "data": {},
     "metadata": {},
     "output_type": "display_data"
    },
    {
     "data": {
      "application/vnd.jupyter.widget-view+json": {
       "model_id": "",
       "version_major": 2,
       "version_minor": 0
      },
      "text/plain": [
       "Looping Each Links of Dates: 2018-05-31:   0%|          | 0/6 [00:00<?, ?it/s]"
      ]
     },
     "metadata": {},
     "output_type": "display_data"
    },
    {
     "data": {},
     "metadata": {},
     "output_type": "display_data"
    },
    {
     "data": {
      "application/vnd.jupyter.widget-view+json": {
       "model_id": "",
       "version_major": 2,
       "version_minor": 0
      },
      "text/plain": [
       "Looping Each Links of Dates: 2018-05-30:   0%|          | 0/6 [00:00<?, ?it/s]"
      ]
     },
     "metadata": {},
     "output_type": "display_data"
    },
    {
     "data": {},
     "metadata": {},
     "output_type": "display_data"
    },
    {
     "data": {
      "application/vnd.jupyter.widget-view+json": {
       "model_id": "",
       "version_major": 2,
       "version_minor": 0
      },
      "text/plain": [
       "Looping Each Links of Dates: 2018-05-29:   0%|          | 0/6 [00:00<?, ?it/s]"
      ]
     },
     "metadata": {},
     "output_type": "display_data"
    },
    {
     "data": {},
     "metadata": {},
     "output_type": "display_data"
    },
    {
     "data": {
      "application/vnd.jupyter.widget-view+json": {
       "model_id": "",
       "version_major": 2,
       "version_minor": 0
      },
      "text/plain": [
       "Looping Each Links of Dates: 2018-05-28:   0%|          | 0/11 [00:00<?, ?it/s]"
      ]
     },
     "metadata": {},
     "output_type": "display_data"
    },
    {
     "data": {},
     "metadata": {},
     "output_type": "display_data"
    },
    {
     "data": {
      "application/vnd.jupyter.widget-view+json": {
       "model_id": "",
       "version_major": 2,
       "version_minor": 0
      },
      "text/plain": [
       "Looping Each Links of Dates: 2018-05-27:   0%|          | 0/6 [00:00<?, ?it/s]"
      ]
     },
     "metadata": {},
     "output_type": "display_data"
    },
    {
     "data": {},
     "metadata": {},
     "output_type": "display_data"
    },
    {
     "data": {
      "application/vnd.jupyter.widget-view+json": {
       "model_id": "",
       "version_major": 2,
       "version_minor": 0
      },
      "text/plain": [
       "Looping Each Links of Dates: 2018-05-26:   0%|          | 0/6 [00:00<?, ?it/s]"
      ]
     },
     "metadata": {},
     "output_type": "display_data"
    },
    {
     "data": {},
     "metadata": {},
     "output_type": "display_data"
    },
    {
     "data": {
      "application/vnd.jupyter.widget-view+json": {
       "model_id": "",
       "version_major": 2,
       "version_minor": 0
      },
      "text/plain": [
       "Looping Each Links of Dates: 2018-05-25:   0%|          | 0/11 [00:00<?, ?it/s]"
      ]
     },
     "metadata": {},
     "output_type": "display_data"
    },
    {
     "data": {},
     "metadata": {},
     "output_type": "display_data"
    },
    {
     "data": {
      "application/vnd.jupyter.widget-view+json": {
       "model_id": "",
       "version_major": 2,
       "version_minor": 0
      },
      "text/plain": [
       "Looping Each Links of Dates: 2018-05-24:   0%|          | 0/5 [00:00<?, ?it/s]"
      ]
     },
     "metadata": {},
     "output_type": "display_data"
    },
    {
     "data": {},
     "metadata": {},
     "output_type": "display_data"
    },
    {
     "data": {
      "application/vnd.jupyter.widget-view+json": {
       "model_id": "",
       "version_major": 2,
       "version_minor": 0
      },
      "text/plain": [
       "Looping Each Links of Dates: 2018-05-23:   0%|          | 0/7 [00:00<?, ?it/s]"
      ]
     },
     "metadata": {},
     "output_type": "display_data"
    },
    {
     "data": {},
     "metadata": {},
     "output_type": "display_data"
    },
    {
     "data": {
      "application/vnd.jupyter.widget-view+json": {
       "model_id": "",
       "version_major": 2,
       "version_minor": 0
      },
      "text/plain": [
       "Looping Each Links of Dates: 2018-05-22:   0%|          | 0/8 [00:00<?, ?it/s]"
      ]
     },
     "metadata": {},
     "output_type": "display_data"
    },
    {
     "data": {},
     "metadata": {},
     "output_type": "display_data"
    },
    {
     "data": {
      "application/vnd.jupyter.widget-view+json": {
       "model_id": "",
       "version_major": 2,
       "version_minor": 0
      },
      "text/plain": [
       "Looping Each Links of Dates: 2018-05-21:   0%|          | 0/6 [00:00<?, ?it/s]"
      ]
     },
     "metadata": {},
     "output_type": "display_data"
    },
    {
     "data": {},
     "metadata": {},
     "output_type": "display_data"
    },
    {
     "data": {
      "application/vnd.jupyter.widget-view+json": {
       "model_id": "",
       "version_major": 2,
       "version_minor": 0
      },
      "text/plain": [
       "Looping Each Links of Dates: 2018-05-20:   0%|          | 0/4 [00:00<?, ?it/s]"
      ]
     },
     "metadata": {},
     "output_type": "display_data"
    },
    {
     "data": {},
     "metadata": {},
     "output_type": "display_data"
    },
    {
     "data": {
      "application/vnd.jupyter.widget-view+json": {
       "model_id": "",
       "version_major": 2,
       "version_minor": 0
      },
      "text/plain": [
       "Looping Each Links of Dates: 2018-05-19:   0%|          | 0/5 [00:00<?, ?it/s]"
      ]
     },
     "metadata": {},
     "output_type": "display_data"
    },
    {
     "data": {},
     "metadata": {},
     "output_type": "display_data"
    },
    {
     "data": {
      "application/vnd.jupyter.widget-view+json": {
       "model_id": "",
       "version_major": 2,
       "version_minor": 0
      },
      "text/plain": [
       "Looping Each Links of Dates: 2018-05-18:   0%|          | 0/7 [00:00<?, ?it/s]"
      ]
     },
     "metadata": {},
     "output_type": "display_data"
    },
    {
     "data": {},
     "metadata": {},
     "output_type": "display_data"
    },
    {
     "data": {
      "application/vnd.jupyter.widget-view+json": {
       "model_id": "",
       "version_major": 2,
       "version_minor": 0
      },
      "text/plain": [
       "Looping Each Links of Dates: 2018-05-17:   0%|          | 0/8 [00:00<?, ?it/s]"
      ]
     },
     "metadata": {},
     "output_type": "display_data"
    },
    {
     "data": {},
     "metadata": {},
     "output_type": "display_data"
    },
    {
     "data": {
      "application/vnd.jupyter.widget-view+json": {
       "model_id": "",
       "version_major": 2,
       "version_minor": 0
      },
      "text/plain": [
       "Looping Each Links of Dates: 2018-05-16:   0%|          | 0/7 [00:00<?, ?it/s]"
      ]
     },
     "metadata": {},
     "output_type": "display_data"
    },
    {
     "data": {},
     "metadata": {},
     "output_type": "display_data"
    },
    {
     "data": {
      "application/vnd.jupyter.widget-view+json": {
       "model_id": "",
       "version_major": 2,
       "version_minor": 0
      },
      "text/plain": [
       "Looping Each Links of Dates: 2018-05-15:   0%|          | 0/8 [00:00<?, ?it/s]"
      ]
     },
     "metadata": {},
     "output_type": "display_data"
    },
    {
     "data": {},
     "metadata": {},
     "output_type": "display_data"
    },
    {
     "data": {
      "application/vnd.jupyter.widget-view+json": {
       "model_id": "",
       "version_major": 2,
       "version_minor": 0
      },
      "text/plain": [
       "Looping Each Links of Dates: 2018-05-14:   0%|          | 0/8 [00:00<?, ?it/s]"
      ]
     },
     "metadata": {},
     "output_type": "display_data"
    },
    {
     "data": {},
     "metadata": {},
     "output_type": "display_data"
    },
    {
     "data": {
      "application/vnd.jupyter.widget-view+json": {
       "model_id": "",
       "version_major": 2,
       "version_minor": 0
      },
      "text/plain": [
       "Looping Each Links of Dates: 2018-05-13:   0%|          | 0/5 [00:00<?, ?it/s]"
      ]
     },
     "metadata": {},
     "output_type": "display_data"
    },
    {
     "data": {},
     "metadata": {},
     "output_type": "display_data"
    },
    {
     "data": {
      "application/vnd.jupyter.widget-view+json": {
       "model_id": "",
       "version_major": 2,
       "version_minor": 0
      },
      "text/plain": [
       "Looping Each Links of Dates: 2018-05-12:   0%|          | 0/5 [00:00<?, ?it/s]"
      ]
     },
     "metadata": {},
     "output_type": "display_data"
    },
    {
     "data": {},
     "metadata": {},
     "output_type": "display_data"
    },
    {
     "data": {
      "application/vnd.jupyter.widget-view+json": {
       "model_id": "",
       "version_major": 2,
       "version_minor": 0
      },
      "text/plain": [
       "Looping Each Links of Dates: 2018-05-11:   0%|          | 0/8 [00:00<?, ?it/s]"
      ]
     },
     "metadata": {},
     "output_type": "display_data"
    },
    {
     "data": {},
     "metadata": {},
     "output_type": "display_data"
    },
    {
     "data": {
      "application/vnd.jupyter.widget-view+json": {
       "model_id": "",
       "version_major": 2,
       "version_minor": 0
      },
      "text/plain": [
       "Looping Each Links of Dates: 2018-05-10:   0%|          | 0/6 [00:00<?, ?it/s]"
      ]
     },
     "metadata": {},
     "output_type": "display_data"
    },
    {
     "data": {},
     "metadata": {},
     "output_type": "display_data"
    },
    {
     "data": {
      "application/vnd.jupyter.widget-view+json": {
       "model_id": "",
       "version_major": 2,
       "version_minor": 0
      },
      "text/plain": [
       "Looping Each Links of Dates: 2018-05-09:   0%|          | 0/5 [00:00<?, ?it/s]"
      ]
     },
     "metadata": {},
     "output_type": "display_data"
    },
    {
     "data": {},
     "metadata": {},
     "output_type": "display_data"
    },
    {
     "data": {
      "application/vnd.jupyter.widget-view+json": {
       "model_id": "",
       "version_major": 2,
       "version_minor": 0
      },
      "text/plain": [
       "Looping Each Links of Dates: 2018-05-08:   0%|          | 0/5 [00:00<?, ?it/s]"
      ]
     },
     "metadata": {},
     "output_type": "display_data"
    },
    {
     "data": {},
     "metadata": {},
     "output_type": "display_data"
    },
    {
     "data": {
      "application/vnd.jupyter.widget-view+json": {
       "model_id": "",
       "version_major": 2,
       "version_minor": 0
      },
      "text/plain": [
       "Looping Each Links of Dates: 2018-05-07:   0%|          | 0/9 [00:00<?, ?it/s]"
      ]
     },
     "metadata": {},
     "output_type": "display_data"
    },
    {
     "data": {},
     "metadata": {},
     "output_type": "display_data"
    },
    {
     "data": {
      "application/vnd.jupyter.widget-view+json": {
       "model_id": "",
       "version_major": 2,
       "version_minor": 0
      },
      "text/plain": [
       "Looping Each Links of Dates: 2018-05-06:   0%|          | 0/2 [00:00<?, ?it/s]"
      ]
     },
     "metadata": {},
     "output_type": "display_data"
    },
    {
     "data": {},
     "metadata": {},
     "output_type": "display_data"
    },
    {
     "data": {
      "application/vnd.jupyter.widget-view+json": {
       "model_id": "",
       "version_major": 2,
       "version_minor": 0
      },
      "text/plain": [
       "Looping Each Links of Dates: 2018-05-05:   0%|          | 0/9 [00:00<?, ?it/s]"
      ]
     },
     "metadata": {},
     "output_type": "display_data"
    },
    {
     "data": {},
     "metadata": {},
     "output_type": "display_data"
    },
    {
     "data": {
      "application/vnd.jupyter.widget-view+json": {
       "model_id": "",
       "version_major": 2,
       "version_minor": 0
      },
      "text/plain": [
       "Looping Each Links of Dates: 2018-05-04:   0%|          | 0/11 [00:00<?, ?it/s]"
      ]
     },
     "metadata": {},
     "output_type": "display_data"
    },
    {
     "data": {},
     "metadata": {},
     "output_type": "display_data"
    },
    {
     "data": {
      "application/vnd.jupyter.widget-view+json": {
       "model_id": "",
       "version_major": 2,
       "version_minor": 0
      },
      "text/plain": [
       "Looping Each Links of Dates: 2018-05-03:   0%|          | 0/6 [00:00<?, ?it/s]"
      ]
     },
     "metadata": {},
     "output_type": "display_data"
    },
    {
     "data": {},
     "metadata": {},
     "output_type": "display_data"
    },
    {
     "data": {
      "application/vnd.jupyter.widget-view+json": {
       "model_id": "",
       "version_major": 2,
       "version_minor": 0
      },
      "text/plain": [
       "Looping Each Links of Dates: 2018-05-02:   0%|          | 0/10 [00:00<?, ?it/s]"
      ]
     },
     "metadata": {},
     "output_type": "display_data"
    },
    {
     "data": {},
     "metadata": {},
     "output_type": "display_data"
    },
    {
     "data": {
      "application/vnd.jupyter.widget-view+json": {
       "model_id": "",
       "version_major": 2,
       "version_minor": 0
      },
      "text/plain": [
       "Looping Each Links of Dates: 2018-05-01:   0%|          | 0/7 [00:00<?, ?it/s]"
      ]
     },
     "metadata": {},
     "output_type": "display_data"
    },
    {
     "data": {},
     "metadata": {},
     "output_type": "display_data"
    },
    {
     "data": {
      "application/vnd.jupyter.widget-view+json": {
       "model_id": "",
       "version_major": 2,
       "version_minor": 0
      },
      "text/plain": [
       "Looping Each Links of Dates: 2018-04-30:   0%|          | 0/13 [00:00<?, ?it/s]"
      ]
     },
     "metadata": {},
     "output_type": "display_data"
    },
    {
     "data": {},
     "metadata": {},
     "output_type": "display_data"
    },
    {
     "data": {
      "application/vnd.jupyter.widget-view+json": {
       "model_id": "",
       "version_major": 2,
       "version_minor": 0
      },
      "text/plain": [
       "Looping Each Links of Dates: 2018-04-29:   0%|          | 0/10 [00:00<?, ?it/s]"
      ]
     },
     "metadata": {},
     "output_type": "display_data"
    },
    {
     "data": {},
     "metadata": {},
     "output_type": "display_data"
    },
    {
     "data": {
      "application/vnd.jupyter.widget-view+json": {
       "model_id": "",
       "version_major": 2,
       "version_minor": 0
      },
      "text/plain": [
       "Looping Each Links of Dates: 2018-04-28:   0%|          | 0/7 [00:00<?, ?it/s]"
      ]
     },
     "metadata": {},
     "output_type": "display_data"
    },
    {
     "data": {},
     "metadata": {},
     "output_type": "display_data"
    },
    {
     "data": {
      "application/vnd.jupyter.widget-view+json": {
       "model_id": "",
       "version_major": 2,
       "version_minor": 0
      },
      "text/plain": [
       "Looping Each Links of Dates: 2018-04-27:   0%|          | 0/8 [00:00<?, ?it/s]"
      ]
     },
     "metadata": {},
     "output_type": "display_data"
    },
    {
     "data": {},
     "metadata": {},
     "output_type": "display_data"
    },
    {
     "data": {
      "application/vnd.jupyter.widget-view+json": {
       "model_id": "",
       "version_major": 2,
       "version_minor": 0
      },
      "text/plain": [
       "Looping Each Links of Dates: 2018-04-26:   0%|          | 0/7 [00:00<?, ?it/s]"
      ]
     },
     "metadata": {},
     "output_type": "display_data"
    },
    {
     "data": {},
     "metadata": {},
     "output_type": "display_data"
    },
    {
     "data": {
      "application/vnd.jupyter.widget-view+json": {
       "model_id": "",
       "version_major": 2,
       "version_minor": 0
      },
      "text/plain": [
       "Looping Each Links of Dates: 2018-04-25:   0%|          | 0/10 [00:00<?, ?it/s]"
      ]
     },
     "metadata": {},
     "output_type": "display_data"
    },
    {
     "data": {},
     "metadata": {},
     "output_type": "display_data"
    },
    {
     "data": {
      "application/vnd.jupyter.widget-view+json": {
       "model_id": "",
       "version_major": 2,
       "version_minor": 0
      },
      "text/plain": [
       "Looping Each Links of Dates: 2018-04-24:   0%|          | 0/10 [00:00<?, ?it/s]"
      ]
     },
     "metadata": {},
     "output_type": "display_data"
    },
    {
     "data": {},
     "metadata": {},
     "output_type": "display_data"
    },
    {
     "data": {
      "application/vnd.jupyter.widget-view+json": {
       "model_id": "",
       "version_major": 2,
       "version_minor": 0
      },
      "text/plain": [
       "Looping Each Links of Dates: 2018-04-23:   0%|          | 0/11 [00:00<?, ?it/s]"
      ]
     },
     "metadata": {},
     "output_type": "display_data"
    },
    {
     "data": {},
     "metadata": {},
     "output_type": "display_data"
    },
    {
     "data": {
      "application/vnd.jupyter.widget-view+json": {
       "model_id": "",
       "version_major": 2,
       "version_minor": 0
      },
      "text/plain": [
       "Looping Each Links of Dates: 2018-04-22:   0%|          | 0/12 [00:00<?, ?it/s]"
      ]
     },
     "metadata": {},
     "output_type": "display_data"
    },
    {
     "data": {},
     "metadata": {},
     "output_type": "display_data"
    },
    {
     "data": {
      "application/vnd.jupyter.widget-view+json": {
       "model_id": "",
       "version_major": 2,
       "version_minor": 0
      },
      "text/plain": [
       "Looping Each Links of Dates: 2018-04-21:   0%|          | 0/16 [00:00<?, ?it/s]"
      ]
     },
     "metadata": {},
     "output_type": "display_data"
    },
    {
     "data": {},
     "metadata": {},
     "output_type": "display_data"
    },
    {
     "data": {
      "application/vnd.jupyter.widget-view+json": {
       "model_id": "",
       "version_major": 2,
       "version_minor": 0
      },
      "text/plain": [
       "Looping Each Links of Dates: 2018-04-20:   0%|          | 0/7 [00:00<?, ?it/s]"
      ]
     },
     "metadata": {},
     "output_type": "display_data"
    },
    {
     "data": {},
     "metadata": {},
     "output_type": "display_data"
    },
    {
     "data": {
      "application/vnd.jupyter.widget-view+json": {
       "model_id": "",
       "version_major": 2,
       "version_minor": 0
      },
      "text/plain": [
       "Looping Each Links of Dates: 2018-04-19:   0%|          | 0/11 [00:00<?, ?it/s]"
      ]
     },
     "metadata": {},
     "output_type": "display_data"
    },
    {
     "data": {},
     "metadata": {},
     "output_type": "display_data"
    },
    {
     "data": {
      "application/vnd.jupyter.widget-view+json": {
       "model_id": "",
       "version_major": 2,
       "version_minor": 0
      },
      "text/plain": [
       "Looping Each Links of Dates: 2018-04-18:   0%|          | 0/14 [00:00<?, ?it/s]"
      ]
     },
     "metadata": {},
     "output_type": "display_data"
    },
    {
     "data": {},
     "metadata": {},
     "output_type": "display_data"
    },
    {
     "data": {
      "application/vnd.jupyter.widget-view+json": {
       "model_id": "",
       "version_major": 2,
       "version_minor": 0
      },
      "text/plain": [
       "Looping Each Links of Dates: 2018-04-17:   0%|          | 0/12 [00:00<?, ?it/s]"
      ]
     },
     "metadata": {},
     "output_type": "display_data"
    },
    {
     "data": {},
     "metadata": {},
     "output_type": "display_data"
    },
    {
     "data": {
      "application/vnd.jupyter.widget-view+json": {
       "model_id": "",
       "version_major": 2,
       "version_minor": 0
      },
      "text/plain": [
       "Looping Each Links of Dates: 2018-04-16:   0%|          | 0/11 [00:00<?, ?it/s]"
      ]
     },
     "metadata": {},
     "output_type": "display_data"
    },
    {
     "data": {},
     "metadata": {},
     "output_type": "display_data"
    },
    {
     "data": {
      "application/vnd.jupyter.widget-view+json": {
       "model_id": "",
       "version_major": 2,
       "version_minor": 0
      },
      "text/plain": [
       "Looping Each Links of Dates: 2018-04-15:   0%|          | 0/6 [00:00<?, ?it/s]"
      ]
     },
     "metadata": {},
     "output_type": "display_data"
    },
    {
     "data": {},
     "metadata": {},
     "output_type": "display_data"
    },
    {
     "data": {
      "application/vnd.jupyter.widget-view+json": {
       "model_id": "",
       "version_major": 2,
       "version_minor": 0
      },
      "text/plain": [
       "Looping Each Links of Dates: 2018-04-14:   0%|          | 0/12 [00:00<?, ?it/s]"
      ]
     },
     "metadata": {},
     "output_type": "display_data"
    },
    {
     "data": {},
     "metadata": {},
     "output_type": "display_data"
    },
    {
     "data": {
      "application/vnd.jupyter.widget-view+json": {
       "model_id": "",
       "version_major": 2,
       "version_minor": 0
      },
      "text/plain": [
       "Looping Each Links of Dates: 2018-04-13:   0%|          | 0/10 [00:00<?, ?it/s]"
      ]
     },
     "metadata": {},
     "output_type": "display_data"
    },
    {
     "data": {},
     "metadata": {},
     "output_type": "display_data"
    },
    {
     "data": {
      "application/vnd.jupyter.widget-view+json": {
       "model_id": "",
       "version_major": 2,
       "version_minor": 0
      },
      "text/plain": [
       "Looping Each Links of Dates: 2018-04-12:   0%|          | 0/12 [00:00<?, ?it/s]"
      ]
     },
     "metadata": {},
     "output_type": "display_data"
    },
    {
     "data": {},
     "metadata": {},
     "output_type": "display_data"
    },
    {
     "data": {
      "application/vnd.jupyter.widget-view+json": {
       "model_id": "",
       "version_major": 2,
       "version_minor": 0
      },
      "text/plain": [
       "Looping Each Links of Dates: 2018-04-11:   0%|          | 0/12 [00:00<?, ?it/s]"
      ]
     },
     "metadata": {},
     "output_type": "display_data"
    },
    {
     "data": {},
     "metadata": {},
     "output_type": "display_data"
    },
    {
     "data": {
      "application/vnd.jupyter.widget-view+json": {
       "model_id": "",
       "version_major": 2,
       "version_minor": 0
      },
      "text/plain": [
       "Looping Each Links of Dates: 2018-04-10:   0%|          | 0/7 [00:00<?, ?it/s]"
      ]
     },
     "metadata": {},
     "output_type": "display_data"
    },
    {
     "data": {},
     "metadata": {},
     "output_type": "display_data"
    },
    {
     "data": {
      "application/vnd.jupyter.widget-view+json": {
       "model_id": "",
       "version_major": 2,
       "version_minor": 0
      },
      "text/plain": [
       "Looping Each Links of Dates: 2018-04-09:   0%|          | 0/8 [00:00<?, ?it/s]"
      ]
     },
     "metadata": {},
     "output_type": "display_data"
    },
    {
     "data": {},
     "metadata": {},
     "output_type": "display_data"
    },
    {
     "data": {
      "application/vnd.jupyter.widget-view+json": {
       "model_id": "",
       "version_major": 2,
       "version_minor": 0
      },
      "text/plain": [
       "Looping Each Links of Dates: 2018-04-08:   0%|          | 0/10 [00:00<?, ?it/s]"
      ]
     },
     "metadata": {},
     "output_type": "display_data"
    },
    {
     "data": {},
     "metadata": {},
     "output_type": "display_data"
    },
    {
     "data": {
      "application/vnd.jupyter.widget-view+json": {
       "model_id": "",
       "version_major": 2,
       "version_minor": 0
      },
      "text/plain": [
       "Looping Each Links of Dates: 2018-04-07:   0%|          | 0/6 [00:00<?, ?it/s]"
      ]
     },
     "metadata": {},
     "output_type": "display_data"
    },
    {
     "data": {},
     "metadata": {},
     "output_type": "display_data"
    },
    {
     "data": {
      "application/vnd.jupyter.widget-view+json": {
       "model_id": "",
       "version_major": 2,
       "version_minor": 0
      },
      "text/plain": [
       "Looping Each Links of Dates: 2018-04-06:   0%|          | 0/10 [00:00<?, ?it/s]"
      ]
     },
     "metadata": {},
     "output_type": "display_data"
    },
    {
     "data": {},
     "metadata": {},
     "output_type": "display_data"
    },
    {
     "data": {
      "application/vnd.jupyter.widget-view+json": {
       "model_id": "",
       "version_major": 2,
       "version_minor": 0
      },
      "text/plain": [
       "Looping Each Links of Dates: 2018-04-05:   0%|          | 0/15 [00:00<?, ?it/s]"
      ]
     },
     "metadata": {},
     "output_type": "display_data"
    },
    {
     "data": {},
     "metadata": {},
     "output_type": "display_data"
    },
    {
     "data": {
      "application/vnd.jupyter.widget-view+json": {
       "model_id": "",
       "version_major": 2,
       "version_minor": 0
      },
      "text/plain": [
       "Looping Each Links of Dates: 2018-04-04:   0%|          | 0/9 [00:00<?, ?it/s]"
      ]
     },
     "metadata": {},
     "output_type": "display_data"
    },
    {
     "data": {},
     "metadata": {},
     "output_type": "display_data"
    },
    {
     "data": {
      "application/vnd.jupyter.widget-view+json": {
       "model_id": "",
       "version_major": 2,
       "version_minor": 0
      },
      "text/plain": [
       "Looping Each Links of Dates: 2018-04-03:   0%|          | 0/14 [00:00<?, ?it/s]"
      ]
     },
     "metadata": {},
     "output_type": "display_data"
    },
    {
     "data": {},
     "metadata": {},
     "output_type": "display_data"
    },
    {
     "data": {
      "application/vnd.jupyter.widget-view+json": {
       "model_id": "",
       "version_major": 2,
       "version_minor": 0
      },
      "text/plain": [
       "Looping Each Links of Dates: 2018-04-02:   0%|          | 0/7 [00:00<?, ?it/s]"
      ]
     },
     "metadata": {},
     "output_type": "display_data"
    },
    {
     "data": {},
     "metadata": {},
     "output_type": "display_data"
    },
    {
     "data": {
      "application/vnd.jupyter.widget-view+json": {
       "model_id": "",
       "version_major": 2,
       "version_minor": 0
      },
      "text/plain": [
       "Looping Each Links of Dates: 2018-04-01:   0%|          | 0/7 [00:00<?, ?it/s]"
      ]
     },
     "metadata": {},
     "output_type": "display_data"
    },
    {
     "data": {},
     "metadata": {},
     "output_type": "display_data"
    },
    {
     "data": {
      "application/vnd.jupyter.widget-view+json": {
       "model_id": "",
       "version_major": 2,
       "version_minor": 0
      },
      "text/plain": [
       "Looping Each Links of Dates: 2018-03-31:   0%|          | 0/8 [00:00<?, ?it/s]"
      ]
     },
     "metadata": {},
     "output_type": "display_data"
    },
    {
     "data": {},
     "metadata": {},
     "output_type": "display_data"
    },
    {
     "data": {
      "application/vnd.jupyter.widget-view+json": {
       "model_id": "",
       "version_major": 2,
       "version_minor": 0
      },
      "text/plain": [
       "Looping Each Links of Dates: 2018-03-30:   0%|          | 0/11 [00:00<?, ?it/s]"
      ]
     },
     "metadata": {},
     "output_type": "display_data"
    },
    {
     "data": {},
     "metadata": {},
     "output_type": "display_data"
    },
    {
     "data": {
      "application/vnd.jupyter.widget-view+json": {
       "model_id": "",
       "version_major": 2,
       "version_minor": 0
      },
      "text/plain": [
       "Looping Each Links of Dates: 2018-03-29:   0%|          | 0/13 [00:00<?, ?it/s]"
      ]
     },
     "metadata": {},
     "output_type": "display_data"
    },
    {
     "data": {},
     "metadata": {},
     "output_type": "display_data"
    },
    {
     "data": {
      "application/vnd.jupyter.widget-view+json": {
       "model_id": "",
       "version_major": 2,
       "version_minor": 0
      },
      "text/plain": [
       "Looping Each Links of Dates: 2018-03-28:   0%|          | 0/7 [00:00<?, ?it/s]"
      ]
     },
     "metadata": {},
     "output_type": "display_data"
    },
    {
     "data": {},
     "metadata": {},
     "output_type": "display_data"
    },
    {
     "data": {
      "application/vnd.jupyter.widget-view+json": {
       "model_id": "",
       "version_major": 2,
       "version_minor": 0
      },
      "text/plain": [
       "Looping Each Links of Dates: 2018-03-27:   0%|          | 0/10 [00:00<?, ?it/s]"
      ]
     },
     "metadata": {},
     "output_type": "display_data"
    },
    {
     "data": {},
     "metadata": {},
     "output_type": "display_data"
    },
    {
     "data": {
      "application/vnd.jupyter.widget-view+json": {
       "model_id": "",
       "version_major": 2,
       "version_minor": 0
      },
      "text/plain": [
       "Looping Each Links of Dates: 2018-03-26:   0%|          | 0/10 [00:00<?, ?it/s]"
      ]
     },
     "metadata": {},
     "output_type": "display_data"
    },
    {
     "data": {},
     "metadata": {},
     "output_type": "display_data"
    },
    {
     "data": {
      "application/vnd.jupyter.widget-view+json": {
       "model_id": "",
       "version_major": 2,
       "version_minor": 0
      },
      "text/plain": [
       "Looping Each Links of Dates: 2018-03-25:   0%|          | 0/6 [00:00<?, ?it/s]"
      ]
     },
     "metadata": {},
     "output_type": "display_data"
    },
    {
     "data": {},
     "metadata": {},
     "output_type": "display_data"
    },
    {
     "data": {
      "application/vnd.jupyter.widget-view+json": {
       "model_id": "",
       "version_major": 2,
       "version_minor": 0
      },
      "text/plain": [
       "Looping Each Links of Dates: 2018-03-24:   0%|          | 0/7 [00:00<?, ?it/s]"
      ]
     },
     "metadata": {},
     "output_type": "display_data"
    },
    {
     "data": {},
     "metadata": {},
     "output_type": "display_data"
    },
    {
     "data": {
      "application/vnd.jupyter.widget-view+json": {
       "model_id": "",
       "version_major": 2,
       "version_minor": 0
      },
      "text/plain": [
       "Looping Each Links of Dates: 2018-03-23:   0%|          | 0/7 [00:00<?, ?it/s]"
      ]
     },
     "metadata": {},
     "output_type": "display_data"
    },
    {
     "data": {},
     "metadata": {},
     "output_type": "display_data"
    },
    {
     "data": {
      "application/vnd.jupyter.widget-view+json": {
       "model_id": "",
       "version_major": 2,
       "version_minor": 0
      },
      "text/plain": [
       "Looping Each Links of Dates: 2018-03-22:   0%|          | 0/6 [00:00<?, ?it/s]"
      ]
     },
     "metadata": {},
     "output_type": "display_data"
    },
    {
     "data": {},
     "metadata": {},
     "output_type": "display_data"
    },
    {
     "data": {
      "application/vnd.jupyter.widget-view+json": {
       "model_id": "",
       "version_major": 2,
       "version_minor": 0
      },
      "text/plain": [
       "Looping Each Links of Dates: 2018-03-21:   0%|          | 0/13 [00:00<?, ?it/s]"
      ]
     },
     "metadata": {},
     "output_type": "display_data"
    },
    {
     "data": {},
     "metadata": {},
     "output_type": "display_data"
    },
    {
     "data": {
      "application/vnd.jupyter.widget-view+json": {
       "model_id": "",
       "version_major": 2,
       "version_minor": 0
      },
      "text/plain": [
       "Looping Each Links of Dates: 2018-03-20:   0%|          | 0/8 [00:00<?, ?it/s]"
      ]
     },
     "metadata": {},
     "output_type": "display_data"
    },
    {
     "data": {},
     "metadata": {},
     "output_type": "display_data"
    },
    {
     "data": {
      "application/vnd.jupyter.widget-view+json": {
       "model_id": "",
       "version_major": 2,
       "version_minor": 0
      },
      "text/plain": [
       "Looping Each Links of Dates: 2018-03-19:   0%|          | 0/8 [00:00<?, ?it/s]"
      ]
     },
     "metadata": {},
     "output_type": "display_data"
    },
    {
     "data": {},
     "metadata": {},
     "output_type": "display_data"
    },
    {
     "data": {
      "application/vnd.jupyter.widget-view+json": {
       "model_id": "",
       "version_major": 2,
       "version_minor": 0
      },
      "text/plain": [
       "Looping Each Links of Dates: 2018-03-18:   0%|          | 0/8 [00:00<?, ?it/s]"
      ]
     },
     "metadata": {},
     "output_type": "display_data"
    },
    {
     "data": {},
     "metadata": {},
     "output_type": "display_data"
    },
    {
     "data": {
      "application/vnd.jupyter.widget-view+json": {
       "model_id": "",
       "version_major": 2,
       "version_minor": 0
      },
      "text/plain": [
       "Looping Each Links of Dates: 2018-03-17:   0%|          | 0/5 [00:00<?, ?it/s]"
      ]
     },
     "metadata": {},
     "output_type": "display_data"
    },
    {
     "data": {},
     "metadata": {},
     "output_type": "display_data"
    },
    {
     "data": {
      "application/vnd.jupyter.widget-view+json": {
       "model_id": "",
       "version_major": 2,
       "version_minor": 0
      },
      "text/plain": [
       "Looping Each Links of Dates: 2018-03-16:   0%|          | 0/10 [00:00<?, ?it/s]"
      ]
     },
     "metadata": {},
     "output_type": "display_data"
    },
    {
     "data": {},
     "metadata": {},
     "output_type": "display_data"
    },
    {
     "data": {
      "application/vnd.jupyter.widget-view+json": {
       "model_id": "",
       "version_major": 2,
       "version_minor": 0
      },
      "text/plain": [
       "Looping Each Links of Dates: 2018-03-15:   0%|          | 0/7 [00:00<?, ?it/s]"
      ]
     },
     "metadata": {},
     "output_type": "display_data"
    },
    {
     "data": {},
     "metadata": {},
     "output_type": "display_data"
    },
    {
     "data": {
      "application/vnd.jupyter.widget-view+json": {
       "model_id": "",
       "version_major": 2,
       "version_minor": 0
      },
      "text/plain": [
       "Looping Each Links of Dates: 2018-03-14:   0%|          | 0/9 [00:00<?, ?it/s]"
      ]
     },
     "metadata": {},
     "output_type": "display_data"
    },
    {
     "data": {},
     "metadata": {},
     "output_type": "display_data"
    },
    {
     "data": {
      "application/vnd.jupyter.widget-view+json": {
       "model_id": "",
       "version_major": 2,
       "version_minor": 0
      },
      "text/plain": [
       "Looping Each Links of Dates: 2018-03-13:   0%|          | 0/11 [00:00<?, ?it/s]"
      ]
     },
     "metadata": {},
     "output_type": "display_data"
    },
    {
     "data": {},
     "metadata": {},
     "output_type": "display_data"
    },
    {
     "data": {
      "application/vnd.jupyter.widget-view+json": {
       "model_id": "",
       "version_major": 2,
       "version_minor": 0
      },
      "text/plain": [
       "Looping Each Links of Dates: 2018-03-12:   0%|          | 0/7 [00:00<?, ?it/s]"
      ]
     },
     "metadata": {},
     "output_type": "display_data"
    },
    {
     "data": {},
     "metadata": {},
     "output_type": "display_data"
    },
    {
     "data": {
      "application/vnd.jupyter.widget-view+json": {
       "model_id": "",
       "version_major": 2,
       "version_minor": 0
      },
      "text/plain": [
       "Looping Each Links of Dates: 2018-03-11:   0%|          | 0/9 [00:00<?, ?it/s]"
      ]
     },
     "metadata": {},
     "output_type": "display_data"
    },
    {
     "data": {},
     "metadata": {},
     "output_type": "display_data"
    },
    {
     "data": {
      "application/vnd.jupyter.widget-view+json": {
       "model_id": "",
       "version_major": 2,
       "version_minor": 0
      },
      "text/plain": [
       "Looping Each Links of Dates: 2018-03-10:   0%|          | 0/6 [00:00<?, ?it/s]"
      ]
     },
     "metadata": {},
     "output_type": "display_data"
    },
    {
     "data": {},
     "metadata": {},
     "output_type": "display_data"
    },
    {
     "data": {
      "application/vnd.jupyter.widget-view+json": {
       "model_id": "",
       "version_major": 2,
       "version_minor": 0
      },
      "text/plain": [
       "Looping Each Links of Dates: 2018-03-09:   0%|          | 0/6 [00:00<?, ?it/s]"
      ]
     },
     "metadata": {},
     "output_type": "display_data"
    },
    {
     "data": {},
     "metadata": {},
     "output_type": "display_data"
    },
    {
     "data": {
      "application/vnd.jupyter.widget-view+json": {
       "model_id": "",
       "version_major": 2,
       "version_minor": 0
      },
      "text/plain": [
       "Looping Each Links of Dates: 2018-03-08:   0%|          | 0/12 [00:00<?, ?it/s]"
      ]
     },
     "metadata": {},
     "output_type": "display_data"
    },
    {
     "data": {},
     "metadata": {},
     "output_type": "display_data"
    },
    {
     "data": {
      "application/vnd.jupyter.widget-view+json": {
       "model_id": "",
       "version_major": 2,
       "version_minor": 0
      },
      "text/plain": [
       "Looping Each Links of Dates: 2018-03-07:   0%|          | 0/10 [00:00<?, ?it/s]"
      ]
     },
     "metadata": {},
     "output_type": "display_data"
    },
    {
     "data": {},
     "metadata": {},
     "output_type": "display_data"
    },
    {
     "data": {
      "application/vnd.jupyter.widget-view+json": {
       "model_id": "",
       "version_major": 2,
       "version_minor": 0
      },
      "text/plain": [
       "Looping Each Links of Dates: 2018-03-06:   0%|          | 0/9 [00:00<?, ?it/s]"
      ]
     },
     "metadata": {},
     "output_type": "display_data"
    },
    {
     "data": {},
     "metadata": {},
     "output_type": "display_data"
    },
    {
     "data": {
      "application/vnd.jupyter.widget-view+json": {
       "model_id": "",
       "version_major": 2,
       "version_minor": 0
      },
      "text/plain": [
       "Looping Each Links of Dates: 2018-03-05:   0%|          | 0/8 [00:00<?, ?it/s]"
      ]
     },
     "metadata": {},
     "output_type": "display_data"
    },
    {
     "data": {},
     "metadata": {},
     "output_type": "display_data"
    },
    {
     "data": {
      "application/vnd.jupyter.widget-view+json": {
       "model_id": "",
       "version_major": 2,
       "version_minor": 0
      },
      "text/plain": [
       "Looping Each Links of Dates: 2018-03-04:   0%|          | 0/13 [00:00<?, ?it/s]"
      ]
     },
     "metadata": {},
     "output_type": "display_data"
    },
    {
     "data": {},
     "metadata": {},
     "output_type": "display_data"
    },
    {
     "data": {
      "application/vnd.jupyter.widget-view+json": {
       "model_id": "",
       "version_major": 2,
       "version_minor": 0
      },
      "text/plain": [
       "Looping Each Links of Dates: 2018-03-03:   0%|          | 0/7 [00:00<?, ?it/s]"
      ]
     },
     "metadata": {},
     "output_type": "display_data"
    },
    {
     "data": {},
     "metadata": {},
     "output_type": "display_data"
    },
    {
     "data": {
      "application/vnd.jupyter.widget-view+json": {
       "model_id": "",
       "version_major": 2,
       "version_minor": 0
      },
      "text/plain": [
       "Looping Each Links of Dates: 2018-03-02:   0%|          | 0/11 [00:00<?, ?it/s]"
      ]
     },
     "metadata": {},
     "output_type": "display_data"
    },
    {
     "data": {},
     "metadata": {},
     "output_type": "display_data"
    },
    {
     "data": {
      "application/vnd.jupyter.widget-view+json": {
       "model_id": "",
       "version_major": 2,
       "version_minor": 0
      },
      "text/plain": [
       "Looping Each Links of Dates: 2018-03-01:   0%|          | 0/11 [00:00<?, ?it/s]"
      ]
     },
     "metadata": {},
     "output_type": "display_data"
    },
    {
     "data": {},
     "metadata": {},
     "output_type": "display_data"
    },
    {
     "data": {
      "application/vnd.jupyter.widget-view+json": {
       "model_id": "",
       "version_major": 2,
       "version_minor": 0
      },
      "text/plain": [
       "Looping Each Links of Dates: 2018-02-28:   0%|          | 0/6 [00:00<?, ?it/s]"
      ]
     },
     "metadata": {},
     "output_type": "display_data"
    },
    {
     "data": {},
     "metadata": {},
     "output_type": "display_data"
    },
    {
     "data": {
      "application/vnd.jupyter.widget-view+json": {
       "model_id": "",
       "version_major": 2,
       "version_minor": 0
      },
      "text/plain": [
       "Looping Each Links of Dates: 2018-02-27:   0%|          | 0/9 [00:00<?, ?it/s]"
      ]
     },
     "metadata": {},
     "output_type": "display_data"
    },
    {
     "data": {},
     "metadata": {},
     "output_type": "display_data"
    },
    {
     "data": {
      "application/vnd.jupyter.widget-view+json": {
       "model_id": "",
       "version_major": 2,
       "version_minor": 0
      },
      "text/plain": [
       "Looping Each Links of Dates: 2018-02-26:   0%|          | 0/15 [00:00<?, ?it/s]"
      ]
     },
     "metadata": {},
     "output_type": "display_data"
    },
    {
     "data": {},
     "metadata": {},
     "output_type": "display_data"
    },
    {
     "data": {
      "application/vnd.jupyter.widget-view+json": {
       "model_id": "",
       "version_major": 2,
       "version_minor": 0
      },
      "text/plain": [
       "Looping Each Links of Dates: 2018-02-25:   0%|          | 0/7 [00:00<?, ?it/s]"
      ]
     },
     "metadata": {},
     "output_type": "display_data"
    },
    {
     "data": {},
     "metadata": {},
     "output_type": "display_data"
    },
    {
     "data": {
      "application/vnd.jupyter.widget-view+json": {
       "model_id": "",
       "version_major": 2,
       "version_minor": 0
      },
      "text/plain": [
       "Looping Each Links of Dates: 2018-02-24:   0%|          | 0/9 [00:00<?, ?it/s]"
      ]
     },
     "metadata": {},
     "output_type": "display_data"
    },
    {
     "data": {},
     "metadata": {},
     "output_type": "display_data"
    },
    {
     "data": {
      "application/vnd.jupyter.widget-view+json": {
       "model_id": "",
       "version_major": 2,
       "version_minor": 0
      },
      "text/plain": [
       "Looping Each Links of Dates: 2018-02-23:   0%|          | 0/11 [00:00<?, ?it/s]"
      ]
     },
     "metadata": {},
     "output_type": "display_data"
    },
    {
     "data": {},
     "metadata": {},
     "output_type": "display_data"
    },
    {
     "data": {
      "application/vnd.jupyter.widget-view+json": {
       "model_id": "",
       "version_major": 2,
       "version_minor": 0
      },
      "text/plain": [
       "Looping Each Links of Dates: 2018-02-22:   0%|          | 0/9 [00:00<?, ?it/s]"
      ]
     },
     "metadata": {},
     "output_type": "display_data"
    },
    {
     "data": {},
     "metadata": {},
     "output_type": "display_data"
    },
    {
     "data": {
      "application/vnd.jupyter.widget-view+json": {
       "model_id": "",
       "version_major": 2,
       "version_minor": 0
      },
      "text/plain": [
       "Looping Each Links of Dates: 2018-02-21:   0%|          | 0/15 [00:00<?, ?it/s]"
      ]
     },
     "metadata": {},
     "output_type": "display_data"
    },
    {
     "data": {},
     "metadata": {},
     "output_type": "display_data"
    },
    {
     "data": {
      "application/vnd.jupyter.widget-view+json": {
       "model_id": "",
       "version_major": 2,
       "version_minor": 0
      },
      "text/plain": [
       "Looping Each Links of Dates: 2018-02-20:   0%|          | 0/9 [00:00<?, ?it/s]"
      ]
     },
     "metadata": {},
     "output_type": "display_data"
    },
    {
     "data": {},
     "metadata": {},
     "output_type": "display_data"
    },
    {
     "data": {
      "application/vnd.jupyter.widget-view+json": {
       "model_id": "",
       "version_major": 2,
       "version_minor": 0
      },
      "text/plain": [
       "Looping Each Links of Dates: 2018-02-19:   0%|          | 0/10 [00:00<?, ?it/s]"
      ]
     },
     "metadata": {},
     "output_type": "display_data"
    },
    {
     "data": {},
     "metadata": {},
     "output_type": "display_data"
    },
    {
     "data": {
      "application/vnd.jupyter.widget-view+json": {
       "model_id": "",
       "version_major": 2,
       "version_minor": 0
      },
      "text/plain": [
       "Looping Each Links of Dates: 2018-02-18:   0%|          | 0/8 [00:00<?, ?it/s]"
      ]
     },
     "metadata": {},
     "output_type": "display_data"
    },
    {
     "data": {},
     "metadata": {},
     "output_type": "display_data"
    },
    {
     "data": {
      "application/vnd.jupyter.widget-view+json": {
       "model_id": "",
       "version_major": 2,
       "version_minor": 0
      },
      "text/plain": [
       "Looping Each Links of Dates: 2018-02-17:   0%|          | 0/8 [00:00<?, ?it/s]"
      ]
     },
     "metadata": {},
     "output_type": "display_data"
    },
    {
     "data": {},
     "metadata": {},
     "output_type": "display_data"
    },
    {
     "data": {
      "application/vnd.jupyter.widget-view+json": {
       "model_id": "",
       "version_major": 2,
       "version_minor": 0
      },
      "text/plain": [
       "Looping Each Links of Dates: 2018-02-16:   0%|          | 0/11 [00:00<?, ?it/s]"
      ]
     },
     "metadata": {},
     "output_type": "display_data"
    },
    {
     "data": {},
     "metadata": {},
     "output_type": "display_data"
    },
    {
     "data": {
      "application/vnd.jupyter.widget-view+json": {
       "model_id": "",
       "version_major": 2,
       "version_minor": 0
      },
      "text/plain": [
       "Looping Each Links of Dates: 2018-02-15:   0%|          | 0/12 [00:00<?, ?it/s]"
      ]
     },
     "metadata": {},
     "output_type": "display_data"
    },
    {
     "data": {},
     "metadata": {},
     "output_type": "display_data"
    },
    {
     "data": {
      "application/vnd.jupyter.widget-view+json": {
       "model_id": "",
       "version_major": 2,
       "version_minor": 0
      },
      "text/plain": [
       "Looping Each Links of Dates: 2018-02-14:   0%|          | 0/11 [00:00<?, ?it/s]"
      ]
     },
     "metadata": {},
     "output_type": "display_data"
    },
    {
     "data": {},
     "metadata": {},
     "output_type": "display_data"
    },
    {
     "data": {
      "application/vnd.jupyter.widget-view+json": {
       "model_id": "",
       "version_major": 2,
       "version_minor": 0
      },
      "text/plain": [
       "Looping Each Links of Dates: 2018-02-13:   0%|          | 0/13 [00:00<?, ?it/s]"
      ]
     },
     "metadata": {},
     "output_type": "display_data"
    },
    {
     "data": {},
     "metadata": {},
     "output_type": "display_data"
    },
    {
     "data": {
      "application/vnd.jupyter.widget-view+json": {
       "model_id": "",
       "version_major": 2,
       "version_minor": 0
      },
      "text/plain": [
       "Looping Each Links of Dates: 2018-02-12:   0%|          | 0/7 [00:00<?, ?it/s]"
      ]
     },
     "metadata": {},
     "output_type": "display_data"
    },
    {
     "data": {},
     "metadata": {},
     "output_type": "display_data"
    },
    {
     "data": {
      "application/vnd.jupyter.widget-view+json": {
       "model_id": "",
       "version_major": 2,
       "version_minor": 0
      },
      "text/plain": [
       "Looping Each Links of Dates: 2018-02-11:   0%|          | 0/8 [00:00<?, ?it/s]"
      ]
     },
     "metadata": {},
     "output_type": "display_data"
    },
    {
     "data": {},
     "metadata": {},
     "output_type": "display_data"
    },
    {
     "data": {
      "application/vnd.jupyter.widget-view+json": {
       "model_id": "",
       "version_major": 2,
       "version_minor": 0
      },
      "text/plain": [
       "Looping Each Links of Dates: 2018-02-10:   0%|          | 0/15 [00:00<?, ?it/s]"
      ]
     },
     "metadata": {},
     "output_type": "display_data"
    },
    {
     "data": {},
     "metadata": {},
     "output_type": "display_data"
    },
    {
     "data": {
      "application/vnd.jupyter.widget-view+json": {
       "model_id": "",
       "version_major": 2,
       "version_minor": 0
      },
      "text/plain": [
       "Looping Each Links of Dates: 2018-02-09:   0%|          | 0/7 [00:00<?, ?it/s]"
      ]
     },
     "metadata": {},
     "output_type": "display_data"
    },
    {
     "data": {},
     "metadata": {},
     "output_type": "display_data"
    },
    {
     "data": {
      "application/vnd.jupyter.widget-view+json": {
       "model_id": "",
       "version_major": 2,
       "version_minor": 0
      },
      "text/plain": [
       "Looping Each Links of Dates: 2018-02-08:   0%|          | 0/8 [00:00<?, ?it/s]"
      ]
     },
     "metadata": {},
     "output_type": "display_data"
    },
    {
     "data": {},
     "metadata": {},
     "output_type": "display_data"
    },
    {
     "data": {
      "application/vnd.jupyter.widget-view+json": {
       "model_id": "",
       "version_major": 2,
       "version_minor": 0
      },
      "text/plain": [
       "Looping Each Links of Dates: 2018-02-07:   0%|          | 0/14 [00:00<?, ?it/s]"
      ]
     },
     "metadata": {},
     "output_type": "display_data"
    },
    {
     "data": {},
     "metadata": {},
     "output_type": "display_data"
    },
    {
     "data": {
      "application/vnd.jupyter.widget-view+json": {
       "model_id": "",
       "version_major": 2,
       "version_minor": 0
      },
      "text/plain": [
       "Looping Each Links of Dates: 2018-02-06:   0%|          | 0/12 [00:00<?, ?it/s]"
      ]
     },
     "metadata": {},
     "output_type": "display_data"
    },
    {
     "data": {},
     "metadata": {},
     "output_type": "display_data"
    },
    {
     "data": {
      "application/vnd.jupyter.widget-view+json": {
       "model_id": "",
       "version_major": 2,
       "version_minor": 0
      },
      "text/plain": [
       "Looping Each Links of Dates: 2018-02-05:   0%|          | 0/5 [00:00<?, ?it/s]"
      ]
     },
     "metadata": {},
     "output_type": "display_data"
    },
    {
     "data": {},
     "metadata": {},
     "output_type": "display_data"
    },
    {
     "data": {
      "application/vnd.jupyter.widget-view+json": {
       "model_id": "",
       "version_major": 2,
       "version_minor": 0
      },
      "text/plain": [
       "Looping Each Links of Dates: 2018-02-04:   0%|          | 0/7 [00:00<?, ?it/s]"
      ]
     },
     "metadata": {},
     "output_type": "display_data"
    },
    {
     "data": {},
     "metadata": {},
     "output_type": "display_data"
    },
    {
     "data": {
      "application/vnd.jupyter.widget-view+json": {
       "model_id": "",
       "version_major": 2,
       "version_minor": 0
      },
      "text/plain": [
       "Looping Each Links of Dates: 2018-02-03:   0%|          | 0/6 [00:00<?, ?it/s]"
      ]
     },
     "metadata": {},
     "output_type": "display_data"
    },
    {
     "data": {},
     "metadata": {},
     "output_type": "display_data"
    },
    {
     "data": {
      "application/vnd.jupyter.widget-view+json": {
       "model_id": "",
       "version_major": 2,
       "version_minor": 0
      },
      "text/plain": [
       "Looping Each Links of Dates: 2018-02-02:   0%|          | 0/10 [00:00<?, ?it/s]"
      ]
     },
     "metadata": {},
     "output_type": "display_data"
    },
    {
     "data": {},
     "metadata": {},
     "output_type": "display_data"
    },
    {
     "data": {
      "application/vnd.jupyter.widget-view+json": {
       "model_id": "",
       "version_major": 2,
       "version_minor": 0
      },
      "text/plain": [
       "Looping Each Links of Dates: 2018-02-01:   0%|          | 0/13 [00:00<?, ?it/s]"
      ]
     },
     "metadata": {},
     "output_type": "display_data"
    },
    {
     "data": {},
     "metadata": {},
     "output_type": "display_data"
    },
    {
     "data": {
      "application/vnd.jupyter.widget-view+json": {
       "model_id": "",
       "version_major": 2,
       "version_minor": 0
      },
      "text/plain": [
       "Looping Each Links of Dates: 2018-01-31:   0%|          | 0/15 [00:00<?, ?it/s]"
      ]
     },
     "metadata": {},
     "output_type": "display_data"
    },
    {
     "data": {},
     "metadata": {},
     "output_type": "display_data"
    },
    {
     "data": {
      "application/vnd.jupyter.widget-view+json": {
       "model_id": "",
       "version_major": 2,
       "version_minor": 0
      },
      "text/plain": [
       "Looping Each Links of Dates: 2018-01-30:   0%|          | 0/11 [00:00<?, ?it/s]"
      ]
     },
     "metadata": {},
     "output_type": "display_data"
    },
    {
     "data": {},
     "metadata": {},
     "output_type": "display_data"
    },
    {
     "data": {
      "application/vnd.jupyter.widget-view+json": {
       "model_id": "",
       "version_major": 2,
       "version_minor": 0
      },
      "text/plain": [
       "Looping Each Links of Dates: 2018-01-29:   0%|          | 0/10 [00:00<?, ?it/s]"
      ]
     },
     "metadata": {},
     "output_type": "display_data"
    },
    {
     "data": {},
     "metadata": {},
     "output_type": "display_data"
    },
    {
     "data": {
      "application/vnd.jupyter.widget-view+json": {
       "model_id": "",
       "version_major": 2,
       "version_minor": 0
      },
      "text/plain": [
       "Looping Each Links of Dates: 2018-01-28:   0%|          | 0/8 [00:00<?, ?it/s]"
      ]
     },
     "metadata": {},
     "output_type": "display_data"
    },
    {
     "data": {},
     "metadata": {},
     "output_type": "display_data"
    },
    {
     "data": {
      "application/vnd.jupyter.widget-view+json": {
       "model_id": "",
       "version_major": 2,
       "version_minor": 0
      },
      "text/plain": [
       "Looping Each Links of Dates: 2018-01-27:   0%|          | 0/8 [00:00<?, ?it/s]"
      ]
     },
     "metadata": {},
     "output_type": "display_data"
    },
    {
     "data": {},
     "metadata": {},
     "output_type": "display_data"
    },
    {
     "data": {
      "application/vnd.jupyter.widget-view+json": {
       "model_id": "",
       "version_major": 2,
       "version_minor": 0
      },
      "text/plain": [
       "Looping Each Links of Dates: 2018-01-26:   0%|          | 0/14 [00:00<?, ?it/s]"
      ]
     },
     "metadata": {},
     "output_type": "display_data"
    },
    {
     "data": {},
     "metadata": {},
     "output_type": "display_data"
    },
    {
     "data": {
      "application/vnd.jupyter.widget-view+json": {
       "model_id": "",
       "version_major": 2,
       "version_minor": 0
      },
      "text/plain": [
       "Looping Each Links of Dates: 2018-01-25:   0%|          | 0/8 [00:00<?, ?it/s]"
      ]
     },
     "metadata": {},
     "output_type": "display_data"
    },
    {
     "data": {},
     "metadata": {},
     "output_type": "display_data"
    },
    {
     "data": {
      "application/vnd.jupyter.widget-view+json": {
       "model_id": "",
       "version_major": 2,
       "version_minor": 0
      },
      "text/plain": [
       "Looping Each Links of Dates: 2018-01-24:   0%|          | 0/10 [00:00<?, ?it/s]"
      ]
     },
     "metadata": {},
     "output_type": "display_data"
    },
    {
     "data": {},
     "metadata": {},
     "output_type": "display_data"
    },
    {
     "data": {
      "application/vnd.jupyter.widget-view+json": {
       "model_id": "",
       "version_major": 2,
       "version_minor": 0
      },
      "text/plain": [
       "Looping Each Links of Dates: 2018-01-23:   0%|          | 0/9 [00:00<?, ?it/s]"
      ]
     },
     "metadata": {},
     "output_type": "display_data"
    },
    {
     "data": {},
     "metadata": {},
     "output_type": "display_data"
    },
    {
     "data": {
      "application/vnd.jupyter.widget-view+json": {
       "model_id": "",
       "version_major": 2,
       "version_minor": 0
      },
      "text/plain": [
       "Looping Each Links of Dates: 2018-01-22:   0%|          | 0/7 [00:00<?, ?it/s]"
      ]
     },
     "metadata": {},
     "output_type": "display_data"
    },
    {
     "data": {},
     "metadata": {},
     "output_type": "display_data"
    },
    {
     "data": {
      "application/vnd.jupyter.widget-view+json": {
       "model_id": "",
       "version_major": 2,
       "version_minor": 0
      },
      "text/plain": [
       "Looping Each Links of Dates: 2018-01-21:   0%|          | 0/9 [00:00<?, ?it/s]"
      ]
     },
     "metadata": {},
     "output_type": "display_data"
    },
    {
     "data": {},
     "metadata": {},
     "output_type": "display_data"
    },
    {
     "data": {
      "application/vnd.jupyter.widget-view+json": {
       "model_id": "",
       "version_major": 2,
       "version_minor": 0
      },
      "text/plain": [
       "Looping Each Links of Dates: 2018-01-20:   0%|          | 0/7 [00:00<?, ?it/s]"
      ]
     },
     "metadata": {},
     "output_type": "display_data"
    },
    {
     "data": {},
     "metadata": {},
     "output_type": "display_data"
    },
    {
     "data": {
      "application/vnd.jupyter.widget-view+json": {
       "model_id": "",
       "version_major": 2,
       "version_minor": 0
      },
      "text/plain": [
       "Looping Each Links of Dates: 2018-01-19:   0%|          | 0/4 [00:00<?, ?it/s]"
      ]
     },
     "metadata": {},
     "output_type": "display_data"
    },
    {
     "data": {},
     "metadata": {},
     "output_type": "display_data"
    },
    {
     "data": {},
     "metadata": {},
     "output_type": "display_data"
    },
    {
     "data": {},
     "metadata": {},
     "output_type": "display_data"
    },
    {
     "data": {},
     "metadata": {},
     "output_type": "display_data"
    },
    {
     "data": {},
     "metadata": {},
     "output_type": "display_data"
    },
    {
     "data": {},
     "metadata": {},
     "output_type": "display_data"
    },
    {
     "data": {},
     "metadata": {},
     "output_type": "display_data"
    },
    {
     "data": {},
     "metadata": {},
     "output_type": "display_data"
    },
    {
     "data": {},
     "metadata": {},
     "output_type": "display_data"
    },
    {
     "data": {},
     "metadata": {},
     "output_type": "display_data"
    },
    {
     "data": {},
     "metadata": {},
     "output_type": "display_data"
    },
    {
     "data": {},
     "metadata": {},
     "output_type": "display_data"
    },
    {
     "data": {},
     "metadata": {},
     "output_type": "display_data"
    },
    {
     "data": {},
     "metadata": {},
     "output_type": "display_data"
    },
    {
     "data": {},
     "metadata": {},
     "output_type": "display_data"
    },
    {
     "data": {},
     "metadata": {},
     "output_type": "display_data"
    },
    {
     "data": {},
     "metadata": {},
     "output_type": "display_data"
    },
    {
     "data": {},
     "metadata": {},
     "output_type": "display_data"
    },
    {
     "data": {},
     "metadata": {},
     "output_type": "display_data"
    },
    {
     "data": {},
     "metadata": {},
     "output_type": "display_data"
    },
    {
     "data": {},
     "metadata": {},
     "output_type": "display_data"
    },
    {
     "data": {},
     "metadata": {},
     "output_type": "display_data"
    },
    {
     "data": {},
     "metadata": {},
     "output_type": "display_data"
    },
    {
     "data": {},
     "metadata": {},
     "output_type": "display_data"
    },
    {
     "data": {},
     "metadata": {},
     "output_type": "display_data"
    },
    {
     "data": {},
     "metadata": {},
     "output_type": "display_data"
    },
    {
     "data": {},
     "metadata": {},
     "output_type": "display_data"
    },
    {
     "data": {},
     "metadata": {},
     "output_type": "display_data"
    },
    {
     "data": {},
     "metadata": {},
     "output_type": "display_data"
    },
    {
     "data": {},
     "metadata": {},
     "output_type": "display_data"
    },
    {
     "data": {},
     "metadata": {},
     "output_type": "display_data"
    },
    {
     "data": {},
     "metadata": {},
     "output_type": "display_data"
    },
    {
     "data": {},
     "metadata": {},
     "output_type": "display_data"
    },
    {
     "data": {},
     "metadata": {},
     "output_type": "display_data"
    },
    {
     "data": {},
     "metadata": {},
     "output_type": "display_data"
    },
    {
     "data": {},
     "metadata": {},
     "output_type": "display_data"
    },
    {
     "data": {},
     "metadata": {},
     "output_type": "display_data"
    },
    {
     "data": {},
     "metadata": {},
     "output_type": "display_data"
    },
    {
     "data": {},
     "metadata": {},
     "output_type": "display_data"
    },
    {
     "data": {},
     "metadata": {},
     "output_type": "display_data"
    },
    {
     "data": {},
     "metadata": {},
     "output_type": "display_data"
    },
    {
     "data": {},
     "metadata": {},
     "output_type": "display_data"
    },
    {
     "data": {},
     "metadata": {},
     "output_type": "display_data"
    },
    {
     "data": {},
     "metadata": {},
     "output_type": "display_data"
    },
    {
     "data": {},
     "metadata": {},
     "output_type": "display_data"
    },
    {
     "data": {},
     "metadata": {},
     "output_type": "display_data"
    },
    {
     "data": {},
     "metadata": {},
     "output_type": "display_data"
    },
    {
     "data": {},
     "metadata": {},
     "output_type": "display_data"
    },
    {
     "data": {},
     "metadata": {},
     "output_type": "display_data"
    },
    {
     "data": {},
     "metadata": {},
     "output_type": "display_data"
    },
    {
     "data": {},
     "metadata": {},
     "output_type": "display_data"
    },
    {
     "data": {},
     "metadata": {},
     "output_type": "display_data"
    },
    {
     "data": {},
     "metadata": {},
     "output_type": "display_data"
    },
    {
     "data": {},
     "metadata": {},
     "output_type": "display_data"
    },
    {
     "data": {},
     "metadata": {},
     "output_type": "display_data"
    },
    {
     "data": {},
     "metadata": {},
     "output_type": "display_data"
    },
    {
     "data": {},
     "metadata": {},
     "output_type": "display_data"
    },
    {
     "data": {},
     "metadata": {},
     "output_type": "display_data"
    },
    {
     "data": {},
     "metadata": {},
     "output_type": "display_data"
    },
    {
     "data": {},
     "metadata": {},
     "output_type": "display_data"
    },
    {
     "data": {},
     "metadata": {},
     "output_type": "display_data"
    },
    {
     "data": {},
     "metadata": {},
     "output_type": "display_data"
    },
    {
     "data": {},
     "metadata": {},
     "output_type": "display_data"
    },
    {
     "data": {
      "application/vnd.jupyter.widget-view+json": {
       "model_id": "",
       "version_major": 2,
       "version_minor": 0
      },
      "text/plain": [
       "Looping Each Links of Dates: 2017-11-17:   0%|          | 0/1 [00:00<?, ?it/s]"
      ]
     },
     "metadata": {},
     "output_type": "display_data"
    },
    {
     "data": {},
     "metadata": {},
     "output_type": "display_data"
    },
    {
     "data": {},
     "metadata": {},
     "output_type": "display_data"
    },
    {
     "data": {},
     "metadata": {},
     "output_type": "display_data"
    },
    {
     "data": {},
     "metadata": {},
     "output_type": "display_data"
    },
    {
     "data": {},
     "metadata": {},
     "output_type": "display_data"
    },
    {
     "data": {},
     "metadata": {},
     "output_type": "display_data"
    },
    {
     "data": {},
     "metadata": {},
     "output_type": "display_data"
    },
    {
     "data": {},
     "metadata": {},
     "output_type": "display_data"
    },
    {
     "data": {},
     "metadata": {},
     "output_type": "display_data"
    },
    {
     "data": {},
     "metadata": {},
     "output_type": "display_data"
    },
    {
     "data": {},
     "metadata": {},
     "output_type": "display_data"
    },
    {
     "data": {},
     "metadata": {},
     "output_type": "display_data"
    },
    {
     "data": {},
     "metadata": {},
     "output_type": "display_data"
    },
    {
     "data": {},
     "metadata": {},
     "output_type": "display_data"
    },
    {
     "data": {},
     "metadata": {},
     "output_type": "display_data"
    },
    {
     "data": {},
     "metadata": {},
     "output_type": "display_data"
    },
    {
     "data": {},
     "metadata": {},
     "output_type": "display_data"
    },
    {
     "data": {},
     "metadata": {},
     "output_type": "display_data"
    },
    {
     "data": {},
     "metadata": {},
     "output_type": "display_data"
    },
    {
     "data": {},
     "metadata": {},
     "output_type": "display_data"
    },
    {
     "data": {},
     "metadata": {},
     "output_type": "display_data"
    },
    {
     "data": {},
     "metadata": {},
     "output_type": "display_data"
    },
    {
     "data": {},
     "metadata": {},
     "output_type": "display_data"
    },
    {
     "data": {},
     "metadata": {},
     "output_type": "display_data"
    },
    {
     "data": {},
     "metadata": {},
     "output_type": "display_data"
    },
    {
     "data": {},
     "metadata": {},
     "output_type": "display_data"
    },
    {
     "data": {},
     "metadata": {},
     "output_type": "display_data"
    },
    {
     "data": {},
     "metadata": {},
     "output_type": "display_data"
    },
    {
     "data": {},
     "metadata": {},
     "output_type": "display_data"
    },
    {
     "data": {},
     "metadata": {},
     "output_type": "display_data"
    },
    {
     "data": {},
     "metadata": {},
     "output_type": "display_data"
    },
    {
     "data": {},
     "metadata": {},
     "output_type": "display_data"
    },
    {
     "data": {},
     "metadata": {},
     "output_type": "display_data"
    },
    {
     "data": {},
     "metadata": {},
     "output_type": "display_data"
    },
    {
     "data": {},
     "metadata": {},
     "output_type": "display_data"
    },
    {
     "data": {},
     "metadata": {},
     "output_type": "display_data"
    },
    {
     "data": {},
     "metadata": {},
     "output_type": "display_data"
    },
    {
     "data": {},
     "metadata": {},
     "output_type": "display_data"
    },
    {
     "data": {},
     "metadata": {},
     "output_type": "display_data"
    },
    {
     "data": {},
     "metadata": {},
     "output_type": "display_data"
    },
    {
     "data": {},
     "metadata": {},
     "output_type": "display_data"
    },
    {
     "data": {},
     "metadata": {},
     "output_type": "display_data"
    },
    {
     "data": {},
     "metadata": {},
     "output_type": "display_data"
    },
    {
     "data": {},
     "metadata": {},
     "output_type": "display_data"
    },
    {
     "data": {},
     "metadata": {},
     "output_type": "display_data"
    },
    {
     "data": {},
     "metadata": {},
     "output_type": "display_data"
    },
    {
     "data": {},
     "metadata": {},
     "output_type": "display_data"
    },
    {
     "data": {},
     "metadata": {},
     "output_type": "display_data"
    },
    {
     "data": {},
     "metadata": {},
     "output_type": "display_data"
    },
    {
     "data": {},
     "metadata": {},
     "output_type": "display_data"
    },
    {
     "data": {},
     "metadata": {},
     "output_type": "display_data"
    },
    {
     "data": {},
     "metadata": {},
     "output_type": "display_data"
    },
    {
     "data": {},
     "metadata": {},
     "output_type": "display_data"
    },
    {
     "data": {},
     "metadata": {},
     "output_type": "display_data"
    },
    {
     "data": {},
     "metadata": {},
     "output_type": "display_data"
    },
    {
     "data": {},
     "metadata": {},
     "output_type": "display_data"
    },
    {
     "data": {},
     "metadata": {},
     "output_type": "display_data"
    },
    {
     "data": {},
     "metadata": {},
     "output_type": "display_data"
    },
    {
     "data": {},
     "metadata": {},
     "output_type": "display_data"
    },
    {
     "data": {},
     "metadata": {},
     "output_type": "display_data"
    },
    {
     "data": {},
     "metadata": {},
     "output_type": "display_data"
    },
    {
     "data": {},
     "metadata": {},
     "output_type": "display_data"
    },
    {
     "data": {},
     "metadata": {},
     "output_type": "display_data"
    },
    {
     "data": {},
     "metadata": {},
     "output_type": "display_data"
    },
    {
     "data": {},
     "metadata": {},
     "output_type": "display_data"
    },
    {
     "data": {},
     "metadata": {},
     "output_type": "display_data"
    },
    {
     "data": {},
     "metadata": {},
     "output_type": "display_data"
    },
    {
     "data": {},
     "metadata": {},
     "output_type": "display_data"
    },
    {
     "data": {},
     "metadata": {},
     "output_type": "display_data"
    },
    {
     "data": {},
     "metadata": {},
     "output_type": "display_data"
    },
    {
     "data": {},
     "metadata": {},
     "output_type": "display_data"
    },
    {
     "data": {},
     "metadata": {},
     "output_type": "display_data"
    },
    {
     "data": {},
     "metadata": {},
     "output_type": "display_data"
    },
    {
     "data": {},
     "metadata": {},
     "output_type": "display_data"
    },
    {
     "data": {},
     "metadata": {},
     "output_type": "display_data"
    },
    {
     "data": {},
     "metadata": {},
     "output_type": "display_data"
    },
    {
     "data": {},
     "metadata": {},
     "output_type": "display_data"
    },
    {
     "data": {},
     "metadata": {},
     "output_type": "display_data"
    },
    {
     "data": {},
     "metadata": {},
     "output_type": "display_data"
    },
    {
     "data": {},
     "metadata": {},
     "output_type": "display_data"
    },
    {
     "data": {},
     "metadata": {},
     "output_type": "display_data"
    },
    {
     "data": {},
     "metadata": {},
     "output_type": "display_data"
    },
    {
     "data": {},
     "metadata": {},
     "output_type": "display_data"
    },
    {
     "data": {},
     "metadata": {},
     "output_type": "display_data"
    },
    {
     "data": {},
     "metadata": {},
     "output_type": "display_data"
    },
    {
     "data": {},
     "metadata": {},
     "output_type": "display_data"
    },
    {
     "data": {},
     "metadata": {},
     "output_type": "display_data"
    },
    {
     "data": {},
     "metadata": {},
     "output_type": "display_data"
    },
    {
     "data": {},
     "metadata": {},
     "output_type": "display_data"
    },
    {
     "data": {},
     "metadata": {},
     "output_type": "display_data"
    },
    {
     "data": {},
     "metadata": {},
     "output_type": "display_data"
    },
    {
     "data": {},
     "metadata": {},
     "output_type": "display_data"
    },
    {
     "data": {},
     "metadata": {},
     "output_type": "display_data"
    },
    {
     "data": {},
     "metadata": {},
     "output_type": "display_data"
    },
    {
     "data": {},
     "metadata": {},
     "output_type": "display_data"
    },
    {
     "data": {},
     "metadata": {},
     "output_type": "display_data"
    },
    {
     "data": {},
     "metadata": {},
     "output_type": "display_data"
    },
    {
     "data": {},
     "metadata": {},
     "output_type": "display_data"
    },
    {
     "data": {},
     "metadata": {},
     "output_type": "display_data"
    },
    {
     "data": {},
     "metadata": {},
     "output_type": "display_data"
    },
    {
     "data": {},
     "metadata": {},
     "output_type": "display_data"
    },
    {
     "data": {},
     "metadata": {},
     "output_type": "display_data"
    },
    {
     "data": {},
     "metadata": {},
     "output_type": "display_data"
    },
    {
     "data": {},
     "metadata": {},
     "output_type": "display_data"
    },
    {
     "data": {},
     "metadata": {},
     "output_type": "display_data"
    },
    {
     "data": {},
     "metadata": {},
     "output_type": "display_data"
    },
    {
     "data": {},
     "metadata": {},
     "output_type": "display_data"
    },
    {
     "data": {},
     "metadata": {},
     "output_type": "display_data"
    },
    {
     "data": {},
     "metadata": {},
     "output_type": "display_data"
    },
    {
     "data": {},
     "metadata": {},
     "output_type": "display_data"
    },
    {
     "data": {},
     "metadata": {},
     "output_type": "display_data"
    },
    {
     "data": {},
     "metadata": {},
     "output_type": "display_data"
    },
    {
     "data": {},
     "metadata": {},
     "output_type": "display_data"
    },
    {
     "data": {},
     "metadata": {},
     "output_type": "display_data"
    },
    {
     "data": {},
     "metadata": {},
     "output_type": "display_data"
    },
    {
     "data": {},
     "metadata": {},
     "output_type": "display_data"
    },
    {
     "data": {},
     "metadata": {},
     "output_type": "display_data"
    },
    {
     "data": {},
     "metadata": {},
     "output_type": "display_data"
    },
    {
     "data": {},
     "metadata": {},
     "output_type": "display_data"
    },
    {
     "data": {},
     "metadata": {},
     "output_type": "display_data"
    },
    {
     "data": {},
     "metadata": {},
     "output_type": "display_data"
    },
    {
     "data": {},
     "metadata": {},
     "output_type": "display_data"
    },
    {
     "data": {},
     "metadata": {},
     "output_type": "display_data"
    },
    {
     "data": {},
     "metadata": {},
     "output_type": "display_data"
    },
    {
     "data": {},
     "metadata": {},
     "output_type": "display_data"
    },
    {
     "data": {},
     "metadata": {},
     "output_type": "display_data"
    },
    {
     "data": {},
     "metadata": {},
     "output_type": "display_data"
    },
    {
     "data": {},
     "metadata": {},
     "output_type": "display_data"
    },
    {
     "data": {},
     "metadata": {},
     "output_type": "display_data"
    },
    {
     "data": {},
     "metadata": {},
     "output_type": "display_data"
    },
    {
     "data": {},
     "metadata": {},
     "output_type": "display_data"
    },
    {
     "data": {},
     "metadata": {},
     "output_type": "display_data"
    },
    {
     "data": {},
     "metadata": {},
     "output_type": "display_data"
    },
    {
     "data": {},
     "metadata": {},
     "output_type": "display_data"
    },
    {
     "data": {},
     "metadata": {},
     "output_type": "display_data"
    },
    {
     "data": {},
     "metadata": {},
     "output_type": "display_data"
    },
    {
     "data": {},
     "metadata": {},
     "output_type": "display_data"
    },
    {
     "data": {},
     "metadata": {},
     "output_type": "display_data"
    },
    {
     "data": {},
     "metadata": {},
     "output_type": "display_data"
    },
    {
     "data": {},
     "metadata": {},
     "output_type": "display_data"
    },
    {
     "data": {},
     "metadata": {},
     "output_type": "display_data"
    },
    {
     "data": {},
     "metadata": {},
     "output_type": "display_data"
    },
    {
     "data": {},
     "metadata": {},
     "output_type": "display_data"
    },
    {
     "data": {},
     "metadata": {},
     "output_type": "display_data"
    },
    {
     "data": {},
     "metadata": {},
     "output_type": "display_data"
    },
    {
     "data": {},
     "metadata": {},
     "output_type": "display_data"
    },
    {
     "data": {},
     "metadata": {},
     "output_type": "display_data"
    },
    {
     "data": {},
     "metadata": {},
     "output_type": "display_data"
    },
    {
     "data": {},
     "metadata": {},
     "output_type": "display_data"
    },
    {
     "data": {},
     "metadata": {},
     "output_type": "display_data"
    },
    {
     "data": {},
     "metadata": {},
     "output_type": "display_data"
    },
    {
     "data": {},
     "metadata": {},
     "output_type": "display_data"
    },
    {
     "data": {},
     "metadata": {},
     "output_type": "display_data"
    },
    {
     "data": {},
     "metadata": {},
     "output_type": "display_data"
    },
    {
     "data": {},
     "metadata": {},
     "output_type": "display_data"
    },
    {
     "data": {},
     "metadata": {},
     "output_type": "display_data"
    },
    {
     "data": {},
     "metadata": {},
     "output_type": "display_data"
    },
    {
     "data": {},
     "metadata": {},
     "output_type": "display_data"
    },
    {
     "data": {},
     "metadata": {},
     "output_type": "display_data"
    },
    {
     "data": {},
     "metadata": {},
     "output_type": "display_data"
    },
    {
     "data": {},
     "metadata": {},
     "output_type": "display_data"
    },
    {
     "data": {},
     "metadata": {},
     "output_type": "display_data"
    },
    {
     "data": {},
     "metadata": {},
     "output_type": "display_data"
    },
    {
     "data": {},
     "metadata": {},
     "output_type": "display_data"
    },
    {
     "data": {},
     "metadata": {},
     "output_type": "display_data"
    },
    {
     "data": {},
     "metadata": {},
     "output_type": "display_data"
    },
    {
     "data": {},
     "metadata": {},
     "output_type": "display_data"
    },
    {
     "data": {},
     "metadata": {},
     "output_type": "display_data"
    },
    {
     "data": {},
     "metadata": {},
     "output_type": "display_data"
    },
    {
     "data": {},
     "metadata": {},
     "output_type": "display_data"
    },
    {
     "data": {},
     "metadata": {},
     "output_type": "display_data"
    },
    {
     "data": {},
     "metadata": {},
     "output_type": "display_data"
    },
    {
     "data": {},
     "metadata": {},
     "output_type": "display_data"
    },
    {
     "data": {},
     "metadata": {},
     "output_type": "display_data"
    },
    {
     "data": {},
     "metadata": {},
     "output_type": "display_data"
    },
    {
     "data": {},
     "metadata": {},
     "output_type": "display_data"
    },
    {
     "data": {},
     "metadata": {},
     "output_type": "display_data"
    },
    {
     "data": {},
     "metadata": {},
     "output_type": "display_data"
    },
    {
     "data": {},
     "metadata": {},
     "output_type": "display_data"
    },
    {
     "data": {},
     "metadata": {},
     "output_type": "display_data"
    },
    {
     "data": {},
     "metadata": {},
     "output_type": "display_data"
    },
    {
     "data": {},
     "metadata": {},
     "output_type": "display_data"
    },
    {
     "data": {},
     "metadata": {},
     "output_type": "display_data"
    },
    {
     "data": {},
     "metadata": {},
     "output_type": "display_data"
    },
    {
     "data": {},
     "metadata": {},
     "output_type": "display_data"
    },
    {
     "data": {},
     "metadata": {},
     "output_type": "display_data"
    },
    {
     "data": {},
     "metadata": {},
     "output_type": "display_data"
    },
    {
     "data": {},
     "metadata": {},
     "output_type": "display_data"
    },
    {
     "data": {},
     "metadata": {},
     "output_type": "display_data"
    },
    {
     "data": {},
     "metadata": {},
     "output_type": "display_data"
    },
    {
     "data": {},
     "metadata": {},
     "output_type": "display_data"
    },
    {
     "data": {},
     "metadata": {},
     "output_type": "display_data"
    },
    {
     "data": {},
     "metadata": {},
     "output_type": "display_data"
    },
    {
     "data": {},
     "metadata": {},
     "output_type": "display_data"
    },
    {
     "data": {},
     "metadata": {},
     "output_type": "display_data"
    },
    {
     "data": {},
     "metadata": {},
     "output_type": "display_data"
    },
    {
     "data": {},
     "metadata": {},
     "output_type": "display_data"
    },
    {
     "data": {},
     "metadata": {},
     "output_type": "display_data"
    },
    {
     "data": {},
     "metadata": {},
     "output_type": "display_data"
    },
    {
     "data": {},
     "metadata": {},
     "output_type": "display_data"
    },
    {
     "data": {},
     "metadata": {},
     "output_type": "display_data"
    },
    {
     "data": {},
     "metadata": {},
     "output_type": "display_data"
    },
    {
     "data": {},
     "metadata": {},
     "output_type": "display_data"
    },
    {
     "data": {},
     "metadata": {},
     "output_type": "display_data"
    },
    {
     "data": {},
     "metadata": {},
     "output_type": "display_data"
    },
    {
     "data": {},
     "metadata": {},
     "output_type": "display_data"
    },
    {
     "data": {},
     "metadata": {},
     "output_type": "display_data"
    },
    {
     "data": {},
     "metadata": {},
     "output_type": "display_data"
    },
    {
     "data": {},
     "metadata": {},
     "output_type": "display_data"
    },
    {
     "data": {},
     "metadata": {},
     "output_type": "display_data"
    },
    {
     "data": {},
     "metadata": {},
     "output_type": "display_data"
    },
    {
     "data": {},
     "metadata": {},
     "output_type": "display_data"
    },
    {
     "data": {},
     "metadata": {},
     "output_type": "display_data"
    },
    {
     "data": {},
     "metadata": {},
     "output_type": "display_data"
    },
    {
     "data": {},
     "metadata": {},
     "output_type": "display_data"
    },
    {
     "data": {},
     "metadata": {},
     "output_type": "display_data"
    },
    {
     "data": {},
     "metadata": {},
     "output_type": "display_data"
    },
    {
     "data": {},
     "metadata": {},
     "output_type": "display_data"
    },
    {
     "data": {},
     "metadata": {},
     "output_type": "display_data"
    },
    {
     "data": {},
     "metadata": {},
     "output_type": "display_data"
    },
    {
     "data": {},
     "metadata": {},
     "output_type": "display_data"
    },
    {
     "data": {},
     "metadata": {},
     "output_type": "display_data"
    },
    {
     "data": {},
     "metadata": {},
     "output_type": "display_data"
    },
    {
     "data": {},
     "metadata": {},
     "output_type": "display_data"
    },
    {
     "data": {},
     "metadata": {},
     "output_type": "display_data"
    },
    {
     "data": {},
     "metadata": {},
     "output_type": "display_data"
    },
    {
     "data": {},
     "metadata": {},
     "output_type": "display_data"
    },
    {
     "data": {},
     "metadata": {},
     "output_type": "display_data"
    },
    {
     "data": {},
     "metadata": {},
     "output_type": "display_data"
    },
    {
     "data": {},
     "metadata": {},
     "output_type": "display_data"
    },
    {
     "data": {},
     "metadata": {},
     "output_type": "display_data"
    },
    {
     "data": {},
     "metadata": {},
     "output_type": "display_data"
    },
    {
     "data": {},
     "metadata": {},
     "output_type": "display_data"
    },
    {
     "data": {},
     "metadata": {},
     "output_type": "display_data"
    },
    {
     "data": {},
     "metadata": {},
     "output_type": "display_data"
    },
    {
     "data": {},
     "metadata": {},
     "output_type": "display_data"
    },
    {
     "data": {},
     "metadata": {},
     "output_type": "display_data"
    },
    {
     "data": {},
     "metadata": {},
     "output_type": "display_data"
    },
    {
     "data": {},
     "metadata": {},
     "output_type": "display_data"
    },
    {
     "data": {},
     "metadata": {},
     "output_type": "display_data"
    },
    {
     "data": {},
     "metadata": {},
     "output_type": "display_data"
    },
    {
     "data": {},
     "metadata": {},
     "output_type": "display_data"
    },
    {
     "data": {},
     "metadata": {},
     "output_type": "display_data"
    },
    {
     "data": {},
     "metadata": {},
     "output_type": "display_data"
    },
    {
     "data": {},
     "metadata": {},
     "output_type": "display_data"
    },
    {
     "data": {},
     "metadata": {},
     "output_type": "display_data"
    },
    {
     "data": {},
     "metadata": {},
     "output_type": "display_data"
    },
    {
     "data": {},
     "metadata": {},
     "output_type": "display_data"
    },
    {
     "data": {},
     "metadata": {},
     "output_type": "display_data"
    },
    {
     "data": {},
     "metadata": {},
     "output_type": "display_data"
    },
    {
     "data": {},
     "metadata": {},
     "output_type": "display_data"
    },
    {
     "data": {},
     "metadata": {},
     "output_type": "display_data"
    },
    {
     "data": {},
     "metadata": {},
     "output_type": "display_data"
    },
    {
     "data": {},
     "metadata": {},
     "output_type": "display_data"
    },
    {
     "data": {},
     "metadata": {},
     "output_type": "display_data"
    },
    {
     "data": {},
     "metadata": {},
     "output_type": "display_data"
    },
    {
     "data": {},
     "metadata": {},
     "output_type": "display_data"
    },
    {
     "data": {},
     "metadata": {},
     "output_type": "display_data"
    },
    {
     "data": {},
     "metadata": {},
     "output_type": "display_data"
    },
    {
     "data": {},
     "metadata": {},
     "output_type": "display_data"
    },
    {
     "data": {},
     "metadata": {},
     "output_type": "display_data"
    },
    {
     "data": {},
     "metadata": {},
     "output_type": "display_data"
    },
    {
     "data": {},
     "metadata": {},
     "output_type": "display_data"
    },
    {
     "data": {},
     "metadata": {},
     "output_type": "display_data"
    },
    {
     "data": {},
     "metadata": {},
     "output_type": "display_data"
    },
    {
     "data": {},
     "metadata": {},
     "output_type": "display_data"
    },
    {
     "data": {},
     "metadata": {},
     "output_type": "display_data"
    },
    {
     "data": {},
     "metadata": {},
     "output_type": "display_data"
    },
    {
     "data": {},
     "metadata": {},
     "output_type": "display_data"
    },
    {
     "data": {},
     "metadata": {},
     "output_type": "display_data"
    },
    {
     "data": {},
     "metadata": {},
     "output_type": "display_data"
    },
    {
     "data": {},
     "metadata": {},
     "output_type": "display_data"
    },
    {
     "data": {},
     "metadata": {},
     "output_type": "display_data"
    },
    {
     "data": {},
     "metadata": {},
     "output_type": "display_data"
    },
    {
     "data": {},
     "metadata": {},
     "output_type": "display_data"
    },
    {
     "data": {},
     "metadata": {},
     "output_type": "display_data"
    },
    {
     "data": {},
     "metadata": {},
     "output_type": "display_data"
    },
    {
     "data": {},
     "metadata": {},
     "output_type": "display_data"
    },
    {
     "data": {},
     "metadata": {},
     "output_type": "display_data"
    },
    {
     "data": {},
     "metadata": {},
     "output_type": "display_data"
    },
    {
     "data": {},
     "metadata": {},
     "output_type": "display_data"
    },
    {
     "data": {},
     "metadata": {},
     "output_type": "display_data"
    },
    {
     "data": {},
     "metadata": {},
     "output_type": "display_data"
    },
    {
     "data": {},
     "metadata": {},
     "output_type": "display_data"
    },
    {
     "data": {},
     "metadata": {},
     "output_type": "display_data"
    },
    {
     "data": {},
     "metadata": {},
     "output_type": "display_data"
    },
    {
     "data": {},
     "metadata": {},
     "output_type": "display_data"
    },
    {
     "data": {},
     "metadata": {},
     "output_type": "display_data"
    },
    {
     "data": {},
     "metadata": {},
     "output_type": "display_data"
    },
    {
     "data": {},
     "metadata": {},
     "output_type": "display_data"
    },
    {
     "data": {},
     "metadata": {},
     "output_type": "display_data"
    },
    {
     "data": {},
     "metadata": {},
     "output_type": "display_data"
    },
    {
     "data": {},
     "metadata": {},
     "output_type": "display_data"
    },
    {
     "data": {},
     "metadata": {},
     "output_type": "display_data"
    },
    {
     "data": {},
     "metadata": {},
     "output_type": "display_data"
    },
    {
     "data": {},
     "metadata": {},
     "output_type": "display_data"
    },
    {
     "data": {},
     "metadata": {},
     "output_type": "display_data"
    },
    {
     "data": {},
     "metadata": {},
     "output_type": "display_data"
    },
    {
     "data": {},
     "metadata": {},
     "output_type": "display_data"
    },
    {
     "data": {},
     "metadata": {},
     "output_type": "display_data"
    },
    {
     "data": {},
     "metadata": {},
     "output_type": "display_data"
    },
    {
     "data": {},
     "metadata": {},
     "output_type": "display_data"
    },
    {
     "data": {},
     "metadata": {},
     "output_type": "display_data"
    },
    {
     "data": {},
     "metadata": {},
     "output_type": "display_data"
    },
    {
     "data": {},
     "metadata": {},
     "output_type": "display_data"
    },
    {
     "data": {},
     "metadata": {},
     "output_type": "display_data"
    },
    {
     "data": {},
     "metadata": {},
     "output_type": "display_data"
    },
    {
     "data": {},
     "metadata": {},
     "output_type": "display_data"
    },
    {
     "data": {},
     "metadata": {},
     "output_type": "display_data"
    },
    {
     "data": {},
     "metadata": {},
     "output_type": "display_data"
    },
    {
     "data": {},
     "metadata": {},
     "output_type": "display_data"
    },
    {
     "data": {},
     "metadata": {},
     "output_type": "display_data"
    },
    {
     "data": {},
     "metadata": {},
     "output_type": "display_data"
    },
    {
     "data": {},
     "metadata": {},
     "output_type": "display_data"
    },
    {
     "data": {},
     "metadata": {},
     "output_type": "display_data"
    },
    {
     "data": {},
     "metadata": {},
     "output_type": "display_data"
    },
    {
     "data": {},
     "metadata": {},
     "output_type": "display_data"
    },
    {
     "data": {},
     "metadata": {},
     "output_type": "display_data"
    },
    {
     "data": {},
     "metadata": {},
     "output_type": "display_data"
    },
    {
     "data": {},
     "metadata": {},
     "output_type": "display_data"
    },
    {
     "data": {},
     "metadata": {},
     "output_type": "display_data"
    },
    {
     "data": {},
     "metadata": {},
     "output_type": "display_data"
    },
    {
     "data": {},
     "metadata": {},
     "output_type": "display_data"
    },
    {
     "data": {},
     "metadata": {},
     "output_type": "display_data"
    },
    {
     "data": {},
     "metadata": {},
     "output_type": "display_data"
    },
    {
     "data": {},
     "metadata": {},
     "output_type": "display_data"
    },
    {
     "data": {},
     "metadata": {},
     "output_type": "display_data"
    },
    {
     "data": {},
     "metadata": {},
     "output_type": "display_data"
    },
    {
     "data": {},
     "metadata": {},
     "output_type": "display_data"
    },
    {
     "data": {},
     "metadata": {},
     "output_type": "display_data"
    },
    {
     "data": {},
     "metadata": {},
     "output_type": "display_data"
    },
    {
     "data": {},
     "metadata": {},
     "output_type": "display_data"
    },
    {
     "data": {},
     "metadata": {},
     "output_type": "display_data"
    },
    {
     "data": {},
     "metadata": {},
     "output_type": "display_data"
    },
    {
     "data": {},
     "metadata": {},
     "output_type": "display_data"
    },
    {
     "data": {},
     "metadata": {},
     "output_type": "display_data"
    },
    {
     "data": {},
     "metadata": {},
     "output_type": "display_data"
    },
    {
     "data": {},
     "metadata": {},
     "output_type": "display_data"
    },
    {
     "data": {},
     "metadata": {},
     "output_type": "display_data"
    },
    {
     "data": {},
     "metadata": {},
     "output_type": "display_data"
    },
    {
     "data": {},
     "metadata": {},
     "output_type": "display_data"
    },
    {
     "data": {},
     "metadata": {},
     "output_type": "display_data"
    },
    {
     "data": {},
     "metadata": {},
     "output_type": "display_data"
    },
    {
     "data": {},
     "metadata": {},
     "output_type": "display_data"
    },
    {
     "data": {},
     "metadata": {},
     "output_type": "display_data"
    },
    {
     "data": {},
     "metadata": {},
     "output_type": "display_data"
    },
    {
     "data": {},
     "metadata": {},
     "output_type": "display_data"
    },
    {
     "data": {},
     "metadata": {},
     "output_type": "display_data"
    },
    {
     "data": {},
     "metadata": {},
     "output_type": "display_data"
    },
    {
     "data": {},
     "metadata": {},
     "output_type": "display_data"
    },
    {
     "data": {},
     "metadata": {},
     "output_type": "display_data"
    },
    {
     "data": {},
     "metadata": {},
     "output_type": "display_data"
    },
    {
     "data": {},
     "metadata": {},
     "output_type": "display_data"
    },
    {
     "data": {},
     "metadata": {},
     "output_type": "display_data"
    },
    {
     "data": {},
     "metadata": {},
     "output_type": "display_data"
    },
    {
     "data": {},
     "metadata": {},
     "output_type": "display_data"
    },
    {
     "data": {},
     "metadata": {},
     "output_type": "display_data"
    },
    {
     "data": {},
     "metadata": {},
     "output_type": "display_data"
    },
    {
     "data": {},
     "metadata": {},
     "output_type": "display_data"
    },
    {
     "data": {},
     "metadata": {},
     "output_type": "display_data"
    },
    {
     "data": {},
     "metadata": {},
     "output_type": "display_data"
    },
    {
     "data": {},
     "metadata": {},
     "output_type": "display_data"
    },
    {
     "data": {},
     "metadata": {},
     "output_type": "display_data"
    },
    {
     "data": {},
     "metadata": {},
     "output_type": "display_data"
    },
    {
     "data": {},
     "metadata": {},
     "output_type": "display_data"
    },
    {
     "data": {},
     "metadata": {},
     "output_type": "display_data"
    },
    {
     "data": {},
     "metadata": {},
     "output_type": "display_data"
    },
    {
     "data": {},
     "metadata": {},
     "output_type": "display_data"
    },
    {
     "data": {},
     "metadata": {},
     "output_type": "display_data"
    },
    {
     "data": {},
     "metadata": {},
     "output_type": "display_data"
    },
    {
     "data": {},
     "metadata": {},
     "output_type": "display_data"
    },
    {
     "data": {},
     "metadata": {},
     "output_type": "display_data"
    },
    {
     "data": {},
     "metadata": {},
     "output_type": "display_data"
    },
    {
     "data": {},
     "metadata": {},
     "output_type": "display_data"
    },
    {
     "data": {},
     "metadata": {},
     "output_type": "display_data"
    },
    {
     "data": {},
     "metadata": {},
     "output_type": "display_data"
    },
    {
     "data": {},
     "metadata": {},
     "output_type": "display_data"
    },
    {
     "data": {},
     "metadata": {},
     "output_type": "display_data"
    },
    {
     "data": {},
     "metadata": {},
     "output_type": "display_data"
    },
    {
     "data": {},
     "metadata": {},
     "output_type": "display_data"
    },
    {
     "data": {},
     "metadata": {},
     "output_type": "display_data"
    },
    {
     "data": {},
     "metadata": {},
     "output_type": "display_data"
    },
    {
     "data": {},
     "metadata": {},
     "output_type": "display_data"
    },
    {
     "data": {},
     "metadata": {},
     "output_type": "display_data"
    },
    {
     "data": {},
     "metadata": {},
     "output_type": "display_data"
    },
    {
     "data": {},
     "metadata": {},
     "output_type": "display_data"
    },
    {
     "data": {},
     "metadata": {},
     "output_type": "display_data"
    },
    {
     "data": {},
     "metadata": {},
     "output_type": "display_data"
    },
    {
     "data": {},
     "metadata": {},
     "output_type": "display_data"
    },
    {
     "data": {},
     "metadata": {},
     "output_type": "display_data"
    },
    {
     "data": {},
     "metadata": {},
     "output_type": "display_data"
    },
    {
     "data": {},
     "metadata": {},
     "output_type": "display_data"
    },
    {
     "data": {},
     "metadata": {},
     "output_type": "display_data"
    },
    {
     "data": {},
     "metadata": {},
     "output_type": "display_data"
    },
    {
     "data": {},
     "metadata": {},
     "output_type": "display_data"
    },
    {
     "data": {},
     "metadata": {},
     "output_type": "display_data"
    },
    {
     "data": {},
     "metadata": {},
     "output_type": "display_data"
    },
    {
     "data": {},
     "metadata": {},
     "output_type": "display_data"
    },
    {
     "data": {},
     "metadata": {},
     "output_type": "display_data"
    },
    {
     "data": {},
     "metadata": {},
     "output_type": "display_data"
    },
    {
     "data": {},
     "metadata": {},
     "output_type": "display_data"
    },
    {
     "data": {},
     "metadata": {},
     "output_type": "display_data"
    },
    {
     "data": {},
     "metadata": {},
     "output_type": "display_data"
    },
    {
     "data": {},
     "metadata": {},
     "output_type": "display_data"
    },
    {
     "data": {},
     "metadata": {},
     "output_type": "display_data"
    },
    {
     "data": {},
     "metadata": {},
     "output_type": "display_data"
    },
    {
     "data": {},
     "metadata": {},
     "output_type": "display_data"
    },
    {
     "data": {},
     "metadata": {},
     "output_type": "display_data"
    },
    {
     "data": {},
     "metadata": {},
     "output_type": "display_data"
    },
    {
     "data": {},
     "metadata": {},
     "output_type": "display_data"
    },
    {
     "data": {},
     "metadata": {},
     "output_type": "display_data"
    },
    {
     "data": {},
     "metadata": {},
     "output_type": "display_data"
    },
    {
     "data": {},
     "metadata": {},
     "output_type": "display_data"
    },
    {
     "data": {},
     "metadata": {},
     "output_type": "display_data"
    },
    {
     "data": {},
     "metadata": {},
     "output_type": "display_data"
    },
    {
     "data": {},
     "metadata": {},
     "output_type": "display_data"
    },
    {
     "data": {},
     "metadata": {},
     "output_type": "display_data"
    },
    {
     "data": {},
     "metadata": {},
     "output_type": "display_data"
    },
    {
     "data": {},
     "metadata": {},
     "output_type": "display_data"
    },
    {
     "data": {},
     "metadata": {},
     "output_type": "display_data"
    },
    {
     "data": {},
     "metadata": {},
     "output_type": "display_data"
    },
    {
     "data": {},
     "metadata": {},
     "output_type": "display_data"
    },
    {
     "data": {},
     "metadata": {},
     "output_type": "display_data"
    },
    {
     "data": {},
     "metadata": {},
     "output_type": "display_data"
    },
    {
     "data": {},
     "metadata": {},
     "output_type": "display_data"
    },
    {
     "data": {},
     "metadata": {},
     "output_type": "display_data"
    },
    {
     "data": {},
     "metadata": {},
     "output_type": "display_data"
    },
    {
     "data": {},
     "metadata": {},
     "output_type": "display_data"
    },
    {
     "data": {},
     "metadata": {},
     "output_type": "display_data"
    },
    {
     "data": {},
     "metadata": {},
     "output_type": "display_data"
    },
    {
     "data": {},
     "metadata": {},
     "output_type": "display_data"
    },
    {
     "data": {},
     "metadata": {},
     "output_type": "display_data"
    },
    {
     "data": {},
     "metadata": {},
     "output_type": "display_data"
    },
    {
     "data": {},
     "metadata": {},
     "output_type": "display_data"
    },
    {
     "data": {},
     "metadata": {},
     "output_type": "display_data"
    },
    {
     "data": {},
     "metadata": {},
     "output_type": "display_data"
    },
    {
     "data": {},
     "metadata": {},
     "output_type": "display_data"
    },
    {
     "data": {},
     "metadata": {},
     "output_type": "display_data"
    },
    {
     "data": {},
     "metadata": {},
     "output_type": "display_data"
    },
    {
     "data": {},
     "metadata": {},
     "output_type": "display_data"
    },
    {
     "data": {},
     "metadata": {},
     "output_type": "display_data"
    },
    {
     "data": {},
     "metadata": {},
     "output_type": "display_data"
    },
    {
     "data": {},
     "metadata": {},
     "output_type": "display_data"
    },
    {
     "data": {},
     "metadata": {},
     "output_type": "display_data"
    },
    {
     "data": {},
     "metadata": {},
     "output_type": "display_data"
    },
    {
     "data": {},
     "metadata": {},
     "output_type": "display_data"
    },
    {
     "data": {},
     "metadata": {},
     "output_type": "display_data"
    },
    {
     "data": {},
     "metadata": {},
     "output_type": "display_data"
    },
    {
     "data": {},
     "metadata": {},
     "output_type": "display_data"
    },
    {
     "data": {},
     "metadata": {},
     "output_type": "display_data"
    },
    {
     "data": {},
     "metadata": {},
     "output_type": "display_data"
    },
    {
     "data": {},
     "metadata": {},
     "output_type": "display_data"
    },
    {
     "data": {},
     "metadata": {},
     "output_type": "display_data"
    },
    {
     "data": {},
     "metadata": {},
     "output_type": "display_data"
    },
    {
     "data": {},
     "metadata": {},
     "output_type": "display_data"
    },
    {
     "data": {},
     "metadata": {},
     "output_type": "display_data"
    },
    {
     "data": {},
     "metadata": {},
     "output_type": "display_data"
    },
    {
     "data": {},
     "metadata": {},
     "output_type": "display_data"
    },
    {
     "data": {},
     "metadata": {},
     "output_type": "display_data"
    },
    {
     "data": {},
     "metadata": {},
     "output_type": "display_data"
    },
    {
     "data": {},
     "metadata": {},
     "output_type": "display_data"
    },
    {
     "data": {},
     "metadata": {},
     "output_type": "display_data"
    },
    {
     "data": {},
     "metadata": {},
     "output_type": "display_data"
    },
    {
     "data": {},
     "metadata": {},
     "output_type": "display_data"
    },
    {
     "data": {},
     "metadata": {},
     "output_type": "display_data"
    },
    {
     "data": {},
     "metadata": {},
     "output_type": "display_data"
    },
    {
     "data": {},
     "metadata": {},
     "output_type": "display_data"
    },
    {
     "data": {},
     "metadata": {},
     "output_type": "display_data"
    },
    {
     "data": {},
     "metadata": {},
     "output_type": "display_data"
    },
    {
     "data": {},
     "metadata": {},
     "output_type": "display_data"
    },
    {
     "data": {},
     "metadata": {},
     "output_type": "display_data"
    },
    {
     "data": {},
     "metadata": {},
     "output_type": "display_data"
    },
    {
     "data": {},
     "metadata": {},
     "output_type": "display_data"
    },
    {
     "data": {},
     "metadata": {},
     "output_type": "display_data"
    },
    {
     "data": {},
     "metadata": {},
     "output_type": "display_data"
    },
    {
     "data": {},
     "metadata": {},
     "output_type": "display_data"
    },
    {
     "data": {},
     "metadata": {},
     "output_type": "display_data"
    },
    {
     "data": {},
     "metadata": {},
     "output_type": "display_data"
    },
    {
     "data": {},
     "metadata": {},
     "output_type": "display_data"
    },
    {
     "data": {},
     "metadata": {},
     "output_type": "display_data"
    },
    {
     "data": {},
     "metadata": {},
     "output_type": "display_data"
    },
    {
     "data": {},
     "metadata": {},
     "output_type": "display_data"
    },
    {
     "data": {},
     "metadata": {},
     "output_type": "display_data"
    },
    {
     "data": {},
     "metadata": {},
     "output_type": "display_data"
    },
    {
     "data": {},
     "metadata": {},
     "output_type": "display_data"
    },
    {
     "data": {},
     "metadata": {},
     "output_type": "display_data"
    },
    {
     "data": {},
     "metadata": {},
     "output_type": "display_data"
    },
    {
     "data": {},
     "metadata": {},
     "output_type": "display_data"
    },
    {
     "data": {},
     "metadata": {},
     "output_type": "display_data"
    },
    {
     "data": {},
     "metadata": {},
     "output_type": "display_data"
    },
    {
     "data": {},
     "metadata": {},
     "output_type": "display_data"
    },
    {
     "data": {},
     "metadata": {},
     "output_type": "display_data"
    },
    {
     "data": {},
     "metadata": {},
     "output_type": "display_data"
    },
    {
     "data": {},
     "metadata": {},
     "output_type": "display_data"
    },
    {
     "data": {},
     "metadata": {},
     "output_type": "display_data"
    },
    {
     "data": {},
     "metadata": {},
     "output_type": "display_data"
    },
    {
     "data": {},
     "metadata": {},
     "output_type": "display_data"
    },
    {
     "data": {},
     "metadata": {},
     "output_type": "display_data"
    },
    {
     "data": {},
     "metadata": {},
     "output_type": "display_data"
    },
    {
     "data": {},
     "metadata": {},
     "output_type": "display_data"
    },
    {
     "data": {},
     "metadata": {},
     "output_type": "display_data"
    },
    {
     "data": {},
     "metadata": {},
     "output_type": "display_data"
    },
    {
     "data": {},
     "metadata": {},
     "output_type": "display_data"
    },
    {
     "data": {},
     "metadata": {},
     "output_type": "display_data"
    },
    {
     "data": {},
     "metadata": {},
     "output_type": "display_data"
    },
    {
     "data": {},
     "metadata": {},
     "output_type": "display_data"
    },
    {
     "data": {},
     "metadata": {},
     "output_type": "display_data"
    },
    {
     "data": {},
     "metadata": {},
     "output_type": "display_data"
    },
    {
     "data": {},
     "metadata": {},
     "output_type": "display_data"
    },
    {
     "data": {},
     "metadata": {},
     "output_type": "display_data"
    },
    {
     "data": {},
     "metadata": {},
     "output_type": "display_data"
    },
    {
     "data": {},
     "metadata": {},
     "output_type": "display_data"
    },
    {
     "data": {},
     "metadata": {},
     "output_type": "display_data"
    },
    {
     "data": {},
     "metadata": {},
     "output_type": "display_data"
    },
    {
     "data": {},
     "metadata": {},
     "output_type": "display_data"
    },
    {
     "data": {},
     "metadata": {},
     "output_type": "display_data"
    },
    {
     "data": {},
     "metadata": {},
     "output_type": "display_data"
    },
    {
     "data": {},
     "metadata": {},
     "output_type": "display_data"
    },
    {
     "data": {},
     "metadata": {},
     "output_type": "display_data"
    },
    {
     "data": {},
     "metadata": {},
     "output_type": "display_data"
    },
    {
     "data": {},
     "metadata": {},
     "output_type": "display_data"
    },
    {
     "data": {},
     "metadata": {},
     "output_type": "display_data"
    },
    {
     "data": {},
     "metadata": {},
     "output_type": "display_data"
    },
    {
     "data": {},
     "metadata": {},
     "output_type": "display_data"
    },
    {
     "data": {},
     "metadata": {},
     "output_type": "display_data"
    },
    {
     "data": {},
     "metadata": {},
     "output_type": "display_data"
    },
    {
     "data": {},
     "metadata": {},
     "output_type": "display_data"
    },
    {
     "data": {},
     "metadata": {},
     "output_type": "display_data"
    },
    {
     "data": {},
     "metadata": {},
     "output_type": "display_data"
    },
    {
     "data": {},
     "metadata": {},
     "output_type": "display_data"
    },
    {
     "data": {},
     "metadata": {},
     "output_type": "display_data"
    },
    {
     "data": {},
     "metadata": {},
     "output_type": "display_data"
    },
    {
     "data": {},
     "metadata": {},
     "output_type": "display_data"
    },
    {
     "data": {},
     "metadata": {},
     "output_type": "display_data"
    },
    {
     "data": {},
     "metadata": {},
     "output_type": "display_data"
    },
    {
     "data": {},
     "metadata": {},
     "output_type": "display_data"
    },
    {
     "data": {},
     "metadata": {},
     "output_type": "display_data"
    },
    {
     "data": {},
     "metadata": {},
     "output_type": "display_data"
    },
    {
     "data": {},
     "metadata": {},
     "output_type": "display_data"
    },
    {
     "data": {},
     "metadata": {},
     "output_type": "display_data"
    },
    {
     "data": {},
     "metadata": {},
     "output_type": "display_data"
    },
    {
     "data": {},
     "metadata": {},
     "output_type": "display_data"
    },
    {
     "data": {},
     "metadata": {},
     "output_type": "display_data"
    },
    {
     "data": {},
     "metadata": {},
     "output_type": "display_data"
    },
    {
     "data": {},
     "metadata": {},
     "output_type": "display_data"
    },
    {
     "data": {},
     "metadata": {},
     "output_type": "display_data"
    },
    {
     "data": {},
     "metadata": {},
     "output_type": "display_data"
    },
    {
     "data": {},
     "metadata": {},
     "output_type": "display_data"
    },
    {
     "data": {},
     "metadata": {},
     "output_type": "display_data"
    },
    {
     "data": {},
     "metadata": {},
     "output_type": "display_data"
    },
    {
     "data": {},
     "metadata": {},
     "output_type": "display_data"
    },
    {
     "data": {},
     "metadata": {},
     "output_type": "display_data"
    },
    {
     "data": {},
     "metadata": {},
     "output_type": "display_data"
    },
    {
     "data": {},
     "metadata": {},
     "output_type": "display_data"
    },
    {
     "data": {},
     "metadata": {},
     "output_type": "display_data"
    },
    {
     "data": {},
     "metadata": {},
     "output_type": "display_data"
    },
    {
     "data": {},
     "metadata": {},
     "output_type": "display_data"
    },
    {
     "data": {},
     "metadata": {},
     "output_type": "display_data"
    },
    {
     "data": {},
     "metadata": {},
     "output_type": "display_data"
    },
    {
     "data": {},
     "metadata": {},
     "output_type": "display_data"
    },
    {
     "data": {},
     "metadata": {},
     "output_type": "display_data"
    },
    {
     "data": {},
     "metadata": {},
     "output_type": "display_data"
    },
    {
     "data": {},
     "metadata": {},
     "output_type": "display_data"
    },
    {
     "data": {},
     "metadata": {},
     "output_type": "display_data"
    },
    {
     "data": {},
     "metadata": {},
     "output_type": "display_data"
    },
    {
     "data": {},
     "metadata": {},
     "output_type": "display_data"
    },
    {
     "data": {},
     "metadata": {},
     "output_type": "display_data"
    },
    {
     "data": {},
     "metadata": {},
     "output_type": "display_data"
    },
    {
     "data": {},
     "metadata": {},
     "output_type": "display_data"
    },
    {
     "data": {},
     "metadata": {},
     "output_type": "display_data"
    },
    {
     "data": {},
     "metadata": {},
     "output_type": "display_data"
    },
    {
     "data": {},
     "metadata": {},
     "output_type": "display_data"
    },
    {
     "data": {},
     "metadata": {},
     "output_type": "display_data"
    },
    {
     "data": {},
     "metadata": {},
     "output_type": "display_data"
    },
    {
     "data": {},
     "metadata": {},
     "output_type": "display_data"
    },
    {
     "data": {},
     "metadata": {},
     "output_type": "display_data"
    },
    {
     "data": {},
     "metadata": {},
     "output_type": "display_data"
    },
    {
     "data": {},
     "metadata": {},
     "output_type": "display_data"
    },
    {
     "data": {},
     "metadata": {},
     "output_type": "display_data"
    },
    {
     "data": {},
     "metadata": {},
     "output_type": "display_data"
    },
    {
     "data": {},
     "metadata": {},
     "output_type": "display_data"
    },
    {
     "data": {},
     "metadata": {},
     "output_type": "display_data"
    },
    {
     "data": {},
     "metadata": {},
     "output_type": "display_data"
    },
    {
     "data": {},
     "metadata": {},
     "output_type": "display_data"
    },
    {
     "data": {},
     "metadata": {},
     "output_type": "display_data"
    },
    {
     "data": {},
     "metadata": {},
     "output_type": "display_data"
    },
    {
     "data": {},
     "metadata": {},
     "output_type": "display_data"
    },
    {
     "data": {},
     "metadata": {},
     "output_type": "display_data"
    },
    {
     "data": {},
     "metadata": {},
     "output_type": "display_data"
    },
    {
     "data": {},
     "metadata": {},
     "output_type": "display_data"
    },
    {
     "data": {},
     "metadata": {},
     "output_type": "display_data"
    },
    {
     "data": {},
     "metadata": {},
     "output_type": "display_data"
    },
    {
     "data": {},
     "metadata": {},
     "output_type": "display_data"
    },
    {
     "data": {},
     "metadata": {},
     "output_type": "display_data"
    },
    {
     "data": {},
     "metadata": {},
     "output_type": "display_data"
    },
    {
     "data": {},
     "metadata": {},
     "output_type": "display_data"
    },
    {
     "data": {},
     "metadata": {},
     "output_type": "display_data"
    },
    {
     "data": {},
     "metadata": {},
     "output_type": "display_data"
    },
    {
     "data": {},
     "metadata": {},
     "output_type": "display_data"
    },
    {
     "data": {},
     "metadata": {},
     "output_type": "display_data"
    },
    {
     "data": {},
     "metadata": {},
     "output_type": "display_data"
    },
    {
     "data": {},
     "metadata": {},
     "output_type": "display_data"
    },
    {
     "data": {},
     "metadata": {},
     "output_type": "display_data"
    },
    {
     "data": {},
     "metadata": {},
     "output_type": "display_data"
    },
    {
     "data": {},
     "metadata": {},
     "output_type": "display_data"
    },
    {
     "data": {},
     "metadata": {},
     "output_type": "display_data"
    },
    {
     "data": {},
     "metadata": {},
     "output_type": "display_data"
    },
    {
     "data": {},
     "metadata": {},
     "output_type": "display_data"
    },
    {
     "data": {},
     "metadata": {},
     "output_type": "display_data"
    },
    {
     "data": {},
     "metadata": {},
     "output_type": "display_data"
    },
    {
     "data": {},
     "metadata": {},
     "output_type": "display_data"
    },
    {
     "data": {},
     "metadata": {},
     "output_type": "display_data"
    },
    {
     "data": {},
     "metadata": {},
     "output_type": "display_data"
    },
    {
     "data": {},
     "metadata": {},
     "output_type": "display_data"
    },
    {
     "data": {},
     "metadata": {},
     "output_type": "display_data"
    },
    {
     "data": {},
     "metadata": {},
     "output_type": "display_data"
    },
    {
     "data": {},
     "metadata": {},
     "output_type": "display_data"
    },
    {
     "data": {},
     "metadata": {},
     "output_type": "display_data"
    },
    {
     "data": {},
     "metadata": {},
     "output_type": "display_data"
    },
    {
     "data": {},
     "metadata": {},
     "output_type": "display_data"
    },
    {
     "data": {},
     "metadata": {},
     "output_type": "display_data"
    },
    {
     "data": {},
     "metadata": {},
     "output_type": "display_data"
    },
    {
     "data": {},
     "metadata": {},
     "output_type": "display_data"
    },
    {
     "data": {},
     "metadata": {},
     "output_type": "display_data"
    },
    {
     "data": {},
     "metadata": {},
     "output_type": "display_data"
    },
    {
     "data": {},
     "metadata": {},
     "output_type": "display_data"
    },
    {
     "data": {},
     "metadata": {},
     "output_type": "display_data"
    },
    {
     "data": {},
     "metadata": {},
     "output_type": "display_data"
    },
    {
     "data": {},
     "metadata": {},
     "output_type": "display_data"
    },
    {
     "data": {},
     "metadata": {},
     "output_type": "display_data"
    },
    {
     "data": {},
     "metadata": {},
     "output_type": "display_data"
    },
    {
     "data": {},
     "metadata": {},
     "output_type": "display_data"
    },
    {
     "data": {},
     "metadata": {},
     "output_type": "display_data"
    },
    {
     "data": {},
     "metadata": {},
     "output_type": "display_data"
    },
    {
     "data": {},
     "metadata": {},
     "output_type": "display_data"
    },
    {
     "data": {},
     "metadata": {},
     "output_type": "display_data"
    },
    {
     "data": {},
     "metadata": {},
     "output_type": "display_data"
    },
    {
     "data": {},
     "metadata": {},
     "output_type": "display_data"
    },
    {
     "data": {},
     "metadata": {},
     "output_type": "display_data"
    },
    {
     "data": {},
     "metadata": {},
     "output_type": "display_data"
    },
    {
     "data": {},
     "metadata": {},
     "output_type": "display_data"
    },
    {
     "data": {},
     "metadata": {},
     "output_type": "display_data"
    },
    {
     "data": {},
     "metadata": {},
     "output_type": "display_data"
    },
    {
     "data": {},
     "metadata": {},
     "output_type": "display_data"
    },
    {
     "data": {},
     "metadata": {},
     "output_type": "display_data"
    },
    {
     "data": {},
     "metadata": {},
     "output_type": "display_data"
    },
    {
     "data": {},
     "metadata": {},
     "output_type": "display_data"
    },
    {
     "data": {},
     "metadata": {},
     "output_type": "display_data"
    },
    {
     "data": {},
     "metadata": {},
     "output_type": "display_data"
    },
    {
     "data": {},
     "metadata": {},
     "output_type": "display_data"
    },
    {
     "data": {},
     "metadata": {},
     "output_type": "display_data"
    },
    {
     "data": {},
     "metadata": {},
     "output_type": "display_data"
    },
    {
     "data": {},
     "metadata": {},
     "output_type": "display_data"
    },
    {
     "data": {},
     "metadata": {},
     "output_type": "display_data"
    },
    {
     "data": {},
     "metadata": {},
     "output_type": "display_data"
    },
    {
     "data": {},
     "metadata": {},
     "output_type": "display_data"
    },
    {
     "data": {},
     "metadata": {},
     "output_type": "display_data"
    },
    {
     "data": {},
     "metadata": {},
     "output_type": "display_data"
    },
    {
     "data": {},
     "metadata": {},
     "output_type": "display_data"
    },
    {
     "data": {},
     "metadata": {},
     "output_type": "display_data"
    },
    {
     "data": {},
     "metadata": {},
     "output_type": "display_data"
    },
    {
     "data": {},
     "metadata": {},
     "output_type": "display_data"
    },
    {
     "data": {},
     "metadata": {},
     "output_type": "display_data"
    },
    {
     "data": {},
     "metadata": {},
     "output_type": "display_data"
    },
    {
     "data": {},
     "metadata": {},
     "output_type": "display_data"
    },
    {
     "data": {},
     "metadata": {},
     "output_type": "display_data"
    },
    {
     "data": {},
     "metadata": {},
     "output_type": "display_data"
    },
    {
     "data": {},
     "metadata": {},
     "output_type": "display_data"
    },
    {
     "data": {},
     "metadata": {},
     "output_type": "display_data"
    },
    {
     "data": {},
     "metadata": {},
     "output_type": "display_data"
    },
    {
     "data": {},
     "metadata": {},
     "output_type": "display_data"
    },
    {
     "data": {},
     "metadata": {},
     "output_type": "display_data"
    },
    {
     "data": {},
     "metadata": {},
     "output_type": "display_data"
    },
    {
     "data": {},
     "metadata": {},
     "output_type": "display_data"
    },
    {
     "data": {},
     "metadata": {},
     "output_type": "display_data"
    },
    {
     "data": {},
     "metadata": {},
     "output_type": "display_data"
    },
    {
     "data": {},
     "metadata": {},
     "output_type": "display_data"
    },
    {
     "data": {},
     "metadata": {},
     "output_type": "display_data"
    },
    {
     "data": {},
     "metadata": {},
     "output_type": "display_data"
    },
    {
     "data": {},
     "metadata": {},
     "output_type": "display_data"
    },
    {
     "data": {},
     "metadata": {},
     "output_type": "display_data"
    },
    {
     "data": {},
     "metadata": {},
     "output_type": "display_data"
    },
    {
     "data": {},
     "metadata": {},
     "output_type": "display_data"
    },
    {
     "data": {},
     "metadata": {},
     "output_type": "display_data"
    },
    {
     "data": {},
     "metadata": {},
     "output_type": "display_data"
    },
    {
     "data": {},
     "metadata": {},
     "output_type": "display_data"
    },
    {
     "data": {},
     "metadata": {},
     "output_type": "display_data"
    },
    {
     "data": {},
     "metadata": {},
     "output_type": "display_data"
    },
    {
     "data": {},
     "metadata": {},
     "output_type": "display_data"
    },
    {
     "data": {},
     "metadata": {},
     "output_type": "display_data"
    },
    {
     "data": {},
     "metadata": {},
     "output_type": "display_data"
    },
    {
     "data": {},
     "metadata": {},
     "output_type": "display_data"
    },
    {
     "data": {},
     "metadata": {},
     "output_type": "display_data"
    },
    {
     "data": {},
     "metadata": {},
     "output_type": "display_data"
    },
    {
     "data": {},
     "metadata": {},
     "output_type": "display_data"
    },
    {
     "data": {},
     "metadata": {},
     "output_type": "display_data"
    },
    {
     "data": {},
     "metadata": {},
     "output_type": "display_data"
    },
    {
     "data": {},
     "metadata": {},
     "output_type": "display_data"
    },
    {
     "data": {},
     "metadata": {},
     "output_type": "display_data"
    },
    {
     "data": {},
     "metadata": {},
     "output_type": "display_data"
    },
    {
     "data": {},
     "metadata": {},
     "output_type": "display_data"
    },
    {
     "data": {},
     "metadata": {},
     "output_type": "display_data"
    },
    {
     "data": {},
     "metadata": {},
     "output_type": "display_data"
    },
    {
     "data": {},
     "metadata": {},
     "output_type": "display_data"
    },
    {
     "data": {},
     "metadata": {},
     "output_type": "display_data"
    },
    {
     "data": {},
     "metadata": {},
     "output_type": "display_data"
    },
    {
     "data": {},
     "metadata": {},
     "output_type": "display_data"
    },
    {
     "data": {},
     "metadata": {},
     "output_type": "display_data"
    },
    {
     "data": {},
     "metadata": {},
     "output_type": "display_data"
    },
    {
     "data": {},
     "metadata": {},
     "output_type": "display_data"
    },
    {
     "data": {},
     "metadata": {},
     "output_type": "display_data"
    },
    {
     "data": {},
     "metadata": {},
     "output_type": "display_data"
    },
    {
     "data": {},
     "metadata": {},
     "output_type": "display_data"
    },
    {
     "data": {},
     "metadata": {},
     "output_type": "display_data"
    },
    {
     "data": {},
     "metadata": {},
     "output_type": "display_data"
    },
    {
     "data": {},
     "metadata": {},
     "output_type": "display_data"
    },
    {
     "data": {},
     "metadata": {},
     "output_type": "display_data"
    },
    {
     "data": {},
     "metadata": {},
     "output_type": "display_data"
    },
    {
     "data": {},
     "metadata": {},
     "output_type": "display_data"
    },
    {
     "data": {},
     "metadata": {},
     "output_type": "display_data"
    },
    {
     "data": {},
     "metadata": {},
     "output_type": "display_data"
    },
    {
     "data": {},
     "metadata": {},
     "output_type": "display_data"
    },
    {
     "data": {},
     "metadata": {},
     "output_type": "display_data"
    },
    {
     "data": {},
     "metadata": {},
     "output_type": "display_data"
    },
    {
     "data": {},
     "metadata": {},
     "output_type": "display_data"
    },
    {
     "data": {},
     "metadata": {},
     "output_type": "display_data"
    },
    {
     "data": {},
     "metadata": {},
     "output_type": "display_data"
    },
    {
     "data": {},
     "metadata": {},
     "output_type": "display_data"
    },
    {
     "data": {},
     "metadata": {},
     "output_type": "display_data"
    },
    {
     "data": {},
     "metadata": {},
     "output_type": "display_data"
    },
    {
     "data": {},
     "metadata": {},
     "output_type": "display_data"
    },
    {
     "data": {},
     "metadata": {},
     "output_type": "display_data"
    },
    {
     "data": {},
     "metadata": {},
     "output_type": "display_data"
    },
    {
     "data": {},
     "metadata": {},
     "output_type": "display_data"
    },
    {
     "data": {},
     "metadata": {},
     "output_type": "display_data"
    },
    {
     "data": {},
     "metadata": {},
     "output_type": "display_data"
    },
    {
     "data": {},
     "metadata": {},
     "output_type": "display_data"
    },
    {
     "data": {},
     "metadata": {},
     "output_type": "display_data"
    },
    {
     "data": {},
     "metadata": {},
     "output_type": "display_data"
    },
    {
     "data": {},
     "metadata": {},
     "output_type": "display_data"
    },
    {
     "data": {},
     "metadata": {},
     "output_type": "display_data"
    },
    {
     "data": {},
     "metadata": {},
     "output_type": "display_data"
    },
    {
     "data": {},
     "metadata": {},
     "output_type": "display_data"
    },
    {
     "data": {},
     "metadata": {},
     "output_type": "display_data"
    },
    {
     "data": {},
     "metadata": {},
     "output_type": "display_data"
    },
    {
     "data": {},
     "metadata": {},
     "output_type": "display_data"
    },
    {
     "data": {},
     "metadata": {},
     "output_type": "display_data"
    },
    {
     "data": {},
     "metadata": {},
     "output_type": "display_data"
    },
    {
     "data": {},
     "metadata": {},
     "output_type": "display_data"
    },
    {
     "data": {},
     "metadata": {},
     "output_type": "display_data"
    },
    {
     "data": {},
     "metadata": {},
     "output_type": "display_data"
    },
    {
     "data": {},
     "metadata": {},
     "output_type": "display_data"
    },
    {
     "data": {},
     "metadata": {},
     "output_type": "display_data"
    },
    {
     "data": {},
     "metadata": {},
     "output_type": "display_data"
    },
    {
     "data": {},
     "metadata": {},
     "output_type": "display_data"
    },
    {
     "data": {},
     "metadata": {},
     "output_type": "display_data"
    },
    {
     "data": {},
     "metadata": {},
     "output_type": "display_data"
    },
    {
     "data": {},
     "metadata": {},
     "output_type": "display_data"
    },
    {
     "data": {},
     "metadata": {},
     "output_type": "display_data"
    },
    {
     "data": {},
     "metadata": {},
     "output_type": "display_data"
    },
    {
     "data": {},
     "metadata": {},
     "output_type": "display_data"
    },
    {
     "data": {},
     "metadata": {},
     "output_type": "display_data"
    },
    {
     "data": {},
     "metadata": {},
     "output_type": "display_data"
    },
    {
     "data": {},
     "metadata": {},
     "output_type": "display_data"
    },
    {
     "data": {},
     "metadata": {},
     "output_type": "display_data"
    },
    {
     "data": {},
     "metadata": {},
     "output_type": "display_data"
    },
    {
     "data": {},
     "metadata": {},
     "output_type": "display_data"
    },
    {
     "data": {},
     "metadata": {},
     "output_type": "display_data"
    },
    {
     "data": {},
     "metadata": {},
     "output_type": "display_data"
    },
    {
     "data": {},
     "metadata": {},
     "output_type": "display_data"
    },
    {
     "data": {},
     "metadata": {},
     "output_type": "display_data"
    },
    {
     "data": {},
     "metadata": {},
     "output_type": "display_data"
    },
    {
     "data": {},
     "metadata": {},
     "output_type": "display_data"
    },
    {
     "data": {},
     "metadata": {},
     "output_type": "display_data"
    },
    {
     "data": {},
     "metadata": {},
     "output_type": "display_data"
    },
    {
     "data": {},
     "metadata": {},
     "output_type": "display_data"
    },
    {
     "data": {},
     "metadata": {},
     "output_type": "display_data"
    },
    {
     "data": {},
     "metadata": {},
     "output_type": "display_data"
    },
    {
     "data": {},
     "metadata": {},
     "output_type": "display_data"
    },
    {
     "data": {},
     "metadata": {},
     "output_type": "display_data"
    },
    {
     "data": {},
     "metadata": {},
     "output_type": "display_data"
    },
    {
     "data": {},
     "metadata": {},
     "output_type": "display_data"
    },
    {
     "data": {},
     "metadata": {},
     "output_type": "display_data"
    },
    {
     "data": {},
     "metadata": {},
     "output_type": "display_data"
    },
    {
     "data": {},
     "metadata": {},
     "output_type": "display_data"
    },
    {
     "data": {},
     "metadata": {},
     "output_type": "display_data"
    },
    {
     "data": {},
     "metadata": {},
     "output_type": "display_data"
    },
    {
     "data": {},
     "metadata": {},
     "output_type": "display_data"
    },
    {
     "data": {},
     "metadata": {},
     "output_type": "display_data"
    },
    {
     "data": {},
     "metadata": {},
     "output_type": "display_data"
    },
    {
     "data": {},
     "metadata": {},
     "output_type": "display_data"
    },
    {
     "data": {},
     "metadata": {},
     "output_type": "display_data"
    },
    {
     "data": {},
     "metadata": {},
     "output_type": "display_data"
    },
    {
     "data": {},
     "metadata": {},
     "output_type": "display_data"
    },
    {
     "data": {},
     "metadata": {},
     "output_type": "display_data"
    },
    {
     "data": {},
     "metadata": {},
     "output_type": "display_data"
    },
    {
     "data": {},
     "metadata": {},
     "output_type": "display_data"
    },
    {
     "data": {},
     "metadata": {},
     "output_type": "display_data"
    },
    {
     "data": {},
     "metadata": {},
     "output_type": "display_data"
    },
    {
     "data": {},
     "metadata": {},
     "output_type": "display_data"
    },
    {
     "data": {},
     "metadata": {},
     "output_type": "display_data"
    },
    {
     "data": {},
     "metadata": {},
     "output_type": "display_data"
    },
    {
     "data": {},
     "metadata": {},
     "output_type": "display_data"
    },
    {
     "data": {},
     "metadata": {},
     "output_type": "display_data"
    },
    {
     "data": {},
     "metadata": {},
     "output_type": "display_data"
    },
    {
     "data": {},
     "metadata": {},
     "output_type": "display_data"
    },
    {
     "data": {},
     "metadata": {},
     "output_type": "display_data"
    },
    {
     "data": {},
     "metadata": {},
     "output_type": "display_data"
    },
    {
     "data": {},
     "metadata": {},
     "output_type": "display_data"
    },
    {
     "data": {},
     "metadata": {},
     "output_type": "display_data"
    },
    {
     "data": {},
     "metadata": {},
     "output_type": "display_data"
    },
    {
     "data": {},
     "metadata": {},
     "output_type": "display_data"
    },
    {
     "data": {},
     "metadata": {},
     "output_type": "display_data"
    },
    {
     "data": {},
     "metadata": {},
     "output_type": "display_data"
    },
    {
     "data": {},
     "metadata": {},
     "output_type": "display_data"
    },
    {
     "data": {},
     "metadata": {},
     "output_type": "display_data"
    },
    {
     "data": {},
     "metadata": {},
     "output_type": "display_data"
    },
    {
     "data": {},
     "metadata": {},
     "output_type": "display_data"
    },
    {
     "data": {},
     "metadata": {},
     "output_type": "display_data"
    },
    {
     "data": {},
     "metadata": {},
     "output_type": "display_data"
    },
    {
     "data": {},
     "metadata": {},
     "output_type": "display_data"
    },
    {
     "data": {},
     "metadata": {},
     "output_type": "display_data"
    },
    {
     "data": {},
     "metadata": {},
     "output_type": "display_data"
    },
    {
     "data": {},
     "metadata": {},
     "output_type": "display_data"
    },
    {
     "data": {},
     "metadata": {},
     "output_type": "display_data"
    },
    {
     "data": {},
     "metadata": {},
     "output_type": "display_data"
    },
    {
     "data": {},
     "metadata": {},
     "output_type": "display_data"
    },
    {
     "data": {},
     "metadata": {},
     "output_type": "display_data"
    },
    {
     "data": {},
     "metadata": {},
     "output_type": "display_data"
    },
    {
     "data": {},
     "metadata": {},
     "output_type": "display_data"
    },
    {
     "data": {},
     "metadata": {},
     "output_type": "display_data"
    },
    {
     "data": {},
     "metadata": {},
     "output_type": "display_data"
    },
    {
     "data": {},
     "metadata": {},
     "output_type": "display_data"
    },
    {
     "data": {},
     "metadata": {},
     "output_type": "display_data"
    },
    {
     "data": {},
     "metadata": {},
     "output_type": "display_data"
    },
    {
     "data": {},
     "metadata": {},
     "output_type": "display_data"
    },
    {
     "data": {},
     "metadata": {},
     "output_type": "display_data"
    },
    {
     "data": {},
     "metadata": {},
     "output_type": "display_data"
    },
    {
     "data": {},
     "metadata": {},
     "output_type": "display_data"
    },
    {
     "data": {},
     "metadata": {},
     "output_type": "display_data"
    },
    {
     "data": {},
     "metadata": {},
     "output_type": "display_data"
    },
    {
     "data": {},
     "metadata": {},
     "output_type": "display_data"
    },
    {
     "data": {},
     "metadata": {},
     "output_type": "display_data"
    },
    {
     "data": {},
     "metadata": {},
     "output_type": "display_data"
    },
    {
     "data": {},
     "metadata": {},
     "output_type": "display_data"
    },
    {
     "data": {},
     "metadata": {},
     "output_type": "display_data"
    },
    {
     "data": {},
     "metadata": {},
     "output_type": "display_data"
    },
    {
     "data": {},
     "metadata": {},
     "output_type": "display_data"
    },
    {
     "data": {},
     "metadata": {},
     "output_type": "display_data"
    },
    {
     "data": {},
     "metadata": {},
     "output_type": "display_data"
    },
    {
     "data": {},
     "metadata": {},
     "output_type": "display_data"
    },
    {
     "data": {},
     "metadata": {},
     "output_type": "display_data"
    },
    {
     "data": {},
     "metadata": {},
     "output_type": "display_data"
    },
    {
     "data": {},
     "metadata": {},
     "output_type": "display_data"
    },
    {
     "data": {},
     "metadata": {},
     "output_type": "display_data"
    },
    {
     "data": {},
     "metadata": {},
     "output_type": "display_data"
    },
    {
     "data": {},
     "metadata": {},
     "output_type": "display_data"
    },
    {
     "data": {},
     "metadata": {},
     "output_type": "display_data"
    },
    {
     "data": {},
     "metadata": {},
     "output_type": "display_data"
    },
    {
     "data": {},
     "metadata": {},
     "output_type": "display_data"
    },
    {
     "data": {},
     "metadata": {},
     "output_type": "display_data"
    },
    {
     "data": {},
     "metadata": {},
     "output_type": "display_data"
    },
    {
     "data": {},
     "metadata": {},
     "output_type": "display_data"
    },
    {
     "data": {},
     "metadata": {},
     "output_type": "display_data"
    },
    {
     "data": {},
     "metadata": {},
     "output_type": "display_data"
    },
    {
     "data": {},
     "metadata": {},
     "output_type": "display_data"
    },
    {
     "data": {},
     "metadata": {},
     "output_type": "display_data"
    },
    {
     "data": {},
     "metadata": {},
     "output_type": "display_data"
    },
    {
     "data": {},
     "metadata": {},
     "output_type": "display_data"
    },
    {
     "data": {},
     "metadata": {},
     "output_type": "display_data"
    },
    {
     "data": {},
     "metadata": {},
     "output_type": "display_data"
    },
    {
     "data": {},
     "metadata": {},
     "output_type": "display_data"
    },
    {
     "data": {},
     "metadata": {},
     "output_type": "display_data"
    },
    {
     "data": {},
     "metadata": {},
     "output_type": "display_data"
    },
    {
     "data": {},
     "metadata": {},
     "output_type": "display_data"
    },
    {
     "data": {},
     "metadata": {},
     "output_type": "display_data"
    },
    {
     "data": {},
     "metadata": {},
     "output_type": "display_data"
    },
    {
     "data": {},
     "metadata": {},
     "output_type": "display_data"
    },
    {
     "data": {},
     "metadata": {},
     "output_type": "display_data"
    },
    {
     "data": {},
     "metadata": {},
     "output_type": "display_data"
    },
    {
     "data": {},
     "metadata": {},
     "output_type": "display_data"
    },
    {
     "data": {},
     "metadata": {},
     "output_type": "display_data"
    },
    {
     "data": {},
     "metadata": {},
     "output_type": "display_data"
    },
    {
     "data": {},
     "metadata": {},
     "output_type": "display_data"
    },
    {
     "data": {},
     "metadata": {},
     "output_type": "display_data"
    },
    {
     "data": {},
     "metadata": {},
     "output_type": "display_data"
    },
    {
     "data": {},
     "metadata": {},
     "output_type": "display_data"
    },
    {
     "data": {},
     "metadata": {},
     "output_type": "display_data"
    },
    {
     "data": {},
     "metadata": {},
     "output_type": "display_data"
    },
    {
     "data": {},
     "metadata": {},
     "output_type": "display_data"
    },
    {
     "data": {},
     "metadata": {},
     "output_type": "display_data"
    },
    {
     "data": {},
     "metadata": {},
     "output_type": "display_data"
    },
    {
     "data": {},
     "metadata": {},
     "output_type": "display_data"
    },
    {
     "data": {},
     "metadata": {},
     "output_type": "display_data"
    },
    {
     "data": {},
     "metadata": {},
     "output_type": "display_data"
    },
    {
     "data": {},
     "metadata": {},
     "output_type": "display_data"
    },
    {
     "data": {},
     "metadata": {},
     "output_type": "display_data"
    },
    {
     "data": {},
     "metadata": {},
     "output_type": "display_data"
    },
    {
     "data": {},
     "metadata": {},
     "output_type": "display_data"
    },
    {
     "data": {},
     "metadata": {},
     "output_type": "display_data"
    },
    {
     "data": {},
     "metadata": {},
     "output_type": "display_data"
    },
    {
     "data": {},
     "metadata": {},
     "output_type": "display_data"
    },
    {
     "data": {},
     "metadata": {},
     "output_type": "display_data"
    },
    {
     "data": {},
     "metadata": {},
     "output_type": "display_data"
    },
    {
     "data": {},
     "metadata": {},
     "output_type": "display_data"
    },
    {
     "data": {},
     "metadata": {},
     "output_type": "display_data"
    },
    {
     "data": {},
     "metadata": {},
     "output_type": "display_data"
    },
    {
     "data": {},
     "metadata": {},
     "output_type": "display_data"
    },
    {
     "data": {},
     "metadata": {},
     "output_type": "display_data"
    },
    {
     "data": {},
     "metadata": {},
     "output_type": "display_data"
    },
    {
     "data": {},
     "metadata": {},
     "output_type": "display_data"
    },
    {
     "data": {},
     "metadata": {},
     "output_type": "display_data"
    },
    {
     "data": {},
     "metadata": {},
     "output_type": "display_data"
    },
    {
     "data": {},
     "metadata": {},
     "output_type": "display_data"
    },
    {
     "data": {},
     "metadata": {},
     "output_type": "display_data"
    },
    {
     "data": {},
     "metadata": {},
     "output_type": "display_data"
    },
    {
     "data": {},
     "metadata": {},
     "output_type": "display_data"
    },
    {
     "data": {},
     "metadata": {},
     "output_type": "display_data"
    },
    {
     "data": {},
     "metadata": {},
     "output_type": "display_data"
    },
    {
     "data": {},
     "metadata": {},
     "output_type": "display_data"
    },
    {
     "data": {},
     "metadata": {},
     "output_type": "display_data"
    },
    {
     "data": {},
     "metadata": {},
     "output_type": "display_data"
    },
    {
     "data": {},
     "metadata": {},
     "output_type": "display_data"
    },
    {
     "data": {},
     "metadata": {},
     "output_type": "display_data"
    },
    {
     "data": {},
     "metadata": {},
     "output_type": "display_data"
    },
    {
     "data": {},
     "metadata": {},
     "output_type": "display_data"
    },
    {
     "data": {},
     "metadata": {},
     "output_type": "display_data"
    },
    {
     "data": {},
     "metadata": {},
     "output_type": "display_data"
    },
    {
     "data": {},
     "metadata": {},
     "output_type": "display_data"
    },
    {
     "data": {},
     "metadata": {},
     "output_type": "display_data"
    },
    {
     "data": {},
     "metadata": {},
     "output_type": "display_data"
    },
    {
     "data": {},
     "metadata": {},
     "output_type": "display_data"
    },
    {
     "data": {},
     "metadata": {},
     "output_type": "display_data"
    },
    {
     "data": {},
     "metadata": {},
     "output_type": "display_data"
    },
    {
     "data": {},
     "metadata": {},
     "output_type": "display_data"
    },
    {
     "data": {},
     "metadata": {},
     "output_type": "display_data"
    },
    {
     "data": {},
     "metadata": {},
     "output_type": "display_data"
    },
    {
     "data": {},
     "metadata": {},
     "output_type": "display_data"
    },
    {
     "data": {},
     "metadata": {},
     "output_type": "display_data"
    },
    {
     "data": {},
     "metadata": {},
     "output_type": "display_data"
    },
    {
     "data": {},
     "metadata": {},
     "output_type": "display_data"
    },
    {
     "data": {},
     "metadata": {},
     "output_type": "display_data"
    },
    {
     "data": {},
     "metadata": {},
     "output_type": "display_data"
    },
    {
     "data": {},
     "metadata": {},
     "output_type": "display_data"
    },
    {
     "data": {},
     "metadata": {},
     "output_type": "display_data"
    },
    {
     "data": {},
     "metadata": {},
     "output_type": "display_data"
    },
    {
     "data": {},
     "metadata": {},
     "output_type": "display_data"
    },
    {
     "data": {},
     "metadata": {},
     "output_type": "display_data"
    },
    {
     "data": {},
     "metadata": {},
     "output_type": "display_data"
    },
    {
     "data": {},
     "metadata": {},
     "output_type": "display_data"
    },
    {
     "data": {},
     "metadata": {},
     "output_type": "display_data"
    },
    {
     "data": {},
     "metadata": {},
     "output_type": "display_data"
    },
    {
     "data": {},
     "metadata": {},
     "output_type": "display_data"
    },
    {
     "data": {},
     "metadata": {},
     "output_type": "display_data"
    },
    {
     "data": {},
     "metadata": {},
     "output_type": "display_data"
    },
    {
     "data": {},
     "metadata": {},
     "output_type": "display_data"
    },
    {
     "data": {},
     "metadata": {},
     "output_type": "display_data"
    },
    {
     "data": {},
     "metadata": {},
     "output_type": "display_data"
    },
    {
     "data": {},
     "metadata": {},
     "output_type": "display_data"
    },
    {
     "data": {},
     "metadata": {},
     "output_type": "display_data"
    },
    {
     "data": {},
     "metadata": {},
     "output_type": "display_data"
    },
    {
     "data": {},
     "metadata": {},
     "output_type": "display_data"
    },
    {
     "data": {},
     "metadata": {},
     "output_type": "display_data"
    },
    {
     "data": {},
     "metadata": {},
     "output_type": "display_data"
    },
    {
     "data": {},
     "metadata": {},
     "output_type": "display_data"
    },
    {
     "data": {},
     "metadata": {},
     "output_type": "display_data"
    },
    {
     "data": {},
     "metadata": {},
     "output_type": "display_data"
    },
    {
     "data": {},
     "metadata": {},
     "output_type": "display_data"
    },
    {
     "data": {},
     "metadata": {},
     "output_type": "display_data"
    },
    {
     "data": {},
     "metadata": {},
     "output_type": "display_data"
    },
    {
     "data": {},
     "metadata": {},
     "output_type": "display_data"
    },
    {
     "data": {},
     "metadata": {},
     "output_type": "display_data"
    },
    {
     "data": {},
     "metadata": {},
     "output_type": "display_data"
    },
    {
     "data": {},
     "metadata": {},
     "output_type": "display_data"
    },
    {
     "data": {},
     "metadata": {},
     "output_type": "display_data"
    },
    {
     "data": {},
     "metadata": {},
     "output_type": "display_data"
    },
    {
     "data": {},
     "metadata": {},
     "output_type": "display_data"
    },
    {
     "data": {},
     "metadata": {},
     "output_type": "display_data"
    },
    {
     "data": {},
     "metadata": {},
     "output_type": "display_data"
    },
    {
     "data": {},
     "metadata": {},
     "output_type": "display_data"
    },
    {
     "data": {},
     "metadata": {},
     "output_type": "display_data"
    },
    {
     "data": {},
     "metadata": {},
     "output_type": "display_data"
    },
    {
     "data": {},
     "metadata": {},
     "output_type": "display_data"
    },
    {
     "data": {},
     "metadata": {},
     "output_type": "display_data"
    },
    {
     "data": {},
     "metadata": {},
     "output_type": "display_data"
    },
    {
     "data": {},
     "metadata": {},
     "output_type": "display_data"
    },
    {
     "data": {},
     "metadata": {},
     "output_type": "display_data"
    },
    {
     "data": {},
     "metadata": {},
     "output_type": "display_data"
    },
    {
     "data": {},
     "metadata": {},
     "output_type": "display_data"
    },
    {
     "data": {},
     "metadata": {},
     "output_type": "display_data"
    },
    {
     "data": {},
     "metadata": {},
     "output_type": "display_data"
    },
    {
     "data": {},
     "metadata": {},
     "output_type": "display_data"
    },
    {
     "data": {},
     "metadata": {},
     "output_type": "display_data"
    },
    {
     "data": {},
     "metadata": {},
     "output_type": "display_data"
    },
    {
     "data": {},
     "metadata": {},
     "output_type": "display_data"
    },
    {
     "data": {},
     "metadata": {},
     "output_type": "display_data"
    },
    {
     "data": {},
     "metadata": {},
     "output_type": "display_data"
    },
    {
     "data": {},
     "metadata": {},
     "output_type": "display_data"
    },
    {
     "data": {},
     "metadata": {},
     "output_type": "display_data"
    },
    {
     "data": {},
     "metadata": {},
     "output_type": "display_data"
    },
    {
     "data": {},
     "metadata": {},
     "output_type": "display_data"
    },
    {
     "data": {},
     "metadata": {},
     "output_type": "display_data"
    },
    {
     "data": {},
     "metadata": {},
     "output_type": "display_data"
    },
    {
     "data": {},
     "metadata": {},
     "output_type": "display_data"
    },
    {
     "data": {},
     "metadata": {},
     "output_type": "display_data"
    },
    {
     "data": {},
     "metadata": {},
     "output_type": "display_data"
    },
    {
     "data": {},
     "metadata": {},
     "output_type": "display_data"
    },
    {
     "data": {},
     "metadata": {},
     "output_type": "display_data"
    },
    {
     "data": {},
     "metadata": {},
     "output_type": "display_data"
    },
    {
     "data": {},
     "metadata": {},
     "output_type": "display_data"
    },
    {
     "data": {},
     "metadata": {},
     "output_type": "display_data"
    },
    {
     "data": {},
     "metadata": {},
     "output_type": "display_data"
    },
    {
     "data": {},
     "metadata": {},
     "output_type": "display_data"
    },
    {
     "data": {},
     "metadata": {},
     "output_type": "display_data"
    },
    {
     "data": {},
     "metadata": {},
     "output_type": "display_data"
    },
    {
     "data": {},
     "metadata": {},
     "output_type": "display_data"
    },
    {
     "data": {},
     "metadata": {},
     "output_type": "display_data"
    },
    {
     "data": {},
     "metadata": {},
     "output_type": "display_data"
    },
    {
     "data": {},
     "metadata": {},
     "output_type": "display_data"
    },
    {
     "data": {},
     "metadata": {},
     "output_type": "display_data"
    },
    {
     "data": {},
     "metadata": {},
     "output_type": "display_data"
    },
    {
     "data": {},
     "metadata": {},
     "output_type": "display_data"
    },
    {
     "data": {},
     "metadata": {},
     "output_type": "display_data"
    },
    {
     "data": {},
     "metadata": {},
     "output_type": "display_data"
    },
    {
     "data": {},
     "metadata": {},
     "output_type": "display_data"
    },
    {
     "data": {},
     "metadata": {},
     "output_type": "display_data"
    },
    {
     "data": {},
     "metadata": {},
     "output_type": "display_data"
    },
    {
     "data": {},
     "metadata": {},
     "output_type": "display_data"
    },
    {
     "data": {},
     "metadata": {},
     "output_type": "display_data"
    },
    {
     "data": {},
     "metadata": {},
     "output_type": "display_data"
    },
    {
     "data": {},
     "metadata": {},
     "output_type": "display_data"
    },
    {
     "data": {},
     "metadata": {},
     "output_type": "display_data"
    },
    {
     "data": {},
     "metadata": {},
     "output_type": "display_data"
    },
    {
     "data": {},
     "metadata": {},
     "output_type": "display_data"
    },
    {
     "data": {},
     "metadata": {},
     "output_type": "display_data"
    },
    {
     "data": {},
     "metadata": {},
     "output_type": "display_data"
    },
    {
     "data": {},
     "metadata": {},
     "output_type": "display_data"
    },
    {
     "data": {},
     "metadata": {},
     "output_type": "display_data"
    },
    {
     "data": {},
     "metadata": {},
     "output_type": "display_data"
    },
    {
     "data": {},
     "metadata": {},
     "output_type": "display_data"
    },
    {
     "data": {},
     "metadata": {},
     "output_type": "display_data"
    },
    {
     "data": {},
     "metadata": {},
     "output_type": "display_data"
    },
    {
     "data": {},
     "metadata": {},
     "output_type": "display_data"
    },
    {
     "data": {},
     "metadata": {},
     "output_type": "display_data"
    },
    {
     "data": {},
     "metadata": {},
     "output_type": "display_data"
    },
    {
     "data": {},
     "metadata": {},
     "output_type": "display_data"
    },
    {
     "data": {},
     "metadata": {},
     "output_type": "display_data"
    },
    {
     "data": {},
     "metadata": {},
     "output_type": "display_data"
    },
    {
     "data": {},
     "metadata": {},
     "output_type": "display_data"
    },
    {
     "data": {},
     "metadata": {},
     "output_type": "display_data"
    },
    {
     "data": {},
     "metadata": {},
     "output_type": "display_data"
    },
    {
     "data": {},
     "metadata": {},
     "output_type": "display_data"
    },
    {
     "data": {},
     "metadata": {},
     "output_type": "display_data"
    },
    {
     "data": {},
     "metadata": {},
     "output_type": "display_data"
    },
    {
     "data": {},
     "metadata": {},
     "output_type": "display_data"
    },
    {
     "data": {},
     "metadata": {},
     "output_type": "display_data"
    },
    {
     "data": {},
     "metadata": {},
     "output_type": "display_data"
    },
    {
     "data": {},
     "metadata": {},
     "output_type": "display_data"
    },
    {
     "data": {},
     "metadata": {},
     "output_type": "display_data"
    },
    {
     "data": {},
     "metadata": {},
     "output_type": "display_data"
    },
    {
     "data": {},
     "metadata": {},
     "output_type": "display_data"
    },
    {
     "data": {},
     "metadata": {},
     "output_type": "display_data"
    },
    {
     "data": {},
     "metadata": {},
     "output_type": "display_data"
    },
    {
     "data": {},
     "metadata": {},
     "output_type": "display_data"
    },
    {
     "data": {},
     "metadata": {},
     "output_type": "display_data"
    },
    {
     "data": {},
     "metadata": {},
     "output_type": "display_data"
    },
    {
     "data": {},
     "metadata": {},
     "output_type": "display_data"
    },
    {
     "data": {},
     "metadata": {},
     "output_type": "display_data"
    },
    {
     "data": {},
     "metadata": {},
     "output_type": "display_data"
    },
    {
     "data": {},
     "metadata": {},
     "output_type": "display_data"
    },
    {
     "data": {},
     "metadata": {},
     "output_type": "display_data"
    },
    {
     "data": {},
     "metadata": {},
     "output_type": "display_data"
    },
    {
     "data": {},
     "metadata": {},
     "output_type": "display_data"
    },
    {
     "data": {},
     "metadata": {},
     "output_type": "display_data"
    },
    {
     "data": {},
     "metadata": {},
     "output_type": "display_data"
    },
    {
     "data": {},
     "metadata": {},
     "output_type": "display_data"
    },
    {
     "data": {},
     "metadata": {},
     "output_type": "display_data"
    },
    {
     "data": {},
     "metadata": {},
     "output_type": "display_data"
    },
    {
     "data": {},
     "metadata": {},
     "output_type": "display_data"
    },
    {
     "data": {},
     "metadata": {},
     "output_type": "display_data"
    },
    {
     "data": {},
     "metadata": {},
     "output_type": "display_data"
    },
    {
     "data": {},
     "metadata": {},
     "output_type": "display_data"
    },
    {
     "data": {},
     "metadata": {},
     "output_type": "display_data"
    },
    {
     "data": {},
     "metadata": {},
     "output_type": "display_data"
    },
    {
     "data": {},
     "metadata": {},
     "output_type": "display_data"
    },
    {
     "data": {},
     "metadata": {},
     "output_type": "display_data"
    },
    {
     "data": {},
     "metadata": {},
     "output_type": "display_data"
    },
    {
     "data": {},
     "metadata": {},
     "output_type": "display_data"
    },
    {
     "data": {},
     "metadata": {},
     "output_type": "display_data"
    },
    {
     "data": {},
     "metadata": {},
     "output_type": "display_data"
    },
    {
     "data": {},
     "metadata": {},
     "output_type": "display_data"
    },
    {
     "data": {},
     "metadata": {},
     "output_type": "display_data"
    },
    {
     "data": {},
     "metadata": {},
     "output_type": "display_data"
    },
    {
     "data": {},
     "metadata": {},
     "output_type": "display_data"
    },
    {
     "data": {},
     "metadata": {},
     "output_type": "display_data"
    },
    {
     "data": {},
     "metadata": {},
     "output_type": "display_data"
    },
    {
     "data": {},
     "metadata": {},
     "output_type": "display_data"
    },
    {
     "data": {},
     "metadata": {},
     "output_type": "display_data"
    },
    {
     "data": {},
     "metadata": {},
     "output_type": "display_data"
    },
    {
     "data": {},
     "metadata": {},
     "output_type": "display_data"
    },
    {
     "data": {},
     "metadata": {},
     "output_type": "display_data"
    },
    {
     "data": {},
     "metadata": {},
     "output_type": "display_data"
    },
    {
     "data": {},
     "metadata": {},
     "output_type": "display_data"
    },
    {
     "data": {},
     "metadata": {},
     "output_type": "display_data"
    },
    {
     "data": {},
     "metadata": {},
     "output_type": "display_data"
    },
    {
     "data": {},
     "metadata": {},
     "output_type": "display_data"
    },
    {
     "data": {},
     "metadata": {},
     "output_type": "display_data"
    },
    {
     "data": {},
     "metadata": {},
     "output_type": "display_data"
    },
    {
     "data": {},
     "metadata": {},
     "output_type": "display_data"
    },
    {
     "data": {},
     "metadata": {},
     "output_type": "display_data"
    },
    {
     "data": {},
     "metadata": {},
     "output_type": "display_data"
    },
    {
     "data": {},
     "metadata": {},
     "output_type": "display_data"
    },
    {
     "data": {},
     "metadata": {},
     "output_type": "display_data"
    },
    {
     "data": {},
     "metadata": {},
     "output_type": "display_data"
    },
    {
     "data": {},
     "metadata": {},
     "output_type": "display_data"
    },
    {
     "data": {},
     "metadata": {},
     "output_type": "display_data"
    },
    {
     "data": {},
     "metadata": {},
     "output_type": "display_data"
    },
    {
     "data": {},
     "metadata": {},
     "output_type": "display_data"
    },
    {
     "data": {},
     "metadata": {},
     "output_type": "display_data"
    },
    {
     "data": {},
     "metadata": {},
     "output_type": "display_data"
    },
    {
     "data": {},
     "metadata": {},
     "output_type": "display_data"
    },
    {
     "data": {},
     "metadata": {},
     "output_type": "display_data"
    },
    {
     "data": {},
     "metadata": {},
     "output_type": "display_data"
    },
    {
     "data": {},
     "metadata": {},
     "output_type": "display_data"
    },
    {
     "data": {},
     "metadata": {},
     "output_type": "display_data"
    },
    {
     "data": {},
     "metadata": {},
     "output_type": "display_data"
    },
    {
     "data": {},
     "metadata": {},
     "output_type": "display_data"
    },
    {
     "data": {},
     "metadata": {},
     "output_type": "display_data"
    },
    {
     "data": {},
     "metadata": {},
     "output_type": "display_data"
    },
    {
     "data": {},
     "metadata": {},
     "output_type": "display_data"
    },
    {
     "data": {},
     "metadata": {},
     "output_type": "display_data"
    },
    {
     "data": {},
     "metadata": {},
     "output_type": "display_data"
    },
    {
     "data": {},
     "metadata": {},
     "output_type": "display_data"
    },
    {
     "data": {},
     "metadata": {},
     "output_type": "display_data"
    },
    {
     "data": {},
     "metadata": {},
     "output_type": "display_data"
    },
    {
     "data": {},
     "metadata": {},
     "output_type": "display_data"
    },
    {
     "data": {},
     "metadata": {},
     "output_type": "display_data"
    },
    {
     "data": {},
     "metadata": {},
     "output_type": "display_data"
    },
    {
     "data": {},
     "metadata": {},
     "output_type": "display_data"
    },
    {
     "data": {},
     "metadata": {},
     "output_type": "display_data"
    },
    {
     "data": {},
     "metadata": {},
     "output_type": "display_data"
    },
    {
     "data": {},
     "metadata": {},
     "output_type": "display_data"
    },
    {
     "data": {},
     "metadata": {},
     "output_type": "display_data"
    },
    {
     "data": {},
     "metadata": {},
     "output_type": "display_data"
    },
    {
     "data": {},
     "metadata": {},
     "output_type": "display_data"
    },
    {
     "data": {},
     "metadata": {},
     "output_type": "display_data"
    },
    {
     "data": {},
     "metadata": {},
     "output_type": "display_data"
    },
    {
     "data": {},
     "metadata": {},
     "output_type": "display_data"
    },
    {
     "data": {},
     "metadata": {},
     "output_type": "display_data"
    },
    {
     "data": {},
     "metadata": {},
     "output_type": "display_data"
    },
    {
     "data": {},
     "metadata": {},
     "output_type": "display_data"
    },
    {
     "data": {},
     "metadata": {},
     "output_type": "display_data"
    },
    {
     "data": {},
     "metadata": {},
     "output_type": "display_data"
    },
    {
     "data": {},
     "metadata": {},
     "output_type": "display_data"
    },
    {
     "data": {},
     "metadata": {},
     "output_type": "display_data"
    },
    {
     "data": {},
     "metadata": {},
     "output_type": "display_data"
    },
    {
     "data": {},
     "metadata": {},
     "output_type": "display_data"
    },
    {
     "data": {},
     "metadata": {},
     "output_type": "display_data"
    },
    {
     "data": {},
     "metadata": {},
     "output_type": "display_data"
    },
    {
     "data": {},
     "metadata": {},
     "output_type": "display_data"
    },
    {
     "data": {},
     "metadata": {},
     "output_type": "display_data"
    },
    {
     "data": {},
     "metadata": {},
     "output_type": "display_data"
    },
    {
     "data": {},
     "metadata": {},
     "output_type": "display_data"
    },
    {
     "data": {},
     "metadata": {},
     "output_type": "display_data"
    },
    {
     "data": {},
     "metadata": {},
     "output_type": "display_data"
    },
    {
     "data": {},
     "metadata": {},
     "output_type": "display_data"
    },
    {
     "data": {},
     "metadata": {},
     "output_type": "display_data"
    },
    {
     "data": {},
     "metadata": {},
     "output_type": "display_data"
    },
    {
     "data": {},
     "metadata": {},
     "output_type": "display_data"
    },
    {
     "data": {},
     "metadata": {},
     "output_type": "display_data"
    },
    {
     "data": {},
     "metadata": {},
     "output_type": "display_data"
    },
    {
     "data": {},
     "metadata": {},
     "output_type": "display_data"
    },
    {
     "data": {},
     "metadata": {},
     "output_type": "display_data"
    },
    {
     "data": {},
     "metadata": {},
     "output_type": "display_data"
    },
    {
     "data": {},
     "metadata": {},
     "output_type": "display_data"
    },
    {
     "data": {},
     "metadata": {},
     "output_type": "display_data"
    },
    {
     "data": {},
     "metadata": {},
     "output_type": "display_data"
    },
    {
     "data": {},
     "metadata": {},
     "output_type": "display_data"
    },
    {
     "data": {},
     "metadata": {},
     "output_type": "display_data"
    },
    {
     "data": {},
     "metadata": {},
     "output_type": "display_data"
    },
    {
     "data": {},
     "metadata": {},
     "output_type": "display_data"
    },
    {
     "data": {},
     "metadata": {},
     "output_type": "display_data"
    },
    {
     "data": {},
     "metadata": {},
     "output_type": "display_data"
    },
    {
     "data": {},
     "metadata": {},
     "output_type": "display_data"
    },
    {
     "data": {},
     "metadata": {},
     "output_type": "display_data"
    },
    {
     "data": {},
     "metadata": {},
     "output_type": "display_data"
    },
    {
     "data": {},
     "metadata": {},
     "output_type": "display_data"
    },
    {
     "data": {},
     "metadata": {},
     "output_type": "display_data"
    },
    {
     "data": {},
     "metadata": {},
     "output_type": "display_data"
    },
    {
     "data": {},
     "metadata": {},
     "output_type": "display_data"
    },
    {
     "data": {},
     "metadata": {},
     "output_type": "display_data"
    },
    {
     "data": {},
     "metadata": {},
     "output_type": "display_data"
    },
    {
     "data": {},
     "metadata": {},
     "output_type": "display_data"
    },
    {
     "data": {},
     "metadata": {},
     "output_type": "display_data"
    },
    {
     "data": {},
     "metadata": {},
     "output_type": "display_data"
    },
    {
     "data": {},
     "metadata": {},
     "output_type": "display_data"
    },
    {
     "data": {},
     "metadata": {},
     "output_type": "display_data"
    },
    {
     "data": {},
     "metadata": {},
     "output_type": "display_data"
    },
    {
     "data": {},
     "metadata": {},
     "output_type": "display_data"
    },
    {
     "data": {},
     "metadata": {},
     "output_type": "display_data"
    },
    {
     "data": {},
     "metadata": {},
     "output_type": "display_data"
    },
    {
     "data": {},
     "metadata": {},
     "output_type": "display_data"
    },
    {
     "data": {},
     "metadata": {},
     "output_type": "display_data"
    },
    {
     "data": {},
     "metadata": {},
     "output_type": "display_data"
    },
    {
     "data": {},
     "metadata": {},
     "output_type": "display_data"
    },
    {
     "data": {},
     "metadata": {},
     "output_type": "display_data"
    },
    {
     "data": {},
     "metadata": {},
     "output_type": "display_data"
    },
    {
     "data": {},
     "metadata": {},
     "output_type": "display_data"
    },
    {
     "data": {},
     "metadata": {},
     "output_type": "display_data"
    },
    {
     "data": {},
     "metadata": {},
     "output_type": "display_data"
    },
    {
     "data": {},
     "metadata": {},
     "output_type": "display_data"
    },
    {
     "data": {},
     "metadata": {},
     "output_type": "display_data"
    },
    {
     "data": {},
     "metadata": {},
     "output_type": "display_data"
    },
    {
     "data": {},
     "metadata": {},
     "output_type": "display_data"
    },
    {
     "data": {},
     "metadata": {},
     "output_type": "display_data"
    },
    {
     "data": {},
     "metadata": {},
     "output_type": "display_data"
    },
    {
     "data": {},
     "metadata": {},
     "output_type": "display_data"
    },
    {
     "data": {},
     "metadata": {},
     "output_type": "display_data"
    },
    {
     "data": {},
     "metadata": {},
     "output_type": "display_data"
    },
    {
     "data": {},
     "metadata": {},
     "output_type": "display_data"
    },
    {
     "data": {},
     "metadata": {},
     "output_type": "display_data"
    },
    {
     "data": {},
     "metadata": {},
     "output_type": "display_data"
    },
    {
     "data": {},
     "metadata": {},
     "output_type": "display_data"
    },
    {
     "data": {},
     "metadata": {},
     "output_type": "display_data"
    },
    {
     "data": {},
     "metadata": {},
     "output_type": "display_data"
    },
    {
     "data": {},
     "metadata": {},
     "output_type": "display_data"
    },
    {
     "data": {},
     "metadata": {},
     "output_type": "display_data"
    },
    {
     "data": {},
     "metadata": {},
     "output_type": "display_data"
    },
    {
     "data": {},
     "metadata": {},
     "output_type": "display_data"
    },
    {
     "data": {},
     "metadata": {},
     "output_type": "display_data"
    },
    {
     "data": {},
     "metadata": {},
     "output_type": "display_data"
    },
    {
     "data": {},
     "metadata": {},
     "output_type": "display_data"
    },
    {
     "data": {},
     "metadata": {},
     "output_type": "display_data"
    },
    {
     "data": {},
     "metadata": {},
     "output_type": "display_data"
    },
    {
     "data": {},
     "metadata": {},
     "output_type": "display_data"
    },
    {
     "data": {},
     "metadata": {},
     "output_type": "display_data"
    },
    {
     "data": {},
     "metadata": {},
     "output_type": "display_data"
    },
    {
     "data": {},
     "metadata": {},
     "output_type": "display_data"
    },
    {
     "data": {},
     "metadata": {},
     "output_type": "display_data"
    },
    {
     "data": {},
     "metadata": {},
     "output_type": "display_data"
    },
    {
     "data": {},
     "metadata": {},
     "output_type": "display_data"
    },
    {
     "data": {},
     "metadata": {},
     "output_type": "display_data"
    },
    {
     "data": {},
     "metadata": {},
     "output_type": "display_data"
    },
    {
     "data": {},
     "metadata": {},
     "output_type": "display_data"
    },
    {
     "data": {},
     "metadata": {},
     "output_type": "display_data"
    },
    {
     "data": {},
     "metadata": {},
     "output_type": "display_data"
    },
    {
     "data": {},
     "metadata": {},
     "output_type": "display_data"
    },
    {
     "data": {},
     "metadata": {},
     "output_type": "display_data"
    },
    {
     "data": {},
     "metadata": {},
     "output_type": "display_data"
    },
    {
     "data": {},
     "metadata": {},
     "output_type": "display_data"
    },
    {
     "data": {},
     "metadata": {},
     "output_type": "display_data"
    },
    {
     "data": {},
     "metadata": {},
     "output_type": "display_data"
    },
    {
     "data": {},
     "metadata": {},
     "output_type": "display_data"
    },
    {
     "data": {},
     "metadata": {},
     "output_type": "display_data"
    },
    {
     "data": {},
     "metadata": {},
     "output_type": "display_data"
    },
    {
     "data": {},
     "metadata": {},
     "output_type": "display_data"
    },
    {
     "data": {},
     "metadata": {},
     "output_type": "display_data"
    },
    {
     "data": {},
     "metadata": {},
     "output_type": "display_data"
    },
    {
     "data": {},
     "metadata": {},
     "output_type": "display_data"
    },
    {
     "data": {},
     "metadata": {},
     "output_type": "display_data"
    },
    {
     "data": {},
     "metadata": {},
     "output_type": "display_data"
    },
    {
     "data": {},
     "metadata": {},
     "output_type": "display_data"
    },
    {
     "data": {},
     "metadata": {},
     "output_type": "display_data"
    },
    {
     "data": {},
     "metadata": {},
     "output_type": "display_data"
    },
    {
     "data": {},
     "metadata": {},
     "output_type": "display_data"
    },
    {
     "data": {},
     "metadata": {},
     "output_type": "display_data"
    },
    {
     "data": {},
     "metadata": {},
     "output_type": "display_data"
    },
    {
     "data": {},
     "metadata": {},
     "output_type": "display_data"
    },
    {
     "data": {},
     "metadata": {},
     "output_type": "display_data"
    },
    {
     "data": {},
     "metadata": {},
     "output_type": "display_data"
    },
    {
     "data": {},
     "metadata": {},
     "output_type": "display_data"
    },
    {
     "data": {},
     "metadata": {},
     "output_type": "display_data"
    },
    {
     "data": {},
     "metadata": {},
     "output_type": "display_data"
    },
    {
     "data": {},
     "metadata": {},
     "output_type": "display_data"
    },
    {
     "data": {},
     "metadata": {},
     "output_type": "display_data"
    },
    {
     "data": {},
     "metadata": {},
     "output_type": "display_data"
    },
    {
     "data": {},
     "metadata": {},
     "output_type": "display_data"
    },
    {
     "data": {},
     "metadata": {},
     "output_type": "display_data"
    },
    {
     "data": {},
     "metadata": {},
     "output_type": "display_data"
    },
    {
     "data": {},
     "metadata": {},
     "output_type": "display_data"
    },
    {
     "data": {},
     "metadata": {},
     "output_type": "display_data"
    },
    {
     "data": {},
     "metadata": {},
     "output_type": "display_data"
    },
    {
     "data": {},
     "metadata": {},
     "output_type": "display_data"
    },
    {
     "data": {},
     "metadata": {},
     "output_type": "display_data"
    },
    {
     "data": {},
     "metadata": {},
     "output_type": "display_data"
    },
    {
     "data": {},
     "metadata": {},
     "output_type": "display_data"
    },
    {
     "data": {},
     "metadata": {},
     "output_type": "display_data"
    },
    {
     "data": {},
     "metadata": {},
     "output_type": "display_data"
    },
    {
     "data": {},
     "metadata": {},
     "output_type": "display_data"
    },
    {
     "data": {},
     "metadata": {},
     "output_type": "display_data"
    },
    {
     "data": {},
     "metadata": {},
     "output_type": "display_data"
    },
    {
     "data": {},
     "metadata": {},
     "output_type": "display_data"
    },
    {
     "data": {},
     "metadata": {},
     "output_type": "display_data"
    },
    {
     "data": {},
     "metadata": {},
     "output_type": "display_data"
    },
    {
     "data": {},
     "metadata": {},
     "output_type": "display_data"
    },
    {
     "data": {},
     "metadata": {},
     "output_type": "display_data"
    },
    {
     "data": {},
     "metadata": {},
     "output_type": "display_data"
    },
    {
     "data": {},
     "metadata": {},
     "output_type": "display_data"
    },
    {
     "data": {},
     "metadata": {},
     "output_type": "display_data"
    },
    {
     "data": {},
     "metadata": {},
     "output_type": "display_data"
    },
    {
     "data": {},
     "metadata": {},
     "output_type": "display_data"
    },
    {
     "data": {},
     "metadata": {},
     "output_type": "display_data"
    },
    {
     "data": {},
     "metadata": {},
     "output_type": "display_data"
    },
    {
     "data": {},
     "metadata": {},
     "output_type": "display_data"
    },
    {
     "data": {},
     "metadata": {},
     "output_type": "display_data"
    },
    {
     "data": {},
     "metadata": {},
     "output_type": "display_data"
    },
    {
     "data": {},
     "metadata": {},
     "output_type": "display_data"
    },
    {
     "data": {},
     "metadata": {},
     "output_type": "display_data"
    },
    {
     "data": {},
     "metadata": {},
     "output_type": "display_data"
    },
    {
     "data": {},
     "metadata": {},
     "output_type": "display_data"
    },
    {
     "data": {},
     "metadata": {},
     "output_type": "display_data"
    },
    {
     "data": {},
     "metadata": {},
     "output_type": "display_data"
    },
    {
     "data": {},
     "metadata": {},
     "output_type": "display_data"
    },
    {
     "data": {},
     "metadata": {},
     "output_type": "display_data"
    },
    {
     "data": {},
     "metadata": {},
     "output_type": "display_data"
    },
    {
     "data": {},
     "metadata": {},
     "output_type": "display_data"
    },
    {
     "data": {},
     "metadata": {},
     "output_type": "display_data"
    },
    {
     "data": {},
     "metadata": {},
     "output_type": "display_data"
    },
    {
     "data": {},
     "metadata": {},
     "output_type": "display_data"
    },
    {
     "data": {},
     "metadata": {},
     "output_type": "display_data"
    },
    {
     "data": {},
     "metadata": {},
     "output_type": "display_data"
    },
    {
     "data": {},
     "metadata": {},
     "output_type": "display_data"
    },
    {
     "data": {},
     "metadata": {},
     "output_type": "display_data"
    },
    {
     "data": {},
     "metadata": {},
     "output_type": "display_data"
    },
    {
     "data": {},
     "metadata": {},
     "output_type": "display_data"
    },
    {
     "data": {},
     "metadata": {},
     "output_type": "display_data"
    },
    {
     "data": {},
     "metadata": {},
     "output_type": "display_data"
    },
    {
     "data": {},
     "metadata": {},
     "output_type": "display_data"
    },
    {
     "data": {},
     "metadata": {},
     "output_type": "display_data"
    },
    {
     "data": {},
     "metadata": {},
     "output_type": "display_data"
    },
    {
     "data": {},
     "metadata": {},
     "output_type": "display_data"
    },
    {
     "data": {},
     "metadata": {},
     "output_type": "display_data"
    },
    {
     "data": {},
     "metadata": {},
     "output_type": "display_data"
    },
    {
     "data": {},
     "metadata": {},
     "output_type": "display_data"
    },
    {
     "data": {},
     "metadata": {},
     "output_type": "display_data"
    },
    {
     "data": {},
     "metadata": {},
     "output_type": "display_data"
    },
    {
     "data": {},
     "metadata": {},
     "output_type": "display_data"
    },
    {
     "data": {},
     "metadata": {},
     "output_type": "display_data"
    },
    {
     "data": {},
     "metadata": {},
     "output_type": "display_data"
    },
    {
     "data": {},
     "metadata": {},
     "output_type": "display_data"
    },
    {
     "data": {},
     "metadata": {},
     "output_type": "display_data"
    },
    {
     "data": {},
     "metadata": {},
     "output_type": "display_data"
    },
    {
     "data": {},
     "metadata": {},
     "output_type": "display_data"
    },
    {
     "data": {},
     "metadata": {},
     "output_type": "display_data"
    },
    {
     "data": {},
     "metadata": {},
     "output_type": "display_data"
    },
    {
     "data": {},
     "metadata": {},
     "output_type": "display_data"
    },
    {
     "data": {},
     "metadata": {},
     "output_type": "display_data"
    },
    {
     "data": {},
     "metadata": {},
     "output_type": "display_data"
    },
    {
     "data": {},
     "metadata": {},
     "output_type": "display_data"
    },
    {
     "data": {},
     "metadata": {},
     "output_type": "display_data"
    },
    {
     "data": {},
     "metadata": {},
     "output_type": "display_data"
    },
    {
     "data": {},
     "metadata": {},
     "output_type": "display_data"
    },
    {
     "data": {},
     "metadata": {},
     "output_type": "display_data"
    },
    {
     "data": {},
     "metadata": {},
     "output_type": "display_data"
    },
    {
     "data": {},
     "metadata": {},
     "output_type": "display_data"
    },
    {
     "data": {},
     "metadata": {},
     "output_type": "display_data"
    },
    {
     "data": {},
     "metadata": {},
     "output_type": "display_data"
    },
    {
     "data": {},
     "metadata": {},
     "output_type": "display_data"
    },
    {
     "data": {},
     "metadata": {},
     "output_type": "display_data"
    },
    {
     "data": {},
     "metadata": {},
     "output_type": "display_data"
    },
    {
     "data": {},
     "metadata": {},
     "output_type": "display_data"
    },
    {
     "data": {},
     "metadata": {},
     "output_type": "display_data"
    },
    {
     "data": {},
     "metadata": {},
     "output_type": "display_data"
    },
    {
     "data": {},
     "metadata": {},
     "output_type": "display_data"
    },
    {
     "data": {},
     "metadata": {},
     "output_type": "display_data"
    },
    {
     "data": {},
     "metadata": {},
     "output_type": "display_data"
    },
    {
     "data": {},
     "metadata": {},
     "output_type": "display_data"
    },
    {
     "data": {},
     "metadata": {},
     "output_type": "display_data"
    },
    {
     "data": {},
     "metadata": {},
     "output_type": "display_data"
    },
    {
     "data": {},
     "metadata": {},
     "output_type": "display_data"
    },
    {
     "data": {},
     "metadata": {},
     "output_type": "display_data"
    },
    {
     "data": {},
     "metadata": {},
     "output_type": "display_data"
    },
    {
     "data": {},
     "metadata": {},
     "output_type": "display_data"
    },
    {
     "data": {},
     "metadata": {},
     "output_type": "display_data"
    },
    {
     "data": {},
     "metadata": {},
     "output_type": "display_data"
    },
    {
     "data": {},
     "metadata": {},
     "output_type": "display_data"
    },
    {
     "data": {},
     "metadata": {},
     "output_type": "display_data"
    },
    {
     "data": {},
     "metadata": {},
     "output_type": "display_data"
    },
    {
     "data": {},
     "metadata": {},
     "output_type": "display_data"
    },
    {
     "data": {},
     "metadata": {},
     "output_type": "display_data"
    },
    {
     "data": {},
     "metadata": {},
     "output_type": "display_data"
    },
    {
     "data": {},
     "metadata": {},
     "output_type": "display_data"
    },
    {
     "data": {},
     "metadata": {},
     "output_type": "display_data"
    },
    {
     "data": {},
     "metadata": {},
     "output_type": "display_data"
    },
    {
     "data": {},
     "metadata": {},
     "output_type": "display_data"
    },
    {
     "data": {},
     "metadata": {},
     "output_type": "display_data"
    },
    {
     "data": {},
     "metadata": {},
     "output_type": "display_data"
    },
    {
     "data": {},
     "metadata": {},
     "output_type": "display_data"
    },
    {
     "data": {},
     "metadata": {},
     "output_type": "display_data"
    },
    {
     "data": {},
     "metadata": {},
     "output_type": "display_data"
    },
    {
     "data": {},
     "metadata": {},
     "output_type": "display_data"
    },
    {
     "data": {},
     "metadata": {},
     "output_type": "display_data"
    },
    {
     "data": {},
     "metadata": {},
     "output_type": "display_data"
    },
    {
     "data": {},
     "metadata": {},
     "output_type": "display_data"
    },
    {
     "data": {},
     "metadata": {},
     "output_type": "display_data"
    },
    {
     "data": {},
     "metadata": {},
     "output_type": "display_data"
    },
    {
     "data": {},
     "metadata": {},
     "output_type": "display_data"
    },
    {
     "data": {},
     "metadata": {},
     "output_type": "display_data"
    },
    {
     "data": {},
     "metadata": {},
     "output_type": "display_data"
    },
    {
     "data": {},
     "metadata": {},
     "output_type": "display_data"
    },
    {
     "data": {},
     "metadata": {},
     "output_type": "display_data"
    },
    {
     "data": {},
     "metadata": {},
     "output_type": "display_data"
    },
    {
     "data": {},
     "metadata": {},
     "output_type": "display_data"
    },
    {
     "data": {},
     "metadata": {},
     "output_type": "display_data"
    },
    {
     "data": {},
     "metadata": {},
     "output_type": "display_data"
    },
    {
     "data": {},
     "metadata": {},
     "output_type": "display_data"
    },
    {
     "data": {},
     "metadata": {},
     "output_type": "display_data"
    },
    {
     "data": {},
     "metadata": {},
     "output_type": "display_data"
    }
   ],
   "source": [
    "url_logger = display(display_id=True)\n",
    "for date in tqdm(dates, desc='Looping Each Dates'):\n",
    "    day, month, year = date.strftime('%d'), date.strftime('%m'), date.strftime('%Y')\n",
    "    article_logger = display(display_id=True)\n",
    "    url_logger.update(url.format(year, month, day))\n",
    "\n",
    "    response = get_url_request(url.format(year, month, day))\n",
    "    soup = bs(response.text)\n",
    "    soup_article_links = soup.select('body > main > div.container.small.left.padding-no > main > div.card-box.ft240.margin-bottom-sm > article > h2 > a')\n",
    "\n",
    "    if soup_article_links:\n",
    "        article_information_dict.setdefault(year, {})\\\n",
    "            .setdefault(month, {})\\\n",
    "            .setdefault(day, {})\n",
    "        for index, link in enumerate(tqdm(soup_article_links, desc=f'Looping Each Links of Dates: {year}-{month}-{day}', leave=False)):\n",
    "            for i in range(15):\n",
    "                article_response = get_url_request(link['href'])\n",
    "                if article_response.status_code == 200:\n",
    "                    break\n",
    "                elif article_response.status_code == 504:\n",
    "                    time.sleep(0.5 * (i+1))\n",
    "            article_soup = bs(article_response.text)\n",
    "\n",
    "            article_title = article_soup.select_one('body > main > div.container.small.left.padding-no > main > article.detail-artikel > div.detail-title > h1').text\n",
    "            article_description = \"\"\n",
    "            for item in article_soup.select('#isi > div > div.detail-konten > p'):\n",
    "                article_description += item.text + ' '\n",
    "\n",
    "            article_information_dict[year][month][day][f'Article_{\"0\" * (3-len(str(index+1)))}{index+1}'] = {\n",
    "                'Title': article_title,\n",
    "                'Description': article_description,\n",
    "                'Link': link['href'],\n",
    "            }\n",
    "\n",
    "    time.sleep(0.5)\n",
    "    # break "
   ]
  },
  {
   "cell_type": "code",
   "execution_count": 5,
   "id": "d7f1aba7-e77d-445d-aa12-765ed7feb844",
   "metadata": {
    "scrolled": true
   },
   "outputs": [
    {
     "name": "stderr",
     "output_type": "stream",
     "text": [
      "IOPub data rate exceeded.\n",
      "The Jupyter server will temporarily stop sending output\n",
      "to the client in order to avoid crashing it.\n",
      "To change this limit, set the config variable\n",
      "`--ServerApp.iopub_data_rate_limit`.\n",
      "\n",
      "Current values:\n",
      "ServerApp.iopub_data_rate_limit=1000000.0 (bytes/sec)\n",
      "ServerApp.rate_limit_window=3.0 (secs)\n",
      "\n"
     ]
    }
   ],
   "source": [
    "print(json.dumps(article_information_dict, sort_keys=True, indent=4))"
   ]
  },
  {
   "cell_type": "code",
   "execution_count": 29,
   "id": "cfdff54f-3fec-4891-81b7-2582596a9ac7",
   "metadata": {},
   "outputs": [
    {
     "data": {
      "text/plain": [
       "int"
      ]
     },
     "execution_count": 29,
     "metadata": {},
     "output_type": "execute_result"
    }
   ],
   "source": [
    "type(article_response.status_code)"
   ]
  },
  {
   "cell_type": "code",
   "execution_count": 17,
   "id": "ef33cb30-c39b-4871-a842-77a034636686",
   "metadata": {},
   "outputs": [
    {
     "data": {
      "text/plain": [
       "int"
      ]
     },
     "execution_count": 17,
     "metadata": {},
     "output_type": "execute_result"
    }
   ],
   "source": [
    "article_response.status_code"
   ]
  },
  {
   "cell_type": "code",
   "execution_count": 6,
   "id": "bb3d64de-efc0-4014-8ca4-1ce76b72c5eb",
   "metadata": {},
   "outputs": [],
   "source": [
    "with open('./dataset/tempo_article_attraction_part3.json', 'w') as json_file:\n",
    "    json.dump(article_information_dict, json_file, indent=4)"
   ]
  },
  {
   "cell_type": "code",
   "execution_count": 7,
   "id": "c4f95c06-e411-4b0b-a4b0-d0fd79800b6f",
   "metadata": {},
   "outputs": [
    {
     "data": {
      "text/plain": [
       "'2017'"
      ]
     },
     "execution_count": 7,
     "metadata": {},
     "output_type": "execute_result"
    }
   ],
   "source": [
    "list(article_information_dict)[-1]"
   ]
  },
  {
   "cell_type": "code",
   "execution_count": 8,
   "id": "5ea14b7d-024b-4823-a9c9-d763a750cfbe",
   "metadata": {},
   "outputs": [
    {
     "data": {
      "text/plain": [
       "'01'"
      ]
     },
     "execution_count": 8,
     "metadata": {},
     "output_type": "execute_result"
    }
   ],
   "source": [
    "list(article_information_dict['2021'])[-1]"
   ]
  },
  {
   "cell_type": "code",
   "execution_count": 9,
   "id": "4f1463a8-0840-4174-b781-136b7a69705e",
   "metadata": {},
   "outputs": [
    {
     "data": {
      "text/plain": [
       "'01'"
      ]
     },
     "execution_count": 9,
     "metadata": {},
     "output_type": "execute_result"
    }
   ],
   "source": [
    "list(article_information_dict['2021']['11'])[-1]"
   ]
  },
  {
   "cell_type": "code",
   "execution_count": null,
   "id": "cde73c37-4ec5-42bb-8d33-da933254244e",
   "metadata": {},
   "outputs": [],
   "source": []
  },
  {
   "cell_type": "code",
   "execution_count": null,
   "id": "ed34f2ca-e456-4efe-9de4-1bae5f65473e",
   "metadata": {},
   "outputs": [],
   "source": [
    "################################## EXPERIMENTAL STUFF ##################################"
   ]
  },
  {
   "cell_type": "code",
   "execution_count": 10,
   "id": "eb4f9904-3039-47b6-83d4-d1c7429aad12",
   "metadata": {
    "editable": true,
    "slideshow": {
     "slide_type": ""
    },
    "tags": []
   },
   "outputs": [],
   "source": [
    "url = 'https://www.tempo.co/indeks/{}-{}-{}/travel'"
   ]
  },
  {
   "cell_type": "code",
   "execution_count": 11,
   "id": "ccc92863-f0bd-4f7f-a61a-e8692f1374c5",
   "metadata": {},
   "outputs": [],
   "source": [
    "response = requests.post(url)"
   ]
  },
  {
   "cell_type": "code",
   "execution_count": 14,
   "id": "b0c39943-e926-44b8-8e84-f90e85afc748",
   "metadata": {},
   "outputs": [],
   "source": [
    "soup = bs(response.text)"
   ]
  },
  {
   "cell_type": "code",
   "execution_count": 15,
   "id": "1abc5f7b-77b5-4ac1-9b9a-3098d941d0b7",
   "metadata": {
    "scrolled": true
   },
   "outputs": [
    {
     "data": {
      "text/plain": [
       "<!DOCTYPE html>\n",
       "<html class=\"no-js\" lang=\"en\">\n",
       "<head>\n",
       "<title>Indeks 1 Februari 2024</title>\n",
       "<meta content=\"332404380172618\" property=\"fb:app_id\"/>\n",
       "<meta content=\"id_ID\" property=\"og:locale\"/>\n",
       "<meta charset=\"utf-8\"/>\n",
       "<meta content=\"IE=Edge\" http-equiv=\"X-UA-Compatible\"/>\n",
       "<meta content=\"width=device-width, initial-scale=1.0\" name=\"viewport\"/>\n",
       "<link href=\"https://www.tempo.co/indeks/2024-02-01/travel\" rel=\"original-source\"/>\n",
       "<link href=\"https://plus.google.com/109335234362909335582\" rel=\"publisher\"/>\n",
       "<meta content=\"\" name=\"description\"/>\n",
       "<meta content=\"\" name=\"keywords\"/>\n",
       "<meta content=\"all\" name=\"robots\"/>\n",
       "<meta content=\"index, follow, max-image-preview:large\" name=\"robots\"/>\n",
       "<meta content=\"index, follow\" name=\"yahoobot\"/>\n",
       "<meta content=\"index, follow\" name=\"googlebot-news\"/>\n",
       "<meta content=\"index, follow\" name=\"googlebot\"/>\n",
       "<link href=\"https://rss.tempo.co/\" rel=\"alternate\" title=\"Tempo.co RSS Feed\" type=\"application/rss+xml\"/>\n",
       "<meta content=\"M2xcdJ5TZd5mAsle_IY5qEv42TAd08Jkheo4-7tovx4\" name=\"google-site-verification\"/>\n",
       "<!-- indeks travel -->\n",
       "<link href=\"https://www.tempo.co/indeks/2024-02-01/travel\" rel=\"canonical\"/>\n",
       "<meta content=\"indeks\" name=\"adx:sections\"/>\n",
       "<script>\n",
       "      dataLayer = [{\n",
       "        \"breadcrumb_detail\": \"Section Page\",\n",
       "        \"content_category\": \"Indeks\"\n",
       "      }];\n",
       "    </script>\n",
       "<link href=\"https://fonts.googleapis.com\" rel=\"preconnect\"/>\n",
       "<link crossorigin=\"\" href=\"https://fonts.gstatic.com\" rel=\"preconnect\"/>\n",
       "<link as=\"style\" href=\"https://fonts.googleapis.com/css2?family=Open+Sans&amp;display=swap\" onload=\"this.onload=null;this.rel='stylesheet'\" rel=\"preload\"/>\n",
       "<noscript><link href=\"https://fonts.googleapis.com/css2?family=Open+Sans&amp;display=swap\" rel=\"stylesheet\"/></noscript>\n",
       "<link as=\"style\" href=\"https://fonts.googleapis.com/css2?family=Open+Sans:wght@500&amp;display=swap\" onload=\"this.onload=null;this.rel='stylesheet'\" rel=\"preload\"/>\n",
       "<noscript><link href=\"https://fonts.googleapis.com/css2?family=Open+Sans:wght@500&amp;display=swap\" rel=\"stylesheet\"/></noscript>\n",
       "<link as=\"style\" href=\"https://fonts.googleapis.com/css2?family=Open+Sans:wght@600&amp;display=swap\" onload=\"this.onload=null;this.rel='stylesheet'\" rel=\"preload\"/>\n",
       "<noscript><link href=\"https://fonts.googleapis.com/css2?family=Open+Sans:wght@600&amp;display=swap\" rel=\"stylesheet\"/></noscript>\n",
       "<link as=\"style\" href=\"https://fonts.googleapis.com/css2?family=Open+Sans:wght@700&amp;display=swap\" onload=\"this.onload=null;this.rel='stylesheet'\" rel=\"preload\"/>\n",
       "<noscript><link href=\"https://fonts.googleapis.com/css2?family=Open+Sans:wght@700&amp;display=swap\" rel=\"stylesheet\"/></noscript>\n",
       "<link as=\"style\" href=\"https://fonts.googleapis.com/css2?family=Open+Sans:wght@800&amp;display=swap\" onload=\"this.onload=null;this.rel='stylesheet'\" rel=\"preload\"/>\n",
       "<noscript><link href=\"https://fonts.googleapis.com/css2?family=Open+Sans:wght@800&amp;display=swap\" rel=\"stylesheet\"/></noscript>\n",
       "<link as=\"style\" href=\"https://www.tempo.co/desktop/css/base.css\" rel=\"preload\"/>\n",
       "<link as=\"style\" href=\"https://www.tempo.co/desktop/css/font-awesome.css\" rel=\"preload\"/>\n",
       "<link as=\"style\" href=\"https://www.tempo.co/desktop/css/slider.css\" rel=\"preload\"/>\n",
       "<link as=\"style\" href=\"https://www.tempo.co/desktop/css/popup.css\" rel=\"preload\"/>\n",
       "<link as=\"style\" href=\"https://www.tempo.co/desktop/css/mobile.css\" rel=\"preload\"/>\n",
       "<!-- <link rel=\"preload\" href=\"https://www.tempo.co/desktop/css/dark2.css\" as=\"style\" /> -->\n",
       "<link as=\"style\" href=\"https://www.tempo.co/desktop/css/plus.css\" rel=\"preload\"/>\n",
       "<link href=\"https://www.tempo.co/desktop/css/base.css?gjkdrt56443werr2346757klllp5\" rel=\"stylesheet\" type=\"text/css\"/>\n",
       "<link href=\"https://www.tempo.co/desktop/css/font-awesome.css\" rel=\"stylesheet\" type=\"text/css\"/>\n",
       "<link href=\"https://www.tempo.co/desktop/css/slider.css\" rel=\"stylesheet\" type=\"text/css\"/>\n",
       "<link href=\"https://www.tempo.co/desktop/css/popup.css\" rel=\"stylesheet\" type=\"text/css\"/>\n",
       "<link href=\"https://www.tempo.co/desktop/css/mobile.css\" rel=\"stylesheet\" type=\"text/css\"/>\n",
       "<!-- <link href=\"https://www.tempo.co/desktop/css/dark2.css\" rel=\"stylesheet\" type=\"text/css\"> -->\n",
       "<link href=\"https://www.tempo.co/desktop/css/plus.css\" rel=\"stylesheet\" type=\"text/css\"/>\n",
       "<link href=\"https://www.tempo.co/desktop/tempo-white.ico\" rel=\"shortcut icon\" type=\"image/x-icon\"/>\n",
       "<script async=\"\" src=\"https://www.google.com/recaptcha/api.js?onload=CaptchaCallback&amp;render=explicit\"></script>\n",
       "<script async=\"\" src=\"https://www.tempo.co/desktop/js/sweetalert2.all.min.js\"></script>\n",
       "<!-- Google Tag Manager -->\n",
       "<script>(function(w,d,s,l,i){w[l]=w[l]||[];w[l].push({'gtm.start':\n",
       " new Date().getTime(),event:'gtm.js'});var f=d.getElementsByTagName(s)[0],\n",
       " j=d.createElement(s),dl=l!='dataLayer'?'&l='+l:'';j.async=true;j.src=\n",
       " 'https://www.googletagmanager.com/gtm.js?id='+i+dl;f.parentNode.insertBefore(j,f);\n",
       " })(window,document,'script','dataLayer','GTM-KNSBXFS');</script>\n",
       "<!-- End Google Tag Manager -->\n",
       "<!-- Meta Pixel Code -->\n",
       "<script>\n",
       "  !function(f,b,e,v,n,t,s)\n",
       "  {if(f.fbq)return;n=f.fbq=function(){n.callMethod?\n",
       "  n.callMethod.apply(n,arguments):n.queue.push(arguments)};\n",
       "  if(!f._fbq)f._fbq=n;n.push=n;n.loaded=!0;n.version='2.0';\n",
       "  n.queue=[];t=b.createElement(e);t.async=!0;\n",
       "  t.src=v;s=b.getElementsByTagName(e)[0];\n",
       "  s.parentNode.insertBefore(t,s)}(window, document,'script',\n",
       "  'https://connect.facebook.net/en_US/fbevents.js');\n",
       "  fbq('init', '1216222032391240');\n",
       "  fbq('track', 'PageView');\n",
       "</script>\n",
       "<noscript><img height=\"1\" src=\"https://www.facebook.com/tr?id=1216222032391240&amp;ev=PageView&amp;noscript=1\" style=\"display:none\" width=\"1\"/></noscript>\n",
       "<!-- End Meta Pixel Code -->\n",
       "<!-- chartbeat -->\n",
       "<script type=\"text/javascript\">\n",
       "  (function() {\n",
       "    /** CONFIGURATION START **/\n",
       "    var _sf_async_config = window._sf_async_config = (window._sf_async_config || {});\n",
       "    _sf_async_config.uid = 30463;\n",
       "    _sf_async_config.domain = 'tempo.co'; //CHANGE THIS TO THE ROOT DOMAIN\n",
       "    _sf_async_config.flickerControl = false;\n",
       "    _sf_async_config.useCanonical = true;\n",
       "    _sf_async_config.useCanonicalDomain = true;\n",
       "    _sf_async_config.sections = 'travel'; // CHANGE THIS TO YOUR SECTION NAME(s)\n",
       "    _sf_async_config.authors = ''; // CHANGE THIS TO YOUR AUTHOR NAME(s)\n",
       "    var _cbq = window._cbq = (window._cbq || []);\n",
       "        _cbq.push(['_acct', 'anon']);\n",
       "    /** CONFIGURATION END **/\n",
       "    function loadChartbeat() {\n",
       "        var e = document.createElement('script');\n",
       "        var n = document.getElementsByTagName('script')[0];\n",
       "        e.type = 'text/javascript';\n",
       "        e.async = true;\n",
       "        e.src = '//static.chartbeat.com/js/chartbeat.js';;\n",
       "        n.parentNode.insertBefore(e, n);\n",
       "    }\n",
       "    loadChartbeat();\n",
       "  })();\n",
       "</script>\n",
       "<script async=\"\" src=\"//static.chartbeat.com/js/chartbeat_mab.js\"></script>\n",
       "<!-- Pubmatic Header Bidding Desktop GPT Tag -->\n",
       "<script type=\"text/javascript\">\n",
       "  var PWT={}; //Initialize Namespace\n",
       "\n",
       "  window.googletag = window.googletag || {cmd: []};\n",
       "\n",
       "  var gptRan = false;\n",
       "  PWT.jsLoaded = function(){ //PubMatic pwt.js on load callback is used to load GPT\n",
       "      loadGPT();\n",
       "  };\n",
       "  var loadGPT = function() {\n",
       "    // Check the gptRan flag\n",
       "    if (!gptRan) {\n",
       "        gptRan = true;\n",
       "        var gads = document.createElement('script');\n",
       "        gads.src = 'https://securepubads.g.doubleclick.net/tag/js/gpt.js';\n",
       "        var node = document.getElementsByTagName('script')[0];\n",
       "        node.parentNode.insertBefore(gads, node);\n",
       "    }\n",
       "  };\n",
       "  // Failsafe to call gpt\n",
       "  setTimeout(loadGPT, 200);\n",
       "\n",
       "(function() {\n",
       "\tvar purl = window.location.href;\n",
       "\tvar url = '//ads.pubmatic.com/AdServer/js/pwt/157077/910';\n",
       "\tvar profileVersionId = '';\n",
       "\tif(purl.indexOf('pwtv=')>0){\n",
       "\t\tvar regexp = /pwtv=(.*?)(&|$)/g;\n",
       "\t\tvar matches = regexp.exec(purl);\n",
       "\t\tif(matches.length >= 2 && matches[1].length > 0){\n",
       "\t\t\tprofileVersionId = '/'+matches[1];\n",
       "\t\t}\n",
       "\t}\n",
       "\tvar wtads = document.createElement('script');\n",
       "\twtads.async = true;\n",
       "\twtads.type = 'text/javascript';\n",
       "\twtads.src = url+profileVersionId+'/pwt.js';\n",
       "\tvar node = document.getElementsByTagName('script')[0];\n",
       "\tnode.parentNode.insertBefore(wtads, node);\n",
       "})();\n",
       "</script>\n",
       "<!-- End Pubmatic Header Bidding Desktop GPT Tag -->\n",
       "<!-- Start GPT Tag -->\n",
       "<script async=\"\" src=\"https://securepubads.g.doubleclick.net/tag/js/gpt.js\"></script>\n",
       "<script>\n",
       "  window.googletag = window.googletag || {cmd: []};\n",
       "  googletag.cmd.push(function() {\n",
       "    googletag.defineSlot('/14056285/Tempo_Desktop_Indeks/Leaderboard1', [[728,90]], 'div-gpt-ad-leaderboard1')\n",
       "             .addService(googletag.pubads());\n",
       "        googletag.defineSlot('/14056285/Tempo_Desktop_Indeks/Leaderboard2', [[728,90]], 'div-gpt-ad-leaderboard2')\n",
       "             .addService(googletag.pubads());\n",
       "        googletag.defineSlot('/14056285/Tempo_Desktop_Indeks/Billboard', [[970,250],[970,90]], 'div-gpt-ad-billboard')\n",
       "             .addService(googletag.pubads());\n",
       "    googletag.defineSlot('/14056285/Tempo_Desktop_Indeks/Native1', [[300,100]], 'div-gpt-ad-native1')\n",
       "             .addService(googletag.pubads());\n",
       "    googletag.defineSlot('/14056285/Tempo_Desktop_Indeks/Native2', [[300,100]], 'div-gpt-ad-native2')\n",
       "             .addService(googletag.pubads());\n",
       "    googletag.defineSlot('/14056285/Tempo_Desktop_Indeks/MR1', [[300,600],[300,250]], 'div-gpt-ad-mr1')\n",
       "             .addService(googletag.pubads());\n",
       "    googletag.defineSlot('/14056285/Tempo_Desktop_Indeks/MR2', [[300,250]], 'div-gpt-ad-mr2')\n",
       "             .addService(googletag.pubads());\n",
       "    googletag.defineSlot('/14056285/Tempo_Desktop_Indeks/MR3', [[300,250]], 'div-gpt-ad-mr3')\n",
       "             .addService(googletag.pubads());\n",
       "\n",
       "        googletag.defineSlot('/14056285/Tempo_Desktop_Indeks/Sticky', [[970,90],[728,90],[1,1]], 'div-gpt-ad-sticky')\n",
       "             .addService(googletag.pubads());\n",
       "    googletag.defineSlot('/14056285/Tempo_Desktop_Indeks/SkinLeft', [[120,600]], 'div-gpt-ad-skinleft')\n",
       "             .addService(googletag.pubads());\n",
       "    googletag.defineSlot('/14056285/Tempo_Desktop_Indeks/SkinRight', [[120,600]], 'div-gpt-ad-skinright')\n",
       "             .addService(googletag.pubads());\n",
       "\n",
       "        googletag.defineOutOfPageSlot('/14056285/Tempo_Desktop_Indeks/OOP', 'div-gpt-ad-oop')\n",
       "             .addService(googletag.pubads());\n",
       "    googletag.defineSlot('/14056285/Tempo_Desktop_Indeks/Outstream', [[1,1]], 'div-gpt-ad-outstream')\n",
       "             .addService(googletag.pubads());\n",
       "    googletag.defineSlot('/14056285/Tempo_Desktop_Indeks/Partner', [[1,1]], 'div-gpt-ad-partner')\n",
       "             .addService(googletag.pubads());\n",
       "        googletag.defineOutOfPageSlot('/14056285/Tempo_Desktop_Indeks/Interstitial', googletag.enums.OutOfPageFormat.INTERSTITIAL)\n",
       "             .addService(googletag.pubads());\n",
       "\n",
       "\n",
       "    googletag.pubads().setTargeting('pagetype', [\"main_page\"]);\n",
       "              googletag.pubads().enableSingleRequest();\n",
       "              googletag.pubads().collapseEmptyDivs();\n",
       "              googletag.pubads().setCentering(true);\n",
       "              googletag.enableServices();\n",
       "  });\n",
       "</script>\n",
       "<!-- End GPT Tag -->\n",
       "<script> window._izq = window._izq || []; window._izq.push([\"init\"]); </script>\n",
       "<script async=\"true\" src=\"https://cdn.izooto.com/scripts/69891eb5e4dcf5e05c73cae22a0a612c48b0a3cc.js\"></script>\n",
       "<!-- Jixie -->\n",
       "<script async=\"\" src=\"https://scripts.jixie.media/onescript/Te267Ckc0n/jx-Te33267EnmTw.min.js\"></script>\n",
       "<!-- geozo -->\n",
       "<!-- <script async src=\"https://cdn.geozo.com/8yvl17219ilvmp0y30qh8786/quv768/ykp4ez.go\"></script> -->\n",
       "<!-- Hotjar Tracking Code for my site -->\n",
       "<script>\n",
       "    (function(h,o,t,j,a,r){\n",
       "        h.hj=h.hj||function(){(h.hj.q=h.hj.q||[]).push(arguments)};\n",
       "        h._hjSettings={hjid:3206663,hjsv:6};\n",
       "        a=o.getElementsByTagName('head')[0];\n",
       "        r=o.createElement('script');r.async=1;\n",
       "        r.src=t+h._hjSettings.hjid+j+h._hjSettings.hjsv;\n",
       "        a.appendChild(r);\n",
       "    })(window,document,'https://static.hotjar.com/c/hotjar-','.js?sv=');\n",
       "</script>\n",
       "<!-- Test Kaikai-->\n",
       "<script async=\"\" src=\"https://pixel.cosmose.co/cosmose-pixel.js\" type=\"text/javascript\"></script>\n",
       "<!--remp -->\n",
       "<!-- kanal travel  -->\n",
       "<script type=\"text/javascript\">\n",
       "      (function (win, doc) {\n",
       "          function mock(fn) {\n",
       "              return function () {\n",
       "                  this._.push([fn, arguments])\n",
       "              }\n",
       "          }\n",
       "\n",
       "          function load(url) {\n",
       "              const script = doc.createElement(\"script\");\n",
       "              script.type = \"text/javascript\";\n",
       "              script.async = true;\n",
       "              script.src = url;\n",
       "              doc.getElementsByTagName(\"head\")[0].appendChild(script);\n",
       "          }\n",
       "\n",
       "          win.remplib = win.remplib || {};\n",
       "          const mockFuncs = {\n",
       "              \"campaign\": \"init\",\n",
       "              \"tracker\": \"init trackEvent trackPageview trackCommerce\",\n",
       "              \"iota\": \"init\"\n",
       "          };\n",
       "\n",
       "          Object.keys(mockFuncs).forEach(function (key) {\n",
       "              if (!win.remplib[key]) {\n",
       "                  let fn, i, funcs = mockFuncs[key].split(\" \");\n",
       "                  win.remplib[key] = {_: []};\n",
       "\n",
       "                  for (i = 0; i < funcs.length; i++) {\n",
       "                      fn = funcs[i];\n",
       "                      win.remplib[key][fn] = mock(fn);\n",
       "                  }\n",
       "              }\n",
       "          });\n",
       "          load(\"https://campaign.tempo.co/assets/lib/js/remplib.js\");\n",
       "          load(\"https://beam.tempo.co/assets/lib/js/remplib.js\");\n",
       "      })(window, document);\n",
       "\n",
       "      // configuration\n",
       "      // \n",
       "      const rempConfig = {\n",
       "          token: \"3d51ebdf-0895-4d97-b493-6dbbeaae2dac\",\n",
       "\n",
       "          signedIn: false,          articleElement: document.getElementById(\"article\"),\n",
       "          articleElementFn: function () {\n",
       "              return document.getElementById(\"article\");\n",
       "          },\n",
       "\n",
       "          // optional, controls where cookies (UTM parameters of visit) are stored\n",
       "          cookieDomain: \".tempo.co\",\n",
       "\n",
       "          // optional, controls which type of storage should be used by default (`local_storage` or `cookie`)\n",
       "          // default is `local_storage`\n",
       "          storage: \"local_storage\",\n",
       "\n",
       "          // optional article details\n",
       "           article: {\n",
       "               id: \"\", // optional\n",
       "  \t\t\t // category: \"super-truper-sekcia\",\n",
       "  \t\t\t // tags: [\"ijoe\"]\n",
       "           },\n",
       "\n",
       "          // required, Tracker API specific options\n",
       "          tracker: {\n",
       "              url: \"https://tracker-beam.tempo.co\",\n",
       "              timeSpent: {\n",
       "                  enabled: true\n",
       "              },\n",
       "\n",
       "              readingProgress: {\n",
       "                  enabled: false,\n",
       "                  interval: 5,\n",
       "              },\n",
       "          },\n",
       "\n",
       "          // required, Campaign specific options\n",
       "          campaign: {\n",
       "              // required, URL host of REMP Campaign\n",
       "              url: \"https://campaign.tempo.co\",\n",
       "\n",
       "              // Additional params that will be appended links within displayed banner\n",
       "              //\n",
       "              // Key represents variable name, value should be defined as callback returning string response.\n",
       "              // Following example will be appended as \"&foo=bar&baz=XXX\".\n",
       "              // If the value is not function, remplib validation will throw an error and won't proceed further.\n",
       "              // bannerUrlParams: {\n",
       "              //     \"foo\": function () {\n",
       "              //         return \"bar\"\n",
       "              //     },\n",
       "              //     \"baz\": function () {\n",
       "              //         return \"XXX\"\n",
       "              //     }\n",
       "              // },\n",
       "\n",
       "              variables: {\n",
       "                  // variables replace template placeholders in banners,\n",
       "                  // e.g. {{ email }} -> foo@example.com\n",
       "                  //\n",
       "                  // the callback doesn't pass any parameters, it's required for convenience and just-in-time evaluation\n",
       "                  //\n",
       "                  // missing variable is translated to empty string\n",
       "                  // email: {\n",
       "                  //     value: function () {\n",
       "                  //         return \"foo@example.com\"\n",
       "                  //     }\n",
       "                  // },\n",
       "              }\n",
       "          }\n",
       "      };\n",
       "      remplib.tracker.init(rempConfig); remplib.campaign.init(rempConfig);  </script>\n",
       "</head>\n",
       "<body>\n",
       "<!-- Google Tag Manager (noscript) -->\n",
       "<noscript><iframe height=\"0\" src=\"https://www.googletagmanager.com/ns.html?id=GTM-KNSBXFS\" style=\"display:none;visibility:hidden\" width=\"0\"></iframe></noscript>\n",
       "<!-- End Google Tag Manager (noscript) -->\n",
       "<div class=\"white-popup-block mfp-with-anim mfp-hide\" id=\"pops-login\">\n",
       "<div class=\"pops-header\">\n",
       "<img class=\"margin-bottom-xs\" src=\"https://www.tempo.co/desktop/images/logo-tempo-id.png\"/>\n",
       "<!-- <h4 class=\"title\">Satu Akun, Untuk Semua Akses</h4> -->\n",
       "</div>\n",
       "<div class=\"padding-top-sm padding-bottom-sm padding-left-lg padding-right-lg\">\n",
       "<form id=\"loginPost\">\n",
       "<div class=\"margin-bottom-sm\">\n",
       "<label class=\"medium\">Email</label>\n",
       "<div class=\"element-box\">\n",
       "<input class=\"element-input noicons darkline radius2\" id=\"username\" name=\"username\" type=\"text\"/>\n",
       "</div>\n",
       "</div>\n",
       "<div class=\"margin-bottom-sm\">\n",
       "<label class=\"medium\">Kata Sandi</label>\n",
       "<div class=\"element-box overinput\">\n",
       "<input class=\"element-input noicons darkline radius2 passwd\" id=\"password\" name=\"password\" type=\"password\"/>\n",
       "<button class=\"sign-btn bg-trans cl-dark eye-btn fa fa-eye-slash\" id=\"eye\"></button>\n",
       "</div>\n",
       "</div>\n",
       "<!-- <div class=\"g-recaptcha\" data-sitekey=\"6LcGRoIkAAAAAO2shGzSFo7NCxe1tj15fLKIiWHw\"></div> -->\n",
       "<div id=\"g-recaptcha1\"></div>\n",
       "<!-- <p class=\"margin-bottom-sm\">Lupa Kata Sandi? <a href=\"#pops-forgot\" class=\"buka-popup\" data-effect=\"mfp-zoom-out\">Klik di Sini</a></p> -->\n",
       "<p class=\"margin-bottom-sm\">Lupa Kata Sandi? <a data-effect=\"mfp-zoom-out\" href=\"https://subscribe.tempo.co/users/users/settings/\" target=\"_blank\">Klik di Sini</a></p>\n",
       "<button class=\"sign-btn bg-black cl-white\" style=\"font-size:14px; font-weight:600;\" type=\"submit\">Masuk</button>\n",
       "</form>\n",
       "<div class=\"\">\n",
       "<p class=\"margin-top-smx margin-bottom-smx devideseparat\" style=\"font-size:12px;\">atau Masuk melalui</p>\n",
       "</div>\n",
       "<div class=\"centering\">\n",
       "<a href=\"https://subscribe.tempo.co/sign/in?referer=https%3A%2F%2Fwww.tempo.co%2Findeks%2F2024-02-01%2Ftravel\" style=\"width:100%\">\n",
       "<button class=\"sign-btn line big margin-right-xs radius6\" style=\"font-size:14px;font-weight:600;\"><div class=\"icon-login-sosmed margin-right-xs\"><img src=\"https://www.tempo.co/desktop/images/icon-google.png\"/></div>Google</button>\n",
       "<!-- <button class=\"sign-btn line big margin-left-xs radius6\" style=\"font-size:14px;font-weight:600;\"><div class=\"icon-login-sosmed margin-right-xs\"><img src=\"desktop/images/icon-facebook.png\"></div>Facebook</button> -->\n",
       "</a>\n",
       "</div>\n",
       "<p class=\"margin-top-sm\">Belum Memiliki Akun <a class=\"\" data-effect=\"mfp-zoom-out\" href=\"https://subscribe.tempo.co/tempo-sales-funnel/tempo-sales-funnel-frontend/show?funnel=langganan-default-v2&amp;referer=https%3A%2F%2Fwww.tempo.co\">Daftar di Sini</a></p>\n",
       "</div>\n",
       "</div> <!-- end popup login -->\n",
       "<!-- popup register -->\n",
       "<div class=\"white-popup-block mfp-with-anim mfp-hide\" id=\"pops-daftar\">\n",
       "<div class=\"pops-header\">\n",
       "<img class=\"margin-bottom-xs\" src=\"https://www.tempo.co/desktop/images/logo-tempo-id.png\"/>\n",
       "<!-- <h4 class=\"title\">Satu Akun, Untuk Semua Akses</h4> -->\n",
       "</div>\n",
       "<div class=\"box-daftar\">\n",
       "<div class=\"padding-top-sm padding-bottom-sm padding-left-lg padding-right-lg\">\n",
       "<form id=\"regisPost\">\n",
       "<div class=\"margin-bottom-sm\">\n",
       "<label class=\"medium\">Nama Lengkap</label>\n",
       "<div class=\"element-box\">\n",
       "<input class=\"element-input noicons darkline radius2\" id=\"nama\" name=\"nama\" type=\"text\"/>\n",
       "</div>\n",
       "</div>\n",
       "<div class=\"margin-bottom-sm\">\n",
       "<label class=\"medium\">Email</label>\n",
       "<div class=\"element-box\">\n",
       "<input class=\"element-input noicons darkline radius2\" id=\"email\" name=\"email\" type=\"text\"/>\n",
       "</div>\n",
       "</div>\n",
       "<div class=\"margin-bottom-sm\">\n",
       "<label class=\"medium\">Kata Sandi</label>\n",
       "<div class=\"element-box overinput\">\n",
       "<input class=\"element-input noicons darkline radius2 passwd2\" id=\"passuser\" nauserme=\"password\" type=\"password\"/>\n",
       "<button class=\"sign-btn bg-trans cl-dark eye-btn2 fa fa-eye-slash\" id=\"eye2\"></button>\n",
       "</div>\n",
       "</div>\n",
       "<div class=\"margin-bottom-sm\">\n",
       "<label class=\"medium\">Ulangi Kata Sandi</label>\n",
       "<div class=\"element-box overinput\">\n",
       "<input class=\"element-input noicons darkline radius2 passwd3\" id=\"repassuser\" name=\"repassword\" type=\"password\"/>\n",
       "<button class=\"sign-btn bg-trans cl-dark eye-btn3 fa fa-eye-slash\" id=\"eye3\"></button>\n",
       "</div>\n",
       "</div>\n",
       "<!-- <div class=\"g-recaptcha\" data-sitekey=\"6LcGRoIkAAAAAO2shGzSFo7NCxe1tj15fLKIiWHw\"></div> -->\n",
       "<div id=\"g-recaptcha2\"></div>\n",
       "<br/>\n",
       "<button class=\"sign-btn bg-black cl-white\" style=\"font-size:14px; font-weight:600;\" type=\"submit\">Daftar</button>\n",
       "</form>\n",
       "<div class=\"\">\n",
       "<p class=\"margin-top-smx margin-bottom-smx devideseparat\" style=\"font-size:12px;\">atau Daftar melalui</p>\n",
       "</div>\n",
       "<div class=\"centering\">\n",
       "<a href=\"https://subscribe.tempo.co/sign/in?referer=https%3A%2F%2Fwww.tempo.co%2Findeks%2F2024-02-01%2Ftravel\" style=\"width:100%\">\n",
       "<button class=\"sign-btn line big margin-right-xs radius6\" style=\"font-size:14px;font-weight:600;\"><div class=\"icon-login-sosmed margin-right-xs\"><img src=\"https://www.tempo.co/desktop/images/icon-google.png\"/></div>Google</button>\n",
       "</a>\n",
       "<!-- <button class=\"sign-btn line big margin-left-xs radius6\" style=\"font-size:14px;font-weight:600;\"><div class=\"icon-login-sosmed margin-right-xs\"><img src=\"desktop/images/icon-facebook.png\"></div>Facebook</button> -->\n",
       "</div>\n",
       "<p class=\"margin-top-sm\">Sudah Memiliki Akun <a class=\"buka-popup\" data-effect=\"mfp-zoom-out\" href=\"#pops-login\">Masuk di Sini</a></p>\n",
       "</div>\n",
       "</div> <!-- end box daftar -->\n",
       "<div class=\"box-konfirmasi-daftar\">\n",
       "<div class=\"padding-top-sm padding-bottom-sm padding-left-lg padding-right-lg\">\n",
       "<div class=\"margin-bottom-sm\">\n",
       "<p class=\"fw7 fo16\">Konfirmasi Email</p>\n",
       "<p>Kami telah mengirimkan link aktivasi melalui email ke <strong>rudihamdani@gmail.com</strong>.</p>\n",
       "</div>\n",
       "<div class=\"margin-bottom-sm\">\n",
       "<p>Klik link aktivasi dan <strong class=\"cl-red\">dapatkan akses membaca 2 artikel gratis</strong> non Laput di koran dan Majalah Tempo</p>\n",
       "</div>\n",
       "<div class=\"margin-bottom-sm\">\n",
       "<p>Jika Anda tidak menerima email,<br/>\n",
       "<strong><a class=\"cl-blue\" href=\"#\">Kirimkan Lagi Sekarang</a></strong></p>\n",
       "</div>\n",
       "</div>\n",
       "</div> <!-- end box konfirmasi -->\n",
       "</div> <!-- end popup daftar -->\n",
       "<div class=\"block-all\" style=\"display:none;\"></div>\n",
       "<!-- <div id=\"custom_top_collapse_bar\"></div> -->\n",
       "<div class=\"head-banner\">\n",
       "<div class=\"inside-head-banner ninside-head-banner newhead-remp\">\n",
       "<button aria-label=\"Closed\" class=\"cls-head-banner ncls-head-banner\">\n",
       "<svg fill=\"none\" height=\"14\" viewbox=\"0 0 14 14\" width=\"14\" xmlns=\"http://www.w3.org/2000/svg\">\n",
       "<g id=\"XCircle\">\n",
       "<path d=\"M14 0H0V14H14V0Z\" fill=\"#212121\" id=\"Vector\"></path>\n",
       "<path d=\"M8.75 5.25L5.25 8.75\" id=\"Vector_2\" stroke=\"white\" stroke-linecap=\"round\" stroke-linejoin=\"round\"></path>\n",
       "<path d=\"M8.75 8.75L5.25 5.25\" id=\"Vector_3\" stroke=\"white\" stroke-linecap=\"round\" stroke-linejoin=\"round\"></path>\n",
       "</g>\n",
       "</svg>\n",
       "</button>\n",
       "<div class=\"bgwhite-ads-toplead\" id=\"teco_detail_article_top_leaderboard\"></div>\n",
       "<div class=\"bgwhite-ads-toplead\" id=\"teco_detail_article_top_leaderboard_html\"></div>\n",
       "</div>\n",
       "</div>\n",
       "<!-- <div class=\"head-banner\" style=\"height:68px; background:#fff\">\n",
       "\t<div class=\"inside-head-banner\">\n",
       "    <button class=\"cls-head-banner\" aria-label=\"Closed\">\n",
       "      <svg width=\"33\" height=\"32\" viewBox=\"0 0 33 32\" fill=\"none\" xmlns=\"http://www.w3.org/2000/svg\">\n",
       "          <path d=\"M16.6738 28C23.3012 28 28.6738 22.6274 28.6738 16C28.6738 9.37258 23.3012 4 16.6738 4C10.0464 4 4.67383 9.37258 4.67383 16C4.67383 22.6274 10.0464 28 16.6738 28Z\" fill=\"#FAFAFA\" fill-opacity=\"0.8\"></path>\n",
       "          <path d=\"M20.6738 12L12.6738 20\" stroke=\"#212121\" stroke-width=\"1.5\" stroke-linecap=\"round\" stroke-linejoin=\"round\"></path>\n",
       "          <path d=\"M20.6738 20L12.6738 12\" stroke=\"#212121\" stroke-width=\"1.5\" stroke-linecap=\"round\" stroke-linejoin=\"round\"></path>\n",
       "      </svg>\n",
       "    </button> -->\n",
       "<!-- <img src=\"https://www.tempo.co/desktop/banner/remp_banner1366x68.png\"> -->\n",
       "<!-- <div id=\"teco_detail_article_top_leaderboard\"></div>\n",
       "    </div>\n",
       "</div> -->\n",
       "<header class=\"header whead-banner\">\n",
       "<!-- <header class=\"header\"> -->\n",
       "<div class=\"header-in\">\n",
       "<div class=\"top-head\">\n",
       "<div class=\"logo\">\n",
       "<!-- <a href=\"https://www.tempo.co/\"><img loading=\"lazy\" src=\"https://www.tempo.co/desktop/images/logo-tempoco.png\"></a> -->\n",
       "<!-- <a href=\"https://www.tempo.co/\"><img loading=\"lazy\" src=\"https://www.tempo.co/desktop/images/logo_tempo_baru.png\"></a> -->\n",
       "<!-- <a href=\"https://www.tempo.co/\"><img loading=\"lazy\" src=\"https://www.tempo.co/desktop/images/logo-tempo-new1.png\"></a> -->\n",
       "<div class=\"inner-logo-remp\">\n",
       "<div id=\"teco_dekstop_logotempo\">\n",
       "<!-- <a href=\"https://www.tempo.co/\"><img loading=\"lazy\" src=\"https://www.tempo.co/desktop/images/logo_baru_teco.png\"></a> -->\n",
       "</div>\n",
       "</div>\n",
       "</div>\n",
       "<form action=\"https://www.tempo.co/search\" id=\"text\" method=\"get\">\n",
       "<div class=\"element-box search-top overinput\">\n",
       "<button aria-label=\"Pencarian Button\" class=\"sign-btn bg-trans\" onclick=\"location.href='https://www.tempo.co/search'\"><i class=\"fa fa-search cl-dark\"></i></button>\n",
       "<input autocomplete=\"off\" class=\"element-input small radius2 search-field\" id=\"search\" name=\"q\" placeholder=\"Cari Berita\" type=\"text\"/>\n",
       "<!--\n",
       "<div class=\"search-result padding-bottom-no\">\n",
       "    <div class=\"blockbox overflow\">\n",
       "        <p class=\"titlebox\">Hasil Pencarian</p>\n",
       "    </div>\n",
       "</div>\n",
       "-->\n",
       "<div class=\"search-popular padding-bottom-no\">\n",
       "<div class=\"blockbox overflow margin-bottom-no\">\n",
       "<p class=\"titlebox\">Pencarian Terpopuler</p>\n",
       "<ul class=\"row-list list-search-popular pad8\">\n",
       "<li><a href=\"https://www.tempo.co/tag/pilpres-2024\">Pilpres 2024</a></li>\n",
       "<li><a href=\"https://www.tempo.co/tag/pemilu-2024\">Pemilu 2024</a></li>\n",
       "<li><a href=\"https://www.tempo.co/tag/piala-asia-2024\">Piala Asia 2024</a></li>\n",
       "<li><a href=\"https://www.tempo.co/tag/mahfud-md\">Mahfud MD</a></li>\n",
       "<li><a href=\"https://www.tempo.co/tag/coldplay\">Coldplay</a></li>\n",
       "<li><a href=\"https://www.tempo.co/tag/gibran-rakabuming\">Gibran Rakabuming</a></li>\n",
       "<li><a href=\"https://www.tempo.co/tag/jokowi\">Jokowi</a></li>\n",
       "<li><a href=\"https://www.tempo.co/tag/ganjar-pranowo\">Ganjar Pranowo</a></li>\n",
       "<li><a href=\"https://www.tempo.co/tag/anies-baswedan\">Anies Baswedan</a></li>\n",
       "<li><a href=\"https://www.tempo.co/tag/prabowo-subianto\">Prabowo Subianto</a></li>\n",
       "</ul>\n",
       "</div>\n",
       "</div>\n",
       "</div>\n",
       "</form>\n",
       "<!-- <script type='text/javascript'>\n",
       "if ( window.history.replaceState ) {\n",
       "    window.history.replaceState( null, null, window.location.href );\n",
       "} -->\n",
       "<div class=\"item-menu wsub single-dropdown\">\n",
       "<button aria-label=\"Menu Tempo\" class=\"click-sub\">\n",
       "<div class=\"icon-menu cl-black\"><i class=\"fa fa-angle-down deicons\"></i></div>\n",
       "TEMPO EKSKLUSIF</button>\n",
       "<div class=\"subbox\">\n",
       "<div class=\"item-submenu\"><a class=\"cl-black\" href=\"https://koran.tempo.co/\">Koran Tempo</a></div>\n",
       "<div class=\"item-submenu\"><a class=\"cl-black\" href=\"https://majalah.tempo.co/\">Majalah Tempo</a></div>\n",
       "</div>\n",
       "</div>\n",
       "<a class=\"top-berlangganan radius2\" href=\"https://www.tempo.co/dukungkami\">Dukung Tempo</a>\n",
       "<div style=\"display:inline-flex;\">\n",
       "<a class=\"sign-btn small line radius2 minimalis margin-right-ss margin-left-ss\" data-effect=\"mfp-zoom-out\" href=\"https://subscribe.tempo.co/sso/auth/initial?ref=www.tempo.co%2Findeks%2F2024-02-01%2Ftravel\" style=\"font-size:12px;font-weight:600;\">MASUK</a>\n",
       "<!-- <a href=\"#pops-login\" class=\"buka-popup sign-btn small line radius2 minimalis margin-right-ss margin-left-ss\" style=\"font-size:12px;font-weight:600;\" data-effect=\"mfp-zoom-out\">MASUK</a> -->\n",
       "<a class=\"sign-btn small line radius2 minimalis margin-right-ss margin-left-ss\" data-effect=\"mfp-zoom-out\" href=\"https://subscribe.tempo.co/tempo-sales-funnel/tempo-sales-funnel-frontend/show?funnel=langganan-default-v2&amp;referer=www.tempo.co%2Findeks%2F2024-02-01%2Ftravel\" style=\"font-size:12px;font-weight:600;\">DAFTAR</a>\n",
       "</div>\n",
       "<!-- <div style=\"display:inline-flex;\"> -->\n",
       "<!-- <a href=\"#pops-login\" class=\"buka-popup sign-btn small line radius2 minimalis margin-right-ss margin-left-ss\" style=\"font-size:12px;font-weight:400;\" data-effect=\"mfp-zoom-out\">MASUK</a>\n",
       "  <a href=\"#pops-daftar\" class=\"buka-popup sign-btn small line radius2 minimalis margin-right-ss margin-left-ss\" style=\"font-size:12px;font-weight:400;\" data-effect=\"mfp-zoom-out\">DAFTAR</a> -->\n",
       "<!-- </div> -->\n",
       "<div class=\"lang\">\n",
       "<div class=\"id\"><a href=\"https://www.tempo.co/\"><img alt=\"image-bahasa\" decoding=\"async\" loading=\"lazy\" src=\"https://www.tempo.co/desktop/images/id.png\"/></a></div>\n",
       "<div class=\"uk\"><a href=\"//en.tempo.co\"><img alt=\"image-language\" decoding=\"async\" loading=\"lazy\" src=\"https://www.tempo.co/desktop/images/uk.png\"/></a></div>\n",
       "</div>\n",
       "</div> <!-- end top head -->\n",
       "</div>\n",
       "<!-- main menu. -->\n",
       "<div class=\"header-bot\">\n",
       "<nav>\n",
       "<div class=\"slider slider-menu\">\n",
       "<div class=\"item-menu\"><a class=\"\" href=\"https://www.tempo.co/\">Terbaru</a></div>\n",
       "<div class=\"item-menu\"><a class=\"\" href=\"https://www.tempo.co/terpopuler\">Terpopuler</a></div>\n",
       "<!-- <div class=\"item-menu\"><a href=\"https://www.tempo.co/favorit\" class=\"\">Berita Favorit</a></div> -->\n",
       "<div class=\"item-menu\"><a class=\"\" href=\"//pemilu.tempo.co\" tabindex=\"0\" target=\"_blank\">Pemilu <span class=\"badgenewpemilu\">Baru</span></a></div>\n",
       "<div class=\"item-menu wsub\"><button class=\"click-sub\"><div class=\"icon-menu\"><i class=\"fa fa-angle-down deicons\"></i></div>News</button>\n",
       "<div class=\"subbox\">\n",
       "<div class=\"item-submenu\"><a class=\"\" href=\"//nasional.tempo.co\">Nasional</a></div>\n",
       "<div class=\"item-submenu\"><a class=\"\" href=\"//metro.tempo.co\">Metro</a></div>\n",
       "<div class=\"item-submenu\"><a class=\"\" href=\"//bisnis.tempo.co\">Bisnis</a></div>\n",
       "<div class=\"item-submenu\"><a class=\"\" href=\"//dunia.tempo.co\">Dunia</a></div>\n",
       "<div class=\"item-submenu\"><a class=\"\" href=\"//fokus.tempo.co\">Fokus</a></div>\n",
       "</div>\n",
       "</div>\n",
       "<div class=\"item-menu wsub\"><button class=\"click-sub\"><div class=\"icon-menu\"><i class=\"fa fa-angle-down deicons\"></i></div>Multimedia</button>\n",
       "<div class=\"subbox\">\n",
       "<div class=\"item-submenu\"><a class=\"\" href=\"//video.tempo.co\">Video</a></div>\n",
       "<div class=\"item-submenu\"><a class=\"\" href=\"//foto.tempo.co\">Foto</a></div>\n",
       "<div class=\"item-submenu\"><a class=\"\" href=\"//podcast.tempo.co\">Podcast</a></div>\n",
       "</div>\n",
       "</div>\n",
       "<div class=\"item-menu\"><a class=\"\" href=\"//seleb.tempo.co\">Seleb</a></div>\n",
       "<div class=\"item-menu wsub\"><button class=\"click-sub\"><div class=\"icon-menu\"><i class=\"fa fa-angle-down deicons\"></i></div>Gaya Hidup</button>\n",
       "<div class=\"subbox\">\n",
       "<div class=\"item-submenu\"><a href=\"//gaya.tempo.co\">Gaya</a></div>\n",
       "<div class=\"item-submenu\"><a href=\"//cantik.tempo.co\">Cantik</a></div>\n",
       "<div class=\"item-submenu\"><a href=\"//travel.tempo.co\">Travel</a></div>\n",
       "</div>\n",
       "</div>\n",
       "<div class=\"item-menu wsub\"><button class=\"click-sub\"><div class=\"icon-menu\"><i class=\"fa fa-angle-down deicons\"></i></div>Olahraga</button>\n",
       "<div class=\"subbox\">\n",
       "<div class=\"item-submenu\"><a href=\"//bola.tempo.co\">Bola</a></div>\n",
       "<div class=\"item-submenu\"><a href=\"//sport.tempo.co\">Sport</a></div>\n",
       "</div>\n",
       "</div>\n",
       "<div class=\"item-menu\"><a class=\"\" href=\"//otomotif.tempo.co\">Otomotif</a></div>\n",
       "<div class=\"item-menu\"><a class=\"\" href=\"//tekno.tempo.co\">Tekno</a></div>\n",
       "<div class=\"item-menu wsub\"><button class=\"click-sub\"><div class=\"icon-menu\"><i class=\"fa fa-angle-down deicons\"></i></div>Interaktif</button>\n",
       "<div class=\"subbox\">\n",
       "<div class=\"item-submenu\"><a href=\"https://interaktif.tempo.co/proyeks\" target=\"_blank\">Interaktif</a></div>\n",
       "<div class=\"item-submenu\"><a href=\"//data.tempo.co\">Data</a></div>\n",
       "<div class=\"item-submenu\"><a href=\"//grafis.tempo.co\">Grafis</a></div>\n",
       "<div class=\"item-submenu\"><a href=\"https://interaktif.tempo.co/newsgame\" target=\"_blank\">News Game</a></div>\n",
       "</div>\n",
       "</div>\n",
       "<div class=\"item-menu\"><a class=\"\" href=\"//cekfakta.tempo.co\">Cek Fakta</a></div>\n",
       "<div class=\"item-menu\"><a class=\"\" href=\"https://ramadan.tempo.co/\" tabindex=\"0\" target=\"_blank\">Ramadan <!--<span class=\"badgenew\">Baru</span> --></a></div>\n",
       "<div class=\"item-menu\"><a class=\"\" href=\"//difabel.tempo.co\">Difabel</a></div>\n",
       "<div class=\"item-menu\"><a class=\"\" href=\"//kolom.tempo.co\">Kolom</a></div>\n",
       "<div class=\"item-menu\"><a class=\"\" href=\"//newsletter.tempo.co\">Newsletter</a></div>\n",
       "<div class=\"item-menu wsub\"><button class=\"click-sub\"><div class=\"icon-menu\"><i class=\"fa fa-angle-down deicons\"></i></div>Nusantara</button>\n",
       "<div class=\"subbox\">\n",
       "<div class=\"item-submenu\"><a href=\"//nusantara.tempo.co\">Jawa Barat</a></div>\n",
       "<div class=\"item-submenu\"><a href=\"//nusantara.tempo.co/bangka-belitung\">Bangka Belitung</a></div>\n",
       "</div>\n",
       "</div>\n",
       "<div class=\"item-menu wsub\"><button class=\"click-sub\"><div class=\"icon-menu\"><i class=\"fa fa-angle-down deicons\"></i></div>Info Tempo</button>\n",
       "<div class=\"subbox\">\n",
       "<div class=\"item-submenu\"><a href=\"//inforial.tempo.co\">Inforial</a></div>\n",
       "<div class=\"item-submenu\"><a href=\"//event.tempo.co\">Event</a></div>\n",
       "</div>\n",
       "</div>\n",
       "<div class=\"item-menu\"><a class=\"selected\" href=\"https://www.tempo.co/indeks\">Indeks</a></div>\n",
       "</div>\n",
       "</nav>\n",
       "</div>\n",
       "</header>\n",
       "<main class=\"cd-main-content whead-banner\" style=\"display:flex; flex:2;\">\n",
       "<!-- <main class=\"cd-main-content\" style=\"display:flex; flex:2;\"> -->\n",
       "<!-- <main class=\"cd-main-content\" style=\"display:flex; flex:2;\"> -->\n",
       "<!-- <div class=\"fix-left skinads-left\">\n",
       "  <div class=\"adskins\"><a href=\"#\"><img src=\"https://www.tempo.co/banner/banner120x600.png\"></a></div> -->\n",
       "<!-- </div> -->\n",
       "<div class=\"fix-left sticky-ad\" id=\"div-gpt-ad-skinleft\">\n",
       "<div class=\"adskins\">\n",
       "<script>\n",
       "      googletag.cmd.push(function() { googletag.display('div-gpt-ad-skinleft'); });\n",
       "    </script>\n",
       "</div>\n",
       "</div>\n",
       "<div class=\"container small left padding-no\">\n",
       "<div class=\"banner970x250 clear margin-bottom-sm mt-210\">\n",
       "<div id=\"div-gpt-ad-billboard\">\n",
       "<script>\n",
       "    googletag.cmd.push(function() { googletag.display('div-gpt-ad-billboard'); });\n",
       "  </script>\n",
       "</div>\n",
       "</div>\n",
       "<div class=\"blockbox overflow margin-bottom-no\">\n",
       "<h1 class=\"titlebox\">Indeks Berita</h1>\n",
       "</div>\n",
       "<main class=\"main-left\">\n",
       "<div class=\"margin-bottom-sm\">\n",
       "<div class=\"element-box\">\n",
       "<input class=\"element-input medium noicons minimalis radius2 margin-right-xs\" id=\"tanggal\" type=\"date\"/>\n",
       "<select class=\"element-select medium noicons minimalis radius2 margin-right-xs\" id=\"kanal\" name=\"cars\">\n",
       "<option selected=\"\" value=\"\">Semua Kanal</option>\n",
       "<option value=\"nasional\">Nasional</option>\n",
       "<option value=\"pilkada\">Pilkada</option>\n",
       "<option value=\"pilpres\">Pilpres</option>\n",
       "<option value=\"pemilu\">Pemilu</option>\n",
       "<option value=\"hukum\">Lawmag</option>\n",
       "<option value=\"metro\">Metro</option>\n",
       "<option value=\"dunia\">Dunia</option>\n",
       "<option value=\"bisnis\">Bisnis</option>\n",
       "<option value=\"bola\">Bola</option>\n",
       "<option value=\"sport\">Sport</option>\n",
       "<option value=\"pialadunia\">Piala Dunia</option>\n",
       "<option value=\"asiangames\">Asian Games</option>\n",
       "<option value=\"gaya\">Gaya</option>\n",
       "<option value=\"seleb\">Seleb</option>\n",
       "<option value=\"cantik\">Cantik</option>\n",
       "<option value=\"tekno\">Tekno</option>\n",
       "<option value=\"otomotif\">Otomotif</option>\n",
       "<option selected=\"\" value=\"travel\">Travel</option>\n",
       "<option value=\"blog\">Blog</option>\n",
       "<option value=\"difabel\">Difabel</option>\n",
       "<option value=\"ramadan\">Ramadan</option>\n",
       "<option value=\"kolom\">Kolom</option>\n",
       "<option value=\"fokus\">Fokus</option>\n",
       "<option value=\"creativelab\">Creativelab</option>\n",
       "<option value=\"event\">Event</option>\n",
       "<option value=\"indikator\">Indikator</option>\n",
       "<option value=\"video\">Video</option>\n",
       "<option value=\"foto\">Foto</option>\n",
       "<option value=\"infografis\">Infografis</option>\n",
       "<option value=\"podcast\">Podcast</option>\n",
       "<option value=\"inforial\">Inforial</option>\n",
       "<option value=\"data\">Data</option>\n",
       "<option value=\"cekfakta\">Cekfakta</option>\n",
       "<option value=\"BBC\">BBC</option>\n",
       "<option value=\"ABC\">ABC</option>\n",
       "<option value=\"DW\">DW</option>\n",
       "<!-- <option value=\"SKYTV\">SKYTV</option>\n",
       "\t\t\t\t<option value=\"ZOOMINTV\">ZOOMMIN</option> -->\n",
       "<input id=\"subkanal\" name=\"subkanal\" type=\"hidden\" value=\"\"/>\n",
       "</select>\n",
       "<!-- <select name=\"cars\" id=\"subkanal\" class=\"element-select medium noicons minimalis radius2\">\n",
       "        <option value=\"semua\">Semua SubKanal</option>\n",
       "        <option value=\"Nasional\">Nasional</option>\n",
       "        <option value=\"Metro\">Metro</option>\n",
       "        <option value=\"Bisnis\">Bisnis</option>\n",
       "        <option value=\"Dunia\">Dunia</option>\n",
       "        <option value=\"Video\">Video</option>\n",
       "        <option value=\"Foto\">Foto</option>\n",
       "        <option value=\"Podcast\">Podcast</option>\n",
       "    </select> -->\n",
       "<div style=\"display:inline-flex;\">\n",
       "<button class=\"sign-btn line medium margin-bottom-lg margin-left-ss\" id=\"getdate\">CARI</button>\n",
       "</div>\n",
       "</div>\n",
       "</div>\n",
       "<!-- <div id=\"teco_kanal_midle_superleaderboard\"></div> -->\n",
       "<div class=\"homebanner728 banner728 nbanner728 margin-bottom-sm mid-remp-ads\">\n",
       "<div class=\"inside728 ninside728\">\n",
       "<button aria-label=\"Closed\" class=\"cls-mid-banner\">\n",
       "<svg fill=\"none\" height=\"14\" viewbox=\"0 0 14 14\" width=\"14\" xmlns=\"http://www.w3.org/2000/svg\">\n",
       "<g id=\"XCircle\">\n",
       "<path d=\"M14 0H0V14H14V0Z\" fill=\"#212121\" id=\"Vector\"></path>\n",
       "<path d=\"M8.75 5.25L5.25 8.75\" id=\"Vector_2\" stroke=\"white\" stroke-linecap=\"round\" stroke-linejoin=\"round\"></path>\n",
       "<path d=\"M8.75 8.75L5.25 5.25\" id=\"Vector_3\" stroke=\"white\" stroke-linecap=\"round\" stroke-linejoin=\"round\"></path>\n",
       "</g>\n",
       "</svg>\n",
       "</button>\n",
       "<div id=\"teco_kanal_midle_superleaderboard\"></div>\n",
       "<div class=\"bgwhite-ads-midlead\">\n",
       "<div id=\"teco_kanal_midle_superleaderboard_html\"></div>\n",
       "</div>\n",
       "</div>\n",
       "</div>\n",
       "<!-- <div class=\"banner728 margin-bottom-sm\">\n",
       "  <div class=\"inside728\">\n",
       "  <button class=\"cls728\" aria-label=\"Close Banner\">X</button> -->\n",
       "<!-- <img src=\"banner/banner728x90.png\"> -->\n",
       "<!-- <div id=\"teco_kanal_midle_superleaderboard\"></div>\n",
       "  </div>\n",
       "</div> -->\n",
       "<div class=\"card-box ft240 margin-bottom-sm\">\n",
       "<figure class=\"img-card\">\n",
       "<a href=\"https://travel.tempo.co/read/1828650/traveloka-bagi-rekomendasi-manfaatkan-libur-tahun-baru-imlek-dan-pemilu\">\n",
       "<img loading=\"lazy\" src=\"https://statik.tempo.co/data/2023/11/13/id_1253861/1253861_400.jpg\"/>\n",
       "</a>\n",
       "</figure>\n",
       "<article class=\"text-card\">\n",
       "<h2 class=\"title\"><a href=\"https://travel.tempo.co/read/1828650/traveloka-bagi-rekomendasi-manfaatkan-libur-tahun-baru-imlek-dan-pemilu\">Traveloka Bagi Rekomendasi Manfaatkan Libur Tahun Baru Imlek dan Pemilu</a></h2>\n",
       "<p>Bulan Februari 2024 memiliki banyak hari libur yang bisa dimanfaatkan, dari Tahun Baru Imlek hingga setelah Pemilu 2024</p>\n",
       "<h4 class=\"date\">1 hari lalu</h4>\n",
       "</article>\n",
       "</div>\n",
       "<div class=\"card-box ft240 margin-bottom-sm\">\n",
       "<figure class=\"img-card\">\n",
       "<a href=\"https://travel.tempo.co/read/1828580/itdc-dan-pemkab-lombok-tengah-optimalisasi-aset-di-kek-mandalika\">\n",
       "<img loading=\"lazy\" src=\"https://statik.tempo.co/data/2023/08/05/id_1225658/1225658_400.jpg\"/>\n",
       "</a>\n",
       "</figure>\n",
       "<article class=\"text-card\">\n",
       "<h2 class=\"title\"><a href=\"https://travel.tempo.co/read/1828580/itdc-dan-pemkab-lombok-tengah-optimalisasi-aset-di-kek-mandalika\">ITDC dan Pemkab Lombok Tengah Optimalisasi Aset di KEK Mandalika </a></h2>\n",
       "<p>Kesepakatan ini menjadi payung dari komitmen bersama untuk mempercepat pembangunan KEK Mandalika.</p>\n",
       "<h4 class=\"date\">1 hari lalu</h4>\n",
       "</article>\n",
       "</div>\n",
       "<div class=\"card-box ft240 margin-bottom-sm\">\n",
       "<figure class=\"img-card\">\n",
       "<a href=\"https://travel.tempo.co/read/1828641/manfaatkan-promo-liburan-untuk-tahun-baru-imlek-dan-setelah-pemilu\">\n",
       "<img loading=\"lazy\" src=\"https://statik.tempo.co/data/2024/02/01/id_1276480/1276480_400.jpg\"/>\n",
       "</a>\n",
       "</figure>\n",
       "<article class=\"text-card\">\n",
       "<h2 class=\"title\"><a href=\"https://travel.tempo.co/read/1828641/manfaatkan-promo-liburan-untuk-tahun-baru-imlek-dan-setelah-pemilu\">Manfaatkan Promo Liburan untuk Tahun Baru Imlek dan Setelah Pemilu </a></h2>\n",
       "<p>Traveloka memberikan beberapa penawaran menarik untuk liburan selama periode Tahun Baru Imlek dan setelah Pemilu 2024</p>\n",
       "<h4 class=\"date\">1 hari lalu</h4>\n",
       "</article>\n",
       "</div>\n",
       "<div class=\"card-box ft240 margin-bottom-sm\">\n",
       "<figure class=\"img-card\">\n",
       "<a href=\"https://travel.tempo.co/read/1828630/working-holiday-visa-australia-peluang-liburan-panjang-dan-bekerja-di-negeri-kanguru-ketahui-syaratnya\">\n",
       "<img loading=\"lazy\" src=\"https://statik.tempo.co/data/2023/12/11/id_1262211/1262211_400.jpg\"/>\n",
       "</a>\n",
       "</figure>\n",
       "<article class=\"text-card\">\n",
       "<h2 class=\"title\"><a href=\"https://travel.tempo.co/read/1828630/working-holiday-visa-australia-peluang-liburan-panjang-dan-bekerja-di-negeri-kanguru-ketahui-syaratnya\">Working Holiday Visa Australia: Peluang Liburan Panjang dan Bekerja di Negeri Kanguru, Ketahui Syaratnya</a></h2>\n",
       "<p>Segala hal yang perlu diketahui tentang Working Holiday Visa (WHV) Australia, termasuk syarat-syarat, durasi tinggal, dan jenis-jenis visa.</p>\n",
       "<h4 class=\"date\">1 hari lalu</h4>\n",
       "</article>\n",
       "</div>\n",
       "<div class=\"card-box ft240 margin-bottom-sm\">\n",
       "<figure class=\"img-card\">\n",
       "<a href=\"https://travel.tempo.co/read/1828581/asal-usul-karnaval-venesia-dan-deretan-acaranya\">\n",
       "<img loading=\"lazy\" src=\"https://statik.tempo.co/data/2024/01/29/id_1275396/1275396_400.jpg\"/>\n",
       "</a>\n",
       "</figure>\n",
       "<article class=\"text-card\">\n",
       "<h2 class=\"title\"><a href=\"https://travel.tempo.co/read/1828581/asal-usul-karnaval-venesia-dan-deretan-acaranya\">Asal-usul Karnaval Venesia dan Deretan Acaranya</a></h2>\n",
       "<p> Karnaval Venesia berlangsung pada 27 Januari hingga 13 Februari 2024</p>\n",
       "<h4 class=\"date\">1 hari lalu</h4>\n",
       "</article>\n",
       "</div>\n",
       "<div class=\"bggrey iklan w-100\">Iklan</div>\n",
       "<div class=\"banner728 margin-bottom-lg pad48\">\n",
       "<div class=\"inside728\">\n",
       "<button aria-label=\"Close Banner\" class=\"cls728\">\n",
       "<svg fill=\"none\" height=\"32\" viewbox=\"0 0 33 32\" width=\"33\" xmlns=\"http://www.w3.org/2000/svg\">\n",
       "<path d=\"M16.6738 28C23.3012 28 28.6738 22.6274 28.6738 16C28.6738 9.37258 23.3012 4 16.6738 4C10.0464 4 4.67383 9.37258 4.67383 16C4.67383 22.6274 10.0464 28 16.6738 28Z\" fill=\"#FAFAFA\" fill-opacity=\"0.8\"></path>\n",
       "<path d=\"M20.6738 12L12.6738 20\" stroke=\"#212121\" stroke-linecap=\"round\" stroke-linejoin=\"round\" stroke-width=\"1.5\"></path>\n",
       "<path d=\"M20.6738 20L12.6738 12\" stroke=\"#212121\" stroke-linecap=\"round\" stroke-linejoin=\"round\" stroke-width=\"1.5\"></path>\n",
       "</svg>\n",
       "</button>\n",
       "<div id=\"div-gpt-ad-leaderboard1\">\n",
       "<script>\n",
       "                    googletag.cmd.push(function() { googletag.display('div-gpt-ad-leaderboard1'); });\n",
       "                  </script>\n",
       "</div>\n",
       "</div>\n",
       "</div>\n",
       "<div class=\"card-box ft240 margin-bottom-sm\">\n",
       "<figure class=\"img-card\">\n",
       "<a href=\"https://travel.tempo.co/read/1828545/kapal-pesiar-italia-aida-bella-singgah-di-pelabuhan-gili-mas-lombok\">\n",
       "<img loading=\"lazy\" src=\"https://statik.tempo.co/data/2024/02/01/id_1276394/1276394_400.jpg\"/>\n",
       "</a>\n",
       "</figure>\n",
       "<article class=\"text-card\">\n",
       "<h2 class=\"title\"><a href=\"https://travel.tempo.co/read/1828545/kapal-pesiar-italia-aida-bella-singgah-di-pelabuhan-gili-mas-lombok\">Kapal Pesiar Italia Aida Bella Singgah di Pelabuhan Gili Mas Lombok</a></h2>\n",
       "<p>Sejumlah 830 penumpang kapal pesiar dijadwalkan mengunjungi tempat-tempat wisata yang ada di Lombok </p>\n",
       "<h4 class=\"date\">1 hari lalu</h4>\n",
       "</article>\n",
       "</div>\n",
       "<div class=\"card-box ft240 margin-bottom-sm\">\n",
       "<figure class=\"img-card\">\n",
       "<a href=\"https://travel.tempo.co/read/1828517/strategi-agar-bali-bisa-jaring-7-juta-wisatawan-mancanegara-tanpa-overtourism\">\n",
       "<img loading=\"lazy\" src=\"https://statik.tempo.co/data/2023/12/19/id_1264597/1264597_400.jpg\"/>\n",
       "</a>\n",
       "</figure>\n",
       "<article class=\"text-card\">\n",
       "<h2 class=\"title\"><a href=\"https://travel.tempo.co/read/1828517/strategi-agar-bali-bisa-jaring-7-juta-wisatawan-mancanegara-tanpa-overtourism\">Strategi agar Bali Bisa Jaring 7 Juta Wisatawan Mancanegara tanpa Overtourism</a></h2>\n",
       "<p>Kemenparekraf menargetkan 14,3 juta kunjungan wisatawan mancanegara ke Indonesia. Bali menyumbang 50 persen dari angka itu.</p>\n",
       "<h4 class=\"date\">1 hari lalu</h4>\n",
       "</article>\n",
       "</div>\n",
       "<div class=\"card-box ft240 margin-bottom-sm\">\n",
       "<figure class=\"img-card\">\n",
       "<a href=\"https://travel.tempo.co/read/1828474/marak-aksi-boikot-starbucks-indonesia-sebut-toko-lebih-sepi-dan-mitra-terdampak\">\n",
       "<img loading=\"lazy\" src=\"https://statik.tempo.co/data/2022/10/01/id_1145263/1145263_400.jpg\"/>\n",
       "</a>\n",
       "</figure>\n",
       "<article class=\"text-card\">\n",
       "<h2 class=\"title\"><a href=\"https://travel.tempo.co/read/1828474/marak-aksi-boikot-starbucks-indonesia-sebut-toko-lebih-sepi-dan-mitra-terdampak\">Marak Aksi Boikot, Starbucks Indonesia Sebut Toko Lebih Sepi dan Mitra Terdampak </a></h2>\n",
       "<p>Starbucks menjadi salah satu merek yang terkena dampak kampanye boikot Israel,  Malaysia dan negara-negara di Tim</p>\n",
       "<h4 class=\"date\">1 hari lalu</h4>\n",
       "</article>\n",
       "</div>\n",
       "<div class=\"card-box ft240 margin-bottom-sm\">\n",
       "<figure class=\"img-card\">\n",
       "<a href=\"https://travel.tempo.co/read/1828441/akses-machu-picchu-dibuka-lagi-setelah-aksi-protes-berakhir\">\n",
       "<img loading=\"lazy\" src=\"https://statik.tempo.co/data/2023/12/05/id_1260423/1260423_400.jpg\"/>\n",
       "</a>\n",
       "</figure>\n",
       "<article class=\"text-card\">\n",
       "<h2 class=\"title\"><a href=\"https://travel.tempo.co/read/1828441/akses-machu-picchu-dibuka-lagi-setelah-aksi-protes-berakhir\">Akses Machu Picchu Dibuka Lagi Setelah Aksi Protes Berakhir </a></h2>\n",
       "<p>Pembukaan akses Machu Picchu dilakukan setelah tercapainya kesepakatan antara pemerintah dan kelompok pengunjuk rasa tentang sistem penjualan tiket.</p>\n",
       "<h4 class=\"date\">1 hari lalu</h4>\n",
       "</article>\n",
       "</div>\n",
       "<div class=\"card-box ft240 margin-bottom-sm\">\n",
       "<figure class=\"img-card\">\n",
       "<a href=\"https://travel.tempo.co/read/1828499/detik-detik-pemandangan-air-terjun-tumpak-sewu-berubah-menakutkan-akibat-lahar-gunung-semeru\">\n",
       "<img loading=\"lazy\" src=\"https://statik.tempo.co/data/2024/02/01/id_1276367/1276367_400.jpg\"/>\n",
       "</a>\n",
       "</figure>\n",
       "<article class=\"text-card\">\n",
       "<h2 class=\"title\"><a href=\"https://travel.tempo.co/read/1828499/detik-detik-pemandangan-air-terjun-tumpak-sewu-berubah-menakutkan-akibat-lahar-gunung-semeru\">Detik-detik Pemandangan Air Terjun Tumpak Sewu Berubah Menakutkan Akibat Lahar Gunung Semeru</a></h2>\n",
       "<p>Ribuan wisatawan baik domestik maupun mancanegara datang berkunjung ke air terjun Tumpak Sewu. </p>\n",
       "<h4 class=\"date\">1 hari lalu</h4>\n",
       "</article>\n",
       "</div>\n",
       "<div id=\"div-gpt-ad-leaderboard2\">\n",
       "<script>\n",
       "    googletag.cmd.push(function() { googletag.display('div-gpt-ad-leaderboard2'); });\n",
       "  </script>\n",
       "</div>\n",
       "<br/>\n",
       "<div class=\"card-box ft240 margin-bottom-sm\">\n",
       "<figure class=\"img-card\">\n",
       "<a href=\"https://travel.tempo.co/read/1828322/tips-untuk-wisatawan-lanjut-usia-traveling-dengan-pesawat-terbang\">\n",
       "<img loading=\"lazy\" src=\"https://statik.tempo.co/data/2024/02/01/id_1276341/1276341_400.jpg\"/>\n",
       "</a>\n",
       "</figure>\n",
       "<article class=\"text-card\">\n",
       "<h2 class=\"title\"><a href=\"https://travel.tempo.co/read/1828322/tips-untuk-wisatawan-lanjut-usia-traveling-dengan-pesawat-terbang\">Tips untuk Wisatawan Lanjut Usia Traveling dengan Pesawat Terbang</a></h2>\n",
       "<p>Wisatawan lanjut usia sering kali melakukan kesalahan saat traveling dengan pesawat terbang.</p>\n",
       "<h4 class=\"date\">1 hari lalu</h4>\n",
       "</article>\n",
       "</div>\n",
       "<div class=\"card-box ft240 margin-bottom-sm\">\n",
       "<figure class=\"img-card\">\n",
       "<a href=\"https://travel.tempo.co/read/1828433/gibran-sebut-soal-desa-wisata-dalam-debat-cawapres-lalu-begini-syarat-menjadi-desa-wisata\">\n",
       "<img loading=\"lazy\" src=\"https://statik.tempo.co/data/2021/09/08/id_1049134/1049134_400.jpg\"/>\n",
       "</a>\n",
       "</figure>\n",
       "<article class=\"text-card\">\n",
       "<h2 class=\"title\"><a href=\"https://travel.tempo.co/read/1828433/gibran-sebut-soal-desa-wisata-dalam-debat-cawapres-lalu-begini-syarat-menjadi-desa-wisata\">Gibran Sebut Soal Desa Wisata dalam Debat Cawapres Lalu, Begini Syarat Menjadi Desa Wisata?</a></h2>\n",
       "<p>Gibran sebut soal desa wisata saat debat cawapres lalu. Apa saja syarat menjadi desa wisata?</p>\n",
       "<h4 class=\"date\">1 hari lalu</h4>\n",
       "</article>\n",
       "</div>\n",
       "<div class=\"card-box ft240 margin-bottom-sm\">\n",
       "<figure class=\"img-card\">\n",
       "<a href=\"https://travel.tempo.co/read/1828323/3-gebrakan-subway-di-awal-2024-gerai-ke-100-menu-baru-hingga-komitmen-berkelanjutan\">\n",
       "<img loading=\"lazy\" src=\"https://statik.tempo.co/data/2024/01/31/id_1276207/1276207_400.jpg\"/>\n",
       "</a>\n",
       "</figure>\n",
       "<article class=\"text-card\">\n",
       "<h2 class=\"title\"><a href=\"https://travel.tempo.co/read/1828323/3-gebrakan-subway-di-awal-2024-gerai-ke-100-menu-baru-hingga-komitmen-berkelanjutan\">3 Gebrakan Subway di Awal 2024, Gerai ke-100, Menu Baru hingga Komitmen Berkelanjutan</a></h2>\n",
       "<p>Selain membuka gerai ke-100, Subway juga menunjukkan komitmen terhadap keberlanjutan dengan menggunakan telur bebas kandang baterai</p>\n",
       "<h4 class=\"date\">1 hari lalu</h4>\n",
       "</article>\n",
       "</div>\n",
       "<div class=\"card-box ft240 margin-bottom-sm\">\n",
       "<figure class=\"img-card\">\n",
       "<a href=\"https://travel.tempo.co/read/1828404/7-kuliner-khas-ternate-yang-tak-boleh-dilewatkan\">\n",
       "<img loading=\"lazy\" src=\"https://statik.tempo.co/data/2023/04/02/id_1193975/1193975_400.jpg\"/>\n",
       "</a>\n",
       "</figure>\n",
       "<article class=\"text-card\">\n",
       "<h2 class=\"title\"><a href=\"https://travel.tempo.co/read/1828404/7-kuliner-khas-ternate-yang-tak-boleh-dilewatkan\">7 Kuliner Khas Ternate yang Tak Boleh Dilewatkan</a></h2>\n",
       "<p>kuliner Ternate menawarkan pengalaman cita rasa  bagi siapapun yang mencicipinya. Cek 7 kuliner khas ini.</p>\n",
       "<h4 class=\"date\">1 hari lalu</h4>\n",
       "</article>\n",
       "</div>\n",
       "<div class=\"card-box ft240 margin-bottom-sm\">\n",
       "<figure class=\"img-card\">\n",
       "<a href=\"https://travel.tempo.co/read/1828422/eksplorasi-pesona-alam-dan-budaya-ini-5-desa-wisata-terbaik-di-jawa-timur\">\n",
       "<img loading=\"lazy\" src=\"https://statik.tempo.co/data/2021/07/09/id_1033705/1033705_400.jpg\"/>\n",
       "</a>\n",
       "</figure>\n",
       "<article class=\"text-card\">\n",
       "<h2 class=\"title\"><a href=\"https://travel.tempo.co/read/1828422/eksplorasi-pesona-alam-dan-budaya-ini-5-desa-wisata-terbaik-di-jawa-timur\">Eksplorasi Pesona Alam dan Budaya, Ini 5 Desa Wisata Terbaik di Jawa Timur </a></h2>\n",
       "<p>Jawa Timur memang jagonya dalam pengembangan desa wisata, berikut 5 desa wisata yang wajib Anda cantumkan dalam daftar perjalanan Anda.</p>\n",
       "<h4 class=\"date\">1 hari lalu</h4>\n",
       "</article>\n",
       "</div>\n",
       "<div class=\"card-box ft240 margin-bottom-sm\">\n",
       "<figure class=\"img-card\">\n",
       "<a href=\"https://travel.tempo.co/read/1828416/banyak-kecelakaan-dan-bangunan-rentan-venesia-batasi-kecepatan-perahu-yang-melewati-kanal\">\n",
       "<img loading=\"lazy\" src=\"https://statik.tempo.co/data/2023/12/08/id_1261382/1261382_400.jpg\"/>\n",
       "</a>\n",
       "</figure>\n",
       "<article class=\"text-card\">\n",
       "<h2 class=\"title\"><a href=\"https://travel.tempo.co/read/1828416/banyak-kecelakaan-dan-bangunan-rentan-venesia-batasi-kecepatan-perahu-yang-melewati-kanal\">Banyak Kecelakaan dan Bangunan Rentan, Venesia Batasi Kecepatan Perahu yang Melewati Kanal</a></h2>\n",
       "<p>Aturan batas kecepatan dibuat untuk melindungi bangunan-bangunan tua di Venesia dari pengikisan akibat gelombang.</p>\n",
       "<h4 class=\"date\">1 hari lalu</h4>\n",
       "</article>\n",
       "</div>\n",
       "<div class=\"card-box ft240 margin-bottom-sm\">\n",
       "<figure class=\"img-card\">\n",
       "<a href=\"https://travel.tempo.co/read/1828395/mengintip-keindahan-6-destinasi-wisata-di-ternate-jangan-lupa-danau-tolire\">\n",
       "<img loading=\"lazy\" src=\"https://statik.tempo.co/data/2014/12/28/id_356038/356038_400.jpg\"/>\n",
       "</a>\n",
       "</figure>\n",
       "<article class=\"text-card\">\n",
       "<h2 class=\"title\"><a href=\"https://travel.tempo.co/read/1828395/mengintip-keindahan-6-destinasi-wisata-di-ternate-jangan-lupa-danau-tolire\">Mengintip Keindahan 6 Destinasi Wisata di Ternate, Jangan Lupa Danau Tolire</a></h2>\n",
       "<p>Ternate adalah tempat yang memiliki banyak keajaiban alam serta sejarah yang menunggu untuk dijelajahi, berikut beberapa rekomendasi yang dapat Anda kunjungi.</p>\n",
       "<h4 class=\"date\">1 hari lalu</h4>\n",
       "</article>\n",
       "</div>\n",
       "<div class=\"card-box ft240 margin-bottom-sm\">\n",
       "<figure class=\"img-card\">\n",
       "<a href=\"https://travel.tempo.co/read/1828379/mau-menjelajah-selandia-baru-dengan-campervan-ketahui-aturan-ini-agar-tak-kena-denda\">\n",
       "<img loading=\"lazy\" src=\"https://statik.tempo.co/data/2024/02/01/id_1276285/1276285_400.jpg\"/>\n",
       "</a>\n",
       "</figure>\n",
       "<article class=\"text-card\">\n",
       "<h2 class=\"title\"><a href=\"https://travel.tempo.co/read/1828379/mau-menjelajah-selandia-baru-dengan-campervan-ketahui-aturan-ini-agar-tak-kena-denda\">Mau Menjelajah Selandia Baru dengan Campervan? Ketahui Aturan Ini agar Tak Kena Denda </a></h2>\n",
       "<p>Undang-undang baru Selandia Baru mencegah para penggemar kemping merusak bagian-bagian indah pedesaan. </p>\n",
       "<h4 class=\"date\">1 hari lalu</h4>\n",
       "</article>\n",
       "</div>\n",
       "<div class=\"card-box ft240 margin-bottom-sm\">\n",
       "<figure class=\"img-card\">\n",
       "<a href=\"https://travel.tempo.co/read/1828391/anies-baswedan-kampanye-di-ternate-begini-sejarah-kesultanan-ternate\">\n",
       "<img loading=\"lazy\" src=\"https://statik.tempo.co/data/2023/03/23/id_1191223/1191223_400.jpg\"/>\n",
       "</a>\n",
       "</figure>\n",
       "<article class=\"text-card\">\n",
       "<h2 class=\"title\"><a href=\"https://travel.tempo.co/read/1828391/anies-baswedan-kampanye-di-ternate-begini-sejarah-kesultanan-ternate\">Anies Baswedan Kampanye di Ternate, Begini Sejarah Kesultanan Ternate</a></h2>\n",
       "<p>Sejarah Kesultanan Ternate jadi cerminan dari keberagaman budaya Indonesia yang patut dipelihara. Akhir Januari lalu, Anies Baswedan kampanye di sini.</p>\n",
       "<h4 class=\"date\">1 hari lalu</h4>\n",
       "</article>\n",
       "</div>\n",
       "<div class=\"card-box ft240 margin-bottom-sm\">\n",
       "<figure class=\"img-card\">\n",
       "<a href=\"https://travel.tempo.co/read/1828355/7-destinasi-wisata-menarik-di-kabupaten-sidoarjo\">\n",
       "<img loading=\"lazy\" src=\"https://statik.tempo.co/data/2024/01/31/id_1276126/1276126_400.jpg\"/>\n",
       "</a>\n",
       "</figure>\n",
       "<article class=\"text-card\">\n",
       "<h2 class=\"title\"><a href=\"https://travel.tempo.co/read/1828355/7-destinasi-wisata-menarik-di-kabupaten-sidoarjo\">7 Destinasi Wisata Menarik di Kabupaten Sidoarjo </a></h2>\n",
       "<p>Dengan berbagai destinasi wisata menarik, Kabupaten Sidoarjo menjadi tujuan ideal para wisatawan  menjelajahi alam, sejarah, dan budaya Jatim.</p>\n",
       "<h4 class=\"date\">1 hari lalu</h4>\n",
       "</article>\n",
       "</div>\n",
       "<div class=\"card-box ft240 margin-bottom-sm\">\n",
       "<figure class=\"img-card\">\n",
       "<a href=\"https://travel.tempo.co/read/1828344/arab-saudi-akan-punya-kereta-mewah-yang-melintasi-gurun-pasir-mulai-2025\">\n",
       "<img loading=\"lazy\" src=\"https://statik.tempo.co/data/2024/02/01/id_1276263/1276263_400.jpg\"/>\n",
       "</a>\n",
       "</figure>\n",
       "<article class=\"text-card\">\n",
       "<h2 class=\"title\"><a href=\"https://travel.tempo.co/read/1828344/arab-saudi-akan-punya-kereta-mewah-yang-melintasi-gurun-pasir-mulai-2025\">Arab Saudi akan Punya Kereta Mewah yang Melintasi Gurun Pasir mulai 2025</a></h2>\n",
       "<p>Arab Saudi menggandeng perusahaan pengelola kereta mewah Italia. Kereta ini akan gurun pasir dan kota-kota di Arab Saudi sepanjang 1.300 kilometer. </p>\n",
       "<h4 class=\"date\">1 hari lalu</h4>\n",
       "</article>\n",
       "</div>\n",
       "<div class=\"card-box ft240 margin-bottom-sm\">\n",
       "<figure class=\"img-card\">\n",
       "<a href=\"https://travel.tempo.co/read/1828310/menilik-persiapan-perayaan-tahun-baru-imlek-di-amerika-serikat\">\n",
       "<img loading=\"lazy\" src=\"https://statik.tempo.co/data/2018/02/17/id_685130/685130_400.jpg\"/>\n",
       "</a>\n",
       "</figure>\n",
       "<article class=\"text-card\">\n",
       "<h2 class=\"title\"><a href=\"https://travel.tempo.co/read/1828310/menilik-persiapan-perayaan-tahun-baru-imlek-di-amerika-serikat\">Menilik Persiapan Perayaan Tahun Baru Imlek di Amerika Serikat</a></h2>\n",
       "<p>Dekorasi dengan elemen Imlek bernuansa merah akan menghiasi sudut-sudut kota Amerika Serikat selama Tahun Baru Imlek</p>\n",
       "<h4 class=\"date\">1 hari lalu</h4>\n",
       "</article>\n",
       "</div>\n",
       "<div class=\"card-box ft240 margin-bottom-sm\">\n",
       "<figure class=\"img-card\">\n",
       "<a href=\"https://travel.tempo.co/read/1828299/marina-bay-sands-singapura-akan-bangun-menara-keempat-ada-arena-konser\">\n",
       "<img loading=\"lazy\" src=\"https://statik.tempo.co/data/2024/02/01/id_1276240/1276240_400.jpg\"/>\n",
       "</a>\n",
       "</figure>\n",
       "<article class=\"text-card\">\n",
       "<h2 class=\"title\"><a href=\"https://travel.tempo.co/read/1828299/marina-bay-sands-singapura-akan-bangun-menara-keempat-ada-arena-konser\">Marina Bay Sands Singapura akan Bangun Menara Keempat, Ada Arena Konser </a></h2>\n",
       "<p>Marina Bay Sands saat ini menjadi salah satu ikon Singapura dengan tiga menara yang disatukan dengan SkyPark berbentuk perahu.</p>\n",
       "<h4 class=\"date\">1 hari lalu</h4>\n",
       "</article>\n",
       "</div>\n",
       "<!-- <ul class=\"pagging\">\n",
       "    <li><a href=\"#\" class=\"fade\"><i class=\"fa fa-angle-left fa-lg\"></i></a></li>\n",
       "      <li><a href=\"#\" class=\"fade\">1</a></li>\n",
       "      <li><a href=\"#\" class=\"fade\">2</a></li>\n",
       "      <li class=\"select\"><a href=\"#\" class=\"fade\">3</a></li>\n",
       "      <li><a href=\"#\" class=\"fade\">4</a></li>\n",
       "      <li><a href=\"#\" class=\"fade\">5</a></li>\n",
       "      <li><a href=\"#\" class=\"fade\"><i class=\"fa fa-angle-right fa-lg\"></i></a></li>\n",
       "  </ul> -->\n",
       "</main>\n",
       "<aside class=\"main-right fixed-col-right\">\n",
       "<!-- <div class=\"banner300x250 margin-bottom-sm\">\n",
       "    <img src=\"https://www.tempo.co/banner/banner300x250.png\">\n",
       "</div> -->\n",
       "<div class=\"banner300 margin-bottom-sm\">\n",
       "<div class=\"inside300\">\n",
       "<div id=\"div-gpt-ad-mr1\">\n",
       "<script>\n",
       "    googletag.cmd.push(function() { googletag.display('div-gpt-ad-mr1'); });\n",
       "  </script>\n",
       "</div>\n",
       "</div>\n",
       "</div>\n",
       "<div class=\"blockbox overflow margin-bottom-no\">\n",
       "<p class=\"titlebox\">Berita Terpopuler</p>\n",
       "<div class=\"card-box ft150 margin-bottom-sm\">\n",
       "<figure class=\"img-card\">\n",
       "<a aria-label=\"Read more about Seminole tax hike\" href=\"https://nasional.tempo.co/read/1828936/empat-staf-khusus-menkopolhukam-mundur-bersama-mahfud-md\">\n",
       "<img alt=\"Empat Staf Khusus Menkopolhukam Mundur bersama Mahfud Md\" decoding=\"async\" loading=\"lazy\" src=\"https://statik.tempo.co/data/2024/02/02/id_1276599/1276599_150.jpg\"/>\n",
       "</a>\n",
       "</figure>\n",
       "<article class=\"text-card\">\n",
       "<p class=\"title\"><a href=\"https://nasional.tempo.co/read/1828936/empat-staf-khusus-menkopolhukam-mundur-bersama-mahfud-md\">Empat Staf Khusus Menkopolhukam Mundur bersama Mahfud Md</a></p>\n",
       "<p class=\"date margin-top-xs\">9 jam lalu</p>\n",
       "</article>\n",
       "</div>\n",
       "<div class=\"card-box ft150 margin-bottom-sm\">\n",
       "<figure class=\"img-card\">\n",
       "<a aria-label=\"Read more about Seminole tax hike\" href=\"https://nasional.tempo.co/read/1828879/banjir-kritik-akademisi-ugm-hingga-uii-jokowi-setiap-orang-boleh-bicara\">\n",
       "<img alt=\"Banjir Kritik Akademisi UGM hingga UII, Jokowi: Setiap Orang Boleh Bicara\" decoding=\"async\" loading=\"lazy\" src=\"https://statik.tempo.co/data/2024/02/01/id_1276451/1276451_150.jpg\"/>\n",
       "</a>\n",
       "</figure>\n",
       "<article class=\"text-card\">\n",
       "<p class=\"title\"><a href=\"https://nasional.tempo.co/read/1828879/banjir-kritik-akademisi-ugm-hingga-uii-jokowi-setiap-orang-boleh-bicara\">Banjir Kritik Akademisi UGM hingga UII, Jokowi: Setiap Orang Boleh Bicara</a></p>\n",
       "<p class=\"date margin-top-xs\">11 jam lalu</p>\n",
       "</article>\n",
       "</div>\n",
       "<div class=\"card-box ft150 margin-bottom-sm\">\n",
       "<figure class=\"img-card\">\n",
       "<a aria-label=\"Read more about Seminole tax hike\" href=\"https://bisnis.tempo.co/read/1829007/breaking-news-ahok-resmi-mundur-dari-komisaris-utama-pertamina-untuk-fokus-kampanye-menangkan-ganjar\">\n",
       "<img alt=\"Breaking News: Ahok Resmi Mundur dari Komisaris Utama Pertamina untuk Fokus Kampanye Menangkan Ganjar\" decoding=\"async\" loading=\"lazy\" src=\"https://statik.tempo.co/data/2020/07/30/id_956346/956346_150.jpg\"/>\n",
       "</a>\n",
       "</figure>\n",
       "<article class=\"text-card\">\n",
       "<p class=\"title\"><a href=\"https://bisnis.tempo.co/read/1829007/breaking-news-ahok-resmi-mundur-dari-komisaris-utama-pertamina-untuk-fokus-kampanye-menangkan-ganjar\">Breaking News: Ahok Resmi Mundur dari Komisaris Utama Pertamina untuk Fokus Kampanye Menangkan Ganjar</a></p>\n",
       "<p class=\"date margin-top-xs\">5 jam lalu</p>\n",
       "</article>\n",
       "</div>\n",
       "<div class=\"card-box ft150 margin-bottom-sm\">\n",
       "<figure class=\"img-card\">\n",
       "<a aria-label=\"Read more about Seminole tax hike\" href=\"https://metro.tempo.co/read/1828797/digugat-setengah-triliunan-oleh-almas-tsaqibbirru-denny-indrayana-nilai-absurd-dan-akan-gugat-balik\">\n",
       "<img alt=\"Digugat Setengah Triliunan oleh Almas Tsaqibbirru, Denny Indrayana Nilai Absurd dan Akan Gugat Balik\" decoding=\"async\" loading=\"lazy\" src=\"https://statik.tempo.co/data/2023/06/04/id_1209154/1209154_150.jpg\"/>\n",
       "</a>\n",
       "</figure>\n",
       "<article class=\"text-card\">\n",
       "<p class=\"title\"><a href=\"https://metro.tempo.co/read/1828797/digugat-setengah-triliunan-oleh-almas-tsaqibbirru-denny-indrayana-nilai-absurd-dan-akan-gugat-balik\">Digugat Setengah Triliunan oleh Almas Tsaqibbirru, Denny Indrayana Nilai Absurd dan Akan Gugat Balik</a></p>\n",
       "<p class=\"date margin-top-xs\">15 jam lalu</p>\n",
       "</article>\n",
       "</div>\n",
       "<div class=\"card-box ft150 margin-bottom-sm\">\n",
       "<figure class=\"img-card\">\n",
       "<a aria-label=\"Read more about Seminole tax hike\" href=\"https://tekno.tempo.co/read/1828718/dipertanyakan-alasan-brin-beri-sanksi-pelanggaran-etika-120-periset\">\n",
       "<img alt=\"Dipertanyakan, Alasan BRIN Beri Sanksi Pelanggaran Etika 120 Periset \" decoding=\"async\" loading=\"lazy\" src=\"https://statik.tempo.co/data/2023/01/13/id_1172980/1172980_150.jpg\"/>\n",
       "</a>\n",
       "</figure>\n",
       "<article class=\"text-card\">\n",
       "<p class=\"title\"><a href=\"https://tekno.tempo.co/read/1828718/dipertanyakan-alasan-brin-beri-sanksi-pelanggaran-etika-120-periset\">Dipertanyakan, Alasan BRIN Beri Sanksi Pelanggaran Etika 120 Periset </a></p>\n",
       "<p class=\"date margin-top-xs\">20 jam lalu</p>\n",
       "</article>\n",
       "</div>\n",
       "<div id=\"div-gpt-ad-native1\">\n",
       "<script>\n",
       "    googletag.cmd.push(function() { googletag.display('div-gpt-ad-native1'); });\n",
       "  </script>\n",
       "</div>\n",
       "<br/>\n",
       "<div class=\"card-box ft150 margin-bottom-sm\">\n",
       "<figure class=\"img-card\">\n",
       "<a aria-label=\"Read more about Seminole tax hike\" href=\"https://nasional.tempo.co/read/1828931/jokowi-resmi-berhentikan-mahfud-md-tunjuk-tito-karnavian-jadi-plt-menkopolhukam\">\n",
       "<img alt=\"Jokowi Resmi Berhentikan Mahfud Md, Tunjuk Tito Karnavian Jadi Plt Menkopolhukam\" decoding=\"async\" loading=\"lazy\" src=\"https://statik.tempo.co/data/2024/02/02/id_1276600/1276600_150.jpg\"/>\n",
       "</a>\n",
       "</figure>\n",
       "<article class=\"text-card\">\n",
       "<p class=\"title\"><a href=\"https://nasional.tempo.co/read/1828931/jokowi-resmi-berhentikan-mahfud-md-tunjuk-tito-karnavian-jadi-plt-menkopolhukam\">Jokowi Resmi Berhentikan Mahfud Md, Tunjuk Tito Karnavian Jadi Plt Menkopolhukam</a></p>\n",
       "<p class=\"date margin-top-xs\">9 jam lalu</p>\n",
       "</article>\n",
       "</div>\n",
       "<div class=\"card-box ft150 margin-bottom-sm\">\n",
       "<figure class=\"img-card\">\n",
       "<a aria-label=\"Read more about Seminole tax hike\" href=\"https://bola.tempo.co/read/1828803/luis-suarez-dikabarkan-ngamuk-usai-inter-miami-dihajar-al-nassr-0-6\">\n",
       "<img alt=\"Luis Suarez Dikabarkan Ngamuk Usai Inter Miami Dihajar Al Nassr 0-6\" decoding=\"async\" loading=\"lazy\" src=\"https://statik.tempo.co/data/2023/12/24/id_1265813/1265813_150.jpg\"/>\n",
       "</a>\n",
       "</figure>\n",
       "<article class=\"text-card\">\n",
       "<p class=\"title\"><a href=\"https://bola.tempo.co/read/1828803/luis-suarez-dikabarkan-ngamuk-usai-inter-miami-dihajar-al-nassr-0-6\">Luis Suarez Dikabarkan Ngamuk Usai Inter Miami Dihajar Al Nassr 0-6</a></p>\n",
       "<p class=\"date margin-top-xs\">14 jam lalu</p>\n",
       "</article>\n",
       "</div>\n",
       "<div class=\"card-box ft150 margin-bottom-sm\">\n",
       "<figure class=\"img-card\">\n",
       "<a aria-label=\"Read more about Seminole tax hike\" href=\"https://nasional.tempo.co/read/1828804/jokowi-butuh-dua-hari-cari-pengganti-mahfud-md-siapa-jadi-menkopolhukam\">\n",
       "<img alt=\"Jokowi Butuh Dua Hari Cari Pengganti Mahfud Md, Siapa Jadi Menkopolhukam?\" decoding=\"async\" loading=\"lazy\" src=\"https://statik.tempo.co/data/2024/02/02/id_1276555/1276555_150.jpg\"/>\n",
       "</a>\n",
       "</figure>\n",
       "<article class=\"text-card\">\n",
       "<p class=\"title\"><a href=\"https://nasional.tempo.co/read/1828804/jokowi-butuh-dua-hari-cari-pengganti-mahfud-md-siapa-jadi-menkopolhukam\">Jokowi Butuh Dua Hari Cari Pengganti Mahfud Md, Siapa Jadi Menkopolhukam?</a></p>\n",
       "<p class=\"date margin-top-xs\">14 jam lalu</p>\n",
       "</article>\n",
       "</div>\n",
       "<div class=\"card-box ft150 margin-bottom-sm\">\n",
       "<figure class=\"img-card\">\n",
       "<a aria-label=\"Read more about Seminole tax hike\" href=\"https://tekno.tempo.co/read/1828723/prediksi-cuaca-hari-ini-hujan-di-jabodetabek-kembali-ke-siklus-normal-hanya-sementara\">\n",
       "<img alt=\"Prediksi Cuaca Hari Ini: Hujan di Jabodetabek Kembali ke Siklus Normal, Hanya Sementara?\" decoding=\"async\" loading=\"lazy\" src=\"https://statik.tempo.co/data/2014/09/09/id_322866/322866_150.jpg\"/>\n",
       "</a>\n",
       "</figure>\n",
       "<article class=\"text-card\">\n",
       "<p class=\"title\"><a href=\"https://tekno.tempo.co/read/1828723/prediksi-cuaca-hari-ini-hujan-di-jabodetabek-kembali-ke-siklus-normal-hanya-sementara\">Prediksi Cuaca Hari Ini: Hujan di Jabodetabek Kembali ke Siklus Normal, Hanya Sementara?</a></p>\n",
       "<p class=\"date margin-top-xs\">18 jam lalu</p>\n",
       "</article>\n",
       "</div>\n",
       "<div class=\"card-box ft150 margin-bottom-sm\">\n",
       "<figure class=\"img-card\">\n",
       "<a aria-label=\"Read more about Seminole tax hike\" href=\"https://metro.tempo.co/read/1828964/jokowi-digugat-rp-30-juta-oleh-anak-boyamin-saiman-soal-ucapan-presiden-boleh-kampanye\">\n",
       "<img alt=\"Jokowi Digugat Rp 30 Juta Oleh Anak Boyamin Saiman soal Ucapan Presiden Boleh Kampanye\" decoding=\"async\" loading=\"lazy\" src=\"https://statik.tempo.co/data/2024/02/02/id_1276556/1276556_150.jpg\"/>\n",
       "</a>\n",
       "</figure>\n",
       "<article class=\"text-card\">\n",
       "<p class=\"title\"><a href=\"https://metro.tempo.co/read/1828964/jokowi-digugat-rp-30-juta-oleh-anak-boyamin-saiman-soal-ucapan-presiden-boleh-kampanye\">Jokowi Digugat Rp 30 Juta Oleh Anak Boyamin Saiman soal Ucapan Presiden Boleh Kampanye</a></p>\n",
       "<p class=\"date margin-top-xs\">7 jam lalu</p>\n",
       "</article>\n",
       "</div>\n",
       "<!-- <a href=\"https://www.tempo.co/terpopuler\" class=\"sign-btn line medium\">Lihat Selengkapnya</a> -->\n",
       "</div> <!-- end terpopuler -->\n",
       "<!-- <div class=\"banner300x600 margin-bottom-sm\">\n",
       "  <img src=\"https://www.tempo.co/banner/banner300x600.png\">\n",
       "</div> -->\n",
       "<div class=\"banner300 margin-bottom-sm\">\n",
       "<div id=\"div-gpt-ad-mr2\">\n",
       "<script>\n",
       "    googletag.cmd.push(function() { googletag.display('div-gpt-ad-mr2'); });\n",
       "  </script>\n",
       "</div>\n",
       "</div>\n",
       "<!-- <div class=\"banner300x250 margin-bottom-sm\">\n",
       "    <img src=\"https://www.tempo.co/banner/banner300x250.png\">\n",
       "</div> -->\n",
       "<br/>\n",
       "<div id=\"div-gpt-ad-mr3\">\n",
       "<script>\n",
       "    googletag.cmd.push(function() { googletag.display('div-gpt-ad-mr3'); });\n",
       "  </script>\n",
       "</div>\n",
       "<br/>\n",
       "<!-- <div id=\"teco_kanal_widget_medium_rectangle\"></div> -->\n",
       "<div class=\"margin-bottom-sm newbanner250whide\">\n",
       "<div class=\"inside300 ninside300\">\n",
       "<button aria-label=\"Closed\" class=\"cls-side-banner\">\n",
       "<svg fill=\"none\" height=\"14\" viewbox=\"0 0 14 14\" width=\"14\" xmlns=\"http://www.w3.org/2000/svg\">\n",
       "<g id=\"XCircle\">\n",
       "<path d=\"M14 0H0V14H14V0Z\" fill=\"#212121\" id=\"Vector\"></path>\n",
       "<path d=\"M8.75 5.25L5.25 8.75\" id=\"Vector_2\" stroke=\"white\" stroke-linecap=\"round\" stroke-linejoin=\"round\"></path>\n",
       "<path d=\"M8.75 8.75L5.25 5.25\" id=\"Vector_3\" stroke=\"white\" stroke-linecap=\"round\" stroke-linejoin=\"round\"></path>\n",
       "</g>\n",
       "</svg>\n",
       "</button>\n",
       "<id id=\"teco_kanal_widget_medium_rectangle\"></id>\n",
       "<div class=\"bgwhite-ads-sidlead\">\n",
       "<div id=\"teco_kanal_widget_medium_rectangle_html\"></div>\n",
       "</div>\n",
       "</div>\n",
       "</div>\n",
       "<!-- <div class=\"banner300 margin-bottom-sm\">\n",
       "  <div class=\"inside300\">\n",
       "  \t<button class=\"cls300\" aria-label=\"Close Banner\">X</button>\n",
       "\t   <span id=\"teco_kanal_widget_medium_rectangle\"></span>\n",
       "  </div>\n",
       "</div> -->\n",
       "</aside>\n",
       "</div>\n",
       "<!-- <div class=\"fix-right skinads-right\">\n",
       "  <div class=\"adskins\"><a href=\"#\"><img src=\"https://www.tempo.co/banner/banner120x600.png\"></a></div> -->\n",
       "<!-- </div> -->\n",
       "<div class=\"fix-right sticky-ad\" id=\"div-gpt-ad-skinright\">\n",
       "<div class=\"adskins\">\n",
       "<script>\n",
       "      googletag.cmd.push(function() { googletag.display('div-gpt-ad-skinright'); });\n",
       "    </script>\n",
       "</div>\n",
       "</div>\n",
       "</main>\n",
       "<footer class=\"footer w-fix-bottom\">\n",
       "<div class=\"container small padding-no\">\n",
       "<div class=\"container-col\">\n",
       "<input id=\"mail\" name=\"mail\" type=\"hidden\" value=\"mail\"/>\n",
       "<div class=\"col2\">\n",
       "<p class=\"title margin-bottom-sm\">Informasi</p>\n",
       "<a class=\"link margin-bottom-sm\" href=\"https://www.tempo.co/about\">Tentang Kami</a>\n",
       "<a class=\"link margin-bottom-sm\" href=\"https://www.tempo.co/kode_etik\">Pedoman Media Siber</a>\n",
       "<a class=\"link margin-bottom-sm\" href=\"https://www.tempo.co/terms_of_use\">Ketentuan Layanan</a>\n",
       "<a class=\"link margin-bottom-sm\" href=\"https://www.tempo.co/beriklan\">Beriklan</a>\n",
       "<a class=\"link\" href=\"https://korporat.tempo.co/karir/kesempatan\">Karier</a>\n",
       "</div>\n",
       "<div class=\"col6 padding-left-sm\">\n",
       "<p class=\"title margin-bottom-sm\">Jaringan Media</p>\n",
       "<div class=\"container-col\">\n",
       "<div class=\"col5\">\n",
       "<a class=\"link margin-bottom-sm\" href=\"https://tempo.co\">Tempo.co</a>\n",
       "<a class=\"link margin-bottom-sm\" href=\"https://koran.tempo.co/\">Koran Tempo</a>\n",
       "<a class=\"link margin-bottom-sm\" href=\"https://majalah.tempo.co/\">Majalah Tempo</a>\n",
       "<a class=\"link margin-bottom-sm\" href=\"https://magz.tempo.co/\">Tempo English Magazine</a>\n",
       "<a class=\"link margin-bottom-sm\" href=\"https://en.tempo.co/\">Tempo.co English</a>\n",
       "<a class=\"link margin-bottom-sm\" href=\"https://store.tempo.co/\">Tempo Store</a>\n",
       "<a class=\"link margin-bottom-sm\" href=\"http://tempo-institute.org/\">Tempo Institute</a>\n",
       "<a class=\"link margin-bottom-sm\" href=\"https://www.datatempo.co/\">Tempo Data Science</a>\n",
       "</div>\n",
       "<div class=\"col3\">\n",
       "<a class=\"link margin-bottom-sm\" href=\"https://indonesiana.id/\">Indonesiana</a>\n",
       "<a class=\"link margin-bottom-sm\" href=\"http://teras.id/\">Teras</a>\n",
       "<a class=\"link margin-bottom-sm\" href=\"http://ziliun.com/\">Ziliun</a>\n",
       "<a class=\"link margin-bottom-sm\" href=\"http://telusuri.id/\">Telusuri</a>\n",
       "<a class=\"link margin-bottom-sm\" href=\"http://cantika.com/\">Cantika</a>\n",
       "<a class=\"link margin-bottom-sm\" href=\"http://gooto.com/\">GoOto</a>\n",
       "<a class=\"link margin-bottom-sm\" href=\"https://www.youtube.com/channel/UCu0yQD7NFMyLu_-TmKa4Hqg\">Kok Bisa</a>\n",
       "<a class=\"link margin-bottom-sm\" href=\"https://www.tempo-animation.com/\">Temotion</a>\n",
       "</div>\n",
       "<div class=\"col4\">\n",
       "<a class=\"link margin-bottom-sm\" href=\"http://orbitin.id/\">Orbitin</a>\n",
       "<a class=\"link margin-bottom-sm\" href=\"https://www.instagram.com/ruangdantempo/?hl=en\">Ruang dan Tempo</a>\n",
       "<a class=\"link\" href=\"https://www.youtube.com/channel/UCpe3xgNfL52vIhV5kewEc1Q\">TV Tempo</a>\n",
       "</div>\n",
       "</div>\n",
       "</div>\n",
       "<div class=\"col4\">\n",
       "<p class=\"title margin-bottom-sm\">Media Sosial</p>\n",
       "<ul class=\"sosmed margin-bottom-lg\">\n",
       "<li><a aria-label=\"Read more about Seminole tax hike\" href=\"https://www.facebook.com/TempoMedia/\"><i class=\"fa fa-facebook\"></i></a></li>\n",
       "<li><a aria-label=\"Read more about Seminole tax hike\" href=\"https://twitter.com/tempodotco\"><i class=\"fa fa-twitter\"></i></a></li>\n",
       "<li><a aria-label=\"Read more about Seminole tax hike\" href=\"https://timeline.line.me/user/_dT0RoypYUkJ5UFvpLm4Og0Nf6vcfQPtrsG4Vt7E\"><span style=\"font-size:9px;\">LINE</span></a></li>\n",
       "<li><a aria-label=\"Read more about Seminole tax hike\" href=\"https://www.instagram.com/tempodotco/\"><i class=\"fa fa-instagram\"></i></a></li>\n",
       "<li><a aria-label=\"Read more about Seminole tax hike\" href=\"https://www.youtube.com/user/tempodotco\"><i class=\"fa fa-youtube\"></i></a></li>\n",
       "</ul>\n",
       "<p class=\"title margin-bottom-sm\">Unduh Aplikasi Tempo</p>\n",
       "<ul class=\"apps\">\n",
       "<li><a href=\"https://apps.apple.com/id/app/tempo/id1380254415\"><img alt=\"image-socmed\" decoding=\"async\" loading=\"lazy\" src=\"https://www.tempo.co/desktop/images/appstore.png\"/></a></li>\n",
       "<li><a href=\"https://play.google.com/store/apps/details?id=co.tempo.media&amp;pli=1\"><img alt=\"image-socmed\" decoding=\"async\" loading=\"lazy\" src=\"https://www.tempo.co/desktop/images/playstore.png\"/></a></li>\n",
       "</ul>\n",
       "</div>\n",
       "</div>\n",
       "</div>\n",
       "</footer>\n",
       "<div class=\"fix-bottom\">\n",
       "<button aria-label=\"Close Banner\" class=\"adv-cls\">[x] close</button>\n",
       "<div id=\"div-gpt-ad-sticky\">\n",
       "<script>\n",
       "      googletag.cmd.push(function() { googletag.display('div-gpt-ad-sticky'); });\n",
       "    </script>\n",
       "</div>\n",
       "</div>\n",
       "<div id=\"div-gpt-ad-oop\">\n",
       "<script>\n",
       "    googletag.cmd.push(function() { googletag.display('div-gpt-ad-oop'); });\n",
       "  </script>\n",
       "</div>\n",
       "<div id=\"div-gpt-ad-outstream\">\n",
       "<script>\n",
       "    googletag.cmd.push(function() { googletag.display('div-gpt-ad-outstream'); });\n",
       "  </script>\n",
       "</div>\n",
       "<div id=\"div-gpt-ad-partner\">\n",
       "<script>\n",
       "    googletag.cmd.push(function() { googletag.display('div-gpt-ad-partner'); });\n",
       "  </script>\n",
       "</div>\n",
       "<script src=\"https://www.tempo.co/desktop/js/jquery-3.1.1.min.js\"></script>\n",
       "<script src=\"https://www.tempo.co/desktop/js/slider.js\"></script>\n",
       "<script async=\"\" src=\"https://www.tempo.co/desktop/js/jquery.magnific-popup.min.js\"></script>\n",
       "<script async=\"\" src=\"https://www.tempo.co/desktop/js/fix.js\"></script>\n",
       "<script async=\"\" src=\"https://www.tempo.co/desktop/js/fixmain.js\"></script>\n",
       "<script async=\"\" src=\"https://www.tempo.co/desktop/js/jquery.multi-select.js\"></script>\n",
       "<script async=\"\" src=\"https://www.tempo.co/desktop/js/base.js?klhkltyoptklgklfjdk\"></script>\n",
       "<!--jixie uuid2-->\n",
       "<script async=\"\" src=\"https://www.tempo.co/jixie/jixieuid2.js\"></script>\n",
       "<script type=\"text/javascript\">\n",
       "  var CaptchaCallback = function() {\n",
       "      grecaptcha.render('g-recaptcha1', {'sitekey' : '6LcGRoIkAAAAAO2shGzSFo7NCxe1tj15fLKIiWHw'});\n",
       "      grecaptcha.render('g-recaptcha2', {'sitekey' : '6LcGRoIkAAAAAO2shGzSFo7NCxe1tj15fLKIiWHw'});\n",
       "  };\n",
       "</script>\n",
       "<script>\n",
       "  $(document).ready(function(){\n",
       "      $(\"#ref\").click(function(){\n",
       "          // location.reload(true);\n",
       "          setTimeout(function() {\n",
       "              location.reload();\n",
       "          }, 2000);\n",
       "      });\n",
       "  });\n",
       "</script>\n",
       "<script>\n",
       "$(document).ready(function(){\n",
       "\t\t\n",
       "\tfunction setCookie(cName, cValue, expDays) {\n",
       "        let date = new Date();\n",
       "        date.setTime(date.getTime() + (expDays * 24 * 60 * 60 * 1000));\n",
       "        const expires = \"expires=\" + date.toUTCString();\n",
       "        const domain = \"domain=.tempo.co\";\n",
       "        document.cookie = cName + \"=\" + cValue + \"; \" + expires + \";\" + domain + \"; path=/\";\n",
       "\t}\n",
       "\n",
       "\t\t\t\n",
       "$('#loginPost').on('submit',function(e){\n",
       "  e.preventDefault();\n",
       "\n",
       "  var username = $(\"#username\").val();\n",
       "\tvar password = $(\"#password\").val();\n",
       "\tvar response = grecaptcha.getResponse(0);\n",
       "\n",
       "\tif(username.length == \"\") {\n",
       "\n",
       "    Swal.fire({\n",
       "      icon: 'warning',\n",
       "      title: 'Oops...',\n",
       "      text: 'Isi Email Sebagai Username Anda !'\n",
       "    });\n",
       "\n",
       "  } else if(password.length == \"\") {\n",
       "\n",
       "    Swal.fire({\n",
       "      icon: 'warning',\n",
       "      title: 'Oops...',\n",
       "      text: 'Isi Kata Sandi Anda Dengan Benar !'\n",
       "    });\n",
       "\n",
       "  }else if(!response) {\n",
       "\n",
       "\t\tSwal.fire({\n",
       "      icon: 'warning',\n",
       "      title: 'Oops...',\n",
       "      text: 'Captcha Belum Benar !'\n",
       "    });\n",
       "\n",
       "\t}else {\n",
       "\n",
       "    $.ajax({\n",
       "\n",
       "      url: \"https://www.tempo.co/loginuserteco\",\n",
       "      type: \"POST\",\n",
       "      data: {\n",
       "          \"username\": username,\n",
       "          \"password\": password,\n",
       "\t\t\t\t\t\"g-recaptcha-response\": response\n",
       "      },\n",
       "\n",
       "      success:function(response){\n",
       "\n",
       "\t\t\t\tconsole.log(response);\n",
       "\n",
       "        if (response.return == true) {\n",
       "\n",
       "          Swal.fire({\n",
       "\t\t\t\t\t\ticon: 'success',\n",
       "            // title: 'Login Berhasil!',\n",
       "\t\t\t\t\t\ttitle: 'Loading...',\n",
       "            // text: 'Loading...',\n",
       "            text: response.msg,\n",
       "            timer: 3000,\n",
       "            showCancelButton: false,\n",
       "            showConfirmButton: false\n",
       "          })\n",
       "          .then (function() {\n",
       "            // window.location.href = \"https://www.tempo.co\";\n",
       "            window.location.reload(1);\n",
       "          });\n",
       "\n",
       "        } else {\n",
       "\n",
       "          Swal.fire({\n",
       "\t\t\t\t\t\ticon: 'warning',\n",
       "            // title: 'Login Gagal!',\n",
       "\t\t\t\t\t\ttitle: response.msg,\n",
       "            text: 'silahkan coba lagi!'\n",
       "          })\n",
       "\t\t\t\t\t.then (function() {\n",
       "            // window.location.href = \"https://www.tempo.co\";\n",
       "            window.location.reload(1);\n",
       "          });\n",
       "\n",
       "        }\n",
       "\n",
       "        console.log(response);\n",
       "\n",
       "      },\n",
       "\n",
       "      error:function(response){\n",
       "\n",
       "          Swal.fire({\n",
       "\t\t\t\t\t\ticon: 'error',\n",
       "            title: 'Opps!',\n",
       "            text: 'server error!'\n",
       "          });\n",
       "\n",
       "          console.log(response);\n",
       "\n",
       "      }\n",
       "\n",
       "    });\n",
       "\n",
       "  }\n",
       "\n",
       "});\n",
       "\n",
       "});\n",
       "\n",
       "</script>\n",
       "<script>\n",
       "$(document).ready(function(){\n",
       "$('#regisPost').on('submit',function(e){\n",
       "  e.preventDefault();\n",
       "\n",
       "  var nama = $(\"#nama\").val();\n",
       "\tvar email = $(\"#email\").val();\n",
       "\tvar atmail = email.indexOf(\"@\");\n",
       "\tvar dotmail = email.lastIndexOf(\".\");\n",
       "\tvar password = $(\"#passuser\").val();\n",
       "\tvar repassword = $(\"#repassuser\").val();\n",
       "\tvar response = grecaptcha.getResponse(1);\n",
       "\n",
       "\tif(nama.length == \"\") {\n",
       "\n",
       "    Swal.fire({\n",
       "      icon: 'warning',\n",
       "      title: 'Oops...',\n",
       "      text: 'Nama Wajib Diisi !'\n",
       "    });\n",
       "\n",
       "  } else if(email.length == \"\") {\n",
       "\n",
       "    Swal.fire({\n",
       "      icon: 'warning',\n",
       "      title: 'Oops...',\n",
       "      text: 'Email Wajib Diisi !'\n",
       "    });\n",
       "\n",
       "  }else if(atmail<1 || dotmail<atmail+2 || dotmail+2>=email.length) {\n",
       "\n",
       "    Swal.fire({\n",
       "      icon: 'warning',\n",
       "      title: 'Oops...',\n",
       "      text: 'Isi Email Dengan Benar !'\n",
       "    });\n",
       "\n",
       "  }else if(password.length == \"\") {\n",
       "\n",
       "    Swal.fire({\n",
       "      icon: 'warning',\n",
       "      title: 'Oops...',\n",
       "      text: 'Kata Sandi Wajib Diisi !'\n",
       "    });\n",
       "\n",
       "  }else if(repassword.length == \"\") {\n",
       "\n",
       "    Swal.fire({\n",
       "      icon: 'warning',\n",
       "      title: 'Oops...',\n",
       "      text: 'Ulangi Kata Sandi Anda !'\n",
       "    });\n",
       "\n",
       "  }else if(password != repassword) {\n",
       "\n",
       "    Swal.fire({\n",
       "      icon: 'warning',\n",
       "      title: 'Oops...',\n",
       "      text: 'Kata Sandi Tidak Sama Dengan Kata Sandi Ulang !'\n",
       "    });\n",
       "\n",
       "  }else if(!response) {\n",
       "\n",
       "\t\tSwal.fire({\n",
       "      icon: 'warning',\n",
       "      title: 'Oops...',\n",
       "      text: 'Captcha Belum Benar !'\n",
       "    });\n",
       "\n",
       "\t}else {\n",
       "\n",
       "    $.ajax({\n",
       "\n",
       "      url: \"https://www.tempo.co/registeruserteco\",\n",
       "      type: \"POST\",\n",
       "      data: {\n",
       "          \"nama\": nama,\n",
       "\t\t\t\t\t\"email\" : email,\n",
       "\t\t\t\t\t\"password\" : password,\n",
       "          \"repassword\": repassword,\n",
       "\t\t\t\t\t\"g-recaptcha\": response\n",
       "      },\n",
       "\n",
       "\t\t\tsuccess:function(response){\n",
       "\t\t\t\tconsole.log(response);\n",
       "        if (response.return == true) {\n",
       "\n",
       "          Swal.fire({\n",
       "            icon: 'success',\n",
       "            title: 'Loading ...',\n",
       "            // title: response.msg,\n",
       "\t\t\t\t\t\ttimer: 3000,\n",
       "            text: response.msg,\n",
       "            // text: 'Loading ...',\n",
       "\t\t\t\t\t\tshowCancelButton: false,\n",
       "\t\t\t\t\t\tshowConfirmButton: false\n",
       "          }).then (function() {\n",
       "            // window.location.href = \"https://www.tempo.co\";\n",
       "            window.location.reload(1);\n",
       "          });\n",
       "\n",
       "          // $(\"#nama\").val('');\n",
       "          // $(\"#email\").val('');\n",
       "          // $(\"#password\").val('');\n",
       "\n",
       "        } else {\n",
       "\n",
       "          Swal.fire({\n",
       "            icon: 'error',\n",
       "            title: response.msg,\n",
       "            text: 'silahkan coba lagi!'\n",
       "          });\n",
       "\n",
       "        }\n",
       "\n",
       "        console.log(response);\n",
       "\n",
       "      },\n",
       "\n",
       "      error:function(response){\n",
       "          Swal.fire({\n",
       "            type: 'error',\n",
       "            title: 'Opps!',\n",
       "            text: 'server error!'\n",
       "          });\n",
       "      }\n",
       "\n",
       "\n",
       "\n",
       "    });\n",
       "\n",
       "  }\n",
       "\n",
       "});\n",
       "\n",
       "});\n",
       "\n",
       "</script>\n",
       "<script>\n",
       "var d = new Date();\n",
       "var month = d.getMonth()+1;\n",
       "var day = d.getDate();\n",
       "\n",
       "var datenow = d.getFullYear() + '-' +\n",
       "    ((''+month).length<2 ? '0' : '') + month + '-' +\n",
       "    ((''+day).length<2 ? '0' : '') + day;\n",
       "\n",
       "  $(document).ready(function(){\n",
       "    $(\"#getdate\").click(function(){\n",
       "      var date = $(\"#tanggal\").val();\n",
       "      var kanal = $(\"#kanal\").val();\n",
       "      var subkanal = $(\"#subkanal\").val();\n",
       "      var datego = date + \"/\" + kanal;\n",
       "      var dategonow = '2024-02-01' + \"/\" + kanal;\n",
       "\n",
       "      if(date == ''){\n",
       "        document.location.href = \"https://www.tempo.co/indeks/\" + dategonow ;\n",
       "      }else if(subkanal != ''){\n",
       "        document.location.href = \"https://www.tempo.co/indeks/\" + datego + \"/\" + subkanal;\n",
       "      }else if(subkanal == ''){\n",
       "        document.location.href = \"https://www.tempo.co/indeks/\" + datego ;\n",
       "      }else{\n",
       "        document.location.href = \"https://www.tempo.co/indeks/\" + datego ;\n",
       "      }\n",
       "    });\n",
       "\n",
       "  })\n",
       "</script>\n",
       "<script>\n",
       "  $(document).ready(function() {\n",
       "  $('.adv-cls').click(function () {\n",
       "    $('.fix-bottom').hide();\n",
       "    $('.footer').removeClass('w-fix-bottom');\n",
       "  });\n",
       "  $('.slider-sub-menu').slick({\n",
       "    slidesToShow:7,\n",
       "    slidesToScroll:7,\n",
       "    arrows: true,\n",
       "    autoplay: false,\n",
       "    centerMode: false,\n",
       "    variableWidth: true,\n",
       "    slidesToScroll:3,\n",
       "    infinite: false,\n",
       "    adaptiveHeight: false,\n",
       "    });\n",
       "  });\n",
       "</script>\n",
       "<script>\n",
       "    dataLayer.push({\n",
       "    'event' : 'UserStatus',\n",
       "    'dimension9' : 'not login',\n",
       "    'dimension10' : '-',\n",
       "    'dimension11' : '-',\n",
       "    'dimension12' : '-'\n",
       "    });\n",
       "\t\t\n",
       "</script>\n",
       "</body>\n",
       "</html>"
      ]
     },
     "execution_count": 15,
     "metadata": {},
     "output_type": "execute_result"
    }
   ],
   "source": [
    "soup"
   ]
  },
  {
   "cell_type": "code",
   "execution_count": 25,
   "id": "a247a30d-0cac-4947-8deb-cc5e5189ebbb",
   "metadata": {},
   "outputs": [],
   "source": [
    "soup_article_links = soup.select('body > main > div.container.small.left.padding-no > main > div.card-box.ft240.margin-bottom-sm > article > h2 > a')"
   ]
  },
  {
   "cell_type": "code",
   "execution_count": 27,
   "id": "39551beb-b14e-4cb6-8f31-aed928db30af",
   "metadata": {},
   "outputs": [
    {
     "name": "stdout",
     "output_type": "stream",
     "text": [
      "https://travel.tempo.co/read/1828650/traveloka-bagi-rekomendasi-manfaatkan-libur-tahun-baru-imlek-dan-pemilu\n",
      "https://travel.tempo.co/read/1828580/itdc-dan-pemkab-lombok-tengah-optimalisasi-aset-di-kek-mandalika\n",
      "https://travel.tempo.co/read/1828641/manfaatkan-promo-liburan-untuk-tahun-baru-imlek-dan-setelah-pemilu\n",
      "https://travel.tempo.co/read/1828630/working-holiday-visa-australia-peluang-liburan-panjang-dan-bekerja-di-negeri-kanguru-ketahui-syaratnya\n",
      "https://travel.tempo.co/read/1828581/asal-usul-karnaval-venesia-dan-deretan-acaranya\n",
      "https://travel.tempo.co/read/1828545/kapal-pesiar-italia-aida-bella-singgah-di-pelabuhan-gili-mas-lombok\n",
      "https://travel.tempo.co/read/1828517/strategi-agar-bali-bisa-jaring-7-juta-wisatawan-mancanegara-tanpa-overtourism\n",
      "https://travel.tempo.co/read/1828474/marak-aksi-boikot-starbucks-indonesia-sebut-toko-lebih-sepi-dan-mitra-terdampak\n",
      "https://travel.tempo.co/read/1828441/akses-machu-picchu-dibuka-lagi-setelah-aksi-protes-berakhir\n",
      "https://travel.tempo.co/read/1828499/detik-detik-pemandangan-air-terjun-tumpak-sewu-berubah-menakutkan-akibat-lahar-gunung-semeru\n",
      "https://travel.tempo.co/read/1828322/tips-untuk-wisatawan-lanjut-usia-traveling-dengan-pesawat-terbang\n",
      "https://travel.tempo.co/read/1828433/gibran-sebut-soal-desa-wisata-dalam-debat-cawapres-lalu-begini-syarat-menjadi-desa-wisata\n",
      "https://travel.tempo.co/read/1828323/3-gebrakan-subway-di-awal-2024-gerai-ke-100-menu-baru-hingga-komitmen-berkelanjutan\n",
      "https://travel.tempo.co/read/1828404/7-kuliner-khas-ternate-yang-tak-boleh-dilewatkan\n",
      "https://travel.tempo.co/read/1828422/eksplorasi-pesona-alam-dan-budaya-ini-5-desa-wisata-terbaik-di-jawa-timur\n",
      "https://travel.tempo.co/read/1828416/banyak-kecelakaan-dan-bangunan-rentan-venesia-batasi-kecepatan-perahu-yang-melewati-kanal\n",
      "https://travel.tempo.co/read/1828395/mengintip-keindahan-6-destinasi-wisata-di-ternate-jangan-lupa-danau-tolire\n",
      "https://travel.tempo.co/read/1828379/mau-menjelajah-selandia-baru-dengan-campervan-ketahui-aturan-ini-agar-tak-kena-denda\n",
      "https://travel.tempo.co/read/1828391/anies-baswedan-kampanye-di-ternate-begini-sejarah-kesultanan-ternate\n",
      "https://travel.tempo.co/read/1828355/7-destinasi-wisata-menarik-di-kabupaten-sidoarjo\n",
      "https://travel.tempo.co/read/1828344/arab-saudi-akan-punya-kereta-mewah-yang-melintasi-gurun-pasir-mulai-2025\n",
      "https://travel.tempo.co/read/1828310/menilik-persiapan-perayaan-tahun-baru-imlek-di-amerika-serikat\n",
      "https://travel.tempo.co/read/1828299/marina-bay-sands-singapura-akan-bangun-menara-keempat-ada-arena-konser\n"
     ]
    }
   ],
   "source": [
    "for item in soup_article_links:\n",
    "    print(item['href'])"
   ]
  },
  {
   "cell_type": "code",
   "execution_count": 47,
   "id": "fbda1aa2-3dd9-4e62-bd47-b71f3776ee77",
   "metadata": {},
   "outputs": [],
   "source": [
    "article_information_dict = {}"
   ]
  },
  {
   "cell_type": "code",
   "execution_count": 56,
   "id": "42f4f1b0-7b9b-41a7-86c4-d79591d401b8",
   "metadata": {
    "scrolled": true
   },
   "outputs": [
    {
     "name": "stdout",
     "output_type": "stream",
     "text": [
      "day: 2015 | month: 01 | year: 01\n",
      "day: 2015 | month: 01 | year: 02\n",
      "day: 2015 | month: 01 | year: 03\n",
      "day: 2015 | month: 01 | year: 04\n",
      "day: 2015 | month: 01 | year: 05\n",
      "day: 2015 | month: 01 | year: 06\n",
      "day: 2015 | month: 01 | year: 07\n",
      "day: 2015 | month: 01 | year: 08\n",
      "day: 2015 | month: 01 | year: 09\n",
      "day: 2015 | month: 01 | year: 10\n",
      "day: 2015 | month: 01 | year: 11\n",
      "day: 2015 | month: 01 | year: 12\n",
      "day: 2015 | month: 01 | year: 13\n",
      "day: 2015 | month: 01 | year: 14\n",
      "day: 2015 | month: 01 | year: 15\n",
      "day: 2015 | month: 01 | year: 16\n",
      "day: 2015 | month: 01 | year: 17\n",
      "day: 2015 | month: 01 | year: 18\n",
      "day: 2015 | month: 01 | year: 19\n",
      "day: 2015 | month: 01 | year: 20\n",
      "day: 2015 | month: 01 | year: 21\n",
      "day: 2015 | month: 01 | year: 22\n",
      "day: 2015 | month: 01 | year: 23\n",
      "day: 2015 | month: 01 | year: 24\n",
      "day: 2015 | month: 01 | year: 25\n",
      "day: 2015 | month: 01 | year: 26\n",
      "day: 2015 | month: 01 | year: 27\n",
      "day: 2015 | month: 01 | year: 28\n",
      "day: 2015 | month: 01 | year: 29\n",
      "day: 2015 | month: 01 | year: 30\n",
      "day: 2015 | month: 01 | year: 31\n",
      "day: 2015 | month: 02 | year: 01\n",
      "day: 2015 | month: 02 | year: 02\n",
      "day: 2015 | month: 02 | year: 03\n",
      "day: 2015 | month: 02 | year: 04\n",
      "day: 2015 | month: 02 | year: 05\n",
      "day: 2015 | month: 02 | year: 06\n",
      "day: 2015 | month: 02 | year: 07\n",
      "day: 2015 | month: 02 | year: 08\n",
      "day: 2015 | month: 02 | year: 09\n",
      "day: 2015 | month: 02 | year: 10\n",
      "day: 2015 | month: 02 | year: 11\n",
      "day: 2015 | month: 02 | year: 12\n",
      "day: 2015 | month: 02 | year: 13\n",
      "day: 2015 | month: 02 | year: 14\n",
      "day: 2015 | month: 02 | year: 15\n",
      "day: 2015 | month: 02 | year: 16\n",
      "day: 2015 | month: 02 | year: 17\n",
      "day: 2015 | month: 02 | year: 18\n",
      "day: 2015 | month: 02 | year: 19\n",
      "day: 2015 | month: 02 | year: 20\n",
      "day: 2015 | month: 02 | year: 21\n",
      "day: 2015 | month: 02 | year: 22\n",
      "day: 2015 | month: 02 | year: 23\n",
      "day: 2015 | month: 02 | year: 24\n",
      "day: 2015 | month: 02 | year: 25\n",
      "day: 2015 | month: 02 | year: 26\n",
      "day: 2015 | month: 02 | year: 27\n",
      "day: 2015 | month: 02 | year: 28\n",
      "day: 2015 | month: 03 | year: 01\n",
      "day: 2015 | month: 03 | year: 02\n",
      "day: 2015 | month: 03 | year: 03\n",
      "day: 2015 | month: 03 | year: 04\n",
      "day: 2015 | month: 03 | year: 05\n",
      "day: 2015 | month: 03 | year: 06\n",
      "day: 2015 | month: 03 | year: 07\n",
      "day: 2015 | month: 03 | year: 08\n",
      "day: 2015 | month: 03 | year: 09\n",
      "day: 2015 | month: 03 | year: 10\n",
      "day: 2015 | month: 03 | year: 11\n",
      "day: 2015 | month: 03 | year: 12\n",
      "day: 2015 | month: 03 | year: 13\n",
      "day: 2015 | month: 03 | year: 14\n",
      "day: 2015 | month: 03 | year: 15\n",
      "day: 2015 | month: 03 | year: 16\n",
      "day: 2015 | month: 03 | year: 17\n",
      "day: 2015 | month: 03 | year: 18\n",
      "day: 2015 | month: 03 | year: 19\n",
      "day: 2015 | month: 03 | year: 20\n",
      "day: 2015 | month: 03 | year: 21\n",
      "day: 2015 | month: 03 | year: 22\n",
      "day: 2015 | month: 03 | year: 23\n",
      "day: 2015 | month: 03 | year: 24\n",
      "day: 2015 | month: 03 | year: 25\n",
      "day: 2015 | month: 03 | year: 26\n",
      "day: 2015 | month: 03 | year: 27\n",
      "day: 2015 | month: 03 | year: 28\n",
      "day: 2015 | month: 03 | year: 29\n",
      "day: 2015 | month: 03 | year: 30\n",
      "day: 2015 | month: 03 | year: 31\n",
      "day: 2015 | month: 04 | year: 01\n",
      "day: 2015 | month: 04 | year: 02\n",
      "day: 2015 | month: 04 | year: 03\n",
      "day: 2015 | month: 04 | year: 04\n",
      "day: 2015 | month: 04 | year: 05\n",
      "day: 2015 | month: 04 | year: 06\n",
      "day: 2015 | month: 04 | year: 07\n",
      "day: 2015 | month: 04 | year: 08\n",
      "day: 2015 | month: 04 | year: 09\n",
      "day: 2015 | month: 04 | year: 10\n",
      "day: 2015 | month: 04 | year: 11\n",
      "day: 2015 | month: 04 | year: 12\n",
      "day: 2015 | month: 04 | year: 13\n",
      "day: 2015 | month: 04 | year: 14\n",
      "day: 2015 | month: 04 | year: 15\n",
      "day: 2015 | month: 04 | year: 16\n",
      "day: 2015 | month: 04 | year: 17\n",
      "day: 2015 | month: 04 | year: 18\n",
      "day: 2015 | month: 04 | year: 19\n",
      "day: 2015 | month: 04 | year: 20\n",
      "day: 2015 | month: 04 | year: 21\n",
      "day: 2015 | month: 04 | year: 22\n",
      "day: 2015 | month: 04 | year: 23\n",
      "day: 2015 | month: 04 | year: 24\n",
      "day: 2015 | month: 04 | year: 25\n",
      "day: 2015 | month: 04 | year: 26\n",
      "day: 2015 | month: 04 | year: 27\n",
      "day: 2015 | month: 04 | year: 28\n",
      "day: 2015 | month: 04 | year: 29\n",
      "day: 2015 | month: 04 | year: 30\n",
      "day: 2015 | month: 05 | year: 01\n",
      "day: 2015 | month: 05 | year: 02\n",
      "day: 2015 | month: 05 | year: 03\n",
      "day: 2015 | month: 05 | year: 04\n",
      "day: 2015 | month: 05 | year: 05\n",
      "day: 2015 | month: 05 | year: 06\n",
      "day: 2015 | month: 05 | year: 07\n",
      "day: 2015 | month: 05 | year: 08\n",
      "day: 2015 | month: 05 | year: 09\n",
      "day: 2015 | month: 05 | year: 10\n",
      "day: 2015 | month: 05 | year: 11\n",
      "day: 2015 | month: 05 | year: 12\n",
      "day: 2015 | month: 05 | year: 13\n",
      "day: 2015 | month: 05 | year: 14\n",
      "day: 2015 | month: 05 | year: 15\n",
      "day: 2015 | month: 05 | year: 16\n",
      "day: 2015 | month: 05 | year: 17\n",
      "day: 2015 | month: 05 | year: 18\n",
      "day: 2015 | month: 05 | year: 19\n",
      "day: 2015 | month: 05 | year: 20\n",
      "day: 2015 | month: 05 | year: 21\n",
      "day: 2015 | month: 05 | year: 22\n",
      "day: 2015 | month: 05 | year: 23\n",
      "day: 2015 | month: 05 | year: 24\n",
      "day: 2015 | month: 05 | year: 25\n",
      "day: 2015 | month: 05 | year: 26\n",
      "day: 2015 | month: 05 | year: 27\n",
      "day: 2015 | month: 05 | year: 28\n",
      "day: 2015 | month: 05 | year: 29\n",
      "day: 2015 | month: 05 | year: 30\n",
      "day: 2015 | month: 05 | year: 31\n",
      "day: 2015 | month: 06 | year: 01\n",
      "day: 2015 | month: 06 | year: 02\n",
      "day: 2015 | month: 06 | year: 03\n",
      "day: 2015 | month: 06 | year: 04\n",
      "day: 2015 | month: 06 | year: 05\n",
      "day: 2015 | month: 06 | year: 06\n",
      "day: 2015 | month: 06 | year: 07\n",
      "day: 2015 | month: 06 | year: 08\n",
      "day: 2015 | month: 06 | year: 09\n",
      "day: 2015 | month: 06 | year: 10\n",
      "day: 2015 | month: 06 | year: 11\n",
      "day: 2015 | month: 06 | year: 12\n",
      "day: 2015 | month: 06 | year: 13\n",
      "day: 2015 | month: 06 | year: 14\n",
      "day: 2015 | month: 06 | year: 15\n",
      "day: 2015 | month: 06 | year: 16\n",
      "day: 2015 | month: 06 | year: 17\n",
      "day: 2015 | month: 06 | year: 18\n",
      "day: 2015 | month: 06 | year: 19\n",
      "day: 2015 | month: 06 | year: 20\n",
      "day: 2015 | month: 06 | year: 21\n",
      "day: 2015 | month: 06 | year: 22\n",
      "day: 2015 | month: 06 | year: 23\n",
      "day: 2015 | month: 06 | year: 24\n",
      "day: 2015 | month: 06 | year: 25\n",
      "day: 2015 | month: 06 | year: 26\n",
      "day: 2015 | month: 06 | year: 27\n",
      "day: 2015 | month: 06 | year: 28\n",
      "day: 2015 | month: 06 | year: 29\n",
      "day: 2015 | month: 06 | year: 30\n",
      "day: 2015 | month: 07 | year: 01\n",
      "day: 2015 | month: 07 | year: 02\n",
      "day: 2015 | month: 07 | year: 03\n",
      "day: 2015 | month: 07 | year: 04\n",
      "day: 2015 | month: 07 | year: 05\n",
      "day: 2015 | month: 07 | year: 06\n",
      "day: 2015 | month: 07 | year: 07\n",
      "day: 2015 | month: 07 | year: 08\n",
      "day: 2015 | month: 07 | year: 09\n",
      "day: 2015 | month: 07 | year: 10\n",
      "day: 2015 | month: 07 | year: 11\n",
      "day: 2015 | month: 07 | year: 12\n",
      "day: 2015 | month: 07 | year: 13\n",
      "day: 2015 | month: 07 | year: 14\n",
      "day: 2015 | month: 07 | year: 15\n",
      "day: 2015 | month: 07 | year: 16\n",
      "day: 2015 | month: 07 | year: 17\n",
      "day: 2015 | month: 07 | year: 18\n",
      "day: 2015 | month: 07 | year: 19\n",
      "day: 2015 | month: 07 | year: 20\n",
      "day: 2015 | month: 07 | year: 21\n",
      "day: 2015 | month: 07 | year: 22\n",
      "day: 2015 | month: 07 | year: 23\n",
      "day: 2015 | month: 07 | year: 24\n",
      "day: 2015 | month: 07 | year: 25\n",
      "day: 2015 | month: 07 | year: 26\n",
      "day: 2015 | month: 07 | year: 27\n",
      "day: 2015 | month: 07 | year: 28\n",
      "day: 2015 | month: 07 | year: 29\n",
      "day: 2015 | month: 07 | year: 30\n",
      "day: 2015 | month: 07 | year: 31\n",
      "day: 2015 | month: 08 | year: 01\n",
      "day: 2015 | month: 08 | year: 02\n",
      "day: 2015 | month: 08 | year: 03\n",
      "day: 2015 | month: 08 | year: 04\n",
      "day: 2015 | month: 08 | year: 05\n",
      "day: 2015 | month: 08 | year: 06\n",
      "day: 2015 | month: 08 | year: 07\n",
      "day: 2015 | month: 08 | year: 08\n",
      "day: 2015 | month: 08 | year: 09\n",
      "day: 2015 | month: 08 | year: 10\n",
      "day: 2015 | month: 08 | year: 11\n",
      "day: 2015 | month: 08 | year: 12\n",
      "day: 2015 | month: 08 | year: 13\n",
      "day: 2015 | month: 08 | year: 14\n",
      "day: 2015 | month: 08 | year: 15\n",
      "day: 2015 | month: 08 | year: 16\n",
      "day: 2015 | month: 08 | year: 17\n",
      "day: 2015 | month: 08 | year: 18\n",
      "day: 2015 | month: 08 | year: 19\n",
      "day: 2015 | month: 08 | year: 20\n",
      "day: 2015 | month: 08 | year: 21\n",
      "day: 2015 | month: 08 | year: 22\n",
      "day: 2015 | month: 08 | year: 23\n",
      "day: 2015 | month: 08 | year: 24\n",
      "day: 2015 | month: 08 | year: 25\n",
      "day: 2015 | month: 08 | year: 26\n",
      "day: 2015 | month: 08 | year: 27\n",
      "day: 2015 | month: 08 | year: 28\n",
      "day: 2015 | month: 08 | year: 29\n",
      "day: 2015 | month: 08 | year: 30\n",
      "day: 2015 | month: 08 | year: 31\n",
      "day: 2015 | month: 09 | year: 01\n",
      "day: 2015 | month: 09 | year: 02\n",
      "day: 2015 | month: 09 | year: 03\n",
      "day: 2015 | month: 09 | year: 04\n",
      "day: 2015 | month: 09 | year: 05\n",
      "day: 2015 | month: 09 | year: 06\n",
      "day: 2015 | month: 09 | year: 07\n",
      "day: 2015 | month: 09 | year: 08\n",
      "day: 2015 | month: 09 | year: 09\n",
      "day: 2015 | month: 09 | year: 10\n",
      "day: 2015 | month: 09 | year: 11\n",
      "day: 2015 | month: 09 | year: 12\n",
      "day: 2015 | month: 09 | year: 13\n",
      "day: 2015 | month: 09 | year: 14\n",
      "day: 2015 | month: 09 | year: 15\n",
      "day: 2015 | month: 09 | year: 16\n",
      "day: 2015 | month: 09 | year: 17\n",
      "day: 2015 | month: 09 | year: 18\n",
      "day: 2015 | month: 09 | year: 19\n",
      "day: 2015 | month: 09 | year: 20\n",
      "day: 2015 | month: 09 | year: 21\n",
      "day: 2015 | month: 09 | year: 22\n",
      "day: 2015 | month: 09 | year: 23\n",
      "day: 2015 | month: 09 | year: 24\n",
      "day: 2015 | month: 09 | year: 25\n",
      "day: 2015 | month: 09 | year: 26\n",
      "day: 2015 | month: 09 | year: 27\n",
      "day: 2015 | month: 09 | year: 28\n",
      "day: 2015 | month: 09 | year: 29\n",
      "day: 2015 | month: 09 | year: 30\n",
      "day: 2015 | month: 10 | year: 01\n",
      "day: 2015 | month: 10 | year: 02\n",
      "day: 2015 | month: 10 | year: 03\n",
      "day: 2015 | month: 10 | year: 04\n",
      "day: 2015 | month: 10 | year: 05\n",
      "day: 2015 | month: 10 | year: 06\n",
      "day: 2015 | month: 10 | year: 07\n",
      "day: 2015 | month: 10 | year: 08\n",
      "day: 2015 | month: 10 | year: 09\n",
      "day: 2015 | month: 10 | year: 10\n",
      "day: 2015 | month: 10 | year: 11\n",
      "day: 2015 | month: 10 | year: 12\n",
      "day: 2015 | month: 10 | year: 13\n",
      "day: 2015 | month: 10 | year: 14\n",
      "day: 2015 | month: 10 | year: 15\n",
      "day: 2015 | month: 10 | year: 16\n",
      "day: 2015 | month: 10 | year: 17\n",
      "day: 2015 | month: 10 | year: 18\n",
      "day: 2015 | month: 10 | year: 19\n",
      "day: 2015 | month: 10 | year: 20\n",
      "day: 2015 | month: 10 | year: 21\n",
      "day: 2015 | month: 10 | year: 22\n",
      "day: 2015 | month: 10 | year: 23\n",
      "day: 2015 | month: 10 | year: 24\n",
      "day: 2015 | month: 10 | year: 25\n",
      "day: 2015 | month: 10 | year: 26\n",
      "day: 2015 | month: 10 | year: 27\n",
      "day: 2015 | month: 10 | year: 28\n",
      "day: 2015 | month: 10 | year: 29\n",
      "day: 2015 | month: 10 | year: 30\n",
      "day: 2015 | month: 10 | year: 31\n",
      "day: 2015 | month: 11 | year: 01\n",
      "day: 2015 | month: 11 | year: 02\n",
      "day: 2015 | month: 11 | year: 03\n",
      "day: 2015 | month: 11 | year: 04\n",
      "day: 2015 | month: 11 | year: 05\n",
      "day: 2015 | month: 11 | year: 06\n",
      "day: 2015 | month: 11 | year: 07\n",
      "day: 2015 | month: 11 | year: 08\n",
      "day: 2015 | month: 11 | year: 09\n",
      "day: 2015 | month: 11 | year: 10\n",
      "day: 2015 | month: 11 | year: 11\n",
      "day: 2015 | month: 11 | year: 12\n",
      "day: 2015 | month: 11 | year: 13\n",
      "day: 2015 | month: 11 | year: 14\n",
      "day: 2015 | month: 11 | year: 15\n",
      "day: 2015 | month: 11 | year: 16\n",
      "day: 2015 | month: 11 | year: 17\n",
      "day: 2015 | month: 11 | year: 18\n",
      "day: 2015 | month: 11 | year: 19\n",
      "day: 2015 | month: 11 | year: 20\n",
      "day: 2015 | month: 11 | year: 21\n",
      "day: 2015 | month: 11 | year: 22\n",
      "day: 2015 | month: 11 | year: 23\n",
      "day: 2015 | month: 11 | year: 24\n",
      "day: 2015 | month: 11 | year: 25\n",
      "day: 2015 | month: 11 | year: 26\n",
      "day: 2015 | month: 11 | year: 27\n",
      "day: 2015 | month: 11 | year: 28\n",
      "day: 2015 | month: 11 | year: 29\n",
      "day: 2015 | month: 11 | year: 30\n",
      "day: 2015 | month: 12 | year: 01\n",
      "day: 2015 | month: 12 | year: 02\n",
      "day: 2015 | month: 12 | year: 03\n",
      "day: 2015 | month: 12 | year: 04\n",
      "day: 2015 | month: 12 | year: 05\n",
      "day: 2015 | month: 12 | year: 06\n",
      "day: 2015 | month: 12 | year: 07\n",
      "day: 2015 | month: 12 | year: 08\n",
      "day: 2015 | month: 12 | year: 09\n",
      "day: 2015 | month: 12 | year: 10\n",
      "day: 2015 | month: 12 | year: 11\n",
      "day: 2015 | month: 12 | year: 12\n",
      "day: 2015 | month: 12 | year: 13\n",
      "day: 2015 | month: 12 | year: 14\n",
      "day: 2015 | month: 12 | year: 15\n",
      "day: 2015 | month: 12 | year: 16\n",
      "day: 2015 | month: 12 | year: 17\n",
      "day: 2015 | month: 12 | year: 18\n",
      "day: 2015 | month: 12 | year: 19\n",
      "day: 2015 | month: 12 | year: 20\n",
      "day: 2015 | month: 12 | year: 21\n",
      "day: 2015 | month: 12 | year: 22\n",
      "day: 2015 | month: 12 | year: 23\n",
      "day: 2015 | month: 12 | year: 24\n",
      "day: 2015 | month: 12 | year: 25\n",
      "day: 2015 | month: 12 | year: 26\n",
      "day: 2015 | month: 12 | year: 27\n",
      "day: 2015 | month: 12 | year: 28\n",
      "day: 2015 | month: 12 | year: 29\n",
      "day: 2015 | month: 12 | year: 30\n",
      "day: 2015 | month: 12 | year: 31\n",
      "day: 2016 | month: 01 | year: 01\n",
      "day: 2016 | month: 01 | year: 02\n",
      "day: 2016 | month: 01 | year: 03\n",
      "day: 2016 | month: 01 | year: 04\n",
      "day: 2016 | month: 01 | year: 05\n",
      "day: 2016 | month: 01 | year: 06\n",
      "day: 2016 | month: 01 | year: 07\n",
      "day: 2016 | month: 01 | year: 08\n",
      "day: 2016 | month: 01 | year: 09\n",
      "day: 2016 | month: 01 | year: 10\n",
      "day: 2016 | month: 01 | year: 11\n",
      "day: 2016 | month: 01 | year: 12\n",
      "day: 2016 | month: 01 | year: 13\n",
      "day: 2016 | month: 01 | year: 14\n",
      "day: 2016 | month: 01 | year: 15\n",
      "day: 2016 | month: 01 | year: 16\n",
      "day: 2016 | month: 01 | year: 17\n",
      "day: 2016 | month: 01 | year: 18\n",
      "day: 2016 | month: 01 | year: 19\n",
      "day: 2016 | month: 01 | year: 20\n",
      "day: 2016 | month: 01 | year: 21\n",
      "day: 2016 | month: 01 | year: 22\n",
      "day: 2016 | month: 01 | year: 23\n",
      "day: 2016 | month: 01 | year: 24\n",
      "day: 2016 | month: 01 | year: 25\n",
      "day: 2016 | month: 01 | year: 26\n",
      "day: 2016 | month: 01 | year: 27\n",
      "day: 2016 | month: 01 | year: 28\n",
      "day: 2016 | month: 01 | year: 29\n",
      "day: 2016 | month: 01 | year: 30\n",
      "day: 2016 | month: 01 | year: 31\n",
      "day: 2016 | month: 02 | year: 01\n",
      "day: 2016 | month: 02 | year: 02\n",
      "day: 2016 | month: 02 | year: 03\n",
      "day: 2016 | month: 02 | year: 04\n",
      "day: 2016 | month: 02 | year: 05\n",
      "day: 2016 | month: 02 | year: 06\n"
     ]
    }
   ],
   "source": [
    "d1 = datetime.date(2015, 1, 1)\n",
    "d2 = datetime.date(2016, 2, 6)\n",
    "days = [d1 + datetime.timedelta(days=x) for x in range((d2-d1).days + 1)]\n",
    "\n",
    "for day in days:\n",
    "    article_information_dict.setdefault(day.strftime('%Y'), {})\\\n",
    "        .setdefault(day.strftime('%m'), {})\\\n",
    "        .setdefault(day.strftime('%d'), {})\n",
    "    print(f'day: {day.strftime(\"%Y\")} | month: {day.strftime(\"%m\")} | year: {day.strftime(\"%d\")}')\n",
    "\n",
    "    \n",
    "    \n",
    "    # break"
   ]
  },
  {
   "cell_type": "code",
   "execution_count": null,
   "id": "633def3f-2454-4848-bed9-340c11bdbc4d",
   "metadata": {},
   "outputs": [],
   "source": []
  },
  {
   "cell_type": "code",
   "execution_count": null,
   "id": "c506a397-d4a7-4798-841c-57f0fa6c785c",
   "metadata": {},
   "outputs": [],
   "source": []
  },
  {
   "cell_type": "code",
   "execution_count": null,
   "id": "6c3280a9-a28e-4ce0-876c-7bc1caed012d",
   "metadata": {},
   "outputs": [],
   "source": []
  },
  {
   "cell_type": "code",
   "execution_count": null,
   "id": "f433a960-cff3-43a0-82f7-79f2d0a4d212",
   "metadata": {},
   "outputs": [],
   "source": []
  },
  {
   "cell_type": "code",
   "execution_count": null,
   "id": "f2d983df-ddc8-4f35-80d0-2b82c077bcae",
   "metadata": {},
   "outputs": [],
   "source": []
  },
  {
   "cell_type": "code",
   "execution_count": null,
   "id": "d82fbd46-a7bd-4c51-ba8e-60564ddb86d8",
   "metadata": {},
   "outputs": [],
   "source": []
  },
  {
   "cell_type": "code",
   "execution_count": 220,
   "id": "060b0903-bf8d-492a-afab-0776e62fcc49",
   "metadata": {},
   "outputs": [],
   "source": [
    "url = \"https://travel.tempo.co/read/1819232/dubai-destinasi-terpopuler-di-dunia-menurut-tripadvisor-bali-kedua\""
   ]
  },
  {
   "cell_type": "code",
   "execution_count": 221,
   "id": "414c2b95-fff8-48ca-8895-5460b881b095",
   "metadata": {},
   "outputs": [],
   "source": [
    "response = get_url_request(url)"
   ]
  },
  {
   "cell_type": "code",
   "execution_count": 222,
   "id": "022f8239-8526-42fc-8ec1-511c310098e9",
   "metadata": {},
   "outputs": [],
   "source": [
    "soup = bs(response.text)"
   ]
  },
  {
   "cell_type": "code",
   "execution_count": 223,
   "id": "a0b86d3b-a99e-493f-b952-83e2963c0f64",
   "metadata": {},
   "outputs": [
    {
     "data": {
      "text/plain": [
       "'Dubai Destinasi Terpopuler di Dunia Menurut Tripadvisor, Bali Kedua'"
      ]
     },
     "execution_count": 223,
     "metadata": {},
     "output_type": "execute_result"
    }
   ],
   "source": [
    "article_title = soup.select_one('body > main > div.container.small.left.padding-no > main > article.detail-artikel > div.detail-title > h1').text\n",
    "article_title"
   ]
  },
  {
   "cell_type": "code",
   "execution_count": 201,
   "id": "88339fae-e322-4809-aa4f-53584b63021e",
   "metadata": {},
   "outputs": [],
   "source": [
    "article_description = \"\"\n",
    "for item in soup.select('#isi > div > div.detail-konten > p'):\n",
    "    article_description += item.text + ' '"
   ]
  },
  {
   "cell_type": "code",
   "execution_count": 203,
   "id": "a85376f6-9e28-425c-804c-1591faf6a965",
   "metadata": {},
   "outputs": [
    {
     "data": {
      "text/plain": [
       "'TEMPO.CO, Jakarta - Dubai terpilih menjadi destinasi terpopuler di dunia menurut Traveller\\'s Choice Tripadvisor Awards 2024. Ini adalah tahun ketiga Dubai mendapatkan penghargaan tersebut.\\xa0 Traveller\\'s Choice TripAdvisor Awards tahun 2024 dipilih berdasarkan kualitas dan kuantitas ulasan serta penilaian khusus wisatawan. Ada beberapa subkategori yang dinilai termasuk akomodasi, restoran, dan aktivitas. Penilaian ini dilakukan seluruh destinasi di seluruh dunia selama 12 bulan antara Oktober 2022 hingga September 2023. Menurut TripAdvisor, Dubai memiliki daya tarik yang spektakuler bagi wisatawan. Mulai dari Burj Khalifa yang ultra-modern hingga pasar-pasar dan mal yang dipenuhi penjual emas dan perhiasan.\\xa0 \"Ini adalah tempat di mana jika Anda bisa memimpikannya, Anda bisa melakukannya, apakah itu berarti bermain ski di dalam ruangan, berselancar di bukit pasir di padang pasir, atau bermain zip-lining di atas kota,\" kata Tripadvisor.\\xa0 Sementara peringkat kedua adalah Bali, Indonesia. London yang mempetrahankan posisinya sebagai \\xa0kota nomor satu di Eropa, menempati urutan ketiga.\\xa0 10 besar destinasi populer Traveller\\'s Choice TripAdvisor Awards 1. Dubai2. Bali3. London4. Hanoi5. Roma6. Paris7. Cancun\\xa09. Creta\\xa010. Hoi An\\xa0 Sedangkan destinasi di Amerika dengan peringkat tertinggi adalah New York. Secara keseluruhan turun dari peringkat 23 menjadi 25. Kategori lain dari Traveller\\'s Choice TripAdvisor Awards, termasuk Destinasi Trending. Kategori ini menilai lokasi di seluruh dunia yang mengalami pertumbuhan minat terbesar dari tahun ke tahun di TripAdvisor.\\xa0 Tahun ini yang menduduki peringkat teratas adalah Tokyo, ibu kota Jepang. Menurur TripAdvisor, kota ini terkenal dengan kemajuannya. Tapi kuil Budha kuno, kedai teh kuno, dan tamannya yang tenang menawarkan pelarian yang tenang. Destinasi ini mengingatkan akan masa lalunya.\\xa0 Sedangkan di peringkat kedua adalah Seoul, ibu kota Korea Selatan. Kota yang semakin terkenal berkat gelombang budaya dan kesenian pop ini menarik untuk dikunjungi.\\xa0 Salah satu destinasi menarik yang dapat dikunjungi adalah Menara N Seoul yang dibangun di puncak Taman Namsan. Jika ingin menikmati cita rasa Korea kunjungi dkedai teh di Insadong.\\xa0 Destinasi trending ketiga masih dari Asia, yaitu Halong Bay, di Vietnam. Di kawasan ini wisatawan dapat menyewa kayak atau mengikuti tur untuk menjelajahi \\'pulau-pulau batu kapur, formasi batuan, dan gua yang menakjubkan. DAILYMAIL\\xa0 Pilihan editor: Bali Raih Penghargaan dari TripAdvisor, Ungguli London dan Paris '"
      ]
     },
     "execution_count": 203,
     "metadata": {},
     "output_type": "execute_result"
    }
   ],
   "source": [
    "article_description"
   ]
  },
  {
   "cell_type": "code",
   "execution_count": null,
   "id": "86e7890a-4307-4d95-9b03-7e3483a33981",
   "metadata": {},
   "outputs": [],
   "source": []
  }
 ],
 "metadata": {
  "kernelspec": {
   "display_name": "Python 3 (ipykernel)",
   "language": "python",
   "name": "python3"
  },
  "language_info": {
   "codemirror_mode": {
    "name": "ipython",
    "version": 3
   },
   "file_extension": ".py",
   "mimetype": "text/x-python",
   "name": "python",
   "nbconvert_exporter": "python",
   "pygments_lexer": "ipython3",
   "version": "3.8.18"
  }
 },
 "nbformat": 4,
 "nbformat_minor": 5
}
